{
 "cells": [
  {
   "cell_type": "markdown",
   "metadata": {},
   "source": [
    "Supervised learning involves somehow modeling the relationship between measured features of data and some label associated with the data; once this model is determined, it can be used to apply labels to new, unknown data. This is further subdivided into classification tasks and regression tasks: in classification, the labels are discrete categories, while in regression, the labels are continuous quantities. We will see examples of both types of supervised learning in the following section."
   ]
  },
  {
   "cell_type": "markdown",
   "metadata": {},
   "source": [
    "- So, Supervised learning deals with CLASSIFICATION (labels are discrete categories)"
   ]
  },
  {
   "cell_type": "markdown",
   "metadata": {},
   "source": [
    "Unsupervised learning involves modeling the features of a dataset without reference to any label, and is often described as \"letting the dataset speak for itself.\" These models include tasks such as clustering and dimensionality reduction. Clustering algorithms identify distinct groups of data, while dimensionality reduction algorithms search for more succinct representations of the data. We will see examples of both types of unsupervised learning in the following section."
   ]
  },
  {
   "cell_type": "markdown",
   "metadata": {},
   "source": [
    "- So, Unsupervised learning deals with CLUSTERING (identify distinct groups of data)"
   ]
  },
  {
   "cell_type": "markdown",
   "metadata": {},
   "source": [
    "I have been using CLASSIFICATION and CLUSTERING almost synonymously, and this is likely something that I need to fix. Which one I choose depends on which type of learning style I will be using."
   ]
  },
  {
   "cell_type": "markdown",
   "metadata": {},
   "source": [
    "Since I have TRAINING DATA that I will use to test the system, and then throw unknowns at it, my research suits the goals of SUPERVISED LEARNING and thus I should preferrentialy use the term CLASSIFICATION."
   ]
  },
  {
   "cell_type": "markdown",
   "metadata": {},
   "source": [
    "I can, however, use the term CLUSTERING when referring specifically to UNKNOWN data; pour example, I can say that \"clusters of exoplanets appear here\" when referring to unknown datasets, and as such follow up with \"these CLUSTERS fit into these CLASSIFICATIONS\" (Categories?)"
   ]
  },
  {
   "cell_type": "markdown",
   "metadata": {
    "collapsed": true
   },
   "source": [
    "(This is not to day that I should *limit* myself to just this; if it becomes clear that one (or more!) other systems also fits, I should not limit myself to just the original nomenclature)"
   ]
  }
 ],
 "metadata": {
  "kernelspec": {
   "display_name": "Python 3",
   "language": "python",
   "name": "python3"
  },
  "language_info": {
   "codemirror_mode": {
    "name": "ipython",
    "version": 3
   },
   "file_extension": ".py",
   "mimetype": "text/x-python",
   "name": "python",
   "nbconvert_exporter": "python",
   "pygments_lexer": "ipython3",
   "version": "3.5.1"
  }
 },
 "nbformat": 4,
 "nbformat_minor": 0
}
