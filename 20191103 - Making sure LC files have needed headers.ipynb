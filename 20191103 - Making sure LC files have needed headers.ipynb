{
 "cells": [
  {
   "cell_type": "code",
   "execution_count": 1,
   "metadata": {
    "collapsed": true,
    "deletable": true,
    "editable": true
   },
   "outputs": [],
   "source": [
    "# Scientific imports\n",
    "\n",
    "%matplotlib inline\n",
    "from astropy.io import fits\n",
    "import matplotlib.pyplot as plt\n",
    "import numpy as np\n",
    "from astroquery.mast import Observations\n",
    "from astroquery.mast import Catalogs\n",
    "\n",
    "# General imports\n",
    "\n",
    "import csv, math, os, os.path, sys\n",
    "import pandas as pd\n",
    "import seaborn as sb\n",
    "from sklearn import metrics\n",
    "from IPython.display import display\n",
    "\n",
    "sb.set()"
   ]
  },
  {
   "cell_type": "markdown",
   "metadata": {
    "deletable": true,
    "editable": true
   },
   "source": [
    "Let's make a function such that I can check to see if the required headers to plot a LC are present in our dataset"
   ]
  },
  {
   "cell_type": "code",
   "execution_count": 9,
   "metadata": {
    "collapsed": true,
    "deletable": true,
    "editable": true
   },
   "outputs": [],
   "source": [
    "def areAllHeadersPresent(heads):\n",
    "    \"\"\"\n",
    "    A function to make sure that all headers required for plotting a Light Curve\n",
    "    are present, and alert the user if any are missing (and which ones).\n",
    "    \n",
    "    Input parameter (heads) should be: heads=fits.getheader(\"file.fits\")\n",
    "    \"\"\"\n",
    "    \n",
    "    # Generic Flag\n",
    "    allgood = True\n",
    "    \n",
    "    # List of needed headers\n",
    "    neededHeaders = ['TEFF', 'LOGG', 'TESSMAG',\n",
    "                     'TPERIOD', 'TDUR', 'TEPOCH', 'TDEPTH',\n",
    "                     'TIME', 'PHASE', 'LC_INIT', 'MODEL_INIT']\n",
    "    \n",
    "    # Loop through all headers and see if they are present using a Try/Except block\n",
    "    for i in range (len(neededHeaders)):\n",
    "        try:\n",
    "            heads[neededHeaders[i]]\n",
    "        except:\n",
    "            #print(\"Header {} not present!\".format(neededHeaders[i]))\n",
    "            allgood = False\n",
    "        #else:\n",
    "        #    print(\"{}: {}\".format(neededHeaders[i], heads[neededHeaders[i]]))\n",
    "    return allgood\n",
    "\n",
    "#areAllHeadersPresent(fitsHeaders)"
   ]
  },
  {
   "cell_type": "code",
   "execution_count": 10,
   "metadata": {
    "collapsed": false,
    "deletable": true,
    "editable": true
   },
   "outputs": [
    {
     "name": "stdout",
     "output_type": "stream",
     "text": [
      "Number of FITS files: 27\n",
      "0: ./kplr010666592-2009131105131_llc.fits\n",
      "1: ./mastDownload/IUE/lwp13058/lwp13058mxlo_vo.fits\n",
      "2: ./mastDownload/TESS/tess2018206045859-s0001-0000000270501383-0120-s/tess2018206045859-s0001-0000000270501383-0120-s_lc.fits\n",
      "3: ./mastDownload/TESS/tess2018206045859-s0001-0000000270501383-0120-s/tess2018206045859-s0001-0000000270501383-0120-s_tp.fits\n",
      "4: ./mastDownload/TESS/tess2018206045859-s0001-0000000097409519-0120-s/tess2018206045859-s0001-0000000097409519-0120-s_lc.fits\n",
      "5: ./mastDownload/TESS/tess2018206045859-s0001-0000000097409519-0120-s/tess2018206045859-s0001-0000000097409519-0120-s_tp.fits\n",
      "6: ./mastDownload/TESS/tess2018206045859-s0001-0000000097409519-0120-s/tess2018206190142-s0001-s0001-0000000097409519-00106_dvt.fits\n",
      "7: ./mastDownload/TESS/tess2018206045859-s0001-0000000099837626-0120-s/tess2018206045859-s0001-0000000099837626-0120-s_tp.fits\n",
      "8: ./mastDownload/TESS/tess2018206045859-s0001-0000000099837626-0120-s/tess2018206045859-s0001-0000000099837626-0120-s_lc.fits\n",
      "9: ./mastDownload/TESS/tess2018206045859-s0001-0000000325178933-0120-s/tess2018206045859-s0001-0000000325178933-0120-s_tp.fits\n",
      "10: ./mastDownload/TESS/tess2018206045859-s0001-0000000325178933-0120-s/tess2018206045859-s0001-0000000325178933-0120-s_lc.fits\n",
      "11: ./mastDownload/TESS/tess2018206045859-s0001-0000000277774779-0120-s/tess2018206045859-s0001-0000000277774779-0120-s_lc.fits\n",
      "12: ./mastDownload/TESS/tess2018206045859-s0001-0000000277774779-0120-s/tess2018206045859-s0001-0000000277774779-0120-s_tp.fits\n",
      "13: ./mastDownload/TESS/tess2018206045859-s0001-0000000139754153-0120-s/tess2018206045859-s0001-0000000139754153-0120-s_lc.fits\n",
      "14: ./mastDownload/TESS/tess2018206045859-s0001-0000000139754153-0120-s/tess2018206045859-s0001-0000000139754153-0120-s_tp.fits\n",
      "15: ./mastDownload/TESS/tess2018206045859-s0001-0000000388104525-0120-s/tess2018206045859-s0001-0000000388104525-0120-s_tp.fits\n",
      "16: ./mastDownload/TESS/tess2018206045859-s0001-0000000388104525-0120-s/tess2018206190142-s0001-s0001-0000000388104525-00106_dvt.fits\n",
      "17: ./mastDownload/TESS/tess2018206045859-s0001-0000000388104525-0120-s/tess2018206045859-s0001-0000000388104525-0120-s_lc.fits\n",
      "18: ./mastDownload/TESS/tess2018206045859-s0001-0000000290543478-0120-s/tess2018206045859-s0001-0000000290543478-0120-s_tp.fits\n",
      "19: ./mastDownload/TESS/tess2018206045859-s0001-0000000290543478-0120-s/tess2018206045859-s0001-0000000290543478-0120-s_lc.fits\n",
      "20: ./mastDownload/TESS/tess2018206045859-s0001-0000000281461362-0120-s/tess2018206045859-s0001-0000000281461362-0120-s_tp.fits\n",
      "21: ./mastDownload/TESS/tess2018206045859-s0001-0000000281461362-0120-s/tess2018206045859-s0001-0000000281461362-0120-s_lc.fits\n",
      "22: ./mastDownload/TESS/tess2018206045859-s0001-0000000025155310-0120-s/tess2018206045859-s0001-0000000025155310-0120-s_lc.fits\n",
      "23: ./mastDownload/TESS/tess2018206045859-s0001-0000000025155310-0120-s/tess2018206190142-s0001-s0001-0000000025155310-00106_dvt.fits\n",
      "24: ./mastDownload/TESS/tess2018206045859-s0001-0000000025155310-0120-s/tess2018206045859-s0001-0000000025155310-0120-s_tp.fits\n",
      "25: ./mastDownload/TESS/tess2018206045859-s0001-0000000141411201-0120-s/tess2018206045859-s0001-0000000141411201-0120-s_lc.fits\n",
      "26: ./mastDownload/TESS/tess2018206045859-s0001-0000000141411201-0120-s/tess2018206045859-s0001-0000000141411201-0120-s_tp.fits\n"
     ]
    }
   ],
   "source": [
    "# Reading which LC datafiles we have into a list\n",
    "\n",
    "fitsList = []\n",
    "fits_directories = [x[0] for x in os.walk('.')]\n",
    "\n",
    "for fits_root, fits_dirs, fits_files in os.walk('.'):\n",
    "    for fits_file in fits_files:\n",
    "        fullpath = os.path.join(fits_root, fits_file)\n",
    "        if (os.path.splitext(fullpath.lower())[1]).endswith('.fits'):\n",
    "            fitsList.append(fullpath)\n",
    "print(\"Number of FITS files: {}\".format(len(fitsList)))\n",
    "for num, i in enumerate(fitsList):\n",
    "    print (\"{}: {}\".format(num, i))"
   ]
  },
  {
   "cell_type": "code",
   "execution_count": 12,
   "metadata": {
    "collapsed": false,
    "deletable": true,
    "editable": true
   },
   "outputs": [],
   "source": [
    "#file = fitsList[0]\n",
    "#check = fits.info(file)\n",
    "#############################fitsHeaders = fits.getheader(file)\n",
    "#fitsHeaders"
   ]
  },
  {
   "cell_type": "markdown",
   "metadata": {
    "deletable": true,
    "editable": true
   },
   "source": [
    "Now that we have the list of FITS files, and our function to see if all required headers are present, let's loop through them all to see if *any* of them have **all** the required headers:"
   ]
  },
  {
   "cell_type": "code",
   "execution_count": 13,
   "metadata": {
    "collapsed": false,
    "deletable": true,
    "editable": true
   },
   "outputs": [
    {
     "name": "stdout",
     "output_type": "stream",
     "text": [
      "0:   False\n",
      "1:   False\n",
      "2:   False\n",
      "3:   False\n",
      "4:   False\n",
      "5:   False\n",
      "6:   False\n",
      "7:   False\n",
      "8:   False\n",
      "9:   False\n",
      "10:   False\n",
      "11:   False\n",
      "12:   False\n",
      "13:   False\n",
      "14:   False\n",
      "15:   False\n",
      "16:   False\n",
      "17:   False\n",
      "18:   False\n",
      "19:   False\n",
      "20:   False\n",
      "21:   False\n",
      "22:   False\n",
      "23:   False\n",
      "24:   False\n",
      "25:   False\n",
      "26:   False\n"
     ]
    }
   ],
   "source": [
    "for i in range(len(fitsList)):\n",
    "    tmp = fits.getheader(fitsList[i])\n",
    "    print(\"{}:   {}\".format(i, areAllHeadersPresent(tmp)))"
   ]
  },
  {
   "cell_type": "markdown",
   "metadata": {
    "deletable": true,
    "editable": true
   },
   "source": [
    "Oh... Huh. Joy of joys... I might need to re-assess what is a \"required\" header and which is not.\n",
    "\n",
    "(One thing to note: Fields with a leading \"T\" are likely because we are looking for \"TESS\" based results; if we were using Kepler results, we'd probably wanna look for \"KEPMAG\", \"KPERIOD\", \"KEPOCH\" etc)"
   ]
  },
  {
   "cell_type": "markdown",
   "metadata": {
    "collapsed": true,
    "deletable": true,
    "editable": true
   },
   "source": [
    "Next step - working out the _bare essential_ headers required to make a Light Curve!"
   ]
  },
  {
   "cell_type": "code",
   "execution_count": null,
   "metadata": {
    "collapsed": true
   },
   "outputs": [],
   "source": []
  }
 ],
 "metadata": {
  "kernelspec": {
   "display_name": "Python 3",
   "language": "python",
   "name": "python3"
  },
  "language_info": {
   "codemirror_mode": {
    "name": "ipython",
    "version": 3
   },
   "file_extension": ".py",
   "mimetype": "text/x-python",
   "name": "python",
   "nbconvert_exporter": "python",
   "pygments_lexer": "ipython3",
   "version": "3.5.6"
  }
 },
 "nbformat": 4,
 "nbformat_minor": 0
}
