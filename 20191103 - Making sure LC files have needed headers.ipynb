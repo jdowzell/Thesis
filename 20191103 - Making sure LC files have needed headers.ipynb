{
 "cells": [
  {
   "cell_type": "code",
   "execution_count": 5,
   "metadata": {
    "collapsed": true
   },
   "outputs": [],
   "source": [
    "# Scientific imports\n",
    "\n",
    "%matplotlib inline\n",
    "from astropy.io import fits\n",
    "import matplotlib.pyplot as plt\n",
    "import numpy as np\n",
    "from astroquery.mast import Observations\n",
    "from astroquery.mast import Catalogs\n",
    "\n",
    "# General imports\n",
    "\n",
    "import csv, math, os, os.path, sys\n",
    "import pandas as pd\n",
    "import seaborn as sb\n",
    "from sklearn import metrics\n",
    "from IPython.display import display\n",
    "\n",
    "sb.set()"
   ]
  },
  {
   "cell_type": "markdown",
   "metadata": {},
   "source": [
    "Let's make a function such that I can check to see if the required headers to plot a LC are present in our dataset"
   ]
  },
  {
   "cell_type": "code",
   "execution_count": 6,
   "metadata": {
    "collapsed": true
   },
   "outputs": [],
   "source": [
    "def areAllHeadersPresent(heads):\n",
    "    \"\"\"\n",
    "    A function to make sure that all headers required for plotting a Light Curve\n",
    "    are present, and alert the user if any are missing (and which ones).\n",
    "    \n",
    "    Input parameter (heads) should be of the form: heads=fits.getheader(\"file.fits\")\n",
    "    \"\"\"\n",
    "    \n",
    "    # Generic Flag\n",
    "    allgood = True\n",
    "    \n",
    "    # List of needed headers\n",
    "    neededHeaders = ['TEFF', 'LOGG', 'TESSMAG',\n",
    "                     'TPERIOD', 'TDUR', 'TEPOCH', 'TDEPTH',\n",
    "                     'TIME', 'PHASE', 'LC_INIT', 'MODEL_INIT']\n",
    "    \n",
    "    # Loop through all headers and see if they are present using a Try/Except block\n",
    "    for i in range (len(neededHeaders)):\n",
    "        try:\n",
    "            heads[neededHeaders[i]]\n",
    "        except:\n",
    "            #print(\"Header {} not present!\".format(neededHeaders[i]))\n",
    "            allgood = False\n",
    "        #else:\n",
    "        #    print(\"{}: {}\".format(neededHeaders[i], heads[neededHeaders[i]]))\n",
    "    return allgood\n",
    "\n",
    "#areAllHeadersPresent(fitsHeaders)"
   ]
  },
  {
   "cell_type": "code",
   "execution_count": 7,
   "metadata": {},
   "outputs": [
    {
     "name": "stdout",
     "output_type": "stream",
     "text": [
      "Number of FITS files: 27\n"
     ]
    }
   ],
   "source": [
    "# Reading which LC datafiles we have into a list\n",
    "\n",
    "fitsList = []\n",
    "fits_directories = [x[0] for x in os.walk('.')]\n",
    "\n",
    "for fits_root, fits_dirs, fits_files in os.walk('.'):\n",
    "    for fits_file in fits_files:\n",
    "        fullpath = os.path.join(fits_root, fits_file)\n",
    "        if (os.path.splitext(fullpath.lower())[1]).endswith('.fits'):\n",
    "            fitsList.append(fullpath)\n",
    "print(\"Number of FITS files: {}\".format(len(fitsList)))\n",
    "#for num, i in enumerate(fitsList):\n",
    "#    print (\"{}: {}\".format(num, i))"
   ]
  },
  {
   "cell_type": "code",
   "execution_count": 8,
   "metadata": {},
   "outputs": [],
   "source": [
    "#file = fitsList[0]\n",
    "#check = fits.info(file)\n",
    "#############################fitsHeaders = fits.getheader(file)\n",
    "#fitsHeaders"
   ]
  },
  {
   "cell_type": "markdown",
   "metadata": {},
   "source": [
    "Now that we have the list of FITS files, and our function to see if all required headers are present, let's loop through them all to see if *any* of them have **all** the required headers:"
   ]
  },
  {
   "cell_type": "code",
   "execution_count": 9,
   "metadata": {},
   "outputs": [
    {
     "name": "stdout",
     "output_type": "stream",
     "text": [
      "0:   False\n",
      "1:   False\n",
      "2:   False\n",
      "3:   False\n",
      "4:   False\n",
      "5:   False\n",
      "6:   False\n",
      "7:   False\n",
      "8:   False\n",
      "9:   False\n",
      "10:   False\n",
      "11:   False\n",
      "12:   False\n",
      "13:   False\n",
      "14:   False\n",
      "15:   False\n",
      "16:   False\n",
      "17:   False\n",
      "18:   False\n",
      "19:   False\n",
      "20:   False\n",
      "21:   False\n",
      "22:   False\n",
      "23:   False\n",
      "24:   False\n",
      "25:   False\n",
      "26:   False\n"
     ]
    }
   ],
   "source": [
    "for i in range(len(fitsList)):\n",
    "    tmp = fits.getheader(fitsList[i])\n",
    "    print(\"{}:   {}\".format(i, areAllHeadersPresent(tmp)))"
   ]
  },
  {
   "cell_type": "markdown",
   "metadata": {},
   "source": [
    "Oh... Huh. Joy of joys... I might need to re-assess what is a \"required\" header and which is not.\n",
    "\n",
    "(One thing to note: Fields with a leading \"T\" are likely because we are looking for \"TESS\" based results; if we were using Kepler results, we'd probably wanna look for \"KEPMAG\", \"KPERIOD\", \"KEPOCH\" etc)"
   ]
  },
  {
   "cell_type": "markdown",
   "metadata": {
    "collapsed": true
   },
   "source": [
    "Next step - working out the _bare essential_ headers required to make a Light Curve!"
   ]
  },
  {
   "cell_type": "code",
   "execution_count": null,
   "metadata": {
    "collapsed": true
   },
   "outputs": [],
   "source": []
  }
 ],
 "metadata": {
  "kernelspec": {
   "display_name": "Python 3",
   "language": "python",
   "name": "python3"
  },
  "language_info": {
   "codemirror_mode": {
    "name": "ipython",
    "version": 3
   },
   "file_extension": ".py",
   "mimetype": "text/x-python",
   "name": "python",
   "nbconvert_exporter": "python",
   "pygments_lexer": "ipython3",
   "version": "3.7.4"
  }
 },
 "nbformat": 4,
 "nbformat_minor": 1
}
