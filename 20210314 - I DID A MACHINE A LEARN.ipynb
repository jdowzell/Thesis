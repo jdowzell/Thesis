{
 "cells": [
  {
   "cell_type": "code",
   "execution_count": 1,
   "metadata": {},
   "outputs": [],
   "source": [
    "# %load master-import.py\n",
    "#!/usr/bin/env python3\n",
    "\n",
    "################################\n",
    "# Scientific imports\n",
    "###\n",
    "%matplotlib inline\n",
    "from astropy.io import fits\n",
    "import matplotlib.pyplot as plt\n",
    "import numpy as np\n",
    "from astroquery.mast import Observations\n",
    "from astroquery.mast import Catalogs\n",
    "\n",
    "###\n",
    "# General imports\n",
    "###\n",
    "import csv, math, io, os, os.path, sys, random\n",
    "import pandas as pd\n",
    "import seaborn as sb\n",
    "import sklearn\n",
    "from sklearn import metrics\n",
    "from IPython.display import display\n",
    "\n",
    "plt.rcParams[\"figure.figsize\"] = (20,9)\n",
    "sb.set()\n",
    "\n",
    "###\n",
    "# Global Variables\n",
    "###\n",
    "# Lists\n",
    "fitsList=[]\n",
    "starlist=[]\n",
    "planetlist=[]\n",
    "eblist=[]\n",
    "beblist=[]\n",
    "dataset = pd.DataFrame(columns=['id', 'vals', 'isplanet'])\n",
    "\n",
    "# List Holder\n",
    "alllists = {}\n",
    "\n",
    "# Keep track of current LC and it's TIC identifier\n",
    "lastRandom={\n",
    "    \"number\": 0,\n",
    "    \"id\": 0\n",
    "}\n",
    "\n",
    "################################\n",
    "# Functions\n",
    "###\n",
    "# Function for Reading which LC datafiles we have into a list\n",
    "def MakingAList(prnt=False):\n",
    "    fl = []\n",
    "    fitsroot = \"SIM_DATA/\"\n",
    "    fits_directories = [x[0] for x in os.walk('./SIM_DATA/.', topdown=True)]\n",
    "\n",
    "    for fitsroot, fits_dirs, fits_files in os.walk(fitsroot):\n",
    "        for fits_file in fits_files:\n",
    "            fullpath = os.path.join(fitsroot, fits_file)\n",
    "            if (os.path.splitext(fullpath.lower())[1]).endswith('.fits'):\n",
    "                fl.append(fullpath)\n",
    "    if prnt==True:\n",
    "        print(\"Number of FITS files: {}\".format(len(fl)))\n",
    "    #print(len(fl))\n",
    "    return fl\n",
    "\n",
    "# Chooses a random number\n",
    "def GetRandomLC(n = None):\n",
    "    global lastRandom\n",
    "    #print(\"1: {}\".format(n))\n",
    "    if isinstance(n, int):\n",
    "        if 0 <= n < len(fitsList):\n",
    "            n = n\n",
    "        else:\n",
    "            n = random.randint(0,len(fitsList))\n",
    "    else:\n",
    "        n = random.randint(0,len(fitsList))\n",
    "    \n",
    "    lastRandom[\"number\"] = n\n",
    "    lastRandom[\"id\"] = str(fitsList[n].split(\"-\")[2].lstrip(\"0\"))\n",
    "    return n\n",
    "\n",
    "def DrawACurve(n=None):\n",
    "    rndFile = GetRandomLC() if n == None else GetRandomLC(n)\n",
    "    fitsFile = fitsList[rndFile]\n",
    "    \n",
    "    # The following line of code gives us the header values\n",
    "    fitsHeaders = fits.getheader(fitsFile)\n",
    "\n",
    "    with fits.open(fitsFile, mode=\"readonly\") as hdulist:\n",
    "\n",
    "        # Extract stellar parameters from the primary header.  We'll get the effective temperature, surface gravity,\n",
    "        # and TESS magnitude.\n",
    "        star_teff = hdulist[0].header['TEFF']\n",
    "        star_logg = hdulist[0].header['LOGG']\n",
    "        star_tmag = hdulist[0].header['TESSMAG']\n",
    "        obj = hdulist[0].header['OBJECT']\n",
    "        sector = hdulist[0].header['SECTOR']\n",
    "\n",
    "        # Extract some of the fit parameters for the first TCE.  These are stored in the FITS header of the first\n",
    "        # extension.\n",
    "        #period = hdulist[1].header['TPERIOD']\n",
    "        #duration = hdulist[1].header['TDUR']\n",
    "        duration = (hdulist[1].header['LIVETIME'])\n",
    "        #epoch = hdulist[1].header['TEPOCH']\n",
    "        #depth = hdulist[1].header['TDEPTH']\n",
    "\n",
    "        # Extract some of the columns of interest for the first TCE signal.  These are stored in the binary FITS table\n",
    "        # in the first extension.  We'll extract the timestamps in TBJD, phase, initial fluxes, and corresponding\n",
    "        # model fluxes.\n",
    "        #times = hdulist[1].data['TIME']\n",
    "        #phases = hdulist[1].data['PHASE']\n",
    "        #fluxes_init = hdulist[1].data['LC_INIT']\n",
    "        #model_fluxes_init = hdulist[1].data['MODEL_INIT']\n",
    "        tess_bjds = hdulist[1].data['TIME']\n",
    "        sap_fluxes = hdulist[1].data['SAP_FLUX']\n",
    "        pdcsap_fluxes = hdulist[1].data['PDCSAP_FLUX']\n",
    "\n",
    "    # Define the epoch of primary transit in TBJD.  Our timestamps are also already in TBJD.\n",
    "    #t0 = 1327.520678\n",
    "\n",
    "    # Start figure and axis.\n",
    "    fig, ax = plt.subplots()\n",
    "\n",
    "    # Plot the timeseries in black circles.\n",
    "    ## Using the [1:-1] identifier to cut off the leading and trailing zeroes\n",
    "\n",
    "    ax.plot(tess_bjds[1:-1], pdcsap_fluxes[1:-1], 'k.', markersize=1)\n",
    "\n",
    "    # Center the x-axis on where we expect a transit to be (time = T0), and set\n",
    "    # the x-axis range within +/- 1 day of T0.\n",
    "    ########ax.set_xlim(t0 - 1.0, t0 + 1.0)\n",
    "\n",
    "    # Overplot a red vertical line that should be where the transit occurs.\n",
    "    ########ax.axvline(x=t0, color=\"red\")\n",
    "\n",
    "    # Let's label the axes and define a title for the figure.\n",
    "    fig.suptitle(CurrentLC())\n",
    "    ax.set_ylabel(\"PDCSAP Flux (e-/s)\")\n",
    "    ax.set_xlabel(\"Time (TBJD)\")\n",
    "\n",
    "    # Adjust the left margin so the y-axis label shows up.\n",
    "    plt.subplots_adjust(left=0.15)\n",
    "    #plt.figure(figsize=(2,8))\n",
    "    plt.show()\n",
    "    \n",
    "def LoadListGeneral(f):\n",
    "    lst=[]\n",
    "    try:\n",
    "        # Assuming everything CAN go well, do this\n",
    "        with open('./SIM_DATA/unpacked/{}'.format(f)) as df:\n",
    "            csvdf = csv.reader(df)\n",
    "            for lineholder in csvdf:\n",
    "                line = lineholder[0]                # I don't know why but this makes it work better\n",
    "                if line[0]!=\"#\":                    # Ignore commented lines (lines w/ FIRST STRING ELEMENT is a # character)\n",
    "                    lst.append(line.split()[0])       # Add line to list\n",
    "                # endif\n",
    "            # endfor\n",
    "        # endwith\n",
    "    except FileNotFoundError:\n",
    "        print(\"FNF\")\n",
    "        return\n",
    "    # end try\n",
    "    return lst\n",
    "\n",
    "def LoadList(itemtype=\"all\"):\n",
    "    \n",
    "    pl=\"tsop301_planet_data.txt\"\n",
    "    sl=\"tsop301_star_data.txt\"\n",
    "    ebl=\"tsop301_eb_data.txt\"\n",
    "    bebl=\"tsop301_backeb_data.txt\"\n",
    "    \n",
    "    foundflag=False\n",
    "    \n",
    "    # itemtype = (S)tar, (P)lanet, (E)clipsing (B)inary, or (B)ack (E)clipsing (B)inary\n",
    "    if itemtype.lower() in [\"s\", \"star\", \"all\"]:\n",
    "        foundflag = True\n",
    "        global starlist\n",
    "        starlist = LoadListGeneral(sl)\n",
    "        print(\"Loading star list: {}\".format(sl))\n",
    "    if itemtype.lower() in [\"p\", \"planet\", \"all\"]:\n",
    "        foundflag = True\n",
    "        global planetlist\n",
    "        planetlist = LoadListGeneral(pl)\n",
    "        print (\"loading planet list: {}\".format(pl))\n",
    "    if itemtype.lower() in [\"eb\", \"eclipsing binary\", \"eclipsingbinary\", \"all\"]:\n",
    "        foundflag = True\n",
    "        global eblist\n",
    "        eblist = LoadListGeneral(ebl)\n",
    "        print (\"loading eb list: {}\".format(ebl))\n",
    "    if itemtype.lower() in [\"beb\", \"back eclipsing binary\", \"backeclipsingbinary\", \"all\"]:\n",
    "        foundflag = True\n",
    "        global beblist\n",
    "        beblist = LoadListGeneral(bebl)\n",
    "        print (\"loading beb list: {}\".format(bebl))\n",
    "        \n",
    "    if foundflag:\n",
    "        global alllists\n",
    "        alllists = {\"s\": starlist, \"p\": planetlist, \"eb\": eblist, \"beb\": beblist}\n",
    "        return\n",
    "    else:\n",
    "        # If an invalid selection has been entered\n",
    "        print(\"You must enter either:\\n\"\n",
    "               \"* \\\"S\\\" (or \\\"Star\\\")\\n\"\n",
    "               \"* \\\"P\\\" (or \\\"Planet\\\")\\n\"\n",
    "               \"* \\\"EB\\\" (or \\\"Eclipsing Binary\\\")\\n\"\n",
    "               \"* \\\"BEB\\\" (or \\\"Back Eclipsing Binary\\\")\")\n",
    "        \n",
    "def IsThisAStar(n):\n",
    "    return n in alllists[\"s\"]\n",
    "    \n",
    "def IsThisAPlanet(n):\n",
    "    return n in alllists[\"p\"]\n",
    "\n",
    "def IsThisAEB(n):\n",
    "    return n in alllists[\"eb\"]\n",
    "\n",
    "def IsThisABEB(n):\n",
    "    return n in alllists[\"beb\"]\n",
    "\n",
    "# Function to tell you what an item is\n",
    "def WhatIsMyLC(n):\n",
    "    lbl = []\n",
    "    lbl.append(\"Star\") if IsThisAStar(n) else lbl\n",
    "    lbl.append(\"Planet\") if IsThisAPlanet(n) else lbl\n",
    "    lbl.append(\"EB\") if IsThisAEB(n) else lbl\n",
    "    lbl.append(\"BRB\") if IsThisABEB(n) else lbl\n",
    "    \n",
    "    return \"UNKNOWN\" if lbl==[] else lbl\n",
    "\n",
    "# Purely for convenience\n",
    "def CurrentLC():\n",
    "    return (\"File № {} - {}\".format(lastRandom[\"number\"], lastRandom[\"id\"]))\n",
    "    \n",
    "# MAKE ME BIG DATAFRAME\n",
    "def MakeData():\n",
    "    \n",
    "    # Initiatate Dataframe\n",
    "    df = pd.DataFrame(columns=['id', 'vals', 'isplanet'])\n",
    "    \n",
    "    # Loop for each FITS file\n",
    "    for e, li in enumerate(fitsList[:101].copy()):\n",
    "        with fits.open (li, memmap=False) as f:\n",
    "            #Populate 'lastRandom' so store current number and id\n",
    "            GetRandomLC(e)\n",
    "            \n",
    "            # Get number and id\n",
    "            rnum = lastRandom[\"number\"]\n",
    "            rid = lastRandom[\"id\"]\n",
    "            \n",
    "            #add Data\n",
    "            df = df.append(pd.DataFrame([[rid,f[1].data['PDCSAP_FLUX'][1:-1],IsThisAPlanet(rid)]], columns=['id', 'vals', 'isplanet']), ignore_index=True)\n",
    "            #df = df.append(pd.DataFrame([[rid,'LOLE',IsThisAPlanet(rid)]], columns=['id', 'vals', 'isplanet']), ignore_index=True)\n",
    "    return(df)\n",
    "\n",
    "################################\n",
    "# RUN ALL INITIALISERS\n",
    "###\n",
    "def Initialise():\n",
    "    global fitsList\n",
    "    global dataset\n",
    "    print(\"Populating fitsList...\")\n",
    "    fitsList = MakingAList()\n",
    "    print(\"Loading the s/p/eb/beb Lists\")\n",
    "    LoadList()\n",
    "    print(\"Populating the DataFrame\")\n",
    "    dataset = MakeData()"
   ]
  },
  {
   "cell_type": "code",
   "execution_count": 2,
   "metadata": {},
   "outputs": [
    {
     "name": "stdout",
     "output_type": "stream",
     "text": [
      "Populating fitsList...\n",
      "Loading the s/p/eb/beb Lists\n",
      "Loading star list: tsop301_star_data.txt\n",
      "loading planet list: tsop301_planet_data.txt\n",
      "loading eb list: tsop301_eb_data.txt\n",
      "loading beb list: tsop301_backeb_data.txt\n",
      "Populating the DataFrame\n"
     ]
    }
   ],
   "source": [
    "Initialise()"
   ]
  },
  {
   "cell_type": "code",
   "execution_count": 3,
   "metadata": {},
   "outputs": [
    {
     "data": {
      "text/plain": [
       "0      [179952.0, 179979.34, 179668.58, 179833.98, 17...\n",
       "1      [21610.824, 21618.32, 21631.969, 21623.95, 216...\n",
       "2      [108729.734, 108670.54, 108613.875, 108629.734...\n",
       "3      [56039.613, 56027.977, 55994.34, 55974.965, 56...\n",
       "4      [18019.508, 17992.531, 17918.803, 18050.266, 1...\n",
       "                             ...                        \n",
       "96     [6429.8755, 6417.58, 6425.976, 6428.759, 6433....\n",
       "97     [33687.33, 33695.26, 33713.566, 33670.67, 3367...\n",
       "98     [8813.81, 8802.651, 8807.448, 8780.694, 8820.8...\n",
       "99     [3135.4832, 3158.8599, 3145.7952, 3146.2546, 3...\n",
       "100    [1875865.1, 1876130.9, 1877120.5, 1875987.9, 1...\n",
       "Name: vals, Length: 101, dtype: object"
      ]
     },
     "execution_count": 3,
     "metadata": {},
     "output_type": "execute_result"
    }
   ],
   "source": [
    "dataset['vals']"
   ]
  },
  {
   "cell_type": "code",
   "execution_count": 4,
   "metadata": {},
   "outputs": [
    {
     "data": {
      "application/vnd.jupyter.widget-view+json": {
       "model_id": "a6c941de55b64deb8417b6cff11d9d97",
       "version_major": 2,
       "version_minor": 0
      },
      "text/plain": [
       "  0%|          | 0/100 [00:00<?, ?it/s]"
      ]
     },
     "metadata": {},
     "output_type": "display_data"
    }
   ],
   "source": [
    "from tqdm.notebook import tqdm, trange\n",
    "import time    # to be used in loop iterations\n",
    "\n",
    "for i in range(100):\n",
    "    pass\n",
    "\n",
    "# Loop with a progress bar\n",
    "for i in trange(100):\n",
    "    time.sleep(0.01)"
   ]
  },
  {
   "cell_type": "code",
   "execution_count": 5,
   "metadata": {},
   "outputs": [
    {
     "data": {
      "application/vnd.jupyter.widget-view+json": {
       "model_id": "5d55100c33604f62acf2b686d93920f5",
       "version_major": 2,
       "version_minor": 0
      },
      "text/plain": [
       "  0%|          | 0/30 [00:00<?, ?it/s]"
      ]
     },
     "metadata": {},
     "output_type": "display_data"
    },
    {
     "name": "stdout",
     "output_type": "stream",
     "text": [
      "1370: Current File is SIM_DATA/tess2018191215100-s0001-0000000150389603-0001-a_lc.fits\n",
      "1371: Current File is SIM_DATA/tess2018191215100-s0001-0000000351332613-0001-a_lc.fits\n",
      "1372: Current File is SIM_DATA/tess2018191215100-s0001-0000000032069304-0001-a_lc.fits\n",
      "1373: Current File is SIM_DATA/tess2018191215100-s0001-0000000261399229-0001-a_lc.fits\n",
      "1374: Current File is SIM_DATA/tess2018191215100-s0001-0000000238189798-0001-a_lc.fits\n",
      "1375: Current File is SIM_DATA/tess2018191215100-s0001-0000000031945773-0001-a_lc.fits\n",
      "1376: Current File is SIM_DATA/tess2018191215100-s0001-0000000280051640-0001-a_lc.fits\n",
      "1377: Current File is SIM_DATA/tess2018191215100-s0001-0000000303974589-0001-a_lc.fits\n",
      "1378: Current File is SIM_DATA/tess2018191215100-s0001-0000000315881510-0001-a_lc.fits\n",
      "1379: Current File is SIM_DATA/tess2018191215100-s0001-0000000114272629-0001-a_lc.fits\n",
      "1380: Current File is SIM_DATA/tess2018191215100-s0001-0000000177165931-0001-a_lc.fits\n"
     ]
    },
    {
     "name": "stderr",
     "output_type": "stream",
     "text": [
      "WARNING: File may have been truncated: actual file length (262144) is smaller than the expected size (2056320) [astropy.io.fits.file]\n"
     ]
    },
    {
     "ename": "ValueError",
     "evalue": "cannot reshape array of size 2419 into shape (20340,)",
     "output_type": "error",
     "traceback": [
      "\u001b[0;31m---------------------------------------------------------------------------\u001b[0m",
      "\u001b[0;31mValueError\u001b[0m                                Traceback (most recent call last)",
      "\u001b[0;32m<ipython-input-5-8ebb3802c0be>\u001b[0m in \u001b[0;36m<module>\u001b[0;34m\u001b[0m\n\u001b[1;32m     20\u001b[0m         \u001b[0;31m#time.sleep(0.0001)\u001b[0m\u001b[0;34m\u001b[0m\u001b[0;34m\u001b[0m\u001b[0;34m\u001b[0m\u001b[0m\n\u001b[1;32m     21\u001b[0m     \u001b[0;32mreturn\u001b[0m\u001b[0;34m(\u001b[0m\u001b[0mdf\u001b[0m\u001b[0;34m)\u001b[0m\u001b[0;34m\u001b[0m\u001b[0;34m\u001b[0m\u001b[0m\n\u001b[0;32m---> 22\u001b[0;31m \u001b[0mMakeDataBar\u001b[0m\u001b[0;34m(\u001b[0m\u001b[0;34m)\u001b[0m\u001b[0;34m\u001b[0m\u001b[0;34m\u001b[0m\u001b[0m\n\u001b[0m",
      "\u001b[0;32m<ipython-input-5-8ebb3802c0be>\u001b[0m in \u001b[0;36mMakeDataBar\u001b[0;34m()\u001b[0m\n\u001b[1;32m     16\u001b[0m \u001b[0;34m\u001b[0m\u001b[0m\n\u001b[1;32m     17\u001b[0m             \u001b[0;31m#add Data\u001b[0m\u001b[0;34m\u001b[0m\u001b[0;34m\u001b[0m\u001b[0;34m\u001b[0m\u001b[0m\n\u001b[0;32m---> 18\u001b[0;31m             \u001b[0mdf\u001b[0m \u001b[0;34m=\u001b[0m \u001b[0mdf\u001b[0m\u001b[0;34m.\u001b[0m\u001b[0mappend\u001b[0m\u001b[0;34m(\u001b[0m\u001b[0mpd\u001b[0m\u001b[0;34m.\u001b[0m\u001b[0mDataFrame\u001b[0m\u001b[0;34m(\u001b[0m\u001b[0;34m[\u001b[0m\u001b[0;34m[\u001b[0m\u001b[0mrid\u001b[0m\u001b[0;34m,\u001b[0m\u001b[0mf\u001b[0m\u001b[0;34m[\u001b[0m\u001b[0;36m1\u001b[0m\u001b[0;34m]\u001b[0m\u001b[0;34m.\u001b[0m\u001b[0mdata\u001b[0m\u001b[0;34m[\u001b[0m\u001b[0;34m'PDCSAP_FLUX'\u001b[0m\u001b[0;34m]\u001b[0m\u001b[0;34m[\u001b[0m\u001b[0;36m1\u001b[0m\u001b[0;34m:\u001b[0m\u001b[0;34m-\u001b[0m\u001b[0;36m1\u001b[0m\u001b[0;34m]\u001b[0m\u001b[0;34m,\u001b[0m\u001b[0mIsThisAPlanet\u001b[0m\u001b[0;34m(\u001b[0m\u001b[0mrid\u001b[0m\u001b[0;34m)\u001b[0m\u001b[0;34m]\u001b[0m\u001b[0;34m]\u001b[0m\u001b[0;34m,\u001b[0m \u001b[0mcolumns\u001b[0m\u001b[0;34m=\u001b[0m\u001b[0;34m[\u001b[0m\u001b[0;34m'id'\u001b[0m\u001b[0;34m,\u001b[0m \u001b[0;34m'vals'\u001b[0m\u001b[0;34m,\u001b[0m \u001b[0;34m'isplanet'\u001b[0m\u001b[0;34m]\u001b[0m\u001b[0;34m)\u001b[0m\u001b[0;34m,\u001b[0m \u001b[0mignore_index\u001b[0m\u001b[0;34m=\u001b[0m\u001b[0;32mTrue\u001b[0m\u001b[0;34m)\u001b[0m\u001b[0;34m\u001b[0m\u001b[0;34m\u001b[0m\u001b[0m\n\u001b[0m\u001b[1;32m     19\u001b[0m             \u001b[0;31m#df = df.append(pd.DataFrame([[rid,'LOLE',IsThisAPlanet(rid)]], columns=['id', 'vals', 'isplanet']), ignore_index=True)\u001b[0m\u001b[0;34m\u001b[0m\u001b[0;34m\u001b[0m\u001b[0;34m\u001b[0m\u001b[0m\n\u001b[1;32m     20\u001b[0m         \u001b[0;31m#time.sleep(0.0001)\u001b[0m\u001b[0;34m\u001b[0m\u001b[0;34m\u001b[0m\u001b[0;34m\u001b[0m\u001b[0m\n",
      "\u001b[0;32m~/anaconda3/lib/python3.8/site-packages/astropy/utils/decorators.py\u001b[0m in \u001b[0;36m__get__\u001b[0;34m(self, obj, owner)\u001b[0m\n\u001b[1;32m    756\u001b[0m                 \u001b[0;32mreturn\u001b[0m \u001b[0mval\u001b[0m\u001b[0;34m\u001b[0m\u001b[0;34m\u001b[0m\u001b[0m\n\u001b[1;32m    757\u001b[0m             \u001b[0;32melse\u001b[0m\u001b[0;34m:\u001b[0m\u001b[0;34m\u001b[0m\u001b[0;34m\u001b[0m\u001b[0m\n\u001b[0;32m--> 758\u001b[0;31m                 \u001b[0mval\u001b[0m \u001b[0;34m=\u001b[0m \u001b[0mself\u001b[0m\u001b[0;34m.\u001b[0m\u001b[0mfget\u001b[0m\u001b[0;34m(\u001b[0m\u001b[0mobj\u001b[0m\u001b[0;34m)\u001b[0m\u001b[0;34m\u001b[0m\u001b[0;34m\u001b[0m\u001b[0m\n\u001b[0m\u001b[1;32m    759\u001b[0m                 \u001b[0mobj\u001b[0m\u001b[0;34m.\u001b[0m\u001b[0m__dict__\u001b[0m\u001b[0;34m[\u001b[0m\u001b[0mself\u001b[0m\u001b[0;34m.\u001b[0m\u001b[0m_key\u001b[0m\u001b[0;34m]\u001b[0m \u001b[0;34m=\u001b[0m \u001b[0mval\u001b[0m\u001b[0;34m\u001b[0m\u001b[0;34m\u001b[0m\u001b[0m\n\u001b[1;32m    760\u001b[0m                 \u001b[0;32mreturn\u001b[0m \u001b[0mval\u001b[0m\u001b[0;34m\u001b[0m\u001b[0;34m\u001b[0m\u001b[0m\n",
      "\u001b[0;32m~/anaconda3/lib/python3.8/site-packages/astropy/io/fits/hdu/table.py\u001b[0m in \u001b[0;36mdata\u001b[0;34m(self)\u001b[0m\n\u001b[1;32m    397\u001b[0m     \u001b[0;34m@\u001b[0m\u001b[0mlazyproperty\u001b[0m\u001b[0;34m\u001b[0m\u001b[0;34m\u001b[0m\u001b[0m\n\u001b[1;32m    398\u001b[0m     \u001b[0;32mdef\u001b[0m \u001b[0mdata\u001b[0m\u001b[0;34m(\u001b[0m\u001b[0mself\u001b[0m\u001b[0;34m)\u001b[0m\u001b[0;34m:\u001b[0m\u001b[0;34m\u001b[0m\u001b[0;34m\u001b[0m\u001b[0m\n\u001b[0;32m--> 399\u001b[0;31m         \u001b[0mdata\u001b[0m \u001b[0;34m=\u001b[0m \u001b[0mself\u001b[0m\u001b[0;34m.\u001b[0m\u001b[0m_get_tbdata\u001b[0m\u001b[0;34m(\u001b[0m\u001b[0;34m)\u001b[0m\u001b[0;34m\u001b[0m\u001b[0;34m\u001b[0m\u001b[0m\n\u001b[0m\u001b[1;32m    400\u001b[0m         \u001b[0mdata\u001b[0m\u001b[0;34m.\u001b[0m\u001b[0m_coldefs\u001b[0m \u001b[0;34m=\u001b[0m \u001b[0mself\u001b[0m\u001b[0;34m.\u001b[0m\u001b[0mcolumns\u001b[0m\u001b[0;34m\u001b[0m\u001b[0;34m\u001b[0m\u001b[0m\n\u001b[1;32m    401\u001b[0m         \u001b[0mdata\u001b[0m\u001b[0;34m.\u001b[0m\u001b[0m_character_as_bytes\u001b[0m \u001b[0;34m=\u001b[0m \u001b[0mself\u001b[0m\u001b[0;34m.\u001b[0m\u001b[0m_character_as_bytes\u001b[0m\u001b[0;34m\u001b[0m\u001b[0;34m\u001b[0m\u001b[0m\n",
      "\u001b[0;32m~/anaconda3/lib/python3.8/site-packages/astropy/io/fits/hdu/table.py\u001b[0m in \u001b[0;36m_get_tbdata\u001b[0;34m(self)\u001b[0m\n\u001b[1;32m    169\u001b[0m                                                type=np.rec.recarray)\n\u001b[1;32m    170\u001b[0m         \u001b[0;32melse\u001b[0m\u001b[0;34m:\u001b[0m\u001b[0;34m\u001b[0m\u001b[0;34m\u001b[0m\u001b[0m\n\u001b[0;32m--> 171\u001b[0;31m             raw_data = self._get_raw_data(self._nrows, columns.dtype,\n\u001b[0m\u001b[1;32m    172\u001b[0m                                           self._data_offset)\n\u001b[1;32m    173\u001b[0m             \u001b[0;32mif\u001b[0m \u001b[0mraw_data\u001b[0m \u001b[0;32mis\u001b[0m \u001b[0;32mNone\u001b[0m\u001b[0;34m:\u001b[0m\u001b[0;34m\u001b[0m\u001b[0;34m\u001b[0m\u001b[0m\n",
      "\u001b[0;32m~/anaconda3/lib/python3.8/site-packages/astropy/io/fits/hdu/base.py\u001b[0m in \u001b[0;36m_get_raw_data\u001b[0;34m(self, shape, code, offset)\u001b[0m\n\u001b[1;32m    518\u001b[0m                               offset=offset)\n\u001b[1;32m    519\u001b[0m         \u001b[0;32melif\u001b[0m \u001b[0mself\u001b[0m\u001b[0;34m.\u001b[0m\u001b[0m_file\u001b[0m\u001b[0;34m:\u001b[0m\u001b[0;34m\u001b[0m\u001b[0;34m\u001b[0m\u001b[0m\n\u001b[0;32m--> 520\u001b[0;31m             \u001b[0;32mreturn\u001b[0m \u001b[0mself\u001b[0m\u001b[0;34m.\u001b[0m\u001b[0m_file\u001b[0m\u001b[0;34m.\u001b[0m\u001b[0mreadarray\u001b[0m\u001b[0;34m(\u001b[0m\u001b[0moffset\u001b[0m\u001b[0;34m=\u001b[0m\u001b[0moffset\u001b[0m\u001b[0;34m,\u001b[0m \u001b[0mdtype\u001b[0m\u001b[0;34m=\u001b[0m\u001b[0mcode\u001b[0m\u001b[0;34m,\u001b[0m \u001b[0mshape\u001b[0m\u001b[0;34m=\u001b[0m\u001b[0mshape\u001b[0m\u001b[0;34m)\u001b[0m\u001b[0;34m\u001b[0m\u001b[0;34m\u001b[0m\u001b[0m\n\u001b[0m\u001b[1;32m    521\u001b[0m         \u001b[0;32melse\u001b[0m\u001b[0;34m:\u001b[0m\u001b[0;34m\u001b[0m\u001b[0;34m\u001b[0m\u001b[0m\n\u001b[1;32m    522\u001b[0m             \u001b[0;32mreturn\u001b[0m \u001b[0;32mNone\u001b[0m\u001b[0;34m\u001b[0m\u001b[0;34m\u001b[0m\u001b[0m\n",
      "\u001b[0;32m~/anaconda3/lib/python3.8/site-packages/astropy/io/fits/file.py\u001b[0m in \u001b[0;36mreadarray\u001b[0;34m(self, size, offset, dtype, shape)\u001b[0m\n\u001b[1;32m    334\u001b[0m                 \u001b[0mself\u001b[0m\u001b[0;34m.\u001b[0m\u001b[0m_file\u001b[0m\u001b[0;34m.\u001b[0m\u001b[0mseek\u001b[0m\u001b[0;34m(\u001b[0m\u001b[0moffset\u001b[0m\u001b[0;34m)\u001b[0m\u001b[0;34m\u001b[0m\u001b[0;34m\u001b[0m\u001b[0m\n\u001b[1;32m    335\u001b[0m                 \u001b[0mdata\u001b[0m \u001b[0;34m=\u001b[0m \u001b[0m_array_from_file\u001b[0m\u001b[0;34m(\u001b[0m\u001b[0mself\u001b[0m\u001b[0;34m.\u001b[0m\u001b[0m_file\u001b[0m\u001b[0;34m,\u001b[0m \u001b[0mdtype\u001b[0m\u001b[0;34m,\u001b[0m \u001b[0mcount\u001b[0m\u001b[0;34m)\u001b[0m\u001b[0;34m\u001b[0m\u001b[0;34m\u001b[0m\u001b[0m\n\u001b[0;32m--> 336\u001b[0;31m                 \u001b[0mdata\u001b[0m\u001b[0;34m.\u001b[0m\u001b[0mshape\u001b[0m \u001b[0;34m=\u001b[0m \u001b[0mshape\u001b[0m\u001b[0;34m\u001b[0m\u001b[0;34m\u001b[0m\u001b[0m\n\u001b[0m\u001b[1;32m    337\u001b[0m                 \u001b[0;32mreturn\u001b[0m \u001b[0mdata\u001b[0m\u001b[0;34m\u001b[0m\u001b[0;34m\u001b[0m\u001b[0m\n\u001b[1;32m    338\u001b[0m         \u001b[0;32mfinally\u001b[0m\u001b[0;34m:\u001b[0m\u001b[0;34m\u001b[0m\u001b[0;34m\u001b[0m\u001b[0m\n",
      "\u001b[0;31mValueError\u001b[0m: cannot reshape array of size 2419 into shape (20340,)"
     ]
    }
   ],
   "source": [
    "def MakeDataBar():\n",
    "    \n",
    "    # Initiatate Dataframe\n",
    "    df = pd.DataFrame(columns=['id', 'vals', 'isplanet'])\n",
    "    \n",
    "    # Loop for each FITS file\n",
    "    for e, li in enumerate(tqdm(fitsList[1370:1400])):\n",
    "        print(\"{}: Current File is {}\".format((e+1370),li))\n",
    "        with fits.open (li, memmap=False) as f:\n",
    "            #Populate 'lastRandom' so store current number and id\n",
    "            GetRandomLC(e)\n",
    "            \n",
    "            # Get number and id\n",
    "            rnum = lastRandom[\"number\"]\n",
    "            rid = lastRandom[\"id\"]\n",
    "            \n",
    "            #add Data\n",
    "            df = df.append(pd.DataFrame([[rid,f[1].data['PDCSAP_FLUX'][1:-1],IsThisAPlanet(rid)]], columns=['id', 'vals', 'isplanet']), ignore_index=True)\n",
    "            #df = df.append(pd.DataFrame([[rid,'LOLE',IsThisAPlanet(rid)]], columns=['id', 'vals', 'isplanet']), ignore_index=True)\n",
    "        #time.sleep(0.0001)\n",
    "    return(df)\n",
    "MakeDataBar()"
   ]
  },
  {
   "cell_type": "markdown",
   "metadata": {},
   "source": [
    "Error seems to be in file `SIM_DATA/tess2018191215100-s0001-0000000177165931-0001-a_lc.fits` (file ID:1380, or the 1381st file)"
   ]
  },
  {
   "cell_type": "code",
   "execution_count": 6,
   "metadata": {},
   "outputs": [
    {
     "name": "stdout",
     "output_type": "stream",
     "text": [
      "Filename: SIM_DATA/tess2018191215100-s0001-0000000177165931-0001-a_lc.fits\n",
      "No.    Name      Ver    Type      Cards   Dimensions   Format\n",
      "  0  PRIMARY       1 PrimaryHDU      44   ()      \n",
      "  1  LIGHTCURVE    1 BinTableHDU    158   20340R x 20C   [D, E, J, E, E, E, E, E, E, J, D, E, D, E, D, E, D, E, E, E]   \n"
     ]
    }
   ],
   "source": [
    "errFile=\"SIM_DATA/tess2018191215100-s0001-0000000177165931-0001-a_lc.fits\"\n",
    "tstFile=\"SIM_DATA/tess2018191215100-s0001-0000000364110868-0001-a_lc.fits\"\n",
    "fits.info(errFile)"
   ]
  },
  {
   "cell_type": "code",
   "execution_count": 7,
   "metadata": {},
   "outputs": [
    {
     "name": "stdout",
     "output_type": "stream",
     "text": [
      "Filename: SIM_DATA/tess2018191215100-s0001-0000000364110868-0001-a_lc.fits\n",
      "No.    Name      Ver    Type      Cards   Dimensions   Format\n",
      "  0  PRIMARY       1 PrimaryHDU      44   ()      \n",
      "  1  LIGHTCURVE    1 BinTableHDU    167   20340R x 20C   [D, E, J, E, E, E, E, E, E, J, D, E, D, E, D, E, D, E, E, E]   \n",
      "  2  APERTURE      1 ImageHDU        49   (11, 11)   int32   \n"
     ]
    }
   ],
   "source": [
    "fits.info(tstFile)"
   ]
  },
  {
   "cell_type": "code",
   "execution_count": 8,
   "metadata": {},
   "outputs": [
    {
     "name": "stdout",
     "output_type": "stream",
     "text": [
      "[    0.    52433.04  52440.36  ... 52402.484 52398.266     0.   ]\n"
     ]
    }
   ],
   "source": [
    "with fits.open(tstFile) as hdu:\n",
    "    print(hdu[1].data['PDCSAP_FLUX'])"
   ]
  },
  {
   "cell_type": "code",
   "execution_count": 10,
   "metadata": {},
   "outputs": [
    {
     "data": {
      "text/plain": [
       "'PDCSAP_FLUX'"
      ]
     },
     "execution_count": 10,
     "metadata": {},
     "output_type": "execute_result"
    }
   ],
   "source": [
    "fits.getheader(tstFile, ext=1)['TTYPE8']"
   ]
  },
  {
   "cell_type": "code",
   "execution_count": 11,
   "metadata": {},
   "outputs": [
    {
     "data": {
      "text/plain": [
       "'PDCSAP_FLUX'"
      ]
     },
     "execution_count": 11,
     "metadata": {},
     "output_type": "execute_result"
    }
   ],
   "source": [
    "fits.getheader(errFile, ext=1)['TTYPE8']"
   ]
  },
  {
   "cell_type": "code",
   "execution_count": 14,
   "metadata": {},
   "outputs": [
    {
     "data": {
      "text/plain": [
       "array([    0.   , 52433.04 , 52440.36 , ..., 52402.484, 52398.266,\n",
       "           0.   ], dtype=float32)"
      ]
     },
     "execution_count": 14,
     "metadata": {},
     "output_type": "execute_result"
    }
   ],
   "source": [
    "fits.getdata(tstFile, ext=1)['PDCSAP_FLUX']"
   ]
  },
  {
   "cell_type": "code",
   "execution_count": 16,
   "metadata": {},
   "outputs": [
    {
     "ename": "TypeError",
     "evalue": "buffer is too small for requested array",
     "output_type": "error",
     "traceback": [
      "\u001b[0;31m---------------------------------------------------------------------------\u001b[0m",
      "\u001b[0;31mTypeError\u001b[0m                                 Traceback (most recent call last)",
      "\u001b[0;32m<ipython-input-16-3f3ec8dc82d5>\u001b[0m in \u001b[0;36m<module>\u001b[0;34m\u001b[0m\n\u001b[0;32m----> 1\u001b[0;31m \u001b[0mfits\u001b[0m\u001b[0;34m.\u001b[0m\u001b[0mgetdata\u001b[0m\u001b[0;34m(\u001b[0m\u001b[0merrFile\u001b[0m\u001b[0;34m,\u001b[0m \u001b[0mext\u001b[0m\u001b[0;34m=\u001b[0m\u001b[0;36m1\u001b[0m\u001b[0;34m)\u001b[0m\u001b[0;34m[\u001b[0m\u001b[0;34m'PDCSAP_FLUX'\u001b[0m\u001b[0;34m]\u001b[0m\u001b[0;34m\u001b[0m\u001b[0;34m\u001b[0m\u001b[0m\n\u001b[0m",
      "\u001b[0;32m~/anaconda3/lib/python3.8/site-packages/astropy/io/fits/convenience.py\u001b[0m in \u001b[0;36mgetdata\u001b[0;34m(filename, header, lower, upper, view, *args, **kwargs)\u001b[0m\n\u001b[1;32m    195\u001b[0m     \u001b[0;32mtry\u001b[0m\u001b[0;34m:\u001b[0m\u001b[0;34m\u001b[0m\u001b[0;34m\u001b[0m\u001b[0m\n\u001b[1;32m    196\u001b[0m         \u001b[0mhdu\u001b[0m \u001b[0;34m=\u001b[0m \u001b[0mhdulist\u001b[0m\u001b[0;34m[\u001b[0m\u001b[0mextidx\u001b[0m\u001b[0;34m]\u001b[0m\u001b[0;34m\u001b[0m\u001b[0;34m\u001b[0m\u001b[0m\n\u001b[0;32m--> 197\u001b[0;31m         \u001b[0mdata\u001b[0m \u001b[0;34m=\u001b[0m \u001b[0mhdu\u001b[0m\u001b[0;34m.\u001b[0m\u001b[0mdata\u001b[0m\u001b[0;34m\u001b[0m\u001b[0;34m\u001b[0m\u001b[0m\n\u001b[0m\u001b[1;32m    198\u001b[0m         \u001b[0;32mif\u001b[0m \u001b[0mdata\u001b[0m \u001b[0;32mis\u001b[0m \u001b[0;32mNone\u001b[0m \u001b[0;32mand\u001b[0m \u001b[0mextidx\u001b[0m \u001b[0;34m==\u001b[0m \u001b[0;36m0\u001b[0m\u001b[0;34m:\u001b[0m\u001b[0;34m\u001b[0m\u001b[0;34m\u001b[0m\u001b[0m\n\u001b[1;32m    199\u001b[0m             \u001b[0;32mtry\u001b[0m\u001b[0;34m:\u001b[0m\u001b[0;34m\u001b[0m\u001b[0;34m\u001b[0m\u001b[0m\n",
      "\u001b[0;32m~/anaconda3/lib/python3.8/site-packages/astropy/utils/decorators.py\u001b[0m in \u001b[0;36m__get__\u001b[0;34m(self, obj, owner)\u001b[0m\n\u001b[1;32m    756\u001b[0m                 \u001b[0;32mreturn\u001b[0m \u001b[0mval\u001b[0m\u001b[0;34m\u001b[0m\u001b[0;34m\u001b[0m\u001b[0m\n\u001b[1;32m    757\u001b[0m             \u001b[0;32melse\u001b[0m\u001b[0;34m:\u001b[0m\u001b[0;34m\u001b[0m\u001b[0;34m\u001b[0m\u001b[0m\n\u001b[0;32m--> 758\u001b[0;31m                 \u001b[0mval\u001b[0m \u001b[0;34m=\u001b[0m \u001b[0mself\u001b[0m\u001b[0;34m.\u001b[0m\u001b[0mfget\u001b[0m\u001b[0;34m(\u001b[0m\u001b[0mobj\u001b[0m\u001b[0;34m)\u001b[0m\u001b[0;34m\u001b[0m\u001b[0;34m\u001b[0m\u001b[0m\n\u001b[0m\u001b[1;32m    759\u001b[0m                 \u001b[0mobj\u001b[0m\u001b[0;34m.\u001b[0m\u001b[0m__dict__\u001b[0m\u001b[0;34m[\u001b[0m\u001b[0mself\u001b[0m\u001b[0;34m.\u001b[0m\u001b[0m_key\u001b[0m\u001b[0;34m]\u001b[0m \u001b[0;34m=\u001b[0m \u001b[0mval\u001b[0m\u001b[0;34m\u001b[0m\u001b[0;34m\u001b[0m\u001b[0m\n\u001b[1;32m    760\u001b[0m                 \u001b[0;32mreturn\u001b[0m \u001b[0mval\u001b[0m\u001b[0;34m\u001b[0m\u001b[0;34m\u001b[0m\u001b[0m\n",
      "\u001b[0;32m~/anaconda3/lib/python3.8/site-packages/astropy/io/fits/hdu/table.py\u001b[0m in \u001b[0;36mdata\u001b[0;34m(self)\u001b[0m\n\u001b[1;32m    397\u001b[0m     \u001b[0;34m@\u001b[0m\u001b[0mlazyproperty\u001b[0m\u001b[0;34m\u001b[0m\u001b[0;34m\u001b[0m\u001b[0m\n\u001b[1;32m    398\u001b[0m     \u001b[0;32mdef\u001b[0m \u001b[0mdata\u001b[0m\u001b[0;34m(\u001b[0m\u001b[0mself\u001b[0m\u001b[0;34m)\u001b[0m\u001b[0;34m:\u001b[0m\u001b[0;34m\u001b[0m\u001b[0;34m\u001b[0m\u001b[0m\n\u001b[0;32m--> 399\u001b[0;31m         \u001b[0mdata\u001b[0m \u001b[0;34m=\u001b[0m \u001b[0mself\u001b[0m\u001b[0;34m.\u001b[0m\u001b[0m_get_tbdata\u001b[0m\u001b[0;34m(\u001b[0m\u001b[0;34m)\u001b[0m\u001b[0;34m\u001b[0m\u001b[0;34m\u001b[0m\u001b[0m\n\u001b[0m\u001b[1;32m    400\u001b[0m         \u001b[0mdata\u001b[0m\u001b[0;34m.\u001b[0m\u001b[0m_coldefs\u001b[0m \u001b[0;34m=\u001b[0m \u001b[0mself\u001b[0m\u001b[0;34m.\u001b[0m\u001b[0mcolumns\u001b[0m\u001b[0;34m\u001b[0m\u001b[0;34m\u001b[0m\u001b[0m\n\u001b[1;32m    401\u001b[0m         \u001b[0mdata\u001b[0m\u001b[0;34m.\u001b[0m\u001b[0m_character_as_bytes\u001b[0m \u001b[0;34m=\u001b[0m \u001b[0mself\u001b[0m\u001b[0;34m.\u001b[0m\u001b[0m_character_as_bytes\u001b[0m\u001b[0;34m\u001b[0m\u001b[0;34m\u001b[0m\u001b[0m\n",
      "\u001b[0;32m~/anaconda3/lib/python3.8/site-packages/astropy/io/fits/hdu/table.py\u001b[0m in \u001b[0;36m_get_tbdata\u001b[0;34m(self)\u001b[0m\n\u001b[1;32m    169\u001b[0m                                                type=np.rec.recarray)\n\u001b[1;32m    170\u001b[0m         \u001b[0;32melse\u001b[0m\u001b[0;34m:\u001b[0m\u001b[0;34m\u001b[0m\u001b[0;34m\u001b[0m\u001b[0m\n\u001b[0;32m--> 171\u001b[0;31m             raw_data = self._get_raw_data(self._nrows, columns.dtype,\n\u001b[0m\u001b[1;32m    172\u001b[0m                                           self._data_offset)\n\u001b[1;32m    173\u001b[0m             \u001b[0;32mif\u001b[0m \u001b[0mraw_data\u001b[0m \u001b[0;32mis\u001b[0m \u001b[0;32mNone\u001b[0m\u001b[0;34m:\u001b[0m\u001b[0;34m\u001b[0m\u001b[0;34m\u001b[0m\u001b[0m\n",
      "\u001b[0;32m~/anaconda3/lib/python3.8/site-packages/astropy/io/fits/hdu/base.py\u001b[0m in \u001b[0;36m_get_raw_data\u001b[0;34m(self, shape, code, offset)\u001b[0m\n\u001b[1;32m    518\u001b[0m                               offset=offset)\n\u001b[1;32m    519\u001b[0m         \u001b[0;32melif\u001b[0m \u001b[0mself\u001b[0m\u001b[0;34m.\u001b[0m\u001b[0m_file\u001b[0m\u001b[0;34m:\u001b[0m\u001b[0;34m\u001b[0m\u001b[0;34m\u001b[0m\u001b[0m\n\u001b[0;32m--> 520\u001b[0;31m             \u001b[0;32mreturn\u001b[0m \u001b[0mself\u001b[0m\u001b[0;34m.\u001b[0m\u001b[0m_file\u001b[0m\u001b[0;34m.\u001b[0m\u001b[0mreadarray\u001b[0m\u001b[0;34m(\u001b[0m\u001b[0moffset\u001b[0m\u001b[0;34m=\u001b[0m\u001b[0moffset\u001b[0m\u001b[0;34m,\u001b[0m \u001b[0mdtype\u001b[0m\u001b[0;34m=\u001b[0m\u001b[0mcode\u001b[0m\u001b[0;34m,\u001b[0m \u001b[0mshape\u001b[0m\u001b[0;34m=\u001b[0m\u001b[0mshape\u001b[0m\u001b[0;34m)\u001b[0m\u001b[0;34m\u001b[0m\u001b[0;34m\u001b[0m\u001b[0m\n\u001b[0m\u001b[1;32m    521\u001b[0m         \u001b[0;32melse\u001b[0m\u001b[0;34m:\u001b[0m\u001b[0;34m\u001b[0m\u001b[0;34m\u001b[0m\u001b[0m\n\u001b[1;32m    522\u001b[0m             \u001b[0;32mreturn\u001b[0m \u001b[0;32mNone\u001b[0m\u001b[0;34m\u001b[0m\u001b[0;34m\u001b[0m\u001b[0m\n",
      "\u001b[0;32m~/anaconda3/lib/python3.8/site-packages/astropy/io/fits/file.py\u001b[0m in \u001b[0;36mreadarray\u001b[0;34m(self, size, offset, dtype, shape)\u001b[0m\n\u001b[1;32m    328\u001b[0m                             \u001b[0;32mraise\u001b[0m\u001b[0;34m\u001b[0m\u001b[0;34m\u001b[0m\u001b[0m\n\u001b[1;32m    329\u001b[0m \u001b[0;34m\u001b[0m\u001b[0m\n\u001b[0;32m--> 330\u001b[0;31m                 return np.ndarray(shape=shape, dtype=dtype, offset=offset,\n\u001b[0m\u001b[1;32m    331\u001b[0m                                   buffer=self._mmap)\n\u001b[1;32m    332\u001b[0m             \u001b[0;32melse\u001b[0m\u001b[0;34m:\u001b[0m\u001b[0;34m\u001b[0m\u001b[0;34m\u001b[0m\u001b[0m\n",
      "\u001b[0;31mTypeError\u001b[0m: buffer is too small for requested array"
     ]
    }
   ],
   "source": [
    "fits.getdata(errFile, ext=1)['PDCSAP_FLUX']"
   ]
  },
  {
   "cell_type": "markdown",
   "metadata": {},
   "source": [
    "So, for some reason, it doesn't like this curve."
   ]
  }
 ],
 "metadata": {
  "kernelspec": {
   "display_name": "Python 3",
   "language": "python",
   "name": "python3"
  },
  "language_info": {
   "codemirror_mode": {
    "name": "ipython",
    "version": 3
   },
   "file_extension": ".py",
   "mimetype": "text/x-python",
   "name": "python",
   "nbconvert_exporter": "python",
   "pygments_lexer": "ipython3",
   "version": "3.8.8"
  }
 },
 "nbformat": 4,
 "nbformat_minor": 4
}
