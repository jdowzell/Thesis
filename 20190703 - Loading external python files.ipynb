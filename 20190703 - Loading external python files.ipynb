{
 "cells": [
  {
   "cell_type": "code",
   "execution_count": 1,
   "metadata": {
    "collapsed": false,
    "deletable": true,
    "editable": true
   },
   "outputs": [],
   "source": [
    "# %load general_load.py\n",
    "#!/usr/bin/env python3\n",
    "\n",
    "# Imports\n",
    "import csv\n",
    "import math\n",
    "import os, os.path\n",
    "import io\n",
    "import sys\n",
    "import pandas as pd\n",
    "import seaborn as sb\n",
    "import matplotlib.pyplot as plt\n",
    "import numpy as np\n",
    "from sklearn import metrics\n",
    "from IPython.display import display\n",
    "\n",
    "%matplotlib inline\n",
    "\n",
    "def goldilocks_temp(t):\n",
    "    if t < 273:\n",
    "        return -1;\n",
    "    elif t > 373:\n",
    "        return 1;\n",
    "    else:\n",
    "        return 0\n",
    "\n",
    "csv_filename = \"./Data/exoplanetarchive/candidates-20190613-TIDIED.csv\"\n",
    "longnames = {}\n",
    "with open(csv_filename, 'r') as f:\n",
    "    lines = f.readlines()\n",
    "    for line in lines[8:23]:\n",
    "        varname, longname = line.strip().split(':')\n",
    "        varname = varname[9:].strip()\n",
    "        longname = longname.replace(',', '').strip()\n",
    "        #print(varname, longname)\n",
    "        longnames[varname] = longname\n",
    "        \n",
    "dataset = pd.read_csv(csv_filename, header = 24)\n",
    "\n",
    "goldilocks_dataset = dataset.drop(['kepid',\n",
    "                                   'koi_period',\n",
    "                                   'koi_period_err1',\n",
    "                                   'koi_prad_err1',\n",
    "                                   #'koi_insol',\n",
    "                                   'koi_insol_err1', \n",
    "                                   'koi_steff',\n",
    "                                   'koi_steff_err1',\n",
    "                                   'koi_slogg',\n",
    "                                   'koi_slogg_err1',\n",
    "                                   #'koi_srad',\n",
    "                                   'koi_srad_err1'],\n",
    "                                  axis=1).copy()\n",
    "goldilocks_dataset.head()\n",
    "\n",
    "goldilocks_dataset[\"gold_temp\"] = list(map(goldilocks_temp, goldilocks_dataset[\"koi_teq\"]))\n",
    "goldilocks_dataset = goldilocks_dataset.dropna()\n",
    "\n",
    "goldX = goldilocks_dataset.drop([\"kepoi_name\",\"koi_teq\",\"gold_temp\"], axis=1)\n",
    "goldY = goldilocks_dataset['gold_temp']\n",
    "\n",
    "goldX.columns = [longnames[x] for x in goldX.columns]\n"
   ]
  },
  {
   "cell_type": "code",
   "execution_count": null,
   "metadata": {
    "collapsed": true
   },
   "outputs": [],
   "source": []
  }
 ],
 "metadata": {
  "kernelspec": {
   "display_name": "Python 3",
   "language": "python",
   "name": "python3"
  },
  "language_info": {
   "codemirror_mode": {
    "name": "ipython",
    "version": 3
   },
   "file_extension": ".py",
   "mimetype": "text/x-python",
   "name": "python",
   "nbconvert_exporter": "python",
   "pygments_lexer": "ipython3",
   "version": "3.5.6"
  }
 },
 "nbformat": 4,
 "nbformat_minor": 0
}
