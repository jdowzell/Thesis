{
 "cells": [
  {
   "cell_type": "code",
   "execution_count": 4,
   "metadata": {
    "collapsed": false
   },
   "outputs": [],
   "source": [
    "# %load general_load.py\n",
    "#!/usr/bin/env python3\n",
    "\n",
    "# Imports\n",
    "import csv\n",
    "import math\n",
    "import os, os.path\n",
    "import io\n",
    "import sys\n",
    "import pandas as pd\n",
    "import seaborn as sb\n",
    "import matplotlib.pyplot as plt\n",
    "import numpy as np\n",
    "from sklearn import metrics\n",
    "from IPython.display import display\n",
    "\n",
    "def goldilocks_temp(t):\n",
    "    if t < 273:\n",
    "        return -1;\n",
    "    elif t > 373:\n",
    "        return 1;\n",
    "    else:\n",
    "        return 0\n",
    "\n",
    "csv_filename = \"./Data/exoplanetarchive/candidates-20190613-TIDIED.csv\"\n",
    "longnames = {}\n",
    "with open(csv_filename, 'r') as f:\n",
    "    lines = f.readlines()\n",
    "    for line in lines[8:23]:\n",
    "        varname, longname = line.strip().split(':')\n",
    "        varname = varname[9:].strip()\n",
    "        longname = longname.replace(',', '').strip()\n",
    "        #print(varname, longname)\n",
    "        longnames[varname] = longname\n",
    "        \n",
    "dataset = pd.read_csv(csv_filename, header = 24)\n",
    "\n",
    "goldilocks_dataset = dataset.drop(['kepid', 'koi_period', 'koi_period_err1', 'koi_prad_err1', 'koi_insol_err1',  'koi_steff', 'koi_steff_err1', 'koi_slogg', 'koi_slogg_err1', 'koi_srad_err1'], axis=1).copy()\n",
    "\n",
    "goldilocks_dataset[\"gold_temp\"] = list(map(goldilocks_temp, goldilocks_dataset[\"koi_teq\"]))\n",
    "goldilocks_dataset = goldilocks_dataset.dropna()\n",
    "\n",
    "goldX = goldilocks_dataset.drop([\"kepoi_name\",\"koi_teq\",\"gold_temp\"], axis=1)\n",
    "goldY = goldilocks_dataset['gold_temp']\n",
    "\n",
    "goldX.columns = [longnames[x] for x in goldX.columns]"
   ]
  },
  {
   "cell_type": "code",
   "execution_count": 5,
   "metadata": {
    "collapsed": false
   },
   "outputs": [
    {
     "data": {
      "text/html": [
       "<div>\n",
       "<table border=\"1\" class=\"dataframe\">\n",
       "  <thead>\n",
       "    <tr style=\"text-align: right;\">\n",
       "      <th></th>\n",
       "      <th>Planetary Radius [Earth radii]</th>\n",
       "      <th>Insolation Flux [Earth flux]</th>\n",
       "      <th>Stellar Radius [Solar radii]</th>\n",
       "    </tr>\n",
       "  </thead>\n",
       "  <tbody>\n",
       "    <tr>\n",
       "      <th>0</th>\n",
       "      <td>1.86</td>\n",
       "      <td>2.00</td>\n",
       "      <td>1.187</td>\n",
       "    </tr>\n",
       "    <tr>\n",
       "      <th>1</th>\n",
       "      <td>2.53</td>\n",
       "      <td>13.18</td>\n",
       "      <td>0.720</td>\n",
       "    </tr>\n",
       "    <tr>\n",
       "      <th>2</th>\n",
       "      <td>2.29</td>\n",
       "      <td>186.31</td>\n",
       "      <td>0.815</td>\n",
       "    </tr>\n",
       "    <tr>\n",
       "      <th>3</th>\n",
       "      <td>28.41</td>\n",
       "      <td>283.07</td>\n",
       "      <td>13.056</td>\n",
       "    </tr>\n",
       "    <tr>\n",
       "      <th>4</th>\n",
       "      <td>1.40</td>\n",
       "      <td>18.86</td>\n",
       "      <td>0.836</td>\n",
       "    </tr>\n",
       "  </tbody>\n",
       "</table>\n",
       "</div>"
      ],
      "text/plain": [
       "   Planetary Radius [Earth radii]  Insolation Flux [Earth flux]  \\\n",
       "0                            1.86                          2.00   \n",
       "1                            2.53                         13.18   \n",
       "2                            2.29                        186.31   \n",
       "3                           28.41                        283.07   \n",
       "4                            1.40                         18.86   \n",
       "\n",
       "   Stellar Radius [Solar radii]  \n",
       "0                         1.187  \n",
       "1                         0.720  \n",
       "2                         0.815  \n",
       "3                        13.056  \n",
       "4                         0.836  "
      ]
     },
     "execution_count": 5,
     "metadata": {},
     "output_type": "execute_result"
    }
   ],
   "source": [
    "goldX.head()"
   ]
  }
 ],
 "metadata": {
  "kernelspec": {
   "display_name": "Python 3",
   "language": "python",
   "name": "python3"
  },
  "language_info": {
   "codemirror_mode": {
    "name": "ipython",
    "version": 3
   },
   "file_extension": ".py",
   "mimetype": "text/x-python",
   "name": "python",
   "nbconvert_exporter": "python",
   "pygments_lexer": "ipython3",
   "version": "3.5.6"
  }
 },
 "nbformat": 4,
 "nbformat_minor": 0
}
