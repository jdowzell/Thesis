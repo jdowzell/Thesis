{
 "cells": [
  {
   "cell_type": "code",
   "execution_count": 1,
   "id": "identical-socket",
   "metadata": {},
   "outputs": [],
   "source": [
    "################################\n",
    "# Scientific imports\n",
    "################################\n",
    "import gc\n",
    "import matplotlib.pyplot as plt\n",
    "import numpy as np\n",
    "from datetime import datetime\n",
    "from astropy.io import fits\n",
    "from astroquery.mast import Observations\n",
    "from astroquery.mast import Catalogs\n",
    "from astropy import units as u\n",
    "from astropy.timeseries import BoxLeastSquares\n",
    "from astropy.timeseries import TimeSeries\n",
    "\n",
    "################################\n",
    "# General imports\n",
    "################################\n",
    "import csv, math, io, os, os.path, sys, random, time, json\n",
    "import pandas as pd\n",
    "import seaborn as sb\n",
    "from tqdm.notebook import tqdm, trange\n",
    "\n",
    "################################\n",
    "# SciKitLearn Imports\n",
    "################################\n",
    "import sklearn\n",
    "from sklearn import metrics\n",
    "from sklearn.svm import SVC\n",
    "from sklearn.decomposition import PCA\n",
    "#from sklearn.decomposition import RandomizedPCA\n",
    "from sklearn.pipeline import make_pipeline\n",
    "from sklearn.model_selection import train_test_split\n",
    "from sklearn.model_selection import GridSearchCV\n",
    "from sklearn.metrics import confusion_matrix\n",
    "from sklearn.preprocessing import PolynomialFeatures\n",
    "from sklearn.linear_model import LinearRegression\n",
    "from sklearn.neighbors import KNeighborsClassifier\n",
    "from sklearn.cluster import SpectralClustering\n",
    "\n",
    "from IPython.display import display\n",
    "\n",
    "################################\n",
    "# MatPlotLib Settings\n",
    "################################\n",
    "#plt.rcParams[\"figure.figsize\"] = (20,9)\n",
    "sb.set()"
   ]
  },
  {
   "cell_type": "code",
   "execution_count": 2,
   "id": "parental-medicine",
   "metadata": {
    "jupyter": {
     "source_hidden": true
    },
    "tags": []
   },
   "outputs": [],
   "source": [
    "################################\n",
    "# Functions\n",
    "################################\n",
    "def GetLC(rndFile=-1, fullOutput=False):\n",
    "    \n",
    "    # rndFile is random, unless specified\n",
    "    rndFile = random.randint(0,len(fitsarr)) if rndFile==-1 else rndFile\n",
    "    #print(\"Curve = {}\".format(rndFile))\n",
    "    \n",
    "    # Get LC data from the requisite fits file\n",
    "    fitsFile = fitsarr[rndFile]\n",
    "\n",
    "    # The following line of code gives us the header values\n",
    "    fitsHeaders = fits.getheader(fitsFile)\n",
    "\n",
    "    with fits.open(fitsFile, mode=\"readonly\") as hdulist:\n",
    "\n",
    "        # Extract stellar parameters from the primary header.\n",
    "        obj       = hdulist[0].header['OBJECT']\n",
    "        #sector    = hdulist[0].header['SECTOR']\n",
    "\n",
    "        # Extract some of the columns of interest for the first TCE signal.  These are stored in the binary FITS table\n",
    "        # in the first extension.  We'll extract the timestamps in TBJD, phase, initial fluxes, and corresponding\n",
    "        # model fluxes.\n",
    "        tess_bjds     = hdulist[1].data['TIME']\n",
    "        #sap_fluxes    = hdulist[1].data['SAP_FLUX']\n",
    "        pdcsap_fluxes = hdulist[1].data['PDCSAP_FLUX']\n",
    "\n",
    "    # X- and Y- labels\n",
    "    ylab = \"PDCSAP Flux (e-/s)\"\n",
    "    xlab = \"Time (TBJD)\"\n",
    "\n",
    "    if (fullOutput == True):\n",
    "        return (tess_bjds, pdcsap_fluxes, str(rndFile), str(obj), ylab, xlab)\n",
    "    else:\n",
    "        return (tess_bjds, pdcsap_fluxes)\n",
    "\n",
    "    \n",
    "    \n",
    "def DrawLC(n=-1, trimends=True):\n",
    "    x,y,f,o,ylab,xlab = GetLC(n, fullOutput=True)\n",
    "\n",
    "    fig, ax = plt.subplots()\n",
    "    \n",
    "    if (trimends):\n",
    "        # Trims off the preceeding and proceeding zeroes present in the test data\n",
    "        x = x[1:-1]\n",
    "        y = y[1:-1]\n",
    "        \n",
    "    ax.plot(x,y)\n",
    "\n",
    "    fig.suptitle(\"File № {} - {}\".format(f, o), fontsize=20) # + str(obj) + \" - Sector \" + str(sector))\n",
    "\n",
    "    ax.set_xlabel(xlab, fontsize=16)\n",
    "    ax.set_ylabel(ylab, fontsize=16)\n",
    "    \n",
    "    \n",
    "    \n",
    "def FTTMyData(x,y):\n",
    "    \"\"\"\n",
    "    Function that takes in a timeseries and then outputs a Fourier Transformed version of it\n",
    "    \"\"\"\n",
    "    \n",
    "    # First, change all 0s to NANs\n",
    "    #ynew = [idx for idx, element in enumerate(y) if element == 0]\n",
    "    #y[y==0] = np.nan\n",
    "    \n",
    "    # Is this required?\n",
    "    TMP = np.correlate(y-np.mean(y),y-np.mean(y),mode='full')\n",
    "    \n",
    "    # FOURIER TRANSFORM THAT Y (remember to use np.nanmean instead of np.mean)\n",
    "    FTY = np.fft.fft(y-np.mean(y))\n",
    "    powSpectrum = np.abs(FTY)\n",
    "    \n",
    "    # Get Delta D\n",
    "    delta_d = np.nanmean(np.diff(x))\n",
    "    #print(delta_d)\n",
    "    \n",
    "    # DO THE THING\n",
    "    F=np.fft.fftfreq(len(y),delta_d)\n",
    "    #plt.plot(F,powSpectrum)\n",
    "    return(F,powSpectrum)\n",
    "\n",
    "\n",
    "\n",
    "def ConfusionMatrix(mat,textonly=False):\n",
    "    \n",
    "    print(\"> CM-START\")\n",
    "    \n",
    "    # CHECK IF SQUARE\n",
    "    if (all (len (row) == len (mat) for row in mat)):\n",
    "        TN = mat[0][0]\n",
    "        FP = mat[0][1]\n",
    "        FN = mat[1][0]\n",
    "        TP = mat[1][1]\n",
    "\n",
    "        TPR = TP/(TP+FN)\n",
    "        FPR = FP/(FP+TN)\n",
    "        \n",
    "        outputtext='''\n",
    "        True Positives:  {}\n",
    "        False Positives: {}\n",
    "        True Negatives:  {}\n",
    "        False Negatives: {}\n",
    "        \n",
    "        True Positive Rate:  {}\n",
    "        False Positive Rate: {}\n",
    "        '''.format(TP,FP,TN,FN,TPR,FPR)\n",
    "        \n",
    "        print(\"> CM-OUTPUT\")\n",
    "        \n",
    "        if (textonly==False):\n",
    "            return (outputtext,TPR,FPR)\n",
    "        else:\n",
    "            return(TP,FP,TN,FN)\n",
    "\n",
    "\n",
    "\n",
    "def GetPositiveRates(dataArr, checkArr, param_grid): #, ncomp=8):\n",
    "    \n",
    "    # Make a PCA Pipeline\n",
    "    print(\"> GPR-START\")\n",
    "    \n",
    "    model = SVC(kernel='rbf', class_weight='balanced')\n",
    "    \n",
    "    # Sort data into Test and Train\n",
    "    Xtrain, Xtest, ytrain, ytest = train_test_split(dataArr, checkArr, random_state=42)\n",
    "    \n",
    "    # Do gridsearch for svc params\n",
    "    print(\"> GPR-GRIDSEARCH\")\n",
    "    grid = GridSearchCV(model, param_grid)\n",
    "    \n",
    "    # Fit model\n",
    "    print(\"> GPR-FIT\")\n",
    "    grid.fit(Xtrain, ytrain)\n",
    "    \n",
    "    # Use svc params and predict\n",
    "    print(\"> GPR-PREDICT\")   \n",
    "    model = grid.best_estimator_\n",
    "    yfit = model.predict(Xtest)\n",
    "    \n",
    "    # Now that model has done, time for confusion matrix shenanigans\n",
    "    print(\"> GPR-CONFUSION\")\n",
    "    mat = confusion_matrix(ytest, yfit)\n",
    "    \n",
    "    return (mat)\n",
    "\n",
    "\n",
    "\n",
    "def PlotConfusionMatrix(mat):\n",
    "    \n",
    "    TP, FP, TN, FN = ConfusionMatrix(mat, True)\n",
    "    stats = \"TP:{}\\nFP:{}\\nTN:{}\\nFN:{}\".format(TP,FP,TN,FN)\n",
    "    return (stats)"
   ]
  },
  {
   "cell_type": "code",
   "execution_count": 2,
   "id": "lonely-mercury",
   "metadata": {},
   "outputs": [
    {
     "data": {
      "text/plain": [
       "39"
      ]
     },
     "execution_count": 2,
     "metadata": {},
     "output_type": "execute_result"
    }
   ],
   "source": [
    "# Set up nth record\n",
    "nth = 10\n",
    "\n",
    "# Load Data\n",
    "fluxArrFull = np.load(\"fluxlist.npy\")\n",
    "fluxArr = fluxArrFull[::nth]\n",
    "isplanetArrFull = [1 if x==True else 0 for x in np.load(\"isplanetlist.npy\")]\n",
    "isplanetArr = isplanetArrFull[::nth]\n",
    "\n",
    "del fluxArrFull\n",
    "del isplanetArrFull\n",
    "\n",
    "# Remove NaNs\n",
    "for ts in fluxArr:\n",
    "    ts = [0 if math.isnan(x) else x for x in ts]\n",
    "\n",
    "# Garbage Collection\n",
    "gc.collect()"
   ]
  },
  {
   "cell_type": "code",
   "execution_count": 3,
   "id": "royal-community",
   "metadata": {},
   "outputs": [
    {
     "name": "stdout",
     "output_type": "stream",
     "text": [
      "False\n",
      "False\n"
     ]
    }
   ],
   "source": [
    "# Check if NaN exists at all\n",
    "print(np.any(np.isnan(fluxArr)))\n",
    "print(np.any(np.isnan(isplanetArr)))"
   ]
  },
  {
   "cell_type": "code",
   "execution_count": 8,
   "id": "latest-satin",
   "metadata": {},
   "outputs": [],
   "source": [
    "pca = PCA().fit(fluxArr)"
   ]
  },
  {
   "cell_type": "code",
   "execution_count": 23,
   "id": "accessible-prefix",
   "metadata": {},
   "outputs": [],
   "source": [
    "plt.rcParams[\"figure.figsize\"] = (6,4)"
   ]
  },
  {
   "cell_type": "code",
   "execution_count": 31,
   "id": "empirical-skiing",
   "metadata": {},
   "outputs": [
    {
     "data": {
      "image/png": "[encoded data removed]",
      "text/plain": [
       "<Figure size 432x288 with 1 Axes>"
      ]
     },
     "metadata": {},
     "output_type": "display_data"
    }
   ],
   "source": [
    "plt.plot(np.cumsum(pca.explained_variance_ratio_))\n",
    "plt.xlabel('Number of PCA Components', fontsize=14)\n",
    "plt.ylabel('Cumulative Explained Variance', fontsize=14);\n",
    "plt.xlim([0,100])\n",
    "\n",
    "plt.tight_layout()\n",
    "plt.savefig('imgs/pca-1.png')"
   ]
  },
  {
   "cell_type": "code",
   "execution_count": 32,
   "id": "starting-tampa",
   "metadata": {},
   "outputs": [
    {
     "data": {
      "image/png": "[encoded data removed]",
      "text/plain": [
       "<Figure size 432x288 with 1 Axes>"
      ]
     },
     "metadata": {},
     "output_type": "display_data"
    }
   ],
   "source": [
    "plt.plot(np.cumsum(pca.explained_variance_ratio_))\n",
    "plt.xlabel('Number of PCA Components', fontsize=14)\n",
    "plt.ylabel('Cumulative Explained Variance', fontsize=14);\n",
    "plt.xlim([0,10])\n",
    "\n",
    "plt.tight_layout()\n",
    "plt.savefig('imgs/pca-2.png')"
   ]
  },
  {
   "cell_type": "code",
   "execution_count": 6,
   "id": "changing-peace",
   "metadata": {},
   "outputs": [
    {
     "name": "stdout",
     "output_type": "stream",
     "text": [
      "Best parameter (CV score=0.812):\n",
      "{'pca__n_components': 1, 'svc__C': 5, 'svc__gamma': 0.0001}\n"
     ]
    }
   ],
   "source": [
    "pca = PCA(n_components=10, whiten=True, random_state=42)\n",
    "svc = SVC(kernel='rbf', class_weight='balanced')\n",
    "model = make_pipeline(pca, svc)\n",
    "\n",
    "param_grid = {\n",
    "    'pca__n_components': [1,2,5,10,20,50],\n",
    "    'svc__C': [1, 5, 10, 50],\n",
    "    'svc__gamma': [0.0001, 0.0005, 0.001, 0.005]\n",
    "}\n",
    "\n",
    "search = GridSearchCV(model, param_grid, n_jobs=-1)\n",
    "\n",
    "search.fit(fluxArr, isplanetArr)\n",
    "print(\"Best parameter (CV score=%0.3f):\" % search.best_score_)\n",
    "print(search.best_params_)"
   ]
  },
  {
   "cell_type": "code",
   "execution_count": null,
   "id": "scenic-lewis",
   "metadata": {},
   "outputs": [],
   "source": []
  }
 ],
 "metadata": {
  "kernelspec": {
   "display_name": "Python 3",
   "language": "python",
   "name": "python3"
  },
  "language_info": {
   "codemirror_mode": {
    "name": "ipython",
    "version": 3
   },
   "file_extension": ".py",
   "mimetype": "text/x-python",
   "name": "python",
   "nbconvert_exporter": "python",
   "pygments_lexer": "ipython3",
   "version": "3.8.8"
  }
 },
 "nbformat": 4,
 "nbformat_minor": 5
}
