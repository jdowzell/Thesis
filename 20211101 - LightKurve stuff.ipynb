{
 "cells": [
  {
   "cell_type": "code",
   "execution_count": 1,
   "id": "interracial-dubai",
   "metadata": {},
   "outputs": [],
   "source": [
    "#!/usr/bin/env python3\n",
    "\n",
    "################################\n",
    "# Scientific imports\n",
    "################################\n",
    "import matplotlib.pyplot as plt\n",
    "import numpy as np\n",
    "\n",
    "from astroquery.mast import Observations\n",
    "from astroquery.mast import Catalogs\n",
    "\n",
    "from astropy.table import Table\n",
    "from astropy.table import QTable\n",
    "from astropy.io import fits\n",
    "from astropy import units as u\n",
    "from astropy.timeseries import BoxLeastSquares\n",
    "from astropy.timeseries import TimeSeries\n",
    "from astropy.stats import sigma_clipped_stats\n",
    "from astropy.timeseries import aggregate_downsample\n",
    "\n",
    "import lightkurve as lk\n",
    "\n",
    "################################\n",
    "# General imports\n",
    "################################\n",
    "import csv, math, io, os, os.path, sys, random, time, json, gc\n",
    "from datetime import datetime\n",
    "import pandas as pd\n",
    "import seaborn as sb\n",
    "from collections import Counter\n",
    "\n",
    "################################\n",
    "# Suppress Warnings\n",
    "################################\n",
    "import warnings\n",
    "warnings.simplefilter(action='ignore', category=UserWarning)\n",
    "warnings.simplefilter(action=\"ignore\", category=RuntimeWarning)\n",
    "\n",
    "################################\n",
    "# Initialisers\n",
    "################################\n",
    "plt.rcParams[\"figure.figsize\"] = (16,5)\n",
    "sb.set()\n",
    "\n",
    "# Load the Data files\n",
    "fitsarr = np.load(\"fitslist.npy\")"
   ]
  },
  {
   "cell_type": "code",
   "execution_count": 2,
   "id": "noted-accessory",
   "metadata": {},
   "outputs": [],
   "source": [
    "################################\n",
    "# Functions\n",
    "################################\n",
    "\n",
    "def LoadListGeneral(f):\n",
    "    \n",
    "    lst=[]\n",
    "    try:\n",
    "        # Assuming everything CAN go well, do this\n",
    "        with open(f\"./csv_files/Z_or_O_{f}.zip\") as df:\n",
    "            csvdf = csv.reader(df)\n",
    "            for lineholder in csvdf:\n",
    "                line = lineholder[0]                # 'lineholder' is a list, 1 element long, containing only a single string\n",
    "                if line[0]!=\"#\":                    # Ignore commented lines (lines w/ FIRST STRING ELEMENT is a # character)\n",
    "                    lst.append(line.split()[0])     # Add line to list\n",
    "                # endif\n",
    "            # endfor\n",
    "        # endwith\n",
    "    except FileNotFoundError:\n",
    "        print(\"FNF\")\n",
    "        return\n",
    "    # end try\n",
    "    \n",
    "    return lst\n",
    "\n",
    "def TidyCSV(f):\n",
    "    #csv_file = pd.read_csv(f'./csv_files/Z_or_O_{f}.zip')[1:-1].drop(['sap_flux', 'sap_flux_err', 'sap_flux_norm'], axis=1)\n",
    "    df = pd.DataFrame(pd.read_csv(f'./csv_files/Z_or_O_{f}.zip')[1:-1].drop(['sap_flux', 'sap_flux_err', 'sap_flux_norm'], axis=1))\n",
    "    \n",
    "    mean, median, stddev = sigma_clipped_stats(df['pdcsap_flux'])\n",
    "    df['pdcsap_flux_norm'] = df['pdcsap_flux'] / median\n",
    "    \n",
    "    compression_opts = dict(method=\"zip\", archive_name=f\"Z_or_O_{f}.csv\")  \n",
    "    df.to_csv(f\"./csv_files/Z_or_O_{f}.zip\", index=False, compression=compression_opts)"
   ]
  },
  {
   "cell_type": "code",
   "execution_count": 3,
   "id": "indirect-pressing",
   "metadata": {},
   "outputs": [],
   "source": [
    "TICID = np.load(\"ZeroOrOneExoplanetTICids.npy\")\n",
    "\n",
    "masterlist = [0] * len(TICID)"
   ]
  },
  {
   "cell_type": "code",
   "execution_count": 4,
   "id": "moderate-humanity",
   "metadata": {},
   "outputs": [
    {
     "data": {
      "text/plain": [
       "5068"
      ]
     },
     "execution_count": 4,
     "metadata": {},
     "output_type": "execute_result"
    }
   ],
   "source": [
    "TICID[0]"
   ]
  },
  {
   "cell_type": "code",
   "execution_count": 50,
   "id": "talented-evaluation",
   "metadata": {
    "jupyter": {
     "source_hidden": true
    },
    "tags": []
   },
   "outputs": [],
   "source": [
    "for i in TICID:\n",
    "    TidyCSV(i)"
   ]
  },
  {
   "cell_type": "code",
   "execution_count": 46,
   "id": "mathematical-alcohol",
   "metadata": {
    "tags": []
   },
   "outputs": [
    {
     "data": {
      "text/html": [
       "<div>\n",
       "<style scoped>\n",
       "    .dataframe tbody tr th:only-of-type {\n",
       "        vertical-align: middle;\n",
       "    }\n",
       "\n",
       "    .dataframe tbody tr th {\n",
       "        vertical-align: top;\n",
       "    }\n",
       "\n",
       "    .dataframe thead th {\n",
       "        text-align: right;\n",
       "    }\n",
       "</style>\n",
       "<table border=\"1\" class=\"dataframe\">\n",
       "  <thead>\n",
       "    <tr style=\"text-align: right;\">\n",
       "      <th></th>\n",
       "      <th>time</th>\n",
       "      <th>pdcsap_flux</th>\n",
       "      <th>pdcsap_flux_err</th>\n",
       "      <th>pdcsap_flux_norm</th>\n",
       "    </tr>\n",
       "  </thead>\n",
       "  <tbody>\n",
       "    <tr>\n",
       "      <th>0</th>\n",
       "      <td>0 days 02:14:52.764328536</td>\n",
       "      <td>116796.430</td>\n",
       "      <td>36.730910</td>\n",
       "      <td>1.000295</td>\n",
       "    </tr>\n",
       "    <tr>\n",
       "      <th>1</th>\n",
       "      <td>0 days 02:16:52.762477810</td>\n",
       "      <td>117205.800</td>\n",
       "      <td>36.772842</td>\n",
       "      <td>1.003801</td>\n",
       "    </tr>\n",
       "    <tr>\n",
       "      <th>2</th>\n",
       "      <td>0 days 02:18:52.760627084</td>\n",
       "      <td>116686.375</td>\n",
       "      <td>36.671310</td>\n",
       "      <td>0.999353</td>\n",
       "    </tr>\n",
       "    <tr>\n",
       "      <th>3</th>\n",
       "      <td>0 days 02:20:52.758776358</td>\n",
       "      <td>116946.625</td>\n",
       "      <td>36.704082</td>\n",
       "      <td>1.001581</td>\n",
       "    </tr>\n",
       "    <tr>\n",
       "      <th>4</th>\n",
       "      <td>0 days 02:22:52.756925632</td>\n",
       "      <td>116816.450</td>\n",
       "      <td>36.708570</td>\n",
       "      <td>1.000467</td>\n",
       "    </tr>\n",
       "    <tr>\n",
       "      <th>...</th>\n",
       "      <td>...</td>\n",
       "      <td>...</td>\n",
       "      <td>...</td>\n",
       "      <td>...</td>\n",
       "    </tr>\n",
       "    <tr>\n",
       "      <th>20074</th>\n",
       "      <td>-3 days +02:18:33.324426824</td>\n",
       "      <td>116868.780</td>\n",
       "      <td>36.719925</td>\n",
       "      <td>1.000915</td>\n",
       "    </tr>\n",
       "    <tr>\n",
       "      <th>20075</th>\n",
       "      <td>-3 days +02:20:33.318070007</td>\n",
       "      <td>116719.280</td>\n",
       "      <td>36.701084</td>\n",
       "      <td>0.999634</td>\n",
       "    </tr>\n",
       "    <tr>\n",
       "      <th>20076</th>\n",
       "      <td>-3 days +02:22:33.311672937</td>\n",
       "      <td>116513.336</td>\n",
       "      <td>36.660007</td>\n",
       "      <td>0.997871</td>\n",
       "    </tr>\n",
       "    <tr>\n",
       "      <th>20077</th>\n",
       "      <td>-3 days +02:24:33.305275866</td>\n",
       "      <td>116858.820</td>\n",
       "      <td>36.761040</td>\n",
       "      <td>1.000830</td>\n",
       "    </tr>\n",
       "    <tr>\n",
       "      <th>20078</th>\n",
       "      <td>-3 days +02:26:33.298878796</td>\n",
       "      <td>116742.945</td>\n",
       "      <td>36.749546</td>\n",
       "      <td>0.999837</td>\n",
       "    </tr>\n",
       "  </tbody>\n",
       "</table>\n",
       "<p>20079 rows × 4 columns</p>\n",
       "</div>"
      ],
      "text/plain": [
       "                              time  pdcsap_flux  pdcsap_flux_err  \\\n",
       "0        0 days 02:14:52.764328536   116796.430        36.730910   \n",
       "1        0 days 02:16:52.762477810   117205.800        36.772842   \n",
       "2        0 days 02:18:52.760627084   116686.375        36.671310   \n",
       "3        0 days 02:20:52.758776358   116946.625        36.704082   \n",
       "4        0 days 02:22:52.756925632   116816.450        36.708570   \n",
       "...                            ...          ...              ...   \n",
       "20074  -3 days +02:18:33.324426824   116868.780        36.719925   \n",
       "20075  -3 days +02:20:33.318070007   116719.280        36.701084   \n",
       "20076  -3 days +02:22:33.311672937   116513.336        36.660007   \n",
       "20077  -3 days +02:24:33.305275866   116858.820        36.761040   \n",
       "20078  -3 days +02:26:33.298878796   116742.945        36.749546   \n",
       "\n",
       "       pdcsap_flux_norm  \n",
       "0              1.000295  \n",
       "1              1.003801  \n",
       "2              0.999353  \n",
       "3              1.001581  \n",
       "4              1.000467  \n",
       "...                 ...  \n",
       "20074          1.000915  \n",
       "20075          0.999634  \n",
       "20076          0.997871  \n",
       "20077          1.000830  \n",
       "20078          0.999837  \n",
       "\n",
       "[20079 rows x 4 columns]"
      ]
     },
     "execution_count": 46,
     "metadata": {},
     "output_type": "execute_result"
    }
   ],
   "source": [
    "QWERTY = pd.read_csv('./csv_files/Z_or_O_5068.zip')\n",
    "QWERTY"
   ]
  },
  {
   "cell_type": "code",
   "execution_count": 53,
   "id": "banner-enforcement",
   "metadata": {},
   "outputs": [
    {
     "ename": "ValueError",
     "evalue": "Could not convert object to NumPy timedelta",
     "output_type": "error",
     "traceback": [
      "\u001b[0;31m---------------------------------------------------------------------------\u001b[0m",
      "\u001b[0;31mValueError\u001b[0m                                Traceback (most recent call last)",
      "\u001b[0;32m<ipython-input-53-2a709d01a0a3>\u001b[0m in \u001b[0;36m<module>\u001b[0;34m\u001b[0m\n\u001b[0;32m----> 1\u001b[0;31m \u001b[0mQWERTY\u001b[0m\u001b[0;34m[\u001b[0m\u001b[0;34m'time'\u001b[0m\u001b[0;34m]\u001b[0m\u001b[0;34m.\u001b[0m\u001b[0mastype\u001b[0m\u001b[0;34m(\u001b[0m\u001b[0;34m'timedelta64[ns]'\u001b[0m\u001b[0;34m)\u001b[0m\u001b[0;34m\u001b[0m\u001b[0;34m\u001b[0m\u001b[0m\n\u001b[0m",
      "\u001b[0;32m~/anaconda3/lib/python3.8/site-packages/pandas/core/generic.py\u001b[0m in \u001b[0;36mastype\u001b[0;34m(self, dtype, copy, errors)\u001b[0m\n\u001b[1;32m   5875\u001b[0m         \u001b[0;32melse\u001b[0m\u001b[0;34m:\u001b[0m\u001b[0;34m\u001b[0m\u001b[0;34m\u001b[0m\u001b[0m\n\u001b[1;32m   5876\u001b[0m             \u001b[0;31m# else, only a single dtype is given\u001b[0m\u001b[0;34m\u001b[0m\u001b[0;34m\u001b[0m\u001b[0;34m\u001b[0m\u001b[0m\n\u001b[0;32m-> 5877\u001b[0;31m             \u001b[0mnew_data\u001b[0m \u001b[0;34m=\u001b[0m \u001b[0mself\u001b[0m\u001b[0;34m.\u001b[0m\u001b[0m_mgr\u001b[0m\u001b[0;34m.\u001b[0m\u001b[0mastype\u001b[0m\u001b[0;34m(\u001b[0m\u001b[0mdtype\u001b[0m\u001b[0;34m=\u001b[0m\u001b[0mdtype\u001b[0m\u001b[0;34m,\u001b[0m \u001b[0mcopy\u001b[0m\u001b[0;34m=\u001b[0m\u001b[0mcopy\u001b[0m\u001b[0;34m,\u001b[0m \u001b[0merrors\u001b[0m\u001b[0;34m=\u001b[0m\u001b[0merrors\u001b[0m\u001b[0;34m)\u001b[0m\u001b[0;34m\u001b[0m\u001b[0;34m\u001b[0m\u001b[0m\n\u001b[0m\u001b[1;32m   5878\u001b[0m             \u001b[0;32mreturn\u001b[0m \u001b[0mself\u001b[0m\u001b[0;34m.\u001b[0m\u001b[0m_constructor\u001b[0m\u001b[0;34m(\u001b[0m\u001b[0mnew_data\u001b[0m\u001b[0;34m)\u001b[0m\u001b[0;34m.\u001b[0m\u001b[0m__finalize__\u001b[0m\u001b[0;34m(\u001b[0m\u001b[0mself\u001b[0m\u001b[0;34m,\u001b[0m \u001b[0mmethod\u001b[0m\u001b[0;34m=\u001b[0m\u001b[0;34m\"astype\"\u001b[0m\u001b[0;34m)\u001b[0m\u001b[0;34m\u001b[0m\u001b[0;34m\u001b[0m\u001b[0m\n\u001b[1;32m   5879\u001b[0m \u001b[0;34m\u001b[0m\u001b[0m\n",
      "\u001b[0;32m~/anaconda3/lib/python3.8/site-packages/pandas/core/internals/managers.py\u001b[0m in \u001b[0;36mastype\u001b[0;34m(self, dtype, copy, errors)\u001b[0m\n\u001b[1;32m    629\u001b[0m         \u001b[0mself\u001b[0m\u001b[0;34m,\u001b[0m \u001b[0mdtype\u001b[0m\u001b[0;34m,\u001b[0m \u001b[0mcopy\u001b[0m\u001b[0;34m:\u001b[0m \u001b[0mbool\u001b[0m \u001b[0;34m=\u001b[0m \u001b[0;32mFalse\u001b[0m\u001b[0;34m,\u001b[0m \u001b[0merrors\u001b[0m\u001b[0;34m:\u001b[0m \u001b[0mstr\u001b[0m \u001b[0;34m=\u001b[0m \u001b[0;34m\"raise\"\u001b[0m\u001b[0;34m\u001b[0m\u001b[0;34m\u001b[0m\u001b[0m\n\u001b[1;32m    630\u001b[0m     ) -> \"BlockManager\":\n\u001b[0;32m--> 631\u001b[0;31m         \u001b[0;32mreturn\u001b[0m \u001b[0mself\u001b[0m\u001b[0;34m.\u001b[0m\u001b[0mapply\u001b[0m\u001b[0;34m(\u001b[0m\u001b[0;34m\"astype\"\u001b[0m\u001b[0;34m,\u001b[0m \u001b[0mdtype\u001b[0m\u001b[0;34m=\u001b[0m\u001b[0mdtype\u001b[0m\u001b[0;34m,\u001b[0m \u001b[0mcopy\u001b[0m\u001b[0;34m=\u001b[0m\u001b[0mcopy\u001b[0m\u001b[0;34m,\u001b[0m \u001b[0merrors\u001b[0m\u001b[0;34m=\u001b[0m\u001b[0merrors\u001b[0m\u001b[0;34m)\u001b[0m\u001b[0;34m\u001b[0m\u001b[0;34m\u001b[0m\u001b[0m\n\u001b[0m\u001b[1;32m    632\u001b[0m \u001b[0;34m\u001b[0m\u001b[0m\n\u001b[1;32m    633\u001b[0m     def convert(\n",
      "\u001b[0;32m~/anaconda3/lib/python3.8/site-packages/pandas/core/internals/managers.py\u001b[0m in \u001b[0;36mapply\u001b[0;34m(self, f, align_keys, ignore_failures, **kwargs)\u001b[0m\n\u001b[1;32m    425\u001b[0m                     \u001b[0mapplied\u001b[0m \u001b[0;34m=\u001b[0m \u001b[0mb\u001b[0m\u001b[0;34m.\u001b[0m\u001b[0mapply\u001b[0m\u001b[0;34m(\u001b[0m\u001b[0mf\u001b[0m\u001b[0;34m,\u001b[0m \u001b[0;34m**\u001b[0m\u001b[0mkwargs\u001b[0m\u001b[0;34m)\u001b[0m\u001b[0;34m\u001b[0m\u001b[0;34m\u001b[0m\u001b[0m\n\u001b[1;32m    426\u001b[0m                 \u001b[0;32melse\u001b[0m\u001b[0;34m:\u001b[0m\u001b[0;34m\u001b[0m\u001b[0;34m\u001b[0m\u001b[0m\n\u001b[0;32m--> 427\u001b[0;31m                     \u001b[0mapplied\u001b[0m \u001b[0;34m=\u001b[0m \u001b[0mgetattr\u001b[0m\u001b[0;34m(\u001b[0m\u001b[0mb\u001b[0m\u001b[0;34m,\u001b[0m \u001b[0mf\u001b[0m\u001b[0;34m)\u001b[0m\u001b[0;34m(\u001b[0m\u001b[0;34m**\u001b[0m\u001b[0mkwargs\u001b[0m\u001b[0;34m)\u001b[0m\u001b[0;34m\u001b[0m\u001b[0;34m\u001b[0m\u001b[0m\n\u001b[0m\u001b[1;32m    428\u001b[0m             \u001b[0;32mexcept\u001b[0m \u001b[0;34m(\u001b[0m\u001b[0mTypeError\u001b[0m\u001b[0;34m,\u001b[0m \u001b[0mNotImplementedError\u001b[0m\u001b[0;34m)\u001b[0m\u001b[0;34m:\u001b[0m\u001b[0;34m\u001b[0m\u001b[0;34m\u001b[0m\u001b[0m\n\u001b[1;32m    429\u001b[0m                 \u001b[0;32mif\u001b[0m \u001b[0;32mnot\u001b[0m \u001b[0mignore_failures\u001b[0m\u001b[0;34m:\u001b[0m\u001b[0;34m\u001b[0m\u001b[0;34m\u001b[0m\u001b[0m\n",
      "\u001b[0;32m~/anaconda3/lib/python3.8/site-packages/pandas/core/internals/blocks.py\u001b[0m in \u001b[0;36mastype\u001b[0;34m(self, dtype, copy, errors)\u001b[0m\n\u001b[1;32m    671\u001b[0m             \u001b[0mvals1d\u001b[0m \u001b[0;34m=\u001b[0m \u001b[0mvalues\u001b[0m\u001b[0;34m.\u001b[0m\u001b[0mravel\u001b[0m\u001b[0;34m(\u001b[0m\u001b[0;34m)\u001b[0m\u001b[0;34m\u001b[0m\u001b[0;34m\u001b[0m\u001b[0m\n\u001b[1;32m    672\u001b[0m             \u001b[0;32mtry\u001b[0m\u001b[0;34m:\u001b[0m\u001b[0;34m\u001b[0m\u001b[0;34m\u001b[0m\u001b[0m\n\u001b[0;32m--> 673\u001b[0;31m                 \u001b[0mvalues\u001b[0m \u001b[0;34m=\u001b[0m \u001b[0mastype_nansafe\u001b[0m\u001b[0;34m(\u001b[0m\u001b[0mvals1d\u001b[0m\u001b[0;34m,\u001b[0m \u001b[0mdtype\u001b[0m\u001b[0;34m,\u001b[0m \u001b[0mcopy\u001b[0m\u001b[0;34m=\u001b[0m\u001b[0;32mTrue\u001b[0m\u001b[0;34m)\u001b[0m\u001b[0;34m\u001b[0m\u001b[0;34m\u001b[0m\u001b[0m\n\u001b[0m\u001b[1;32m    674\u001b[0m             \u001b[0;32mexcept\u001b[0m \u001b[0;34m(\u001b[0m\u001b[0mValueError\u001b[0m\u001b[0;34m,\u001b[0m \u001b[0mTypeError\u001b[0m\u001b[0;34m)\u001b[0m\u001b[0;34m:\u001b[0m\u001b[0;34m\u001b[0m\u001b[0;34m\u001b[0m\u001b[0m\n\u001b[1;32m    675\u001b[0m                 \u001b[0;31m# e.g. astype_nansafe can fail on object-dtype of strings\u001b[0m\u001b[0;34m\u001b[0m\u001b[0;34m\u001b[0m\u001b[0;34m\u001b[0m\u001b[0m\n",
      "\u001b[0;32m~/anaconda3/lib/python3.8/site-packages/pandas/core/dtypes/cast.py\u001b[0m in \u001b[0;36mastype_nansafe\u001b[0;34m(arr, dtype, copy, skipna)\u001b[0m\n\u001b[1;32m   1072\u001b[0m         \u001b[0;31m# work around NumPy brokenness, #1987\u001b[0m\u001b[0;34m\u001b[0m\u001b[0;34m\u001b[0m\u001b[0;34m\u001b[0m\u001b[0m\n\u001b[1;32m   1073\u001b[0m         \u001b[0;32mif\u001b[0m \u001b[0mnp\u001b[0m\u001b[0;34m.\u001b[0m\u001b[0missubdtype\u001b[0m\u001b[0;34m(\u001b[0m\u001b[0mdtype\u001b[0m\u001b[0;34m.\u001b[0m\u001b[0mtype\u001b[0m\u001b[0;34m,\u001b[0m \u001b[0mnp\u001b[0m\u001b[0;34m.\u001b[0m\u001b[0minteger\u001b[0m\u001b[0;34m)\u001b[0m\u001b[0;34m:\u001b[0m\u001b[0;34m\u001b[0m\u001b[0;34m\u001b[0m\u001b[0m\n\u001b[0;32m-> 1074\u001b[0;31m             \u001b[0;32mreturn\u001b[0m \u001b[0mlib\u001b[0m\u001b[0;34m.\u001b[0m\u001b[0mastype_intsafe\u001b[0m\u001b[0;34m(\u001b[0m\u001b[0marr\u001b[0m\u001b[0;34m.\u001b[0m\u001b[0mravel\u001b[0m\u001b[0;34m(\u001b[0m\u001b[0;34m)\u001b[0m\u001b[0;34m,\u001b[0m \u001b[0mdtype\u001b[0m\u001b[0;34m)\u001b[0m\u001b[0;34m.\u001b[0m\u001b[0mreshape\u001b[0m\u001b[0;34m(\u001b[0m\u001b[0marr\u001b[0m\u001b[0;34m.\u001b[0m\u001b[0mshape\u001b[0m\u001b[0;34m)\u001b[0m\u001b[0;34m\u001b[0m\u001b[0;34m\u001b[0m\u001b[0m\n\u001b[0m\u001b[1;32m   1075\u001b[0m \u001b[0;34m\u001b[0m\u001b[0m\n\u001b[1;32m   1076\u001b[0m         \u001b[0;31m# if we have a datetime/timedelta array of objects\u001b[0m\u001b[0;34m\u001b[0m\u001b[0;34m\u001b[0m\u001b[0;34m\u001b[0m\u001b[0m\n",
      "\u001b[0;32mpandas/_libs/lib.pyx\u001b[0m in \u001b[0;36mpandas._libs.lib.astype_intsafe\u001b[0;34m()\u001b[0m\n",
      "\u001b[0;31mValueError\u001b[0m: Could not convert object to NumPy timedelta"
     ]
    }
   ],
   "source": [
    "QWERTY['time'].astype('timedelta64[ns]')"
   ]
  },
  {
   "cell_type": "code",
   "execution_count": null,
   "id": "western-roommate",
   "metadata": {},
   "outputs": [],
   "source": []
  },
  {
   "cell_type": "code",
   "execution_count": 54,
   "id": "backed-prescription",
   "metadata": {},
   "outputs": [
    {
     "ename": "TypeError",
     "evalue": "DataFrame does not have a DatetimeIndex",
     "output_type": "error",
     "traceback": [
      "\u001b[0;31m---------------------------------------------------------------------------\u001b[0m",
      "\u001b[0;31mTypeError\u001b[0m                                 Traceback (most recent call last)",
      "\u001b[0;32m<ipython-input-54-b43da19fd05f>\u001b[0m in \u001b[0;36m<module>\u001b[0;34m\u001b[0m\n\u001b[0;32m----> 1\u001b[0;31m \u001b[0mts\u001b[0m \u001b[0;34m=\u001b[0m \u001b[0mTimeSeries\u001b[0m\u001b[0;34m.\u001b[0m\u001b[0mfrom_pandas\u001b[0m\u001b[0;34m(\u001b[0m\u001b[0mQWERTY\u001b[0m\u001b[0;34m)\u001b[0m\u001b[0;34m\u001b[0m\u001b[0;34m\u001b[0m\u001b[0m\n\u001b[0m\u001b[1;32m      2\u001b[0m \u001b[0mts\u001b[0m\u001b[0;34m\u001b[0m\u001b[0;34m\u001b[0m\u001b[0m\n",
      "\u001b[0;32m~/anaconda3/lib/python3.8/site-packages/astropy/timeseries/sampled.py\u001b[0m in \u001b[0;36mfrom_pandas\u001b[0;34m(self, df, time_scale)\u001b[0m\n\u001b[1;32m    297\u001b[0m \u001b[0;34m\u001b[0m\u001b[0m\n\u001b[1;32m    298\u001b[0m         \u001b[0;32mif\u001b[0m \u001b[0;32mnot\u001b[0m \u001b[0misinstance\u001b[0m\u001b[0;34m(\u001b[0m\u001b[0mdf\u001b[0m\u001b[0;34m.\u001b[0m\u001b[0mindex\u001b[0m\u001b[0;34m,\u001b[0m \u001b[0mDatetimeIndex\u001b[0m\u001b[0;34m)\u001b[0m\u001b[0;34m:\u001b[0m\u001b[0;34m\u001b[0m\u001b[0;34m\u001b[0m\u001b[0m\n\u001b[0;32m--> 299\u001b[0;31m             \u001b[0;32mraise\u001b[0m \u001b[0mTypeError\u001b[0m\u001b[0;34m(\u001b[0m\u001b[0;34m\"DataFrame does not have a DatetimeIndex\"\u001b[0m\u001b[0;34m)\u001b[0m\u001b[0;34m\u001b[0m\u001b[0;34m\u001b[0m\u001b[0m\n\u001b[0m\u001b[1;32m    300\u001b[0m \u001b[0;34m\u001b[0m\u001b[0m\n\u001b[1;32m    301\u001b[0m         \u001b[0mtime\u001b[0m \u001b[0;34m=\u001b[0m \u001b[0mTime\u001b[0m\u001b[0;34m(\u001b[0m\u001b[0mdf\u001b[0m\u001b[0;34m.\u001b[0m\u001b[0mindex\u001b[0m\u001b[0;34m,\u001b[0m \u001b[0mscale\u001b[0m\u001b[0;34m=\u001b[0m\u001b[0mtime_scale\u001b[0m\u001b[0;34m)\u001b[0m\u001b[0;34m\u001b[0m\u001b[0;34m\u001b[0m\u001b[0m\n",
      "\u001b[0;31mTypeError\u001b[0m: DataFrame does not have a DatetimeIndex"
     ]
    }
   ],
   "source": [
    "ts = TimeSeries.from_pandas(QWERTY)\n",
    "ts"
   ]
  },
  {
   "cell_type": "code",
   "execution_count": 7,
   "id": "international-aviation",
   "metadata": {},
   "outputs": [],
   "source": [
    "def MakeTimeSeries(f, binSize=0.2, timedBinSize=0.003):\n",
    "    \n",
    "    #print(\"Processing File {} of {}\".format(i+1,L))\n",
    "    \n",
    "    ts = TimeSeries.read(fitsarr[int(f)], format='tess.fits')\n",
    "    periodogram = BoxLeastSquares.from_timeseries(ts, 'pdcsap_flux')\n",
    "    results = periodogram.autopower(binSize * u.day)  \n",
    "    best = np.argmax(results.power)  \n",
    "    period = results.period[best]\n",
    "    transit_time = results.transit_time[best]\n",
    "    ts_folded = ts.fold(period=period, epoch=transit_time)\n",
    "    mean, median, stddev = sigma_clipped_stats(ts_folded['pdcsap_flux'])\n",
    "    ts_folded['pdcsap_flux_norm'] = ts_folded['pdcsap_flux'] / median\n",
    "    \n",
    "    # Delete unnecessary vars\n",
    "    del ts, periodogram, period, results, best, transit_time, mean, median, stddev\n",
    "    \n",
    "    print(\"   > Converting to DataFrame\")\n",
    "    dropcols = ['timecorr', 'cadenceno', 'sap_flux', 'sap_flux_err', 'sap_bkg', 'sap_bkg_err', 'quality',\n",
    "       'psf_centr1', 'psf_centr1_err', 'psf_centr2', 'psf_centr2_err',\n",
    "       'mom_centr1', 'mom_centr1_err', 'mom_centr2', 'mom_centr2_err',\n",
    "       'pos_corr1', 'pos_corr2']\n",
    "    df = pd.DataFrame(ts_folded.to_pandas()[1:-1].drop(dropcols, axis=1))\n",
    "    df = df.reset_index()\n",
    "    \n",
    "    print(\"   > Done!\")\n",
    "    return(df)\n",
    "\n",
    "#####################################################################################################################\n",
    "\n",
    "def MakeFoldedTimeSeries(f, binSize=0.2, timedBinSize=0.003):\n",
    "    \n",
    "    #print(\"Processing File {} of {}\".format(i+1,L))\n",
    "    \n",
    "    ts = TimeSeries.read(fitsarr[int(f)], format='tess.fits')\n",
    "    periodogram = BoxLeastSquares.from_timeseries(ts, 'pdcsap_flux')\n",
    "    results = periodogram.autopower(binSize * u.day)  \n",
    "    best = np.argmax(results.power)  \n",
    "    period = results.period[best]\n",
    "    \n",
    "    lc = lk.LightCurve(time=range(len(ts)), flux=ts['pdcsap_flux_norm'])\n",
    "    fold_lc = lc.fold(period=period, normalize_phase=True)\n",
    "    \n",
    "    print(\"   > Done!\")\n",
    "    return(ts[1:-1], period)"
   ]
  },
  {
   "cell_type": "code",
   "execution_count": 57,
   "id": "further-forwarding",
   "metadata": {},
   "outputs": [
    {
     "name": "stdout",
     "output_type": "stream",
     "text": [
      "   > Converting to DataFrame\n",
      "   > Done!\n"
     ]
    },
    {
     "data": {
      "text/html": [
       "<div>\n",
       "<style scoped>\n",
       "    .dataframe tbody tr th:only-of-type {\n",
       "        vertical-align: middle;\n",
       "    }\n",
       "\n",
       "    .dataframe tbody tr th {\n",
       "        vertical-align: top;\n",
       "    }\n",
       "\n",
       "    .dataframe thead th {\n",
       "        text-align: right;\n",
       "    }\n",
       "</style>\n",
       "<table border=\"1\" class=\"dataframe\">\n",
       "  <thead>\n",
       "    <tr style=\"text-align: right;\">\n",
       "      <th></th>\n",
       "      <th>time</th>\n",
       "      <th>pdcsap_flux</th>\n",
       "      <th>pdcsap_flux_err</th>\n",
       "      <th>pdcsap_flux_norm</th>\n",
       "    </tr>\n",
       "  </thead>\n",
       "  <tbody>\n",
       "    <tr>\n",
       "      <th>0</th>\n",
       "      <td>0 days 02:14:52.764328536</td>\n",
       "      <td>116796.429688</td>\n",
       "      <td>36.730911</td>\n",
       "      <td>1.000295</td>\n",
       "    </tr>\n",
       "    <tr>\n",
       "      <th>1</th>\n",
       "      <td>0 days 02:16:52.762477810</td>\n",
       "      <td>117205.796875</td>\n",
       "      <td>36.772842</td>\n",
       "      <td>1.003801</td>\n",
       "    </tr>\n",
       "    <tr>\n",
       "      <th>2</th>\n",
       "      <td>0 days 02:18:52.760627084</td>\n",
       "      <td>116686.375000</td>\n",
       "      <td>36.671310</td>\n",
       "      <td>0.999353</td>\n",
       "    </tr>\n",
       "    <tr>\n",
       "      <th>3</th>\n",
       "      <td>0 days 02:20:52.758776358</td>\n",
       "      <td>116946.625000</td>\n",
       "      <td>36.704082</td>\n",
       "      <td>1.001581</td>\n",
       "    </tr>\n",
       "    <tr>\n",
       "      <th>4</th>\n",
       "      <td>0 days 02:22:52.756925632</td>\n",
       "      <td>116816.453125</td>\n",
       "      <td>36.708569</td>\n",
       "      <td>1.000467</td>\n",
       "    </tr>\n",
       "    <tr>\n",
       "      <th>...</th>\n",
       "      <td>...</td>\n",
       "      <td>...</td>\n",
       "      <td>...</td>\n",
       "      <td>...</td>\n",
       "    </tr>\n",
       "    <tr>\n",
       "      <th>20074</th>\n",
       "      <td>-3 days +02:18:33.324426824</td>\n",
       "      <td>116868.781250</td>\n",
       "      <td>36.719925</td>\n",
       "      <td>1.000915</td>\n",
       "    </tr>\n",
       "    <tr>\n",
       "      <th>20075</th>\n",
       "      <td>-3 days +02:20:33.318070007</td>\n",
       "      <td>116719.281250</td>\n",
       "      <td>36.701084</td>\n",
       "      <td>0.999634</td>\n",
       "    </tr>\n",
       "    <tr>\n",
       "      <th>20076</th>\n",
       "      <td>-3 days +02:22:33.311672937</td>\n",
       "      <td>116513.335938</td>\n",
       "      <td>36.660007</td>\n",
       "      <td>0.997871</td>\n",
       "    </tr>\n",
       "    <tr>\n",
       "      <th>20077</th>\n",
       "      <td>-3 days +02:24:33.305275866</td>\n",
       "      <td>116858.820312</td>\n",
       "      <td>36.761040</td>\n",
       "      <td>1.000829</td>\n",
       "    </tr>\n",
       "    <tr>\n",
       "      <th>20078</th>\n",
       "      <td>-3 days +02:26:33.298878796</td>\n",
       "      <td>116742.945312</td>\n",
       "      <td>36.749546</td>\n",
       "      <td>0.999837</td>\n",
       "    </tr>\n",
       "  </tbody>\n",
       "</table>\n",
       "<p>20079 rows × 4 columns</p>\n",
       "</div>"
      ],
      "text/plain": [
       "                             time    pdcsap_flux  pdcsap_flux_err  \\\n",
       "0       0 days 02:14:52.764328536  116796.429688        36.730911   \n",
       "1       0 days 02:16:52.762477810  117205.796875        36.772842   \n",
       "2       0 days 02:18:52.760627084  116686.375000        36.671310   \n",
       "3       0 days 02:20:52.758776358  116946.625000        36.704082   \n",
       "4       0 days 02:22:52.756925632  116816.453125        36.708569   \n",
       "...                           ...            ...              ...   \n",
       "20074 -3 days +02:18:33.324426824  116868.781250        36.719925   \n",
       "20075 -3 days +02:20:33.318070007  116719.281250        36.701084   \n",
       "20076 -3 days +02:22:33.311672937  116513.335938        36.660007   \n",
       "20077 -3 days +02:24:33.305275866  116858.820312        36.761040   \n",
       "20078 -3 days +02:26:33.298878796  116742.945312        36.749546   \n",
       "\n",
       "       pdcsap_flux_norm  \n",
       "0              1.000295  \n",
       "1              1.003801  \n",
       "2              0.999353  \n",
       "3              1.001581  \n",
       "4              1.000467  \n",
       "...                 ...  \n",
       "20074          1.000915  \n",
       "20075          0.999634  \n",
       "20076          0.997871  \n",
       "20077          1.000829  \n",
       "20078          0.999837  \n",
       "\n",
       "[20079 rows x 4 columns]"
      ]
     },
     "execution_count": 57,
     "metadata": {},
     "output_type": "execute_result"
    }
   ],
   "source": [
    "df = MakeTimeSeries(TICID[0])\n",
    "#df = df.reset_index()\n",
    "df"
   ]
  },
  {
   "cell_type": "code",
   "execution_count": 8,
   "id": "extreme-cleveland",
   "metadata": {},
   "outputs": [
    {
     "name": "stdout",
     "output_type": "stream",
     "text": [
      "   > Done!\n"
     ]
    },
    {
     "data": {
      "text/html": [
       "<div><i>TimeSeries length=20079</i>\n",
       "<table id=\"table140467516891824\" class=\"table-striped table-bordered table-condensed\">\n",
       "<thead><tr><th>time</th><th>pdcsap_flux</th><th>pdcsap_flux_err</th><th>pdcsap_flux_norm</th></tr></thead>\n",
       "<thead><tr><th></th><th>electron / s</th><th>electron / s</th><th></th></tr></thead>\n",
       "<thead><tr><th>object</th><th>float32</th><th>float32</th><th>float32</th></tr></thead>\n",
       "<tr><td>2018-07-11T01:22:36.268</td><td>1.1679643e+05</td><td>3.6730911e+01</td><td>1.0002950e+00</td></tr>\n",
       "<tr><td>2018-07-11T01:24:36.267</td><td>1.1720580e+05</td><td>3.6772842e+01</td><td>1.0038011e+00</td></tr>\n",
       "<tr><td>2018-07-11T01:26:36.265</td><td>1.1668638e+05</td><td>3.6671310e+01</td><td>9.9935251e-01</td></tr>\n",
       "<tr><td>2018-07-11T01:28:36.263</td><td>1.1694662e+05</td><td>3.6704082e+01</td><td>1.0015814e+00</td></tr>\n",
       "<tr><td>2018-07-11T01:30:36.261</td><td>1.1681645e+05</td><td>3.6708569e+01</td><td>1.0004666e+00</td></tr>\n",
       "<tr><td>2018-07-11T01:32:36.259</td><td>1.1698708e+05</td><td>3.6750797e+01</td><td>1.0019279e+00</td></tr>\n",
       "<tr><td>...</td><td>...</td><td>...</td><td>...</td></tr>\n",
       "<tr><td>2018-08-08T07:03:19.140</td><td>1.1646191e+05</td><td>3.6687435e+01</td><td>9.9743015e-01</td></tr>\n",
       "<tr><td>2018-08-08T07:05:19.133</td><td>1.1701558e+05</td><td>3.6659203e+01</td><td>1.0021720e+00</td></tr>\n",
       "<tr><td>2018-08-08T07:07:19.127</td><td>1.1686878e+05</td><td>3.6719925e+01</td><td>1.0009147e+00</td></tr>\n",
       "<tr><td>2018-08-08T07:09:19.121</td><td>1.1671928e+05</td><td>3.6701084e+01</td><td>9.9963433e-01</td></tr>\n",
       "<tr><td>2018-08-08T07:11:19.114</td><td>1.1651334e+05</td><td>3.6660007e+01</td><td>9.9787050e-01</td></tr>\n",
       "<tr><td>2018-08-08T07:13:19.108</td><td>1.1685882e+05</td><td>3.6761040e+01</td><td>1.0008295e+00</td></tr>\n",
       "<tr><td>2018-08-08T07:15:19.102</td><td>1.1674295e+05</td><td>3.6749546e+01</td><td>9.9983698e-01</td></tr>\n",
       "</table></div>"
      ],
      "text/plain": [
       "<TimeSeries length=20079>\n",
       "          time           pdcsap_flux   pdcsap_flux_err pdcsap_flux_norm\n",
       "                         electron / s    electron / s                  \n",
       "         object            float32         float32         float32     \n",
       "----------------------- -------------- --------------- ----------------\n",
       "2018-07-11T01:22:36.268  1.1679643e+05   3.6730911e+01    1.0002950e+00\n",
       "2018-07-11T01:24:36.267  1.1720580e+05   3.6772842e+01    1.0038011e+00\n",
       "2018-07-11T01:26:36.265  1.1668638e+05   3.6671310e+01    9.9935251e-01\n",
       "2018-07-11T01:28:36.263  1.1694662e+05   3.6704082e+01    1.0015814e+00\n",
       "2018-07-11T01:30:36.261  1.1681645e+05   3.6708569e+01    1.0004666e+00\n",
       "2018-07-11T01:32:36.259  1.1698708e+05   3.6750797e+01    1.0019279e+00\n",
       "                    ...            ...             ...              ...\n",
       "2018-08-08T07:03:19.140  1.1646191e+05   3.6687435e+01    9.9743015e-01\n",
       "2018-08-08T07:05:19.133  1.1701558e+05   3.6659203e+01    1.0021720e+00\n",
       "2018-08-08T07:07:19.127  1.1686878e+05   3.6719925e+01    1.0009147e+00\n",
       "2018-08-08T07:09:19.121  1.1671928e+05   3.6701084e+01    9.9963433e-01\n",
       "2018-08-08T07:11:19.114  1.1651334e+05   3.6660007e+01    9.9787050e-01\n",
       "2018-08-08T07:13:19.108  1.1685882e+05   3.6761040e+01    1.0008295e+00\n",
       "2018-08-08T07:15:19.102  1.1674295e+05   3.6749546e+01    9.9983698e-01"
      ]
     },
     "execution_count": 8,
     "metadata": {},
     "output_type": "execute_result"
    }
   ],
   "source": [
    "ts,period = MakeFoldedTimeSeries(TICID[0])\n",
    "\n",
    "dropcols = ['timecorr', 'cadenceno', 'sap_flux', 'sap_flux_err', 'sap_bkg', 'sap_bkg_err', 'quality',\n",
    "       'psf_centr1', 'psf_centr1_err', 'psf_centr2', 'psf_centr2_err',\n",
    "       'mom_centr1', 'mom_centr1_err', 'mom_centr2', 'mom_centr2_err',\n",
    "       'pos_corr1', 'pos_corr2']\n",
    "ts.remove_columns(dropcols)\n",
    "mean, median, stddev = sigma_clipped_stats(ts['pdcsap_flux'])\n",
    "ts['pdcsap_flux_norm'] = ts['pdcsap_flux'] / median\n",
    "ts"
   ]
  },
  {
   "cell_type": "code",
   "execution_count": 16,
   "id": "b9c49a34-dd19-4b34-9662-dd3d6c2682ad",
   "metadata": {},
   "outputs": [
    {
     "data": {
      "text/html": [
       "<div><i>FoldedLightCurve length=20079</i>\n",
       "<table id=\"table140466376795904\" class=\"table-striped table-bordered table-condensed\">\n",
       "<thead><tr><th>time</th><th>flux</th><th>flux_err</th><th>time_original</th></tr></thead>\n",
       "<thead><tr><th></th><th></th><th></th><th></th></tr></thead>\n",
       "<thead><tr><th>float64</th><th>float32</th><th>float64</th><th>object</th></tr></thead>\n",
       "<tr><td>-0.4999647829075171</td><td>9.9680215e-01</td><td>nan</td><td>14926.0</td></tr>\n",
       "<tr><td>-0.49992848365193</td><td>9.9760866e-01</td><td>nan</td><td>16113.0</td></tr>\n",
       "<tr><td>-0.4998921843963428</td><td>1.0001611e+00</td><td>nan</td><td>17300.0</td></tr>\n",
       "<tr><td>-0.4998558851407557</td><td>1.0023500e+00</td><td>nan</td><td>18487.0</td></tr>\n",
       "<tr><td>-0.4998195858851685</td><td>9.9821132e-01</td><td>nan</td><td>19674.0</td></tr>\n",
       "<tr><td>-0.4995633267699473</td><td>1.0005928e+00</td><td>nan</td><td>505.0</td></tr>\n",
       "<tr><td>...</td><td>...</td><td>...</td><td>...</td></tr>\n",
       "<tr><td>0.49978112230350513</td><td>1.0005685e+00</td><td>nan</td><td>6617.0</td></tr>\n",
       "<tr><td>0.4998174215590923</td><td>9.9796754e-01</td><td>nan</td><td>7804.0</td></tr>\n",
       "<tr><td>0.4998537208146795</td><td>1.0002630e+00</td><td>nan</td><td>8991.0</td></tr>\n",
       "<tr><td>0.4998900200702666</td><td>1.0033691e+00</td><td>nan</td><td>10178.0</td></tr>\n",
       "<tr><td>0.4999263193258538</td><td>9.9884260e-01</td><td>nan</td><td>11365.0</td></tr>\n",
       "<tr><td>0.49996261858130847</td><td>9.9940836e-01</td><td>nan</td><td>12552.0</td></tr>\n",
       "<tr><td>0.49999891783689565</td><td>1.0062339e+00</td><td>nan</td><td>13739.0</td></tr>\n",
       "</table></div>"
      ],
      "text/plain": [
       "<FoldedLightCurve length=20079>\n",
       "        time             flux      flux_err time_original\n",
       "                                                         \n",
       "      float64          float32     float64      object   \n",
       "------------------- -------------- -------- -------------\n",
       "-0.4999647829075171  9.9680215e-01      nan       14926.0\n",
       "  -0.49992848365193  9.9760866e-01      nan       16113.0\n",
       "-0.4998921843963428  1.0001611e+00      nan       17300.0\n",
       "-0.4998558851407557  1.0023500e+00      nan       18487.0\n",
       "-0.4998195858851685  9.9821132e-01      nan       19674.0\n",
       "-0.4995633267699473  1.0005928e+00      nan         505.0\n",
       "                ...            ...      ...           ...\n",
       "0.49978112230350513  1.0005685e+00      nan        6617.0\n",
       " 0.4998174215590923  9.9796754e-01      nan        7804.0\n",
       " 0.4998537208146795  1.0002630e+00      nan        8991.0\n",
       " 0.4998900200702666  1.0033691e+00      nan       10178.0\n",
       " 0.4999263193258538  9.9884260e-01      nan       11365.0\n",
       "0.49996261858130847  9.9940836e-01      nan       12552.0\n",
       "0.49999891783689565  1.0062339e+00      nan       13739.0"
      ]
     },
     "execution_count": 16,
     "metadata": {},
     "output_type": "execute_result"
    }
   ],
   "source": [
    "lc = lk.LightCurve(time=range(len(ts)), flux=ts['pdcsap_flux_norm'])\n",
    "\n",
    "fold_lc = lc.fold(period=period, normalize_phase=True)\n",
    "fold_lc"
   ]
  },
  {
   "cell_type": "code",
   "execution_count": 18,
   "id": "naval-breakfast",
   "metadata": {},
   "outputs": [
    {
     "data": {
      "text/plain": [
       "<AxesSubplot:xlabel='Phase', ylabel='Flux'>"
      ]
     },
     "execution_count": 18,
     "metadata": {},
     "output_type": "execute_result"
    },
    {
     "data": {
      "image/png": "[encoded data removed]",
      "text/plain": [
       "<Figure size 848.5x400 with 1 Axes>"
      ]
     },
     "metadata": {},
     "output_type": "display_data"
    }
   ],
   "source": [
    "fold_lc.plot()"
   ]
  },
  {
   "cell_type": "code",
   "execution_count": 43,
   "id": "102b1e3b-c70d-4796-aea2-52b73a8ce49b",
   "metadata": {},
   "outputs": [
    {
     "ename": "TypeError",
     "evalue": "'method' object is not subscriptable",
     "output_type": "error",
     "traceback": [
      "\u001b[0;31m---------------------------------------------------------------------------\u001b[0m",
      "\u001b[0;31mTypeError\u001b[0m                                 Traceback (most recent call last)",
      "\u001b[0;32m/tmp/ipykernel_102179/273942517.py\u001b[0m in \u001b[0;36m<module>\u001b[0;34m\u001b[0m\n\u001b[0;32m----> 1\u001b[0;31m \u001b[0mfold_lc\u001b[0m\u001b[0;34m.\u001b[0m\u001b[0mitems\u001b[0m\u001b[0;34m[\u001b[0m\u001b[0;34m'flux'\u001b[0m\u001b[0;34m]\u001b[0m\u001b[0;34m\u001b[0m\u001b[0;34m\u001b[0m\u001b[0m\n\u001b[0m",
      "\u001b[0;31mTypeError\u001b[0m: 'method' object is not subscriptable"
     ]
    }
   ],
   "source": [
    "fold_lc.items['flux']"
   ]
  },
  {
   "cell_type": "code",
   "execution_count": null,
   "id": "c4c9ed4c-bb8f-478f-8a12-964be0a025cc",
   "metadata": {},
   "outputs": [],
   "source": []
  },
  {
   "cell_type": "code",
   "execution_count": null,
   "id": "be70452c-a26a-4d0e-9bdd-99fb8c769118",
   "metadata": {},
   "outputs": [],
   "source": []
  }
 ],
 "metadata": {
  "kernelspec": {
   "display_name": "Python 3 (ipykernel)",
   "language": "python",
   "name": "python3"
  },
  "language_info": {
   "codemirror_mode": {
    "name": "ipython",
    "version": 3
   },
   "file_extension": ".py",
   "mimetype": "text/x-python",
   "name": "python",
   "nbconvert_exporter": "python",
   "pygments_lexer": "ipython3",
   "version": "3.8.8"
  }
 },
 "nbformat": 4,
 "nbformat_minor": 5
}
