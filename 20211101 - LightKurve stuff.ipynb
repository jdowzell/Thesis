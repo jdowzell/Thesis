{
 "cells": [
  {
   "cell_type": "code",
   "execution_count": 1,
   "id": "interracial-dubai",
   "metadata": {},
   "outputs": [],
   "source": [
    "#!/usr/bin/env python3\n",
    "\n",
    "################################\n",
    "# Scientific imports\n",
    "################################\n",
    "import matplotlib.pyplot as plt\n",
    "import numpy as np\n",
    "\n",
    "from astroquery.mast import Observations\n",
    "from astroquery.mast import Catalogs\n",
    "\n",
    "from astropy.table import Table\n",
    "from astropy.table import QTable\n",
    "from astropy.io import fits\n",
    "from astropy import units as u\n",
    "from astropy.timeseries import BoxLeastSquares\n",
    "from astropy.timeseries import TimeSeries\n",
    "from astropy.stats import sigma_clipped_stats\n",
    "from astropy.timeseries import aggregate_downsample\n",
    "\n",
    "import lightkurve as lk\n",
    "\n",
    "################################\n",
    "# General imports\n",
    "################################\n",
    "import csv, math, io, os, os.path, sys, random, time, json, gc\n",
    "from datetime import datetime\n",
    "import pandas as pd\n",
    "import seaborn as sb\n",
    "from collections import Counter\n",
    "\n",
    "################################\n",
    "# Suppress Warnings\n",
    "################################\n",
    "import warnings\n",
    "warnings.simplefilter(action='ignore', category=UserWarning)\n",
    "warnings.simplefilter(action=\"ignore\", category=RuntimeWarning)\n",
    "\n",
    "################################\n",
    "# Initialisers\n",
    "################################\n",
    "plt.rcParams[\"figure.figsize\"] = (16,5)\n",
    "sb.set()\n",
    "\n",
    "# Load the Data files\n",
    "fitsarr = np.load(\"fitslist.npy\")"
   ]
  },
  {
   "cell_type": "code",
   "execution_count": 2,
   "id": "noted-accessory",
   "metadata": {},
   "outputs": [],
   "source": [
    "################################\n",
    "# Functions\n",
    "################################\n",
    "\n",
    "def LoadListGeneral(f):\n",
    "    \n",
    "    lst=[]\n",
    "    try:\n",
    "        # Assuming everything CAN go well, do this\n",
    "        with open(f\"./csv_files/Z_or_O_{f}.zip\") as df:\n",
    "            csvdf = csv.reader(df)\n",
    "            for lineholder in csvdf:\n",
    "                line = lineholder[0]                # 'lineholder' is a list, 1 element long, containing only a single string\n",
    "                if line[0]!=\"#\":                    # Ignore commented lines (lines w/ FIRST STRING ELEMENT is a # character)\n",
    "                    lst.append(line.split()[0])     # Add line to list\n",
    "                # endif\n",
    "            # endfor\n",
    "        # endwith\n",
    "    except FileNotFoundError:\n",
    "        print(\"FNF\")\n",
    "        return\n",
    "    # end try\n",
    "    \n",
    "    return lst\n",
    "\n",
    "def TidyCSV(f):\n",
    "    #csv_file = pd.read_csv(f'./csv_files/Z_or_O_{f}.zip')[1:-1].drop(['sap_flux', 'sap_flux_err', 'sap_flux_norm'], axis=1)\n",
    "    df = pd.DataFrame(pd.read_csv(f'./csv_files/Z_or_O_{f}.zip')[1:-1].drop(['sap_flux', 'sap_flux_err', 'sap_flux_norm'], axis=1))\n",
    "    \n",
    "    mean, median, stddev = sigma_clipped_stats(df['pdcsap_flux'])\n",
    "    df['pdcsap_flux_norm'] = df['pdcsap_flux'] / median\n",
    "    \n",
    "    compression_opts = dict(method=\"zip\", archive_name=f\"Z_or_O_{f}.csv\")  \n",
    "    df.to_csv(f\"./csv_files/Z_or_O_{f}.zip\", index=False, compression=compression_opts)"
   ]
  },
  {
   "cell_type": "code",
   "execution_count": 3,
   "id": "indirect-pressing",
   "metadata": {},
   "outputs": [],
   "source": [
    "TICID = np.load(\"ZeroOrOneExoplanetTICids.npy\")\n",
    "\n",
    "masterlist = [0] * len(TICID)"
   ]
  },
  {
   "cell_type": "code",
   "execution_count": 4,
   "id": "moderate-humanity",
   "metadata": {},
   "outputs": [
    {
     "data": {
      "text/plain": [
       "5068"
      ]
     },
     "execution_count": 4,
     "metadata": {},
     "output_type": "execute_result"
    }
   ],
   "source": [
    "TICID[0]"
   ]
  },
  {
   "cell_type": "code",
   "execution_count": 50,
   "id": "talented-evaluation",
   "metadata": {
    "jupyter": {
     "source_hidden": true
    },
    "tags": []
   },
   "outputs": [],
   "source": [
    "for i in TICID:\n",
    "    TidyCSV(i)"
   ]
  },
  {
   "cell_type": "code",
<<<<<<< HEAD
   "execution_count": 5,
=======
   "execution_count": 46,
>>>>>>> 1615dee2fea5a810ee3c9e19347fe6e47d118105
   "id": "mathematical-alcohol",
   "metadata": {
    "tags": []
   },
   "outputs": [
    {
     "data": {
      "text/html": [
       "<div>\n",
       "<style scoped>\n",
       "    .dataframe tbody tr th:only-of-type {\n",
       "        vertical-align: middle;\n",
       "    }\n",
       "\n",
       "    .dataframe tbody tr th {\n",
       "        vertical-align: top;\n",
       "    }\n",
       "\n",
       "    .dataframe thead th {\n",
       "        text-align: right;\n",
       "    }\n",
       "</style>\n",
       "<table border=\"1\" class=\"dataframe\">\n",
       "  <thead>\n",
       "    <tr style=\"text-align: right;\">\n",
       "      <th></th>\n",
       "      <th>time</th>\n",
       "      <th>pdcsap_flux</th>\n",
       "      <th>pdcsap_flux_err</th>\n",
       "      <th>pdcsap_flux_norm</th>\n",
       "    </tr>\n",
       "  </thead>\n",
       "  <tbody>\n",
       "    <tr>\n",
       "      <th>0</th>\n",
       "      <td>0 days 02:14:52.764328536</td>\n",
       "      <td>116796.430</td>\n",
       "      <td>36.730910</td>\n",
       "      <td>1.000295</td>\n",
       "    </tr>\n",
       "    <tr>\n",
       "      <th>1</th>\n",
       "      <td>0 days 02:16:52.762477810</td>\n",
       "      <td>117205.800</td>\n",
       "      <td>36.772842</td>\n",
       "      <td>1.003801</td>\n",
       "    </tr>\n",
       "    <tr>\n",
       "      <th>2</th>\n",
       "      <td>0 days 02:18:52.760627084</td>\n",
       "      <td>116686.375</td>\n",
       "      <td>36.671310</td>\n",
       "      <td>0.999353</td>\n",
       "    </tr>\n",
       "    <tr>\n",
       "      <th>3</th>\n",
       "      <td>0 days 02:20:52.758776358</td>\n",
       "      <td>116946.625</td>\n",
       "      <td>36.704082</td>\n",
       "      <td>1.001581</td>\n",
       "    </tr>\n",
       "    <tr>\n",
       "      <th>4</th>\n",
       "      <td>0 days 02:22:52.756925632</td>\n",
       "      <td>116816.450</td>\n",
       "      <td>36.708570</td>\n",
       "      <td>1.000467</td>\n",
       "    </tr>\n",
       "    <tr>\n",
       "      <th>...</th>\n",
       "      <td>...</td>\n",
       "      <td>...</td>\n",
       "      <td>...</td>\n",
       "      <td>...</td>\n",
       "    </tr>\n",
       "    <tr>\n",
       "      <th>20074</th>\n",
       "      <td>-3 days +02:18:33.324426824</td>\n",
       "      <td>116868.780</td>\n",
       "      <td>36.719925</td>\n",
       "      <td>1.000915</td>\n",
       "    </tr>\n",
       "    <tr>\n",
       "      <th>20075</th>\n",
       "      <td>-3 days +02:20:33.318070007</td>\n",
       "      <td>116719.280</td>\n",
       "      <td>36.701084</td>\n",
       "      <td>0.999634</td>\n",
       "    </tr>\n",
       "    <tr>\n",
       "      <th>20076</th>\n",
       "      <td>-3 days +02:22:33.311672937</td>\n",
       "      <td>116513.336</td>\n",
       "      <td>36.660007</td>\n",
       "      <td>0.997871</td>\n",
       "    </tr>\n",
       "    <tr>\n",
       "      <th>20077</th>\n",
       "      <td>-3 days +02:24:33.305275866</td>\n",
       "      <td>116858.820</td>\n",
       "      <td>36.761040</td>\n",
       "      <td>1.000830</td>\n",
       "    </tr>\n",
       "    <tr>\n",
       "      <th>20078</th>\n",
       "      <td>-3 days +02:26:33.298878796</td>\n",
       "      <td>116742.945</td>\n",
       "      <td>36.749546</td>\n",
       "      <td>0.999837</td>\n",
       "    </tr>\n",
       "  </tbody>\n",
       "</table>\n",
       "<p>20079 rows × 4 columns</p>\n",
       "</div>"
      ],
      "text/plain": [
       "                              time  pdcsap_flux  pdcsap_flux_err  \\\n",
       "0        0 days 02:14:52.764328536   116796.430        36.730910   \n",
       "1        0 days 02:16:52.762477810   117205.800        36.772842   \n",
       "2        0 days 02:18:52.760627084   116686.375        36.671310   \n",
       "3        0 days 02:20:52.758776358   116946.625        36.704082   \n",
       "4        0 days 02:22:52.756925632   116816.450        36.708570   \n",
       "...                            ...          ...              ...   \n",
       "20074  -3 days +02:18:33.324426824   116868.780        36.719925   \n",
       "20075  -3 days +02:20:33.318070007   116719.280        36.701084   \n",
       "20076  -3 days +02:22:33.311672937   116513.336        36.660007   \n",
       "20077  -3 days +02:24:33.305275866   116858.820        36.761040   \n",
       "20078  -3 days +02:26:33.298878796   116742.945        36.749546   \n",
       "\n",
       "       pdcsap_flux_norm  \n",
       "0              1.000295  \n",
       "1              1.003801  \n",
       "2              0.999353  \n",
       "3              1.001581  \n",
       "4              1.000467  \n",
       "...                 ...  \n",
       "20074          1.000915  \n",
       "20075          0.999634  \n",
       "20076          0.997871  \n",
       "20077          1.000830  \n",
       "20078          0.999837  \n",
       "\n",
       "[20079 rows x 4 columns]"
      ]
     },
<<<<<<< HEAD
     "execution_count": 5,
=======
     "execution_count": 46,
>>>>>>> 1615dee2fea5a810ee3c9e19347fe6e47d118105
     "metadata": {},
     "output_type": "execute_result"
    }
   ],
   "source": [
    "QWERTY = pd.read_csv('./csv_files/Z_or_O_5068.zip')\n",
    "QWERTY"
   ]
  },
  {
   "cell_type": "code",
<<<<<<< HEAD
   "execution_count": 48,
=======
   "execution_count": 53,
   "id": "banner-enforcement",
   "metadata": {},
   "outputs": [
    {
     "ename": "ValueError",
     "evalue": "Could not convert object to NumPy timedelta",
     "output_type": "error",
     "traceback": [
      "\u001b[0;31m---------------------------------------------------------------------------\u001b[0m",
      "\u001b[0;31mValueError\u001b[0m                                Traceback (most recent call last)",
      "\u001b[0;32m<ipython-input-53-2a709d01a0a3>\u001b[0m in \u001b[0;36m<module>\u001b[0;34m\u001b[0m\n\u001b[0;32m----> 1\u001b[0;31m \u001b[0mQWERTY\u001b[0m\u001b[0;34m[\u001b[0m\u001b[0;34m'time'\u001b[0m\u001b[0;34m]\u001b[0m\u001b[0;34m.\u001b[0m\u001b[0mastype\u001b[0m\u001b[0;34m(\u001b[0m\u001b[0;34m'timedelta64[ns]'\u001b[0m\u001b[0;34m)\u001b[0m\u001b[0;34m\u001b[0m\u001b[0;34m\u001b[0m\u001b[0m\n\u001b[0m",
      "\u001b[0;32m~/anaconda3/lib/python3.8/site-packages/pandas/core/generic.py\u001b[0m in \u001b[0;36mastype\u001b[0;34m(self, dtype, copy, errors)\u001b[0m\n\u001b[1;32m   5875\u001b[0m         \u001b[0;32melse\u001b[0m\u001b[0;34m:\u001b[0m\u001b[0;34m\u001b[0m\u001b[0;34m\u001b[0m\u001b[0m\n\u001b[1;32m   5876\u001b[0m             \u001b[0;31m# else, only a single dtype is given\u001b[0m\u001b[0;34m\u001b[0m\u001b[0;34m\u001b[0m\u001b[0;34m\u001b[0m\u001b[0m\n\u001b[0;32m-> 5877\u001b[0;31m             \u001b[0mnew_data\u001b[0m \u001b[0;34m=\u001b[0m \u001b[0mself\u001b[0m\u001b[0;34m.\u001b[0m\u001b[0m_mgr\u001b[0m\u001b[0;34m.\u001b[0m\u001b[0mastype\u001b[0m\u001b[0;34m(\u001b[0m\u001b[0mdtype\u001b[0m\u001b[0;34m=\u001b[0m\u001b[0mdtype\u001b[0m\u001b[0;34m,\u001b[0m \u001b[0mcopy\u001b[0m\u001b[0;34m=\u001b[0m\u001b[0mcopy\u001b[0m\u001b[0;34m,\u001b[0m \u001b[0merrors\u001b[0m\u001b[0;34m=\u001b[0m\u001b[0merrors\u001b[0m\u001b[0;34m)\u001b[0m\u001b[0;34m\u001b[0m\u001b[0;34m\u001b[0m\u001b[0m\n\u001b[0m\u001b[1;32m   5878\u001b[0m             \u001b[0;32mreturn\u001b[0m \u001b[0mself\u001b[0m\u001b[0;34m.\u001b[0m\u001b[0m_constructor\u001b[0m\u001b[0;34m(\u001b[0m\u001b[0mnew_data\u001b[0m\u001b[0;34m)\u001b[0m\u001b[0;34m.\u001b[0m\u001b[0m__finalize__\u001b[0m\u001b[0;34m(\u001b[0m\u001b[0mself\u001b[0m\u001b[0;34m,\u001b[0m \u001b[0mmethod\u001b[0m\u001b[0;34m=\u001b[0m\u001b[0;34m\"astype\"\u001b[0m\u001b[0;34m)\u001b[0m\u001b[0;34m\u001b[0m\u001b[0;34m\u001b[0m\u001b[0m\n\u001b[1;32m   5879\u001b[0m \u001b[0;34m\u001b[0m\u001b[0m\n",
      "\u001b[0;32m~/anaconda3/lib/python3.8/site-packages/pandas/core/internals/managers.py\u001b[0m in \u001b[0;36mastype\u001b[0;34m(self, dtype, copy, errors)\u001b[0m\n\u001b[1;32m    629\u001b[0m         \u001b[0mself\u001b[0m\u001b[0;34m,\u001b[0m \u001b[0mdtype\u001b[0m\u001b[0;34m,\u001b[0m \u001b[0mcopy\u001b[0m\u001b[0;34m:\u001b[0m \u001b[0mbool\u001b[0m \u001b[0;34m=\u001b[0m \u001b[0;32mFalse\u001b[0m\u001b[0;34m,\u001b[0m \u001b[0merrors\u001b[0m\u001b[0;34m:\u001b[0m \u001b[0mstr\u001b[0m \u001b[0;34m=\u001b[0m \u001b[0;34m\"raise\"\u001b[0m\u001b[0;34m\u001b[0m\u001b[0;34m\u001b[0m\u001b[0m\n\u001b[1;32m    630\u001b[0m     ) -> \"BlockManager\":\n\u001b[0;32m--> 631\u001b[0;31m         \u001b[0;32mreturn\u001b[0m \u001b[0mself\u001b[0m\u001b[0;34m.\u001b[0m\u001b[0mapply\u001b[0m\u001b[0;34m(\u001b[0m\u001b[0;34m\"astype\"\u001b[0m\u001b[0;34m,\u001b[0m \u001b[0mdtype\u001b[0m\u001b[0;34m=\u001b[0m\u001b[0mdtype\u001b[0m\u001b[0;34m,\u001b[0m \u001b[0mcopy\u001b[0m\u001b[0;34m=\u001b[0m\u001b[0mcopy\u001b[0m\u001b[0;34m,\u001b[0m \u001b[0merrors\u001b[0m\u001b[0;34m=\u001b[0m\u001b[0merrors\u001b[0m\u001b[0;34m)\u001b[0m\u001b[0;34m\u001b[0m\u001b[0;34m\u001b[0m\u001b[0m\n\u001b[0m\u001b[1;32m    632\u001b[0m \u001b[0;34m\u001b[0m\u001b[0m\n\u001b[1;32m    633\u001b[0m     def convert(\n",
      "\u001b[0;32m~/anaconda3/lib/python3.8/site-packages/pandas/core/internals/managers.py\u001b[0m in \u001b[0;36mapply\u001b[0;34m(self, f, align_keys, ignore_failures, **kwargs)\u001b[0m\n\u001b[1;32m    425\u001b[0m                     \u001b[0mapplied\u001b[0m \u001b[0;34m=\u001b[0m \u001b[0mb\u001b[0m\u001b[0;34m.\u001b[0m\u001b[0mapply\u001b[0m\u001b[0;34m(\u001b[0m\u001b[0mf\u001b[0m\u001b[0;34m,\u001b[0m \u001b[0;34m**\u001b[0m\u001b[0mkwargs\u001b[0m\u001b[0;34m)\u001b[0m\u001b[0;34m\u001b[0m\u001b[0;34m\u001b[0m\u001b[0m\n\u001b[1;32m    426\u001b[0m                 \u001b[0;32melse\u001b[0m\u001b[0;34m:\u001b[0m\u001b[0;34m\u001b[0m\u001b[0;34m\u001b[0m\u001b[0m\n\u001b[0;32m--> 427\u001b[0;31m                     \u001b[0mapplied\u001b[0m \u001b[0;34m=\u001b[0m \u001b[0mgetattr\u001b[0m\u001b[0;34m(\u001b[0m\u001b[0mb\u001b[0m\u001b[0;34m,\u001b[0m \u001b[0mf\u001b[0m\u001b[0;34m)\u001b[0m\u001b[0;34m(\u001b[0m\u001b[0;34m**\u001b[0m\u001b[0mkwargs\u001b[0m\u001b[0;34m)\u001b[0m\u001b[0;34m\u001b[0m\u001b[0;34m\u001b[0m\u001b[0m\n\u001b[0m\u001b[1;32m    428\u001b[0m             \u001b[0;32mexcept\u001b[0m \u001b[0;34m(\u001b[0m\u001b[0mTypeError\u001b[0m\u001b[0;34m,\u001b[0m \u001b[0mNotImplementedError\u001b[0m\u001b[0;34m)\u001b[0m\u001b[0;34m:\u001b[0m\u001b[0;34m\u001b[0m\u001b[0;34m\u001b[0m\u001b[0m\n\u001b[1;32m    429\u001b[0m                 \u001b[0;32mif\u001b[0m \u001b[0;32mnot\u001b[0m \u001b[0mignore_failures\u001b[0m\u001b[0;34m:\u001b[0m\u001b[0;34m\u001b[0m\u001b[0;34m\u001b[0m\u001b[0m\n",
      "\u001b[0;32m~/anaconda3/lib/python3.8/site-packages/pandas/core/internals/blocks.py\u001b[0m in \u001b[0;36mastype\u001b[0;34m(self, dtype, copy, errors)\u001b[0m\n\u001b[1;32m    671\u001b[0m             \u001b[0mvals1d\u001b[0m \u001b[0;34m=\u001b[0m \u001b[0mvalues\u001b[0m\u001b[0;34m.\u001b[0m\u001b[0mravel\u001b[0m\u001b[0;34m(\u001b[0m\u001b[0;34m)\u001b[0m\u001b[0;34m\u001b[0m\u001b[0;34m\u001b[0m\u001b[0m\n\u001b[1;32m    672\u001b[0m             \u001b[0;32mtry\u001b[0m\u001b[0;34m:\u001b[0m\u001b[0;34m\u001b[0m\u001b[0;34m\u001b[0m\u001b[0m\n\u001b[0;32m--> 673\u001b[0;31m                 \u001b[0mvalues\u001b[0m \u001b[0;34m=\u001b[0m \u001b[0mastype_nansafe\u001b[0m\u001b[0;34m(\u001b[0m\u001b[0mvals1d\u001b[0m\u001b[0;34m,\u001b[0m \u001b[0mdtype\u001b[0m\u001b[0;34m,\u001b[0m \u001b[0mcopy\u001b[0m\u001b[0;34m=\u001b[0m\u001b[0;32mTrue\u001b[0m\u001b[0;34m)\u001b[0m\u001b[0;34m\u001b[0m\u001b[0;34m\u001b[0m\u001b[0m\n\u001b[0m\u001b[1;32m    674\u001b[0m             \u001b[0;32mexcept\u001b[0m \u001b[0;34m(\u001b[0m\u001b[0mValueError\u001b[0m\u001b[0;34m,\u001b[0m \u001b[0mTypeError\u001b[0m\u001b[0;34m)\u001b[0m\u001b[0;34m:\u001b[0m\u001b[0;34m\u001b[0m\u001b[0;34m\u001b[0m\u001b[0m\n\u001b[1;32m    675\u001b[0m                 \u001b[0;31m# e.g. astype_nansafe can fail on object-dtype of strings\u001b[0m\u001b[0;34m\u001b[0m\u001b[0;34m\u001b[0m\u001b[0;34m\u001b[0m\u001b[0m\n",
      "\u001b[0;32m~/anaconda3/lib/python3.8/site-packages/pandas/core/dtypes/cast.py\u001b[0m in \u001b[0;36mastype_nansafe\u001b[0;34m(arr, dtype, copy, skipna)\u001b[0m\n\u001b[1;32m   1072\u001b[0m         \u001b[0;31m# work around NumPy brokenness, #1987\u001b[0m\u001b[0;34m\u001b[0m\u001b[0;34m\u001b[0m\u001b[0;34m\u001b[0m\u001b[0m\n\u001b[1;32m   1073\u001b[0m         \u001b[0;32mif\u001b[0m \u001b[0mnp\u001b[0m\u001b[0;34m.\u001b[0m\u001b[0missubdtype\u001b[0m\u001b[0;34m(\u001b[0m\u001b[0mdtype\u001b[0m\u001b[0;34m.\u001b[0m\u001b[0mtype\u001b[0m\u001b[0;34m,\u001b[0m \u001b[0mnp\u001b[0m\u001b[0;34m.\u001b[0m\u001b[0minteger\u001b[0m\u001b[0;34m)\u001b[0m\u001b[0;34m:\u001b[0m\u001b[0;34m\u001b[0m\u001b[0;34m\u001b[0m\u001b[0m\n\u001b[0;32m-> 1074\u001b[0;31m             \u001b[0;32mreturn\u001b[0m \u001b[0mlib\u001b[0m\u001b[0;34m.\u001b[0m\u001b[0mastype_intsafe\u001b[0m\u001b[0;34m(\u001b[0m\u001b[0marr\u001b[0m\u001b[0;34m.\u001b[0m\u001b[0mravel\u001b[0m\u001b[0;34m(\u001b[0m\u001b[0;34m)\u001b[0m\u001b[0;34m,\u001b[0m \u001b[0mdtype\u001b[0m\u001b[0;34m)\u001b[0m\u001b[0;34m.\u001b[0m\u001b[0mreshape\u001b[0m\u001b[0;34m(\u001b[0m\u001b[0marr\u001b[0m\u001b[0;34m.\u001b[0m\u001b[0mshape\u001b[0m\u001b[0;34m)\u001b[0m\u001b[0;34m\u001b[0m\u001b[0;34m\u001b[0m\u001b[0m\n\u001b[0m\u001b[1;32m   1075\u001b[0m \u001b[0;34m\u001b[0m\u001b[0m\n\u001b[1;32m   1076\u001b[0m         \u001b[0;31m# if we have a datetime/timedelta array of objects\u001b[0m\u001b[0;34m\u001b[0m\u001b[0;34m\u001b[0m\u001b[0;34m\u001b[0m\u001b[0m\n",
      "\u001b[0;32mpandas/_libs/lib.pyx\u001b[0m in \u001b[0;36mpandas._libs.lib.astype_intsafe\u001b[0;34m()\u001b[0m\n",
      "\u001b[0;31mValueError\u001b[0m: Could not convert object to NumPy timedelta"
     ]
    }
   ],
   "source": [
    "QWERTY['time'].astype('timedelta64[ns]')"
   ]
  },
  {
   "cell_type": "code",
   "execution_count": null,
   "id": "western-roommate",
   "metadata": {},
   "outputs": [],
   "source": []
  },
  {
   "cell_type": "code",
   "execution_count": 54,
   "id": "backed-prescription",
   "metadata": {},
   "outputs": [
    {
     "ename": "TypeError",
     "evalue": "DataFrame does not have a DatetimeIndex",
     "output_type": "error",
     "traceback": [
      "\u001b[0;31m---------------------------------------------------------------------------\u001b[0m",
      "\u001b[0;31mTypeError\u001b[0m                                 Traceback (most recent call last)",
      "\u001b[0;32m<ipython-input-54-b43da19fd05f>\u001b[0m in \u001b[0;36m<module>\u001b[0;34m\u001b[0m\n\u001b[0;32m----> 1\u001b[0;31m \u001b[0mts\u001b[0m \u001b[0;34m=\u001b[0m \u001b[0mTimeSeries\u001b[0m\u001b[0;34m.\u001b[0m\u001b[0mfrom_pandas\u001b[0m\u001b[0;34m(\u001b[0m\u001b[0mQWERTY\u001b[0m\u001b[0;34m)\u001b[0m\u001b[0;34m\u001b[0m\u001b[0;34m\u001b[0m\u001b[0m\n\u001b[0m\u001b[1;32m      2\u001b[0m \u001b[0mts\u001b[0m\u001b[0;34m\u001b[0m\u001b[0;34m\u001b[0m\u001b[0m\n",
      "\u001b[0;32m~/anaconda3/lib/python3.8/site-packages/astropy/timeseries/sampled.py\u001b[0m in \u001b[0;36mfrom_pandas\u001b[0;34m(self, df, time_scale)\u001b[0m\n\u001b[1;32m    297\u001b[0m \u001b[0;34m\u001b[0m\u001b[0m\n\u001b[1;32m    298\u001b[0m         \u001b[0;32mif\u001b[0m \u001b[0;32mnot\u001b[0m \u001b[0misinstance\u001b[0m\u001b[0;34m(\u001b[0m\u001b[0mdf\u001b[0m\u001b[0;34m.\u001b[0m\u001b[0mindex\u001b[0m\u001b[0;34m,\u001b[0m \u001b[0mDatetimeIndex\u001b[0m\u001b[0;34m)\u001b[0m\u001b[0;34m:\u001b[0m\u001b[0;34m\u001b[0m\u001b[0;34m\u001b[0m\u001b[0m\n\u001b[0;32m--> 299\u001b[0;31m             \u001b[0;32mraise\u001b[0m \u001b[0mTypeError\u001b[0m\u001b[0;34m(\u001b[0m\u001b[0;34m\"DataFrame does not have a DatetimeIndex\"\u001b[0m\u001b[0;34m)\u001b[0m\u001b[0;34m\u001b[0m\u001b[0;34m\u001b[0m\u001b[0m\n\u001b[0m\u001b[1;32m    300\u001b[0m \u001b[0;34m\u001b[0m\u001b[0m\n\u001b[1;32m    301\u001b[0m         \u001b[0mtime\u001b[0m \u001b[0;34m=\u001b[0m \u001b[0mTime\u001b[0m\u001b[0;34m(\u001b[0m\u001b[0mdf\u001b[0m\u001b[0;34m.\u001b[0m\u001b[0mindex\u001b[0m\u001b[0;34m,\u001b[0m \u001b[0mscale\u001b[0m\u001b[0;34m=\u001b[0m\u001b[0mtime_scale\u001b[0m\u001b[0;34m)\u001b[0m\u001b[0;34m\u001b[0m\u001b[0;34m\u001b[0m\u001b[0m\n",
      "\u001b[0;31mTypeError\u001b[0m: DataFrame does not have a DatetimeIndex"
     ]
    }
   ],
   "source": [
    "ts = TimeSeries.from_pandas(QWERTY)\n",
    "ts"
   ]
  },
  {
   "cell_type": "code",
   "execution_count": 7,
>>>>>>> 1615dee2fea5a810ee3c9e19347fe6e47d118105
   "id": "international-aviation",
   "metadata": {},
   "outputs": [],
   "source": [
    "def MakeTimeSeries(f, binSize=0.2, timedBinSize=0.003):\n",
    "    \n",
    "    #print(\"Processing File {} of {}\".format(i+1,L))\n",
    "    \n",
    "    ts = TimeSeries.read(fitsarr[int(f)], format='tess.fits')\n",
    "    periodogram = BoxLeastSquares.from_timeseries(ts, 'pdcsap_flux')\n",
    "    results = periodogram.autopower(binSize * u.day)  \n",
    "    best = np.argmax(results.power)  \n",
    "    period = results.period[best]\n",
    "    transit_time = results.transit_time[best]\n",
<<<<<<< HEAD
    "    ts_folded = ts.fold(period=period) #, epoch=transit_time)\n",
=======
    "    ts_folded = ts.fold(period=period, epoch=transit_time)\n",
>>>>>>> 1615dee2fea5a810ee3c9e19347fe6e47d118105
    "    mean, median, stddev = sigma_clipped_stats(ts_folded['pdcsap_flux'])\n",
    "    ts_folded['pdcsap_flux_norm'] = ts_folded['pdcsap_flux'] / median\n",
    "    \n",
    "    # Delete unnecessary vars\n",
    "    del ts, periodogram, period, results, best, transit_time, mean, median, stddev\n",
    "    \n",
    "    print(\"   > Converting to DataFrame\")\n",
    "    dropcols = ['timecorr', 'cadenceno', 'sap_flux', 'sap_flux_err', 'sap_bkg', 'sap_bkg_err', 'quality',\n",
    "       'psf_centr1', 'psf_centr1_err', 'psf_centr2', 'psf_centr2_err',\n",
    "       'mom_centr1', 'mom_centr1_err', 'mom_centr2', 'mom_centr2_err',\n",
    "       'pos_corr1', 'pos_corr2']\n",
    "    df = pd.DataFrame(ts_folded.to_pandas()[1:-1].drop(dropcols, axis=1))\n",
    "    df = df.reset_index()\n",
    "    \n",
    "    print(\"   > Done!\")\n",
    "    return(df)\n",
    "\n",
    "#####################################################################################################################\n",
    "\n",
    "def MakeFoldedTimeSeries(f, binSize=0.2, timedBinSize=0.003):\n",
    "    \n",
    "    #print(\"Processing File {} of {}\".format(i+1,L))\n",
    "    \n",
    "    ts = TimeSeries.read(fitsarr[int(f)], format='tess.fits')\n",
    "    periodogram = BoxLeastSquares.from_timeseries(ts, 'pdcsap_flux')\n",
    "    results = periodogram.autopower(binSize * u.day)  \n",
    "    best = np.argmax(results.power)  \n",
    "    period = results.period[best]\n",
    "    \n",
<<<<<<< HEAD
    "    ts = ts[1:-1]\n",
    "    \n",
    "    dropcols = ['timecorr', 'cadenceno', 'sap_flux', 'sap_flux_err', 'sap_bkg', 'sap_bkg_err', 'quality',\n",
    "       'psf_centr1', 'psf_centr1_err', 'psf_centr2', 'psf_centr2_err',\n",
    "       'mom_centr1', 'mom_centr1_err', 'mom_centr2', 'mom_centr2_err',\n",
    "       'pos_corr1', 'pos_corr2']\n",
    "    \n",
    "    ts.remove_columns(dropcols)\n",
    "    mean, median, stddev = sigma_clipped_stats(ts['pdcsap_flux'])\n",
    "    ts['pdcsap_flux_norm'] = ts['pdcsap_flux'] / median\n",
    "    \n",
=======
>>>>>>> 1615dee2fea5a810ee3c9e19347fe6e47d118105
    "    lc = lk.LightCurve(time=range(len(ts)), flux=ts['pdcsap_flux_norm'])\n",
    "    fold_lc = lc.fold(period=period, normalize_phase=True)\n",
    "    \n",
    "    print(\"   > Done!\")\n",
<<<<<<< HEAD
    "    return(fold_lc)"
=======
    "    return(ts[1:-1], period)"
>>>>>>> 1615dee2fea5a810ee3c9e19347fe6e47d118105
   ]
  },
  {
   "cell_type": "code",
<<<<<<< HEAD
   "execution_count": 46,
=======
   "execution_count": 57,
>>>>>>> 1615dee2fea5a810ee3c9e19347fe6e47d118105
   "id": "further-forwarding",
   "metadata": {},
   "outputs": [
    {
     "name": "stdout",
     "output_type": "stream",
     "text": [
      "   > Converting to DataFrame\n",
      "   > Done!\n"
     ]
    },
    {
     "data": {
      "text/html": [
       "<div>\n",
       "<style scoped>\n",
       "    .dataframe tbody tr th:only-of-type {\n",
       "        vertical-align: middle;\n",
       "    }\n",
       "\n",
       "    .dataframe tbody tr th {\n",
       "        vertical-align: top;\n",
       "    }\n",
       "\n",
       "    .dataframe thead th {\n",
       "        text-align: right;\n",
       "    }\n",
       "</style>\n",
       "<table border=\"1\" class=\"dataframe\">\n",
       "  <thead>\n",
       "    <tr style=\"text-align: right;\">\n",
       "      <th></th>\n",
       "      <th>time</th>\n",
       "      <th>pdcsap_flux</th>\n",
       "      <th>pdcsap_flux_err</th>\n",
       "      <th>pdcsap_flux_norm</th>\n",
       "    </tr>\n",
       "  </thead>\n",
       "  <tbody>\n",
       "    <tr>\n",
       "      <th>0</th>\n",
<<<<<<< HEAD
       "      <td>0 days 00:01:59.998149274</td>\n",
=======
       "      <td>0 days 02:14:52.764328536</td>\n",
>>>>>>> 1615dee2fea5a810ee3c9e19347fe6e47d118105
       "      <td>116796.429688</td>\n",
       "      <td>36.730911</td>\n",
       "      <td>1.000295</td>\n",
       "    </tr>\n",
       "    <tr>\n",
       "      <th>1</th>\n",
<<<<<<< HEAD
       "      <td>0 days 00:03:59.996298548</td>\n",
=======
       "      <td>0 days 02:16:52.762477810</td>\n",
>>>>>>> 1615dee2fea5a810ee3c9e19347fe6e47d118105
       "      <td>117205.796875</td>\n",
       "      <td>36.772842</td>\n",
       "      <td>1.003801</td>\n",
       "    </tr>\n",
       "    <tr>\n",
       "      <th>2</th>\n",
<<<<<<< HEAD
       "      <td>0 days 00:05:59.994447822</td>\n",
=======
       "      <td>0 days 02:18:52.760627084</td>\n",
>>>>>>> 1615dee2fea5a810ee3c9e19347fe6e47d118105
       "      <td>116686.375000</td>\n",
       "      <td>36.671310</td>\n",
       "      <td>0.999353</td>\n",
       "    </tr>\n",
       "    <tr>\n",
       "      <th>3</th>\n",
<<<<<<< HEAD
       "      <td>0 days 00:07:59.992597096</td>\n",
=======
       "      <td>0 days 02:20:52.758776358</td>\n",
>>>>>>> 1615dee2fea5a810ee3c9e19347fe6e47d118105
       "      <td>116946.625000</td>\n",
       "      <td>36.704082</td>\n",
       "      <td>1.001581</td>\n",
       "    </tr>\n",
       "    <tr>\n",
       "      <th>4</th>\n",
<<<<<<< HEAD
       "      <td>0 days 00:09:59.990746370</td>\n",
=======
       "      <td>0 days 02:22:52.756925632</td>\n",
>>>>>>> 1615dee2fea5a810ee3c9e19347fe6e47d118105
       "      <td>116816.453125</td>\n",
       "      <td>36.708569</td>\n",
       "      <td>1.000467</td>\n",
       "    </tr>\n",
       "    <tr>\n",
       "      <th>...</th>\n",
       "      <td>...</td>\n",
       "      <td>...</td>\n",
       "      <td>...</td>\n",
       "      <td>...</td>\n",
       "    </tr>\n",
       "    <tr>\n",
       "      <th>20074</th>\n",
<<<<<<< HEAD
       "      <td>-3 days +00:05:40.558247562</td>\n",
=======
       "      <td>-3 days +02:18:33.324426824</td>\n",
>>>>>>> 1615dee2fea5a810ee3c9e19347fe6e47d118105
       "      <td>116868.781250</td>\n",
       "      <td>36.719925</td>\n",
       "      <td>1.000915</td>\n",
       "    </tr>\n",
       "    <tr>\n",
       "      <th>20075</th>\n",
<<<<<<< HEAD
       "      <td>-3 days +00:07:40.551890745</td>\n",
=======
       "      <td>-3 days +02:20:33.318070007</td>\n",
>>>>>>> 1615dee2fea5a810ee3c9e19347fe6e47d118105
       "      <td>116719.281250</td>\n",
       "      <td>36.701084</td>\n",
       "      <td>0.999634</td>\n",
       "    </tr>\n",
       "    <tr>\n",
       "      <th>20076</th>\n",
<<<<<<< HEAD
       "      <td>-3 days +00:09:40.545493674</td>\n",
=======
       "      <td>-3 days +02:22:33.311672937</td>\n",
>>>>>>> 1615dee2fea5a810ee3c9e19347fe6e47d118105
       "      <td>116513.335938</td>\n",
       "      <td>36.660007</td>\n",
       "      <td>0.997871</td>\n",
       "    </tr>\n",
       "    <tr>\n",
       "      <th>20077</th>\n",
<<<<<<< HEAD
       "      <td>-3 days +00:11:40.539096604</td>\n",
=======
       "      <td>-3 days +02:24:33.305275866</td>\n",
>>>>>>> 1615dee2fea5a810ee3c9e19347fe6e47d118105
       "      <td>116858.820312</td>\n",
       "      <td>36.761040</td>\n",
       "      <td>1.000829</td>\n",
       "    </tr>\n",
       "    <tr>\n",
       "      <th>20078</th>\n",
<<<<<<< HEAD
       "      <td>-3 days +00:13:40.532699534</td>\n",
=======
       "      <td>-3 days +02:26:33.298878796</td>\n",
>>>>>>> 1615dee2fea5a810ee3c9e19347fe6e47d118105
       "      <td>116742.945312</td>\n",
       "      <td>36.749546</td>\n",
       "      <td>0.999837</td>\n",
       "    </tr>\n",
       "  </tbody>\n",
       "</table>\n",
       "<p>20079 rows × 4 columns</p>\n",
       "</div>"
      ],
      "text/plain": [
       "                             time    pdcsap_flux  pdcsap_flux_err  \\\n",
<<<<<<< HEAD
       "0       0 days 00:01:59.998149274  116796.429688        36.730911   \n",
       "1       0 days 00:03:59.996298548  117205.796875        36.772842   \n",
       "2       0 days 00:05:59.994447822  116686.375000        36.671310   \n",
       "3       0 days 00:07:59.992597096  116946.625000        36.704082   \n",
       "4       0 days 00:09:59.990746370  116816.453125        36.708569   \n",
       "...                           ...            ...              ...   \n",
       "20074 -3 days +00:05:40.558247562  116868.781250        36.719925   \n",
       "20075 -3 days +00:07:40.551890745  116719.281250        36.701084   \n",
       "20076 -3 days +00:09:40.545493674  116513.335938        36.660007   \n",
       "20077 -3 days +00:11:40.539096604  116858.820312        36.761040   \n",
       "20078 -3 days +00:13:40.532699534  116742.945312        36.749546   \n",
=======
       "0       0 days 02:14:52.764328536  116796.429688        36.730911   \n",
       "1       0 days 02:16:52.762477810  117205.796875        36.772842   \n",
       "2       0 days 02:18:52.760627084  116686.375000        36.671310   \n",
       "3       0 days 02:20:52.758776358  116946.625000        36.704082   \n",
       "4       0 days 02:22:52.756925632  116816.453125        36.708569   \n",
       "...                           ...            ...              ...   \n",
       "20074 -3 days +02:18:33.324426824  116868.781250        36.719925   \n",
       "20075 -3 days +02:20:33.318070007  116719.281250        36.701084   \n",
       "20076 -3 days +02:22:33.311672937  116513.335938        36.660007   \n",
       "20077 -3 days +02:24:33.305275866  116858.820312        36.761040   \n",
       "20078 -3 days +02:26:33.298878796  116742.945312        36.749546   \n",
>>>>>>> 1615dee2fea5a810ee3c9e19347fe6e47d118105
       "\n",
       "       pdcsap_flux_norm  \n",
       "0              1.000295  \n",
       "1              1.003801  \n",
       "2              0.999353  \n",
       "3              1.001581  \n",
       "4              1.000467  \n",
       "...                 ...  \n",
       "20074          1.000915  \n",
       "20075          0.999634  \n",
       "20076          0.997871  \n",
       "20077          1.000829  \n",
       "20078          0.999837  \n",
       "\n",
       "[20079 rows x 4 columns]"
      ]
     },
<<<<<<< HEAD
     "execution_count": 46,
=======
     "execution_count": 57,
>>>>>>> 1615dee2fea5a810ee3c9e19347fe6e47d118105
     "metadata": {},
     "output_type": "execute_result"
    }
   ],
   "source": [
    "df = MakeTimeSeries(TICID[0])\n",
    "#df = df.reset_index()\n",
    "df"
   ]
  },
  {
   "cell_type": "code",
<<<<<<< HEAD
   "execution_count": 51,
   "id": "45388450-ef08-4071-919f-d1a9f460785b",
   "metadata": {
    "tags": []
   },
=======
   "execution_count": 8,
   "id": "extreme-cleveland",
   "metadata": {},
>>>>>>> 1615dee2fea5a810ee3c9e19347fe6e47d118105
   "outputs": [
    {
     "name": "stdout",
     "output_type": "stream",
     "text": [
      "   > Done!\n"
     ]
    },
    {
     "data": {
<<<<<<< HEAD
      "text/plain": [
       "<AxesSubplot:xlabel='Phase', ylabel='Flux'>"
      ]
     },
     "execution_count": 51,
     "metadata": {},
     "output_type": "execute_result"
    },
    {
     "data": {
      "image/png": "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\n",
      "text/plain": [
       "<Figure size 848.5x400 with 1 Axes>"
      ]
     },
     "metadata": {},
     "output_type": "display_data"
    }
   ],
   "source": [
    "ts = MakeFoldedTimeSeries(TICID[0])\n",
    "ts.plot()"
=======
      "text/html": [
       "<div><i>TimeSeries length=20079</i>\n",
       "<table id=\"table140467516891824\" class=\"table-striped table-bordered table-condensed\">\n",
       "<thead><tr><th>time</th><th>pdcsap_flux</th><th>pdcsap_flux_err</th><th>pdcsap_flux_norm</th></tr></thead>\n",
       "<thead><tr><th></th><th>electron / s</th><th>electron / s</th><th></th></tr></thead>\n",
       "<thead><tr><th>object</th><th>float32</th><th>float32</th><th>float32</th></tr></thead>\n",
       "<tr><td>2018-07-11T01:22:36.268</td><td>1.1679643e+05</td><td>3.6730911e+01</td><td>1.0002950e+00</td></tr>\n",
       "<tr><td>2018-07-11T01:24:36.267</td><td>1.1720580e+05</td><td>3.6772842e+01</td><td>1.0038011e+00</td></tr>\n",
       "<tr><td>2018-07-11T01:26:36.265</td><td>1.1668638e+05</td><td>3.6671310e+01</td><td>9.9935251e-01</td></tr>\n",
       "<tr><td>2018-07-11T01:28:36.263</td><td>1.1694662e+05</td><td>3.6704082e+01</td><td>1.0015814e+00</td></tr>\n",
       "<tr><td>2018-07-11T01:30:36.261</td><td>1.1681645e+05</td><td>3.6708569e+01</td><td>1.0004666e+00</td></tr>\n",
       "<tr><td>2018-07-11T01:32:36.259</td><td>1.1698708e+05</td><td>3.6750797e+01</td><td>1.0019279e+00</td></tr>\n",
       "<tr><td>...</td><td>...</td><td>...</td><td>...</td></tr>\n",
       "<tr><td>2018-08-08T07:03:19.140</td><td>1.1646191e+05</td><td>3.6687435e+01</td><td>9.9743015e-01</td></tr>\n",
       "<tr><td>2018-08-08T07:05:19.133</td><td>1.1701558e+05</td><td>3.6659203e+01</td><td>1.0021720e+00</td></tr>\n",
       "<tr><td>2018-08-08T07:07:19.127</td><td>1.1686878e+05</td><td>3.6719925e+01</td><td>1.0009147e+00</td></tr>\n",
       "<tr><td>2018-08-08T07:09:19.121</td><td>1.1671928e+05</td><td>3.6701084e+01</td><td>9.9963433e-01</td></tr>\n",
       "<tr><td>2018-08-08T07:11:19.114</td><td>1.1651334e+05</td><td>3.6660007e+01</td><td>9.9787050e-01</td></tr>\n",
       "<tr><td>2018-08-08T07:13:19.108</td><td>1.1685882e+05</td><td>3.6761040e+01</td><td>1.0008295e+00</td></tr>\n",
       "<tr><td>2018-08-08T07:15:19.102</td><td>1.1674295e+05</td><td>3.6749546e+01</td><td>9.9983698e-01</td></tr>\n",
       "</table></div>"
      ],
      "text/plain": [
       "<TimeSeries length=20079>\n",
       "          time           pdcsap_flux   pdcsap_flux_err pdcsap_flux_norm\n",
       "                         electron / s    electron / s                  \n",
       "         object            float32         float32         float32     \n",
       "----------------------- -------------- --------------- ----------------\n",
       "2018-07-11T01:22:36.268  1.1679643e+05   3.6730911e+01    1.0002950e+00\n",
       "2018-07-11T01:24:36.267  1.1720580e+05   3.6772842e+01    1.0038011e+00\n",
       "2018-07-11T01:26:36.265  1.1668638e+05   3.6671310e+01    9.9935251e-01\n",
       "2018-07-11T01:28:36.263  1.1694662e+05   3.6704082e+01    1.0015814e+00\n",
       "2018-07-11T01:30:36.261  1.1681645e+05   3.6708569e+01    1.0004666e+00\n",
       "2018-07-11T01:32:36.259  1.1698708e+05   3.6750797e+01    1.0019279e+00\n",
       "                    ...            ...             ...              ...\n",
       "2018-08-08T07:03:19.140  1.1646191e+05   3.6687435e+01    9.9743015e-01\n",
       "2018-08-08T07:05:19.133  1.1701558e+05   3.6659203e+01    1.0021720e+00\n",
       "2018-08-08T07:07:19.127  1.1686878e+05   3.6719925e+01    1.0009147e+00\n",
       "2018-08-08T07:09:19.121  1.1671928e+05   3.6701084e+01    9.9963433e-01\n",
       "2018-08-08T07:11:19.114  1.1651334e+05   3.6660007e+01    9.9787050e-01\n",
       "2018-08-08T07:13:19.108  1.1685882e+05   3.6761040e+01    1.0008295e+00\n",
       "2018-08-08T07:15:19.102  1.1674295e+05   3.6749546e+01    9.9983698e-01"
      ]
     },
     "execution_count": 8,
     "metadata": {},
     "output_type": "execute_result"
    }
   ],
   "source": [
    "ts,period = MakeFoldedTimeSeries(TICID[0])\n",
    "\n",
    "dropcols = ['timecorr', 'cadenceno', 'sap_flux', 'sap_flux_err', 'sap_bkg', 'sap_bkg_err', 'quality',\n",
    "       'psf_centr1', 'psf_centr1_err', 'psf_centr2', 'psf_centr2_err',\n",
    "       'mom_centr1', 'mom_centr1_err', 'mom_centr2', 'mom_centr2_err',\n",
    "       'pos_corr1', 'pos_corr2']\n",
    "ts.remove_columns(dropcols)\n",
    "mean, median, stddev = sigma_clipped_stats(ts['pdcsap_flux'])\n",
    "ts['pdcsap_flux_norm'] = ts['pdcsap_flux'] / median\n",
    "ts"
>>>>>>> 1615dee2fea5a810ee3c9e19347fe6e47d118105
   ]
  },
  {
   "cell_type": "code",
<<<<<<< HEAD
   "execution_count": 52,
   "id": "102b1e3b-c70d-4796-aea2-52b73a8ce49b",
=======
   "execution_count": 16,
   "id": "b9c49a34-dd19-4b34-9662-dd3d6c2682ad",
>>>>>>> 1615dee2fea5a810ee3c9e19347fe6e47d118105
   "metadata": {},
   "outputs": [
    {
     "data": {
<<<<<<< HEAD
      "text/plain": [
       "<AxesSubplot:xlabel='Phase', ylabel='Flux'>"
      ]
     },
     "execution_count": 52,
     "metadata": {},
     "output_type": "execute_result"
    },
    {
     "data": {
      "image/png": "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\n",
      "text/plain": [
       "<Figure size 848.5x400 with 1 Axes>"
      ]
     },
     "metadata": {},
     "output_type": "display_data"
    }
   ],
   "source": [
    "fold_lc[::10].plot()"
=======
      "text/html": [
       "<div><i>FoldedLightCurve length=20079</i>\n",
       "<table id=\"table140466376795904\" class=\"table-striped table-bordered table-condensed\">\n",
       "<thead><tr><th>time</th><th>flux</th><th>flux_err</th><th>time_original</th></tr></thead>\n",
       "<thead><tr><th></th><th></th><th></th><th></th></tr></thead>\n",
       "<thead><tr><th>float64</th><th>float32</th><th>float64</th><th>object</th></tr></thead>\n",
       "<tr><td>-0.4999647829075171</td><td>9.9680215e-01</td><td>nan</td><td>14926.0</td></tr>\n",
       "<tr><td>-0.49992848365193</td><td>9.9760866e-01</td><td>nan</td><td>16113.0</td></tr>\n",
       "<tr><td>-0.4998921843963428</td><td>1.0001611e+00</td><td>nan</td><td>17300.0</td></tr>\n",
       "<tr><td>-0.4998558851407557</td><td>1.0023500e+00</td><td>nan</td><td>18487.0</td></tr>\n",
       "<tr><td>-0.4998195858851685</td><td>9.9821132e-01</td><td>nan</td><td>19674.0</td></tr>\n",
       "<tr><td>-0.4995633267699473</td><td>1.0005928e+00</td><td>nan</td><td>505.0</td></tr>\n",
       "<tr><td>...</td><td>...</td><td>...</td><td>...</td></tr>\n",
       "<tr><td>0.49978112230350513</td><td>1.0005685e+00</td><td>nan</td><td>6617.0</td></tr>\n",
       "<tr><td>0.4998174215590923</td><td>9.9796754e-01</td><td>nan</td><td>7804.0</td></tr>\n",
       "<tr><td>0.4998537208146795</td><td>1.0002630e+00</td><td>nan</td><td>8991.0</td></tr>\n",
       "<tr><td>0.4998900200702666</td><td>1.0033691e+00</td><td>nan</td><td>10178.0</td></tr>\n",
       "<tr><td>0.4999263193258538</td><td>9.9884260e-01</td><td>nan</td><td>11365.0</td></tr>\n",
       "<tr><td>0.49996261858130847</td><td>9.9940836e-01</td><td>nan</td><td>12552.0</td></tr>\n",
       "<tr><td>0.49999891783689565</td><td>1.0062339e+00</td><td>nan</td><td>13739.0</td></tr>\n",
       "</table></div>"
      ],
      "text/plain": [
       "<FoldedLightCurve length=20079>\n",
       "        time             flux      flux_err time_original\n",
       "                                                         \n",
       "      float64          float32     float64      object   \n",
       "------------------- -------------- -------- -------------\n",
       "-0.4999647829075171  9.9680215e-01      nan       14926.0\n",
       "  -0.49992848365193  9.9760866e-01      nan       16113.0\n",
       "-0.4998921843963428  1.0001611e+00      nan       17300.0\n",
       "-0.4998558851407557  1.0023500e+00      nan       18487.0\n",
       "-0.4998195858851685  9.9821132e-01      nan       19674.0\n",
       "-0.4995633267699473  1.0005928e+00      nan         505.0\n",
       "                ...            ...      ...           ...\n",
       "0.49978112230350513  1.0005685e+00      nan        6617.0\n",
       " 0.4998174215590923  9.9796754e-01      nan        7804.0\n",
       " 0.4998537208146795  1.0002630e+00      nan        8991.0\n",
       " 0.4998900200702666  1.0033691e+00      nan       10178.0\n",
       " 0.4999263193258538  9.9884260e-01      nan       11365.0\n",
       "0.49996261858130847  9.9940836e-01      nan       12552.0\n",
       "0.49999891783689565  1.0062339e+00      nan       13739.0"
      ]
     },
     "execution_count": 16,
     "metadata": {},
     "output_type": "execute_result"
    }
   ],
   "source": [
    "lc = lk.LightCurve(time=range(len(ts)), flux=ts['pdcsap_flux_norm'])\n",
    "\n",
    "fold_lc = lc.fold(period=period, normalize_phase=True)\n",
    "fold_lc"
>>>>>>> 1615dee2fea5a810ee3c9e19347fe6e47d118105
   ]
  },
  {
   "cell_type": "code",
<<<<<<< HEAD
   "execution_count": 34,
   "id": "2d485694-c53a-4e3a-90c2-14027da9644a",
=======
   "execution_count": 18,
   "id": "naval-breakfast",
>>>>>>> 1615dee2fea5a810ee3c9e19347fe6e47d118105
   "metadata": {},
   "outputs": [
    {
     "data": {
      "text/plain": [
<<<<<<< HEAD
       "20079"
      ]
     },
     "execution_count": 34,
     "metadata": {},
     "output_type": "execute_result"
    }
   ],
   "source": [
    "len(lc)"
   ]
  },
  {
   "cell_type": "code",
   "execution_count": 31,
   "id": "c4c9ed4c-bb8f-478f-8a12-964be0a025cc",
   "metadata": {},
   "outputs": [
    {
     "data": {
      "text/plain": [
       "20079"
      ]
     },
     "execution_count": 31,
     "metadata": {},
     "output_type": "execute_result"
    }
   ],
   "source": [
    "len(fold_lc)"
=======
       "<AxesSubplot:xlabel='Phase', ylabel='Flux'>"
      ]
     },
     "execution_count": 18,
     "metadata": {},
     "output_type": "execute_result"
    },
    {
     "data": {
      "image/png": "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\n",
      "text/plain": [
       "<Figure size 848.5x400 with 1 Axes>"
      ]
     },
     "metadata": {},
     "output_type": "display_data"
    }
   ],
   "source": [
    "fold_lc.plot()"
>>>>>>> 1615dee2fea5a810ee3c9e19347fe6e47d118105
   ]
  },
  {
   "cell_type": "code",
<<<<<<< HEAD
   "execution_count": 33,
   "id": "be70452c-a26a-4d0e-9bdd-99fb8c769118",
   "metadata": {},
   "outputs": [
    {
     "data": {
      "text/plain": [
       "2008"
      ]
     },
     "execution_count": 33,
     "metadata": {},
     "output_type": "execute_result"
    }
   ],
   "source": [
    "len(fold_lc[::10])"
=======
   "execution_count": 43,
   "id": "102b1e3b-c70d-4796-aea2-52b73a8ce49b",
   "metadata": {},
   "outputs": [
    {
     "ename": "TypeError",
     "evalue": "'method' object is not subscriptable",
     "output_type": "error",
     "traceback": [
      "\u001b[0;31m---------------------------------------------------------------------------\u001b[0m",
      "\u001b[0;31mTypeError\u001b[0m                                 Traceback (most recent call last)",
      "\u001b[0;32m/tmp/ipykernel_102179/273942517.py\u001b[0m in \u001b[0;36m<module>\u001b[0;34m\u001b[0m\n\u001b[0;32m----> 1\u001b[0;31m \u001b[0mfold_lc\u001b[0m\u001b[0;34m.\u001b[0m\u001b[0mitems\u001b[0m\u001b[0;34m[\u001b[0m\u001b[0;34m'flux'\u001b[0m\u001b[0;34m]\u001b[0m\u001b[0;34m\u001b[0m\u001b[0;34m\u001b[0m\u001b[0m\n\u001b[0m",
      "\u001b[0;31mTypeError\u001b[0m: 'method' object is not subscriptable"
     ]
    }
   ],
   "source": [
    "fold_lc.items['flux']"
>>>>>>> 1615dee2fea5a810ee3c9e19347fe6e47d118105
   ]
  },
  {
   "cell_type": "code",
<<<<<<< HEAD
   "execution_count": 36,
   "id": "94984fdf-7a17-4e89-bbfa-81364f453a07",
   "metadata": {},
   "outputs": [],
   "source": [
    "np.save(\"fold_lc\", fold_lc)"
   ]
  },
  {
   "cell_type": "code",
   "execution_count": 38,
   "id": "510e0d60-47d2-4c5c-a8f0-a982d28f8095",
   "metadata": {},
   "outputs": [],
   "source": [
    "X = np.load(\"fold_lc.npy\", allow_pickle=True)"
   ]
  },
  {
   "cell_type": "code",
   "execution_count": 44,
   "id": "4452a89f-6fa4-4763-a03e-daa86ec167cc",
   "metadata": {},
   "outputs": [
    {
     "data": {
      "text/plain": [
       "[<matplotlib.lines.Line2D at 0x7f9aaffc51f0>]"
      ]
     },
     "execution_count": 44,
     "metadata": {},
     "output_type": "execute_result"
    },
    {
     "data": {
      "image/png": "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\n",
      "text/plain": [
       "<Figure size 1152x360 with 1 Axes>"
      ]
     },
     "metadata": {},
     "output_type": "display_data"
    }
   ],
   "source": [
    "Y = [x[1] for x in X]\n",
    "plt.plot(Y)"
   ]
=======
   "execution_count": null,
   "id": "c4c9ed4c-bb8f-478f-8a12-964be0a025cc",
   "metadata": {},
   "outputs": [],
   "source": []
>>>>>>> 1615dee2fea5a810ee3c9e19347fe6e47d118105
  },
  {
   "cell_type": "code",
   "execution_count": null,
<<<<<<< HEAD
   "id": "164ec26d-0df9-4dfa-a090-22bce73bf122",
=======
   "id": "be70452c-a26a-4d0e-9bdd-99fb8c769118",
>>>>>>> 1615dee2fea5a810ee3c9e19347fe6e47d118105
   "metadata": {},
   "outputs": [],
   "source": []
  }
 ],
 "metadata": {
  "kernelspec": {
   "display_name": "Python 3 (ipykernel)",
   "language": "python",
   "name": "python3"
  },
  "language_info": {
   "codemirror_mode": {
    "name": "ipython",
    "version": 3
   },
   "file_extension": ".py",
   "mimetype": "text/x-python",
   "name": "python",
   "nbconvert_exporter": "python",
   "pygments_lexer": "ipython3",
   "version": "3.8.8"
  }
 },
 "nbformat": 4,
 "nbformat_minor": 5
}
