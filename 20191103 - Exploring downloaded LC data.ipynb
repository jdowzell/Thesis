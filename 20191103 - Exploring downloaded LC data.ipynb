{
 "cells": [
  {
   "cell_type": "code",
   "execution_count": 1,
   "metadata": {
    "collapsed": true,
    "deletable": true,
    "editable": true,
    "jupyter": {
     "outputs_hidden": true
    }
   },
   "outputs": [],
   "source": [
    "# Scientific imports\n",
    "\n",
    "%matplotlib inline\n",
    "from astropy.io import fits\n",
    "import matplotlib.pyplot as plt\n",
    "import numpy as np\n",
    "from astroquery.mast import Observations\n",
    "from astroquery.mast import Catalogs"
   ]
  },
  {
   "cell_type": "code",
   "execution_count": 2,
   "metadata": {
    "collapsed": true,
    "deletable": true,
    "editable": true,
    "jupyter": {
     "outputs_hidden": true
    }
   },
   "outputs": [],
   "source": [
    "# General imports\n",
    "\n",
    "import csv, math, os, os.path, sys\n",
    "import pandas as pd\n",
    "import seaborn as sb\n",
    "from sklearn import metrics\n",
    "from IPython.display import display\n",
    "\n",
    "sb.set()"
   ]
  },
  {
   "cell_type": "code",
   "execution_count": 3,
   "metadata": {
    "collapsed": false,
    "deletable": true,
    "editable": true,
    "jupyter": {
     "outputs_hidden": false
    }
   },
   "outputs": [
    {
     "name": "stdout",
     "output_type": "stream",
     "text": [
      "Number of FITS files: 28\n",
      "0: ./kplr010666592-2009131105131_llc.fits\n",
      "1: ./tess2018235142541-s0002-s0002-0000000100100827-00109_dvt.fits\n",
      "2: ./mastDownload/IUE/lwp13058/lwp13058mxlo_vo.fits\n",
      "3: ./mastDownload/TESS/tess2018206045859-s0001-0000000270501383-0120-s/tess2018206045859-s0001-0000000270501383-0120-s_lc.fits\n",
      "4: ./mastDownload/TESS/tess2018206045859-s0001-0000000270501383-0120-s/tess2018206045859-s0001-0000000270501383-0120-s_tp.fits\n",
      "5: ./mastDownload/TESS/tess2018206045859-s0001-0000000097409519-0120-s/tess2018206045859-s0001-0000000097409519-0120-s_lc.fits\n",
      "6: ./mastDownload/TESS/tess2018206045859-s0001-0000000097409519-0120-s/tess2018206045859-s0001-0000000097409519-0120-s_tp.fits\n",
      "7: ./mastDownload/TESS/tess2018206045859-s0001-0000000097409519-0120-s/tess2018206190142-s0001-s0001-0000000097409519-00106_dvt.fits\n",
      "8: ./mastDownload/TESS/tess2018206045859-s0001-0000000099837626-0120-s/tess2018206045859-s0001-0000000099837626-0120-s_tp.fits\n",
      "9: ./mastDownload/TESS/tess2018206045859-s0001-0000000099837626-0120-s/tess2018206045859-s0001-0000000099837626-0120-s_lc.fits\n",
      "10: ./mastDownload/TESS/tess2018206045859-s0001-0000000325178933-0120-s/tess2018206045859-s0001-0000000325178933-0120-s_tp.fits\n",
      "11: ./mastDownload/TESS/tess2018206045859-s0001-0000000325178933-0120-s/tess2018206045859-s0001-0000000325178933-0120-s_lc.fits\n",
      "12: ./mastDownload/TESS/tess2018206045859-s0001-0000000277774779-0120-s/tess2018206045859-s0001-0000000277774779-0120-s_lc.fits\n",
      "13: ./mastDownload/TESS/tess2018206045859-s0001-0000000277774779-0120-s/tess2018206045859-s0001-0000000277774779-0120-s_tp.fits\n",
      "14: ./mastDownload/TESS/tess2018206045859-s0001-0000000139754153-0120-s/tess2018206045859-s0001-0000000139754153-0120-s_lc.fits\n",
      "15: ./mastDownload/TESS/tess2018206045859-s0001-0000000139754153-0120-s/tess2018206045859-s0001-0000000139754153-0120-s_tp.fits\n",
      "16: ./mastDownload/TESS/tess2018206045859-s0001-0000000388104525-0120-s/tess2018206045859-s0001-0000000388104525-0120-s_tp.fits\n",
      "17: ./mastDownload/TESS/tess2018206045859-s0001-0000000388104525-0120-s/tess2018206190142-s0001-s0001-0000000388104525-00106_dvt.fits\n",
      "18: ./mastDownload/TESS/tess2018206045859-s0001-0000000388104525-0120-s/tess2018206045859-s0001-0000000388104525-0120-s_lc.fits\n",
      "19: ./mastDownload/TESS/tess2018206045859-s0001-0000000290543478-0120-s/tess2018206045859-s0001-0000000290543478-0120-s_tp.fits\n",
      "20: ./mastDownload/TESS/tess2018206045859-s0001-0000000290543478-0120-s/tess2018206045859-s0001-0000000290543478-0120-s_lc.fits\n",
      "21: ./mastDownload/TESS/tess2018206045859-s0001-0000000281461362-0120-s/tess2018206045859-s0001-0000000281461362-0120-s_tp.fits\n",
      "22: ./mastDownload/TESS/tess2018206045859-s0001-0000000281461362-0120-s/tess2018206045859-s0001-0000000281461362-0120-s_lc.fits\n",
      "23: ./mastDownload/TESS/tess2018206045859-s0001-0000000025155310-0120-s/tess2018206045859-s0001-0000000025155310-0120-s_lc.fits\n",
      "24: ./mastDownload/TESS/tess2018206045859-s0001-0000000025155310-0120-s/tess2018206190142-s0001-s0001-0000000025155310-00106_dvt.fits\n",
      "25: ./mastDownload/TESS/tess2018206045859-s0001-0000000025155310-0120-s/tess2018206045859-s0001-0000000025155310-0120-s_tp.fits\n",
      "26: ./mastDownload/TESS/tess2018206045859-s0001-0000000141411201-0120-s/tess2018206045859-s0001-0000000141411201-0120-s_lc.fits\n",
      "27: ./mastDownload/TESS/tess2018206045859-s0001-0000000141411201-0120-s/tess2018206045859-s0001-0000000141411201-0120-s_tp.fits\n"
     ]
    }
   ],
   "source": [
    "# Reading which LC datafiles we have into a list\n",
    "\n",
    "fitsList = []\n",
    "fits_directories = [x[0] for x in os.walk('.')]\n",
    "\n",
    "for fits_root, fits_dirs, fits_files in os.walk('.'):\n",
    "    for fits_file in fits_files:\n",
    "        fullpath = os.path.join(fits_root, fits_file)\n",
    "        if (os.path.splitext(fullpath.lower())[1]).endswith('.fits'):\n",
    "            fitsList.append(fullpath)\n",
    "print(\"Number of FITS files: {}\".format(len(fitsList)))\n",
    "for num, i in enumerate(fitsList):\n",
    "    print (\"{}: {}\".format(num, i))"
   ]
  },
  {
   "cell_type": "markdown",
   "metadata": {
    "deletable": true,
    "editable": true
   },
   "source": [
    "Now that we have a list of all FITS files we have, I can select any one of them (in this list) and use that as the filename. Now, let's have a look at a FITS file, to check if it's a Light Curve (LC) or an image."
   ]
  },
  {
   "cell_type": "code",
   "execution_count": 12,
   "metadata": {
    "collapsed": false,
    "deletable": true,
    "editable": true,
    "jupyter": {
     "outputs_hidden": false
    }
   },
   "outputs": [
    {
     "name": "stdout",
     "output_type": "stream",
     "text": [
      "Filename: ./mastDownload/TESS/tess2018206045859-s0001-0000000290543478-0120-s/tess2018206045859-s0001-0000000290543478-0120-s_lc.fits\n",
      "No.    Name      Ver    Type      Cards   Dimensions   Format\n",
      "  0  PRIMARY       1 PrimaryHDU      44   ()      \n",
      "  1  LIGHTCURVE    1 BinTableHDU    167   20076R x 20C   [D, E, J, E, E, E, E, E, E, J, D, E, D, E, D, E, D, E, E, E]   \n",
      "  2  APERTURE      1 ImageHDU        49   (11, 17)   int32   \n"
     ]
    }
   ],
   "source": [
    "file = fitsList[20]\n",
    "check = fits.info(file)\n",
    "\n",
    "#filesize = (1/1024)*os.stat(file).st_size\n",
    "#print (\"{} kb\".format(filesize))"
   ]
  },
  {
   "cell_type": "code",
   "execution_count": 13,
   "metadata": {
    "collapsed": false,
    "deletable": true,
    "editable": true,
    "jupyter": {
     "outputs_hidden": false
    }
   },
   "outputs": [
    {
     "data": {
      "text/plain": [
       "SIMPLE  =                    T / conforms to FITS standards                     \n",
       "BITPIX  =                    8 / array data type                                \n",
       "NAXIS   =                    0 / number of array dimensions                     \n",
       "EXTEND  =                    T / file contains extensions                       \n",
       "NEXTEND =                    2 / number of standard extensions                  \n",
       "EXTNAME = 'PRIMARY '           / name of extension                              \n",
       "EXTVER  =                    1 / extension version number (not format version)  \n",
       "SIMDATA =                    F / file is based on simulated data                \n",
       "ORIGIN  = 'NASA/Ames'          / institution responsible for creating this file \n",
       "DATE    = '2018-09-27'         / file creation date.                            \n",
       "TSTART  =    1325.293656167129 / observation start time in TJD                  \n",
       "TSTOP   =    1353.176978345185 / observation stop time in TJD                   \n",
       "DATE-OBS= '2018-07-25T19:01:42.709Z' / TSTART as UTC calendar date              \n",
       "DATE-END= '2018-08-22T16:13:41.745Z' / TSTOP as UTC calendar date               \n",
       "CREATOR = '4279 LightCurveExporterPipelineModule' / pipeline job and program use\n",
       "PROCVER = 'spoc-3.3.36-20180925' / SW version                                   \n",
       "FILEVER = '1.0     '           / file format version                            \n",
       "TIMVERSN= 'OGIP/93-003'        / OGIP memo number for file format               \n",
       "TELESCOP= 'TESS    '           / telescope                                      \n",
       "INSTRUME= 'TESS Photometer'    / detector type                                  \n",
       "DATA_REL=                    1 / data release version number                    \n",
       "OBJECT  = 'TIC 290543478'      / string version of target id                    \n",
       "TICID   =            290543478 / unique tess target identifier                  \n",
       "SECTOR  =                    1 / Observing sector                               \n",
       "CAMERA  =                    3 / Camera number                                  \n",
       "CCD     =                    3 / CCD chip number                                \n",
       "PXTABLE =                  128 / pixel table id                                 \n",
       "RADESYS = 'ICRS    '           / reference frame of celestial coordinates       \n",
       "RA_OBJ  =   4.0527760000000000 / [deg] right ascension                          \n",
       "DEC_OBJ = -79.8511740000000000 / [deg] declination                              \n",
       "EQUINOX =               2000.0 / equinox of celestial coordinate system         \n",
       "PMRA    =         434.06300000 / [mas/yr] RA proper motion                      \n",
       "PMDEC   =         -56.52050000 / [mas/yr] Dec proper motion                     \n",
       "PMTOTAL =         437.72737507 / [mas/yr] total proper motion                   \n",
       "TESSMAG =           5.74399996 / [mag] TESS magnitude                           \n",
       "TEFF    =        5540.00000000 / [K] Effective temperature                      \n",
       "LOGG    =           4.48418999 / [cm/s2] log10 surface gravity                  \n",
       "MH      =                      / [log10([M/H])] metallicity                     \n",
       "RADIUS  =           0.89999998 / [solar radii] stellar radius                   \n",
       "TICVER  =                    7 / TICVER                                         \n",
       "CRMITEN =                    T / spacecraft cosmic ray mitigation enabled       \n",
       "CRBLKSZ =                   10 / [exposures] s/c cosmic ray mitigation block siz\n",
       "CRSPOC  =                    F / SPOC cosmic ray cleaning enabled               \n",
       "CHECKSUM= '9EOAFEM99EMAEEM7'   / HDU checksum updated 2018-09-27T02:02:50Z      "
      ]
     },
     "execution_count": 13,
     "metadata": {},
     "output_type": "execute_result"
    }
   ],
   "source": [
    "# The following line of code gives us the header values\n",
    "fitsHeaders = fits.getheader(file)\n",
    "fitsHeaders"
   ]
  },
  {
   "cell_type": "code",
   "execution_count": 14,
   "metadata": {
    "collapsed": false,
    "deletable": true,
    "editable": true,
    "jupyter": {
     "outputs_hidden": false
    }
   },
   "outputs": [],
   "source": [
    "def areAllHeadersPresent(heads):\n",
    "    \"\"\"\n",
    "    A function to make sure that all headers required for plotting a Light Curve\n",
    "    are present, and alert the user if any are missing (and which ones)\n",
    "    \"\"\"\n",
    "    \n",
    "    allgood = True\n",
    "    neededHeaders = ['TEFF', 'LOGG', 'TESSMAG',\n",
    "                     'TPERIOD', 'TDUR', 'TEPOCH', 'TDEPTH',\n",
    "                     'TIME', 'PHASE', 'LC_INIT', 'MODEL_INIT']\n",
    "\n",
    "    for i in range (len(neededHeaders)):\n",
    "        try:\n",
    "            heads[neededHeaders[i]]\n",
    "        except:\n",
    "            #print(\"Header {} not present!\".format(neededHeaders[i]))\n",
    "            allgood = False\n",
    "        #else:\n",
    "        #    print(\"{}: {}\".format(neededHeaders[i], heads[neededHeaders[i]]))\n",
    "    return allgood\n",
    "\n",
    "#areAllHeadersPresent(fitsHeaders)"
   ]
  },
  {
   "cell_type": "code",
   "execution_count": 7,
   "metadata": {
    "collapsed": false,
    "deletable": true,
    "editable": true,
    "jupyter": {
     "outputs_hidden": false
    }
   },
   "outputs": [
    {
     "name": "stdout",
     "output_type": "stream",
     "text": [
      "Not all required Headers are present in this file!\n"
     ]
    }
   ],
   "source": [
    "if areAllHeadersPresent(fitsHeaders)==False:\n",
    "    print(\"Not all required Headers are present in this file!\")\n",
    "else:\n",
    "\n",
    "    with fits.open(file, mode=\"readonly\") as hdulist:\n",
    "\n",
    "\n",
    "        # Extract stellar parameters from the primary header.  We'll get the effective temperature, surface gravity,\n",
    "        # and TESS magnitude.\n",
    "        star_teff = hdulist[0].header['TEFF']\n",
    "        star_logg = hdulist[0].header['LOGG']\n",
    "        star_tmag = hdulist[0].header['TESSMAG']\n",
    "\n",
    "        # Extract some of the fit parameters for the first TCE.  These are stored in the FITS header of the first\n",
    "        # extension.\n",
    "        period = hdulist[1].header['TPERIOD']\n",
    "        duration = hdulist[1].header['TDUR']\n",
    "        epoch = hdulist[1].header['TEPOCH']\n",
    "        depth = hdulist[1].header['TDEPTH']\n",
    "\n",
    "        # Extract some of the columns of interest for the first TCE signal.  These are stored in the binary FITS table\n",
    "        # in the first extension.  We'll extract the timestamps in TBJD, phase, initial fluxes, and corresponding\n",
    "        # model fluxes.\n",
    "        times = hdulist[1].data['TIME']\n",
    "        phases = hdulist[1].data['PHASE']\n",
    "        fluxes_init = hdulist[1].data['LC_INIT']\n",
    "        model_fluxes_init = hdulist[1].data['MODEL_INIT']\n",
    "\n",
    "    # First sort the phase and flux arrays by phase so we can draw the connecting lines between points.\n",
    "    sort_indexes = np.argsort(phases)\n",
    "\n",
    "    # Start figure and axis.\n",
    "    fig, ax = plt.subplots(figsize=(12,4))\n",
    "\n",
    "    # Plot the detrended fluxes as black circles.  We will plot them in sorted order.\n",
    "    ax.plot(phases[sort_indexes], fluxes_init[sort_indexes], 'ko',\n",
    "           markersize=2)\n",
    "\n",
    "    # Plot the model fluxes as a red line.  We will plot them in sorted order so the line connects between points cleanly.\n",
    "    ax.plot(phases[sort_indexes], model_fluxes_init[sort_indexes], '-r')\n",
    "\n",
    "    # Let's label the axes and define a title for the figure.\n",
    "    fig.suptitle('TIC 100100827 - Folded Lightcurve And Transit Model.')\n",
    "    ax.set_ylabel(\"Flux (relative)\")\n",
    "    ax.set_xlabel(\"Orbital Phase\")\n",
    "\n",
    "    # Let's add some text in the top-right containing some of the fit parameters.\n",
    "    plt.text(0.2, 0.012, \"Period = {0:10.6f} days\".format(period))\n",
    "    plt.text(0.2, 0.010, \"Duration = {0:10.6f} hours\".format(duration))\n",
    "    plt.text(0.2, 0.008, \"Depth = {0:10.6f} ppm\".format(depth))\n",
    "    plt.text(0.45, 0.012, \"Star Teff = {0:10.6f} K\".format(star_teff))\n",
    "    plt.text(0.45, 0.010, \"Star log(g) = {0:10.6f}\".format(star_logg))\n",
    "\n",
    "    plt.show()"
   ]
  },
  {
   "cell_type": "code",
   "execution_count": null,
   "metadata": {
    "deletable": true,
    "editable": true
   },
   "outputs": [],
   "source": [
    "# Define the epoch of primary transit in TBJD.  Our timestamps are also already in TBJD.\n",
    "t0 = 1327.520678\n",
    "\n",
    "# Start figure and axis.\n",
    "fig, ax = plt.subplots(figsize=(16,9))\n",
    "\n",
    "# Plot the timeseries in black circles.\n",
    "ax.plot(tess_bjds, pdcsap_fluxes, 'k.', markersize=1)\n",
    "\n",
    "# Center the x-axis on where we expect a transit to be (time = T0), and set\n",
    "# the x-axis range within +/- 1 day of T0.\n",
    "########ax.set_xlim(t0 - 1.0, t0 + 1.0)\n",
    "\n",
    "# Overplot a red vertical line that should be where the transit occurs.\n",
    "########ax.axvline(x=t0, color=\"red\")\n",
    "\n",
    "# Let's label the axes and define a title for the figure.\n",
    "fig.suptitle(\"WASP-126 b Light Curve - Sector 1\")\n",
    "ax.set_ylabel(\"PDCSAP Flux (e-/s)\")\n",
    "ax.set_xlabel(\"Time (TBJD)\")\n",
    "\n",
    "# Adjust the left margin so the y-axis label shows up.\n",
    "plt.subplots_adjust(left=0.15)\n",
    "#plt.figure(figsize=(2,8))\n",
    "plt.show()"
   ]
  },
  {
   "cell_type": "code",
   "execution_count": null,
   "metadata": {},
   "outputs": [],
   "source": []
  }
 ],
 "metadata": {
  "kernelspec": {
   "display_name": "Python 3",
   "language": "python",
   "name": "python3"
  },
  "language_info": {
   "codemirror_mode": {
    "name": "ipython",
    "version": 3
   },
   "file_extension": ".py",
   "mimetype": "text/x-python",
   "name": "python",
   "nbconvert_exporter": "python",
   "pygments_lexer": "ipython3",
   "version": "3.8.5"
  }
 },
 "nbformat": 4,
 "nbformat_minor": 4
}
