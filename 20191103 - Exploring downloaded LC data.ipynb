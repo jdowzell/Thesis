{
 "cells": [
  {
   "cell_type": "code",
   "execution_count": 2,
   "metadata": {
    "collapsed": true
   },
   "outputs": [],
   "source": [
    "# Scientific imports\n",
    "\n",
    "%matplotlib inline\n",
    "from astropy.io import fits\n",
    "import matplotlib.pyplot as plt\n",
    "import numpy as np\n",
    "from astroquery.mast import Observations\n",
    "from astroquery.mast import Catalogs"
   ]
  },
  {
   "cell_type": "code",
   "execution_count": 3,
   "metadata": {
    "collapsed": true
   },
   "outputs": [],
   "source": [
    "# General imports\n",
    "\n",
    "import csv, math, os, os.path, sys\n",
    "import pandas as pd\n",
    "import seaborn as sb\n",
    "from sklearn import metrics\n",
    "from IPython.display import display\n",
    "\n",
    "sb.set()"
   ]
  },
  {
   "cell_type": "code",
   "execution_count": 17,
   "metadata": {
    "collapsed": false
   },
   "outputs": [
    {
     "name": "stdout",
     "output_type": "stream",
     "text": [
      "Number of FITS files: 27\n",
      "0: ./kplr010666592-2009131105131_llc.fits\n",
      "1: ./mastDownload/IUE/lwp13058/lwp13058mxlo_vo.fits\n",
      "2: ./mastDownload/TESS/tess2018206045859-s0001-0000000270501383-0120-s/tess2018206045859-s0001-0000000270501383-0120-s_lc.fits\n",
      "3: ./mastDownload/TESS/tess2018206045859-s0001-0000000270501383-0120-s/tess2018206045859-s0001-0000000270501383-0120-s_tp.fits\n",
      "4: ./mastDownload/TESS/tess2018206045859-s0001-0000000097409519-0120-s/tess2018206045859-s0001-0000000097409519-0120-s_lc.fits\n",
      "5: ./mastDownload/TESS/tess2018206045859-s0001-0000000097409519-0120-s/tess2018206045859-s0001-0000000097409519-0120-s_tp.fits\n",
      "6: ./mastDownload/TESS/tess2018206045859-s0001-0000000097409519-0120-s/tess2018206190142-s0001-s0001-0000000097409519-00106_dvt.fits\n",
      "7: ./mastDownload/TESS/tess2018206045859-s0001-0000000099837626-0120-s/tess2018206045859-s0001-0000000099837626-0120-s_tp.fits\n",
      "8: ./mastDownload/TESS/tess2018206045859-s0001-0000000099837626-0120-s/tess2018206045859-s0001-0000000099837626-0120-s_lc.fits\n",
      "9: ./mastDownload/TESS/tess2018206045859-s0001-0000000325178933-0120-s/tess2018206045859-s0001-0000000325178933-0120-s_tp.fits\n",
      "10: ./mastDownload/TESS/tess2018206045859-s0001-0000000325178933-0120-s/tess2018206045859-s0001-0000000325178933-0120-s_lc.fits\n",
      "11: ./mastDownload/TESS/tess2018206045859-s0001-0000000277774779-0120-s/tess2018206045859-s0001-0000000277774779-0120-s_lc.fits\n",
      "12: ./mastDownload/TESS/tess2018206045859-s0001-0000000277774779-0120-s/tess2018206045859-s0001-0000000277774779-0120-s_tp.fits\n",
      "13: ./mastDownload/TESS/tess2018206045859-s0001-0000000139754153-0120-s/tess2018206045859-s0001-0000000139754153-0120-s_lc.fits\n",
      "14: ./mastDownload/TESS/tess2018206045859-s0001-0000000139754153-0120-s/tess2018206045859-s0001-0000000139754153-0120-s_tp.fits\n",
      "15: ./mastDownload/TESS/tess2018206045859-s0001-0000000388104525-0120-s/tess2018206045859-s0001-0000000388104525-0120-s_tp.fits\n",
      "16: ./mastDownload/TESS/tess2018206045859-s0001-0000000388104525-0120-s/tess2018206190142-s0001-s0001-0000000388104525-00106_dvt.fits\n",
      "17: ./mastDownload/TESS/tess2018206045859-s0001-0000000388104525-0120-s/tess2018206045859-s0001-0000000388104525-0120-s_lc.fits\n",
      "18: ./mastDownload/TESS/tess2018206045859-s0001-0000000290543478-0120-s/tess2018206045859-s0001-0000000290543478-0120-s_tp.fits\n",
      "19: ./mastDownload/TESS/tess2018206045859-s0001-0000000290543478-0120-s/tess2018206045859-s0001-0000000290543478-0120-s_lc.fits\n",
      "20: ./mastDownload/TESS/tess2018206045859-s0001-0000000281461362-0120-s/tess2018206045859-s0001-0000000281461362-0120-s_tp.fits\n",
      "21: ./mastDownload/TESS/tess2018206045859-s0001-0000000281461362-0120-s/tess2018206045859-s0001-0000000281461362-0120-s_lc.fits\n",
      "22: ./mastDownload/TESS/tess2018206045859-s0001-0000000025155310-0120-s/tess2018206045859-s0001-0000000025155310-0120-s_lc.fits\n",
      "23: ./mastDownload/TESS/tess2018206045859-s0001-0000000025155310-0120-s/tess2018206190142-s0001-s0001-0000000025155310-00106_dvt.fits\n",
      "24: ./mastDownload/TESS/tess2018206045859-s0001-0000000025155310-0120-s/tess2018206045859-s0001-0000000025155310-0120-s_tp.fits\n",
      "25: ./mastDownload/TESS/tess2018206045859-s0001-0000000141411201-0120-s/tess2018206045859-s0001-0000000141411201-0120-s_lc.fits\n",
      "26: ./mastDownload/TESS/tess2018206045859-s0001-0000000141411201-0120-s/tess2018206045859-s0001-0000000141411201-0120-s_tp.fits\n"
     ]
    }
   ],
   "source": [
    "# Reading which LC datafiles we have into a list\n",
    "\n",
    "fitsList = []\n",
    "fits_directories = [x[0] for x in os.walk('.')]\n",
    "\n",
    "for fits_root, fits_dirs, fits_files in os.walk('.'):\n",
    "    for fits_file in fits_files:\n",
    "        fullpath = os.path.join(fits_root, fits_file)\n",
    "        if (os.path.splitext(fullpath.lower())[1]).endswith('.fits'):\n",
    "            fitsList.append(fullpath)\n",
    "print(\"Number of FITS files: {}\".format(len(fitsList)))\n",
    "for num, i in enumerate(fitsList):\n",
    "    print (\"{}: {}\".format(num, i))"
   ]
  },
  {
   "cell_type": "markdown",
   "metadata": {},
   "source": [
    "Now that we have a list of all FITS files we have, I can select any one of them (in this list) and use that as the filename. Now, let's have a look at a FITS file, to check if it's a Light Curve (LC) or an image."
   ]
  },
  {
   "cell_type": "code",
   "execution_count": 96,
   "metadata": {
    "collapsed": false
   },
   "outputs": [
    {
     "name": "stdout",
     "output_type": "stream",
     "text": [
      "Filename: ./kplr010666592-2009131105131_llc.fits\n",
      "No.    Name      Ver    Type      Cards   Dimensions   Format\n",
      "  0  PRIMARY       1 PrimaryHDU      58   ()      \n",
      "  1  LIGHTCURVE    1 BinTableHDU    155   476R x 20C   [D, E, J, E, E, E, E, E, E, J, D, E, D, E, D, E, D, E, E, E]   \n",
      "  2  APERTURE      1 ImageHDU        48   (12, 10)   int32   \n"
     ]
    }
   ],
   "source": [
    "file = fitsList[0]\n",
    "check = fits.info(file)\n",
    "\n",
    "#filesize = (1/1024)*os.stat(file).st_size\n",
    "#print (\"{} kb\".format(filesize))"
   ]
  },
  {
   "cell_type": "code",
   "execution_count": 97,
   "metadata": {
    "collapsed": false
   },
   "outputs": [
    {
     "data": {
      "text/plain": [
       "SIMPLE  =                    T / conforms to FITS standards                     \n",
       "BITPIX  =                    8 / array data type                                \n",
       "NAXIS   =                    0 / number of array dimensions                     \n",
       "EXTEND  =                    T / file contains extensions                       \n",
       "NEXTEND =                    2 / number of standard extensions                  \n",
       "EXTNAME = 'PRIMARY '           / name of extension                              \n",
       "EXTVER  =                    1 / extension version number (not format version)  \n",
       "ORIGIN  = 'NASA/Ames'          / institution responsible for creating this file \n",
       "DATE    = '2015-08-26'         / file creation date.                            \n",
       "CREATOR = '793561 FluxExporter2PipelineModule' / pipeline job and program used t\n",
       "PROCVER = 'svn+ssh://murzim/repo/soc/tags/release/9.3.21 r60196' / SW version   \n",
       "FILEVER = '6.1     '           / file format version                            \n",
       "TIMVERSN= 'OGIP/93-003'        / OGIP memo number for file format               \n",
       "TELESCOP= 'Kepler  '           / telescope                                      \n",
       "INSTRUME= 'Kepler Photometer'  / detector type                                  \n",
       "OBJECT  = 'KIC 10666592'       / string version of target id                    \n",
       "KEPLERID=             10666592 / unique Kepler target identifier                \n",
       "CHANNEL =                   58 / CCD channel                                    \n",
       "SKYGROUP=                   18 / roll-independent location of channel           \n",
       "MODULE  =                   17 / CCD module                                     \n",
       "OUTPUT  =                    2 / CCD output                                     \n",
       "QUARTER =                    0 / Observing quarter                              \n",
       "SEASON  =                    3 / mission season during which data was collected \n",
       "DATA_REL=                   25 / data release version number                    \n",
       "OBSMODE = 'long cadence'       / observing mode                                 \n",
       "MISSION = 'Kepler  '           / Mission name                                   \n",
       "TTABLEID=                   14 / target table id                                \n",
       "RADESYS = 'ICRS    '           / reference frame of celestial coordinates       \n",
       "RA_OBJ  =           292.247280 / [deg] right ascension                          \n",
       "DEC_OBJ =            47.969519 / [deg] declination                              \n",
       "EQUINOX =               2000.0 / equinox of celestial coordinate system         \n",
       "PMRA    =               0.0000 / [arcsec/yr] RA proper motion                   \n",
       "PMDEC   =               0.0000 / [arcsec/yr] Dec proper motion                  \n",
       "PMTOTAL =               0.0000 / [arcsec/yr] total proper motion                \n",
       "PARALLAX=                      / [arcsec] parallax                              \n",
       "GLON    =            80.032934 / [deg] galactic longitude                       \n",
       "GLAT    =            13.975311 / [deg] galactic latitude                        \n",
       "GMAG    =               10.935 / [mag] SDSS g band magnitude                    \n",
       "RMAG    =               10.490 / [mag] SDSS r band magnitude                    \n",
       "IMAG    =                      / [mag] SDSS i band magnitude                    \n",
       "ZMAG    =                      / [mag] SDSS z band magnitude                    \n",
       "D51MAG  =                      / [mag] D51 magnitude,                           \n",
       "JMAG    =                9.555 / [mag] J band magnitude from 2MASS              \n",
       "HMAG    =                9.344 / [mag] H band magnitude from 2MASS              \n",
       "KMAG    =                9.334 / [mag] K band magnitude from 2MASS              \n",
       "KEPMAG  =                9.710 / [mag] Kepler magnitude (Kp)                    \n",
       "GRCOLOR =                0.445 / [mag] (g-r) color, SDSS bands                  \n",
       "JKCOLOR =                0.221 / [mag] (J-K) color, 2MASS bands                 \n",
       "GKCOLOR =                1.601 / [mag] (g-K) color, SDSS g - 2MASS K            \n",
       "TEFF    =                 6350 / [K] Effective temperature                      \n",
       "LOGG    =                4.021 / [cm/s2] log10 surface gravity                  \n",
       "FEH     =                0.260 / [log10([Fe/H])]  metallicity                   \n",
       "EBMINUSV=                      / [mag] E(B-V) reddening                         \n",
       "AV      =                      / [mag] A_v extinction                           \n",
       "RADIUS  =                1.991 / [solar radii] stellar radius                   \n",
       "TMINDEX =           1099902638 / unique 2MASS catalog ID                        \n",
       "SCPID   =                      / unique SCP processing ID                       \n",
       "CHECKSUM= 'ZrAoZo6oZoAoZo3o'   / HDU checksum updated 2015-08-26T17:47:18Z      "
      ]
     },
     "execution_count": 97,
     "metadata": {},
     "output_type": "execute_result"
    }
   ],
   "source": [
    "# The following line of code gives us the header values\n",
    "fitsHeaders = fits.getheader(file)\n",
    "fitsHeaders"
   ]
  },
  {
   "cell_type": "code",
   "execution_count": 114,
   "metadata": {
    "collapsed": false
   },
   "outputs": [],
   "source": [
    "def areAllHeadersPresent(heads):\n",
    "    \"\"\"\n",
    "    A function to make sure that all headers required for plotting a Light Curve\n",
    "    are present, and alert the user if any are missing (and which ones)\n",
    "    \"\"\"\n",
    "    \n",
    "    allgood = True\n",
    "    neededHeaders = ['TEFF', 'LOGG', 'TESSMAG',\n",
    "                     'TPERIOD', 'TDUR', 'TEPOCH', 'TDEPTH',\n",
    "                     'TIME', 'PHASE', 'LC_INIT', 'MODEL_INIT']\n",
    "\n",
    "    for i in range (len(neededHeaders)):\n",
    "        try:\n",
    "            heads[neededHeaders[i]]\n",
    "        except:\n",
    "            #print(\"Header {} not present!\".format(neededHeaders[i]))\n",
    "            allgood = False\n",
    "        #else:\n",
    "        #    print(\"{}: {}\".format(neededHeaders[i], heads[neededHeaders[i]]))\n",
    "    return allgood\n",
    "\n",
    "#areAllHeadersPresent(fitsHeaders)"
   ]
  },
  {
   "cell_type": "code",
   "execution_count": 119,
   "metadata": {
    "collapsed": false
   },
   "outputs": [
    {
     "name": "stdout",
     "output_type": "stream",
     "text": [
      "Not all required Headers are present in this file!\n"
     ]
    }
   ],
   "source": [
    "if areAllHeadersPresent(fitsHeaders)==False:\n",
    "    print(\"Not all required Headers are present in this file!\")\n",
    "else:\n",
    "\n",
    "    with fits.open(file, mode=\"readonly\") as hdulist:\n",
    "\n",
    "\n",
    "        # Extract stellar parameters from the primary header.  We'll get the effective temperature, surface gravity,\n",
    "        # and TESS magnitude.\n",
    "        star_teff = hdulist[0].header['TEFF']\n",
    "        star_logg = hdulist[0].header['LOGG']\n",
    "        star_tmag = hdulist[0].header['TESSMAG']\n",
    "\n",
    "        # Extract some of the fit parameters for the first TCE.  These are stored in the FITS header of the first\n",
    "        # extension.\n",
    "        period = hdulist[1].header['TPERIOD']\n",
    "        duration = hdulist[1].header['TDUR']\n",
    "        epoch = hdulist[1].header['TEPOCH']\n",
    "        depth = hdulist[1].header['TDEPTH']\n",
    "\n",
    "        # Extract some of the columns of interest for the first TCE signal.  These are stored in the binary FITS table\n",
    "        # in the first extension.  We'll extract the timestamps in TBJD, phase, initial fluxes, and corresponding\n",
    "        # model fluxes.\n",
    "        times = hdulist[1].data['TIME']\n",
    "        phases = hdulist[1].data['PHASE']\n",
    "        fluxes_init = hdulist[1].data['LC_INIT']\n",
    "        model_fluxes_init = hdulist[1].data['MODEL_INIT']\n",
    "\n",
    "    # First sort the phase and flux arrays by phase so we can draw the connecting lines between points.\n",
    "    sort_indexes = np.argsort(phases)\n",
    "\n",
    "    # Start figure and axis.\n",
    "    fig, ax = plt.subplots(figsize=(12,4))\n",
    "\n",
    "    # Plot the detrended fluxes as black circles.  We will plot them in sorted order.\n",
    "    ax.plot(phases[sort_indexes], fluxes_init[sort_indexes], 'ko',\n",
    "           markersize=2)\n",
    "\n",
    "    # Plot the model fluxes as a red line.  We will plot them in sorted order so the line connects between points cleanly.\n",
    "    ax.plot(phases[sort_indexes], model_fluxes_init[sort_indexes], '-r')\n",
    "\n",
    "    # Let's label the axes and define a title for the figure.\n",
    "    fig.suptitle('TIC 100100827 - Folded Lightcurve And Transit Model.')\n",
    "    ax.set_ylabel(\"Flux (relative)\")\n",
    "    ax.set_xlabel(\"Orbital Phase\")\n",
    "\n",
    "    # Let's add some text in the top-right containing some of the fit parameters.\n",
    "    plt.text(0.2, 0.012, \"Period = {0:10.6f} days\".format(period))\n",
    "    plt.text(0.2, 0.010, \"Duration = {0:10.6f} hours\".format(duration))\n",
    "    plt.text(0.2, 0.008, \"Depth = {0:10.6f} ppm\".format(depth))\n",
    "    plt.text(0.45, 0.012, \"Star Teff = {0:10.6f} K\".format(star_teff))\n",
    "    plt.text(0.45, 0.010, \"Star log(g) = {0:10.6f}\".format(star_logg))\n",
    "\n",
    "    plt.show()"
   ]
  },
  {
   "cell_type": "code",
   "execution_count": null,
   "metadata": {
    "collapsed": true
   },
   "outputs": [],
   "source": []
  }
 ],
 "metadata": {
  "kernelspec": {
   "display_name": "Python 3",
   "language": "python",
   "name": "python3"
  },
  "language_info": {
   "codemirror_mode": {
    "name": "ipython",
    "version": 3
   },
   "file_extension": ".py",
   "mimetype": "text/x-python",
   "name": "python",
   "nbconvert_exporter": "python",
   "pygments_lexer": "ipython3",
   "version": "3.5.6"
  }
 },
 "nbformat": 4,
 "nbformat_minor": 0
}
