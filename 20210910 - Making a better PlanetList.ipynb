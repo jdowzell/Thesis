{
 "cells": [
  {
   "cell_type": "code",
   "execution_count": 30,
   "id": "aerial-saturn",
   "metadata": {},
   "outputs": [],
   "source": [
    "# Scientific imports\n",
    "\n",
    "%matplotlib inline\n",
    "from astropy.io import fits\n",
    "import matplotlib.pyplot as plt\n",
    "import numpy as np\n",
    "from astroquery.mast import Observations\n",
    "from astroquery.mast import Catalogs\n",
    "\n",
    "# General imports\n",
    "\n",
    "import csv, math, os, os.path, sys, random, gc\n",
    "import pandas as pd\n",
    "import seaborn as sb\n",
    "from sklearn import metrics\n",
    "from IPython.display import display\n",
    "from collections import Counter\n",
    "\n",
    "plt.rcParams[\"figure.figsize\"] = (20,9)\n",
    "sb.set()\n",
    "\n",
    "###################################################\n",
    "\n",
    "import types\n",
    "\n",
    "def GetElementAt(self, row, col):\n",
    "    if col<1 or row <1:\n",
    "        print(\"Error: Must have Row, Col must be 1 or greater!\")\n",
    "        return 0\n",
    "    else:\n",
    "        return(self.at[row,self.columns[col-1]])\n",
    "\n",
    "###################################################\n",
    "\n",
    "planet_list =\"tsop301_planet_data.txt\"\n",
    "star_list   =\"tsop301_star_data.txt\"\n",
    "eb_list     =\"tsop301_eb_data.txt\"\n",
    "beb_list    =\"tsop301_backeb_data.txt\"\n",
    "\n",
    "def LoadList(itemtype=\"all\"):\n",
    "    \n",
    "    foundflag=False\n",
    "    \n",
    "    # itemtype = (S)tar, (P)lanet, (E)clipsing (B)inary, or (B)ack (E)clipsing (B)inary\n",
    "    if itemtype.lower() in [\"s\", \"star\", \"all\"]:\n",
    "        foundflag = True\n",
    "        global starlist\n",
    "        starlist = LoadListGeneral(star_list)\n",
    "        print(\"Loading star list: {}\".format(star_list))\n",
    "    if itemtype.lower() in [\"p\", \"planet\", \"all\"]:\n",
    "        foundflag = True\n",
    "        global planetlist\n",
    "        planetlist = LoadListGeneral(planet_list)\n",
    "        print (\"loading planet list: {}\".format(planet_list))\n",
    "    if itemtype.lower() in [\"eb\", \"eclipsing binary\", \"eclipsingbinary\", \"all\"]:\n",
    "        foundflag = True\n",
    "        global eblist\n",
    "        eblist = LoadListGeneral(eb_list)\n",
    "        print (\"loading eb list: {}\".format(eb_list))\n",
    "    if itemtype.lower() in [\"beb\", \"back eclipsing binary\", \"backeclipsingbinary\", \"all\"]:\n",
    "        foundflag = True\n",
    "        global beblist\n",
    "        beblist = LoadListGeneral(beb_list)\n",
    "        print (\"loading beb list: {}\".format(beb_list))\n",
    "        \n",
    "    if foundflag:\n",
    "        global alllists\n",
    "        alllists = {\"s\": starlist, \"p\": planetlist, \"eb\": eblist, \"beb\": beblist}\n",
    "        return alllists\n",
    "    else:\n",
    "        # If an invalid selection has been entered\n",
    "        print(\"You must enter either:\\n\"\n",
    "               \"* \\\"S\\\" (or \\\"Star\\\")\\n\"\n",
    "               \"* \\\"P\\\" (or \\\"Planet\\\")\\n\"\n",
    "               \"* \\\"EB\\\" (or \\\"Eclipsing Binary\\\")\\n\"\n",
    "               \"* \\\"BEB\\\" (or \\\"Back Eclipsing Binary\\\")\")\n",
    "        \n",
    "def IsThisAStar(n):\n",
    "    return n in alllists[\"s\"]\n",
    "    \n",
    "def IsThisAPlanet(n):\n",
    "    return n in alllists[\"p\"]\n",
    "\n",
    "def IsThisAEB(n):\n",
    "    return n in alllists[\"eb\"]\n",
    "\n",
    "def IsThisABEB(n):\n",
    "    return n in alllists[\"beb\"]\n",
    "\n",
    "# Function to tell you what an item is\n",
    "def WhatIsMyLC(n):\n",
    "    lbl = []\n",
    "    lbl.append(\"Star\") if IsThisAStar(n) else lbl\n",
    "    lbl.append(\"Planet\") if IsThisAPlanet(n) else lbl\n",
    "    lbl.append(\"EB\") if IsThisAEB(n) else lbl\n",
    "    lbl.append(\"BRB\") if IsThisABEB(n) else lbl\n",
    "    \n",
    "    return \"UNKNOWN\" if lbl==[] else lbl\n",
    "\n",
    "def LoadListGeneral(f):\n",
    "    lst=[]\n",
    "    try:\n",
    "        # Assuming everything CAN go well, do this\n",
    "        with open('./SIM_DATA/unpacked/{}'.format(f)) as df:\n",
    "            csvdf = csv.reader(df)\n",
    "            for lineholder in csvdf:\n",
    "                line = lineholder[0]                # 'lineholder' is a list, 1 element long, containing only a single string\n",
    "                if line[0]!=\"#\":                    # Ignore commented lines (lines w/ FIRST STRING ELEMENT is a # character)\n",
    "                    lst.append(line.split()[0])     # Add line to list\n",
    "                # endif\n",
    "            # endfor\n",
    "        # endwith\n",
    "    except FileNotFoundError:\n",
    "        print(\"FNF\")\n",
    "        return\n",
    "    # end try\n",
    "    return lst\n",
    "\n",
    "def LoadListFull(f,n=6):\n",
    "    # numHeaders = 6 but this is defined later on; using default value here for sake of making it work\n",
    "    lst =[]\n",
    "    hlst=[]\n",
    "    try:\n",
    "        # Assuming everything CAN go well, do this\n",
    "        with open('./SIM_DATA/unpacked/{}'.format(f)) as df:\n",
    "            csvdf = csv.reader(df)\n",
    "            for ln, lineholder in enumerate(csvdf):\n",
    "                line = lineholder[0]                # 'lineholder' is a list, 1 element long, containing only a single string\n",
    "                \n",
    "                #print(lineholder[0][2])             # this should be a number\n",
    "                #print(\"{} : {}\".format(type(lineholder[0][2]), lineholder[0][2].isdigit()))\n",
    "                \n",
    "                if lineholder[0][2:3].isdigit() and int(lineholder[0][2:4]) <= n:\n",
    "                    \n",
    "                    # STUFF\n",
    "                    #print(line)\n",
    "                    hcontent = line.split(' - ')[1]\n",
    "                    hlst.append(hcontent)\n",
    "                \n",
    "                if line[0]!=\"#\":                    # Ignore commented lines (lines w/ FIRST STRING ELEMENT is a # character)\n",
    "                    \n",
    "                    if len(lst) == 0:\n",
    "                        # Stuff to happen while len(lst) == 0\n",
    "                        lst.append(hlst)\n",
    "                    \n",
    "                    content = line.split()[:6]\n",
    "                    #print(content)\n",
    "                    lst.append(content)    # Add line to list\n",
    "                    \n",
    "                # endif\n",
    "            # endfor\n",
    "        # endwith\n",
    "    except FileNotFoundError:\n",
    "        print(\"FNF\")\n",
    "        return\n",
    "    # end try\n",
    "    return lst\n",
    "\n",
    "def MakingAList(prnt=False):\n",
    "    fl = []\n",
    "    fitsroot = \"SIM_DATA/\"\n",
    "    fits_directories = [x[0] for x in os.walk('./SIM_DATA/.', topdown=True)]\n",
    "\n",
    "    for fitsroot, fits_dirs, fits_files in os.walk(fitsroot):\n",
    "        for fits_file in fits_files:\n",
    "            fullpath = os.path.join(fitsroot, fits_file)\n",
    "            if (os.path.splitext(fullpath.lower())[1]).endswith('.fits'):\n",
    "                fl.append(fullpath)\n",
    "    if prnt==True:\n",
    "        print(\"Number of FITS files: {}\".format(len(fl)))\n",
    "    #print(len(fl))\n",
    "    return fl\n",
    "\n",
    "# So every item in the inputArr list is a TIC.\n",
    "# Therefore finding the index in TICList of each item will give us the FITS file to load\n",
    "# Can also check by checking name of file\n",
    "\n",
    "def NPlanetFluxes(inputArr):\n",
    "\n",
    "    outputArr = [None]*len(inputArr)\n",
    "\n",
    "    for i in range(len(inputArr)):\n",
    "\n",
    "        # Initialise stuff for easier searching\n",
    "        TIC = inputArr[i]\n",
    "        index = TICList.index(TIC)\n",
    "        fitsFile = fitsList[index]\n",
    "\n",
    "        # CHECK IF CORRECT FITS FILE FOR GIVEN TIC\n",
    "        if str(TICList[index]) not in fitsList[index]:\n",
    "            print(\"ERR @ {}\".format(index))\n",
    "            break\n",
    "        else:\n",
    "#            # Populate flux list\n",
    "#            with fits.open(fitsFile, mode=\"readonly\", mammap=False) as hdulist:\n",
    "#                pdcsap_fluxes = hdulist[1].data['PDCSAP_FLUX']\n",
    "#                outputArr[i] = pdcsap_fluxes\n",
    "            \n",
    "            # Populate flux list\n",
    "            hdulist = fits.open(fitsFile, mode=\"readonly\", mammap=False)\n",
    "            \n",
    "            pdcsap_fluxes = hdulist[1].data['PDCSAP_FLUX']\n",
    "            outputArr[i] = pdcsap_fluxes\n",
    "            \n",
    "            hdulist.close()\n",
    "\n",
    "    # Final Validation\n",
    "    print(\"Length of inputArr = {}\".format(len(inputArr)))\n",
    "    print(\"Length of outputArr = {}\".format(len(outputArr)))\n",
    "    print(\"Length of flux list = {}\".format(len(outputArr[0])))\n",
    "    \n",
    "    # Return\n",
    "    return(outputArr)\n",
    "\n",
    "# So every item in the inputArr list is a TIC.\n",
    "# Therefore finding the index in TICList of each item will give us the FITS file to load\n",
    "# Can also check by checking name of file\n",
    "\n",
    "def NPlanetFluxesSingle(TIC):\n",
    "    # Initialise stuff for easier searching\n",
    "    index = TICList.index(TIC)\n",
    "    fitsFile = fitsList[index]\n",
    "\n",
    "    # CHECK IF CORRECT FITS FILE FOR GIVEN TIC\n",
    "    if str(TICList[index]) not in fitsList[index]:\n",
    "        print(\"ERR @ {}\".format(index))\n",
    "        return 0\n",
    "    else:  \n",
    "        # OPEN THE FILE\n",
    "        hdulist = fits.open(fitsFile, mode=\"readonly\", mammap=False)\n",
    "        \n",
    "        # Get data\n",
    "        pdcsap_fluxes = hdulist[1].data['PDCSAP_FLUX']\n",
    "        #outputArr[num] = pdcsap_fluxes\n",
    "        \n",
    "        # CLOSE THE FILE\n",
    "        hdulist.close()\n",
    "        \n",
    "        # Garbage Collect\n",
    "        gc.collect()\n",
    "    \n",
    "    # Return\n",
    "    return(pdcsap_fluxes)\n",
    "\n",
    "def DrawLC(N=-1):\n",
    "    rndFile = random.randint(0,len(fitsList))\n",
    "    #print(\"FILE IS {}\".format(rndFile))\n",
    "    #fileNum = fitsList[rndFile]\n",
    "    fitsFile = fitsList[rndFile] if N==-1 else fitsList[N]\n",
    "\n",
    "    with fits.open(fitsFile, mode=\"readonly\") as hdulist:\n",
    "\n",
    "        # Extract stellar parameters from the primary header.  We'll get the effective temperature, surface gravity,\n",
    "        # and TESS magnitude.\n",
    "        obj = hdulist[0].header['OBJECT']\n",
    "        sector = hdulist[0].header['SECTOR']\n",
    "\n",
    "        # Extract some of the columns of interest for the first TCE signal.  These are stored in the binary FITS table\n",
    "        # in the first extension.  We'll extract the timestamps in TBJD, phase, initial fluxes, and corresponding\n",
    "        # model fluxes.\n",
    "        tess_bjds = hdulist[1].data['TIME']\n",
    "        pdcsap_fluxes = hdulist[1].data['PDCSAP_FLUX']\n",
    "\n",
    "    #return (tess_bjds[1:-1], pdcsap_fluxes[1:-1], str(rndFile), str(obj), str(sector))\n",
    "    return (tess_bjds, pdcsap_fluxes, str(rndFile), str(obj), str(sector))\n",
    "\n",
    "\n",
    "# Python3 implementation to find elements\n",
    "# that appeared only once\n",
    "# Function to find the elements that\n",
    "# appeared only once in the array\n",
    "def occurredOnce(in_arr, out_arr, count=1):\n",
    "    \n",
    "    n = len(in_arr)\n",
    "    #counting frequency of every element using Counter\n",
    "    mp=Counter(in_arr)\n",
    "    # Traverse the map and print all\n",
    "    # the elements with occurrence 1\n",
    "    for it in mp:\n",
    "        if mp[it] == count:\n",
    "            out_arr.append(int(it))\n",
    "            #print(it, end = \" \")\n",
    "            \n",
    "            \n",
    "\n",
    "# [f(x) for x in sequence if condition]\n",
    "# [f(x) if condition else g(x) for x in sequence]\n",
    "\n",
    "def MakeNewPlanetLists(inArr):\n",
    "\n",
    "    newIsPlanetList=[0]*len(inArr)\n",
    "    print(\"Length of newIsPlanetList is {}\".format(len(newIsPlanetList)))\n",
    "\n",
    "    for i in inArr:\n",
    "        ind = TICList.index(i)\n",
    "        newIsPlanetList[ind] = 1\n",
    "    \n",
    "    return (newIsPlanetList)\n",
    "\n",
    "def MakeNewPlanetListsNew(inArr):\n",
    "\n",
    "    newIsPlanetList=[None]*len(inArr)\n",
    "\n",
    "    for n,i in enumerate(inArr):\n",
    "        # Now that we are looping thru each item in the list, I can do a lookup\n",
    "        # check each item against PLANETLIST and see if the item exists within\n",
    "        \n",
    "        #print(\"n,i = {}, {}\".format(n,i))\n",
    "        \n",
    "        query = 1 if i in planetList else 0\n",
    "        \n",
    "        #print(\"Query = {}\".format(query))\n",
    "        \n",
    "        newIsPlanetList[n] = query\n",
    "    \n",
    "    return (newIsPlanetList)\n",
    "\n",
    "def DrawLC(rndFile=-1):\n",
    "    \n",
    "    # rndFile is random, unless specified\n",
    "    rndFile = random.randint(0,len(fitsarr)) if rndFile==-1 else rndFile\n",
    "    \n",
    "    # Get LC data from the requisite fits file\n",
    "    fitsFile = fitsarr[rndFile]\n",
    "\n",
    "    # The following line of code gives us the header values\n",
    "    fitsHeaders = fits.getheader(fitsFile)\n",
    "\n",
    "    with fits.open(fitsFile, mode=\"readonly\") as hdulist:\n",
    "\n",
    "        # Extract stellar parameters from the primary header.  We'll get the effective temperature, surface gravity,\n",
    "        # and TESS magnitude.\n",
    "        star_teff = hdulist[0].header['TEFF']\n",
    "        star_logg = hdulist[0].header['LOGG']\n",
    "        star_tmag = hdulist[0].header['TESSMAG']\n",
    "        obj       = hdulist[0].header['OBJECT']\n",
    "        sector    = hdulist[0].header['SECTOR']\n",
    "\n",
    "\n",
    "        # Extract some of the columns of interest for the first TCE signal.  These are stored in the binary FITS table\n",
    "        # in the first extension.  We'll extract the timestamps in TBJD, phase, initial fluxes, and corresponding\n",
    "        # model fluxes.\n",
    "        tess_bjds     = hdulist[1].data['TIME']\n",
    "        sap_fluxes    = hdulist[1].data['SAP_FLUX']\n",
    "        pdcsap_fluxes = hdulist[1].data['PDCSAP_FLUX']\n",
    "\n",
    "    # X- and Y- labels\n",
    "    #ylab = \"PDCSAP Flux (e-/s)\"\n",
    "    ylab = \"SAP Flux (e-/s)\"\n",
    "    xlab = \"Time (TBJD)\"\n",
    "\n",
    "                        # pdcsap_fluxes[1:-1]\n",
    "    return (tess_bjds[1:-1], sap_fluxes[1:-1], str(rndFile), str(obj), str(sector), ylab, xlab)\n",
    "\n",
    "#################################\n",
    "def Initialise():\n",
    "    fitsarr=np.load(\"fitslist.npy\")\n",
    "    master_list = LoadList()\n",
    "    return(fitsList, master_list)\n",
    "#################################"
   ]
  },
  {
   "cell_type": "code",
   "execution_count": 33,
   "id": "recognized-highlight",
   "metadata": {},
   "outputs": [
    {
     "name": "stdout",
     "output_type": "stream",
     "text": [
      "Loading star list: tsop301_star_data.txt\n",
      "loading planet list: tsop301_planet_data.txt\n",
      "loading eb list: tsop301_eb_data.txt\n",
      "loading beb list: tsop301_backeb_data.txt\n"
     ]
    }
   ],
   "source": [
    "# RUN ALL INITIALISERS\n",
    "\n",
    "    \n",
    "(fitsarr, master_list) = Initialise()\n",
    "starList, planetList, ebList, bebList = master_list['s'], master_list['p'], master_list['eb'], master_list['beb']\n",
    "starList   = [int(x) for x in starList]\n",
    "planetList = [int(x) for x in planetList]\n",
    "ebList     = [int(x) for x in ebList]\n",
    "bebList    = [int(x) for x in bebList]"
   ]
  },
  {
   "cell_type": "code",
   "execution_count": 3,
   "id": "silver-working",
   "metadata": {},
   "outputs": [],
   "source": [
    "# 1 - TIC ID [int] - Target identifier \n",
    "# 2 - Planet Number [int] - Multiple planets per target are present\n",
    "# 3 - Orbital Period [days]\n",
    "# 4 - Epoch [BTJD] - Barycentric Julian Data with zeropoint convenient for TESS\n",
    "#                    JD - 2457000.0 = BTJD\n",
    "# 5 - Rp/Rstar - Ratio planet radius to stellar host radius\n",
    "# 6 - Rp [Rearth] - Planet radius\n",
    "\n",
    "numHeaders = 6\n",
    "planetListFull = LoadListFull(planet_list)"
   ]
  },
  {
   "cell_type": "code",
   "execution_count": 4,
   "id": "fifth-aggregate",
   "metadata": {},
   "outputs": [
    {
     "data": {
      "text/plain": [
       "[['TIC ID [int]',\n",
       "  'Planet Number [int]',\n",
       "  'Orbital Period [days]',\n",
       "  'Epoch [BTJD]',\n",
       "  'Rp/Rstar',\n",
       "  'Rp [Rearth]'],\n",
       " ['6353299', '1', '27.4142299', '1022.430671', '0.03971', '1.799'],\n",
       " ['6353299', '2', '7.2762520', '1001.429162', '0.03885', '1.760'],\n",
       " ['6400274', '1', '146.3632622', '1114.341527', '0.03146', '5.738'],\n",
       " ['6471862', '1', '80.4104278', '1033.250807', '0.03272', '5.622'],\n",
       " ['6471862', '2', '7.7901323', '1004.126029', '0.03606', '6.195']]"
      ]
     },
     "execution_count": 4,
     "metadata": {},
     "output_type": "execute_result"
    }
   ],
   "source": [
    "planetListFull[:6]"
   ]
  },
  {
   "cell_type": "code",
   "execution_count": 5,
   "id": "identified-venue",
   "metadata": {},
   "outputs": [],
   "source": [
    "df = pd.DataFrame(planetListFull)\n",
    "df.columns = df.iloc[0]\n",
    "df = df[1:]\n",
    "#df['NewName'] = df['TIC ID [int]']+'-'+df['Planet Number [int]']\n",
    "df.insert(loc=2, column='NewName', value=df['TIC ID [int]']+'-'+df['Planet Number [int]'])\n",
    "\n",
    "# GET ELEMENT\n",
    "df.at[1,df.columns[3]]\n",
    "\n",
    "df.GetElementAt = types.MethodType(GetElementAt, df)"
   ]
  },
  {
   "cell_type": "code",
   "execution_count": 6,
   "id": "legal-albania",
   "metadata": {},
   "outputs": [
    {
     "data": {
      "text/html": [
       "<div>\n",
       "<style scoped>\n",
       "    .dataframe tbody tr th:only-of-type {\n",
       "        vertical-align: middle;\n",
       "    }\n",
       "\n",
       "    .dataframe tbody tr th {\n",
       "        vertical-align: top;\n",
       "    }\n",
       "\n",
       "    .dataframe thead th {\n",
       "        text-align: right;\n",
       "    }\n",
       "</style>\n",
       "<table border=\"1\" class=\"dataframe\">\n",
       "  <thead>\n",
       "    <tr style=\"text-align: right;\">\n",
       "      <th></th>\n",
       "      <th>TIC ID [int]</th>\n",
       "      <th>Planet Number [int]</th>\n",
       "      <th>NewName</th>\n",
       "      <th>Orbital Period [days]</th>\n",
       "      <th>Epoch [BTJD]</th>\n",
       "      <th>Rp/Rstar</th>\n",
       "      <th>Rp [Rearth]</th>\n",
       "    </tr>\n",
       "  </thead>\n",
       "  <tbody>\n",
       "    <tr>\n",
       "      <th>1</th>\n",
       "      <td>6353299</td>\n",
       "      <td>1</td>\n",
       "      <td>6353299-1</td>\n",
       "      <td>27.4142299</td>\n",
       "      <td>1022.430671</td>\n",
       "      <td>0.03971</td>\n",
       "      <td>1.799</td>\n",
       "    </tr>\n",
       "    <tr>\n",
       "      <th>2</th>\n",
       "      <td>6353299</td>\n",
       "      <td>2</td>\n",
       "      <td>6353299-2</td>\n",
       "      <td>7.2762520</td>\n",
       "      <td>1001.429162</td>\n",
       "      <td>0.03885</td>\n",
       "      <td>1.760</td>\n",
       "    </tr>\n",
       "    <tr>\n",
       "      <th>3</th>\n",
       "      <td>6400274</td>\n",
       "      <td>1</td>\n",
       "      <td>6400274-1</td>\n",
       "      <td>146.3632622</td>\n",
       "      <td>1114.341527</td>\n",
       "      <td>0.03146</td>\n",
       "      <td>5.738</td>\n",
       "    </tr>\n",
       "    <tr>\n",
       "      <th>4</th>\n",
       "      <td>6471862</td>\n",
       "      <td>1</td>\n",
       "      <td>6471862-1</td>\n",
       "      <td>80.4104278</td>\n",
       "      <td>1033.250807</td>\n",
       "      <td>0.03272</td>\n",
       "      <td>5.622</td>\n",
       "    </tr>\n",
       "    <tr>\n",
       "      <th>5</th>\n",
       "      <td>6471862</td>\n",
       "      <td>2</td>\n",
       "      <td>6471862-2</td>\n",
       "      <td>7.7901323</td>\n",
       "      <td>1004.126029</td>\n",
       "      <td>0.03606</td>\n",
       "      <td>6.195</td>\n",
       "    </tr>\n",
       "    <tr>\n",
       "      <th>6</th>\n",
       "      <td>6471862</td>\n",
       "      <td>3</td>\n",
       "      <td>6471862-3</td>\n",
       "      <td>145.7113215</td>\n",
       "      <td>1068.305639</td>\n",
       "      <td>0.01398</td>\n",
       "      <td>2.402</td>\n",
       "    </tr>\n",
       "  </tbody>\n",
       "</table>\n",
       "</div>"
      ],
      "text/plain": [
       "0 TIC ID [int] Planet Number [int]    NewName Orbital Period [days]  \\\n",
       "1      6353299                   1  6353299-1            27.4142299   \n",
       "2      6353299                   2  6353299-2             7.2762520   \n",
       "3      6400274                   1  6400274-1           146.3632622   \n",
       "4      6471862                   1  6471862-1            80.4104278   \n",
       "5      6471862                   2  6471862-2             7.7901323   \n",
       "6      6471862                   3  6471862-3           145.7113215   \n",
       "\n",
       "0 Epoch [BTJD] Rp/Rstar Rp [Rearth]  \n",
       "1  1022.430671  0.03971       1.799  \n",
       "2  1001.429162  0.03885       1.760  \n",
       "3  1114.341527  0.03146       5.738  \n",
       "4  1033.250807  0.03272       5.622  \n",
       "5  1004.126029  0.03606       6.195  \n",
       "6  1068.305639  0.01398       2.402  "
      ]
     },
     "execution_count": 6,
     "metadata": {},
     "output_type": "execute_result"
    }
   ],
   "source": [
    "df[:6]"
   ]
  },
  {
   "cell_type": "code",
   "execution_count": 7,
   "id": "banner-drilling",
   "metadata": {},
   "outputs": [
    {
     "data": {
      "text/plain": [
       "'146.3632622'"
      ]
     },
     "execution_count": 7,
     "metadata": {},
     "output_type": "execute_result"
    }
   ],
   "source": [
    "#df.GetElementAt(ROW,COLUMN)\n",
    "df.GetElementAt(3,4)"
   ]
  },
  {
   "cell_type": "code",
   "execution_count": 8,
   "id": "manual-typing",
   "metadata": {},
   "outputs": [],
   "source": [
    "#TICList = [0]*len(fitsList)\n",
    "#\n",
    "## Make a list of EVERY TIC IN ORDER\n",
    "#for i in range(len(fitsList)):\n",
    "#    with fits.open(fitsList[i], mode=\"readonly\") as hdulist:\n",
    "#        obj = hdulist[0].header['OBJECT']\n",
    "#        TICList[i] = int(obj.split('TIC ')[1])\n",
    "#\n",
    "#np.save(\"TICList\",TICList)"
   ]
  },
  {
   "cell_type": "code",
   "execution_count": 9,
   "id": "behavioral-syndicate",
   "metadata": {},
   "outputs": [],
   "source": [
    "TICList=list(np.load(\"TICList.npy\"))"
   ]
  },
  {
   "cell_type": "code",
   "execution_count": 10,
   "id": "current-webcam",
   "metadata": {},
   "outputs": [
    {
     "name": "stdout",
     "output_type": "stream",
     "text": [
      "C:5616, V:6353299\n"
     ]
    }
   ],
   "source": [
    "testf=int(df.GetElementAt(1,1))\n",
    "c=0\n",
    "for ctr, val in enumerate(TICList):\n",
    "    if val == testf:\n",
    "        print(\"C:{}, V:{}\".format(ctr,val))\n",
    "        c=ctr"
   ]
  },
  {
   "cell_type": "code",
   "execution_count": 11,
   "id": "equipped-tribune",
   "metadata": {},
   "outputs": [],
   "source": [
    "# Make a list of EVERY TIC IN ORDER\n",
    "for i in range(len(fitsList)):\n",
    "    with fits.open(fitsList[i], mode=\"readonly\") as hdulist:\n",
    "        obj = hdulist[0].header['OBJECT']\n",
    "        TICList[i] = int(obj.split('TIC ')[1])\n",
    "        \n",
    "isPlanetList = [None]*len(TICList)\n",
    "isEbList     = [None]*len(TICList)\n",
    "isBebList    = [None]*len(TICList)\n",
    "isStarList   = [None]*len(TICList)"
   ]
  },
  {
   "cell_type": "code",
   "execution_count": 12,
   "id": "indian-mileage",
   "metadata": {},
   "outputs": [],
   "source": [
    "# Time to do many loops\n",
    "\n",
    "for i in range(len(TICList)):\n",
    "    # The isPlanetList defaults to zero; check if TICList[i] is in plist\n",
    "    #OBJ = str(TICList[i])\n",
    "    OBJ = int(TICList[i])\n",
    "    \n",
    "    if OBJ in planetList:\n",
    "        #print(OBJ)\n",
    "        isPlanetList[i] = i\n",
    "        # isPlanetList[i] = [OBJ, planetList.index(OBJ)]\n",
    "        \n",
    "    if OBJ in ebList:\n",
    "        isEbList[i] = i\n",
    "        # isEbList[i] = [OBJ, ebList.index(OBJ)]\n",
    "        \n",
    "    if OBJ in bebList:\n",
    "        isBebList[i] = i\n",
    "        # isBebList[i] = [OBJ, bebList.index(OBJ)]\n",
    "        \n",
    "    if OBJ in starList:\n",
    "        isStarList[i] = i\n",
    "        # isStarList[i] = [OBJ, starList.index(OBJ)]"
   ]
  },
  {
   "cell_type": "code",
   "execution_count": 13,
   "id": "chicken-movement",
   "metadata": {},
   "outputs": [],
   "source": [
    "isPlanetListShort = [i for i in isPlanetList if i != None]\n",
    "isEbListShort     = [i for i in isEbList     if i != None]\n",
    "isBebListShort    = [i for i in isBebList    if i != None]\n",
    "isStarListShort   = [i for i in isStarList   if i != None]"
   ]
  },
  {
   "cell_type": "code",
   "execution_count": 14,
   "id": "solved-obligation",
   "metadata": {
    "tags": []
   },
   "outputs": [],
   "source": [
    "#len(isPlanetListShort)\n",
    "#isPlanetListShort[:10]"
   ]
  },
  {
   "cell_type": "code",
   "execution_count": 15,
   "id": "educated-championship",
   "metadata": {},
   "outputs": [],
   "source": [
    "one_planet_lcs = []\n",
    "two_planet_lcs = []\n",
    "three_planet_lcs = []\n",
    "four_planet_lcs = []\n",
    "five_planet_lcs = []\n",
    "six_planet_lcs = []\n",
    "occurredOnce(planetList, one_planet_lcs)\n",
    "occurredOnce(planetList, two_planet_lcs   ,2)\n",
    "occurredOnce(planetList, three_planet_lcs ,3)\n",
    "occurredOnce(planetList, four_planet_lcs  ,4)\n",
    "occurredOnce(planetList, five_planet_lcs  ,5)\n",
    "occurredOnce(planetList, six_planet_lcs   ,6)\n",
    "\n",
    "maxPlanets=6\n",
    "planet_lcs = []\n",
    "for i in range(maxPlanets):\n",
    "    planet_lcs.append([])\n",
    "\n",
    "for i in range(maxPlanets):\n",
    "    #print(\"occurredOnce(planetList, planet_lcs[{}],{})\".format(i,i+1))\n",
    "    occurredOnce(planetList, planet_lcs[i],i+1)"
   ]
  },
  {
   "cell_type": "code",
   "execution_count": 16,
   "id": "distinguished-cherry",
   "metadata": {
    "tags": []
   },
   "outputs": [
    {
     "name": "stdout",
     "output_type": "stream",
     "text": [
      "Number of LCs with 1 exoplanet(s): 1115\n",
      "Number of LCs with 2 exoplanet(s): 1082\n",
      "Number of LCs with 3 exoplanet(s): 534\n",
      "Number of LCs with 4 exoplanet(s): 260\n",
      "Number of LCs with 5 exoplanet(s): 155\n",
      "Number of LCs with 6 exoplanet(s): 0\n"
     ]
    }
   ],
   "source": [
    "for i in range(len(planet_lcs)):\n",
    "    print(\"Number of LCs with {} exoplanet(s): {}\".format(i+1,len(planet_lcs[i])))"
   ]
  },
  {
   "cell_type": "code",
   "execution_count": 17,
   "id": "surface-turkey",
   "metadata": {
    "collapsed": true,
    "jupyter": {
     "outputs_hidden": true
    },
    "tags": []
   },
   "outputs": [
    {
     "name": "stdout",
     "output_type": "stream",
     "text": [
      "387294245\n",
      "15880\n"
     ]
    },
    {
     "data": {
      "text/plain": [
       "[<matplotlib.lines.Line2D at 0x7f6fb0fd4eb0>]"
      ]
     },
     "execution_count": 17,
     "metadata": {},
     "output_type": "execute_result"
    },
    {
     "data": {
      "image/png": "[encoded data removed]",
      "text/plain": [
       "<Figure size 1440x648 with 1 Axes>"
      ]
     },
     "metadata": {},
     "output_type": "display_data"
    }
   ],
   "source": [
    "tstTIC = random.choice(one_planet_lcs)\n",
    "fileNum = TICList.index(tstTIC)\n",
    "print(tstTIC)\n",
    "print(fileNum)\n",
    "\n",
    "x,y,f,o,s = DrawLC(fileNum)\n",
    "plt.plot(x,y,'k.',markersize=0.5)"
   ]
  },
  {
   "cell_type": "code",
   "execution_count": 18,
   "id": "indirect-starter",
   "metadata": {},
   "outputs": [
    {
     "data": {
      "text/plain": [
       "6400274"
      ]
     },
     "execution_count": 18,
     "metadata": {},
     "output_type": "execute_result"
    }
   ],
   "source": [
    "one_planet_lcs[0]"
   ]
  },
  {
   "cell_type": "code",
   "execution_count": 19,
   "id": "fifty-relative",
   "metadata": {},
   "outputs": [
    {
     "data": {
      "text/plain": [
       "9088"
      ]
     },
     "execution_count": 19,
     "metadata": {},
     "output_type": "execute_result"
    }
   ],
   "source": [
    "TICList.index(one_planet_lcs[0])"
   ]
  },
  {
   "cell_type": "code",
   "execution_count": 20,
   "id": "chicken-mounting",
   "metadata": {},
   "outputs": [
    {
     "data": {
      "text/plain": [
       "6400274"
      ]
     },
     "execution_count": 20,
     "metadata": {},
     "output_type": "execute_result"
    }
   ],
   "source": [
    "TICList[9088]"
   ]
  },
  {
   "cell_type": "code",
   "execution_count": null,
   "id": "separated-scheme",
   "metadata": {},
   "outputs": [],
   "source": []
  },
  {
   "cell_type": "code",
   "execution_count": 38,
   "id": "indie-understanding",
   "metadata": {},
   "outputs": [
    {
     "data": {
      "text/plain": [
       "Text(0, 0.5, 'SAP Flux (e-/s)')"
      ]
     },
     "execution_count": 38,
     "metadata": {},
     "output_type": "execute_result"
    },
    {
     "data": {
      "image/png": "[encoded data removed]",
      "text/plain": [
       "<Figure size 1440x648 with 1 Axes>"
      ]
     },
     "metadata": {},
     "output_type": "display_data"
    }
   ],
   "source": [
    "x,y,f,o,s,ylab,xlab = DrawLC(TICList.index(one_planet_lcs[2]))\n",
    "\n",
    "fig, ax = plt.subplots()\n",
    "ax.plot(x,y)\n",
    "fig.suptitle(\"File № {} - {}\".format(f, o), fontsize=20) # + str(obj) + \" - Sector \" + str(sector))\n",
    "ax.set_xlabel(xlab, fontsize=16)\n",
    "ax.set_ylabel(ylab, fontsize=16)"
   ]
  },
  {
   "cell_type": "code",
   "execution_count": null,
   "id": "connected-precipitation",
   "metadata": {},
   "outputs": [],
   "source": []
  },
  {
   "cell_type": "code",
   "execution_count": null,
   "id": "played-cotton",
   "metadata": {},
   "outputs": [],
   "source": []
  },
  {
   "cell_type": "code",
   "execution_count": null,
   "id": "useful-silence",
   "metadata": {},
   "outputs": [],
   "source": []
  },
  {
   "cell_type": "markdown",
   "id": "vulnerable-military",
   "metadata": {},
   "source": [
    "### I want to make a list of TICs with ONLY 0 planets OR 1 planet\n",
    "### So I'll need to start by making a list of just TICs of just stars, and one-planet LCs"
   ]
  },
  {
   "cell_type": "code",
   "execution_count": 24,
   "id": "worse-compiler",
   "metadata": {},
   "outputs": [
    {
     "name": "stdout",
     "output_type": "stream",
     "text": [
      "[6286534, 6289424, 6353299, 6354567, 6355904, 6401116, 6406550, 6407080, 6472196, 6477929]\n",
      "[6400274, 6949210, 7088246, 61090239, 61135882, 61326006, 61458992, 61811090, 61897601, 62119727]\n",
      "9739\n",
      "9154\n"
     ]
    }
   ],
   "source": [
    "print(starList[0:10])\n",
    "print(one_planet_lcs[0:10])\n",
    "\n",
    "zero_or_one_exoplanets = starList + one_planet_lcs\n",
    "\n",
    "print(len(zero_or_one_exoplanets))\n",
    "print(len(list(set(zero_or_one_exoplanets))))\n",
    "\n",
    "# Since the lengths between the list and the set are different, there must be some LCs that are stars and also 1 exoplanet\n",
    "# Therefore we can reduce the list to the set, because if it is a star and also a single exoplanet, it counts as an exoplanet\n",
    "\n",
    "zero_or_one_exoplanets = list(set(zero_or_one_exoplanets))\n",
    "zero_or_one_exoplanets.sort()"
   ]
  },
  {
   "cell_type": "code",
   "execution_count": 25,
   "id": "front-liverpool",
   "metadata": {},
   "outputs": [
    {
     "data": {
      "text/plain": [
       "[1159914,\n",
       " 1160976,\n",
       " 1247610,\n",
       " 1479793,\n",
       " 1637295,\n",
       " 1640268,\n",
       " 1640949,\n",
       " 1714271,\n",
       " 1776724,\n",
       " 1851563,\n",
       " 2208752,\n",
       " 2372579,\n",
       " 2372796,\n",
       " 2377428,\n",
       " 2669197,\n",
       " 2674349,\n",
       " 6286534,\n",
       " 6289424,\n",
       " 6353299,\n",
       " 6354567,\n",
       " 6355904,\n",
       " 6400274,\n",
       " 6401116,\n",
       " 6406550,\n",
       " 6407080]"
      ]
     },
     "execution_count": 25,
     "metadata": {},
     "output_type": "execute_result"
    }
   ],
   "source": [
    "zero_or_one_exoplanets[:25]"
   ]
  },
  {
   "cell_type": "code",
   "execution_count": null,
   "id": "special-reunion",
   "metadata": {},
   "outputs": [],
   "source": []
  },
  {
   "cell_type": "code",
   "execution_count": 22,
   "id": "electronic-association",
   "metadata": {},
   "outputs": [],
   "source": [
    "# Good, so now we have a list of 0 or 1 exoplanets. Time to make a new \"isplanetlist\"\n",
    "#newIsPlanetList = [None]*len(zero_or_one_exoplanets)\n",
    "\n",
    "newIsPlanetList = MakeNewPlanetListsNew(zero_or_one_exoplanets)"
   ]
  },
  {
   "cell_type": "code",
   "execution_count": 23,
   "id": "developing-fifteen",
   "metadata": {},
   "outputs": [
    {
     "data": {
      "text/plain": [
       "9154"
      ]
     },
     "execution_count": 23,
     "metadata": {},
     "output_type": "execute_result"
    }
   ],
   "source": [
    "len(newIsPlanetList)"
   ]
  },
  {
   "cell_type": "code",
   "execution_count": 24,
   "id": "italian-replication",
   "metadata": {},
   "outputs": [
    {
     "data": {
      "text/plain": [
       "[1, 0, 1, 0, 0, 0, 0, 0, 0, 0]"
      ]
     },
     "execution_count": 24,
     "metadata": {},
     "output_type": "execute_result"
    }
   ],
   "source": [
    "newIsPlanetList[-10:]"
   ]
  },
  {
   "cell_type": "code",
   "execution_count": 25,
   "id": "public-columbus",
   "metadata": {
    "tags": []
   },
   "outputs": [],
   "source": [
    "#np.save(\"one_or_none_isplanetlist\",newIsPlanetList)"
   ]
  },
  {
   "cell_type": "code",
   "execution_count": 26,
   "id": "protecting-captain",
   "metadata": {
    "tags": []
   },
   "outputs": [],
   "source": [
    "#newIsPlanetList = np.load(\"one_or_none_isplanetlist.npy\")"
   ]
  },
  {
   "cell_type": "code",
   "execution_count": 27,
   "id": "spectacular-capitol",
   "metadata": {
    "tags": []
   },
   "outputs": [],
   "source": [
    "none_or_one_fluxlist = [None]*len(zero_or_one_exoplanets)"
   ]
  },
  {
   "cell_type": "code",
   "execution_count": 28,
   "id": "static-burden",
   "metadata": {
    "tags": []
   },
   "outputs": [],
   "source": [
    "# Smaller lists\n",
    "\n",
    "sep = 3000\n",
    "\n",
    "none_or_one_fluxlist_a = [None]*sep\n",
    "none_or_one_fluxlist_b = [None]*sep\n",
    "none_or_one_fluxlist_c = [None]*(len(zero_or_one_exoplanets)-(2*sep))"
   ]
  },
  {
   "cell_type": "code",
   "execution_count": null,
   "id": "mature-carter",
   "metadata": {
    "tags": []
   },
   "outputs": [],
   "source": [
    "part_a = zero_or_one_exoplanets[0:sep]\n",
    "\n",
    "for n,i in enumerate(part_a):\n",
    "    none_or_one_fluxlist_a[n] = NPlanetFluxesSingle(i)\n",
    "    if (n % (len(part_a)//100) == 0):\n",
    "        print(\"{}, \".format((n//(sep//100))+1),end='')"
   ]
  },
  {
   "cell_type": "code",
   "execution_count": null,
   "id": "rental-presentation",
   "metadata": {
    "tags": []
   },
   "outputs": [],
   "source": [
    "np.save(\"Z_or_O_a\",none_or_one_fluxlist_a)\n",
    "gc.collect()"
   ]
  },
  {
   "cell_type": "code",
   "execution_count": 42,
   "id": "fossil-wages",
   "metadata": {},
   "outputs": [
    {
     "name": "stdout",
     "output_type": "stream",
     "text": [
      "1, 2, 3, 4, 5, 6, 7, 8, 9, 10, 11, 12, 13, 14, 15, 16, 17, 18, 19, 20, 21, 22, 23, 24, 25, 26, 27, 28, 29, 30, 31, 32, 33, 34, 35, 36, 37, 38, 39, 40, 41, 42, 43, 44, 45, 46, 47, 48, 49, 50, 51, 52, 53, 54, 55, 56, 57, 58, 59, 60, 61, 62, 63, 64, 65, 66, 67, 68, 69, 70, 71, 72, 73, 74, 75, 76, 77, 78, 79, 80, 81, 82, 83, 84, 85, 86, 87, 88, 89, 90, 91, 92, 93, 94, 95, 96, 97, 98, 99, 100, "
     ]
    }
   ],
   "source": [
    "part_b = zero_or_one_exoplanets[sep:2*sep]\n",
    "\n",
    "for n,i in enumerate(part_b):\n",
    "    none_or_one_fluxlist_b[n] = NPlanetFluxesSingle(i)\n",
    "    if (n % (len(part_b)//100) == 0):\n",
    "        print(\"{}, \".format((n//(sep//100))+1),end='')"
   ]
  },
  {
   "cell_type": "code",
   "execution_count": 43,
   "id": "brown-petersburg",
   "metadata": {},
   "outputs": [
    {
     "data": {
      "text/plain": [
       "17"
      ]
     },
     "execution_count": 43,
     "metadata": {},
     "output_type": "execute_result"
    }
   ],
   "source": [
    "np.save(\"Z_or_O_b\",none_or_one_fluxlist_b)\n",
    "gc.collect()"
   ]
  },
  {
   "cell_type": "code",
   "execution_count": 29,
   "id": "obvious-mystery",
   "metadata": {},
   "outputs": [
    {
     "name": "stdout",
     "output_type": "stream",
     "text": [
      "1, 2, 3, 4, 5, 6, 7, 8, 9, 10, 11, 12, 13, 14, 15, 16, 17, 18, 19, 20, 21, 22, 23, 24, 25, 26, 27, 28, 29, 30, 32, 33, 34, 35, 36, 37, 38, 39, 40, 41, 42, 43, 44, 45, 46, 47, 48, 49, 50, 51, 52, 53, 54, 55, 56, 57, 58, 59, 60, 61, 63, 64, 65, 66, 67, 68, 69, 70, 71, 72, 73, 74, 75, 76, 77, 78, 79, 80, 81, 82, 83, 84, 85, 86, 87, 88, 89, 90, 91, 92, 94, 95, 96, 97, 98, 99, 100, 101, 102, 103, 104, 105, "
     ]
    }
   ],
   "source": [
    "part_c = zero_or_one_exoplanets[2*sep:]\n",
    "\n",
    "for n,i in enumerate(part_c):\n",
    "    none_or_one_fluxlist_c[n] = NPlanetFluxesSingle(i)\n",
    "    if (n % (len(part_c)//100) == 0):\n",
    "        print(\"{}, \".format((n//(sep//100))+1),end='')"
   ]
  },
  {
   "cell_type": "code",
   "execution_count": 30,
   "id": "featured-argument",
   "metadata": {},
   "outputs": [
    {
     "data": {
      "text/plain": [
       "17"
      ]
     },
     "execution_count": 30,
     "metadata": {},
     "output_type": "execute_result"
    }
   ],
   "source": [
    "np.save(\"Z_or_O_c\",none_or_one_fluxlist_c)\n",
    "gc.collect()"
   ]
  },
  {
   "cell_type": "code",
   "execution_count": 31,
   "id": "allied-excuse",
   "metadata": {},
   "outputs": [
    {
     "name": "stdout",
     "output_type": "stream",
     "text": [
      "9154\n"
     ]
    }
   ],
   "source": [
    "A=np.load(\"Z_or_O_a.npy\")\n",
    "B=np.load(\"Z_or_O_b.npy\")\n",
    "C=np.load(\"Z_or_O_c.npy\")\n",
    "\n",
    "none_or_one_fluxlist = list(A)+list(B)+list(C)\n",
    "\n",
    "print(len(none_or_one_fluxlist))\n",
    "\n",
    "np.save(\"None_Or_One_Exoplanet\",none_or_one_fluxlist)"
   ]
  },
  {
   "cell_type": "code",
   "execution_count": 32,
   "id": "maritime-northeast",
   "metadata": {},
   "outputs": [
    {
     "data": {
      "text/plain": [
       "9154"
      ]
     },
     "execution_count": 32,
     "metadata": {},
     "output_type": "execute_result"
    }
   ],
   "source": [
    "len(zero_or_one_exoplanets)"
   ]
  },
  {
   "cell_type": "code",
   "execution_count": null,
   "id": "running-jacket",
   "metadata": {},
   "outputs": [],
   "source": []
  },
  {
   "cell_type": "code",
   "execution_count": null,
   "id": "danish-standard",
   "metadata": {},
   "outputs": [],
   "source": []
  },
  {
   "cell_type": "code",
   "execution_count": null,
   "id": "bottom-content",
   "metadata": {},
   "outputs": [],
   "source": []
  },
  {
   "cell_type": "code",
   "execution_count": null,
   "id": "available-volleyball",
   "metadata": {
    "tags": []
   },
   "outputs": [],
   "source": [
    "#np.save(\"one_planet_fluxlist\",NPlanetFluxes(one_planet_lcs))\n",
    "\n",
    "#np.save(\"two_planet_fluxlist\",NPlanetFluxes(two_planet_lcs))\n",
    "\n",
    "#np.save(\"three_planet_fluxlist\",NPlanetFluxes(three_planet_lcs))\n",
    "\n",
    "#np.save(\"four_planet_fluxlist\",NPlanetFluxes(four_planet_lcs))\n",
    "\n",
    "#np.save(\"five_planet_fluxlist\",NPlanetFluxes(five_planet_lcs))"
   ]
  },
  {
   "cell_type": "markdown",
   "id": "honest-notebook",
   "metadata": {},
   "source": [
    "## THIS IS POINTLESS BECAUSE WE NEED THE FULL FLUX LIST, BUT WE NEED TO MODIFY THE \"ISPLANETARR\" TO PROPERLY ACCOMMODATE MULTIPLANETS"
   ]
  },
  {
   "cell_type": "code",
   "execution_count": null,
   "id": "controversial-journal",
   "metadata": {},
   "outputs": [],
   "source": [
    "#np.save(\"isplanetlist_one\",  MakeNewPlanetLists(one_planet_lcs))\n",
    "#np.save(\"isplanetlist_two\",  MakeNewPlanetLists(two_planet_lcs))\n",
    "#np.save(\"isplanetlist_three\",MakeNewPlanetLists(three_planet_lcs))\n",
    "#np.save(\"isplanetlist_four\", MakeNewPlanetLists(four_planet_lcs))\n",
    "#np.save(\"isplanetlist_five\", MakeNewPlanetLists(five_planet_lcs))"
   ]
  },
  {
   "cell_type": "code",
   "execution_count": null,
   "id": "regular-miracle",
   "metadata": {},
   "outputs": [],
   "source": []
  }
 ],
 "metadata": {
  "kernelspec": {
   "display_name": "Python 3",
   "language": "python",
   "name": "python3"
  },
  "language_info": {
   "codemirror_mode": {
    "name": "ipython",
    "version": 3
   },
   "file_extension": ".py",
   "mimetype": "text/x-python",
   "name": "python",
   "nbconvert_exporter": "python",
   "pygments_lexer": "ipython3",
   "version": "3.8.8"
  }
 },
 "nbformat": 4,
 "nbformat_minor": 5
}
