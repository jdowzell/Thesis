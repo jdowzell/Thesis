{
 "cells": [
  {
   "cell_type": "code",
   "execution_count": 1,
   "metadata": {},
   "outputs": [
    {
     "name": "stdout",
     "output_type": "stream",
     "text": [
      "Python Version used: 3.8.5\n",
      "NumPy Version number is: 1.19.2\n",
      "Pandas Version number is: 1.1.3\n",
      "SciPy Version number is: 1.5.2\n",
      "JobLib Version number is: 0.17.0\n",
      "MatPlotLib Version number is: 3.3.2\n",
      "Seaborn Version number is: 0.11.0\n",
      "SKLearn Version number is: 0.23.2\n"
     ]
    }
   ],
   "source": [
    "# Making sure I know which major/minor/subminor version of Python I'm using\n",
    "from platform import python_version\n",
    "print(\"Python Version used: \"+python_version())\n",
    "\n",
    "# Checking to see if I have all the right libraries set up in Python!\n",
    "import numpy as np\n",
    "print(\"NumPy Version number is: \"+np.__version__)\n",
    "\n",
    "import pandas as pd\n",
    "print(\"Pandas Version number is: \"+pd.__version__)\n",
    "\n",
    "import scipy as sp\n",
    "print(\"SciPy Version number is: \"+sp.__version__)\n",
    "\n",
    "import joblib as jl\n",
    "print(\"JobLib Version number is: \"+jl.__version__)\n",
    "\n",
    "import matplotlib as mpl\n",
    "print(\"MatPlotLib Version number is: \"+mpl.__version__)\n",
    "\n",
    "import seaborn as sb\n",
    "print(\"Seaborn Version number is: \"+sb.__version__)\n",
    "\n",
    "# Does SKLearn work?\n",
    "import sklearn as skl\n",
    "\n",
    "print(\"SKLearn Version number is: \"+skl.__version__)"
   ]
  },
  {
   "cell_type": "markdown",
   "metadata": {},
   "source": [
    "` \n",
    "Python Version used: 3.5.6\n",
    "NumPy Version number is: 1.14.2\n",
    "Pandas Version number is: 0.18.0\n",
    "SciPy Version number is: 1.3.0\n",
    "JobLib Version number is: 0.13.2\n",
    "MatPlotLib Version number is: 3.0.0\n",
    "Seaborn Version number is: 0.9.0\n",
    "SKLearn Version number is: 0.21.2`\n",
    "\n"
   ]
  },
  {
   "cell_type": "code",
   "execution_count": 1,
   "metadata": {
    "tags": []
   },
   "outputs": [
    {
     "name": "stdout",
     "output_type": "stream",
     "text": [
      "Python Version used: 3.8.8\n",
      "NumPy Version number is: 1.20.1\n",
      "Pandas Version number is: 1.2.3\n",
      "SciPy Version number is: 1.5.3\n",
      "JobLib Version number is: 1.0.1\n",
      "MatPlotLib Version number is: 3.3.4\n",
      "Seaborn Version number is: 0.11.1\n",
      "SKLearn Version number is: 0.24.1\n"
     ]
    }
   ],
   "source": [
    "# Making sure I know which major/minor/subminor version of Python I'm using\n",
    "from platform import python_version\n",
    "print(\"Python Version used: \"+python_version())\n",
    "\n",
    "# Checking to see if I have all the right libraries set up in Python!\n",
    "import numpy as np\n",
    "print(\"NumPy Version number is: \"+np.__version__)\n",
    "\n",
    "import pandas as pd\n",
    "print(\"Pandas Version number is: \"+pd.__version__)\n",
    "\n",
    "import scipy as sp\n",
    "print(\"SciPy Version number is: \"+sp.__version__)\n",
    "\n",
    "import joblib as jl\n",
    "print(\"JobLib Version number is: \"+jl.__version__)\n",
    "\n",
    "import matplotlib as mpl\n",
    "print(\"MatPlotLib Version number is: \"+mpl.__version__)\n",
    "\n",
    "import seaborn as sb\n",
    "print(\"Seaborn Version number is: \"+sb.__version__)\n",
    "\n",
    "# Does SKLearn work?\n",
    "import sklearn as skl\n",
    "\n",
    "print(\"SKLearn Version number is: \"+skl.__version__)"
   ]
  },
  {
   "cell_type": "code",
   "execution_count": 1,
   "metadata": {},
   "outputs": [
    {
     "name": "stdout",
     "output_type": "stream",
     "text": [
      "Python Version used: 3.8.8\n",
      "NumPy Version number is: 1.21.2\n",
      "Pandas Version number is: 1.3.4\n",
      "SciPy Version number is: 1.7.1\n",
      "JobLib Version number is: 1.1.0\n",
      "MatPlotLib Version number is: 3.4.3\n",
      "Seaborn Version number is: 0.11.2\n",
      "SKLearn Version number is: 1.0.1\n",
      "SKLearn Version number is: 0.8.1\n"
     ]
    }
   ],
   "source": [
    "# Test 2021-12-16\n",
    "# Making sure I know which major/minor/subminor version of Python I'm using\n",
    "from platform import python_version\n",
    "print(\"Python Version used: \"+python_version())\n",
    "\n",
    "# Checking to see if I have all the right libraries set up in Python!\n",
    "import numpy as np\n",
    "print(\"NumPy Version number is: \"+np.__version__)\n",
    "\n",
    "import pandas as pd\n",
    "print(\"Pandas Version number is: \"+pd.__version__)\n",
    "\n",
    "import scipy as sp\n",
    "print(\"SciPy Version number is: \"+sp.__version__)\n",
    "\n",
    "import joblib as jl\n",
    "print(\"JobLib Version number is: \"+jl.__version__)\n",
    "\n",
    "import matplotlib as mpl\n",
    "print(\"MatPlotLib Version number is: \"+mpl.__version__)\n",
    "\n",
    "import seaborn as sb\n",
    "print(\"Seaborn Version number is: \"+sb.__version__)\n",
    "\n",
    "# Does SKLearn work?\n",
    "import sklearn as skl\n",
    "\n",
    "print(\"SKLearn Version number is: \"+skl.__version__)\n",
    "\n",
    "# Does SKTime work?\n",
    "import sktime as skt\n",
    "\n",
    "print(\"SKLearn Version number is: \"+skt.__version__)"
   ]
  },
  {
   "cell_type": "code",
   "execution_count": null,
   "metadata": {},
   "outputs": [],
   "source": []
  }
 ],
 "metadata": {
  "kernelspec": {
   "display_name": "Python 3 (ipykernel)",
   "language": "python",
   "name": "python3"
  },
  "language_info": {
   "codemirror_mode": {
    "name": "ipython",
    "version": 3
   },
   "file_extension": ".py",
   "mimetype": "text/x-python",
   "name": "python",
   "nbconvert_exporter": "python",
   "pygments_lexer": "ipython3",
   "version": "3.8.8"
  }
 },
 "nbformat": 4,
 "nbformat_minor": 4
}
