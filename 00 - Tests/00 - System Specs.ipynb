{
 "cells": [
  {
   "cell_type": "code",
   "execution_count": 5,
   "metadata": {
    "collapsed": false
   },
   "outputs": [
    {
     "name": "stdout",
     "output_type": "stream",
     "text": [
      "Python Version used: 3.5.6\n",
      "NumPy Version number is: 1.16.3\n",
      "Pandas Version number is: 0.18.0\n",
      "SciPy Version number is: 1.3.0\n",
      "JobLib Version number is: 0.13.2\n",
      "MatPlotLib Version number is: 1.5.1\n",
      "Seaborn Version number is: 0.9.0\n",
      "SKLearn Version number is: 0.21.2\n"
     ]
    }
   ],
   "source": [
    "# Making sure I know which major/minor/subminor version of Python I'm using\n",
    "from platform import python_version\n",
    "print(\"Python Version used: \"+python_version())\n",
    "\n",
    "# Checking to see if I have all the right libraries set up in Python!\n",
    "import numpy as np\n",
    "print(\"NumPy Version number is: \"+np.__version__)\n",
    "\n",
    "import pandas as pd\n",
    "print(\"Pandas Version number is: \"+pd.__version__)\n",
    "\n",
    "import scipy as sp\n",
    "print(\"SciPy Version number is: \"+sp.__version__)\n",
    "\n",
    "import joblib as jl\n",
    "print(\"JobLib Version number is: \"+jl.__version__)\n",
    "\n",
    "import matplotlib as mpl\n",
    "print(\"MatPlotLib Version number is: \"+mpl.__version__)\n",
    "\n",
    "import seaborn as sb\n",
    "print(\"Seaborn Version number is: \"+sb.__version__)\n",
    "\n",
    "# Does SKLearn work?\n",
    "import sklearn as skl\n",
    "\n",
    "print(\"SKLearn Version number is: \"+skl.__version__)"
   ]
  },
  {
   "cell_type": "code",
   "execution_count": null,
   "metadata": {
    "collapsed": true
   },
   "outputs": [],
   "source": []
  },
  {
   "cell_type": "code",
   "execution_count": null,
   "metadata": {
    "collapsed": true
   },
   "outputs": [],
   "source": []
  }
 ],
 "metadata": {
  "kernelspec": {
   "display_name": "Python 3",
   "language": "python",
   "name": "python3"
  },
  "language_info": {
   "codemirror_mode": {
    "name": "ipython",
    "version": 3
   },
   "file_extension": ".py",
   "mimetype": "text/x-python",
   "name": "python",
   "nbconvert_exporter": "python",
   "pygments_lexer": "ipython3",
   "version": "3.5.6"
  }
 },
 "nbformat": 4,
 "nbformat_minor": 0
}
