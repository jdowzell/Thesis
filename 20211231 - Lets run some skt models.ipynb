{
 "cells": [
  {
   "cell_type": "code",
   "execution_count": 1,
   "id": "9924ef37-01a6-422f-aeb2-54df3415577d",
   "metadata": {},
   "outputs": [],
   "source": [
    "#!/usr/bin/env python3\n",
    "\n",
    "################################\n",
    "# Scientific imports\n",
    "################################\n",
    "import matplotlib.pyplot as plt\n",
    "import numpy as np\n",
    "\n",
    "from astroquery.mast import Observations\n",
    "from astroquery.mast import Catalogs\n",
    "\n",
    "from astropy.table import Table\n",
    "from astropy.table import QTable\n",
    "from astropy.io import fits\n",
    "from astropy import units as u\n",
    "from astropy.timeseries import BoxLeastSquares\n",
    "from astropy.timeseries import TimeSeries\n",
    "from astropy.stats import sigma_clipped_stats\n",
    "from astropy.timeseries import aggregate_downsample\n",
    "\n",
    "import sktime as skt\n",
    "\n",
    "from sktime.datatypes._panel._convert import (\n",
    "    from_2d_array_to_nested,\n",
    "    from_nested_to_2d_array,\n",
    "    is_nested_dataframe,\n",
    ")\n",
    "\n",
    "from sklearn.model_selection import train_test_split\n",
    "from sklearn.metrics import accuracy_score\n",
    "from sklearn.metrics import precision_score\n",
    "from sklearn.metrics import recall_score\n",
    "\n",
    "################################\n",
    "# General imports\n",
    "################################\n",
    "import csv, math, io, os, os.path, sys, random, time, json, gc\n",
    "from datetime import datetime\n",
    "import pandas as pd\n",
    "import seaborn as sb\n",
    "from collections import Counter\n",
    "import joblib\n",
    "from joblib import Parallel, delayed, dump, load\n",
    "\n",
    "################################\n",
    "# Suppress Warnings\n",
    "################################\n",
    "import warnings\n",
    "warnings.simplefilter(action='ignore', category=UserWarning)\n",
    "warnings.simplefilter(action=\"ignore\", category=RuntimeWarning)\n",
    "\n",
    "################################\n",
    "# Initialisers\n",
    "################################\n",
    "skt_model_folder = \"./sktime_models/\""
   ]
  },
  {
   "cell_type": "code",
   "execution_count": 2,
   "id": "b509ec1a-ca99-4b45-9a92-562358dc646f",
   "metadata": {},
   "outputs": [],
   "source": [
    "def MakingAList(prnt=False):\n",
    "    jl = []\n",
    "    sktfolder = skt_model_folder\n",
    "    dirs = [x[0] for x in os.walk(sktfolder, topdown=True)]\n",
    "\n",
    "    for sktfolder, dirs, files in os.walk(sktfolder):\n",
    "        for file in files:\n",
    "            fullpath = os.path.join(sktfolder, file)\n",
    "            if (os.path.splitext(fullpath.lower())[1]).endswith('.joblib'):\n",
    "                jl.append(fullpath)\n",
    "    if prnt==True:\n",
    "        print(\"Number of JOBLIB files: {}\".format(len(jl)))\n",
    "    #print(len(fl))\n",
    "    return jl"
   ]
  },
  {
   "cell_type": "code",
   "execution_count": 3,
   "id": "72461fcb-223b-4581-9b56-b69de8a02136",
   "metadata": {},
   "outputs": [],
   "source": [
    "def WriteJSON(targetname, acc, pre, rec):\n",
    "    # Preparing the stats text\n",
    "    data = {}\n",
    "    data[targetname] = []\n",
    "    data[targetname].append({\n",
    "        'Accuracy' : acc,\n",
    "        'Precision' : pre,\n",
    "        'Recall' : rec\n",
    "    })\n",
    "\n",
    "    # File saving stuff\n",
    "    targetdest = skt_model_folder + \"sktime_\"\n",
    "    fname = targetname+\".json\"\n",
    "\n",
    "    print(\"Saving {}\".format(fname))\n",
    "\n",
    "    # Write all the info to a file\n",
    "    with open(targetdest+fname, \"w\") as f:\n",
    "        #f.write(stats)\n",
    "        json.dump(data, f, indent=4, default=str)"
   ]
  },
  {
   "cell_type": "code",
   "execution_count": 4,
   "id": "70170744-ad44-412e-8427-299868f64b39",
   "metadata": {},
   "outputs": [],
   "source": [
    "sktmodels = MakingAList()\n",
    "#sktmodels"
   ]
  },
  {
   "cell_type": "code",
   "execution_count": 5,
   "id": "faf6f5cc-e524-4a00-983d-618536fdf2f6",
   "metadata": {},
   "outputs": [],
   "source": [
    "skt_modelnames = [x.split(skt_model_folder)[1].split('.joblib')[0] for x in sktmodels]\n",
    "#skt_modelnames"
   ]
  },
  {
   "cell_type": "code",
   "execution_count": 47,
   "id": "c0ba4cd1-06f0-469d-89a9-fba9790f1a19",
   "metadata": {},
   "outputs": [
    {
     "name": "stdout",
     "output_type": "stream",
     "text": [
      "Fine\n"
     ]
    }
   ],
   "source": [
    "if len(skt_modelnames) == len(sktmodels):\n",
    "    print(\"Fine\")\n",
    "else:\n",
    "    print(f\"Lists are not of the same length!\")"
   ]
  },
  {
   "cell_type": "code",
   "execution_count": 8,
   "id": "209b4700-09c2-47c7-a0fa-a0bed4cd0ae4",
   "metadata": {},
   "outputs": [
    {
     "data": {
      "text/plain": [
       "[('./sktime_models/MUSE_fitted.joblib', 'MUSE_fitted'),\n",
       " ('./sktime_models/IndividualBOSS_fitted.joblib', 'IndividualBOSS_fitted'),\n",
       " ('./sktime_models/HIVECOTEV1_fitted.joblib', 'HIVECOTEV1_fitted'),\n",
       " ('./sktime_models/TSFreshClassifier_fitted.joblib',\n",
       "  'TSFreshClassifier_fitted'),\n",
       " ('./sktime_models/Arsenal_fitted.joblib', 'Arsenal_fitted'),\n",
       " ('./sktime_models/SignatureClassifier_fitted.joblib',\n",
       "  'SignatureClassifier_fitted'),\n",
       " ('./sktime_models/MatrixProfileClassifier_fitted.joblib',\n",
       "  'MatrixProfileClassifier_fitted'),\n",
       " ('./sktime_models/WEASEL_fitted.joblib', 'WEASEL_fitted'),\n",
       " ('./sktime_models/SupervisedTimeSeriesForest_fitted.joblib',\n",
       "  'SupervisedTimeSeriesForest_fitted'),\n",
       " ('./sktime_models/RandomIntervalSpectralForest_fitted.joblib',\n",
       "  'RandomIntervalSpectralForest_fitted'),\n",
       " ('./sktime_models/ShapeDTW_fitted.joblib', 'ShapeDTW_fitted'),\n",
       " ('./sktime_models/KNeighborsTimeSeriesClassifier_fitted.joblib',\n",
       "  'KNeighborsTimeSeriesClassifier_fitted'),\n",
       " ('./sktime_models/ContractableBOSS_fitted.joblib', 'ContractableBOSS_fitted'),\n",
       " ('./sktime_models/DrCIF_fitted.joblib', 'DrCIF_fitted'),\n",
       " ('./sktime_models/CanonicalIntervalForest_fitted.joblib',\n",
       "  'CanonicalIntervalForest_fitted'),\n",
       " ('./sktime_models/IndividualTDE_fitted.joblib', 'IndividualTDE_fitted')]"
      ]
     },
     "execution_count": 8,
     "metadata": {},
     "output_type": "execute_result"
    }
   ],
   "source": [
    "skt_list = list(zip(sktmodels,skt_modelnames))\n",
    "skt_list"
   ]
  },
  {
   "cell_type": "code",
   "execution_count": 9,
   "id": "09b87fad-d0d7-4cde-90f5-833242d2679b",
   "metadata": {},
   "outputs": [
    {
     "name": "stdout",
     "output_type": "stream",
     "text": [
      "./sktime_models/MUSE_fitted.joblib\t\tMUSE_fitted\n",
      "./sktime_models/IndividualBOSS_fitted.joblib\t\tIndividualBOSS_fitted\n",
      "./sktime_models/HIVECOTEV1_fitted.joblib\t\tHIVECOTEV1_fitted\n",
      "./sktime_models/TSFreshClassifier_fitted.joblib\t\tTSFreshClassifier_fitted\n",
      "./sktime_models/Arsenal_fitted.joblib\t\tArsenal_fitted\n",
      "./sktime_models/SignatureClassifier_fitted.joblib\t\tSignatureClassifier_fitted\n",
      "./sktime_models/MatrixProfileClassifier_fitted.joblib\t\tMatrixProfileClassifier_fitted\n",
      "./sktime_models/WEASEL_fitted.joblib\t\tWEASEL_fitted\n",
      "./sktime_models/SupervisedTimeSeriesForest_fitted.joblib\t\tSupervisedTimeSeriesForest_fitted\n",
      "./sktime_models/RandomIntervalSpectralForest_fitted.joblib\t\tRandomIntervalSpectralForest_fitted\n",
      "./sktime_models/ShapeDTW_fitted.joblib\t\tShapeDTW_fitted\n",
      "./sktime_models/KNeighborsTimeSeriesClassifier_fitted.joblib\t\tKNeighborsTimeSeriesClassifier_fitted\n",
      "./sktime_models/ContractableBOSS_fitted.joblib\t\tContractableBOSS_fitted\n",
      "./sktime_models/DrCIF_fitted.joblib\t\tDrCIF_fitted\n",
      "./sktime_models/CanonicalIntervalForest_fitted.joblib\t\tCanonicalIntervalForest_fitted\n",
      "./sktime_models/IndividualTDE_fitted.joblib\t\tIndividualTDE_fitted\n"
     ]
    }
   ],
   "source": [
    "for c in skt_list:\n",
    "    print(f\"{c[0]}\\t\\t{c[1]}\")"
   ]
  },
  {
   "cell_type": "code",
   "execution_count": 10,
   "id": "c3095a21-c1b1-4349-8e12-19b9a9ddd9b9",
   "metadata": {},
   "outputs": [],
   "source": [
    "X = np.load(\"None_Or_One_Exoplanet_FILT_NORM_SUBS.npy\")\n",
    "y = np.load(\"one_or_none_isplanetlist.npy\")\n",
    "\n",
    "X_nested = from_2d_array_to_nested(X).copy()\n",
    "X_train, X_test, y_train, y_test = train_test_split(X_nested, y)\n",
    "\n",
    "del X, y, X_nested, X_train, y_train"
   ]
  },
  {
   "cell_type": "code",
   "execution_count": 13,
   "id": "d4d3bc12-28f6-410d-8f2d-9ee6bf8a41ed",
   "metadata": {},
   "outputs": [],
   "source": [
    "def GetSKTScores(model, modelname, X_train, y_train):\n",
    "    \n",
    "    classifier = joblib.load(model)\n",
    "    \n",
    "    classifier.fit(X_train, y_train)\n",
    "    y_pred = classifier.predict(X_test)\n",
    "    \n",
    "    acc = accuracy_score(y_test, y_pred)\n",
    "    pre = precision_score(y_test, y_pred)\n",
    "    rec = recall_score(y_test, y_pred)\n",
    "\n",
    "    print(f\"Model: {modelname}\\n\\tAccuracy: {acc}\\n\\tPrecision: {pre}\\n\\tRecall: {rec}\")\n",
    "    \n",
    "    WriteJSON(modelname,acc,pre,rec)\n",
    "    \n",
    "    return (acc,pre,rec)\n",
    "\n",
    "def GetSKTScoresOLD(model, X_train, y_train):\n",
    "    \n",
    "    classifier = joblib.load(model)\n",
    "    \n",
    "    classifier.fit(X_train, y_train)\n",
    "    y_pred = classifier.predict(X_test)\n",
    "    \n",
    "    acc = accuracy_score(y_test, y_pred)\n",
    "    pre = precision_score(y_test, y_pred)\n",
    "    rec = recall_score(y_test, y_pred)\n",
    "\n",
    "    print(f\"Accuracy: {acc}\\nPrecision: {pre}\\nRecall: {rec}\")\n",
    "    \n",
    "    return (acc,pre,rec)"
   ]
  },
  {
   "cell_type": "code",
   "execution_count": 57,
   "id": "78feb9ca-c300-4e4c-8967-b4066fc483d2",
   "metadata": {},
   "outputs": [],
   "source": [
    "#for i in range(1):\n",
    "#    \n",
    "#    model = skt_modelnames[i]\n",
    "#    acc,pre,rec = GetSKTScores(sktmodels[i], X_train, y_train)\n",
    "#    WriteJSON(model,acc,pre,rec)"
   ]
  },
  {
   "cell_type": "markdown",
   "id": "4073ab3d-2b8b-4617-bb06-a66ecd8eddaf",
   "metadata": {},
   "source": [
    "## Saved as \"get_metrics_skt.py\""
   ]
  },
  {
   "cell_type": "code",
   "execution_count": null,
   "id": "beb114d7-2bf7-42cb-9986-f89e5757a32e",
   "metadata": {},
   "outputs": [],
   "source": []
  }
 ],
 "metadata": {
  "kernelspec": {
   "display_name": "Python 3 (ipykernel)",
   "language": "python",
   "name": "python3"
  },
  "language_info": {
   "codemirror_mode": {
    "name": "ipython",
    "version": 3
   },
   "file_extension": ".py",
   "mimetype": "text/x-python",
   "name": "python",
   "nbconvert_exporter": "python",
   "pygments_lexer": "ipython3",
   "version": "3.8.12"
  }
 },
 "nbformat": 4,
 "nbformat_minor": 5
}
