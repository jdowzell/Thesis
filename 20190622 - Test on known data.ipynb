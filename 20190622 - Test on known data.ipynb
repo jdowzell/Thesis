{
 "cells": [
  {
   "cell_type": "code",
   "execution_count": 1,
   "metadata": {
    "collapsed": true
   },
   "outputs": [],
   "source": [
    "import csv\n",
    "import math\n",
    "import os, os.path\n",
    "import io\n",
    "import sys\n",
    "import pandas as pd\n",
    "import seaborn as sb\n",
    "import matplotlib.pyplot as plt\n",
    "import numpy as np\n",
    "from sklearn.linear_model import LinearRegression\n",
    "\n",
    "%matplotlib inline"
   ]
  },
  {
   "cell_type": "code",
   "execution_count": 2,
   "metadata": {
    "collapsed": true
   },
   "outputs": [],
   "source": [
    "# Sample Decision Tree Classifier\n",
    "from sklearn import datasets\n",
    "from sklearn import metrics\n",
    "from sklearn.tree import DecisionTreeClassifier\n",
    "model = DecisionTreeClassifier()"
   ]
  },
  {
   "cell_type": "markdown",
   "metadata": {},
   "source": [
    "### Okay, so, time to work out which method is gonna be the best to use for our data"
   ]
  },
  {
   "cell_type": "code",
   "execution_count": 3,
   "metadata": {
    "collapsed": false
   },
   "outputs": [
    {
     "data": {
      "text/plain": [
       "['kepid',\n",
       " 'kepoi_name',\n",
       " 'koi_period',\n",
       " 'koi_period_err1',\n",
       " 'koi_prad',\n",
       " 'koi_prad_err1',\n",
       " 'koi_teq',\n",
       " 'koi_insol',\n",
       " 'koi_insol_err1',\n",
       " 'koi_steff',\n",
       " 'koi_steff_err1',\n",
       " 'koi_slogg',\n",
       " 'koi_slogg_err1',\n",
       " 'koi_srad',\n",
       " 'koi_srad_err1']"
      ]
     },
     "execution_count": 3,
     "metadata": {},
     "output_type": "execute_result"
    }
   ],
   "source": [
    "dataset = pd.read_csv(\"./Data/exoplanetarchive/candidates-20190613-TIDIED.csv\", header = 24)\n",
    "original_headers = list(dataset.columns.values)\n",
    "original_headers"
   ]
  },
  {
   "cell_type": "code",
   "execution_count": 4,
   "metadata": {
    "collapsed": true
   },
   "outputs": [],
   "source": [
    "# COLUMN kepid:              KepID\n",
    "# COLUMN kepoi_name:         KOI Name\n",
    "# COLUMN koi_period:         Orbital Period [days]\n",
    "# COLUMN koi_period_err1:    Orbital Period Upper Unc. [days]\n",
    "# COLUMN koi_prad:           Planetary Radius [Earth radii]\n",
    "# COLUMN koi_prad_err1:      Planetary Radius Upper Unc. [Earth radii]\n",
    "# COLUMN koi_teq:            Equilibrium Temperature [K]\n",
    "# COLUMN koi_insol:          Insolation Flux [Earth flux]\n",
    "# COLUMN koi_insol_err1:     Insolation Flux Upper Unc. [Earth flux]\n",
    "# COLUMN koi_steff:          Stellar Effective Temperature [K]\n",
    "# COLUMN koi_steff_err1:     Stellar Effective Temperature Upper Unc. [K]\n",
    "# COLUMN koi_slogg:          Stellar Surface Gravity [log10(cm/s**2)]\n",
    "# COLUMN koi_slogg_err1:     Stellar Surface Gravity Upper Unc. [log10(cm/s**2)]\n",
    "# COLUMN koi_srad:           Stellar Radius [Solar radii]\n",
    "# COLUMN koi_srad_err1:      Stellar Radius Upper Unc. [Solar radii]"
   ]
  },
  {
   "cell_type": "code",
   "execution_count": 5,
   "metadata": {
    "collapsed": false
   },
   "outputs": [
    {
     "data": {
      "text/html": [
       "<div>\n",
       "<table border=\"1\" class=\"dataframe\">\n",
       "  <thead>\n",
       "    <tr style=\"text-align: right;\">\n",
       "      <th></th>\n",
       "      <th>kepid</th>\n",
       "      <th>kepoi_name</th>\n",
       "      <th>koi_period</th>\n",
       "      <th>koi_period_err1</th>\n",
       "      <th>koi_prad</th>\n",
       "      <th>koi_prad_err1</th>\n",
       "      <th>koi_teq</th>\n",
       "      <th>koi_insol</th>\n",
       "      <th>koi_insol_err1</th>\n",
       "      <th>koi_steff</th>\n",
       "      <th>koi_steff_err1</th>\n",
       "      <th>koi_slogg</th>\n",
       "      <th>koi_slogg_err1</th>\n",
       "      <th>koi_srad</th>\n",
       "      <th>koi_srad_err1</th>\n",
       "    </tr>\n",
       "  </thead>\n",
       "  <tbody>\n",
       "    <tr>\n",
       "      <th>0</th>\n",
       "      <td>1025986</td>\n",
       "      <td>K07621.01</td>\n",
       "      <td>275.073650</td>\n",
       "      <td>0.039280</td>\n",
       "      <td>1.86</td>\n",
       "      <td>0.33</td>\n",
       "      <td>303.0</td>\n",
       "      <td>2.00</td>\n",
       "      <td>0.92</td>\n",
       "      <td>5604.0</td>\n",
       "      <td>84.0</td>\n",
       "      <td>4.226</td>\n",
       "      <td>0.208</td>\n",
       "      <td>1.187</td>\n",
       "      <td>0.207</td>\n",
       "    </tr>\n",
       "    <tr>\n",
       "      <th>1</th>\n",
       "      <td>1026957</td>\n",
       "      <td>K00958.01</td>\n",
       "      <td>21.761298</td>\n",
       "      <td>0.000017</td>\n",
       "      <td>2.53</td>\n",
       "      <td>0.16</td>\n",
       "      <td>486.0</td>\n",
       "      <td>13.18</td>\n",
       "      <td>3.00</td>\n",
       "      <td>4859.0</td>\n",
       "      <td>97.0</td>\n",
       "      <td>4.612</td>\n",
       "      <td>0.015</td>\n",
       "      <td>0.720</td>\n",
       "      <td>0.047</td>\n",
       "    </tr>\n",
       "    <tr>\n",
       "      <th>2</th>\n",
       "      <td>1161345</td>\n",
       "      <td>K00984.01</td>\n",
       "      <td>4.287467</td>\n",
       "      <td>0.000015</td>\n",
       "      <td>2.29</td>\n",
       "      <td>0.22</td>\n",
       "      <td>942.0</td>\n",
       "      <td>186.31</td>\n",
       "      <td>56.73</td>\n",
       "      <td>5296.0</td>\n",
       "      <td>105.0</td>\n",
       "      <td>4.576</td>\n",
       "      <td>0.015</td>\n",
       "      <td>0.815</td>\n",
       "      <td>0.080</td>\n",
       "    </tr>\n",
       "    <tr>\n",
       "      <th>3</th>\n",
       "      <td>1164301</td>\n",
       "      <td>K04921.01</td>\n",
       "      <td>95.688682</td>\n",
       "      <td>0.003599</td>\n",
       "      <td>28.41</td>\n",
       "      <td>1.13</td>\n",
       "      <td>1046.0</td>\n",
       "      <td>283.07</td>\n",
       "      <td>37.83</td>\n",
       "      <td>5040.0</td>\n",
       "      <td>60.0</td>\n",
       "      <td>2.681</td>\n",
       "      <td>0.029</td>\n",
       "      <td>13.056</td>\n",
       "      <td>0.520</td>\n",
       "    </tr>\n",
       "    <tr>\n",
       "      <th>4</th>\n",
       "      <td>1293379</td>\n",
       "      <td>K06253.01</td>\n",
       "      <td>27.556452</td>\n",
       "      <td>0.002928</td>\n",
       "      <td>1.40</td>\n",
       "      <td>0.54</td>\n",
       "      <td>531.0</td>\n",
       "      <td>18.86</td>\n",
       "      <td>22.40</td>\n",
       "      <td>5509.0</td>\n",
       "      <td>184.0</td>\n",
       "      <td>4.565</td>\n",
       "      <td>0.024</td>\n",
       "      <td>0.836</td>\n",
       "      <td>0.322</td>\n",
       "    </tr>\n",
       "  </tbody>\n",
       "</table>\n",
       "</div>"
      ],
      "text/plain": [
       "     kepid kepoi_name  koi_period  koi_period_err1  koi_prad  koi_prad_err1  \\\n",
       "0  1025986  K07621.01  275.073650         0.039280      1.86           0.33   \n",
       "1  1026957  K00958.01   21.761298         0.000017      2.53           0.16   \n",
       "2  1161345  K00984.01    4.287467         0.000015      2.29           0.22   \n",
       "3  1164301  K04921.01   95.688682         0.003599     28.41           1.13   \n",
       "4  1293379  K06253.01   27.556452         0.002928      1.40           0.54   \n",
       "\n",
       "   koi_teq  koi_insol  koi_insol_err1  koi_steff  koi_steff_err1  koi_slogg  \\\n",
       "0    303.0       2.00            0.92     5604.0            84.0      4.226   \n",
       "1    486.0      13.18            3.00     4859.0            97.0      4.612   \n",
       "2    942.0     186.31           56.73     5296.0           105.0      4.576   \n",
       "3   1046.0     283.07           37.83     5040.0            60.0      2.681   \n",
       "4    531.0      18.86           22.40     5509.0           184.0      4.565   \n",
       "\n",
       "   koi_slogg_err1  koi_srad  koi_srad_err1  \n",
       "0           0.208     1.187          0.207  \n",
       "1           0.015     0.720          0.047  \n",
       "2           0.015     0.815          0.080  \n",
       "3           0.029    13.056          0.520  \n",
       "4           0.024     0.836          0.322  "
      ]
     },
     "execution_count": 5,
     "metadata": {},
     "output_type": "execute_result"
    }
   ],
   "source": [
    "dataset.head()"
   ]
  },
  {
   "cell_type": "code",
   "execution_count": 6,
   "metadata": {
    "collapsed": false
   },
   "outputs": [
    {
     "data": {
      "text/html": [
       "<div>\n",
       "<table border=\"1\" class=\"dataframe\">\n",
       "  <thead>\n",
       "    <tr style=\"text-align: right;\">\n",
       "      <th></th>\n",
       "      <th>kepoi_name</th>\n",
       "      <th>koi_prad</th>\n",
       "      <th>koi_teq</th>\n",
       "      <th>koi_insol</th>\n",
       "      <th>koi_srad</th>\n",
       "    </tr>\n",
       "  </thead>\n",
       "  <tbody>\n",
       "    <tr>\n",
       "      <th>0</th>\n",
       "      <td>K07621.01</td>\n",
       "      <td>1.86</td>\n",
       "      <td>303.0</td>\n",
       "      <td>2.00</td>\n",
       "      <td>1.187</td>\n",
       "    </tr>\n",
       "    <tr>\n",
       "      <th>1</th>\n",
       "      <td>K00958.01</td>\n",
       "      <td>2.53</td>\n",
       "      <td>486.0</td>\n",
       "      <td>13.18</td>\n",
       "      <td>0.720</td>\n",
       "    </tr>\n",
       "    <tr>\n",
       "      <th>2</th>\n",
       "      <td>K00984.01</td>\n",
       "      <td>2.29</td>\n",
       "      <td>942.0</td>\n",
       "      <td>186.31</td>\n",
       "      <td>0.815</td>\n",
       "    </tr>\n",
       "    <tr>\n",
       "      <th>3</th>\n",
       "      <td>K04921.01</td>\n",
       "      <td>28.41</td>\n",
       "      <td>1046.0</td>\n",
       "      <td>283.07</td>\n",
       "      <td>13.056</td>\n",
       "    </tr>\n",
       "    <tr>\n",
       "      <th>4</th>\n",
       "      <td>K06253.01</td>\n",
       "      <td>1.40</td>\n",
       "      <td>531.0</td>\n",
       "      <td>18.86</td>\n",
       "      <td>0.836</td>\n",
       "    </tr>\n",
       "  </tbody>\n",
       "</table>\n",
       "</div>"
      ],
      "text/plain": [
       "  kepoi_name  koi_prad  koi_teq  koi_insol  koi_srad\n",
       "0  K07621.01      1.86    303.0       2.00     1.187\n",
       "1  K00958.01      2.53    486.0      13.18     0.720\n",
       "2  K00984.01      2.29    942.0     186.31     0.815\n",
       "3  K04921.01     28.41   1046.0     283.07    13.056\n",
       "4  K06253.01      1.40    531.0      18.86     0.836"
      ]
     },
     "execution_count": 6,
     "metadata": {},
     "output_type": "execute_result"
    }
   ],
   "source": [
    "goldilocks_dataset = dataset.drop(['kepid',\n",
    "                                   'koi_period',\n",
    "                                   'koi_period_err1',\n",
    "                                   'koi_prad_err1',\n",
    "                                   #'koi_insol',\n",
    "                                   'koi_insol_err1', \n",
    "                                   'koi_steff',\n",
    "                                   'koi_steff_err1',\n",
    "                                   'koi_slogg',\n",
    "                                   'koi_slogg_err1',\n",
    "                                   #'koi_srad',\n",
    "                                   'koi_srad_err1'],\n",
    "                                  axis=1).copy()\n",
    "goldilocks_dataset.head()"
   ]
  },
  {
   "cell_type": "code",
   "execution_count": 7,
   "metadata": {
    "collapsed": false
   },
   "outputs": [
    {
     "data": {
      "text/html": [
       "<div>\n",
       "<table border=\"1\" class=\"dataframe\">\n",
       "  <thead>\n",
       "    <tr style=\"text-align: right;\">\n",
       "      <th></th>\n",
       "      <th>kepoi_name</th>\n",
       "      <th>koi_teq</th>\n",
       "      <th>koi_insol</th>\n",
       "      <th>koi_steff</th>\n",
       "    </tr>\n",
       "  </thead>\n",
       "  <tbody>\n",
       "    <tr>\n",
       "      <th>0</th>\n",
       "      <td>K07621.01</td>\n",
       "      <td>303.0</td>\n",
       "      <td>2.00</td>\n",
       "      <td>5604.0</td>\n",
       "    </tr>\n",
       "    <tr>\n",
       "      <th>1</th>\n",
       "      <td>K00958.01</td>\n",
       "      <td>486.0</td>\n",
       "      <td>13.18</td>\n",
       "      <td>4859.0</td>\n",
       "    </tr>\n",
       "    <tr>\n",
       "      <th>2</th>\n",
       "      <td>K00984.01</td>\n",
       "      <td>942.0</td>\n",
       "      <td>186.31</td>\n",
       "      <td>5296.0</td>\n",
       "    </tr>\n",
       "    <tr>\n",
       "      <th>3</th>\n",
       "      <td>K04921.01</td>\n",
       "      <td>1046.0</td>\n",
       "      <td>283.07</td>\n",
       "      <td>5040.0</td>\n",
       "    </tr>\n",
       "    <tr>\n",
       "      <th>4</th>\n",
       "      <td>K06253.01</td>\n",
       "      <td>531.0</td>\n",
       "      <td>18.86</td>\n",
       "      <td>5509.0</td>\n",
       "    </tr>\n",
       "  </tbody>\n",
       "</table>\n",
       "</div>"
      ],
      "text/plain": [
       "  kepoi_name  koi_teq  koi_insol  koi_steff\n",
       "0  K07621.01    303.0       2.00     5604.0\n",
       "1  K00958.01    486.0      13.18     4859.0\n",
       "2  K00984.01    942.0     186.31     5296.0\n",
       "3  K04921.01   1046.0     283.07     5040.0\n",
       "4  K06253.01    531.0      18.86     5509.0"
      ]
     },
     "execution_count": 7,
     "metadata": {},
     "output_type": "execute_result"
    }
   ],
   "source": [
    "easy_ds = dataset.drop(['kepid',\n",
    "                        #'kepoi_name',\n",
    "                        'koi_period',\n",
    "                        'koi_period_err1',\n",
    "                        'koi_prad',\n",
    "                        'koi_prad_err1',\n",
    "                        #'koi_teq',\n",
    "                        #'koi_insol',\n",
    "                        'koi_insol_err1',\n",
    "                        #'koi_steff',\n",
    "                        'koi_steff_err1',\n",
    "                        'koi_slogg',\n",
    "                        'koi_slogg_err1',\n",
    "                        'koi_srad',\n",
    "                        'koi_srad_err1'\n",
    "                        ], axis=1).dropna().copy()\n",
    "\n",
    "easyX = easy_ds.drop(\"kepoi_name\", axis=1)\n",
    "#easyX.columns=['Equilibrium Temp (K)','Insolation Flux (f_E)','Stellar Temp (K)']\n",
    "easyY = easy_ds[\"kepoi_name\"]\n",
    "\n",
    "easy_ds.head()"
   ]
  },
  {
   "cell_type": "code",
   "execution_count": 8,
   "metadata": {
    "collapsed": true
   },
   "outputs": [],
   "source": [
    "def goldilocks_temp(t):\n",
    "    if t < 273:\n",
    "        return \"Too cold\";\n",
    "    elif t > 373:\n",
    "        return \"Too hot\";\n",
    "    else:\n",
    "        return \"Just right\""
   ]
  },
  {
   "cell_type": "code",
   "execution_count": 9,
   "metadata": {
    "collapsed": true
   },
   "outputs": [],
   "source": [
    "easy_ds.insert(3,\"gold_temp\",[(goldilocks_temp(t)) for t in easy_ds[\"koi_teq\"]],True)"
   ]
  },
  {
   "cell_type": "code",
   "execution_count": 10,
   "metadata": {
    "collapsed": false
   },
   "outputs": [
    {
     "data": {
      "text/html": [
       "<div>\n",
       "<table border=\"1\" class=\"dataframe\">\n",
       "  <thead>\n",
       "    <tr style=\"text-align: right;\">\n",
       "      <th></th>\n",
       "      <th>kepoi_name</th>\n",
       "      <th>koi_teq</th>\n",
       "      <th>koi_insol</th>\n",
       "      <th>gold_temp</th>\n",
       "      <th>koi_steff</th>\n",
       "    </tr>\n",
       "  </thead>\n",
       "  <tbody>\n",
       "    <tr>\n",
       "      <th>2313</th>\n",
       "      <td>K04303.01</td>\n",
       "      <td>327.0</td>\n",
       "      <td>2.72</td>\n",
       "      <td>Just right</td>\n",
       "      <td>5566.0</td>\n",
       "    </tr>\n",
       "    <tr>\n",
       "      <th>2314</th>\n",
       "      <td>K05979.01</td>\n",
       "      <td>592.0</td>\n",
       "      <td>29.06</td>\n",
       "      <td>Too hot</td>\n",
       "      <td>6178.0</td>\n",
       "    </tr>\n",
       "    <tr>\n",
       "      <th>2315</th>\n",
       "      <td>K04245.01</td>\n",
       "      <td>788.0</td>\n",
       "      <td>91.32</td>\n",
       "      <td>Too hot</td>\n",
       "      <td>6059.0</td>\n",
       "    </tr>\n",
       "    <tr>\n",
       "      <th>2316</th>\n",
       "      <td>K00298.02</td>\n",
       "      <td>397.0</td>\n",
       "      <td>5.85</td>\n",
       "      <td>Too hot</td>\n",
       "      <td>5250.0</td>\n",
       "    </tr>\n",
       "    <tr>\n",
       "      <th>2317</th>\n",
       "      <td>K02184.02</td>\n",
       "      <td>288.0</td>\n",
       "      <td>1.63</td>\n",
       "      <td>Just right</td>\n",
       "      <td>4620.0</td>\n",
       "    </tr>\n",
       "  </tbody>\n",
       "</table>\n",
       "</div>"
      ],
      "text/plain": [
       "     kepoi_name  koi_teq  koi_insol   gold_temp  koi_steff\n",
       "2313  K04303.01    327.0       2.72  Just right     5566.0\n",
       "2314  K05979.01    592.0      29.06     Too hot     6178.0\n",
       "2315  K04245.01    788.0      91.32     Too hot     6059.0\n",
       "2316  K00298.02    397.0       5.85     Too hot     5250.0\n",
       "2317  K02184.02    288.0       1.63  Just right     4620.0"
      ]
     },
     "execution_count": 10,
     "metadata": {},
     "output_type": "execute_result"
    }
   ],
   "source": [
    "easy_ds.tail()"
   ]
  },
  {
   "cell_type": "code",
   "execution_count": 11,
   "metadata": {
    "collapsed": false
   },
   "outputs": [
    {
     "data": {
      "text/html": [
       "<div>\n",
       "<table border=\"1\" class=\"dataframe\">\n",
       "  <thead>\n",
       "    <tr style=\"text-align: right;\">\n",
       "      <th></th>\n",
       "      <th>koi_teq</th>\n",
       "      <th>koi_insol</th>\n",
       "      <th>koi_steff</th>\n",
       "    </tr>\n",
       "  </thead>\n",
       "  <tbody>\n",
       "    <tr>\n",
       "      <th>0</th>\n",
       "      <td>303.0</td>\n",
       "      <td>2.00</td>\n",
       "      <td>5604.0</td>\n",
       "    </tr>\n",
       "    <tr>\n",
       "      <th>1</th>\n",
       "      <td>486.0</td>\n",
       "      <td>13.18</td>\n",
       "      <td>4859.0</td>\n",
       "    </tr>\n",
       "    <tr>\n",
       "      <th>2</th>\n",
       "      <td>942.0</td>\n",
       "      <td>186.31</td>\n",
       "      <td>5296.0</td>\n",
       "    </tr>\n",
       "    <tr>\n",
       "      <th>3</th>\n",
       "      <td>1046.0</td>\n",
       "      <td>283.07</td>\n",
       "      <td>5040.0</td>\n",
       "    </tr>\n",
       "    <tr>\n",
       "      <th>4</th>\n",
       "      <td>531.0</td>\n",
       "      <td>18.86</td>\n",
       "      <td>5509.0</td>\n",
       "    </tr>\n",
       "  </tbody>\n",
       "</table>\n",
       "</div>"
      ],
      "text/plain": [
       "   koi_teq  koi_insol  koi_steff\n",
       "0    303.0       2.00     5604.0\n",
       "1    486.0      13.18     4859.0\n",
       "2    942.0     186.31     5296.0\n",
       "3   1046.0     283.07     5040.0\n",
       "4    531.0      18.86     5509.0"
      ]
     },
     "execution_count": 11,
     "metadata": {},
     "output_type": "execute_result"
    }
   ],
   "source": [
    "easyX.head()"
   ]
  },
  {
   "cell_type": "code",
   "execution_count": 12,
   "metadata": {
    "collapsed": true
   },
   "outputs": [],
   "source": [
    "new_data = goldilocks_dataset.dropna().copy()\n",
    "X_gold = new_data.dropna().drop(\"kepoi_name\", axis=1)\n",
    "Y_gold = new_data['kepoi_name']"
   ]
  },
  {
   "cell_type": "code",
   "execution_count": 13,
   "metadata": {
    "collapsed": false
   },
   "outputs": [
    {
     "data": {
      "text/html": [
       "<div>\n",
       "<table border=\"1\" class=\"dataframe\">\n",
       "  <thead>\n",
       "    <tr style=\"text-align: right;\">\n",
       "      <th></th>\n",
       "      <th>koi_prad</th>\n",
       "      <th>koi_teq</th>\n",
       "      <th>koi_insol</th>\n",
       "      <th>koi_srad</th>\n",
       "    </tr>\n",
       "  </thead>\n",
       "  <tbody>\n",
       "    <tr>\n",
       "      <th>2313</th>\n",
       "      <td>3.32</td>\n",
       "      <td>327.0</td>\n",
       "      <td>2.72</td>\n",
       "      <td>1.170</td>\n",
       "    </tr>\n",
       "    <tr>\n",
       "      <th>2314</th>\n",
       "      <td>0.89</td>\n",
       "      <td>592.0</td>\n",
       "      <td>29.06</td>\n",
       "      <td>1.076</td>\n",
       "    </tr>\n",
       "    <tr>\n",
       "      <th>2315</th>\n",
       "      <td>1.76</td>\n",
       "      <td>788.0</td>\n",
       "      <td>91.32</td>\n",
       "      <td>1.554</td>\n",
       "    </tr>\n",
       "    <tr>\n",
       "      <th>2316</th>\n",
       "      <td>1.62</td>\n",
       "      <td>397.0</td>\n",
       "      <td>5.85</td>\n",
       "      <td>0.790</td>\n",
       "    </tr>\n",
       "    <tr>\n",
       "      <th>2317</th>\n",
       "      <td>2.17</td>\n",
       "      <td>288.0</td>\n",
       "      <td>1.63</td>\n",
       "      <td>0.736</td>\n",
       "    </tr>\n",
       "  </tbody>\n",
       "</table>\n",
       "</div>"
      ],
      "text/plain": [
       "      koi_prad  koi_teq  koi_insol  koi_srad\n",
       "2313      3.32    327.0       2.72     1.170\n",
       "2314      0.89    592.0      29.06     1.076\n",
       "2315      1.76    788.0      91.32     1.554\n",
       "2316      1.62    397.0       5.85     0.790\n",
       "2317      2.17    288.0       1.63     0.736"
      ]
     },
     "execution_count": 13,
     "metadata": {},
     "output_type": "execute_result"
    }
   ],
   "source": [
    "X_gold.tail()"
   ]
  },
  {
   "cell_type": "code",
   "execution_count": 14,
   "metadata": {
    "collapsed": false
   },
   "outputs": [
    {
     "data": {
      "text/plain": [
       "(2315,)"
      ]
     },
     "execution_count": 14,
     "metadata": {},
     "output_type": "execute_result"
    }
   ],
   "source": [
    "Y_gold.shape"
   ]
  },
  {
   "cell_type": "code",
   "execution_count": 15,
   "metadata": {
    "collapsed": false
   },
   "outputs": [
    {
     "data": {
      "text/html": [
       "<div>\n",
       "<table border=\"1\" class=\"dataframe\">\n",
       "  <thead>\n",
       "    <tr style=\"text-align: right;\">\n",
       "      <th></th>\n",
       "      <th>Radius (r_E)</th>\n",
       "      <th>Equilibrium Temp (K)</th>\n",
       "      <th>Insolation Flux (f_E)</th>\n",
       "      <th>Solar Radius (r_Sol)</th>\n",
       "    </tr>\n",
       "  </thead>\n",
       "  <tbody>\n",
       "    <tr>\n",
       "      <th>0</th>\n",
       "      <td>1.86</td>\n",
       "      <td>303.0</td>\n",
       "      <td>2.00</td>\n",
       "      <td>1.187</td>\n",
       "    </tr>\n",
       "    <tr>\n",
       "      <th>1</th>\n",
       "      <td>2.53</td>\n",
       "      <td>486.0</td>\n",
       "      <td>13.18</td>\n",
       "      <td>0.720</td>\n",
       "    </tr>\n",
       "    <tr>\n",
       "      <th>2</th>\n",
       "      <td>2.29</td>\n",
       "      <td>942.0</td>\n",
       "      <td>186.31</td>\n",
       "      <td>0.815</td>\n",
       "    </tr>\n",
       "    <tr>\n",
       "      <th>3</th>\n",
       "      <td>28.41</td>\n",
       "      <td>1046.0</td>\n",
       "      <td>283.07</td>\n",
       "      <td>13.056</td>\n",
       "    </tr>\n",
       "    <tr>\n",
       "      <th>4</th>\n",
       "      <td>1.40</td>\n",
       "      <td>531.0</td>\n",
       "      <td>18.86</td>\n",
       "      <td>0.836</td>\n",
       "    </tr>\n",
       "  </tbody>\n",
       "</table>\n",
       "</div>"
      ],
      "text/plain": [
       "   Radius (r_E)  Equilibrium Temp (K)  Insolation Flux (f_E)  \\\n",
       "0          1.86                 303.0                   2.00   \n",
       "1          2.53                 486.0                  13.18   \n",
       "2          2.29                 942.0                 186.31   \n",
       "3         28.41                1046.0                 283.07   \n",
       "4          1.40                 531.0                  18.86   \n",
       "\n",
       "   Solar Radius (r_Sol)  \n",
       "0                 1.187  \n",
       "1                 0.720  \n",
       "2                 0.815  \n",
       "3                13.056  \n",
       "4                 0.836  "
      ]
     },
     "execution_count": 15,
     "metadata": {},
     "output_type": "execute_result"
    }
   ],
   "source": [
    "X_gold.columns=['Radius (r_E)','Equilibrium Temp (K)','Insolation Flux (f_E)','Solar Radius (r_Sol)']\n",
    "X_gold.head()"
   ]
  },
  {
   "cell_type": "code",
   "execution_count": 16,
   "metadata": {
    "collapsed": false
   },
   "outputs": [
    {
     "data": {
      "text/plain": [
       "0    K07621.01\n",
       "1    K00958.01\n",
       "2    K00984.01\n",
       "3    K04921.01\n",
       "4    K06253.01\n",
       "Name: kepoi_name, dtype: object"
      ]
     },
     "execution_count": 16,
     "metadata": {},
     "output_type": "execute_result"
    }
   ],
   "source": [
    "Y_gold.head()"
   ]
  },
  {
   "cell_type": "code",
   "execution_count": 17,
   "metadata": {
    "collapsed": false
   },
   "outputs": [
    {
     "data": {
      "text/html": [
       "<div>\n",
       "<table border=\"1\" class=\"dataframe\">\n",
       "  <thead>\n",
       "    <tr style=\"text-align: right;\">\n",
       "      <th></th>\n",
       "      <th>koi_teq</th>\n",
       "      <th>koi_insol</th>\n",
       "      <th>koi_steff</th>\n",
       "      <th>gold_temp</th>\n",
       "    </tr>\n",
       "  </thead>\n",
       "  <tbody>\n",
       "    <tr>\n",
       "      <th>0</th>\n",
       "      <td>303.0</td>\n",
       "      <td>2.00</td>\n",
       "      <td>5604.0</td>\n",
       "      <td>Just right</td>\n",
       "    </tr>\n",
       "    <tr>\n",
       "      <th>1</th>\n",
       "      <td>486.0</td>\n",
       "      <td>13.18</td>\n",
       "      <td>4859.0</td>\n",
       "      <td>Too hot</td>\n",
       "    </tr>\n",
       "    <tr>\n",
       "      <th>2</th>\n",
       "      <td>942.0</td>\n",
       "      <td>186.31</td>\n",
       "      <td>5296.0</td>\n",
       "      <td>Too hot</td>\n",
       "    </tr>\n",
       "    <tr>\n",
       "      <th>3</th>\n",
       "      <td>1046.0</td>\n",
       "      <td>283.07</td>\n",
       "      <td>5040.0</td>\n",
       "      <td>Too hot</td>\n",
       "    </tr>\n",
       "    <tr>\n",
       "      <th>4</th>\n",
       "      <td>531.0</td>\n",
       "      <td>18.86</td>\n",
       "      <td>5509.0</td>\n",
       "      <td>Too hot</td>\n",
       "    </tr>\n",
       "  </tbody>\n",
       "</table>\n",
       "</div>"
      ],
      "text/plain": [
       "   koi_teq  koi_insol  koi_steff   gold_temp\n",
       "0    303.0       2.00     5604.0  Just right\n",
       "1    486.0      13.18     4859.0     Too hot\n",
       "2    942.0     186.31     5296.0     Too hot\n",
       "3   1046.0     283.07     5040.0     Too hot\n",
       "4    531.0      18.86     5509.0     Too hot"
      ]
     },
     "execution_count": 17,
     "metadata": {},
     "output_type": "execute_result"
    }
   ],
   "source": [
    "easyX.insert(3,\"gold_temp\",[(goldilocks_temp(t)) for t in easyX[\"koi_teq\"]],True)\n",
    "easyY = easyX[\"gold_temp\"].copy()\n",
    "easyX.head()"
   ]
  },
  {
   "cell_type": "code",
   "execution_count": 18,
   "metadata": {
    "collapsed": false
   },
   "outputs": [
    {
     "data": {
      "text/html": [
       "<div>\n",
       "<table border=\"1\" class=\"dataframe\">\n",
       "  <thead>\n",
       "    <tr style=\"text-align: right;\">\n",
       "      <th></th>\n",
       "      <th>koi_teq</th>\n",
       "      <th>koi_insol</th>\n",
       "      <th>koi_steff</th>\n",
       "    </tr>\n",
       "  </thead>\n",
       "  <tbody>\n",
       "    <tr>\n",
       "      <th>0</th>\n",
       "      <td>303.0</td>\n",
       "      <td>2.00</td>\n",
       "      <td>5604.0</td>\n",
       "    </tr>\n",
       "    <tr>\n",
       "      <th>1</th>\n",
       "      <td>486.0</td>\n",
       "      <td>13.18</td>\n",
       "      <td>4859.0</td>\n",
       "    </tr>\n",
       "    <tr>\n",
       "      <th>2</th>\n",
       "      <td>942.0</td>\n",
       "      <td>186.31</td>\n",
       "      <td>5296.0</td>\n",
       "    </tr>\n",
       "    <tr>\n",
       "      <th>3</th>\n",
       "      <td>1046.0</td>\n",
       "      <td>283.07</td>\n",
       "      <td>5040.0</td>\n",
       "    </tr>\n",
       "    <tr>\n",
       "      <th>4</th>\n",
       "      <td>531.0</td>\n",
       "      <td>18.86</td>\n",
       "      <td>5509.0</td>\n",
       "    </tr>\n",
       "  </tbody>\n",
       "</table>\n",
       "</div>"
      ],
      "text/plain": [
       "   koi_teq  koi_insol  koi_steff\n",
       "0    303.0       2.00     5604.0\n",
       "1    486.0      13.18     4859.0\n",
       "2    942.0     186.31     5296.0\n",
       "3   1046.0     283.07     5040.0\n",
       "4    531.0      18.86     5509.0"
      ]
     },
     "execution_count": 18,
     "metadata": {},
     "output_type": "execute_result"
    }
   ],
   "source": [
    "easyX = easyX.drop(\"gold_temp\", axis=1).copy()\n",
    "easyX.head()"
   ]
  },
  {
   "cell_type": "code",
   "execution_count": 19,
   "metadata": {
    "collapsed": false
   },
   "outputs": [],
   "source": [
    "from sklearn.decomposition import PCA  # 1. Choose the model class\n",
    "model = PCA(n_components=2)            # 2. Instantiate the model with hyperparameters\n",
    "model.fit(easyX)                       # 3. Fit to data. Notice y is not specified!\n",
    "X_2D = model.transform(easyX)          # 4. Transform the data to two dimensions"
   ]
  },
  {
   "cell_type": "code",
   "execution_count": 20,
   "metadata": {
    "collapsed": true
   },
   "outputs": [],
   "source": [
    "from sklearn.model_selection import train_test_split\n",
    "Xtrain, Xtest, ytrain, ytest = train_test_split(easyX, easyY, random_state=1)"
   ]
  },
  {
   "cell_type": "code",
   "execution_count": 21,
   "metadata": {
    "collapsed": true
   },
   "outputs": [],
   "source": [
    "from sklearn.naive_bayes import GaussianNB # 1. choose model class\n",
    "model = GaussianNB()                       # 2. instantiate model\n",
    "model.fit(Xtrain, ytrain)                  # 3. fit model to data\n",
    "y_model = model.predict(Xtest)             # 4. predict on new data"
   ]
  },
  {
   "cell_type": "code",
   "execution_count": 22,
   "metadata": {
    "collapsed": false
   },
   "outputs": [
    {
     "data": {
      "text/plain": [
       "0.9827288428324698"
      ]
     },
     "execution_count": 22,
     "metadata": {},
     "output_type": "execute_result"
    }
   ],
   "source": [
    "from sklearn.metrics import accuracy_score\n",
    "accuracy_score(ytest, y_model)\n",
    "\n",
    "# THIS GIVES ME THE ACCURACY SCORE OF THE ALGORITHM"
   ]
  },
  {
   "cell_type": "markdown",
   "metadata": {},
   "source": [
    "###### 98.3% Accuracy is pretty damn good!"
   ]
  },
  {
   "cell_type": "code",
   "execution_count": 24,
   "metadata": {
    "collapsed": false
   },
   "outputs": [
    {
     "data": {
      "image/png": "[encoded data removed]",
      "text/plain": [
       "<matplotlib.figure.Figure at 0x7f8e79b20518>"
      ]
     },
     "metadata": {},
     "output_type": "display_data"
    }
   ],
   "source": [
    "easy_ds['PCA1'] = X_2D[:, 0]\n",
    "easy_ds['PCA2'] = X_2D[:, 1]\n",
    "sb.set()\n",
    "sb.lmplot(\"PCA1\", \"PCA2\", hue='gold_temp', data=easy_ds, fit_reg=False,height=10);"
   ]
  },
  {
   "cell_type": "markdown",
   "metadata": {},
   "source": [
    "###### Let's make a Dataset where I only take every 50 lines to narrow it down"
   ]
  },
  {
   "cell_type": "code",
   "execution_count": 25,
   "metadata": {
    "collapsed": false
   },
   "outputs": [],
   "source": [
    "easy2 = easy_ds[::50].drop(['PCA1','PCA2'],axis=1)\n",
    "easy2X = easyX[::50]\n",
    "easy2Y = easyY[::50]"
   ]
  },
  {
   "cell_type": "code",
   "execution_count": 27,
   "metadata": {
    "collapsed": false
   },
   "outputs": [
    {
     "data": {
      "text/plain": [
       "0.9166666666666666"
      ]
     },
     "execution_count": 27,
     "metadata": {},
     "output_type": "execute_result"
    }
   ],
   "source": [
    "model = PCA(n_components=2)            # 2. Instantiate the model with hyperparameters\n",
    "model.fit(easy2X)                       # 3. Fit to data. Notice y is not specified!\n",
    "X2_2D = model.transform(easy2X)          # 4. Transform the data to two dimensions\n",
    "X2train, X2test, y2train, y2test = train_test_split(easy2X, easy2Y, random_state=1)\n",
    "model = GaussianNB()                       # 2. instantiate model\n",
    "model.fit(X2train, y2train)                  # 3. fit model to data\n",
    "y2_model = model.predict(X2test)             # 4. predict on new data\n",
    "accuracy_score(y2test, y2_model)\n",
    "\n",
    "# THIS GIVES ME THE ACCURACY SCORE OF THE ALGORITHM"
   ]
  },
  {
   "cell_type": "code",
   "execution_count": 28,
   "metadata": {
    "collapsed": false
   },
   "outputs": [
    {
     "data": {
      "image/png": "[encoded data removed]",
      "text/plain": [
       "<matplotlib.figure.Figure at 0x7f8e79c76e80>"
      ]
     },
     "metadata": {},
     "output_type": "display_data"
    }
   ],
   "source": [
    "easy2['PCA1'] = X2_2D[:, 0]\n",
    "easy2['PCA2'] = X2_2D[:, 1]\n",
    "G1 = sb.lmplot(\"PCA1\", \"PCA2\", hue='gold_temp', data=easy2, fit_reg=False, height=10);\n",
    "#G1.set(ylim=(-2000, 1000), xlim=(-4000,-3000))"
   ]
  },
  {
   "cell_type": "markdown",
   "metadata": {},
   "source": [
    "###### The outliers at the right and top really skews the graph... Let's try to reshape our graph to view the rest better!"
   ]
  },
  {
   "cell_type": "code",
   "execution_count": 29,
   "metadata": {
    "collapsed": false
   },
   "outputs": [
    {
     "data": {
      "text/plain": [
       "<seaborn.axisgrid.FacetGrid at 0x7f8e79c842e8>"
      ]
     },
     "execution_count": 29,
     "metadata": {},
     "output_type": "execute_result"
    },
    {
     "data": {
      "image/png": "[encoded data removed]",
      "text/plain": [
       "<matplotlib.figure.Figure at 0x7f8e79bfe4a8>"
      ]
     },
     "metadata": {},
     "output_type": "display_data"
    }
   ],
   "source": [
    "newG = sb.lmplot(\"PCA1\", \"PCA2\", hue='gold_temp', data=easy2, fit_reg=False, height=10);\n",
    "newG.set(ylim=(-2000, 1000), xlim=(-3900,-3200))"
   ]
  },
  {
   "cell_type": "markdown",
   "metadata": {
    "collapsed": true
   },
   "source": [
    "##### Seems to me like there's an essentially vertical line where the \"Goldilocks zone\" exists, and to the LEFT is too COLD and to the RIGHT is too HOT"
   ]
  },
  {
   "cell_type": "code",
   "execution_count": null,
   "metadata": {
    "collapsed": true
   },
   "outputs": [],
   "source": []
  },
  {
   "cell_type": "code",
   "execution_count": null,
   "metadata": {
    "collapsed": true
   },
   "outputs": [],
   "source": []
  }
 ],
 "metadata": {
  "kernelspec": {
   "display_name": "Python 3",
   "language": "python",
   "name": "python3"
  },
  "language_info": {
   "codemirror_mode": {
    "name": "ipython",
    "version": 3
   },
   "file_extension": ".py",
   "mimetype": "text/x-python",
   "name": "python",
   "nbconvert_exporter": "python",
   "pygments_lexer": "ipython3",
   "version": "3.5.6"
  }
 },
 "nbformat": 4,
 "nbformat_minor": 0
}
