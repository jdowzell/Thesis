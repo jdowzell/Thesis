{
 "cells": [
  {
   "cell_type": "markdown",
   "metadata": {},
   "source": [
    "## Notes:"
   ]
  },
  {
   "cell_type": "markdown",
   "metadata": {},
   "source": [
    "So, it seems like the \"Equilibrium Temperature\" given in the KOI datasets might well give us an approx answer to whether an exoplanet is habitable or not, but there are other things I have discovered:"
   ]
  },
  {
   "cell_type": "markdown",
   "metadata": {},
   "source": [
    "1) The \"Equilibrium Temperature\" given is described as:\n",
    "> Approximation for the temperature of the planet. The calculation of equilibrium temperature assumes \n",
    "  - a) thermodynamic equilibrium between the incident stellar flux and the radiated heat from the planet;\n",
    "  - b) a Bond albedo (the fraction of total power incident upon the planet scattered back into space) of 0.3;\n",
    "  - c) the planet and star are blackbodies; \n",
    "  > and \n",
    "  - d) the heat is evenly distributed between the day and night sides of the planet. \n",
    "  \n",
    "Which is *good*, but also leaves out some pretty major factors that might well play an incredibly important role.\n",
    "\n",
    "For instance, (d) could *wildly* change depending on how the planet exists - is it tidally locked? If so then the sun-side could be far too hot, whereas the dark-side could be far too cold; average these out, however, and it would seem to suggest a \"just right\" zone.\n",
    "\n",
    "I also don't know if bond albedos are given in the KOI datasets; though this can easily be checked out (EDIT_20190627: doesn't seem so!)"
   ]
  },
  {
   "cell_type": "markdown",
   "metadata": {},
   "source": [
    "2) [This wiki article](https://en.wikipedia.org/wiki/Circumstellar_habitable_zone) suggests that it also depends on the distance from the star, the ratio of flux emitted to absorbed, and how much of the planet's orbit is contained within the habitable zone (eg, exoplanets with highly eccentric orbits may pass in and out of the habitable zone). See [this image](https://upload.wikimedia.org/wikipedia/commons/f/f0/Diagram_of_different_habitable_zone_regions_by_Chester_Harman.jpg) for a simplified but succinct explanation"
   ]
  },
  {
   "cell_type": "markdown",
   "metadata": {},
   "source": [
    "3) [This wiki article](https://en.wikipedia.org/wiki/Planetary_habitability) lists some further details about habitable exoplanets, which is great reading material but also probably goes further into the finer details than I need to tread."
   ]
  },
  {
   "cell_type": "markdown",
   "metadata": {},
   "source": []
  }
 ],
 "metadata": {
  "kernelspec": {
   "display_name": "Python 3",
   "language": "python",
   "name": "python3"
  },
  "language_info": {
   "codemirror_mode": {
    "name": "ipython",
    "version": 3
   },
   "file_extension": ".py",
   "mimetype": "text/x-python",
   "name": "python",
   "nbconvert_exporter": "python",
   "pygments_lexer": "ipython3",
   "version": "3.5.6"
  }
 },
 "nbformat": 4,
 "nbformat_minor": 0
}
