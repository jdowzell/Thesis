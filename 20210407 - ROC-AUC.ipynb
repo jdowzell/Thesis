{
 "cells": [
  {
   "cell_type": "code",
   "execution_count": 1,
   "id": "dedicated-singles",
   "metadata": {},
   "outputs": [],
   "source": [
    "################################\n",
    "# Scientific imports\n",
    "###\n",
    "%matplotlib inline\n",
    "import matplotlib.pyplot as plt\n",
    "import numpy as np\n",
    "\n",
    "###\n",
    "# General imports\n",
    "###\n",
    "import csv, math, io, os, os.path, sys, random, time\n",
    "import pandas as pd\n",
    "import seaborn as sb\n",
    "from tqdm.notebook import tqdm, trange\n",
    "\n",
    "###\n",
    "# SciKitLearn Imports\n",
    "###\n",
    "import sklearn\n",
    "from sklearn import metrics\n",
    "from sklearn.svm import SVC\n",
    "from sklearn.decomposition import PCA\n",
    "from sklearn.pipeline import make_pipeline\n",
    "\n",
    "from IPython.display import display\n",
    "\n",
    "###\n",
    "# MatPlotLib Settings\n",
    "###\n",
    "\n",
    "plt.rcParams[\"figure.figsize\"] = (20,9)\n",
    "sb.set()"
   ]
  },
  {
   "cell_type": "code",
   "execution_count": 2,
   "id": "legitimate-phrase",
   "metadata": {},
   "outputs": [],
   "source": [
    "# Load the Data files\n",
    "fitsarr = np.load(\"fitslist.npy\")\n",
    "fluxarr = np.load(\"fluxlist.npy\")\n",
    "planetarr = np.load(\"planetlist.npy\")\n",
    "isplanetarr = np.load(\"isplanetlist.npy\")"
   ]
  },
  {
   "cell_type": "code",
   "execution_count": 3,
   "id": "outside-region",
   "metadata": {},
   "outputs": [
    {
     "name": "stdout",
     "output_type": "stream",
     "text": [
      "svc__C :: 1\n",
      "svc__C :: 5\n",
      "svc__C :: 10\n",
      "svc__C :: 25\n",
      "svc__C :: 50\n",
      "svc__C :: 75\n",
      "svc__gamma :: 0.0001\n",
      "svc__gamma :: 0.0005\n",
      "svc__gamma :: 0.001\n",
      "svc__gamma :: 0.0025\n",
      "svc__gamma :: 0.005\n",
      "svc__gamma :: 0.0075\n"
     ]
    }
   ],
   "source": [
    "# 6 sets of SVC parameters to plot a basic ROC/AUC with -- used for later on! Since params are defined outside the grid, can always modify for future expansion\n",
    "\n",
    "svcC = [1, 5, 10, 25, 50, 75]\n",
    "svcG = [0.0001, 0.0005, 0.001, 0.0025, 0.005, 0.0075]\n",
    "\n",
    "param_grid = {'svc__C': svcC,\n",
    "              'svc__gamma': svcG}\n",
    "\n",
    "#param_grid = np.vstack((svcC, svcG)).T\n",
    "\n",
    "for key, pairs in param_grid.items():\n",
    "    for pair in pairs:\n",
    "        print (key,\"::\",pair)"
   ]
  },
  {
   "cell_type": "code",
   "execution_count": 4,
   "id": "wireless-microphone",
   "metadata": {},
   "outputs": [
    {
     "data": {
      "text/plain": [
       "dict_items([('svc__C', [1, 5, 10, 25, 50, 75]), ('svc__gamma', [0.0001, 0.0005, 0.001, 0.0025, 0.005, 0.0075])])"
      ]
     },
     "execution_count": 4,
     "metadata": {},
     "output_type": "execute_result"
    }
   ],
   "source": [
    "param_grid.items()"
   ]
  },
  {
   "cell_type": "code",
   "execution_count": 5,
   "id": "dirty-jones",
   "metadata": {},
   "outputs": [
    {
     "data": {
      "text/plain": [
       "array([[ 0.74475579, -0.1849862 ],\n",
       "       [-0.13956263,  0.03318039],\n",
       "       [-0.16695046,  0.03208855],\n",
       "       ...,\n",
       "       [-0.16671307,  0.03203889],\n",
       "       [-0.07404131,  0.12968034],\n",
       "       [-0.09193118,  0.01484429]])"
      ]
     },
     "execution_count": 5,
     "metadata": {},
     "output_type": "execute_result"
    }
   ],
   "source": [
    "# Make a PCA Pipeline\n",
    "pca = PCA(svd_solver='randomized', n_components=2, whiten=True, random_state=42)\n",
    "svc = SVC(kernel='rbf', class_weight='balanced')\n",
    "model = make_pipeline(pca, svc)\n",
    "\n",
    "# Sort data into Test and Train\n",
    "from sklearn.model_selection import train_test_split\n",
    "Xtrain, Xtest, ytrain, ytest = train_test_split(fluxarr, isplanetarr, random_state=42)\n",
    "\n",
    "# IsPlanetArr is an array of TRUEs and FALSEs -- need it to be 0s and 1s\n",
    "isplanetarrbin = [1 if x==True else 0 for x in isplanetarr]\n",
    "#plt.hist(isplanetarrbin)\n",
    "\n",
    "# Fit model\n",
    "pca.fit(Xtrain,ytrain)\n",
    "\n",
    "# Use PCA transform on Xtrain --- I don't quite know what this does but it seems to make things work so wahey!\n",
    "pca.transform(Xtrain)"
   ]
  },
  {
   "cell_type": "code",
   "execution_count": 6,
   "id": "indoor-lawyer",
   "metadata": {},
   "outputs": [
    {
     "name": "stdout",
     "output_type": "stream",
     "text": [
      "CPU times: user 2h 40min 5s, sys: 1h 1min 6s, total: 3h 41min 11s\n",
      "Wall time: 35min 9s\n",
      "{'svc__C': 50, 'svc__gamma': 0.005}\n"
     ]
    }
   ],
   "source": [
    "# So svc__C = 50, svc__gamma = 0.005 is best, which is the highest of each grid. Let's try more to see\n",
    "from sklearn.model_selection import GridSearchCV\n",
    "#param_grid = {'svc__C': [50],\n",
    "#              'svc__gamma': [0.005]}\n",
    "grid = GridSearchCV(model, param_grid)\n",
    "\n",
    "%time grid.fit(Xtrain, ytrain)\n",
    "print(grid.best_params_)"
   ]
  },
  {
   "cell_type": "markdown",
   "id": "dress-liberia",
   "metadata": {},
   "source": [
    "Need to find a way to output the True Positive Rate (TPR, aks Recall) and False Positive Rate (FPR) from my models, based on different svc__ parameters.  \n",
    "Therefore, need to run my model at each set of params, and then record the TPR and FPR at each interval.  \n",
    "This can be done by making a confusion matrix:  \n",
    "``from sklearn.metrics import confusion_matrix``  \n",
    "``mat = confusion_matrix(ytest, yfitnew)``  \n",
    "\n",
    "And using the following:  \n",
    "True Positive (TP)  = mat[0][0]  \n",
    "False Positive (FP) = mat[1][0]  \n",
    "True Negative (TN)  = mat[1][1]  \n",
    "False Negative (FN) = mat[0][1]\n",
    "\n",
    "We can work out the TPR and FPR values, and record them somewhere.  \n",
    "It's a tad convoluted, but it will work. I just need to work out how to loop thru values of my grid_params"
   ]
  },
  {
   "cell_type": "code",
   "execution_count": null,
   "id": "silent-lawrence",
   "metadata": {},
   "outputs": [],
   "source": []
  }
 ],
 "metadata": {
  "kernelspec": {
   "display_name": "Python 3",
   "language": "python",
   "name": "python3"
  },
  "language_info": {
   "codemirror_mode": {
    "name": "ipython",
    "version": 3
   },
   "file_extension": ".py",
   "mimetype": "text/x-python",
   "name": "python",
   "nbconvert_exporter": "python",
   "pygments_lexer": "ipython3",
   "version": "3.8.8"
  }
 },
 "nbformat": 4,
 "nbformat_minor": 5
}
