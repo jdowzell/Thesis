{
 "cells": [
  {
   "cell_type": "code",
   "execution_count": 62,
   "id": "smaller-emergency",
   "metadata": {},
   "outputs": [],
   "source": [
    "################################\n",
    "# Scientific imports\n",
    "###\n",
    "%matplotlib inline\n",
    "import matplotlib.pyplot as plt\n",
    "from matplotlib.pyplot import figure\n",
    "import numpy as np\n",
    "\n",
    "###\n",
    "# General imports\n",
    "###\n",
    "import csv, math, io, os, os.path, sys, random, time\n",
    "import pandas as pd\n",
    "import seaborn as sb\n",
    "from tqdm.notebook import tqdm, trange\n",
    "\n",
    "###\n",
    "# SciKitLearn Imports\n",
    "###\n",
    "import sklearn\n",
    "from sklearn import metrics\n",
    "from sklearn.svm import SVC\n",
    "from sklearn.decomposition import PCA\n",
    "from sklearn.pipeline import make_pipeline\n",
    "from sklearn.model_selection import train_test_split\n",
    "from sklearn.model_selection import GridSearchCV\n",
    "from sklearn.metrics import confusion_matrix\n",
    "\n",
    "from IPython.display import display\n",
    "\n",
    "###\n",
    "# MatPlotLib Settings\n",
    "###\n",
    "\n",
    "plt.rcParams[\"figure.figsize\"] = (20,9)\n",
    "sb.set()"
   ]
  },
  {
   "cell_type": "code",
   "execution_count": 33,
   "id": "toxic-celtic",
   "metadata": {},
   "outputs": [],
   "source": [
    "# Load the Data files\n",
    "#fitsarr = np.load(\"fitslist.npy\")\n",
    "fluxarr = np.load(\"fluxlist.npy\")\n",
    "#planetarr = np.load(\"planetlist.npy\")\n",
    "isplanetarr = np.load(\"isplanetlist.npy\")"
   ]
  },
  {
   "cell_type": "code",
   "execution_count": 3,
   "id": "adjusted-camel",
   "metadata": {
    "collapsed": true,
    "jupyter": {
     "outputs_hidden": true,
     "source_hidden": true
    },
    "tags": []
   },
   "outputs": [
    {
     "name": "stdout",
     "output_type": "stream",
     "text": [
      "svc__C :: 1\n",
      "svc__C :: 5\n",
      "svc__C :: 10\n",
      "svc__C :: 25\n",
      "svc__C :: 50\n",
      "svc__C :: 75\n",
      "svc__gamma :: 0.0001\n",
      "svc__gamma :: 0.0005\n",
      "svc__gamma :: 0.001\n",
      "svc__gamma :: 0.0025\n",
      "svc__gamma :: 0.005\n",
      "svc__gamma :: 0.0075\n"
     ]
    }
   ],
   "source": [
    "# 6 sets of SVC parameters to plot a basic ROC/AUC with -- used for later on! Since params are defined outside the grid, can always modify for future expansion\n",
    "\n",
    "svcC = [1, 5, 10, 25, 50, 75]\n",
    "svcG = [0.0001, 0.0005, 0.001, 0.0025, 0.005, 0.0075]\n",
    "\n",
    "param_grid = {'svc__C': svcC,\n",
    "              'svc__gamma': svcG}\n",
    "\n",
    "#param_grid = np.vstack((svcC, svcG)).T\n",
    "\n",
    "for key, pairs in param_grid.items():\n",
    "    for pair in pairs:\n",
    "        print (key,\"::\",pair)"
   ]
  },
  {
   "cell_type": "code",
   "execution_count": 4,
   "id": "entitled-sacrifice",
   "metadata": {
    "collapsed": true,
    "jupyter": {
     "outputs_hidden": true,
     "source_hidden": true
    },
    "tags": []
   },
   "outputs": [
    {
     "data": {
      "text/plain": [
       "dict_items([('svc__C', [1, 5, 10, 25, 50, 75]), ('svc__gamma', [0.0001, 0.0005, 0.001, 0.0025, 0.005, 0.0075])])"
      ]
     },
     "execution_count": 4,
     "metadata": {},
     "output_type": "execute_result"
    }
   ],
   "source": [
    "param_grid.items()"
   ]
  },
  {
   "cell_type": "code",
   "execution_count": 5,
   "id": "boxed-andorra",
   "metadata": {
    "collapsed": true,
    "jupyter": {
     "outputs_hidden": true,
     "source_hidden": true
    },
    "tags": []
   },
   "outputs": [
    {
     "data": {
      "text/plain": [
       "array([[ 0.74475579, -0.1849862 ],\n",
       "       [-0.13956263,  0.03318039],\n",
       "       [-0.16695046,  0.03208855],\n",
       "       ...,\n",
       "       [-0.16671307,  0.03203889],\n",
       "       [-0.07404131,  0.12968034],\n",
       "       [-0.09193118,  0.01484429]])"
      ]
     },
     "execution_count": 5,
     "metadata": {},
     "output_type": "execute_result"
    }
   ],
   "source": [
    "# Make a PCA Pipeline\n",
    "pca = PCA(svd_solver='randomized', n_components=2, whiten=True, random_state=42)\n",
    "svc = SVC(kernel='rbf', class_weight='balanced')\n",
    "model = make_pipeline(pca, svc)\n",
    "\n",
    "# Sort data into Test and Train\n",
    "from sklearn.model_selection import train_test_split\n",
    "Xtrain, Xtest, ytrain, ytest = train_test_split(fluxarr, isplanetarr, random_state=42)\n",
    "\n",
    "# IsPlanetArr is an array of TRUEs and FALSEs -- need it to be 0s and 1s\n",
    "isplanetarrbin = [1 if x==True else 0 for x in isplanetarr]\n",
    "#plt.hist(isplanetarrbin)\n",
    "\n",
    "# Fit model\n",
    "pca.fit(Xtrain,ytrain)\n",
    "\n",
    "# Use PCA transform on Xtrain --- I don't quite know what this does but it seems to make things work so wahey!\n",
    "pca.transform(Xtrain)"
   ]
  },
  {
   "cell_type": "code",
   "execution_count": 3,
   "id": "composite-warehouse",
   "metadata": {
    "jupyter": {
     "source_hidden": true
    },
    "tags": []
   },
   "outputs": [],
   "source": [
    "from sklearn.model_selection import train_test_split\n",
    "from sklearn.model_selection import GridSearchCV"
   ]
  },
  {
   "cell_type": "code",
   "execution_count": 6,
   "id": "otherwise-albania",
   "metadata": {
    "collapsed": true,
    "jupyter": {
     "outputs_hidden": true,
     "source_hidden": true
    },
    "tags": []
   },
   "outputs": [
    {
     "name": "stdout",
     "output_type": "stream",
     "text": [
      "CPU times: user 2h 40min 5s, sys: 1h 1min 6s, total: 3h 41min 11s\n",
      "Wall time: 35min 9s\n",
      "{'svc__C': 50, 'svc__gamma': 0.005}\n"
     ]
    }
   ],
   "source": [
    "# So svc__C = 50, svc__gamma = 0.005 is best, which is the highest of each grid. Let's try more to see\n",
    "from sklearn.model_selection import GridSearchCV\n",
    "#param_grid = {'svc__C': [50],\n",
    "#              'svc__gamma': [0.005]}\n",
    "grid = GridSearchCV(model, param_grid)\n",
    "\n",
    "%time grid.fit(Xtrain, ytrain)\n",
    "print(grid.best_params_)"
   ]
  },
  {
   "cell_type": "markdown",
   "id": "packed-component",
   "metadata": {},
   "source": [
    "Need to find a way to output the True Positive Rate (TPR, aks Recall) and False Positive Rate (FPR) from my models, based on different svc__ parameters.  \n",
    "Therefore, need to run my model at each set of params, and then record the TPR and FPR at each interval.  \n",
    "This can be done by making a confusion matrix:  \n",
    "``from sklearn.metrics import confusion_matrix``  \n",
    "``mat = confusion_matrix(ytest, yfitnew)``  \n",
    "\n",
    "And using the following:  \n",
    "True Positive (TP)  = mat[0][0]  \n",
    "False Positive (FP) = mat[1][0]  \n",
    "True Negative (TN)  = mat[1][1]  \n",
    "False Negative (FN) = mat[0][1]\n",
    "\n",
    "We can work out the TPR and FPR values, and record them somewhere.  \n",
    "It's a tad convoluted, but it will work. I just need to work out how to loop thru values of my grid_params"
   ]
  },
  {
   "cell_type": "markdown",
   "id": "behind-exception",
   "metadata": {},
   "source": [
    "STEPS:  \n",
    "1) Get a list of svc__* parameters (henceforth svc)\n",
    "2) Write the function to make a model using data from test-train-split\n",
    "3) Once run, get confusion matrix, and calculate TRP and FPR from it\n",
    "4) Store these variables, along with the svc params, somewhere\n",
    "5) Repeat this for many many many svc params, yielding a set of svcs, TPRs and FPRs\n",
    "6) Plot this to make an ROC, and calculate the AUC\n",
    "\n",
    "Essentially this is a Fn that wraps the actual ML algorithm within a for loop, passing in new svc's each loop  \n",
    "Interestingly, svc__gamma always seems to be 1/10000 of svc__C, so I can use this to my advantage -- Loop one number, eg 0, 5, 10, 15, 20, 25... for svcC and then just\n",
    "divide by 10000 to get svcGamma."
   ]
  },
  {
   "cell_type": "code",
   "execution_count": 64,
   "id": "noticed-second",
   "metadata": {},
   "outputs": [],
   "source": [
    "def GetROC(dataArr, checkArr):\n",
    "    \n",
    "    # Output list\n",
    "    rocpts = []\n",
    "    \n",
    "    # Make list of numbers we can use for svc__C and svc__gamma\n",
    "    svcList = [1, 5, 10, 15, 20, 25, 30, 35, 40, 45, 50, 55, 60, 65, 70, 75]\n",
    "    \n",
    "    # Reformat checkArr to use 0/1 instead of True/False\n",
    "    isplanetarrbin = [1 if x==True else 0 for x in isplanetarr]\n",
    "    \n",
    "    # Make the loop, with svc__C and svc__gamma (henceforth svcC and svcG) values calculated\n",
    "    for svcC in svcList:\n",
    "        svcG = svcC / 10000\n",
    "        #print(\"svc__C = {}\\nsvc__gamma = {}\".format(svcC, svcG))\n",
    "        \n",
    "        # Call the main ML algo, passing in relevant params\n",
    "        TPR, FPR = GetPositiveRates(dataArr, isplanetarrbin, {'svc__C': [svcC], 'svc__gamma': [svcG]})\n",
    "        \n",
    "        print(\"svc__C = {}\\nsvc__gamma = {}\\nTPR = {}\\nFPR = {}\".format(svcC, svcG, TPR, FPR))\n",
    "        \n",
    "        rocpts.append([svcC, svcG, TPR, FPR])\n",
    "    return rocpts\n",
    "\n",
    "################################################################################################################33\n",
    "\n",
    "def GetPositiveRates(dataArr, checkArr, param_grid):\n",
    "\n",
    "    # Make a PCA Pipeline\n",
    "    pca = PCA(svd_solver='randomized', n_components=2, whiten=True, random_state=42) # using 2 components as a timeseries is essentially a 2D graph\n",
    "    svc = SVC(kernel='rbf', class_weight='balanced')\n",
    "    model = make_pipeline(pca, svc)\n",
    "    \n",
    "    # Reformat isplanetarr to use 0/1 instead of T/F\n",
    "    #checkArr = [1 if x==True else 0 for x in checkArr]\n",
    "\n",
    "    # Sort data into Test and Train\n",
    "    Xtrain, Xtest, ytrain, ytest = train_test_split(dataArr, checkArr, random_state=42)\n",
    "    \n",
    "    # Do gridsearch for svc params\n",
    "    grid = GridSearchCV(model, param_grid)\n",
    "    \n",
    "    # Fit model\n",
    "    grid.fit(Xtrain, ytrain)\n",
    "    \n",
    "    # Use svc params and predict    \n",
    "    model = grid.best_estimator_\n",
    "    yfit = model.predict(Xtest)\n",
    "\n",
    "    # Use PCA transform on Xtrain --- I don't quite know what this does but it seems to make things work so wahey!\n",
    "    #pca.transform(Xtrain)\n",
    "    \n",
    "    #\n",
    "    #\n",
    "    # Now that model has done, time for confusion matrix shenanigans\n",
    "    mat = confusion_matrix(ytest, yfit)\n",
    "    TP = mat[0][0]  \n",
    "    FP = mat[1][0]  \n",
    "    TN = mat[1][1]  \n",
    "    FN = mat[0][1]\n",
    "    #TOT= sum(list(map(sum, mat)))\n",
    "\n",
    "    TPR = TP/(TP+FN)\n",
    "    FPR = FP/(FP+TN)\n",
    "    \n",
    "    return (TPR, FPR)"
   ]
  },
  {
   "cell_type": "code",
   "execution_count": 65,
   "id": "incorrect-retailer",
   "metadata": {
    "tags": []
   },
   "outputs": [
    {
     "name": "stdout",
     "output_type": "stream",
     "text": [
      "svc__C = 1\n",
      "svc__gamma = 0.0001\n",
      "TPR = 1.0\n",
      "FPR = 1.0\n",
      "svc__C = 5\n",
      "svc__gamma = 0.0005\n",
      "TPR = 0.9972367209088118\n",
      "FPR = 0.9986541049798116\n",
      "svc__C = 10\n",
      "svc__gamma = 0.001\n",
      "TPR = 0.9966226588885477\n",
      "FPR = 0.9986541049798116\n",
      "svc__C = 15\n",
      "svc__gamma = 0.0015\n",
      "TPR = 0.9947804728277556\n",
      "FPR = 0.9986541049798116\n",
      "svc__C = 20\n",
      "svc__gamma = 0.002\n",
      "TPR = 0.9877187595947191\n",
      "FPR = 0.9946164199192463\n",
      "svc__C = 25\n",
      "svc__gamma = 0.0025\n",
      "TPR = 0.9806570463616825\n",
      "FPR = 0.9865410497981157\n",
      "svc__C = 30\n",
      "svc__gamma = 0.003\n",
      "TPR = 0.9800429843414185\n",
      "FPR = 0.9771197846567967\n",
      "svc__C = 35\n",
      "svc__gamma = 0.0035\n",
      "TPR = 0.9751304881793061\n",
      "FPR = 0.9771197846567967\n",
      "svc__C = 40\n",
      "svc__gamma = 0.004\n",
      "TPR = 0.9702179920171937\n",
      "FPR = 0.971736204576043\n",
      "svc__C = 45\n",
      "svc__gamma = 0.0045\n",
      "TPR = 0.9686828369665336\n",
      "FPR = 0.9703903095558546\n",
      "svc__C = 50\n",
      "svc__gamma = 0.005\n",
      "TPR = 0.9674547129260055\n",
      "FPR = 0.9690444145356663\n",
      "svc__C = 55\n",
      "svc__gamma = 0.0055\n",
      "TPR = 0.9671476819158735\n",
      "FPR = 0.9690444145356663\n",
      "svc__C = 60\n",
      "svc__gamma = 0.006\n",
      "TPR = 0.9671476819158735\n",
      "FPR = 0.9690444145356663\n",
      "svc__C = 65\n",
      "svc__gamma = 0.0065\n",
      "TPR = 0.9680687749462695\n",
      "FPR = 0.9650067294751009\n",
      "svc__C = 70\n",
      "svc__gamma = 0.007\n",
      "TPR = 0.9677617439361376\n",
      "FPR = 0.9650067294751009\n",
      "svc__C = 75\n",
      "svc__gamma = 0.0075\n",
      "TPR = 0.9671476819158735\n",
      "FPR = 0.9650067294751009\n"
     ]
    }
   ],
   "source": [
    "rocpoints = np.array(GetROC(fluxarr, isplanetarr))"
   ]
  },
  {
   "cell_type": "code",
   "execution_count": 39,
   "id": "streaming-cologne",
   "metadata": {
    "collapsed": true,
    "jupyter": {
     "outputs_hidden": true,
     "source_hidden": true
    },
    "tags": []
   },
   "outputs": [
    {
     "data": {
      "text/plain": [
       "array([[1.00000000e+00, 1.00000000e-04, 1.00000000e+00, 1.00000000e+00],\n",
       "       [5.00000000e+00, 5.00000000e-04, 9.97236721e-01, 9.98654105e-01],\n",
       "       [1.00000000e+01, 1.00000000e-03, 9.96622659e-01, 9.98654105e-01],\n",
       "       [2.50000000e+01, 2.50000000e-03, 9.80657046e-01, 9.86541050e-01],\n",
       "       [5.00000000e+01, 5.00000000e-03, 9.67454713e-01, 9.69044415e-01],\n",
       "       [7.50000000e+01, 7.50000000e-03, 9.67147682e-01, 9.65006729e-01]])"
      ]
     },
     "execution_count": 39,
     "metadata": {},
     "output_type": "execute_result"
    }
   ],
   "source": [
    "rocpoints"
   ]
  },
  {
   "cell_type": "code",
   "execution_count": 66,
   "id": "joint-asian",
   "metadata": {},
   "outputs": [],
   "source": [
    "Y = rocpoints[:, 2]\n",
    "X = rocpoints[:, 3]"
   ]
  },
  {
   "cell_type": "code",
   "execution_count": 71,
   "id": "scheduled-success",
   "metadata": {},
   "outputs": [
    {
     "data": {
      "text/plain": [
       "(0.9, 1.0)"
      ]
     },
     "execution_count": 71,
     "metadata": {},
     "output_type": "execute_result"
    },
    {
     "data": {
      "image/png": "[encoded data removed]",
      "text/plain": [
       "<Figure size 400x400 with 1 Axes>"
      ]
     },
     "metadata": {},
     "output_type": "display_data"
    }
   ],
   "source": [
    "figure(figsize=(5,5), dpi=80)\n",
    "plt.plot(X,Y)\n",
    "scale=[0.9,1]\n",
    "plt.xlim(scale)\n",
    "plt.ylim(scale)"
   ]
  },
  {
   "cell_type": "code",
   "execution_count": 74,
   "id": "political-effect",
   "metadata": {},
   "outputs": [],
   "source": [
    "isplanetarrbin = [1 if x==True else 0 for x in isplanetarr]\n",
    "Xtrain, Xtest, ytrain, ytest = train_test_split(fluxarr, isplanetarrbin, random_state=42)"
   ]
  },
  {
   "cell_type": "code",
   "execution_count": 76,
   "id": "developing-disorder",
   "metadata": {},
   "outputs": [],
   "source": [
    "pca = PCA(svd_solver='randomized', n_components=2, whiten=True, random_state=42)"
   ]
  },
  {
   "cell_type": "code",
   "execution_count": 84,
   "id": "wanted-difficulty",
   "metadata": {},
   "outputs": [
    {
     "data": {
      "text/plain": [
       "PCA(n_components=2, random_state=42, svd_solver='randomized', whiten=True)"
      ]
     },
     "execution_count": 84,
     "metadata": {},
     "output_type": "execute_result"
    }
   ],
   "source": [
    "pca.fit(Xtrain.T)"
   ]
  },
  {
   "cell_type": "code",
   "execution_count": 85,
   "id": "future-cooler",
   "metadata": {},
   "outputs": [
    {
     "data": {
      "text/plain": [
       "array([[-8.21381032e-03, -2.58834927e-04, -1.23896050e-05, ...,\n",
       "        -1.45277026e-05, -8.49562105e-04, -6.87209826e-04],\n",
       "       [ 1.95587391e-03, -7.86971882e-06,  3.07314149e-06, ...,\n",
       "         3.51230653e-06, -8.95882257e-04,  1.58094848e-04]])"
      ]
     },
     "execution_count": 85,
     "metadata": {},
     "output_type": "execute_result"
    }
   ],
   "source": [
    "pca.components_"
   ]
  },
  {
   "cell_type": "code",
   "execution_count": 86,
   "id": "conservative-christopher",
   "metadata": {},
   "outputs": [
    {
     "data": {
      "text/plain": [
       "12000"
      ]
     },
     "execution_count": 86,
     "metadata": {},
     "output_type": "execute_result"
    }
   ],
   "source": [
    "len(pca.components_[0])"
   ]
  },
  {
   "cell_type": "code",
   "execution_count": 87,
   "id": "respected-familiar",
   "metadata": {},
   "outputs": [
    {
     "data": {
      "text/plain": [
       "12000"
      ]
     },
     "execution_count": 87,
     "metadata": {},
     "output_type": "execute_result"
    }
   ],
   "source": [
    "len(pca.components_[1])"
   ]
  },
  {
   "cell_type": "code",
   "execution_count": 89,
   "id": "corresponding-cisco",
   "metadata": {},
   "outputs": [
    {
     "data": {
      "text/plain": [
       "12000"
      ]
     },
     "execution_count": 89,
     "metadata": {},
     "output_type": "execute_result"
    }
   ],
   "source": [
    "len(ytrain)"
   ]
  },
  {
   "cell_type": "code",
   "execution_count": 100,
   "id": "hairy-decision",
   "metadata": {},
   "outputs": [
    {
     "data": {
      "text/plain": [
       "(-0.05, 0.05)"
      ]
     },
     "execution_count": 100,
     "metadata": {},
     "output_type": "execute_result"
    },
    {
     "data": {
      "image/png": "[encoded data removed]",
      "text/plain": [
       "<Figure size 1440x648 with 2 Axes>"
      ]
     },
     "metadata": {},
     "output_type": "display_data"
    }
   ],
   "source": [
    "plt.scatter(pca.components_[0], pca.components_[1], c=ytrain, cmap='bwr', s=2)\n",
    "plt.colorbar()\n",
    "plt.xlim([-0.1,0.025])\n",
    "plt.ylim([-0.05,0.05])"
   ]
  },
  {
   "cell_type": "code",
   "execution_count": null,
   "id": "growing-railway",
   "metadata": {},
   "outputs": [],
   "source": []
  }
 ],
 "metadata": {
  "kernelspec": {
   "display_name": "Python 3",
   "language": "python",
   "name": "python3"
  },
  "language_info": {
   "codemirror_mode": {
    "name": "ipython",
    "version": 3
   },
   "file_extension": ".py",
   "mimetype": "text/x-python",
   "name": "python",
   "nbconvert_exporter": "python",
   "pygments_lexer": "ipython3",
   "version": "3.8.8"
  }
 },
 "nbformat": 4,
 "nbformat_minor": 5
}
