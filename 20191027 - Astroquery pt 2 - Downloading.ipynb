{
 "cells": [
  {
   "cell_type": "code",
   "execution_count": 1,
   "metadata": {
    "deletable": true,
    "editable": true
   },
   "outputs": [],
   "source": [
    "%matplotlib inline\n",
    "from astropy.io import fits\n",
    "import matplotlib.pyplot as plt\n",
    "import numpy as np"
   ]
  },
  {
   "cell_type": "code",
   "execution_count": 2,
   "metadata": {
    "deletable": true,
    "editable": true
   },
   "outputs": [],
   "source": [
    "# Let's import Astroquery\n",
    "from astroquery.mast import Observations"
   ]
  },
  {
   "cell_type": "markdown",
   "metadata": {
    "deletable": true,
    "editable": true
   },
   "source": [
    "### Downloading Data Products"
   ]
  },
  {
   "cell_type": "code",
   "execution_count": 3,
   "metadata": {
    "collapsed": false,
    "deletable": true,
    "editable": true,
    "jupyter": {
     "outputs_hidden": false
    }
   },
   "outputs": [
    {
     "name": "stdout",
     "output_type": "stream",
     "text": [
      "INFO: Found cached file ./mastDownload/IUE/lwp13058/lwp13058mxlo_vo.fits with expected size 48960. [astroquery.query]\n",
      "                   Local Path                     Status  Message URL \n",
      "------------------------------------------------ -------- ------- ----\n",
      "./mastDownload/IUE/lwp13058/lwp13058mxlo_vo.fits COMPLETE    None None\n"
     ]
    }
   ],
   "source": [
    "# From https://astroquery.readthedocs.io/en/latest/mast/mast.html\n",
    "obsid = '3000007760'\n",
    "data_products = Observations.get_product_list(obsid)\n",
    "manifest = Observations.download_products(data_products, extension=\"fits\")\n",
    "print(manifest)"
   ]
  },
  {
   "cell_type": "markdown",
   "metadata": {
    "deletable": true,
    "editable": true
   },
   "source": [
    "I could hard-code the location of the file, by copying and pasting the above, but can we automate it?"
   ]
  },
  {
   "cell_type": "code",
   "execution_count": 4,
   "metadata": {
    "collapsed": false,
    "deletable": true,
    "editable": true,
    "jupyter": {
     "outputs_hidden": false
    }
   },
   "outputs": [
    {
     "data": {
      "text/html": [
       "<i>Table length=1</i>\n",
       "<table id=\"table140441699260112\" class=\"table-striped table-bordered table-condensed\">\n",
       "<thead><tr><th>Local Path</th><th>Status</th><th>Message</th><th>URL</th></tr></thead>\n",
       "<thead><tr><th>str48</th><th>str8</th><th>object</th><th>object</th></tr></thead>\n",
       "<tr><td>./mastDownload/IUE/lwp13058/lwp13058mxlo_vo.fits</td><td>COMPLETE</td><td>None</td><td>None</td></tr>\n",
       "</table>"
      ],
      "text/plain": [
       "<Table length=1>\n",
       "                   Local Path                     Status  Message  URL  \n",
       "                     str48                         str8    object object\n",
       "------------------------------------------------ -------- ------- ------\n",
       "./mastDownload/IUE/lwp13058/lwp13058mxlo_vo.fits COMPLETE    None   None"
      ]
     },
     "execution_count": 4,
     "metadata": {},
     "output_type": "execute_result"
    }
   ],
   "source": [
    "manifest"
   ]
  },
  {
   "cell_type": "code",
   "execution_count": 5,
   "metadata": {
    "collapsed": false,
    "deletable": true,
    "editable": true,
    "jupyter": {
     "outputs_hidden": false
    }
   },
   "outputs": [
    {
     "data": {
      "text/plain": [
       "'./mastDownload/IUE/lwp13058/lwp13058mxlo_vo.fits'"
      ]
     },
     "execution_count": 5,
     "metadata": {},
     "output_type": "execute_result"
    }
   ],
   "source": [
    "manifest[0][0]"
   ]
  },
  {
   "cell_type": "markdown",
   "metadata": {
    "deletable": true,
    "editable": true
   },
   "source": [
    "We can! Haha! Okay, we'll use \"manifest\\[0\\]\\[0\\]\" for now to refer to the FITS file\n",
    "\n",
    "So for object \"3000007760\" we end up with the file \"wp13058mxlo_vo.fits\""
   ]
  },
  {
   "cell_type": "code",
   "execution_count": 6,
   "metadata": {
    "collapsed": false,
    "deletable": true,
    "editable": true,
    "jupyter": {
     "outputs_hidden": false
    }
   },
   "outputs": [
    {
     "name": "stdout",
     "output_type": "stream",
     "text": [
      "Filename: ./mastDownload/IUE/lwp13058/lwp13058mxlo_vo.fits\n",
      "No.    Name      Ver    Type      Cards   Dimensions   Format\n",
      "  0  PRIMARY       1 PrimaryHDU     352   ()      \n",
      "  1  Spectral Container    1 BinTableHDU    141   1R x 4C   [563E, 563E, 563E, 563I]   \n"
     ]
    }
   ],
   "source": [
    "fits_file = manifest[0][0] #'./mastDownload/IUE/lwp13058/lwp13058mxlo_vo.fits'\n",
    "fits.info(fits_file)"
   ]
  },
  {
   "cell_type": "code",
   "execution_count": 7,
   "metadata": {
    "collapsed": false,
    "deletable": true,
    "editable": true,
    "jupyter": {
     "outputs_hidden": false
    }
   },
   "outputs": [
    {
     "data": {
      "text/plain": [
       "ColDefs(\n",
       "    name = 'WAVE'; format = '563E'; unit = 'angstrom'\n",
       "    name = 'FLUX'; format = '563E'; unit = 'erg/cm**2/s/angstrom'\n",
       "    name = 'SIGMA'; format = '563E'; unit = 'erg/cm**2/s/angstrom'\n",
       "    name = 'QUALITY'; format = '563I'\n",
       ")"
      ]
     },
     "execution_count": 7,
     "metadata": {},
     "output_type": "execute_result"
    }
   ],
   "source": [
    "fits.getdata(fits_file, ext=1).columns"
   ]
  },
  {
   "cell_type": "markdown",
   "metadata": {
    "deletable": true,
    "editable": true
   },
   "source": [
    "## Plotting The Timeseries Fluxes"
   ]
  },
  {
   "cell_type": "markdown",
   "metadata": {
    "deletable": true,
    "editable": true
   },
   "source": [
    "Using the data from the following workbook: [20191012 - Light Curve Tutorial 1](20191012 - Light Curve Tutorial 1.ipynb)"
   ]
  },
  {
   "cell_type": "code",
   "execution_count": 8,
   "metadata": {
    "collapsed": false,
    "deletable": true,
    "editable": true,
    "jupyter": {
     "outputs_hidden": false
    }
   },
   "outputs": [
    {
     "name": "stdout",
     "output_type": "stream",
     "text": [
      "SIMPLE  =                    T / Standard FITS Format                           BITPIX  =                    8 /                                                NAXIS   =                    0 / no primary array                               EXTEND  =                    T / Extensions are present                         TELESCOP= 'IUE     '           / International Ultraviolet Explorer             DATE    = '19/06/96'           / Date file was written                          COMMENT **********************************************************************  COMMENT START IUEDAC PROCESSING INFORMATION                                     IUEDAC  = 'END KEYWORDS'                                                        COMMENT END IUEDAC PROCESSING INFORMATION                                       COMMENT **********************************************************************  COMMENT *                                                                       COMMENT * CORE DATA ITEMS - COMMON SET                                          COMMENT *                                                                       CAMERA  = 'LWP     '           / Camera                                         IMAGE   =                13058 / Sequential image number                        DISPERSN= 'LOW     '           / Spectrograph dispersion mode                   APERTURE= 'LARGE   '           / Aperture                                       DISPTYPE= 'LOW     '           / Dispersion processing type                     READMODE= 'FULL    '           / Read mode                                      READGAIN= 'LOW     '           / Read gain                                      EXPOGAIN= 'MAXIMUM '           / Exposure gain                                  UVC-VOLT=                 -5.0 / UVC voltage                                    ABNNOSTD= 'NO      '           / Non-standard image acquisition                 ABNBADSC= 'NO      '           / LWP bad scans                                  ABNHTRWU= 'NO      '           / LWR heater warmup                              ABNREAD = 'NO      '           / Read at other than 20 KB                       ABNUVC  = 'NO      '           / Non-standard UVC voltage                       ABNHISTR= 'NO      '           / History replay                                 ABNOTHER= 'NO      '           / Other abnormality                              THDAREAD=                10.18 / THDA at read of image                          EQUINOX =              1950.00 / Epoch of coordinates                           STATION = 'GSFC    '           / Observing station                              ORBEPOCH= '05/04/88'           / Orbital elements epoch                         ORBSAXIS=              42159.9 / Semi-major axis in kilometers                  ORBECCEN=            0.1679041 / Eccentricity                                   ORBINCLI=               31.040 / Inclination in degrees                         ORBASCEN=              133.044 / Ascending node in degrees                      ORBPERIG=              333.667 / Argument of perigee in degrees                 ORBANOMA=               31.163 / Mean anomaly in degrees                        POSANGLE=               163.36 / Pos angle of the large aperture (deg)          LAMP    = 'NONE    '           / Lamp                                           PGM-ID  = 'NHJRD   '           / Program identification                         ABNMINFR= 'NO      '           / Bad/missing minor frames                       CC-PERCN=                 95.3 / Cross-correlation % successful                 CC-WINDW=                   29 / Cross-correlation window size                  CC-TEMPL=                   23 / Cross-correlation template size                CC-MEDN =                0.530 / Median cross-correlation coefficient           CC-STDEV=                0.150 / St dev of cross-corr coefficients              SHFTMEAN=                0.190 / Mean shift between image and ITF               SHFTMAX =                0.728 / Maximum shift between image and ITF            ITF     = 'LWP92R94A'          / ITF identification                             TILTCORR= 'YES     '           / Tilt correction flag                           MEANRAT =                1.000 / SI vs LI mean                                  STDEVRAT=                0.909 / SI vs LI standard deviation                    COMMENT BY RA:  EXP 1 APER L C=3X,B=174                                         COMMENT BY RA:     0 MISSING MINOR FRAMES NOTED ON SCRIPT                       COMMENT BY RA:     0 BAD SCAN STARTS NOTED ON SCRIPT                            COMMENT BY RA:  EXP 1 TRACKED ON GYROS AND FES                                  COMMENT BY RA:  S   PREP USED                                                   COMMENT BY RA:  OFFSET 1  FROM: UNKNOWN                                         COMMENT BY RA:  OFFSET 1  COORDINATES: 18 00 48.4 -24 21 40                     COMMENT *                                                                       COMMENT * CORE DATA ITEMS - LARGE APERTURE SET                                  COMMENT *                                                                       LDATEOBS= '15/04/88'           / Observing date                                 LTIMEOBS= '21:37:25'           / Observing time                                 LJD-OBS =        2447267.40098 / Julian Date start of obs.                      LEXPTRMD= 'NO-TRAIL'           / Trail mode                                     LEXPMULT= 'NO      '           / Multiple exposure mode                         LEXPSEGM= 'NO      '           / Segmented exposure code                        LEXPTIME=             3599.851 / Integration time in seconds                    LTHDASTR=                10.18 / THDA at start of exposure                      LTHDAEND=                10.51 / THDA at end of exposure                        LRA     =             270.1375 / Homogeneous R.A. in degrees                    LDEC    =             -24.3900 / Homogeneous Dec. in degrees                    LLAPSTAT= 'OPEN    '           / Large aperture status                          LFES2MD = 'BO      '           / FES(2) mode                                    LTARGET = 'M8HGLS-S'           / Object as given by Guest Observer              LTARGRA =             270.1542 / R.A. in degrees (given by GO)                  LTARGDEC=             -24.3844 / Dec. in degrees (given by GO)                  LOBJECT = 'NGC 6523        HGLS-S'       / Homogeneous Object ID                LIUECLAS=                   72 / Object class                                   LFOCUS  =                -1.62 / Focus                                          LFPM    =                 2.17 / Flux particle monitor                          LGSTAR2X=                 -135 / X coordinate of guide star in FES 2            LGSTAR2Y=                 -609 / Y coordinate of guide star in FES 2            LGSTAR2C=                12838 / Guide star counts in FES 2                     LGSTAR2M= 'FO      '           / Guide star mode FES2                           LJD-MID =        2447267.42182 / Julian Date middle of obs.                     LHELCORR=              0.00254 / Heliocentric corr to midpoint (days)           LDATABKG=                  151 / Estimated mean background level (DNs)          LDATACNT=                  255 / Estimated maximum continuum level (DNs)        LCNTRAPR=                 51.0 / Predicted center line of spectrum              LXTRMODE= 'EXTENDED'           / Extraction mode                                LXTRPROF= 'UNIFORM '           / Profile used                                   LXTRASYM= 'NO      '           / Asymmetrical profile in extraction             LXTRCNTR=                 51.5 / Center line of extracted spectrum              LFLUXAVE=                125.1 / Average flux (FNs)                             COMMENT *                                                                       COMMENT * THE IUE VICAR HEADER                                                  COMMENT *                                                                       COMMENT IUE-VICAR HEADER START                                                                                   895 895 768 768   1 2 011113058            1  C          7976*  11*IUESOC  *   *   *  3600*      *   *  * * * * * *     *  2  C        LWP 13058, M8HGLS-S, 60 MIN EXPO, LO DISP, LARGE APERTURE           3  C                                                                            4  C                                                                            5  C                                                                            6  C        OBSERVER: DUFOUR     ID: NHJRD     15 APR 88     DAY 106            7  C                                                                            8  C                                                                            9  C        88106225350* 10  * 218 *OPS2PR09*225240 TLM,SWPROM               * 10  C        201641 EXPOBC 1 0 10   MAXG NOL *225313 TLM,LWPROM               * 11  C        201721 FIN 1 T 9 S 97 U 108     *225350 READPREP 1 IMAGE 13058   * 12  C        201803 TARGET FROM LWLA         *225432 SCAN READLO SS 1 G3 47   * 13  C        201946 TLM,SWPROM               *225454 X 53 Y 71 G1 97 HT 106   * 14  C        202018 READPREP 3 IMAGE 33290   *225423                          * 15  C        202100 SCAN READLO SS 1 G3 44   *225452                          * 16  C        202118 X 60 Y 76 G1 82 HT 105   *192747 FIN 1 T 3599 S 97 U 108  * 17  C        204132 TLM,FES2ROM              *192854 TARGET FROM LWLA         * 18  C        204212 TLM,LWPROM               *193020 PYSLW P 1398 Y 1696      * 19  C        204249 READPREP 1 IMAGE 13057   *193252 FESIMAGE 0 0 81          * 20  C        204327 SCAN READLO SS 1 G3 47   *193857 TLM,LWPROM               * 21  C        204342 X 53 Y 71 G1 97 HT 106   *193945 READPREP 1 IMAGE 13056   * 22  C        210822 TLM,FES2ROM              *194023 SCAN READLO SS 1 G3 47   * 23  C        211303 S/C MANEUVERING          *194039 X 53 Y 71 G1 97 HT 106   * 24  C        213206 PYSLW P 15521 Y 7600     *200446 TLM,FES2ROM              * 25  C        213321 FES CTS 9946 0 0 1       *200853 FES CTS 2893 0 0 2560    * 26  C        213354 TARGET IN LWLA           *200931 TARGET IN SWLA           * 27  C        213627 GDE R/S X -135  Y -610   *201111 EXPOBC 3 0 10   MAXG NOL * 28  C        213731 EXPOBC 1 60 0   MAXG NOL *201150 FIN 3 T 9 S 97 U 109     * 29  C        223736 FIN 1 T 3599 S 97 U 108  *201229 TARGET FROM SWLA         * 30  C        224307 GDE R/S X 65  Y -750     *201448 FES CTS 2916 0 0 2560    * 31  C        224438 EXPOBC 3 125 0  MAXG NOL *201518 TARGET IN LWLA           * 32  C                                                                           33  C                                                                           34  C                                                                           35  C        NHJRD*1*10*DUFOUR          *  7*   *O*M8HGLS-S*0*0*1* 72           36  C        18 0370-2423 4*999*  *0*99.0*99.00*         *    * 999.99*   *     37  C                                                                           38  C                                                                           39  C                                                                           40  C                                                                           41  C                                                                           42  C                                                                           43  C                                                                           44  C                                                                           45  C                                                                           46  C                                                                           47  C                                                                           48  C                                                                           49  C                                                                           50  C        000000000000000000000000000000000000000000000000000000000000000000 51  C        000000000000000000000000000000000000000000000000000000000000004040 51  C        000000000000000000000000000000000000000000000000000000000000000000 52  C        000000000000000000000000000000000000000000000000000000000000004040 52  C        000000000000000000000000000000000000000000000000000000000000000000 53  C        000000000000000000000000000000000000000000000000000000000000004040 53  C        000000000000000000000000000000000000000000000000000000000000000000 54  C        000000000000000000000000000000000000000000000000000000000000004040 54  C        000000000000000000000000000000000000000000000000000000000000000000 55  C        000000000000000000000000000000000000000000000000000000000000004040 55  C        000000000000000000000000000000000000000000000000000000000000000000 56  C        000000000000000000000000000000000000000000000000000000000000004040 56  C        000000000000000000000000000000000000000000000000000000000000000000 57  C        000000000000000000000000000000000000000000000000000000000000004040 57  C        000000000000000000000000000000000000000000000000000000000000000000 58  C        000000000000000000000000000000000000000000000000000000000000004040 58  C        000000000000000000000000000000000000000000000000000000000000000000 59  C        000000000000000000000000000000000000000000000000000000000000004040 59  C        000000000000000000000000000000000000000000000000000000000000000000 60  C        000000000000000000000000000000000000000000000000000000000000004040 60  C        000000000000000000000000000000000000000000000000000000000000000000 61  C        000000000000000000000000000000000000000000000000000000000000004040 61  C        000000000000000000000000000000000000000000000000000000000000000000 62  C        000000000000000000000000000000000000000000000000000000000000004040 62  C        000000000000000000000000000000000000000000000000000000000000000000 63  C        000000000000000000000000000000000000000000000000000000000000004040 63  C        000000000000000000000000000000000000000000000000000000000000000000 64  C        000000000000000000000000000000000000000000000000000000000000004040 64  C        000000000000000000000000000000000000000000000000000000000000000000 65  C        000000000000000000000000000000000000000000000000000000000000004040 65  C        000000000000000000000000000000000000000000000000000000000000000000 66  C        000000000000000000000000000000000000000000000000000000000000004040 66  C        000000000000000000000000000000000000000000000000000000000000000000 67  C        000000000000000000000000000000000000000000000000000000000000004040 67  C        000000000000000000000000000000000000000000000000000000000000000000 68  C        000000000000000000000000000000000000000000000000000000000000004040 68  C        000000000000000000000000000000000000000000000000000000000000000000 69  C        000000000000000000000000000000000000000000000000000000000000004040 69  C        000000000000000000000000000000000000000000000000000000000000000000 70  C        000000000000000000000000000000000000000000000000000000000000004040 70  C        000000000000000000000000000000000000000000000000000000000000000000 71  C        000000000000000000000000000000000000000000000000000000000000004040 71  C        000000000000000000000000000000000000000000000000000000000000000000 72  C        000000000000000000000000000000000000000000000000000000000000004040 72  C        000000000000000000000000000000000000000000000000000000000000000000 73  C        000000000000000000000000000000000000000000000000000000000000004040 73  C        000000000000000000000000000000000000000000000000000000000000000000 74  C        000000000000000000000000000000000000000000000000000000000000004040 74  C        000000000000000000000000000000000000000000000000000000000000000000 75  C        000000000000000000000000000000000000000000000000000000000000004040 75  C        162CF4F9CD000000CF8A7C00CE080025C70C2D444B526728243C45422F1D2E4E63 76  C        27004886F505080C625E006D666C34122F2B1B292F2133131B1460A4ABAB000000 76  C        AC5000FF000335ACA89A004EA4630C33121C21251E0F101D200E100D0F123E2732 77  C        6F707C247A2277247A180102010000021F7F1D8C010000B8E00000DF2CDFF73740 77  C        7A007A0076000000007B7B003B00008A4C4246345277878845C3E9EC74777B3E00 78  C        00000005C1F3578281000000808039323436383430313435342C34404040404040 78  C        BBAB05C1F15883810000007F7F3A3536343A353131363836333375B670B930B66F 79  C        B970B645B977B673B935B674B975B64AB940404040404040404040404040404040 79  C        02CFEBE1101902C900970040404040404040404040404040404040404040404040 80  C        404040404040404040404040404040404040404040404040404040404040404040 80  C        0D8AF18F000000002F2D43390376FF1EFB30000000000000D00000030000000080 81  C        00000000000000000000000C0000005C0000001C00000000000000FF0000004040 81  C        4F29A000FF000000FF000000FF00000000000000000000000000000000000000FF 82  C        00000000000000FF00000000000000000000000000000000000000000000004040 82  C         2447256.5      .0 42159.9 .167904 31.0392133.0439333.6670 31.162  83  C        106193045 1759212-23 153270 753 106211316 18 0483-2421482693829    84  C        106213229 18 0369-2423 32693642 106145902 1759222-23 136270 8 2    85  C        1637000000080000001C8685E02CDFE000004E00001AA09E520000D8C4F3A28245 86  C        AEDAC6708B75C671C630C6314A61410000000040404001070EF1C2404040404040 86  C        1700000000080000001C8683DF2CDFE0000040000010B09E52B9AB05C1F3558281 87  C        000000818073C671C630C62151614100000000404040010117F1C2404040404040 87  C        14100000001B000000288685DF2CDFE100006900001AA09E52B8AA05C1F3578281 88  C        000000808071B670B92FB62141614000000000404040010430F2C1404040404040 88  C        14110000001B000000288683DF2CDFE000006B00001AA09E52000005C1F3578282 89  C        000000808071B570B72FB52140614000000000404040010606F2C1404040404040 89  C        14150000001B00000028868BE02CDFE0000062000010A09E520000D8C4F1A4BE42 90  C        ACD9BF799276C773C735C62140714A00000000404040030723F1C2404040404040 90  C        141A0000001B000000288686DF2CDFE000006A00001AB09E52BBAB05C1F1568381 91  C        0000007F8075C673C735C6214061510000000040404003013AF1C2404040404040 91  C        14210000001B000000288686DF2CDFE000006A000010B09E52BC6D05C1F1568381 92  C        0000007F8072C672C635C62140615100000000404040030136F1C2404040404040 92  C        14230000001B00000028868EDF2CDFE000006E000018A09E520000D8C1F1A4383A 93  C        ACD9D4816272C772C735C6214071420000000040404003030DF1C2404040404040 93  C        142C0000001B00000028868CDF2CDFE100006900001AA09E520000D8C4F3A23440 94  C        AED9BF708B74C771C72FC7314A614000000000404040010701F1C2404040404040 94  C        14310000001B000000288686DF2CDFE000006B000012B09E52B8AB05C1F3558281 95  C        000000818073C671C62FC62151614000000000404040010113F1C2404040404040 95  C        143A0000001B000000288686DF2CDFE000006800001AB09E52BA7005C1F3558282 96  C        000000818071C671C62FC62151614000000000404040010124F1C2404040404040 96  C        15020000001B00000028868ADF2CDFE0000068000018A09E520000D8C1F3A27F3A 97  C        AED9D4434970C671C62FC63142614000000000404040010304F1C2404040404040 97  C        1525000000080000001C8685DF2CDFE000006B00001AA09E52B8AA05C1F3578281 98  C        000000808074B671B92FB62141614000000000404040010428F2C1404040404040 98  C        162400FFFFF500000012867FDF2CDFE000005B00001AA09E52B9AA05C1F3578281 99  C        000000808075B670B930B62141614000000000404040010623F2C1404040404040 99  C        162C000000080000001C8681DF2CDFE000005000001AA09E52BBAB05C1F1578381100  C        0000007F8077B673B935B62140614100000000404040030431F2C1404040404040100  C        ***** RAW IMAGE:  T1LXMC   *****                                       C        *GOT_FMTOUTTAPE/GOT_MASKCON 07:03Z APR 18,'88                         HLCOMMENT IUE-VICAR HEADER END                                                    HISTORY IUE-LOG STARTED                             19-JUN-1996 05:33:07        HISTORY PROCESSING SYSTEM: NEWSIPS VERSION 2.4.4                                HISTORY ULTRIX VERSION                                                          HISTORY LWP13058                                                                HISTORY PROCESSED AT GODDARD SPACE FLIGHT CENTER                                HISTORY ****************************************************************        HISTORY ****************************************************************        HISTORY START RAW_SCREEN                            19-JUN-1996 05:35:16        HISTORY   46 BRIGHT SPOTS DETECTED                                              HISTORY    0 MISSING MINOR FRAMES DETECTED                                      HISTORY LARGE APERTURE SPECTRUM WILL BE EXTRACTED AS                            HISTORY           EXTENDED SOURCE                                               HISTORY LARGE APERTURE CONTINUUM DN LEVEL = 255                                 HISTORY SMALL APERTURE CONTINUUM DN LEVEL =   0                                 HISTORY BACKGROUND DN LEVEL = 151                                               HISTORY END   RAW_SCREEN                            19-JUN-1996 05:36:05        HISTORY ****************************************************************        HISTORY START TTDC                                  19-JUN-1996 05:36:12        HISTORY TEMPERATURE USED FOR CORRECTING DISPERSION CONSTANTS = 10.51            HISTORY DATE OF OBSERVATION USED FOR CORRECTING                                 HISTORY           DISPERSION CONSTANTS = 15/ 4/88  21:37:25                     HISTORY FIRST-ORDER  FIT OVER TIME USED                                         HISTORY FIRST-ORDER FIT OVER TEMPERATURE USED                                   HISTORY ZERO-POINT CORRECTION =  -0.42 ANGSTROMS                                HISTORY SPATIAL CORRECTION =   0.54 PIXELS                                      HISTORY END   TTDC                                  19-JUN-1996 05:36:14        HISTORY ****************************************************************        HISTORY START CROSS-CORR                            19-JUN-1996 05:36:26        HISTORY WINDOW SIZE USED:    29 X  29 PIXELS                                    HISTORY TEMPLATE SIZE USED:  23 X  23 PIXELS                                    HISTORY ITF USED:  LWP92R94A                                                    HISTORY   95.3 PERCENT SUCCESSFUL CORRELATIONS (143 OUT OF 150)                 HISTORY MEDIAN CORRELATION COEFFICIENT: 0.530                                   HISTORY STANDARD DEVIATION OF CORRELATION COEFFICIENT: 0.150                    HISTORY MEAN SHIFT IN PIXELS: 0.190                                             HISTORY MAXIMUM SHIFT IN PIXELS: 0.728                                          HISTORY NUMBER OF SUCCESSFUL SHIFTS FILTERED AS UNRELIABLE IN                   HISTORY     POST-FILTER ROUTINE:   0                                            HISTORY END   CROSS-CORR                            19-JUN-1996 05:38:16        HISTORY ****************************************************************        HISTORY START PHOTOM                                19-JUN-1996 05:38:52        HISTORY ITF USED: LWP92R94A                                                     HISTORY MEAN TEMPERATURE OF ITF: 9.6  C                                         HISTORY ITF UVC=-5.0 KV; UVFLOOD WAVELENGTH = 2536 A; ITF SEC =-6.1 KV          HISTORY ITF CONSTRUCTION: RAW SPACE, FOURIER FILTERED; FEB94                    HISTORY END   PHOTOM                                19-JUN-1996 05:41:07        HISTORY ****************************************************************        HISTORY START GEOM                                  19-JUN-1996 05:41:47        HISTORY WAVELENGTH LINEARIZATION APPLIED USING CHEBYSHEV COEFFICIENTS:          HISTORY      C(0) = 319.898                                                     HISTORY      C(1) = 318.746                                                     HISTORY      C(2) = 0.60244                                                     HISTORY      C(3) = 0.75394                                                     HISTORY TILT CORRECTION OF -9.5 DEGREES APPLIED TO LARGE APERTURE SPECTRUM      HISTORY WAVELENGTH ZEROPOINT AND SPATIAL SHIFT APPLIED:                         HISTORY      ZERO-POINT SHIFT = -38.76 ANGSTROMS                                HISTORY      SPATIAL SHIFT =   0.52 PIXELS                                      HISTORY FINAL TIME/TEMP CORRECTED DISPERSION CONSTANTS USED:                    HISTORY      1750.00 ANGSTROMS, 2.6626 ANGSTROMS/PIXEL                          HISTORY PREDICTED CENTER LINE OF LARGE APERTURE = LINE 51.0                     HISTORY PREDICTED CENTER LINE OF SMALL APERTURE = LINE 24.8                     HISTORY END   GEOM                                  19-JUN-1996 05:48:15        HISTORY ****************************************************************        HISTORY START SWET                                  19-JUN-1996 05:48:44        HISTORY  NOISE MODEL USED: LWP  VERSION 1.0                                     HISTORY                                                                         HISTORY  *********************LARGE APERTURE DATA***********************        HISTORY                                                                         HISTORY  PREDICTED SPECTRUM CENTER AT LINE 51, CENTROID FOUND AT                HISTORY       LINE 52, PEAK AT LINE 51, AVERAGE PEAK FN =   125.1               HISTORY  CROSS-DISPERSION PROFILES BINNED WITH A BLOCKSIZE OF   7 PIXELS,       HISTORY       FOR A TOTAL OF  86 BLOCKS, OF WHICH  43 ARE REJECTED              HISTORY  *** WARNING: BLOCKSIZE UNUSUALLY LARGE                                 HISTORY  FIT PROFILE WITH  2 NODES AND  3.50 SIGMA REJECTION                    HISTORY  *** WARNING: LOW NUMBER OF SPLINE NODES                                HISTORY               DEFAULT PROFILE SUBSTITUTED                               HISTORY               FOR EMPIRICAL FIT                                         HISTORY  PROFILE CENTROID AT LINE  51.5                                         HISTORY  *** WARNING: PROFILE = DEFAULT: UNIFORM WEIGHT                         HISTORY  EXTRACT FLUX FROM LINES 41 THROUGH  63                                 HISTORY  OUT OF   14720 PIXELS       0 REJECTED AS COSMIC RAY HITS,             HISTORY         1013 FLAGGED AS BAD                                             HISTORY  ABSOLUTE FLUX CALIBRATION LWP VERSION 1.0 APPLIED USING:               HISTORY       MODE = LARGE APERTURE POINT SOURCE                                HISTORY       CALIBRATION EPOCH = 1985.00                                       HISTORY       CAMERA RISE TIME = 0.123 SECONDS                                  HISTORY       EFFECTIVE EXPOSURE TIME =  3599.851 SECONDS                       HISTORY  TEMPERATURE-DEPENDENT SENSITIVITY CORRECTION APPLIED USING:            HISTORY       THDA OF IMAGE = 10.51                                             HISTORY       REFERENCE THDA =  9.50                                            HISTORY       TEMPERATURE COEFFICIENT = -0.0019                                 HISTORY       TEMPERATURE CORRECTION FACTOR =   1.002                           HISTORY  SENSITIVITY DEGRADATION CORRECTION LWP VERSION 1.0 APPLIED USING:      HISTORY       MODE = LARGE APERTURE POINT SOURCE                                HISTORY       CALIBRATION EPOCH = 1985.00                                       HISTORY       OBSERVATION DATE = 1988.290                                       HISTORY END   SWET                                  19-JUN-1996 05:48:50        HISTORY ****************************************************************        HISTORY START FITSCOPY                              19-JUN-1996 05:48:59        END                                                                                                                                                                                                                                                                                                                                                                                                                                                                                                                                                                                                                                                             \n"
     ]
    }
   ],
   "source": [
    "with fits.open(fits_file, mode=\"readonly\") as hdulist:\n",
    "    \n",
    "    print(hdulist[0].header)"
   ]
  },
  {
   "cell_type": "markdown",
   "metadata": {
    "deletable": true,
    "editable": true
   },
   "source": [
    "In the last workbook, we used a function (hdulist[0].header[\"XXX\"]) to extract the headings \"TEFF\", \"LOGG\", \"TESSMAG\" but these are not visible in the above.\n",
    "\n",
    "Additionally, we also search (hdulist[1].header[\"YYY\"]) for \"TPERIOD\", \"TDUR\", \"TEPOCH\", \"TDEPTH\", \"TIME\", \"PHASE\", \"LC_INIT\" and \"MODEL_INIT\" but these also do not seem to be present."
   ]
  },
  {
   "cell_type": "code",
   "execution_count": null,
   "metadata": {
    "collapsed": false,
    "deletable": true,
    "editable": true,
    "jupyter": {
     "outputs_hidden": false
    }
   },
   "outputs": [],
   "source": [
    "#with fits.open(fits_file, mode=\"readonly\") as hdulist:\n",
    "#    \n",
    "#    hdulist[1].header"
   ]
  }
 ],
 "metadata": {
  "kernelspec": {
   "display_name": "Python 3",
   "language": "python",
   "name": "python3"
  },
  "language_info": {
   "codemirror_mode": {
    "name": "ipython",
    "version": 3
   },
   "file_extension": ".py",
   "mimetype": "text/x-python",
   "name": "python",
   "nbconvert_exporter": "python",
   "pygments_lexer": "ipython3",
   "version": "3.8.5"
  }
 },
 "nbformat": 4,
 "nbformat_minor": 4
}
