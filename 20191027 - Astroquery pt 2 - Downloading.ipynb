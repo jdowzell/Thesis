{
 "cells": [
  {
   "cell_type": "code",
   "execution_count": 1,
   "metadata": {
    "collapsed": true,
    "deletable": true,
    "editable": true
   },
   "outputs": [],
   "source": [
    "%matplotlib inline\n",
    "from astropy.io import fits\n",
    "import matplotlib.pyplot as plt\n",
    "import numpy as np"
   ]
  },
  {
   "cell_type": "code",
   "execution_count": 2,
   "metadata": {
    "collapsed": true,
    "deletable": true,
    "editable": true
   },
   "outputs": [],
   "source": [
    "# Let's import Astroquery\n",
    "from astroquery.mast import Observations"
   ]
  },
  {
   "cell_type": "markdown",
   "metadata": {
    "deletable": true,
    "editable": true
   },
   "source": [
    "### Downloading Data Products"
   ]
  },
  {
   "cell_type": "code",
   "execution_count": 3,
   "metadata": {
    "collapsed": false,
    "deletable": true,
    "editable": true
   },
   "outputs": [
    {
     "name": "stdout",
     "output_type": "stream",
     "text": [
      "INFO: Found cached file ./mastDownload/IUE/lwp13058/lwp13058mxlo_vo.fits with expected size 48960. [astroquery.query]\n",
      "                   Local Path                     Status  Message URL \n",
      "------------------------------------------------ -------- ------- ----\n",
      "./mastDownload/IUE/lwp13058/lwp13058mxlo_vo.fits COMPLETE    None None\n"
     ]
    }
   ],
   "source": [
    "# From https://astroquery.readthedocs.io/en/latest/mast/mast.html\n",
    "obsid = '3000007760'\n",
    "data_products = Observations.get_product_list(obsid)\n",
    "manifest = Observations.download_products(data_products, extension=\"fits\")\n",
    "print(manifest)"
   ]
  },
  {
   "cell_type": "markdown",
   "metadata": {
    "deletable": true,
    "editable": true
   },
   "source": [
    "I could hard-code the location of the file, by copying and pasting the above, but can we automate it?"
   ]
  },
  {
   "cell_type": "code",
   "execution_count": null,
   "metadata": {
    "collapsed": false,
    "deletable": true,
    "editable": true
   },
   "outputs": [],
   "source": [
    "manifest"
   ]
  },
  {
   "cell_type": "code",
   "execution_count": null,
   "metadata": {
    "collapsed": false,
    "deletable": true,
    "editable": true
   },
   "outputs": [],
   "source": [
    "manifest[0][0]"
   ]
  },
  {
   "cell_type": "markdown",
   "metadata": {
    "deletable": true,
    "editable": true
   },
   "source": [
    "We can! Haha! Okay, we'll use \"manifest\\[0\\]\\[0\\]\" for now to refer to the FITS file\n",
    "\n",
    "So for object \"3000007760\" we end up with the file \"wp13058mxlo_vo.fits\""
   ]
  },
  {
   "cell_type": "code",
   "execution_count": null,
   "metadata": {
    "collapsed": false,
    "deletable": true,
    "editable": true
   },
   "outputs": [],
   "source": [
    "fits_file = manifest[0][0] #'./mastDownload/IUE/lwp13058/lwp13058mxlo_vo.fits'\n",
    "fits.info(fits_file)"
   ]
  },
  {
   "cell_type": "code",
   "execution_count": null,
   "metadata": {
    "collapsed": false,
    "deletable": true,
    "editable": true
   },
   "outputs": [],
   "source": [
    "fits.getdata(fits_file, ext=1).columns"
   ]
  },
  {
   "cell_type": "markdown",
   "metadata": {
    "deletable": true,
    "editable": true
   },
   "source": [
    "## Plotting The Timeseries Fluxes"
   ]
  },
  {
   "cell_type": "markdown",
   "metadata": {
    "deletable": true,
    "editable": true
   },
   "source": [
    "Using the data from the following workbook: [20191012 - Light Curve Tutorial 1](20191012 - Light Curve Tutorial 1.ipynb)"
   ]
  },
  {
   "cell_type": "code",
   "execution_count": null,
   "metadata": {
    "collapsed": false,
    "deletable": true,
    "editable": true
   },
   "outputs": [],
   "source": [
    "with fits.open(fits_file, mode=\"readonly\") as hdulist:\n",
    "    \n",
    "    print(hdulist[0].header)"
   ]
  },
  {
   "cell_type": "markdown",
   "metadata": {
    "deletable": true,
    "editable": true
   },
   "source": [
    "In the last workbook, we used a function (hdulist[0].header[\"XXX\"]) to extract the headings \"TEFF\", \"LOGG\", \"TESSMAG\" but these are not visible in the above.\n",
    "\n",
    "Additionally, we also search (hdulist[1].header[\"YYY\"]) for \"TPERIOD\", \"TDUR\", \"TEPOCH\", \"TDEPTH\", \"TIME\", \"PHASE\", \"LC_INIT\" and \"MODEL_INIT\" but these also do not seem to be present."
   ]
  },
  {
   "cell_type": "code",
   "execution_count": null,
   "metadata": {
    "collapsed": false,
    "deletable": true,
    "editable": true
   },
   "outputs": [],
   "source": [
    "#with fits.open(fits_file, mode=\"readonly\") as hdulist:\n",
    "#    \n",
    "#    hdulist[1].header"
   ]
  }
 ],
 "metadata": {
  "kernelspec": {
   "display_name": "Python 3",
   "language": "python",
   "name": "python3"
  },
  "language_info": {
   "codemirror_mode": {
    "name": "ipython",
    "version": 3
   },
   "file_extension": ".py",
   "mimetype": "text/x-python",
   "name": "python",
   "nbconvert_exporter": "python",
   "pygments_lexer": "ipython3",
   "version": "3.5.6"
  }
 },
 "nbformat": 4,
 "nbformat_minor": 0
}
