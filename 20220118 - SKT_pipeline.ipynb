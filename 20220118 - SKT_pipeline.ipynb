{
 "cells": [
  {
   "cell_type": "code",
   "execution_count": 56,
   "id": "7a78dc3a-66aa-4c61-bb83-bef0a9731eaf",
   "metadata": {},
   "outputs": [],
   "source": [
    "#!/usr/bin/env python3\n",
    "\n",
    "################################\n",
    "# General Imports\n",
    "################################\n",
    "import csv, math, io, os, os.path, sys, random, time, json, gc, glob, statistics\n",
    "from datetime import datetime\n",
    "import joblib\n",
    "from joblib import Parallel, delayed, dump, load\n",
    "\n",
    "import matplotlib.pyplot as plt\n",
    "import numpy as np\n",
    "import pandas as pd\n",
    "import seaborn as sb\n",
    "\n",
    "################################\n",
    "# Scientific Imports\n",
    "################################\n",
    "import scipy\n",
    "from scipy.signal import butter,filtfilt\n",
    "\n",
    "################################\n",
    "# SKLearn Imports\n",
    "################################\n",
    "from sklearn import preprocessing\n",
    "from sklearn.metrics import confusion_matrix\n",
    "from sklearn.metrics import accuracy_score\n",
    "from sklearn.metrics import precision_score\n",
    "from sklearn.metrics import recall_score\n",
    "from sklearn.model_selection import train_test_split\n",
    "from sklearn.model_selection import GridSearchCV\n",
    "from sklearn.pipeline import Pipeline\n",
    "from sklearn.pipeline import make_pipeline\n",
    "from sklearn.preprocessing import FunctionTransformer\n",
    "from sklearn.preprocessing import StandardScaler\n",
    "from sklearn.preprocessing import MinMaxScaler\n",
    "from sklearn.preprocessing import RobustScaler\n",
    "from sklearn.preprocessing import MaxAbsScaler\n",
    "\n",
    "################################\n",
    "# SKTime Imports\n",
    "################################\n",
    "from sktime.datatypes._panel._convert import from_2d_array_to_nested, from_nested_to_2d_array, is_nested_dataframe, from_nested_to_multi_index\n",
    "from sktime.forecasting.compose import TransformedTargetForecaster\n",
    "from sktime.forecasting.model_selection import ForecastingGridSearchCV\n",
    "\n",
    "from sktime.classification.kernel_based import Arsenal\n",
    "from sktime.classification.interval_based import CanonicalIntervalForest\n",
    "from sktime.classification.dictionary_based import ContractableBOSS\n",
    "from sktime.classification.interval_based import DrCIF\n",
    "from sktime.classification.hybrid import HIVECOTEV1\n",
    "from sktime.classification.dictionary_based import IndividualBOSS\n",
    "from sktime.classification.dictionary_based import IndividualTDE\n",
    "from sktime.classification.distance_based import KNeighborsTimeSeriesClassifier\n",
    "from sktime.classification.feature_based import MatrixProfileClassifier\n",
    "from sktime.classification.dictionary_based import MUSE\n",
    "from sktime.classification.interval_based import RandomIntervalSpectralForest\n",
    "from sktime.classification.distance_based import ShapeDTW\n",
    "from sktime.classification.feature_based import SignatureClassifier\n",
    "from sktime.classification.interval_based import SupervisedTimeSeriesForest\n",
    "from sktime.classification.feature_based import TSFreshClassifier\n",
    "from sktime.classification.dictionary_based import WEASEL\n",
    "\n",
    "################################\n",
    "# Suppress Warnings\n",
    "################################\n",
    "import warnings\n",
    "warnings.simplefilter(action='ignore', category=UserWarning)\n",
    "warnings.simplefilter(action=\"ignore\", category=RuntimeWarning)\n",
    "warnings.filterwarnings(\"ignore\", category=np.VisibleDeprecationWarning) \n",
    "\n",
    "################################\n",
    "# Initialisers\n",
    "################################\n",
    "default_rc_params = (16,9)\n",
    "plt.rcParams[\"figure.figsize\"] = default_rc_params\n",
    "sb.set()\n",
    "\n",
    "xNaNs = np.load(\"X_NAN_LIST.npy\")\n",
    "xTime = np.load(\"X_TIME_LIST.npy\")"
   ]
  },
  {
   "cell_type": "code",
   "execution_count": 95,
   "id": "673512b4-a878-4015-b827-51b6452f49f6",
   "metadata": {},
   "outputs": [],
   "source": [
    "masterX = np.asarray([x[1:-1] for x in np.load(\"None_Or_One_Exoplanet.npy\")])\n",
    "masterY = np.load(\"None_Or_One_isplanetlist.npy\")"
   ]
  },
  {
   "cell_type": "code",
   "execution_count": 152,
   "id": "32971196-08cc-4139-ad2a-49eb449e1d11",
   "metadata": {
    "tags": []
   },
   "outputs": [],
   "source": [
    "################################\n",
    "# Functions\n",
    "################################\n",
    "\n",
    "def Every_Nth_Value(y,nth=40):\n",
    "    \n",
    "    newY = np.zeros(len(y))\n",
    "    \n",
    "    print(\"Every Nth Value\")\n",
    "    \n",
    "    for row in y:\n",
    "        #row[:] = row[::nth]\n",
    "        row = np.delete(row, np.arange(None, None, nth))\n",
    "    \n",
    "    return y\n",
    "\n",
    "################################\n",
    "\n",
    "def Every_Nth_ValueXY(x,y,n=40):\n",
    "    return (Every_Nth_Value(x,nth=n), Every_Nth_Value(y,nth=n))\n",
    "\n",
    "################################\n",
    "\n",
    "def EveryNthNested(y,nth=40):\n",
    "    print(\"Every Nth Value (NESTED)\")\n",
    "    \n",
    "    if type(y) is not np.ndarray:\n",
    "        print(f\"Datatype {type(y)} found! Processing...\")\n",
    "        # De-nest\n",
    "        y_ = from_nested_to_2d_array(y,True)\n",
    "\n",
    "        # Subsample\n",
    "        y_ = y[::nth]\n",
    "\n",
    "        # Re-nest\n",
    "        y_ = from_2d_array_to_nested(y_)\n",
    "    else:\n",
    "        print(\"np array detected; returning as-is\")\n",
    "        y_ = y\n",
    "    # Return\n",
    "    print(\"Returning\")\n",
    "    return y_\n",
    "\n",
    "################################\n",
    "\n",
    "def GetNumDays(time=xTime):\n",
    "    \n",
    "    #xTime = np.load(\"X_TIME_LIST.npy\")\n",
    "    nDays = time[-1]-time[0]\n",
    "    \n",
    "    return (nDays)\n",
    "\n",
    "################################\n",
    "\n",
    "def FilterMyData(x,cutoff=0.00005,order=2):\n",
    "    \n",
    "    \"\"\"\n",
    "    Function to apply a Butter Filter to timeseries.\n",
    "    Vars:\n",
    "    \n",
    "    y:        The timeseries. Must be list or np array.\n",
    "    cutoff:   The cutoff frequency. Used to determine where the filter cut off is.\n",
    "    order:    Approximation via polynomial of the order'th degree (2=quadratic, 3=cubic, 4=quartic, etc)\n",
    "    \"\"\"\n",
    "    \n",
    "    # DATA VALIDATION\n",
    "    # Flag\n",
    "    isNested = False\n",
    "    \n",
    "    print(f\"INITIAL shape of x is {x.shape}; INITIAL type of x is {type(x)}\")\n",
    "    \n",
    "    # Check to see if x is a nested dataframe or not\n",
    "    if type(x) == pd.core.frame.DataFrame:\n",
    "        isNested = True\n",
    "        print(\"NESTED DATAFRAME FOUND! UNPACKING...\")\n",
    "        x = from_nested_to_2d_array(x,True)\n",
    "    \n",
    "    # First, let's calculate the observational time period;\n",
    "    # This is done separately so that I can change this in the future for any TESS fits file\n",
    "    numdays       = GetNumDays()\n",
    "    \n",
    "    # Next, fix data                           \n",
    "    xMedian       = np.median(x)                                                    # Get the median value of 'x' before changing it\n",
    "    x             = [xMedian if n in xNaNs else item for n,item in enumerate(x)]    # Change all the missing values to the median value of the whole array\n",
    "    \n",
    "    # Frequency Data Stuff\n",
    "    sec           = numdays*24*60*60   # Number of seconds in the overall observation period\n",
    "    freq          = len(x)/sec         # Frequency, in Hz, ie number of observations per second\n",
    "    # FREQ IS APPROX 1/120 OR ~0.008333333\n",
    "    \n",
    "    # Butter Lowpass Filter\n",
    "    #polynomOrder  = order\n",
    "    nyq           = 0.5 * freq\n",
    "    normal_cutoff = cutoff / nyq\n",
    "    #b, a          = butter(polynomOrder, normal_cutoff, btype='low', analog=False)\n",
    "    b, a          = butter(order, normal_cutoff, btype='low', analog=False)\n",
    "    \n",
    "    newX          = np.array(filtfilt(b, a, x))\n",
    "    \n",
    "    print(f\"newX generated; curr shape is {newX.shape} and current dtype is {newX.dtype}\")\n",
    "    \n",
    "    if isNested == True:\n",
    "        newX = np.vstack(newX[:,]).astype('float32')   # <-- This apparently fixes some of the issues I've been having?\n",
    "        # see: https://stackoverflow.com/questions/19459017/how-to-convert-a-numpy-2d-array-with-object-dtype-to-a-regular-2d-array-of-float\n",
    "        \n",
    "        newX = from_2d_array_to_nested(newX)\n",
    "    \n",
    "    print(f\"Returning Values; final shape is {newX.shape} and final type is {type(newX)}\")\n",
    "    \n",
    "    # Finally, return the new X and Y values\n",
    "    return (newX)\n",
    "\n",
    "################################\n",
    "\n",
    "def FilterMyUnNestedData(x,cutoff=0.00005,order=2):\n",
    "    \n",
    "    \"\"\"\n",
    "    Function to apply a Butter Filter to timeseries.\n",
    "    Vars:\n",
    "    \n",
    "    y:        The timeseries. Must be list or np array.\n",
    "    cutoff:   The cutoff frequency. Used to determine where the filter cut off is.\n",
    "    order:    Approximation via polynomial of the order'th degree (2=quadratic, 3=cubic, 4=quartic, etc)\n",
    "\n",
    "    \"\"\"\n",
    "    \n",
    "    # First, let's calculate the observational time period;\n",
    "    # This is done separately so that I can change this in the future for any TESS fits file\n",
    "    numdays = GetNumDays()\n",
    "    sec     = numdays*24*60*60   # Number of seconds in the overall observation period\n",
    "    rowLen  = len(x[0])          # Technically bad practice, bu since we know every row has same length, it's okay to do outside func\n",
    "    freq    = rowLen/sec         # Frequency, in Hz, ie number of observations per second\n",
    "    \n",
    "    # Butter Lowpass Filter\n",
    "    #polynomOrder  = order\n",
    "    nyq           = 0.5 * freq\n",
    "    normal_cutoff = cutoff / nyq\n",
    "    \n",
    "    for row in x:\n",
    "\n",
    "        # Next, fix data                           \n",
    "        ####rowMedian = np.median(row)                                                    # Get the median value of 'x' before changing it\n",
    "        ####print(f\"Median is {rowMedian}\")\n",
    "        ####row[...]  = [rowMedian if n in xNaNs else item for n,item in enumerate(row)]    # Change all the missing vals to median of the whole row\n",
    "        row       = FIXNAN(row)\n",
    "        \n",
    "        b, a      = butter(order, normal_cutoff, btype='low', analog=False)\n",
    "        row       = np.array(filtfilt(b, a, x))\n",
    "    \n",
    "    # Finally, return the new X and Y values\n",
    "    return (x)\n",
    "\n",
    "################################\n",
    "\n",
    "def Normalise(X,fixnan=True):\n",
    "    # First of all, decide if wan to Fix all the 0s / NaNs\n",
    "    if fixnan:\n",
    "        X = FIXNANNEW(X)\n",
    "\n",
    "    median = np.median(X)\n",
    "\n",
    "    #print(f\"OldNormal median = {median}\")\n",
    "\n",
    "    X[:] = [(number/median) for number in X]\n",
    "    return X\n",
    "\n",
    "################################\n",
    "\n",
    "def FIXNANNEW(y, nanList=xNaNs):\n",
    "    \n",
    "    print(f\"Array has [{len(y)}] elements, with each element having [{len(y[0])}] sub-elements\")\n",
    "    \n",
    "    for row in y:\n",
    "        m = np.median(row)\n",
    "        #print(f\"median = {m}\")\n",
    "        row[...] = [m if n in nanList else item for n,item in enumerate(row)]\n",
    "    \n",
    "    return y\n",
    "\n",
    "################################\n",
    "\n",
    "def FIXNAN(y, nanList=xNaNs):\n",
    "    yMedian = np.median(y)\n",
    "    y = [yMedian if n in nanList else item for n,item in enumerate(y)]\n",
    "    return y\n",
    "\n",
    "################################\n",
    "\n",
    "def ConvertDataToNestedDF(X):\n",
    "    print(f\"Shape of X is {X.shape}\")\n",
    "    x = from_2d_array_to_nested(X)\n",
    "    return x\n",
    "\n",
    "################################\n",
    "\n",
    "def OUTPUT(inp):\n",
    "    print(f\"Number of inputs: {len(inp)}\")\n",
    "    return(inp)\n",
    "\n",
    "################################\n",
    "\n",
    "OUT = FunctionTransformer(OUTPUT)\n",
    "flt = FunctionTransformer(FilterMyUnNestedData)\n",
    "nth = FunctionTransformer(Every_Nth_Value)\n",
    "nthNest = FunctionTransformer(EveryNthNested)\n",
    "nrm = FunctionTransformer(Normalise)\n",
    "\n",
    "#cnv = FunctionTransformer(ConvertDataToNestedDF)\n",
    "\n",
    "#pipe = Pipeline(steps=[['filter',flt],['everynth',nth],['convert_to_nested',cnv],['drcif',DrCIF()]])\n",
    "pipe = Pipeline(steps=[('filter',flt),('everynth',nth),('normalise', nrm),('algorithm',DrCIF())])\n",
    "#pipe = Pipeline(steps=[['output', OUT],['everynth',nthNest],['drcif',DrCIF()]])"
   ]
  },
  {
   "cell_type": "code",
   "execution_count": 157,
   "id": "e0f91a25-4332-4868-858b-4d2f8be0b305",
   "metadata": {},
   "outputs": [
    {
     "data": {
      "text/plain": [
       "Pipeline(steps=[('filter',\n",
       "                 FunctionTransformer(func=<function FilterMyUnNestedData at 0x7ff1483cb940>,\n",
       "                                     kw_args={'cutoff': 1e-05})),\n",
       "                ('everynth',\n",
       "                 FunctionTransformer(func=<function Every_Nth_Value at 0x7ff1483cb040>)),\n",
       "                ('normalise',\n",
       "                 FunctionTransformer(func=<function Normalise at 0x7ff1483cb9d0>)),\n",
       "                ('algorithm', DrCIF())])"
      ]
     },
     "execution_count": 157,
     "metadata": {},
     "output_type": "execute_result"
    }
   ],
   "source": [
    "pipe.set_params(filter__kw_args = {'cutoff': 0.00001})"
   ]
  },
  {
   "cell_type": "code",
   "execution_count": 105,
   "id": "20d4cda2-b8cc-4446-a880-43f4e3669523",
   "metadata": {
    "tags": []
   },
   "outputs": [
    {
     "name": "stdout",
     "output_type": "stream",
     "text": [
      "Not Nesting...\n"
     ]
    }
   ],
   "source": [
    "useNested = False\n",
    "\n",
    "if useNested == True:\n",
    "    print(\"Nesting...\")\n",
    "    X_nested = from_2d_array_to_nested(masterX)\n",
    "    Xtrain, Xtest, ytrain, ytest  = train_test_split(X_nested, masterY, random_state=42)\n",
    "    \n",
    "else:\n",
    "    print(\"Not Nesting...\")\n",
    "    Xtrain, Xtest, ytrain, ytest  = train_test_split(masterX, masterY, random_state=42)\n",
    "    miniXtrain, miniXtest, miniytrain, miniytest  = train_test_split(masterX[::100], masterY[::100], random_state=42)"
   ]
  },
  {
   "cell_type": "code",
   "execution_count": 130,
   "id": "2a2f6079-94c0-4b3a-9706-33b0e31d78b4",
   "metadata": {
    "collapsed": true,
    "jupyter": {
     "outputs_hidden": true,
     "source_hidden": true
    },
    "tags": []
   },
   "outputs": [
    {
     "data": {
      "text/plain": [
       "2"
      ]
     },
     "execution_count": 130,
     "metadata": {},
     "output_type": "execute_result"
    }
   ],
   "source": [
    "len(miniXtrain[::40])"
   ]
  },
  {
   "cell_type": "code",
   "execution_count": 148,
   "id": "7b3ea2f6-7a90-4293-b789-a6fe73b89fc6",
   "metadata": {
    "collapsed": true,
    "jupyter": {
     "outputs_hidden": true,
     "source_hidden": true
    },
    "tags": []
   },
   "outputs": [
    {
     "data": {
      "text/plain": [
       "4"
      ]
     },
     "execution_count": 148,
     "metadata": {},
     "output_type": "execute_result"
    }
   ],
   "source": [
    "Q = masterX[:4].copy()\n",
    "len(Q)"
   ]
  },
  {
   "cell_type": "code",
   "execution_count": 149,
   "id": "53215102-6cad-4d58-96dc-6791c6de868f",
   "metadata": {
    "collapsed": true,
    "jupyter": {
     "outputs_hidden": true,
     "source_hidden": true
    },
    "tags": []
   },
   "outputs": [
    {
     "name": "stdout",
     "output_type": "stream",
     "text": [
      "Every Nth Value\n"
     ]
    },
    {
     "ename": "TypeError",
     "evalue": "unsupported operand type(s) for -: 'NoneType' and 'int'",
     "output_type": "error",
     "traceback": [
      "\u001b[0;31m---------------------------------------------------------------------------\u001b[0m",
      "\u001b[0;31mTypeError\u001b[0m                                 Traceback (most recent call last)",
      "\u001b[0;32m/tmp/ipykernel_43109/1717089005.py\u001b[0m in \u001b[0;36m<module>\u001b[0;34m\u001b[0m\n\u001b[0;32m----> 1\u001b[0;31m \u001b[0mQQ\u001b[0m \u001b[0;34m=\u001b[0m \u001b[0mEvery_Nth_Value\u001b[0m\u001b[0;34m(\u001b[0m\u001b[0mQ\u001b[0m\u001b[0;34m)\u001b[0m\u001b[0;34m\u001b[0m\u001b[0;34m\u001b[0m\u001b[0m\n\u001b[0m\u001b[1;32m      2\u001b[0m \u001b[0mlen\u001b[0m\u001b[0;34m(\u001b[0m\u001b[0mQQ\u001b[0m\u001b[0;34m[\u001b[0m\u001b[0;36m0\u001b[0m\u001b[0;34m]\u001b[0m\u001b[0;34m)\u001b[0m\u001b[0;34m\u001b[0m\u001b[0;34m\u001b[0m\u001b[0m\n",
      "\u001b[0;32m/tmp/ipykernel_43109/3713286989.py\u001b[0m in \u001b[0;36mEvery_Nth_Value\u001b[0;34m(y, nth)\u001b[0m\n\u001b[1;32m      9\u001b[0m     \u001b[0;32mfor\u001b[0m \u001b[0mrow\u001b[0m \u001b[0;32min\u001b[0m \u001b[0my\u001b[0m\u001b[0;34m:\u001b[0m\u001b[0;34m\u001b[0m\u001b[0;34m\u001b[0m\u001b[0m\n\u001b[1;32m     10\u001b[0m         \u001b[0;31m#row[:] = row[::nth]\u001b[0m\u001b[0;34m\u001b[0m\u001b[0;34m\u001b[0m\u001b[0;34m\u001b[0m\u001b[0m\n\u001b[0;32m---> 11\u001b[0;31m         \u001b[0mrow\u001b[0m \u001b[0;34m=\u001b[0m \u001b[0mnp\u001b[0m\u001b[0;34m.\u001b[0m\u001b[0mdelete\u001b[0m\u001b[0;34m(\u001b[0m\u001b[0mrow\u001b[0m\u001b[0;34m,\u001b[0m \u001b[0mnp\u001b[0m\u001b[0;34m.\u001b[0m\u001b[0marange\u001b[0m\u001b[0;34m(\u001b[0m\u001b[0;32mNone\u001b[0m\u001b[0;34m,\u001b[0m \u001b[0;32mNone\u001b[0m\u001b[0;34m,\u001b[0m \u001b[0mnth\u001b[0m\u001b[0;34m)\u001b[0m\u001b[0;34m)\u001b[0m\u001b[0;34m\u001b[0m\u001b[0;34m\u001b[0m\u001b[0m\n\u001b[0m\u001b[1;32m     12\u001b[0m \u001b[0;34m\u001b[0m\u001b[0m\n\u001b[1;32m     13\u001b[0m     \u001b[0;32mreturn\u001b[0m \u001b[0my\u001b[0m\u001b[0;34m\u001b[0m\u001b[0;34m\u001b[0m\u001b[0m\n",
      "\u001b[0;31mTypeError\u001b[0m: unsupported operand type(s) for -: 'NoneType' and 'int'"
     ]
    }
   ],
   "source": [
    "QQ = Every_Nth_Value(Q)\n",
    "len(QQ[0])"
   ]
  },
  {
   "cell_type": "code",
   "execution_count": 158,
   "id": "9bdae4ba-6e6e-4f0a-a0ba-6f454e820d6b",
   "metadata": {
    "tags": []
   },
   "outputs": [
    {
     "name": "stdout",
     "output_type": "stream",
     "text": [
      "Every Nth Value\n"
     ]
    },
    {
     "ename": "TypeError",
     "evalue": "unsupported operand type(s) for -: 'NoneType' and 'int'",
     "output_type": "error",
     "traceback": [
      "\u001b[0;31m---------------------------------------------------------------------------\u001b[0m",
      "\u001b[0;31mTypeError\u001b[0m                                 Traceback (most recent call last)",
      "\u001b[0;32m/tmp/ipykernel_43109/3763848935.py\u001b[0m in \u001b[0;36m<module>\u001b[0;34m\u001b[0m\n\u001b[0;32m----> 1\u001b[0;31m \u001b[0mpipe\u001b[0m\u001b[0;34m.\u001b[0m\u001b[0mfit\u001b[0m\u001b[0;34m(\u001b[0m\u001b[0mminiXtrain\u001b[0m\u001b[0;34m,\u001b[0m \u001b[0mminiytrain\u001b[0m\u001b[0;34m)\u001b[0m\u001b[0;34m\u001b[0m\u001b[0;34m\u001b[0m\u001b[0m\n\u001b[0m",
      "\u001b[0;32m~/anaconda3/lib/python3.8/site-packages/sklearn/pipeline.py\u001b[0m in \u001b[0;36mfit\u001b[0;34m(self, X, y, **fit_params)\u001b[0m\n\u001b[1;32m    388\u001b[0m         \"\"\"\n\u001b[1;32m    389\u001b[0m         \u001b[0mfit_params_steps\u001b[0m \u001b[0;34m=\u001b[0m \u001b[0mself\u001b[0m\u001b[0;34m.\u001b[0m\u001b[0m_check_fit_params\u001b[0m\u001b[0;34m(\u001b[0m\u001b[0;34m**\u001b[0m\u001b[0mfit_params\u001b[0m\u001b[0;34m)\u001b[0m\u001b[0;34m\u001b[0m\u001b[0;34m\u001b[0m\u001b[0m\n\u001b[0;32m--> 390\u001b[0;31m         \u001b[0mXt\u001b[0m \u001b[0;34m=\u001b[0m \u001b[0mself\u001b[0m\u001b[0;34m.\u001b[0m\u001b[0m_fit\u001b[0m\u001b[0;34m(\u001b[0m\u001b[0mX\u001b[0m\u001b[0;34m,\u001b[0m \u001b[0my\u001b[0m\u001b[0;34m,\u001b[0m \u001b[0;34m**\u001b[0m\u001b[0mfit_params_steps\u001b[0m\u001b[0;34m)\u001b[0m\u001b[0;34m\u001b[0m\u001b[0;34m\u001b[0m\u001b[0m\n\u001b[0m\u001b[1;32m    391\u001b[0m         \u001b[0;32mwith\u001b[0m \u001b[0m_print_elapsed_time\u001b[0m\u001b[0;34m(\u001b[0m\u001b[0;34m\"Pipeline\"\u001b[0m\u001b[0;34m,\u001b[0m \u001b[0mself\u001b[0m\u001b[0;34m.\u001b[0m\u001b[0m_log_message\u001b[0m\u001b[0;34m(\u001b[0m\u001b[0mlen\u001b[0m\u001b[0;34m(\u001b[0m\u001b[0mself\u001b[0m\u001b[0;34m.\u001b[0m\u001b[0msteps\u001b[0m\u001b[0;34m)\u001b[0m \u001b[0;34m-\u001b[0m \u001b[0;36m1\u001b[0m\u001b[0;34m)\u001b[0m\u001b[0;34m)\u001b[0m\u001b[0;34m:\u001b[0m\u001b[0;34m\u001b[0m\u001b[0;34m\u001b[0m\u001b[0m\n\u001b[1;32m    392\u001b[0m             \u001b[0;32mif\u001b[0m \u001b[0mself\u001b[0m\u001b[0;34m.\u001b[0m\u001b[0m_final_estimator\u001b[0m \u001b[0;34m!=\u001b[0m \u001b[0;34m\"passthrough\"\u001b[0m\u001b[0;34m:\u001b[0m\u001b[0;34m\u001b[0m\u001b[0;34m\u001b[0m\u001b[0m\n",
      "\u001b[0;32m~/anaconda3/lib/python3.8/site-packages/sklearn/pipeline.py\u001b[0m in \u001b[0;36m_fit\u001b[0;34m(self, X, y, **fit_params_steps)\u001b[0m\n\u001b[1;32m    346\u001b[0m                 \u001b[0mcloned_transformer\u001b[0m \u001b[0;34m=\u001b[0m \u001b[0mclone\u001b[0m\u001b[0;34m(\u001b[0m\u001b[0mtransformer\u001b[0m\u001b[0;34m)\u001b[0m\u001b[0;34m\u001b[0m\u001b[0;34m\u001b[0m\u001b[0m\n\u001b[1;32m    347\u001b[0m             \u001b[0;31m# Fit or load from cache the current transformer\u001b[0m\u001b[0;34m\u001b[0m\u001b[0;34m\u001b[0m\u001b[0;34m\u001b[0m\u001b[0m\n\u001b[0;32m--> 348\u001b[0;31m             X, fitted_transformer = fit_transform_one_cached(\n\u001b[0m\u001b[1;32m    349\u001b[0m                 \u001b[0mcloned_transformer\u001b[0m\u001b[0;34m,\u001b[0m\u001b[0;34m\u001b[0m\u001b[0;34m\u001b[0m\u001b[0m\n\u001b[1;32m    350\u001b[0m                 \u001b[0mX\u001b[0m\u001b[0;34m,\u001b[0m\u001b[0;34m\u001b[0m\u001b[0;34m\u001b[0m\u001b[0m\n",
      "\u001b[0;32m~/anaconda3/lib/python3.8/site-packages/joblib/memory.py\u001b[0m in \u001b[0;36m__call__\u001b[0;34m(self, *args, **kwargs)\u001b[0m\n\u001b[1;32m    347\u001b[0m \u001b[0;34m\u001b[0m\u001b[0m\n\u001b[1;32m    348\u001b[0m     \u001b[0;32mdef\u001b[0m \u001b[0m__call__\u001b[0m\u001b[0;34m(\u001b[0m\u001b[0mself\u001b[0m\u001b[0;34m,\u001b[0m \u001b[0;34m*\u001b[0m\u001b[0margs\u001b[0m\u001b[0;34m,\u001b[0m \u001b[0;34m**\u001b[0m\u001b[0mkwargs\u001b[0m\u001b[0;34m)\u001b[0m\u001b[0;34m:\u001b[0m\u001b[0;34m\u001b[0m\u001b[0;34m\u001b[0m\u001b[0m\n\u001b[0;32m--> 349\u001b[0;31m         \u001b[0;32mreturn\u001b[0m \u001b[0mself\u001b[0m\u001b[0;34m.\u001b[0m\u001b[0mfunc\u001b[0m\u001b[0;34m(\u001b[0m\u001b[0;34m*\u001b[0m\u001b[0margs\u001b[0m\u001b[0;34m,\u001b[0m \u001b[0;34m**\u001b[0m\u001b[0mkwargs\u001b[0m\u001b[0;34m)\u001b[0m\u001b[0;34m\u001b[0m\u001b[0;34m\u001b[0m\u001b[0m\n\u001b[0m\u001b[1;32m    350\u001b[0m \u001b[0;34m\u001b[0m\u001b[0m\n\u001b[1;32m    351\u001b[0m     \u001b[0;32mdef\u001b[0m \u001b[0mcall_and_shelve\u001b[0m\u001b[0;34m(\u001b[0m\u001b[0mself\u001b[0m\u001b[0;34m,\u001b[0m \u001b[0;34m*\u001b[0m\u001b[0margs\u001b[0m\u001b[0;34m,\u001b[0m \u001b[0;34m**\u001b[0m\u001b[0mkwargs\u001b[0m\u001b[0;34m)\u001b[0m\u001b[0;34m:\u001b[0m\u001b[0;34m\u001b[0m\u001b[0;34m\u001b[0m\u001b[0m\n",
      "\u001b[0;32m~/anaconda3/lib/python3.8/site-packages/sklearn/pipeline.py\u001b[0m in \u001b[0;36m_fit_transform_one\u001b[0;34m(transformer, X, y, weight, message_clsname, message, **fit_params)\u001b[0m\n\u001b[1;32m    891\u001b[0m     \u001b[0;32mwith\u001b[0m \u001b[0m_print_elapsed_time\u001b[0m\u001b[0;34m(\u001b[0m\u001b[0mmessage_clsname\u001b[0m\u001b[0;34m,\u001b[0m \u001b[0mmessage\u001b[0m\u001b[0;34m)\u001b[0m\u001b[0;34m:\u001b[0m\u001b[0;34m\u001b[0m\u001b[0;34m\u001b[0m\u001b[0m\n\u001b[1;32m    892\u001b[0m         \u001b[0;32mif\u001b[0m \u001b[0mhasattr\u001b[0m\u001b[0;34m(\u001b[0m\u001b[0mtransformer\u001b[0m\u001b[0;34m,\u001b[0m \u001b[0;34m\"fit_transform\"\u001b[0m\u001b[0;34m)\u001b[0m\u001b[0;34m:\u001b[0m\u001b[0;34m\u001b[0m\u001b[0;34m\u001b[0m\u001b[0m\n\u001b[0;32m--> 893\u001b[0;31m             \u001b[0mres\u001b[0m \u001b[0;34m=\u001b[0m \u001b[0mtransformer\u001b[0m\u001b[0;34m.\u001b[0m\u001b[0mfit_transform\u001b[0m\u001b[0;34m(\u001b[0m\u001b[0mX\u001b[0m\u001b[0;34m,\u001b[0m \u001b[0my\u001b[0m\u001b[0;34m,\u001b[0m \u001b[0;34m**\u001b[0m\u001b[0mfit_params\u001b[0m\u001b[0;34m)\u001b[0m\u001b[0;34m\u001b[0m\u001b[0;34m\u001b[0m\u001b[0m\n\u001b[0m\u001b[1;32m    894\u001b[0m         \u001b[0;32melse\u001b[0m\u001b[0;34m:\u001b[0m\u001b[0;34m\u001b[0m\u001b[0;34m\u001b[0m\u001b[0m\n\u001b[1;32m    895\u001b[0m             \u001b[0mres\u001b[0m \u001b[0;34m=\u001b[0m \u001b[0mtransformer\u001b[0m\u001b[0;34m.\u001b[0m\u001b[0mfit\u001b[0m\u001b[0;34m(\u001b[0m\u001b[0mX\u001b[0m\u001b[0;34m,\u001b[0m \u001b[0my\u001b[0m\u001b[0;34m,\u001b[0m \u001b[0;34m**\u001b[0m\u001b[0mfit_params\u001b[0m\u001b[0;34m)\u001b[0m\u001b[0;34m.\u001b[0m\u001b[0mtransform\u001b[0m\u001b[0;34m(\u001b[0m\u001b[0mX\u001b[0m\u001b[0;34m)\u001b[0m\u001b[0;34m\u001b[0m\u001b[0;34m\u001b[0m\u001b[0m\n",
      "\u001b[0;32m~/anaconda3/lib/python3.8/site-packages/sklearn/base.py\u001b[0m in \u001b[0;36mfit_transform\u001b[0;34m(self, X, y, **fit_params)\u001b[0m\n\u001b[1;32m    848\u001b[0m         \u001b[0;32melse\u001b[0m\u001b[0;34m:\u001b[0m\u001b[0;34m\u001b[0m\u001b[0;34m\u001b[0m\u001b[0m\n\u001b[1;32m    849\u001b[0m             \u001b[0;31m# fit method of arity 2 (supervised transformation)\u001b[0m\u001b[0;34m\u001b[0m\u001b[0;34m\u001b[0m\u001b[0;34m\u001b[0m\u001b[0m\n\u001b[0;32m--> 850\u001b[0;31m             \u001b[0;32mreturn\u001b[0m \u001b[0mself\u001b[0m\u001b[0;34m.\u001b[0m\u001b[0mfit\u001b[0m\u001b[0;34m(\u001b[0m\u001b[0mX\u001b[0m\u001b[0;34m,\u001b[0m \u001b[0my\u001b[0m\u001b[0;34m,\u001b[0m \u001b[0;34m**\u001b[0m\u001b[0mfit_params\u001b[0m\u001b[0;34m)\u001b[0m\u001b[0;34m.\u001b[0m\u001b[0mtransform\u001b[0m\u001b[0;34m(\u001b[0m\u001b[0mX\u001b[0m\u001b[0;34m)\u001b[0m\u001b[0;34m\u001b[0m\u001b[0;34m\u001b[0m\u001b[0m\n\u001b[0m\u001b[1;32m    851\u001b[0m \u001b[0;34m\u001b[0m\u001b[0m\n\u001b[1;32m    852\u001b[0m \u001b[0;34m\u001b[0m\u001b[0m\n",
      "\u001b[0;32m~/anaconda3/lib/python3.8/site-packages/sklearn/preprocessing/_function_transformer.py\u001b[0m in \u001b[0;36mtransform\u001b[0;34m(self, X)\u001b[0m\n\u001b[1;32m    180\u001b[0m         \"\"\"\n\u001b[1;32m    181\u001b[0m         \u001b[0mX\u001b[0m \u001b[0;34m=\u001b[0m \u001b[0mself\u001b[0m\u001b[0;34m.\u001b[0m\u001b[0m_check_input\u001b[0m\u001b[0;34m(\u001b[0m\u001b[0mX\u001b[0m\u001b[0;34m,\u001b[0m \u001b[0mreset\u001b[0m\u001b[0;34m=\u001b[0m\u001b[0;32mFalse\u001b[0m\u001b[0;34m)\u001b[0m\u001b[0;34m\u001b[0m\u001b[0;34m\u001b[0m\u001b[0m\n\u001b[0;32m--> 182\u001b[0;31m         \u001b[0;32mreturn\u001b[0m \u001b[0mself\u001b[0m\u001b[0;34m.\u001b[0m\u001b[0m_transform\u001b[0m\u001b[0;34m(\u001b[0m\u001b[0mX\u001b[0m\u001b[0;34m,\u001b[0m \u001b[0mfunc\u001b[0m\u001b[0;34m=\u001b[0m\u001b[0mself\u001b[0m\u001b[0;34m.\u001b[0m\u001b[0mfunc\u001b[0m\u001b[0;34m,\u001b[0m \u001b[0mkw_args\u001b[0m\u001b[0;34m=\u001b[0m\u001b[0mself\u001b[0m\u001b[0;34m.\u001b[0m\u001b[0mkw_args\u001b[0m\u001b[0;34m)\u001b[0m\u001b[0;34m\u001b[0m\u001b[0;34m\u001b[0m\u001b[0m\n\u001b[0m\u001b[1;32m    183\u001b[0m \u001b[0;34m\u001b[0m\u001b[0m\n\u001b[1;32m    184\u001b[0m     \u001b[0;32mdef\u001b[0m \u001b[0minverse_transform\u001b[0m\u001b[0;34m(\u001b[0m\u001b[0mself\u001b[0m\u001b[0;34m,\u001b[0m \u001b[0mX\u001b[0m\u001b[0;34m)\u001b[0m\u001b[0;34m:\u001b[0m\u001b[0;34m\u001b[0m\u001b[0;34m\u001b[0m\u001b[0m\n",
      "\u001b[0;32m~/anaconda3/lib/python3.8/site-packages/sklearn/preprocessing/_function_transformer.py\u001b[0m in \u001b[0;36m_transform\u001b[0;34m(self, X, func, kw_args)\u001b[0m\n\u001b[1;32m    203\u001b[0m             \u001b[0mfunc\u001b[0m \u001b[0;34m=\u001b[0m \u001b[0m_identity\u001b[0m\u001b[0;34m\u001b[0m\u001b[0;34m\u001b[0m\u001b[0m\n\u001b[1;32m    204\u001b[0m \u001b[0;34m\u001b[0m\u001b[0m\n\u001b[0;32m--> 205\u001b[0;31m         \u001b[0;32mreturn\u001b[0m \u001b[0mfunc\u001b[0m\u001b[0;34m(\u001b[0m\u001b[0mX\u001b[0m\u001b[0;34m,\u001b[0m \u001b[0;34m**\u001b[0m\u001b[0;34m(\u001b[0m\u001b[0mkw_args\u001b[0m \u001b[0;32mif\u001b[0m \u001b[0mkw_args\u001b[0m \u001b[0;32melse\u001b[0m \u001b[0;34m{\u001b[0m\u001b[0;34m}\u001b[0m\u001b[0;34m)\u001b[0m\u001b[0;34m)\u001b[0m\u001b[0;34m\u001b[0m\u001b[0;34m\u001b[0m\u001b[0m\n\u001b[0m\u001b[1;32m    206\u001b[0m \u001b[0;34m\u001b[0m\u001b[0m\n\u001b[1;32m    207\u001b[0m     \u001b[0;32mdef\u001b[0m \u001b[0m__sklearn_is_fitted__\u001b[0m\u001b[0;34m(\u001b[0m\u001b[0mself\u001b[0m\u001b[0;34m)\u001b[0m\u001b[0;34m:\u001b[0m\u001b[0;34m\u001b[0m\u001b[0;34m\u001b[0m\u001b[0m\n",
      "\u001b[0;32m/tmp/ipykernel_43109/653543545.py\u001b[0m in \u001b[0;36mEvery_Nth_Value\u001b[0;34m(y, nth)\u001b[0m\n\u001b[1;32m     11\u001b[0m     \u001b[0;32mfor\u001b[0m \u001b[0mrow\u001b[0m \u001b[0;32min\u001b[0m \u001b[0my\u001b[0m\u001b[0;34m:\u001b[0m\u001b[0;34m\u001b[0m\u001b[0;34m\u001b[0m\u001b[0m\n\u001b[1;32m     12\u001b[0m         \u001b[0;31m#row[:] = row[::nth]\u001b[0m\u001b[0;34m\u001b[0m\u001b[0;34m\u001b[0m\u001b[0;34m\u001b[0m\u001b[0m\n\u001b[0;32m---> 13\u001b[0;31m         \u001b[0mrow\u001b[0m \u001b[0;34m=\u001b[0m \u001b[0mnp\u001b[0m\u001b[0;34m.\u001b[0m\u001b[0mdelete\u001b[0m\u001b[0;34m(\u001b[0m\u001b[0mrow\u001b[0m\u001b[0;34m,\u001b[0m \u001b[0mnp\u001b[0m\u001b[0;34m.\u001b[0m\u001b[0marange\u001b[0m\u001b[0;34m(\u001b[0m\u001b[0;32mNone\u001b[0m\u001b[0;34m,\u001b[0m \u001b[0;32mNone\u001b[0m\u001b[0;34m,\u001b[0m \u001b[0mnth\u001b[0m\u001b[0;34m)\u001b[0m\u001b[0;34m)\u001b[0m\u001b[0;34m\u001b[0m\u001b[0;34m\u001b[0m\u001b[0m\n\u001b[0m\u001b[1;32m     14\u001b[0m \u001b[0;34m\u001b[0m\u001b[0m\n\u001b[1;32m     15\u001b[0m     \u001b[0;32mreturn\u001b[0m \u001b[0my\u001b[0m\u001b[0;34m\u001b[0m\u001b[0;34m\u001b[0m\u001b[0m\n",
      "\u001b[0;31mTypeError\u001b[0m: unsupported operand type(s) for -: 'NoneType' and 'int'"
     ]
    }
   ],
   "source": [
    "pipe.fit(miniXtrain, miniytrain)"
   ]
  },
  {
   "cell_type": "markdown",
   "id": "7b292f5e-c715-4106-9fe3-63ebc113872a",
   "metadata": {},
   "source": [
    "## Using Every_Nth on a nested dataframe removes every nth COLUMN, not every nth DATAPOINT;\n",
    "### This is my attemot to fix!"
   ]
  },
  {
   "cell_type": "code",
   "execution_count": 25,
   "id": "bd6752c4-5662-41cd-bb28-ac2facbd1d00",
   "metadata": {},
   "outputs": [
    {
     "data": {
      "text/plain": [
       "array([[2.6676536e+03, 2.6655479e+03, 2.6676201e+03, ..., 2.6671768e+03,\n",
       "        2.6650269e+03, 2.6726589e+03],\n",
       "       [6.4500504e+01, 6.0147106e+01, 6.4060493e+01, ..., 6.0992054e+01,\n",
       "        6.1895298e+01, 6.5518791e+01],\n",
       "       [1.3567809e+04, 1.3572647e+04, 1.3554360e+04, ..., 1.3562414e+04,\n",
       "        1.3607798e+04, 1.3531218e+04],\n",
       "       ...,\n",
       "       [5.9423371e+04, 5.9394555e+04, 5.9418496e+04, ..., 5.9405496e+04,\n",
       "        5.9440094e+04, 5.9456051e+04],\n",
       "       [2.3478081e+05, 2.3455773e+05, 2.3558998e+05, ..., 2.3511486e+05,\n",
       "        2.3510678e+05, 2.3480664e+05],\n",
       "       [4.7179578e+04, 4.7236531e+04, 4.7258133e+04, ..., 4.7205141e+04,\n",
       "        4.7223762e+04, 4.7193320e+04]], dtype=float32)"
      ]
     },
     "execution_count": 25,
     "metadata": {},
     "output_type": "execute_result"
    }
   ],
   "source": [
    "Xtrain"
   ]
  },
  {
   "cell_type": "code",
   "execution_count": 33,
   "id": "c09d8784-d0d8-4f69-8d9a-73e9d7c10b2d",
   "metadata": {
    "collapsed": true,
    "jupyter": {
     "outputs_hidden": true
    },
    "tags": []
   },
   "outputs": [
    {
     "name": "stdout",
     "output_type": "stream",
     "text": [
      "Every Nth Value\n"
     ]
    },
    {
     "data": {
      "text/html": [
       "<div>\n",
       "<style scoped>\n",
       "    .dataframe tbody tr th:only-of-type {\n",
       "        vertical-align: middle;\n",
       "    }\n",
       "\n",
       "    .dataframe tbody tr th {\n",
       "        vertical-align: top;\n",
       "    }\n",
       "\n",
       "    .dataframe thead th {\n",
       "        text-align: right;\n",
       "    }\n",
       "</style>\n",
       "<table border=\"1\" class=\"dataframe\">\n",
       "  <thead>\n",
       "    <tr style=\"text-align: right;\">\n",
       "      <th></th>\n",
       "      <th>0</th>\n",
       "    </tr>\n",
       "  </thead>\n",
       "  <tbody>\n",
       "    <tr>\n",
       "      <th>8816</th>\n",
       "      <td>0        2667.653564\n",
       "1        2665.547852\n",
       "2   ...</td>\n",
       "    </tr>\n",
       "    <tr>\n",
       "      <th>26</th>\n",
       "      <td>0        10155.880859\n",
       "1        10100.121094\n",
       "2 ...</td>\n",
       "    </tr>\n",
       "    <tr>\n",
       "      <th>8810</th>\n",
       "      <td>0        275.919403\n",
       "1        270.289001\n",
       "2     ...</td>\n",
       "    </tr>\n",
       "    <tr>\n",
       "      <th>4302</th>\n",
       "      <td>0        15592.483398\n",
       "1        15585.524414\n",
       "2 ...</td>\n",
       "    </tr>\n",
       "    <tr>\n",
       "      <th>6144</th>\n",
       "      <td>0        67675.625000\n",
       "1        67521.695312\n",
       "2 ...</td>\n",
       "    </tr>\n",
       "    <tr>\n",
       "      <th>...</th>\n",
       "      <td>...</td>\n",
       "    </tr>\n",
       "    <tr>\n",
       "      <th>7777</th>\n",
       "      <td>0        23350.113281\n",
       "1        23359.029297\n",
       "2 ...</td>\n",
       "    </tr>\n",
       "    <tr>\n",
       "      <th>5575</th>\n",
       "      <td>0        64565.648438\n",
       "1        64446.183594\n",
       "2 ...</td>\n",
       "    </tr>\n",
       "    <tr>\n",
       "      <th>7385</th>\n",
       "      <td>0        55137.886719\n",
       "1        55187.375000\n",
       "2 ...</td>\n",
       "    </tr>\n",
       "    <tr>\n",
       "      <th>6439</th>\n",
       "      <td>0        28503.615234\n",
       "1        28385.777344\n",
       "2 ...</td>\n",
       "    </tr>\n",
       "    <tr>\n",
       "      <th>2047</th>\n",
       "      <td>0        26321.744141\n",
       "1        26363.009766\n",
       "2 ...</td>\n",
       "    </tr>\n",
       "  </tbody>\n",
       "</table>\n",
       "<p>172 rows × 1 columns</p>\n",
       "</div>"
      ],
      "text/plain": [
       "                                                      0\n",
       "8816  0        2667.653564\n",
       "1        2665.547852\n",
       "2   ...\n",
       "26    0        10155.880859\n",
       "1        10100.121094\n",
       "2 ...\n",
       "8810  0        275.919403\n",
       "1        270.289001\n",
       "2     ...\n",
       "4302  0        15592.483398\n",
       "1        15585.524414\n",
       "2 ...\n",
       "6144  0        67675.625000\n",
       "1        67521.695312\n",
       "2 ...\n",
       "...                                                 ...\n",
       "7777  0        23350.113281\n",
       "1        23359.029297\n",
       "2 ...\n",
       "5575  0        64565.648438\n",
       "1        64446.183594\n",
       "2 ...\n",
       "7385  0        55137.886719\n",
       "1        55187.375000\n",
       "2 ...\n",
       "6439  0        28503.615234\n",
       "1        28385.777344\n",
       "2 ...\n",
       "2047  0        26321.744141\n",
       "1        26363.009766\n",
       "2 ...\n",
       "\n",
       "[172 rows x 1 columns]"
      ]
     },
     "execution_count": 33,
     "metadata": {},
     "output_type": "execute_result"
    }
   ],
   "source": [
    "X_ = Every_Nth_Value(Xtrain)\n",
    "X_"
   ]
  },
  {
   "cell_type": "markdown",
   "id": "56a5de39-2ec8-4ea4-aa43-e9d2405d0602",
   "metadata": {},
   "source": [
    "Note: 172 ROWS instead of 6865 ROWS; each row still has same number of datapoints\n",
    "\n",
    "Current theory:\n",
    "* de-nest\n",
    "* remove every nth column\n",
    "* re-nest"
   ]
  },
  {
   "cell_type": "code",
   "execution_count": 5,
   "id": "4ef897fa-5299-4d38-a543-7f5142695b9d",
   "metadata": {},
   "outputs": [],
   "source": [
    "def EveryNthNested(y,nth=40):\n",
    "    # De-nest\n",
    "    y_ = from_nested_to_2d_array(y,True)\n",
    "    \n",
    "    # Subsample\n",
    "    y_ = y_[:,::nth]\n",
    "    \n",
    "    # Re-nest\n",
    "    y_ = from_2d_array_to_nested(y_)\n",
    "    \n",
    "    # Return\n",
    "    return y_"
   ]
  },
  {
   "cell_type": "code",
   "execution_count": 7,
   "id": "92096eab-5006-4c1f-87cf-1026cc4cd97c",
   "metadata": {},
   "outputs": [
    {
     "data": {
      "text/html": [
       "<div>\n",
       "<style scoped>\n",
       "    .dataframe tbody tr th:only-of-type {\n",
       "        vertical-align: middle;\n",
       "    }\n",
       "\n",
       "    .dataframe tbody tr th {\n",
       "        vertical-align: top;\n",
       "    }\n",
       "\n",
       "    .dataframe thead th {\n",
       "        text-align: right;\n",
       "    }\n",
       "</style>\n",
       "<table border=\"1\" class=\"dataframe\">\n",
       "  <thead>\n",
       "    <tr style=\"text-align: right;\">\n",
       "      <th></th>\n",
       "      <th>0</th>\n",
       "    </tr>\n",
       "  </thead>\n",
       "  <tbody>\n",
       "    <tr>\n",
       "      <th>0</th>\n",
       "      <td>0      2667.653564\n",
       "1      2666.842529\n",
       "2      2...</td>\n",
       "    </tr>\n",
       "    <tr>\n",
       "      <th>1</th>\n",
       "      <td>0      64.500504\n",
       "1      66.167274\n",
       "2      65.67...</td>\n",
       "    </tr>\n",
       "    <tr>\n",
       "      <th>2</th>\n",
       "      <td>0      13567.808594\n",
       "1      13527.958008\n",
       "2     ...</td>\n",
       "    </tr>\n",
       "    <tr>\n",
       "      <th>3</th>\n",
       "      <td>0      16274.025391\n",
       "1      16289.065430\n",
       "2     ...</td>\n",
       "    </tr>\n",
       "    <tr>\n",
       "      <th>4</th>\n",
       "      <td>0      70679.109375\n",
       "1      70648.226562\n",
       "2     ...</td>\n",
       "    </tr>\n",
       "    <tr>\n",
       "      <th>...</th>\n",
       "      <td>...</td>\n",
       "    </tr>\n",
       "    <tr>\n",
       "      <th>6860</th>\n",
       "      <td>0      108310.476562\n",
       "1      107993.578125\n",
       "2   ...</td>\n",
       "    </tr>\n",
       "    <tr>\n",
       "      <th>6861</th>\n",
       "      <td>0      242.809174\n",
       "1      246.112396\n",
       "2      239...</td>\n",
       "    </tr>\n",
       "    <tr>\n",
       "      <th>6862</th>\n",
       "      <td>0      59423.371094\n",
       "1      59436.429688\n",
       "2     ...</td>\n",
       "    </tr>\n",
       "    <tr>\n",
       "      <th>6863</th>\n",
       "      <td>0      234780.812500\n",
       "1      236407.375000\n",
       "2   ...</td>\n",
       "    </tr>\n",
       "    <tr>\n",
       "      <th>6864</th>\n",
       "      <td>0      47179.578125\n",
       "1      47201.195312\n",
       "2     ...</td>\n",
       "    </tr>\n",
       "  </tbody>\n",
       "</table>\n",
       "<p>6865 rows × 1 columns</p>\n",
       "</div>"
      ],
      "text/plain": [
       "                                                      0\n",
       "0     0      2667.653564\n",
       "1      2666.842529\n",
       "2      2...\n",
       "1     0      64.500504\n",
       "1      66.167274\n",
       "2      65.67...\n",
       "2     0      13567.808594\n",
       "1      13527.958008\n",
       "2     ...\n",
       "3     0      16274.025391\n",
       "1      16289.065430\n",
       "2     ...\n",
       "4     0      70679.109375\n",
       "1      70648.226562\n",
       "2     ...\n",
       "...                                                 ...\n",
       "6860  0      108310.476562\n",
       "1      107993.578125\n",
       "2   ...\n",
       "6861  0      242.809174\n",
       "1      246.112396\n",
       "2      239...\n",
       "6862  0      59423.371094\n",
       "1      59436.429688\n",
       "2     ...\n",
       "6863  0      234780.812500\n",
       "1      236407.375000\n",
       "2   ...\n",
       "6864  0      47179.578125\n",
       "1      47201.195312\n",
       "2     ...\n",
       "\n",
       "[6865 rows x 1 columns]"
      ]
     },
     "execution_count": 7,
     "metadata": {},
     "output_type": "execute_result"
    }
   ],
   "source": [
    "X__ = EveryNthNested(Xtrain)\n",
    "X__"
   ]
  },
  {
   "cell_type": "code",
   "execution_count": 117,
   "id": "08b6c339-8eb2-4950-a954-bfd6960820b2",
   "metadata": {},
   "outputs": [
    {
     "data": {
      "text/plain": [
       "array([[5934.8354, 6033.544 , 5957.0825, ..., 5938.8906, 6016.2983,\n",
       "        5977.3477],\n",
       "       [5934.8354, 6033.544 , 5957.0825, ..., 5938.8906, 6016.2983,\n",
       "        5977.3477],\n",
       "       [5934.8354, 6033.544 , 5957.0825, ..., 5938.8906, 6016.2983,\n",
       "        5977.3477],\n",
       "       [5934.8354, 6033.544 , 5957.0825, ..., 5938.8906, 6016.2983,\n",
       "        5977.3477],\n",
       "       [5934.8354, 6033.544 , 5957.0825, ..., 5938.8906, 6016.2983,\n",
       "        5977.3477],\n",
       "       [5934.8354, 6033.544 , 5957.0825, ..., 5938.8906, 6016.2983,\n",
       "        5977.3477]], dtype=float32)"
      ]
     },
     "execution_count": 117,
     "metadata": {},
     "output_type": "execute_result"
    }
   ],
   "source": [
    "test2 = masterX[:6]\n",
    "test2 = test2[:,::40]\n",
    "test2"
   ]
  },
  {
   "cell_type": "code",
   "execution_count": 118,
   "id": "8d7b6b78-cf4e-4f77-a0bc-db92e1e0c37e",
   "metadata": {},
   "outputs": [
    {
     "data": {
      "text/plain": [
       "509"
      ]
     },
     "execution_count": 118,
     "metadata": {},
     "output_type": "execute_result"
    }
   ],
   "source": [
    "len(test2[0])"
   ]
  },
  {
   "cell_type": "code",
   "execution_count": 56,
   "id": "e3eaca36-a93a-43cd-a6a5-e2c0fdfec045",
   "metadata": {},
   "outputs": [
    {
     "name": "stdout",
     "output_type": "stream",
     "text": [
      "100\n"
     ]
    },
    {
     "data": {
      "text/plain": [
       "[0.0, 40.0, 80.0]"
      ]
     },
     "execution_count": 56,
     "metadata": {},
     "output_type": "execute_result"
    }
   ],
   "source": [
    "test = np.linspace(0,100,100,False)\n",
    "print(len(test))\n",
    "[k for i, k in enumerate(test) if i % 40 == 0]"
   ]
  },
  {
   "cell_type": "code",
   "execution_count": 142,
   "id": "011d36e6-b4b8-47ad-9b39-9f0e5096e24f",
   "metadata": {},
   "outputs": [
    {
     "name": "stdout",
     "output_type": "stream",
     "text": [
      "INITIAL shape of x is (6865, 20338); INITIAL type of x is <class 'numpy.ndarray'>\n",
      "newX generated; curr shape is (6865,) and current dtype is object\n"
     ]
    },
    {
     "data": {
      "text/plain": [
       "array([array([49781.81 , 49781.574, 49794.18 , ..., 49749.12 , 49668.13 ,\n",
       "              49753.5  ], dtype=float32)                                 ,\n",
       "       array([56270.883, 56270.332, 56284.406, ..., 56234.746, 56143.965,\n",
       "              56239.133], dtype=float32)                                 ,\n",
       "       array([63001.887, 63001.035, 63016.625, ..., 62962.152, 62861.027,\n",
       "              62966.625], dtype=float32)                                 ,\n",
       "       ...,\n",
       "       array([36622.816, 36447.844, 36114.363, ..., 33483.43 , 33472.086,\n",
       "              33623.75 ], dtype=float32)                                 ,\n",
       "       array([35169.773, 34995.96 , 34661.74 , ..., 32110.855, 32098.975,\n",
       "              32250.125], dtype=float32)                                 ,\n",
       "       array([33710.098, 33538.055, 33204.152, ..., 30737.941, 30725.61 ,\n",
       "              30875.78 ], dtype=float32)                                 ],\n",
       "      dtype=object)"
      ]
     },
     "execution_count": 142,
     "metadata": {},
     "output_type": "execute_result"
    }
   ],
   "source": [
    "xtr = FilterMyData(Xtrain)\n",
    "#xtr = xtr.astype('float32')\n",
    "xtr"
   ]
  },
  {
   "cell_type": "code",
   "execution_count": 143,
   "id": "c511a053-5d24-48d7-a522-20e8438d073f",
   "metadata": {},
   "outputs": [
    {
     "name": "stdout",
     "output_type": "stream",
     "text": [
      "float32\n"
     ]
    },
    {
     "data": {
      "text/plain": [
       "array([[49781.81 , 49781.574, 49794.18 , ..., 49749.12 , 49668.13 ,\n",
       "        49753.5  ],\n",
       "       [56270.883, 56270.332, 56284.406, ..., 56234.746, 56143.965,\n",
       "        56239.133],\n",
       "       [63001.887, 63001.035, 63016.625, ..., 62962.152, 62861.027,\n",
       "        62966.625],\n",
       "       ...,\n",
       "       [36622.816, 36447.844, 36114.363, ..., 33483.43 , 33472.086,\n",
       "        33623.75 ],\n",
       "       [35169.773, 34995.96 , 34661.74 , ..., 32110.855, 32098.975,\n",
       "        32250.125],\n",
       "       [33710.098, 33538.055, 33204.152, ..., 30737.941, 30725.61 ,\n",
       "        30875.78 ]], dtype=float32)"
      ]
     },
     "execution_count": 143,
     "metadata": {},
     "output_type": "execute_result"
    }
   ],
   "source": [
    "float_arr = np.vstack(xtr[:,]).astype('float32')\n",
    "print(float_arr.dtype)\n",
    "float_arr"
   ]
  },
  {
   "cell_type": "code",
   "execution_count": 144,
   "id": "5c6e7f92-d478-4114-aebb-0b8e009adebe",
   "metadata": {},
   "outputs": [],
   "source": [
    "xf = from_2d_array_to_nested(float_arr)"
   ]
  },
  {
   "cell_type": "code",
   "execution_count": 145,
   "id": "668ddbd1-9d26-408f-ba61-9fe6b3b6eeae",
   "metadata": {},
   "outputs": [
    {
     "data": {
      "text/html": [
       "<div>\n",
       "<style scoped>\n",
       "    .dataframe tbody tr th:only-of-type {\n",
       "        vertical-align: middle;\n",
       "    }\n",
       "\n",
       "    .dataframe tbody tr th {\n",
       "        vertical-align: top;\n",
       "    }\n",
       "\n",
       "    .dataframe thead th {\n",
       "        text-align: right;\n",
       "    }\n",
       "</style>\n",
       "<table border=\"1\" class=\"dataframe\">\n",
       "  <thead>\n",
       "    <tr style=\"text-align: right;\">\n",
       "      <th></th>\n",
       "      <th>0</th>\n",
       "    </tr>\n",
       "  </thead>\n",
       "  <tbody>\n",
       "    <tr>\n",
       "      <th>0</th>\n",
       "      <td>0        49781.808594\n",
       "1        49781.574219\n",
       "2 ...</td>\n",
       "    </tr>\n",
       "    <tr>\n",
       "      <th>1</th>\n",
       "      <td>0        56270.882812\n",
       "1        56270.332031\n",
       "2 ...</td>\n",
       "    </tr>\n",
       "    <tr>\n",
       "      <th>2</th>\n",
       "      <td>0        63001.886719\n",
       "1        63001.035156\n",
       "2 ...</td>\n",
       "    </tr>\n",
       "    <tr>\n",
       "      <th>3</th>\n",
       "      <td>0        69913.664062\n",
       "1        69912.539062\n",
       "2 ...</td>\n",
       "    </tr>\n",
       "    <tr>\n",
       "      <th>4</th>\n",
       "      <td>0        76937.351562\n",
       "1        76936.000000\n",
       "2 ...</td>\n",
       "    </tr>\n",
       "    <tr>\n",
       "      <th>...</th>\n",
       "      <td>...</td>\n",
       "    </tr>\n",
       "    <tr>\n",
       "      <th>6860</th>\n",
       "      <td>0        39387.917969\n",
       "1        39213.664062\n",
       "2 ...</td>\n",
       "    </tr>\n",
       "    <tr>\n",
       "      <th>6861</th>\n",
       "      <td>0        38036.839844\n",
       "1        37861.613281\n",
       "2 ...</td>\n",
       "    </tr>\n",
       "    <tr>\n",
       "      <th>6862</th>\n",
       "      <td>0        36622.816406\n",
       "1        36447.843750\n",
       "2 ...</td>\n",
       "    </tr>\n",
       "    <tr>\n",
       "      <th>6863</th>\n",
       "      <td>0        35169.773438\n",
       "1        34995.960938\n",
       "2 ...</td>\n",
       "    </tr>\n",
       "    <tr>\n",
       "      <th>6864</th>\n",
       "      <td>0        33710.097656\n",
       "1        33538.054688\n",
       "2 ...</td>\n",
       "    </tr>\n",
       "  </tbody>\n",
       "</table>\n",
       "<p>6865 rows × 1 columns</p>\n",
       "</div>"
      ],
      "text/plain": [
       "                                                      0\n",
       "0     0        49781.808594\n",
       "1        49781.574219\n",
       "2 ...\n",
       "1     0        56270.882812\n",
       "1        56270.332031\n",
       "2 ...\n",
       "2     0        63001.886719\n",
       "1        63001.035156\n",
       "2 ...\n",
       "3     0        69913.664062\n",
       "1        69912.539062\n",
       "2 ...\n",
       "4     0        76937.351562\n",
       "1        76936.000000\n",
       "2 ...\n",
       "...                                                 ...\n",
       "6860  0        39387.917969\n",
       "1        39213.664062\n",
       "2 ...\n",
       "6861  0        38036.839844\n",
       "1        37861.613281\n",
       "2 ...\n",
       "6862  0        36622.816406\n",
       "1        36447.843750\n",
       "2 ...\n",
       "6863  0        35169.773438\n",
       "1        34995.960938\n",
       "2 ...\n",
       "6864  0        33710.097656\n",
       "1        33538.054688\n",
       "2 ...\n",
       "\n",
       "[6865 rows x 1 columns]"
      ]
     },
     "execution_count": 145,
     "metadata": {},
     "output_type": "execute_result"
    }
   ],
   "source": [
    "xf"
   ]
  },
  {
   "cell_type": "code",
   "execution_count": null,
   "id": "b3136a2b-1fdb-4c5c-a4eb-a28aaa6d000f",
   "metadata": {},
   "outputs": [],
   "source": []
  }
 ],
 "metadata": {
  "kernelspec": {
   "display_name": "Python 3 (ipykernel)",
   "language": "python",
   "name": "python3"
  },
  "language_info": {
   "codemirror_mode": {
    "name": "ipython",
    "version": 3
   },
   "file_extension": ".py",
   "mimetype": "text/x-python",
   "name": "python",
   "nbconvert_exporter": "python",
   "pygments_lexer": "ipython3",
   "version": "3.8.12"
  }
 },
 "nbformat": 4,
 "nbformat_minor": 5
}
