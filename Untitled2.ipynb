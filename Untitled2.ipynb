{
 "cells": [
  {
   "cell_type": "code",
   "execution_count": 7,
   "id": "519dc2b0-6410-4bdd-a8da-72c447a09ee3",
   "metadata": {},
   "outputs": [
    {
     "name": "stdout",
     "output_type": "stream",
     "text": [
      "0.1 0.29\n",
      "0.2 0.5599999999999999\n",
      "0.3 0.81\n",
      "0.4 1.04\n",
      "0.5 1.25\n",
      "0.6 1.44\n",
      "0.7 1.6099999999999999\n",
      "0.8 1.7600000000000002\n",
      "0.9 1.8900000000000001\n",
      "1.0 2.0\n"
     ]
    }
   ],
   "source": [
    "def LOOP(n):\n",
    "    return (n*(3-n))\n",
    "\n",
    "x = [0.1,0.2,0.3,0.4,0.5,0.6,0.7,0.8,0.9,1.0]\n",
    "\n",
    "for i in x:\n",
    "    print(i,LOOP(i))"
   ]
  },
  {
   "cell_type": "code",
   "execution_count": null,
   "id": "81234045-ca46-4db3-9308-d82410e4c5dd",
   "metadata": {},
   "outputs": [],
   "source": []
  }
 ],
 "metadata": {
  "kernelspec": {
   "display_name": "Python 3 (ipykernel)",
   "language": "python",
   "name": "python3"
  },
  "language_info": {
   "codemirror_mode": {
    "name": "ipython",
    "version": 3
   },
   "file_extension": ".py",
   "mimetype": "text/x-python",
   "name": "python",
   "nbconvert_exporter": "python",
   "pygments_lexer": "ipython3",
   "version": "3.8.12"
  }
 },
 "nbformat": 4,
 "nbformat_minor": 5
}
