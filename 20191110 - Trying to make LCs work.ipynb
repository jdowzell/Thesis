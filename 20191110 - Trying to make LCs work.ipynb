{
 "cells": [
  {
   "cell_type": "code",
   "execution_count": 1,
   "metadata": {
    "collapsed": true
   },
   "outputs": [],
   "source": [
    "# Scientific imports\n",
    "\n",
    "%matplotlib inline\n",
    "from astropy.io import fits\n",
    "import matplotlib.pyplot as plt\n",
    "import numpy as np\n",
    "from astroquery.mast import Observations\n",
    "from astroquery.mast import Catalogs\n",
    "\n",
    "# General imports\n",
    "\n",
    "import csv, math, os, os.path, sys\n",
    "import pandas as pd\n",
    "import seaborn as sb\n",
    "from sklearn import metrics\n",
    "from IPython.display import display\n",
    "sb.set()"
   ]
  },
  {
   "cell_type": "code",
   "execution_count": 2,
   "metadata": {
    "collapsed": true
   },
   "outputs": [],
   "source": [
    "# %load data-header-check.py\n",
    "def dataAndHeaderCheck(f, log=False):\n",
    "    \"\"\"\n",
    "    A function to make sure that all headers required for plotting a Light Curve\n",
    "    are present, and alert the user if any are missing (and which ones).\n",
    "    \n",
    "    Input parameter (f) should be a path to a FITS file (local, cloud, etc)\n",
    "    Input parameter (log) displays the printouts IFF set to True\n",
    "    \"\"\"\n",
    "    \n",
    "    # Flags\n",
    "    allStellar = True\n",
    "    allFitPara = True\n",
    "    allFitData = True\n",
    "    \n",
    "    # List of needed headers\n",
    "    stellar_params = ['TEFF', 'LOGG', 'TESSMAG']\n",
    "    \n",
    "    fit_params = ['TPERIOD', 'TDUR', 'TEPOCH', 'TDEPTH']\n",
    "    \n",
    "    fit_data = ['TIME', 'PHASE', 'LC_INIT', 'MODEL_INIT']\n",
    "    \n",
    "    # FITS Headers\n",
    "    fh0 = fits.getheader(f, ext=0)\n",
    "    fh1 = fits.getheader(f, ext=1)\n",
    "    \n",
    "    # FITS Columns\n",
    "    fc = fits.getdata(f).columns\n",
    "    \n",
    "    # Loop through all headers and see if they are present using a Try/Except block\n",
    "    if(log):\n",
    "        print(\"Testing to see if all relevant information is present...\")\n",
    "    \n",
    "    # First, the Stellar Parameters block\n",
    "    for i in range (len(stellar_params)):\n",
    "        try:\n",
    "            fh0[stellar_params[i]]\n",
    "        except:\n",
    "            if(log):\n",
    "                print(\"\\tHeader {} not present!\".format(stellar_params[i]))\n",
    "            allStellar = False\n",
    "    if(allStellar & log):\n",
    "        print(\"\\tAll Stellar Parameters present\")\n",
    "    \n",
    "    # Next, the Fit Parameters block\n",
    "    for i in range (len(fit_params)):\n",
    "        try:\n",
    "            fh1[fit_params[i]]\n",
    "        except:\n",
    "            if(log):\n",
    "                print(\"\\tFit Parameter {} not present!\".format(fit_params[i]))\n",
    "            allFitPara = False\n",
    "    if(allFitPara & log):\n",
    "        print(\"\\tAll Fit Parameters present\")\n",
    "            \n",
    "    # Lastly, the Fit Data block\n",
    "    for i in range (len(fit_data)):\n",
    "        try:\n",
    "            fc[fit_data[i]]\n",
    "        except:\n",
    "            if(log):\n",
    "                print(\"\\tFit Data {} not present!\".format(fit_data[i]))\n",
    "            allFitData = False\n",
    "    if(allFitData & log):\n",
    "        print(\"\\tAll Fit Data present\")\n",
    "        \n",
    "    #allgood = (allStellar & allFitPara & allFitData)\n",
    "    return (allStellar & allFitPara & allFitData)\n"
   ]
  },
  {
   "cell_type": "markdown",
   "metadata": {},
   "source": [
    "So we need to check to see if there is _any_ variable including the name \"epoch\" and \"phase\" etc in the headers (be them TEPOCH, KEPOCH, etc)"
   ]
  },
  {
   "cell_type": "code",
   "execution_count": 3,
   "metadata": {},
   "outputs": [
    {
     "name": "stdout",
     "output_type": "stream",
     "text": [
      "Number of FITS files: 28\n"
     ]
    }
   ],
   "source": [
    "fitsList = []\n",
    "fits_directories = [x[0] for x in os.walk('.')]\n",
    "\n",
    "for fits_root, fits_dirs, fits_files in os.walk('.'):\n",
    "    for fits_file in fits_files:\n",
    "        fullpath = os.path.join(fits_root, fits_file)\n",
    "        if (os.path.splitext(fullpath.lower())[1]).endswith('.fits'):\n",
    "            fitsList.append(fullpath)\n",
    "print(\"Number of FITS files: {}\".format(len(fitsList)))"
   ]
  },
  {
   "cell_type": "markdown",
   "metadata": {},
   "source": [
    "Below is a string-matching library/function to check the similarity of strings"
   ]
  },
  {
   "cell_type": "code",
   "execution_count": 4,
   "metadata": {
    "collapsed": true
   },
   "outputs": [],
   "source": [
    "from difflib import SequenceMatcher\n",
    "\n",
    "def checkSimilar(a, b):\n",
    "    return SequenceMatcher(None, a.upper(), b.upper()).ratio()"
   ]
  },
  {
   "cell_type": "markdown",
   "metadata": {},
   "source": [
    "Using (https://docs.astropy.org/en/stable/io/fits/)[this page for source], we can see that using `list(X.keys())` will display a list of all of the identities in this list.\n",
    "\n",
    "For example, `fits.getheader(fitsList[0], ext=0)[0]` is the same as `fits.getheader(fitsList[0], ext=0)['SIMPLE']`, i.e. the `[0]` is the same as `['SIMPLE']`, and using either will give us the _value_ of the item, but not the actual item _name_ itself; `list(X.keys())` gives us this list"
   ]
  },
  {
   "cell_type": "raw",
   "metadata": {},
   "source": [
    "# Just storing some info in arrays to make it easy to cycle thru all of them quickly\n",
    "\n",
    "x=[0]*3\n",
    "x[0]=fits.getheader(fitsList[1], ext=0)\n",
    "x[1]=fits.getheader(fitsList[1], ext=1)\n",
    "x[2]=fits.getheader(fitsList[1], ext=2)\n",
    "\n",
    "X = [0]*3\n",
    "X[0] = list(x[0].keys())\n",
    "X[1] = list(x[1].keys())\n",
    "X[2] = list(x[2].keys())"
   ]
  },
  {
   "cell_type": "raw",
   "metadata": {},
   "source": [
    "for j in X:\n",
    "    for i in j:\n",
    "        threshold = 0.75\n",
    "        tmp = checkSimilar(i, \"PERIOD\")\n",
    "        if tmp >= threshold:\n",
    "            print (\"{} = {}\".format(i, tmp))"
   ]
  },
  {
   "cell_type": "code",
   "execution_count": 5,
   "metadata": {
    "collapsed": true
   },
   "outputs": [],
   "source": [
    "def fitsSearch(terms, fList):\n",
    "    for k in range(len(fList)):\n",
    "        # Each \"i\" is just an array index\n",
    "        \n",
    "        print(\"fitsList[{}]:\".format(k))\n",
    "        \n",
    "        fitsHeadList = []\n",
    "        fitsHeadList.extend([fits.getheader(fList[k], ext=0)])\n",
    "        fitsHeadList.extend([fits.getheader(fList[k], ext=1)])\n",
    "        \n",
    "        fitsKeyList = []\n",
    "        fitsKeyList.extend([list(fitsHeadList[0].keys())])\n",
    "        fitsKeyList.extend([list(fitsHeadList[1].keys())])\n",
    "        \n",
    "        for keyList in fitsKeyList:\n",
    "            for key in keyList:\n",
    "                threshold = 0.73\n",
    "                for term in terms:\n",
    "                    strCheck = checkSimilar(key, term)\n",
    "                    if strCheck >= threshold:\n",
    "                        print (\"\\t{} = {}\".format(key, strCheck))"
   ]
  },
  {
   "cell_type": "code",
   "execution_count": 6,
   "metadata": {},
   "outputs": [
    {
     "name": "stdout",
     "output_type": "stream",
     "text": [
      "fitsList[0]:\n",
      "fitsList[1]:\n",
      "\tTPERIOD = 0.9230769230769231\n",
      "\tTEPOCH = 0.9090909090909091\n",
      "fitsList[2]:\n",
      "\tORBEPOCH = 0.7692307692307693\n",
      "fitsList[3]:\n",
      "fitsList[4]:\n",
      "fitsList[5]:\n",
      "fitsList[6]:\n",
      "fitsList[7]:\n",
      "\tTPERIOD = 0.9230769230769231\n",
      "\tTEPOCH = 0.9090909090909091\n",
      "fitsList[8]:\n",
      "fitsList[9]:\n",
      "fitsList[10]:\n",
      "fitsList[11]:\n",
      "fitsList[12]:\n",
      "fitsList[13]:\n",
      "fitsList[14]:\n",
      "fitsList[15]:\n",
      "fitsList[16]:\n",
      "fitsList[17]:\n",
      "\tTPERIOD = 0.9230769230769231\n",
      "\tTEPOCH = 0.9090909090909091\n",
      "fitsList[18]:\n",
      "fitsList[19]:\n",
      "fitsList[20]:\n",
      "fitsList[21]:\n",
      "fitsList[22]:\n",
      "fitsList[23]:\n",
      "fitsList[24]:\n",
      "\tTPERIOD = 0.9230769230769231\n",
      "\tTEPOCH = 0.9090909090909091\n",
      "fitsList[25]:\n",
      "fitsList[26]:\n",
      "fitsList[27]:\n"
     ]
    }
   ],
   "source": [
    "fitsSearch([\"time\", \"period\", \"epoch\"], fitsList)"
   ]
  },
  {
   "cell_type": "code",
   "execution_count": 7,
   "metadata": {},
   "outputs": [
    {
     "data": {
      "text/plain": [
       "SIMPLE  =                    T / conforms to FITS standards                     \n",
       "BITPIX  =                    8 / array data type                                \n",
       "NAXIS   =                    0 / number of array dimensions                     \n",
       "EXTEND  =                    T / file contains extensions                       \n",
       "NEXTEND =                    4 / number of standard extensions                  \n",
       "EXTNAME = 'PRIMARY '           / name of extension                              \n",
       "EXTVER  =                    1 / extension version number (not format version)  \n",
       "SIMDATA =                    F / file is based on simulated data                \n",
       "ORIGIN  = 'NASA/Ames'          / institution responsible for creating this file \n",
       "DATE    = '2018-10-06'         / file creation date.                            \n",
       "TSTART  =    1354.105280000743 / observation start time in TJD                  \n",
       "TSTOP   =    1381.518180460247 / observation stop time in TJD                   \n",
       "DATE-OBS= '2018-08-23T14:30:27.008Z' / TSTART as UTC calendar date              \n",
       "DATE-END= '2018-09-20T00:25:01.608Z' / TSTOP as UTC calendar date               \n",
       "CREATOR = '4764 DvTimeSeriesExporter' / pipeline job and program used to produce\n",
       "PROCVER = '813f8ecb93'         / SW version                                     \n",
       "FILEVER = '1.0     '           / file format version                            \n",
       "TIMVERSN= 'OGIP/93-003'        / OGIP memo number for file format               \n",
       "TELESCOP= 'TESS    '           / telescope                                      \n",
       "INSTRUME= 'TESS Photometer'    / detector type                                  \n",
       "DATA_REL=                    2 / data release version number                    \n",
       "OBJECT  = 'TIC 100100827'      / string version of target id                    \n",
       "TICID   =            100100827 / unique tess target identifier                  \n",
       "SECTOR  =                    2 / Observing sector                               \n",
       "PXTABLE =                  129 / pixel table id                                 \n",
       "RESFILE = 'tess2018234235059-s0002-s0002-0000000100100827-00109_dvt.fits.gz' / c\n",
       "DVVERSN = 'spoc-3.3.37-20181001' / DV Subversion revision number                \n",
       "NUMTCES =                    2 / number of TCEs found                           \n",
       "SECTORS = '001     '           / bit-vector string of 17 0/1 chars              \n",
       "RADESYS = 'ICRS    '           / reference frame of celestial coordinates       \n",
       "RA_OBJ  =  24.3543140000000000 / [deg] right ascension                          \n",
       "DEC_OBJ = -45.6778960000000000 / [deg] declination                              \n",
       "EQUINOX =               2000.0 / equinox of celestial coordinate system         \n",
       "PMRA    =          25.46350000 / [mas/yr] RA proper motion                      \n",
       "PMDEC   =          20.39090000 / [mas/yr] Dec proper motion                     \n",
       "PMTOTAL =          32.62175095 / [mas/yr] total proper motion                   \n",
       "TESSMAG =           8.83300018 / [mag] TESS magnitude                           \n",
       "TEFF    =        6400.00000000 / [K] Effective temperature                      \n",
       "LOGG    =           4.36582994 / [cm/s2] log10 surface gravity                  \n",
       "MH      =           0.10000000 / [log10([M/H])] metallicity                     \n",
       "RADIUS  =           1.23000002 / [solar radii] stellar radius                   \n",
       "TICVER  =                    7 / TICVER                                         \n",
       "CHECKSUM= 'jhCgle9ZjeAdje9Z'   / HDU checksum updated 2018-10-06T18:26:20Z      "
      ]
     },
     "execution_count": 7,
     "metadata": {},
     "output_type": "execute_result"
    }
   ],
   "source": [
    "fits.getheader(fitsList[1], ext=0)"
   ]
  },
  {
   "cell_type": "code",
   "execution_count": null,
   "metadata": {
    "collapsed": true
   },
   "outputs": [],
   "source": []
  }
 ],
 "metadata": {
  "kernelspec": {
   "display_name": "Python 3",
   "language": "python",
   "name": "python3"
  },
  "language_info": {
   "codemirror_mode": {
    "name": "ipython",
    "version": 3
   },
   "file_extension": ".py",
   "mimetype": "text/x-python",
   "name": "python",
   "nbconvert_exporter": "python",
   "pygments_lexer": "ipython3",
   "version": "3.7.4"
  }
 },
 "nbformat": 4,
 "nbformat_minor": 1
}
