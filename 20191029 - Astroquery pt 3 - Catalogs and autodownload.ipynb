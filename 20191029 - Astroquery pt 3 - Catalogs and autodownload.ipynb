{
 "cells": [
  {
   "cell_type": "code",
   "execution_count": 1,
   "metadata": {
    "collapsed": true,
    "deletable": true,
    "editable": true,
    "jupyter": {
     "outputs_hidden": true
    }
   },
   "outputs": [],
   "source": [
    "%matplotlib inline\n",
    "from astropy.io import fits\n",
    "import matplotlib.pyplot as plt\n",
    "import numpy as np"
   ]
  },
  {
   "cell_type": "code",
   "execution_count": 2,
   "metadata": {
    "collapsed": true,
    "deletable": true,
    "editable": true,
    "jupyter": {
     "outputs_hidden": true
    }
   },
   "outputs": [],
   "source": [
    "# Let's import Astroquery\n",
    "from astroquery.mast import Observations\n",
    "\n",
    "# AND also Astroquery Catalogs!\n",
    "from astroquery.mast import Catalogs"
   ]
  },
  {
   "cell_type": "markdown",
   "metadata": {
    "deletable": true,
    "editable": true
   },
   "source": [
    "## Catalogs"
   ]
  },
  {
   "cell_type": "markdown",
   "metadata": {
    "deletable": true,
    "editable": true
   },
   "source": [
    "The list of catalogs (and thus parameters) are:\n",
    "\n",
    "- The Hubble Source Catalog (**HSC**)\n",
    "- The GALEX Catalog (**V2** and **V3**)\n",
    "- The Gaia (**DR1** and **DR2**) and **TGAS** Catalogs\n",
    "- The TESS Input Catalog (**TIC**)\n",
    "- The TESS Candidate Target List (**CTL**)\n",
    "- The Disk Detective Catalog\n",
    "- PanSTARRS (**DR1**, **DR2**)"
   ]
  },
  {
   "cell_type": "markdown",
   "metadata": {
    "deletable": true,
    "editable": true
   },
   "source": [
    "Let's use the TESS catalog (**TIC**)"
   ]
  },
  {
   "cell_type": "markdown",
   "metadata": {
    "deletable": true,
    "editable": true
   },
   "source": [
    "Following the examples given in the "
   ]
  },
  {
   "cell_type": "code",
   "execution_count": 4,
   "metadata": {
    "collapsed": false,
    "deletable": true,
    "editable": true,
    "jupyter": {
     "outputs_hidden": false
    }
   },
   "outputs": [
    {
     "data": {
      "text/plain": [
       "['ID',\n",
       " 'ra',\n",
       " 'dec',\n",
       " 'pmRA',\n",
       " 'pmDEC',\n",
       " 'Tmag',\n",
       " 'objType',\n",
       " 'typeSrc',\n",
       " 'version',\n",
       " 'HIP',\n",
       " 'TYC',\n",
       " 'UCAC',\n",
       " 'TWOMASS',\n",
       " 'SDSS',\n",
       " 'ALLWISE',\n",
       " 'GAIA',\n",
       " 'APASS',\n",
       " 'KIC',\n",
       " 'POSflag',\n",
       " 'e_pmRA',\n",
       " 'e_pmDEC',\n",
       " 'PMflag',\n",
       " 'plx',\n",
       " 'e_plx',\n",
       " 'PARflag',\n",
       " 'gallong',\n",
       " 'gallat',\n",
       " 'eclong',\n",
       " 'eclat',\n",
       " 'Bmag',\n",
       " 'e_Bmag',\n",
       " 'Vmag',\n",
       " 'e_Vmag',\n",
       " 'umag',\n",
       " 'e_umag',\n",
       " 'gmag',\n",
       " 'e_gmag',\n",
       " 'rmag',\n",
       " 'e_rmag',\n",
       " 'imag',\n",
       " 'e_imag',\n",
       " 'zmag',\n",
       " 'e_zmag',\n",
       " 'Jmag',\n",
       " 'e_Jmag',\n",
       " 'Hmag',\n",
       " 'e_Hmag',\n",
       " 'Kmag',\n",
       " 'e_Kmag',\n",
       " 'TWOMflag',\n",
       " 'prox',\n",
       " 'w1mag',\n",
       " 'e_w1mag',\n",
       " 'w2mag',\n",
       " 'e_w2mag',\n",
       " 'w3mag',\n",
       " 'e_w3mag',\n",
       " 'w4mag',\n",
       " 'e_w4mag',\n",
       " 'GAIAmag',\n",
       " 'e_GAIAmag',\n",
       " 'e_Tmag',\n",
       " 'TESSflag',\n",
       " 'SPFlag',\n",
       " 'Teff',\n",
       " 'e_Teff',\n",
       " 'logg',\n",
       " 'e_logg',\n",
       " 'MH',\n",
       " 'e_MH',\n",
       " 'rad',\n",
       " 'e_rad',\n",
       " 'mass',\n",
       " 'e_mass',\n",
       " 'rho',\n",
       " 'e_rho',\n",
       " 'lumclass',\n",
       " 'lum',\n",
       " 'e_lum',\n",
       " 'd',\n",
       " 'e_d',\n",
       " 'ebv',\n",
       " 'e_ebv',\n",
       " 'numcont',\n",
       " 'contratio',\n",
       " 'disposition',\n",
       " 'duplicate_id',\n",
       " 'priority',\n",
       " 'eneg_EBV',\n",
       " 'epos_EBV',\n",
       " 'EBVflag',\n",
       " 'eneg_Mass',\n",
       " 'epos_Mass',\n",
       " 'eneg_Rad',\n",
       " 'epos_Rad',\n",
       " 'eneg_rho',\n",
       " 'epos_rho',\n",
       " 'eneg_logg',\n",
       " 'epos_logg',\n",
       " 'eneg_lum',\n",
       " 'epos_lum',\n",
       " 'eneg_dist',\n",
       " 'epos_dist',\n",
       " 'distflag',\n",
       " 'eneg_Teff',\n",
       " 'epos_Teff',\n",
       " 'TeffFlag',\n",
       " 'gaiabp',\n",
       " 'e_gaiabp',\n",
       " 'gaiarp',\n",
       " 'e_gaiarp',\n",
       " 'gaiaqflag',\n",
       " 'starchareFlag',\n",
       " 'VmagFlag',\n",
       " 'BmagFlag',\n",
       " 'splists',\n",
       " 'e_RA',\n",
       " 'e_Dec',\n",
       " 'RA_orig',\n",
       " 'Dec_orig',\n",
       " 'e_RA_orig',\n",
       " 'e_Dec_orig',\n",
       " 'raddflag',\n",
       " 'wdflag',\n",
       " 'dstArcSec']"
      ]
     },
     "execution_count": 4,
     "metadata": {},
     "output_type": "execute_result"
    }
   ],
   "source": [
    "catalog_data.colnames"
   ]
  },
  {
   "cell_type": "code",
   "execution_count": 5,
   "metadata": {
    "collapsed": false,
    "deletable": true,
    "editable": true,
    "jupyter": {
     "outputs_hidden": false
    }
   },
   "outputs": [
    {
     "name": "stdout",
     "output_type": "stream",
     "text": [
      "    ID           ra               dec        ... wdflag     dstArcSec     \n",
      "--------- ---------------- ----------------- ... ------ ------------------\n",
      "841736289 158.475246467012 -7.29984176473098 ...      0  37.98031847255667\n",
      "841736281 158.483019303286 -7.32320013067735 ...      0  50.71676154870489\n",
      " 56661355 158.467833401313 -7.31994230664877 ...      0 55.134249824524694\n",
      " 56661360 158.460687211256 -7.29614097021537 ...      0  82.11855685017336\n",
      " 56662075 158.502417380993 -7.31732945908738 ...      0  87.28954844177136\n",
      "841736294 158.455174599494 -7.29642616731829 ...      1  98.18583423560875\n",
      "841736295 158.461088415216  -7.2875177250041 ...      1 102.62671663330786\n",
      "841736277 158.469287160216 -7.33637889451687 ...      0 102.67816386866188\n",
      "841736296 158.470331723001  -7.2816687605798 ...      0 105.53278544229352\n",
      " 56661356  158.44887619493 -7.30920784493643 ...      0 108.43155086927304\n"
     ]
    }
   ],
   "source": [
    "catalog_data = Catalogs.query_object(\"158.47924 -7.30962\", catalog=\"TIC\")\n",
    "print(catalog_data[:10])"
   ]
  },
  {
   "cell_type": "markdown",
   "metadata": {
    "deletable": true,
    "editable": true
   },
   "source": [
    "So in the below example, I still need to hard-code the TIC-ID in, and perhaps this will/should be changed in the future."
   ]
  },
  {
   "cell_type": "code",
   "execution_count": 14,
   "metadata": {
    "collapsed": false,
    "deletable": true,
    "editable": true,
    "jupyter": {
     "outputs_hidden": false
    }
   },
   "outputs": [
    {
     "name": "stdout",
     "output_type": "stream",
     "text": [
      "    ID      Tmag   Jmag         ra               dec        objType\n",
      "--------- ------- ------ ---------------- ----------------- -------\n",
      "261105201  8.3629   7.74 82.8273670408244 -79.0087723001529    STAR\n",
      "724151530 18.7511    nan 82.8150127457216 -79.0132058191133    STAR\n",
      "261105202 15.6838 13.738  82.807947620659 -79.0136350375361    STAR\n",
      "724151528 20.1425    nan   82.79364170498 -79.0085739998184    STAR\n",
      "724151541 19.6238    nan 82.8606445683429 -79.0110416543022    STAR\n"
     ]
    }
   ],
   "source": [
    "ticid = 261105201\n",
    "\n",
    "starName = \"TIC \" + str(ticid)\n",
    "radSearch = 4/60 #radius in degrees // arcmins\n",
    "\n",
    "catalogData = Catalogs.query_object(starName, radius = radSearch, catalog = \"TIC\")\n",
    "ra = catalogData[0]['ra']\n",
    "dec = catalogData[0]['dec']\n",
    "\n",
    "# Print out the first row in the table\n",
    "print( catalogData[:5]['ID', 'Tmag', 'Jmag', 'ra', 'dec', 'objType'] )"
   ]
  },
  {
   "cell_type": "code",
   "execution_count": 15,
   "metadata": {
    "collapsed": false,
    "deletable": true,
    "editable": true,
    "jupyter": {
     "outputs_hidden": false
    }
   },
   "outputs": [
    {
     "name": "stdout",
     "output_type": "stream",
     "text": [
      "Number of Observations: 42\n"
     ]
    }
   ],
   "source": [
    "obsCount = Observations.query_criteria_count(obs_collection = \"TESS\",\n",
    "                                             dataproduct_type = [\"timeseries\"],\n",
    "                                             sequence_number = 1,\n",
    "                                             proposal_id = \"*G011183*\") # related to particular investigators data\n",
    "print(\"Number of Observations: %i\" % obsCount)"
   ]
  },
  {
   "cell_type": "code",
   "execution_count": 16,
   "metadata": {
    "collapsed": false,
    "deletable": true,
    "editable": true,
    "jupyter": {
     "outputs_hidden": false
    }
   },
   "outputs": [
    {
     "data": {
      "text/html": [
       "<i>Table masked=True length=5</i>\n",
       "<table id=\"table140630826574792\" class=\"table-striped table-bordered table-condensed\">\n",
       "<thead><tr><th>obsid</th><th>proposal_id</th><th>obs_id</th></tr></thead>\n",
       "<thead><tr><th>str11</th><th>str31</th><th>str47</th></tr></thead>\n",
       "<tr><td>17000009457</td><td>G011112_G011183_G011132</td><td>tess2018206045859-s0001-0000000038846515-0120-s</td></tr>\n",
       "<tr><td>17000006704</td><td>G011183_G011025_G011048_G011250</td><td>tess2018206045859-s0001-0000000231836962-0120-s</td></tr>\n",
       "<tr><td>17000011124</td><td>G011183_G011250</td><td>tess2018206045859-s0001-0000000317057430-0120-s</td></tr>\n",
       "<tr><td>17000003763</td><td>G011183_G011025_G011048_G011250</td><td>tess2018206045859-s0001-0000000099734092-0120-s</td></tr>\n",
       "<tr><td>17000001820</td><td>G011155_G011183_G011184_G011048</td><td>tess2018206045859-s0001-0000000129649472-0120-s</td></tr>\n",
       "</table>"
      ],
      "text/plain": [
       "<Table masked=True length=5>\n",
       "   obsid    ...                      obs_id                    \n",
       "   str11    ...                      str47                     \n",
       "----------- ... -----------------------------------------------\n",
       "17000009457 ... tess2018206045859-s0001-0000000038846515-0120-s\n",
       "17000006704 ... tess2018206045859-s0001-0000000231836962-0120-s\n",
       "17000011124 ... tess2018206045859-s0001-0000000317057430-0120-s\n",
       "17000003763 ... tess2018206045859-s0001-0000000099734092-0120-s\n",
       "17000001820 ... tess2018206045859-s0001-0000000129649472-0120-s"
      ]
     },
     "execution_count": 16,
     "metadata": {},
     "output_type": "execute_result"
    }
   ],
   "source": [
    "obsTable = Observations.query_criteria(obs_collection = \"TESS\",\n",
    "                                       dataproduct_type = [\"timeseries\"],\n",
    "                                       sequence_number = 1,\n",
    "                                       proposal_id = \"*G011183*\")\n",
    "obsTable[0:5]['obsid','proposal_id','obs_id']"
   ]
  },
  {
   "cell_type": "code",
   "execution_count": 18,
   "metadata": {
    "collapsed": false,
    "deletable": true,
    "editable": true,
    "jupyter": {
     "outputs_hidden": false
    }
   },
   "outputs": [
    {
     "data": {
      "text/plain": [
       "['obsID',\n",
       " 'obs_collection',\n",
       " 'dataproduct_type',\n",
       " 'obs_id',\n",
       " 'description',\n",
       " 'type',\n",
       " 'dataURI',\n",
       " 'productType',\n",
       " 'productGroupDescription',\n",
       " 'productSubGroupDescription',\n",
       " 'productDocumentationURL',\n",
       " 'project',\n",
       " 'prvversion',\n",
       " 'proposal_id',\n",
       " 'productFilename',\n",
       " 'size',\n",
       " 'parent_obsid',\n",
       " 'dataRights']"
      ]
     },
     "execution_count": 18,
     "metadata": {},
     "output_type": "execute_result"
    }
   ],
   "source": [
    "dataProducts = Observations.get_product_list(obsTable[0:6])\n",
    "dataProducts.colnames"
   ]
  },
  {
   "cell_type": "markdown",
   "metadata": {
    "deletable": true,
    "editable": true
   },
   "source": [
    "This gives us the column names in the \"dataProducts\" observation list. For the purposes of learning how this all works, we only need (for now) to worry about object ID, filename, and description (to get the object id reference number; have access to the filename; and see what the file contains, respectively)."
   ]
  },
  {
   "cell_type": "code",
   "execution_count": 19,
   "metadata": {
    "collapsed": false,
    "deletable": true,
    "editable": true,
    "jupyter": {
     "outputs_hidden": false
    }
   },
   "outputs": [
    {
     "data": {
      "text/html": [
       "<i>Table masked=True length=22</i>\n",
       "<table id=\"table140630987368768\" class=\"table-striped table-bordered table-condensed\">\n",
       "<thead><tr><th>obsID</th><th>productFilename</th><th>description</th></tr></thead>\n",
       "<thead><tr><th>str11</th><th>str63</th><th>str27</th></tr></thead>\n",
       "<tr><td>17000000913</td><td>tess2018206190142-s0001-s0001-0000000025155310-00106_dvr.pdf</td><td>full data validation report</td></tr>\n",
       "<tr><td>17000000913</td><td>tess2018206190142-s0001-s0001-0000000025155310-00106_dvr.xml</td><td>full data validation report</td></tr>\n",
       "<tr><td>17000000913</td><td>tess2018206190142-s0001-s0001-0000000025155310-00106_dvm.pdf</td><td>Data validation mini report</td></tr>\n",
       "<tr><td>17000000913</td><td>tess2018206190142-s0001-s0001-0000000025155310-01-00106_dvs.pdf</td><td>TCE summary report</td></tr>\n",
       "<tr><td>17000000913</td><td>tess2018206190142-s0001-s0001-0000000025155310-00106_dvt.fits</td><td>Data validation time series</td></tr>\n",
       "<tr><td>17000000913</td><td>tess2018206045859-s0001-0000000025155310-0120-s_lc.fits</td><td>Light curves</td></tr>\n",
       "<tr><td>17000000913</td><td>tess2018206045859-s0001-0000000025155310-0120-s_tp.fits</td><td>Target pixel files</td></tr>\n",
       "<tr><td>17000009457</td><td>tess2018206190142-s0001-s0001-0000000038846515-00106_dvr.pdf</td><td>full data validation report</td></tr>\n",
       "<tr><td>17000009457</td><td>tess2018206190142-s0001-s0001-0000000038846515-00106_dvr.xml</td><td>full data validation report</td></tr>\n",
       "<tr><td>17000009457</td><td>tess2018206190142-s0001-s0001-0000000038846515-00106_dvm.pdf</td><td>Data validation mini report</td></tr>\n",
       "<tr><td>17000009457</td><td>tess2018206190142-s0001-s0001-0000000038846515-01-00106_dvs.pdf</td><td>TCE summary report</td></tr>\n",
       "<tr><td>17000009457</td><td>tess2018206190142-s0001-s0001-0000000038846515-00106_dvt.fits</td><td>Data validation time series</td></tr>\n",
       "<tr><td>17000009457</td><td>tess2018206045859-s0001-0000000038846515-0120-s_lc.fits</td><td>Light curves</td></tr>\n",
       "<tr><td>17000009457</td><td>tess2018206045859-s0001-0000000038846515-0120-s_tp.fits</td><td>Target pixel files</td></tr>\n",
       "<tr><td>17000003763</td><td>tess2018206045859-s0001-0000000099734092-0120-s_lc.fits</td><td>Light curves</td></tr>\n",
       "<tr><td>17000003763</td><td>tess2018206045859-s0001-0000000099734092-0120-s_tp.fits</td><td>Target pixel files</td></tr>\n",
       "<tr><td>17000001820</td><td>tess2018206045859-s0001-0000000129649472-0120-s_lc.fits</td><td>Light curves</td></tr>\n",
       "<tr><td>17000001820</td><td>tess2018206045859-s0001-0000000129649472-0120-s_tp.fits</td><td>Target pixel files</td></tr>\n",
       "<tr><td>17000006704</td><td>tess2018206045859-s0001-0000000231836962-0120-s_lc.fits</td><td>Light curves</td></tr>\n",
       "<tr><td>17000006704</td><td>tess2018206045859-s0001-0000000231836962-0120-s_tp.fits</td><td>Target pixel files</td></tr>\n",
       "<tr><td>17000011124</td><td>tess2018206045859-s0001-0000000317057430-0120-s_lc.fits</td><td>Light curves</td></tr>\n",
       "<tr><td>17000011124</td><td>tess2018206045859-s0001-0000000317057430-0120-s_tp.fits</td><td>Target pixel files</td></tr>\n",
       "</table>"
      ],
      "text/plain": [
       "<Table masked=True length=22>\n",
       "   obsID    ...         description        \n",
       "   str11    ...            str27           \n",
       "----------- ... ---------------------------\n",
       "17000000913 ... full data validation report\n",
       "17000000913 ... full data validation report\n",
       "17000000913 ... Data validation mini report\n",
       "17000000913 ...          TCE summary report\n",
       "17000000913 ... Data validation time series\n",
       "17000000913 ...                Light curves\n",
       "17000000913 ...          Target pixel files\n",
       "17000009457 ... full data validation report\n",
       "17000009457 ... full data validation report\n",
       "17000009457 ... Data validation mini report\n",
       "17000009457 ...          TCE summary report\n",
       "17000009457 ... Data validation time series\n",
       "17000009457 ...                Light curves\n",
       "17000009457 ...          Target pixel files\n",
       "17000003763 ...                Light curves\n",
       "17000003763 ...          Target pixel files\n",
       "17000001820 ...                Light curves\n",
       "17000001820 ...          Target pixel files\n",
       "17000006704 ...                Light curves\n",
       "17000006704 ...          Target pixel files\n",
       "17000011124 ...                Light curves\n",
       "17000011124 ...          Target pixel files"
      ]
     },
     "execution_count": 19,
     "metadata": {},
     "output_type": "execute_result"
    }
   ],
   "source": [
    "shortList = dataProducts['obsID', 'productFilename', 'description']\n",
    "shortList"
   ]
  },
  {
   "cell_type": "code",
   "execution_count": 24,
   "metadata": {
    "collapsed": false,
    "deletable": true,
    "editable": true,
    "jupyter": {
     "outputs_hidden": false
    }
   },
   "outputs": [
    {
     "data": {
      "text/plain": [
       "astropy.table.column.MaskedColumn"
      ]
     },
     "execution_count": 24,
     "metadata": {},
     "output_type": "execute_result"
    }
   ],
   "source": [
    "# This is the part that breaks\n",
    "\n",
    "#want = dataProducts['description'] == \"Light curves\"\n",
    "\n",
    "#type(dataProducts['description'])\n",
    "\n",
    "#print(dataProducts[want])"
   ]
  },
  {
   "cell_type": "code",
   "execution_count": 25,
   "metadata": {
    "collapsed": false,
    "deletable": true,
    "editable": true,
    "jupyter": {
     "outputs_hidden": false
    }
   },
   "outputs": [
    {
     "data": {
      "text/plain": [
       "['tess2018206045859-s0001-0000000025155310-0120-s_lc.fits',\n",
       " 'tess2018206045859-s0001-0000000038846515-0120-s_lc.fits',\n",
       " 'tess2018206045859-s0001-0000000099734092-0120-s_lc.fits',\n",
       " 'tess2018206045859-s0001-0000000129649472-0120-s_lc.fits',\n",
       " 'tess2018206045859-s0001-0000000231836962-0120-s_lc.fits',\n",
       " 'tess2018206045859-s0001-0000000317057430-0120-s_lc.fits']"
      ]
     },
     "execution_count": 25,
     "metadata": {},
     "output_type": "execute_result"
    }
   ],
   "source": [
    "#\n",
    "# Let's do this more (BUT NOT AS) Pythonic, eh?\n",
    "# Reminder for self: This is (essentially) how Pythonic lists work:\n",
    "#\n",
    "#[ 'expression' for 'item' in 'list' if 'conditional' ]\n",
    "# ==\n",
    "#for item in list:\n",
    "#    if conditional:\n",
    "#        expression\n",
    "#\n",
    "fits_list = [i['productFilename'] for i in shortList if i['description'] == \"Light curves\"]\n",
    "pixl_list = [i['productFilename'] for i in shortList if i['description'] == \"Target pixel files\"]\n",
    "fits_list"
   ]
  },
  {
   "cell_type": "markdown",
   "metadata": {
    "deletable": true,
    "editable": true
   },
   "source": [
    "#### AWW YEAH AUTO GET FILES WOOOOO\n",
    "\n",
    "I guess I didn't need to do the above tbh? It's nice to have though. In order to download files I still need the original list, in my case \"dataProducts\", but yeah. I'm glad I worked out the above anyways."
   ]
  },
  {
   "cell_type": "code",
   "execution_count": 41,
   "metadata": {
    "collapsed": false,
    "deletable": true,
    "editable": true,
    "jupyter": {
     "outputs_hidden": false
    }
   },
   "outputs": [
    {
     "name": "stdout",
     "output_type": "stream",
     "text": [
      "Downloading URL https://mast.stsci.edu/api/v0.1/Download/file?uri=mast:TESS/product/tess2018206190142-s0001-s0001-0000000025155310-00106_dvt.fits to ./mastDownload/TESS/tess2018206045859-s0001-0000000025155310-0120-s/tess2018206190142-s0001-s0001-0000000025155310-00106_dvt.fits ... [Done]\n",
      "Downloading URL https://mast.stsci.edu/api/v0.1/Download/file?uri=mast:TESS/product/tess2018206045859-s0001-0000000025155310-0120-s_lc.fits to ./mastDownload/TESS/tess2018206045859-s0001-0000000025155310-0120-s/tess2018206045859-s0001-0000000025155310-0120-s_lc.fits ... [Done]\n",
      "Downloading URL https://mast.stsci.edu/api/v0.1/Download/file?uri=mast:TESS/product/tess2018206045859-s0001-0000000025155310-0120-s_tp.fits to ./mastDownload/TESS/tess2018206045859-s0001-0000000025155310-0120-s/tess2018206045859-s0001-0000000025155310-0120-s_tp.fits ... [Done]\n",
      "Downloading URL https://mast.stsci.edu/api/v0.1/Download/file?uri=mast:TESS/product/tess2018206190142-s0001-s0001-0000000097409519-00106_dvt.fits to ./mastDownload/TESS/tess2018206045859-s0001-0000000097409519-0120-s/tess2018206190142-s0001-s0001-0000000097409519-00106_dvt.fits ... [Done]\n",
      "Downloading URL https://mast.stsci.edu/api/v0.1/Download/file?uri=mast:TESS/product/tess2018206045859-s0001-0000000097409519-0120-s_lc.fits to ./mastDownload/TESS/tess2018206045859-s0001-0000000097409519-0120-s/tess2018206045859-s0001-0000000097409519-0120-s_lc.fits ... [Done]\n",
      "Downloading URL https://mast.stsci.edu/api/v0.1/Download/file?uri=mast:TESS/product/tess2018206045859-s0001-0000000097409519-0120-s_tp.fits to ./mastDownload/TESS/tess2018206045859-s0001-0000000097409519-0120-s/tess2018206045859-s0001-0000000097409519-0120-s_tp.fits ... [Done]\n",
      "INFO: Found cached file ./mastDownload/TESS/tess2018206045859-s0001-0000000139754153-0120-s/tess2018206045859-s0001-0000000139754153-0120-s_lc.fits with expected size 2039040. [astroquery.query]\n",
      "INFO: Found cached file ./mastDownload/TESS/tess2018206045859-s0001-0000000139754153-0120-s/tess2018206045859-s0001-0000000139754153-0120-s_tp.fits with expected size 58017600. [astroquery.query]\n",
      "Downloading URL https://mast.stsci.edu/api/v0.1/Download/file?uri=mast:TESS/product/tess2018206045859-s0001-0000000141411201-0120-s_lc.fits to ./mastDownload/TESS/tess2018206045859-s0001-0000000141411201-0120-s/tess2018206045859-s0001-0000000141411201-0120-s_lc.fits ... [Done]\n",
      "Downloading URL https://mast.stsci.edu/api/v0.1/Download/file?uri=mast:TESS/product/tess2018206045859-s0001-0000000141411201-0120-s_tp.fits to ./mastDownload/TESS/tess2018206045859-s0001-0000000141411201-0120-s/tess2018206045859-s0001-0000000141411201-0120-s_tp.fits ... [Done]\n",
      "Downloading URL https://mast.stsci.edu/api/v0.1/Download/file?uri=mast:TESS/product/tess2018206045859-s0001-0000000277774779-0120-s_lc.fits to ./mastDownload/TESS/tess2018206045859-s0001-0000000277774779-0120-s/tess2018206045859-s0001-0000000277774779-0120-s_lc.fits ... [Done]\n",
      "Downloading URL https://mast.stsci.edu/api/v0.1/Download/file?uri=mast:TESS/product/tess2018206045859-s0001-0000000277774779-0120-s_tp.fits to ./mastDownload/TESS/tess2018206045859-s0001-0000000277774779-0120-s/tess2018206045859-s0001-0000000277774779-0120-s_tp.fits ... [Done]\n",
      "Downloading URL https://mast.stsci.edu/api/v0.1/Download/file?uri=mast:TESS/product/tess2018206190142-s0001-s0001-0000000388104525-00106_dvt.fits to ./mastDownload/TESS/tess2018206045859-s0001-0000000388104525-0120-s/tess2018206190142-s0001-s0001-0000000388104525-00106_dvt.fits ... [Done]\n",
      "Downloading URL https://mast.stsci.edu/api/v0.1/Download/file?uri=mast:TESS/product/tess2018206045859-s0001-0000000388104525-0120-s_lc.fits to ./mastDownload/TESS/tess2018206045859-s0001-0000000388104525-0120-s/tess2018206045859-s0001-0000000388104525-0120-s_lc.fits ... [Done]\n",
      "Downloading URL https://mast.stsci.edu/api/v0.1/Download/file?uri=mast:TESS/product/tess2018206045859-s0001-0000000388104525-0120-s_tp.fits to ./mastDownload/TESS/tess2018206045859-s0001-0000000388104525-0120-s/tess2018206045859-s0001-0000000388104525-0120-s_tp.fits ... [Done]\n"
     ]
    }
   ],
   "source": [
    "manifest = Observations.download_products(dataProducts, extension=\"fits\")\n",
    "#print(manifest)"
   ]
  },
  {
   "cell_type": "markdown",
   "metadata": {
    "deletable": true,
    "editable": true
   },
   "source": [
    "Reproduce analysis on LC to see if exo - if so how big / period?\n",
    "I have data now I need to use it\n",
    "Pick region whewre I KNOW there are exo, grab a bunch, get LCs, plot, build ML:\n",
    "- Does LC show existence of exo\n",
    "- IF there is one, get info (period, radius, etc)\n",
    "Go Fast and Break Things! (be the hare, not the tortoise)\n",
    "\n",
    "More work on these tools should turn into background info, ie, text for thesis"
   ]
  },
  {
   "cell_type": "markdown",
   "metadata": {
    "deletable": true,
    "editable": true
   },
   "source": [
    "Work out which ML algo is gonna be useful / beneficial to my investigation"
   ]
  },
  {
   "cell_type": "code",
   "execution_count": null,
   "metadata": {
    "collapsed": true,
    "deletable": true,
    "editable": true,
    "jupyter": {
     "outputs_hidden": true
    }
   },
   "outputs": [],
   "source": []
  }
 ],
 "metadata": {
  "kernelspec": {
   "display_name": "Python 3",
   "language": "python",
   "name": "python3"
  },
  "language_info": {
   "codemirror_mode": {
    "name": "ipython",
    "version": 3
   },
   "file_extension": ".py",
   "mimetype": "text/x-python",
   "name": "python",
   "nbconvert_exporter": "python",
   "pygments_lexer": "ipython3",
   "version": "3.8.5"
  }
 },
 "nbformat": 4,
 "nbformat_minor": 4
}
