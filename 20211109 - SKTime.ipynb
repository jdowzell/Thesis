{
 "cells": [
  {
   "cell_type": "code",
   "execution_count": null,
   "id": "39a7c5b2-04ab-4c27-8cb6-ea7fea0e3a1f",
   "metadata": {},
   "outputs": [],
   "source": [
    "#!/usr/bin/env python3\n",
    "\n",
    "################################\n",
    "# Scientific imports\n",
    "################################\n",
    "import matplotlib.pyplot as plt\n",
    "import numpy as np\n",
    "\n",
    "from astroquery.mast import Observations\n",
    "from astroquery.mast import Catalogs\n",
    "\n",
    "from astropy.table import Table\n",
    "from astropy.table import QTable\n",
    "from astropy.io import fits\n",
    "from astropy import units as u\n",
    "from astropy.timeseries import BoxLeastSquares\n",
    "from astropy.timeseries import TimeSeries\n",
    "from astropy.stats import sigma_clipped_stats\n",
    "from astropy.timeseries import aggregate_downsample\n",
    "\n",
    "import sktime as skt\n",
    "\n",
    "from sktime.datatypes._panel._convert import (\n",
    "    from_2d_array_to_nested,\n",
    "    from_nested_to_2d_array,\n",
    "    is_nested_dataframe,\n",
    ")\n",
    "\n",
    "from sklearn.model_selection import train_test_split\n",
    "from sklearn.metrics import accuracy_score\n",
    "from sklearn.metrics import precision_score\n",
    "from sklearn.metrics import recall_score\n",
    "\n",
    "################################\n",
    "# General imports\n",
    "################################\n",
    "import csv, math, io, os, os.path, sys, random, time, json, gc\n",
    "from datetime import datetime\n",
    "import pandas as pd\n",
    "import seaborn as sb\n",
    "from collections import Counter\n",
    "import joblib\n",
    "from joblib import Parallel, delayed, dump, load\n",
    "\n",
    "################################\n",
    "# Suppress Warnings\n",
    "################################\n",
    "import warnings\n",
    "warnings.simplefilter(action='ignore', category=UserWarning)\n",
    "warnings.simplefilter(action=\"ignore\", category=RuntimeWarning)\n",
    "\n",
    "################################\n",
    "# Initialisers\n",
    "################################\n",
    "plt.rcParams[\"figure.figsize\"] = (16,5)\n",
    "sb.set()\n",
    "\n",
    "# Load the Data files\n",
    "#fitsarr = np.load(\"fitslist.npy\")"
   ]
  },
  {
   "cell_type": "code",
   "execution_count": 1,
   "id": "bdcbedbf-5c7d-4ae4-9489-fa9a10c93a9b",
   "metadata": {},
   "outputs": [],
   "source": [
    "%reset -f\n",
    "\n",
    "import numpy as np\n",
    "from joblib import Parallel, delayed, dump, load\n",
    "from sklearn.model_selection import train_test_split\n",
    "from sktime.datatypes._panel._convert import (\n",
    "    from_2d_array_to_nested,\n",
    "    from_nested_to_2d_array,\n",
    "    is_nested_dataframe,\n",
    ")\n",
    "\n",
    "rows=30"
   ]
  },
  {
   "cell_type": "code",
   "execution_count": null,
   "id": "992728ed-1013-4cd8-a050-f960367322d3",
   "metadata": {},
   "outputs": [],
   "source": [
    "#X = np.load(\"None_Or_One_Exoplanet.npy\")\n",
    "#X = np.array([item[1:-1] for item in np.load(\"None_Or_One_Exoplanet_NORMALISED.npy\")])\n",
    "\n",
    "#y = np.load(\"one_or_none_isplanetlist.npy\")[:rows]\n",
    "#X_nested = from_2d_array_to_nested(np.array([item[1:-1] for item in np.load(\"None_Or_One_Exoplanet_NORMALISED.npy\")])[:rows, :])\n",
    "#print(f\"X_nested is a nested DataFrame: {is_nested_dataframe(X_nested)}\")\n",
    "#print(f\"The cell contains a {type(X_nested.iloc[0,0])}.\")\n",
    "#print(f\"The nested DataFrame has shape {X_nested.shape}\")"
   ]
  },
  {
   "cell_type": "code",
   "execution_count": null,
   "id": "bfc2a87c-a57b-46af-a704-932bf86796e4",
   "metadata": {},
   "outputs": [],
   "source": [
    "X_train, X_test, y_train, y_test = train_test_split(X_nested, y)\n",
    "#X_train, X_test, y_train, y_test = np.load(\"X_y_test_train_split.npy\",allow_pickle=True)"
   ]
  },
  {
   "cell_type": "code",
   "execution_count": null,
   "id": "9237c7b4-132e-41b0-a01b-d6ee96b96696",
   "metadata": {
    "jupyter": {
     "source_hidden": true
    },
    "tags": []
   },
   "outputs": [],
   "source": [
    "#\n",
    "#\n",
    "# USED TO SAVE A COPY OF TEST AND TRAIN TO MAKE SURE FUTURE MODEL FITTINGS ARE OF THE SAME DATA\n",
    "#\n",
    "#\n",
    "np.save(\"X_train\", X_train)\n",
    "np.save(\"y_train\", y_train)"
   ]
  },
  {
   "cell_type": "code",
   "execution_count": null,
   "id": "c00d586e-b901-4f05-9df9-5ef603c155cc",
   "metadata": {
    "jupyter": {
     "source_hidden": true
    },
    "tags": []
   },
   "outputs": [],
   "source": [
    "#\n",
    "#\n",
    "# USED TO TEST CORRECTLY LOADING THE X_Y_TEST_TRAIN_SPLIT\n",
    "#\n",
    "#\n",
    "import numpy as np\n",
    "#X_train, X_test, y_train, y_test = np.load(\"X_y_test_train_split.npy\",allow_pickle=True)\n",
    "X_train = np.load(\"X_train.npy\",allow_pickle=True)\n",
    "y_train = np.load(\"y_train.npy\",allow_pickle=True)\n",
    "\n",
    "#np.save(\"X_train\", X_train)\n",
    "#np.save(\"y_train\", y_train)"
   ]
  },
  {
   "cell_type": "code",
   "execution_count": null,
   "id": "7b12cb91-d600-42c2-9168-c4fb4b48ecf3",
   "metadata": {},
   "outputs": [],
   "source": [
    "#classifier = TimeSeriesForestClassifier()\n",
    "#classifier.fit(X_train, y_train)\n",
    "#y_pred = classifier.predict(X_test)\n",
    "\n",
    "#print(f\"Accuracy: {accuracy_score(y_test, y_pred)}\\nPrecision: {precision_score(y_test, y_pred)}\\nRecall: {recall_score(y_test, y_pred)}\")"
   ]
  },
  {
   "cell_type": "code",
   "execution_count": 2,
   "id": "f212f104-f4dc-4fd3-a883-e08abb048223",
   "metadata": {},
   "outputs": [],
   "source": [
    "from sktime.classification.dictionary_based import IndividualTDE\n",
    "\n",
    "list_of_classifiers = [\n",
    "    IndividualTDE\n",
    "]\n",
    "\n",
    "#MUSE().fit(X_train, y_train)"
   ]
  },
  {
   "cell_type": "code",
   "execution_count": null,
   "id": "f79c96fe-0f18-4a88-8364-7c7a14a6e41a",
   "metadata": {
    "jupyter": {
     "source_hidden": true
    },
    "tags": []
   },
   "outputs": [],
   "source": [
    "def myfunc(classifierType, rows=-1):\n",
    "    X = np.array([item[1:-1] for item in np.load(\"None_Or_One_Exoplanet_NORMALISED.npy\")])\n",
    "    y = np.load(\"one_or_none_isplanetlist.npy\")\n",
    "    \n",
    "    if rows > 0:\n",
    "        X = X[:rows, :]\n",
    "        y = y[:rows]\n",
    "    \n",
    "    print(\"Splitting into Test and Train sets...\")\n",
    "    X_nested = from_2d_array_to_nested(X)\n",
    "    X_train, X_test, y_train, y_test = train_test_split(X_nested, y)\n",
    "    \n",
    "    # Selecting Classifier Type\n",
    "    c = classifierType()\n",
    "    cname = classifierType.__name__\n",
    "    \n",
    "    # Fitting Classifier\n",
    "    print(f\"Fitting the {cname} model...\")\n",
    "    c.fit(X_train, y_train)\n",
    "    \n",
    "    # Saving Model\n",
    "    print(f\"Saving {cname} model...\")\n",
    "    if rows > 0:\n",
    "        dump(c, f'./sktime_models/{cname}_fitted_{rows}.joblib')\n",
    "    else:\n",
    "        dump(c, f'./sktime_models/{cname}_fitted_FULL.joblib')\n",
    "        \n",
    "    print(\"Done!\")"
   ]
  },
  {
   "cell_type": "code",
   "execution_count": 3,
   "id": "362ed68e-6d37-4267-a952-ac65731b19e4",
   "metadata": {},
   "outputs": [],
   "source": [
    "def MakeModelsNEW(classifierType, rows=None):\n",
    "    \n",
    "    print(\"Loading the Test and Train Datasets...\")\n",
    "    \n",
    "    y = np.load(\"one_or_none_isplanetlist.npy\")[:rows]\n",
    "    X_nested = from_2d_array_to_nested(np.array([item[1:-1] for item in np.load(\"None_Or_One_Exoplanet_NORMALISED.npy\")])[:rows, :])\n",
    "    X_train, X_test, y_train, y_test = train_test_split(X_nested, y)\n",
    "    \n",
    "    # Selecting Classifier Type\n",
    "    c = classifierType()\n",
    "    cname = classifierType.__name__\n",
    "    \n",
    "    # Fitting Classifier\n",
    "    print(f\"Fitting the {cname} model...\")\n",
    "    c.fit(X_train, y_train)\n",
    "    \n",
    "    # Saving Model\n",
    "    print(f\"Saving {cname} model...\")\n",
    "    if rows > 0:\n",
    "        dump(c, f'./sktime_models/_{cname}_fitted_{rows}.joblib')\n",
    "    else:\n",
    "        dump(c, f'./sktime_models/_{cname}_fitted_FULL.joblib')\n",
    "        "
   ]
  },
  {
   "cell_type": "code",
   "execution_count": null,
   "id": "a7a0f544-6ba9-402a-8d16-8f3ad7df2e95",
   "metadata": {
    "jupyter": {
     "source_hidden": true
    },
    "tags": []
   },
   "outputs": [],
   "source": [
    "# HOPEFULLY THIS WORKS!!! SEE: https://stackoverflow.com/questions/15639779/why-does-multiprocessing-use-only-a-single-core-after-i-import-numpy\n",
    "\n",
    "os.system(\"taskset -p 0xff %d\" % os.getpid())"
   ]
  },
  {
   "cell_type": "code",
   "execution_count": null,
   "id": "d293a6d9-8443-4bf2-b4ee-cdc6e7f29541",
   "metadata": {
    "jupyter": {
     "source_hidden": true
    },
    "tags": []
   },
   "outputs": [],
   "source": [
    "%%time\n",
    "myfunc(list_of_classifiers[1], 10)"
   ]
  },
  {
   "cell_type": "code",
   "execution_count": null,
   "id": "9e0b1a6c-e074-4841-9e84-f081efdd47a9",
   "metadata": {
    "jupyter": {
     "source_hidden": true
    },
    "tags": []
   },
   "outputs": [],
   "source": [
    "%%time\n",
    "myfunc(list_of_classifiers[1], 100)"
   ]
  },
  {
   "cell_type": "code",
   "execution_count": null,
   "id": "4ee17c50-0710-437a-957f-dcbb844168b7",
   "metadata": {
    "jupyter": {
     "source_hidden": true
    },
    "tags": []
   },
   "outputs": [],
   "source": [
    "%%time\n",
    "Parallel(n_jobs=8)(delayed(myfunc)(c, 10) for c in small_list_of_classifiers)"
   ]
  },
  {
   "cell_type": "code",
   "execution_count": null,
   "id": "a319efbf-ff43-4ae4-91d3-e847097dee11",
   "metadata": {
    "jupyter": {
     "source_hidden": true
    },
    "tags": []
   },
   "outputs": [],
   "source": [
    "%%time\n",
    "Parallel(n_jobs=8)(delayed(myfunc)(c, 100) for c in small_list_of_classifiers)"
   ]
  },
  {
   "cell_type": "code",
   "execution_count": 4,
   "id": "ee575f07-2d94-4db8-b7d3-6a86eebf4553",
   "metadata": {},
   "outputs": [
    {
     "name": "stdout",
     "output_type": "stream",
     "text": [
      "Loading the Test and Train Datasets...\n",
      "Fitting the MUSE model...\n",
      "Saving MUSE model...\n",
      "CPU times: user 5min 46s, sys: 771 ms, total: 5min 47s\n",
      "Wall time: 5min 47s\n"
     ]
    }
   ],
   "source": [
    "%%time\n",
    "MakeModelsNEW(list_of_classifiers[0], rows)"
   ]
  },
  {
   "cell_type": "code",
   "execution_count": null,
   "id": "acd1df09-5ef6-41b3-9a4a-6b0f0aa9a03a",
   "metadata": {},
   "outputs": [],
   "source": [
    "%%time\n",
    "myfunc(list_of_classifiers[0], 20)"
   ]
  },
  {
   "cell_type": "code",
   "execution_count": null,
   "id": "cf9001af-a8b0-4c76-9fb8-591aa1ab64dd",
   "metadata": {},
   "outputs": [],
   "source": [
    "%%time\n",
    "myfunc(list_of_classifiers[0], 40)"
   ]
  },
  {
   "cell_type": "code",
   "execution_count": null,
   "id": "5048e4f6-d91e-4721-8cbd-c798e1dc56cc",
   "metadata": {},
   "outputs": [],
   "source": [
    "# Full one should take about 18 hours to run"
   ]
  },
  {
   "cell_type": "code",
   "execution_count": null,
   "id": "1a59a99d-874d-487b-911d-db5e43b3585b",
   "metadata": {},
   "outputs": [],
   "source": [
    "%%time\n",
    "Parallel(n_jobs=3)(delayed(myfunc)(c, 40) for c in list_of_classifiers)"
   ]
  },
  {
   "cell_type": "code",
   "execution_count": null,
   "id": "9c957247-2841-4cbf-a138-17221d2f5cea",
   "metadata": {},
   "outputs": [],
   "source": [
    "%%time\n",
    "Parallel(n_jobs=3, prefer=\"threads\")(delayed(myfunc)(c, 40) for c in list_of_classifiers)"
   ]
  },
  {
   "cell_type": "code",
   "execution_count": null,
   "id": "81a30ca3-cfd2-4124-adc8-3e3331c005d1",
   "metadata": {},
   "outputs": [],
   "source": [
    "%%time\n",
    "Parallel(n_jobs=-1, prefer=\"threads\")(delayed(myfunc)(c, 40) for c in list_of_classifiers)"
   ]
  },
  {
   "cell_type": "code",
   "execution_count": null,
   "id": "ea9a5871-e62d-4ed8-876f-2b8eec5ef08a",
   "metadata": {},
   "outputs": [],
   "source": []
  }
 ],
 "metadata": {
  "kernelspec": {
   "display_name": "Python 3 (ipykernel)",
   "language": "python",
   "name": "python3"
  },
  "language_info": {
   "codemirror_mode": {
    "name": "ipython",
    "version": 3
   },
   "file_extension": ".py",
   "mimetype": "text/x-python",
   "name": "python",
   "nbconvert_exporter": "python",
   "pygments_lexer": "ipython3",
   "version": "3.8.8"
  }
 },
 "nbformat": 4,
 "nbformat_minor": 5
}
