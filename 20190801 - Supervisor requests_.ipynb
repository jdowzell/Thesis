{
 "cells": [
  {
   "cell_type": "markdown",
   "metadata": {
    "deletable": true,
    "editable": true
   },
   "source": [
    "So I mentioned in an email prior about whether you two (Dr. Munroe and Dr. LeBlanc) are considered my supervisors, and you said that no, because supervisors cannot be changed without express student consent - which is good tbh, that's a good way to do it.\n",
    "\n",
    "I cannot remember if I asked or not, but if you two are happy with me being your formal supervisee, I would like to start the ball rolling on that.\n",
    "\n",
    "This is, of course, only if there is agreement that this is acceptable with either/both of you. I am aware that I am not the fastest worker, nor am I the most studious person, and heaven only knows that I could hark on about my faults (aren't we all our own worst critic?) but I can say, with certainty, that I feel like I have gotten more actual, tangible, this-feels-like-I-have-accomplished-something work with you two than I have with my current supervisor.\n",
    "\n",
    "Granted, I was provided with a lot of literature to read by my current supervisor, but - as pointed out in early days of our meetings - this seems to be largely rooted in old texts (70s, 80s, etc) as opposed to more modern texts, with more tangibly useful information and functionally relevant information.\n",
    "\n",
    "This is not something I am demanding an answer for immediately; that would be impolite of me at best, and incredibly rude and burdensome to you at worse. However, this is something I would like to know at some point, if that is okay.\n",
    "\n",
    "I am also in the process of re-writing my thesis proposal (as a prior proposal was submitted and some changes were requested, and it was somewhere around there where communications with my current supervisor basically ceased) with less out-dated, more relevant-to-the-current-work related, and with greater ideas of where the rest of the thesis is going to take me. As such, once I know your decisions, I can submit to the relevant parties the revised version, and then a Yae or Nae can be declared once again.\n",
    "\n",
    "Thank you for all of your time so far, and I hope that I can continue to work under your combined supervision, formally or not!\n",
    "\n",
    "~ Jake"
   ]
  },
  {
   "cell_type": "code",
   "execution_count": null,
   "metadata": {
    "collapsed": true
   },
   "outputs": [],
   "source": []
  }
 ],
 "metadata": {
  "kernelspec": {
   "display_name": "Python 3",
   "language": "python",
   "name": "python3"
  },
  "language_info": {
   "codemirror_mode": {
    "name": "ipython",
    "version": 3
   },
   "file_extension": ".py",
   "mimetype": "text/x-python",
   "name": "python",
   "nbconvert_exporter": "python",
   "pygments_lexer": "ipython3",
   "version": "3.5.6"
  }
 },
 "nbformat": 4,
 "nbformat_minor": 0
}
