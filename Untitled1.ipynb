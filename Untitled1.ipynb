{
 "cells": [
  {
   "cell_type": "code",
   "execution_count": 1,
   "id": "mediterranean-calculator",
   "metadata": {},
   "outputs": [],
   "source": [
    "################################\n",
    "# Scientific imports\n",
    "################################\n",
    "import gc\n",
    "import matplotlib.pyplot as plt\n",
    "import numpy as np\n",
    "from datetime import datetime\n",
    "from astropy.io import fits\n",
    "from astroquery.mast import Observations\n",
    "from astroquery.mast import Catalogs\n",
    "from astropy import units as u\n",
    "from astropy.timeseries import BoxLeastSquares\n",
    "from astropy.timeseries import TimeSeries\n",
    "\n",
    "################################\n",
    "# General imports\n",
    "################################\n",
    "import csv, math, io, os, os.path, sys, random, time, json, re\n",
    "import pandas as pd\n",
    "import seaborn as sb\n",
    "from tqdm.notebook import tqdm, trange\n",
    "\n",
    "################################\n",
    "# SciKitLearn Imports\n",
    "################################\n",
    "import sklearn\n",
    "from sklearn import metrics\n",
    "from sklearn.svm import SVC\n",
    "from sklearn.decomposition import PCA\n",
    "from sklearn.pipeline import make_pipeline\n",
    "from sklearn.model_selection import train_test_split\n",
    "from sklearn.model_selection import GridSearchCV\n",
    "from sklearn.metrics import confusion_matrix\n",
    "from sklearn.tree import DecisionTreeClassifier\n",
    "from sklearn.ensemble import BaggingClassifier\n",
    "from sklearn.ensemble import RandomForestClassifier\n",
    "from sklearn.cluster import SpectralClustering\n",
    "from sklearn.naive_bayes import GaussianNB\n",
    "from sklearn.naive_bayes import MultinomialNB\n",
    "from sklearn.metrics import make_scorer\n",
    "from sklearn.metrics import accuracy_score\n",
    "from sklearn.cluster import KMeans\n",
    "\n",
    "from IPython.display import display\n",
    "\n",
    "################################\n",
    "# MatPlotLib Settings\n",
    "################################\n",
    "#plt.rcParams[\"figure.figsize\"] = (20,9)\n",
    "sb.set()"
   ]
  },
  {
   "cell_type": "code",
   "execution_count": 2,
   "id": "italic-trance",
   "metadata": {},
   "outputs": [],
   "source": [
    "################################\n",
    "# Functions\n",
    "################################\n",
    "def GetLC(rndFile=-1, fullOutput=False):\n",
    "    \n",
    "    # rndFile is random, unless specified\n",
    "    rndFile = random.randint(0,len(fitsarr)) if rndFile==-1 else rndFile\n",
    "    #print(\"Curve = {}\".format(rndFile))\n",
    "    \n",
    "    # Get LC data from the requisite fits file\n",
    "    fitsFile = fitsarr[rndFile]\n",
    "\n",
    "    # The following line of code gives us the header values\n",
    "    fitsHeaders = fits.getheader(fitsFile)\n",
    "\n",
    "    with fits.open(fitsFile, mode=\"readonly\") as hdulist:\n",
    "\n",
    "        # Extract stellar parameters from the primary header.\n",
    "        obj       = hdulist[0].header['OBJECT']\n",
    "        #sector    = hdulist[0].header['SECTOR']\n",
    "\n",
    "        # Extract some of the columns of interest for the first TCE signal.  These are stored in the binary FITS table\n",
    "        # in the first extension.  We'll extract the timestamps in TBJD, phase, initial fluxes, and corresponding\n",
    "        # model fluxes.\n",
    "        tess_bjds     = hdulist[1].data['TIME']\n",
    "        #sap_fluxes    = hdulist[1].data['SAP_FLUX']\n",
    "        pdcsap_fluxes = hdulist[1].data['PDCSAP_FLUX']\n",
    "\n",
    "    # X- and Y- labels\n",
    "    ylab = \"PDCSAP Flux (e-/s)\"\n",
    "    xlab = \"Time (TBJD)\"\n",
    "\n",
    "    if (fullOutput == True):\n",
    "        return (tess_bjds, pdcsap_fluxes, str(rndFile), str(obj), ylab, xlab)\n",
    "    else:\n",
    "        return (tess_bjds, pdcsap_fluxes)\n",
    "\n",
    "    \n",
    "    \n",
    "def DrawLC(n=-1, trimends=True):\n",
    "    x,y,f,o,ylab,xlab = GetLC(n, fullOutput=True)\n",
    "\n",
    "    fig, ax = plt.subplots()\n",
    "    \n",
    "    if (trimends):\n",
    "        # Trims off the preceeding and proceeding zeroes present in the test data\n",
    "        x = x[1:-1]\n",
    "        y = y[1:-1]\n",
    "        \n",
    "    ax.plot(x,y)\n",
    "\n",
    "    fig.suptitle(\"File № {} - {}\".format(f, o), fontsize=20) # + str(obj) + \" - Sector \" + str(sector))\n",
    "\n",
    "    ax.set_xlabel(xlab, fontsize=16)\n",
    "    ax.set_ylabel(ylab, fontsize=16)\n",
    "    \n",
    "    \n",
    "    \n",
    "def FTTMyData(x,y):\n",
    "    \"\"\"\n",
    "    Function that takes in a timeseries and then outputs a Fourier Transformed version of it\n",
    "    \"\"\"\n",
    "    \n",
    "    # First, change all 0s to NANs\n",
    "    #ynew = [idx for idx, element in enumerate(y) if element == 0]\n",
    "    #y[y==0] = np.nan\n",
    "    \n",
    "    # Is this required?\n",
    "    TMP = np.correlate(y-np.mean(y),y-np.mean(y),mode='full')\n",
    "    \n",
    "    # FOURIER TRANSFORM THAT Y (remember to use np.nanmean instead of np.mean)\n",
    "    FTY = np.fft.fft(y-np.mean(y))\n",
    "    powSpectrum = np.abs(FTY)\n",
    "    \n",
    "    # Get Delta D\n",
    "    delta_d = np.nanmean(np.diff(x))\n",
    "    #print(delta_d)\n",
    "    \n",
    "    # DO THE THING\n",
    "    F=np.fft.fftfreq(len(y),delta_d)\n",
    "    #plt.plot(F,powSpectrum)\n",
    "    return(F,powSpectrum)\n",
    "\n",
    "\n",
    "\n",
    "def ConfusionMatrix(mat,textonly=False):\n",
    "    \n",
    "    print(\"> CM-START\")\n",
    "    \n",
    "    # CHECK IF SQUARE\n",
    "    if (all (len (row) == len (mat) for row in mat)):\n",
    "        TN = mat[0][0]\n",
    "        FP = mat[0][1]\n",
    "        FN = mat[1][0]\n",
    "        TP = mat[1][1]\n",
    "\n",
    "        TPR = TP/(TP+FN)\n",
    "        FPR = FP/(FP+TN)\n",
    "        \n",
    "        outputtext='''\n",
    "        True Positives:  {}\n",
    "        False Positives: {}\n",
    "        True Negatives:  {}\n",
    "        False Negatives: {}\n",
    "        \n",
    "        True Positive Rate:  {}\n",
    "        False Positive Rate: {}\n",
    "        '''.format(TP,FP,TN,FN,TPR,FPR)\n",
    "        \n",
    "        print(\"> CM-OUTPUT\")\n",
    "        \n",
    "        if (textonly==False):\n",
    "            return (outputtext,TPR,FPR)\n",
    "        else:\n",
    "            return(TP,FP,TN,FN)\n",
    "\n",
    "\n",
    "\n",
    "def GetPositiveRates(dataArr, checkArr): #, param_grid): #, ncomp=8):\n",
    "    \n",
    "    # Make a PCA Pipeline\n",
    "    print(\"> GPR-START\")\n",
    "    \n",
    "    #model = SVC(kernel='rbf', class_weight='balanced')\n",
    "    #model = RandomForestClassifier(n_estimators=100)\n",
    "\n",
    "    #model = SpectralClustering(n_clusters=2, affinity='nearest_neighbors', assign_labels='kmeans')\n",
    "    model = KMeans(n_clusters=2, random_state=42)\n",
    "   \n",
    "    # Sort data into Test and Train\n",
    "    Xtrain, Xtest, ytrain, ytest = train_test_split(dataArr, checkArr, random_state=42)\n",
    "    \n",
    "    # Do gridsearch for svc params\n",
    "    #print(\"> GPR-GRIDSEARCH\")\n",
    "    #grid = GridSearchCV(model, param_grid, scoring='accuracy', refit=True)\n",
    "    \n",
    "    # Fit model\n",
    "    print(\"> GPR-FIT\")\n",
    "    model.fit(Xtrain, ytrain)\n",
    "    \n",
    "    # Use svc params and predict\n",
    "    print(\"> GPR-PREDICT\")\n",
    "    \n",
    "    #print(\"> > Best parameter (CV score=%0.3f):\" % model.best_score_)\n",
    "    #print(\"> > {}\".format(model.best_params_))\n",
    "    \n",
    "    clusters = model.fit_predict\n",
    "    print(model.cluster_centers_)\n",
    "    print(model.cluster_centers_.shape)\n",
    "    \n",
    "    print(\"###\\n{}\\n###\".format(model.labels_))\n",
    "    \n",
    "    # Now that model has done, time for confusion matrix shenanigans\n",
    "    print(\"> GPR-CONFUSION\")\n",
    "    mat = confusion_matrix(ytest, clusters)\n",
    "    \n",
    "    return (mat)\n",
    "\n",
    "\n",
    "\n",
    "def PlotConfusionMatrixOld(mat, ncomps):\n",
    "    \n",
    "    STATS, TPR, FPR = ConfusionMatrix(mat)\n",
    "    \n",
    "    cMat  = sb.heatmap(mat.T, square=True, annot=True, fmt='d', cbar=False,\n",
    "            xticklabels=['Positive','Negative'],\n",
    "            yticklabels=['Positive','Negative'])\n",
    "    \n",
    "    plt.rcParams[\"figure.figsize\"] = (6,6)\n",
    "    sb.set(font_scale=1.3)\n",
    "    \n",
    "    fig = cMat.get_figure() \n",
    "    plt.xlabel('Actual Value')\n",
    "    plt.ylabel('Predicted Value')\n",
    "    plt.title(\"Confusion Matrix of PCA/SVM Pipeline\\nNumber of PCA components: {}\".format(ncomps))\n",
    "    \n",
    "    #plt.text(0,3.5,confRates[0])\n",
    "    \n",
    "    targetdest=\"./confusionmatrices/\"\n",
    "    \n",
    "    plt.savefig(targetdest+\"PCA_SVM_Matrix.png\")\n",
    "    \n",
    "    with open(targetdest+\"PCA_SVM_Matrix.txt\", \"w\") as f:\n",
    "        f.write(STATS)\n",
    "\n",
    "\n",
    "        \n",
    "def PlotConfusionMatrix(mat):\n",
    "    \n",
    "    TP, FP, TN, FN = ConfusionMatrix(mat, True)\n",
    "    stats = \"TP:{}\\nFP:{}\\nTN:{}\\nFN:{}\".format(TP,FP,TN,FN)\n",
    "    return (stats)"
   ]
  },
  {
   "cell_type": "code",
   "execution_count": 70,
   "id": "initial-server",
   "metadata": {},
   "outputs": [],
   "source": [
    "fluxarr = np.load(\"None_Or_One_Exoplanet_NORMALISED.npy\")\n",
    "#isplanetarr = [\"Planet\" if x==1 else \"Not Planet\" for x in np.load(\"one_or_none_isplanetlist.npy\")]\n",
    "isplanetarr = np.load(\"one_or_none_isplanetlist.npy\")"
   ]
  },
  {
   "cell_type": "code",
   "execution_count": 227,
   "id": "restricted-celebration",
   "metadata": {},
   "outputs": [],
   "source": [
    "#confMat = GetPositiveRates(fluxarr, isplanetarr)"
   ]
  },
  {
   "cell_type": "code",
   "execution_count": 12,
   "id": "electoral-kansas",
   "metadata": {},
   "outputs": [
    {
     "name": "stdout",
     "output_type": "stream",
     "text": [
      "> GPR-FIT\n",
      "> GPR-PREDICT\n",
      "[[  0.           1.0001402    0.99958634 ...   1.0019504    1.0017823\n",
      "    0.        ]\n",
      " [  0.          28.025335    -5.532441   ... -79.128586   -27.135986\n",
      "    0.        ]]\n",
      "(2, 20340)\n",
      "###\n",
      "[0 0 0 ... 0 0 0]\n",
      "###\n"
     ]
    }
   ],
   "source": [
    "model = KMeans(n_clusters=2, random_state=42)\n",
    "\n",
    "# Sort data into Test and Train\n",
    "Xtrain, Xtest, ytrain, ytest = train_test_split(fluxarr, isplanetarr, random_state=42)\n",
    "\n",
    "print(\"> GPR-FIT\")\n",
    "model.fit(Xtrain, ytrain)\n",
    "\n",
    "# Use svc params and predict\n",
    "print(\"> GPR-PREDICT\")\n",
    "\n",
    "clusters = model.fit_predict\n",
    "print(model.cluster_centers_)\n",
    "print(model.cluster_centers_.shape)\n",
    "\n",
    "print(\"###\\n{}\\n###\".format(model.labels_))"
   ]
  },
  {
   "cell_type": "code",
   "execution_count": 13,
   "id": "demonstrated-london",
   "metadata": {},
   "outputs": [
    {
     "data": {
      "text/plain": [
       "<bound method KMeans.fit_predict of KMeans(n_clusters=2, random_state=42)>"
      ]
     },
     "execution_count": 13,
     "metadata": {},
     "output_type": "execute_result"
    }
   ],
   "source": [
    "clusters"
   ]
  },
  {
   "cell_type": "code",
   "execution_count": 14,
   "id": "hindu-request",
   "metadata": {},
   "outputs": [
    {
     "data": {
      "text/plain": [
       "array([0, 0, 0, ..., 1, 0, 0])"
      ]
     },
     "execution_count": 14,
     "metadata": {},
     "output_type": "execute_result"
    }
   ],
   "source": [
    "ytest"
   ]
  },
  {
   "cell_type": "code",
   "execution_count": 16,
   "id": "romantic-freeware",
   "metadata": {},
   "outputs": [
    {
     "data": {
      "text/plain": [
       "array([0, 0, 0, ..., 0, 0, 0], dtype=int32)"
      ]
     },
     "execution_count": 16,
     "metadata": {},
     "output_type": "execute_result"
    }
   ],
   "source": [
    "clusters(Xtest, ytest)"
   ]
  },
  {
   "cell_type": "code",
   "execution_count": null,
   "id": "gentle-fight",
   "metadata": {},
   "outputs": [],
   "source": []
  },
  {
   "cell_type": "code",
   "execution_count": 17,
   "id": "dutch-tuesday",
   "metadata": {},
   "outputs": [
    {
     "name": "stdout",
     "output_type": "stream",
     "text": [
      "> GPR-CONFUSION\n"
     ]
    }
   ],
   "source": [
    "# Now that model has done, time for confusion matrix shenanigans\n",
    "print(\"> GPR-CONFUSION\")\n",
    "mat = confusion_matrix(ytest, clusters(Xtest, ytest))"
   ]
  },
  {
   "cell_type": "code",
   "execution_count": 18,
   "id": "common-cosmetic",
   "metadata": {},
   "outputs": [
    {
     "data": {
      "text/plain": [
       "array([[1745,    1],\n",
       "       [ 543,    0]])"
      ]
     },
     "execution_count": 18,
     "metadata": {},
     "output_type": "execute_result"
    }
   ],
   "source": [
    "mat"
   ]
  },
  {
   "cell_type": "code",
   "execution_count": 230,
   "id": "owned-bacteria",
   "metadata": {
    "collapsed": true,
    "jupyter": {
     "outputs_hidden": true,
     "source_hidden": true
    },
    "tags": []
   },
   "outputs": [
    {
     "name": "stdout",
     "output_type": "stream",
     "text": [
      "['KMeans_NORM.json', 'SVM_NORM.json']\n"
     ]
    }
   ],
   "source": [
    "import glob\n",
    "os.chdir(\"./confusionmatrices\")     # Don't like this cause it changes the working directory which blows\n",
    "jsonList = glob.glob(\"*.json\")\n",
    "os.chdir(\"../\")\n",
    "print(jsonList)"
   ]
  },
  {
   "cell_type": "code",
   "execution_count": 6,
   "id": "sufficient-baghdad",
   "metadata": {},
   "outputs": [
    {
     "name": "stdout",
     "output_type": "stream",
     "text": [
      "['./confusionmatrices/KMeans_NORM.json', './confusionmatrices/SVM_NORM.json']\n"
     ]
    }
   ],
   "source": [
    "import os, json \n",
    "jsonList = []\n",
    "targetDir = \"./confusionmatrices\"\n",
    "for file in os.listdir(targetDir):\n",
    "    if file.endswith(\".json\"):\n",
    "        jsonList.append(os.path.join(\"./confusionmatrices\", file))\n",
    "print(jsonList)"
   ]
  },
  {
   "cell_type": "code",
   "execution_count": 7,
   "id": "numeric-print",
   "metadata": {},
   "outputs": [
    {
     "name": "stdout",
     "output_type": "stream",
     "text": [
      "./confusionmatrices/KMeans_NORM.json\n",
      "./confusionmatrices/SVM_NORM.json\n"
     ]
    }
   ],
   "source": [
    "jsondata = [0] * len(jsonList)\n",
    "for e,i in enumerate(jsonList):\n",
    "    with open(i) as f:\n",
    "        print(i)\n",
    "        jsondata[e] = json.load(f)\n"
   ]
  },
  {
   "cell_type": "code",
   "execution_count": 17,
   "id": "opened-former",
   "metadata": {},
   "outputs": [
    {
     "data": {
      "text/plain": [
       "['KMeans_NORM', 'SVM_NORM']"
      ]
     },
     "execution_count": 17,
     "metadata": {},
     "output_type": "execute_result"
    }
   ],
   "source": [
    "algolist = []\n",
    "for algorithm in jsondata:\n",
    "    for keys in algorithm:\n",
    "        algolist.append(keys)\n",
    "        #print(keys)\n",
    "#algolist = list(set(algolist))\n",
    "#algolist.sort()\n",
    "algolist"
   ]
  },
  {
   "cell_type": "code",
   "execution_count": 10,
   "id": "searching-nancy",
   "metadata": {},
   "outputs": [
    {
     "data": {
      "text/plain": [
       "'KMeans_NORM'"
      ]
     },
     "execution_count": 10,
     "metadata": {},
     "output_type": "execute_result"
    }
   ],
   "source": [
    "algolist=algolist[0]\n",
    "algolist"
   ]
  },
  {
   "cell_type": "code",
   "execution_count": 18,
   "id": "imperial-bulgaria",
   "metadata": {
    "collapsed": true,
    "jupyter": {
     "outputs_hidden": true
    },
    "tags": []
   },
   "outputs": [
    {
     "data": {
      "text/plain": [
       "[[{'tstart': '2021-10-20 04:28:55.858165',\n",
       "   'tdelta': '0:06:47.791590',\n",
       "   'tfinish': '2021-10-20 04:35:43.649755',\n",
       "   'TN': '1745',\n",
       "   'FP': '1',\n",
       "   'FN': '543',\n",
       "   'TP': '0',\n",
       "   'dateran': '2021-10-20 04:28:55',\n",
       "   'CV': {'mean_fit_time': '[176.77003555 164.66093144 147.73073511]',\n",
       "    'std_fit_time': '[ 7.05197533 12.70596103  4.23404545]',\n",
       "    'mean_score_time': '[0.50461917 0.29279695 0.07623067]',\n",
       "    'std_score_time': '[0.250814   0.26500345 0.02926421]',\n",
       "    'param_algorithm': \"['auto' 'full' 'elkan']\",\n",
       "    'params': [{'algorithm': 'auto'},\n",
       "     {'algorithm': 'full'},\n",
       "     {'algorithm': 'elkan'}],\n",
       "    'split0_test_score': '[-799998.3125 -799998.3125 -799998.3125]',\n",
       "    'split1_test_score': '[-219121.59375 -219121.59375 -219121.59375]',\n",
       "    'split2_test_score': '[-17419.39257812 -17419.39257812 -17419.39257812]',\n",
       "    'split3_test_score': '[-27640842. -27640842. -27640842.]',\n",
       "    'split4_test_score': '[-33572.80078125 -33572.80078125 -33572.80078125]',\n",
       "    'mean_test_score': '[-5742190.81992188 -5742190.81992188 -5742190.81992188]',\n",
       "    'std_test_score': '[10953006.99851898 10953006.99851898 10953006.99851898]',\n",
       "    'rank_test_score': '[1 1 1]'}}],\n",
       " [{'tstart': '2021-10-21 03:48:32.513624',\n",
       "   'tdelta': '6:22:13.819549',\n",
       "   'tfinish': '2021-10-21 10:10:46.333173',\n",
       "   'TN': '82',\n",
       "   'FP': '1664',\n",
       "   'FN': '14',\n",
       "   'TP': '529',\n",
       "   'dateran': '2021-10-21 03:48:32',\n",
       "   'CV': {'mean_fit_time': '[838.19162731 829.85887671 807.36264095 798.17859921 780.7581305\\n 788.52126031 773.40193233 761.78262568 750.12158527 742.98401017\\n 754.49586263 754.92741199 716.02818508 729.97618518 716.05742354\\n 727.09448867 738.88745599 766.45806193 739.66120667 732.91439281\\n 728.92189531 728.91742992 736.52366753 766.24212942 612.87962284]',\n",
       "    'std_fit_time': '[ 2.31030842  3.48696098 22.25674412 18.54178502 32.72323234 10.13391024\\n 17.03103671 19.29243866 34.96793344 34.16942168 51.55816846 10.3490681\\n 43.67661285 35.99056192 58.96509339 38.82401263 45.83156775  6.51687504\\n 31.16882696 34.59386887 58.59273262 43.88972986 43.98983366  8.82935928\\n 24.70125664]',\n",
       "    'mean_score_time': '[265.99726634 269.97948704 293.22728877 285.12274113 316.58616171\\n 293.47124658 309.31080012 324.82280946 337.51193299 320.2819613\\n 341.79209599 328.33924971 346.76139426 348.3029891  340.03983521\\n 322.95781455 328.77682605 302.96942959 315.72971492 334.13333254\\n 350.04816508 328.40366488 313.00846672 293.38827233 211.90694151]',\n",
       "    'std_score_time': '[11.53113052 29.93616878 28.8615167  26.11433831 46.35283884 30.84652128\\n 11.44639935 26.07883295 28.1504447  24.84813023 40.40943905 20.24517602\\n 58.08887514 26.89794036 61.93586538 55.49779255 47.34436547 24.71696552\\n 41.88617344 29.62578407 50.68725813 55.28528793 56.07456058 13.0043058\\n 41.89753008]',\n",
       "    'param_C': '[0.01 0.01 0.01 0.01 0.01 0.1 0.1 0.1 0.1 0.1 1 1 1 1 1 5 5 5 5 5 10 10 10\\n 10 10]',\n",
       "    'param_gamma': '[1e-06 1e-05 0.0001 0.0005 0.001 1e-06 1e-05 0.0001 0.0005 0.001 1e-06\\n 1e-05 0.0001 0.0005 0.001 1e-06 1e-05 0.0001 0.0005 0.001 1e-06 1e-05\\n 0.0001 0.0005 0.001]',\n",
       "    'params': [{'C': 0.01, 'gamma': 1e-06},\n",
       "     {'C': 0.01, 'gamma': 1e-05},\n",
       "     {'C': 0.01, 'gamma': 0.0001},\n",
       "     {'C': 0.01, 'gamma': 0.0005},\n",
       "     {'C': 0.01, 'gamma': 0.001},\n",
       "     {'C': 0.1, 'gamma': 1e-06},\n",
       "     {'C': 0.1, 'gamma': 1e-05},\n",
       "     {'C': 0.1, 'gamma': 0.0001},\n",
       "     {'C': 0.1, 'gamma': 0.0005},\n",
       "     {'C': 0.1, 'gamma': 0.001},\n",
       "     {'C': 1, 'gamma': 1e-06},\n",
       "     {'C': 1, 'gamma': 1e-05},\n",
       "     {'C': 1, 'gamma': 0.0001},\n",
       "     {'C': 1, 'gamma': 0.0005},\n",
       "     {'C': 1, 'gamma': 0.001},\n",
       "     {'C': 5, 'gamma': 1e-06},\n",
       "     {'C': 5, 'gamma': 1e-05},\n",
       "     {'C': 5, 'gamma': 0.0001},\n",
       "     {'C': 5, 'gamma': 0.0005},\n",
       "     {'C': 5, 'gamma': 0.001},\n",
       "     {'C': 10, 'gamma': 1e-06},\n",
       "     {'C': 10, 'gamma': 1e-05},\n",
       "     {'C': 10, 'gamma': 0.0001},\n",
       "     {'C': 10, 'gamma': 0.0005},\n",
       "     {'C': 10, 'gamma': 0.001}],\n",
       "    'split0_test_score': '[0.24180626 0.24180626 0.24180626 0.24180626 0.24180626 0.24180626\\n 0.24180626 0.24180626 0.24180626 0.24471959 0.24180626 0.2425346\\n 0.75673707 0.25710124 0.2629279  0.2425346  0.27312454 0.31318281\\n 0.28550619 0.28332119 0.2425346  0.7574654  0.30808449 0.28769119\\n 0.29133285]',\n",
       "    'split1_test_score': '[0.24180626 0.24180626 0.24180626 0.24180626 0.24180626 0.24180626\\n 0.24180626 0.24180626 0.24180626 0.24180626 0.24180626 0.2425346\\n 0.2425346  0.24981792 0.25637291 0.24180626 0.2425346  0.2585579\\n 0.2811362  0.27603787 0.24180626 0.24326293 0.28914785 0.2811362\\n 0.28040787]',\n",
       "    'split2_test_score': '[0.2425346  0.2425346  0.2425346  0.2425346  0.2425346  0.2425346\\n 0.2425346  0.2425346  0.2425346  0.2425346  0.2425346  0.2425346\\n 0.2425346  0.25273125 0.26219956 0.2425346  0.2425346  0.27676621\\n 0.28404953 0.2811362  0.2425346  0.24544792 0.29570284 0.29570284\\n 0.29060452]',\n",
       "    'split3_test_score': '[0.2425346  0.2425346  0.2425346  0.2425346  0.2425346  0.2425346\\n 0.2425346  0.2425346  0.2425346  0.24326293 0.2425346  0.24326293\\n 0.24326293 0.25928623 0.26656956 0.24326293 0.2425346  0.28040787\\n 0.28186453 0.28259286 0.24326293 0.24471959 0.29351784 0.28769119\\n 0.29351784]',\n",
       "    'split4_test_score': '[0.2425346  0.2425346  0.2425346  0.2425346  0.2425346  0.2425346\\n 0.2425346  0.2425346  0.2425346  0.24326293 0.2425346  0.2425346\\n 0.24544792 0.25782957 0.27093955 0.2425346  0.24471959 0.28259286\\n 0.3015295  0.29643117 0.2425346  0.74435543 0.31099782 0.30808449\\n 0.2993445 ]',\n",
       "    'mean_test_score': '[0.24224326 0.24224326 0.24224326 0.24224326 0.24224326 0.24224326\\n 0.24224326 0.24224326 0.24224326 0.24311726 0.24224326 0.24268026\\n 0.34610342 0.25535324 0.26380189 0.2425346  0.24908958 0.28230153\\n 0.28681719 0.28390386 0.2425346  0.44705025 0.29949017 0.29206118\\n 0.29104151]',\n",
       "    'std_test_score': '[0.00035681 0.00035681 0.00035681 0.00035681 0.00035681 0.00035681\\n 0.00035681 0.00035681 0.00035681 0.00096624 0.00035681 0.00029133\\n 0.2053196  0.00352621 0.00483998 0.00046064 0.01204724 0.01761661\\n 0.00751842 0.00676055 0.00046064 0.24813641 0.00852366 0.00924724\\n 0.00613876]',\n",
       "    'rank_test_score': '[16 16 16 16 16 16 16 16 16 12 16 13  2 10  9 14 11  8  6  7 14  1  3  4\\n  5]'}}]]"
      ]
     },
     "execution_count": 18,
     "metadata": {},
     "output_type": "execute_result"
    }
   ],
   "source": [
    "keylist = []\n",
    "\n",
    "for algorithm in jsondata:\n",
    "    for keys in algorithm:\n",
    "        #print(keys, \"\\n\",algorithm[keys],\"\\n\\n\")\n",
    "        keylist.append(algorithm[keys])\n",
    "        \n",
    "keylist"
   ]
  },
  {
   "cell_type": "code",
   "execution_count": 19,
   "id": "optional-paste",
   "metadata": {},
   "outputs": [
    {
     "data": {
      "text/plain": [
       "['tstart', 'tdelta', 'tfinish', 'TN', 'FP', 'FN', 'TP', 'dateran', 'CV']"
      ]
     },
     "execution_count": 19,
     "metadata": {},
     "output_type": "execute_result"
    }
   ],
   "source": [
    "columnList = list(keylist[0][0].keys())\n",
    "columnList"
   ]
  },
  {
   "cell_type": "code",
   "execution_count": 20,
   "id": "renewable-expert",
   "metadata": {},
   "outputs": [
    {
     "name": "stdout",
     "output_type": "stream",
     "text": [
      "['2021-10-20 04:28:55.858165', '0:06:47.791590', '2021-10-20 04:35:43.649755', '1745', '1', '543', '0', '2021-10-20 04:28:55', {'mean_fit_time': '[176.77003555 164.66093144 147.73073511]', 'std_fit_time': '[ 7.05197533 12.70596103  4.23404545]', 'mean_score_time': '[0.50461917 0.29279695 0.07623067]', 'std_score_time': '[0.250814   0.26500345 0.02926421]', 'param_algorithm': \"['auto' 'full' 'elkan']\", 'params': [{'algorithm': 'auto'}, {'algorithm': 'full'}, {'algorithm': 'elkan'}], 'split0_test_score': '[-799998.3125 -799998.3125 -799998.3125]', 'split1_test_score': '[-219121.59375 -219121.59375 -219121.59375]', 'split2_test_score': '[-17419.39257812 -17419.39257812 -17419.39257812]', 'split3_test_score': '[-27640842. -27640842. -27640842.]', 'split4_test_score': '[-33572.80078125 -33572.80078125 -33572.80078125]', 'mean_test_score': '[-5742190.81992188 -5742190.81992188 -5742190.81992188]', 'std_test_score': '[10953006.99851898 10953006.99851898 10953006.99851898]', 'rank_test_score': '[1 1 1]'}]\n"
     ]
    }
   ],
   "source": [
    "jsondatalist = []\n",
    "for i, x in enumerate(keylist):\n",
    "    jsondatalist.append(list(list(x)[0].values()))\n",
    "    \n",
    "print(jsondatalist[0])\n",
    "    \n",
    "# Convert TP,TF, etc into ints, not strings\n",
    "for row in jsondatalist:\n",
    "    for i in range(3, len(row)-1):\n",
    "        #print(row[i])\n",
    "        try:\n",
    "            row[i] = int(row[i])\n",
    "        except ValueError:\n",
    "            continue\n",
    "            print(\"Row is a time not an int\")\n",
    "\n",
    "# Print DF\n",
    "#print(jsondatalist)"
   ]
  },
  {
   "cell_type": "code",
   "execution_count": 22,
   "id": "static-sleeping",
   "metadata": {},
   "outputs": [
    {
     "data": {
      "text/html": [
       "<div>\n",
       "<style scoped>\n",
       "    .dataframe tbody tr th:only-of-type {\n",
       "        vertical-align: middle;\n",
       "    }\n",
       "\n",
       "    .dataframe tbody tr th {\n",
       "        vertical-align: top;\n",
       "    }\n",
       "\n",
       "    .dataframe thead th {\n",
       "        text-align: right;\n",
       "    }\n",
       "</style>\n",
       "<table border=\"1\" class=\"dataframe\">\n",
       "  <thead>\n",
       "    <tr style=\"text-align: right;\">\n",
       "      <th></th>\n",
       "      <th>TN</th>\n",
       "      <th>FP</th>\n",
       "      <th>FN</th>\n",
       "      <th>TP</th>\n",
       "      <th>Accuracy</th>\n",
       "      <th>Precision</th>\n",
       "      <th>Recall</th>\n",
       "    </tr>\n",
       "  </thead>\n",
       "  <tbody>\n",
       "    <tr>\n",
       "      <th>KMeans_NORM</th>\n",
       "      <td>1745</td>\n",
       "      <td>1</td>\n",
       "      <td>543</td>\n",
       "      <td>0</td>\n",
       "      <td>0.762342</td>\n",
       "      <td>0.000000</td>\n",
       "      <td>0.000000</td>\n",
       "    </tr>\n",
       "    <tr>\n",
       "      <th>SVM_NORM</th>\n",
       "      <td>82</td>\n",
       "      <td>1664</td>\n",
       "      <td>14</td>\n",
       "      <td>529</td>\n",
       "      <td>0.266929</td>\n",
       "      <td>0.241222</td>\n",
       "      <td>0.974217</td>\n",
       "    </tr>\n",
       "  </tbody>\n",
       "</table>\n",
       "</div>"
      ],
      "text/plain": [
       "               TN    FP   FN   TP  Accuracy  Precision    Recall\n",
       "KMeans_NORM  1745     1  543    0  0.762342   0.000000  0.000000\n",
       "SVM_NORM       82  1664   14  529  0.266929   0.241222  0.974217"
      ]
     },
     "execution_count": 22,
     "metadata": {},
     "output_type": "execute_result"
    }
   ],
   "source": [
    "df = pd.DataFrame(jsondatalist, columns=columnList, index=algolist)\n",
    "df = df.drop(['CV','dateran', 'tstart', 'tfinish', 'tdelta'],axis=1)\n",
    "\n",
    "df['Accuracy']  = ((df['TP']+df['TN']) / (df['TP']+df['TN']+df['FP']+df['FN']))\n",
    "df['Precision'] = ((df['TP'])          / (df['TP']+df['FP']))\n",
    "df['Recall']    = ((df['TP'])          / (df['TP']+df['FN']))\n",
    "\n",
    "df"
   ]
  },
  {
   "cell_type": "code",
   "execution_count": 23,
   "id": "freelance-physiology",
   "metadata": {},
   "outputs": [
    {
     "data": {
      "text/html": [
       "<div>\n",
       "<style scoped>\n",
       "    .dataframe tbody tr th:only-of-type {\n",
       "        vertical-align: middle;\n",
       "    }\n",
       "\n",
       "    .dataframe tbody tr th {\n",
       "        vertical-align: top;\n",
       "    }\n",
       "\n",
       "    .dataframe thead th {\n",
       "        text-align: right;\n",
       "    }\n",
       "</style>\n",
       "<table border=\"1\" class=\"dataframe\">\n",
       "  <thead>\n",
       "    <tr style=\"text-align: right;\">\n",
       "      <th></th>\n",
       "      <th>TN</th>\n",
       "      <th>FP</th>\n",
       "      <th>FN</th>\n",
       "      <th>TP</th>\n",
       "      <th>Accuracy</th>\n",
       "      <th>Precision</th>\n",
       "      <th>Recall</th>\n",
       "    </tr>\n",
       "  </thead>\n",
       "  <tbody>\n",
       "    <tr>\n",
       "      <th>KMeans_NORM</th>\n",
       "      <td>1745</td>\n",
       "      <td>1</td>\n",
       "      <td>543</td>\n",
       "      <td>0</td>\n",
       "      <td>0.762342</td>\n",
       "      <td>0.0</td>\n",
       "      <td>0.0</td>\n",
       "    </tr>\n",
       "  </tbody>\n",
       "</table>\n",
       "</div>"
      ],
      "text/plain": [
       "               TN  FP   FN  TP  Accuracy  Precision  Recall\n",
       "KMeans_NORM  1745   1  543   0  0.762342        0.0     0.0"
      ]
     },
     "execution_count": 23,
     "metadata": {},
     "output_type": "execute_result"
    }
   ],
   "source": [
    "kdf = df.head(1)\n",
    "kdf"
   ]
  },
  {
   "cell_type": "code",
   "execution_count": 24,
   "id": "fatty-lender",
   "metadata": {},
   "outputs": [
    {
     "data": {
      "text/html": [
       "<div>\n",
       "<style scoped>\n",
       "    .dataframe tbody tr th:only-of-type {\n",
       "        vertical-align: middle;\n",
       "    }\n",
       "\n",
       "    .dataframe tbody tr th {\n",
       "        vertical-align: top;\n",
       "    }\n",
       "\n",
       "    .dataframe thead th {\n",
       "        text-align: right;\n",
       "    }\n",
       "</style>\n",
       "<table border=\"1\" class=\"dataframe\">\n",
       "  <thead>\n",
       "    <tr style=\"text-align: right;\">\n",
       "      <th></th>\n",
       "      <th>TN</th>\n",
       "      <th>FP</th>\n",
       "      <th>FN</th>\n",
       "      <th>TP</th>\n",
       "      <th>Accuracy</th>\n",
       "      <th>Precision</th>\n",
       "      <th>Recall</th>\n",
       "    </tr>\n",
       "  </thead>\n",
       "  <tbody>\n",
       "    <tr>\n",
       "      <th>SVM_NORM</th>\n",
       "      <td>82</td>\n",
       "      <td>1664</td>\n",
       "      <td>14</td>\n",
       "      <td>529</td>\n",
       "      <td>0.266929</td>\n",
       "      <td>0.241222</td>\n",
       "      <td>0.974217</td>\n",
       "    </tr>\n",
       "  </tbody>\n",
       "</table>\n",
       "</div>"
      ],
      "text/plain": [
       "          TN    FP  FN   TP  Accuracy  Precision    Recall\n",
       "SVM_NORM  82  1664  14  529  0.266929   0.241222  0.974217"
      ]
     },
     "execution_count": 24,
     "metadata": {},
     "output_type": "execute_result"
    }
   ],
   "source": [
    "sdf = df.tail(1)\n",
    "sdf"
   ]
  },
  {
   "cell_type": "code",
   "execution_count": 26,
   "id": "classified-exclusion",
   "metadata": {},
   "outputs": [
    {
     "data": {
      "text/plain": [
       "82"
      ]
     },
     "execution_count": 26,
     "metadata": {},
     "output_type": "execute_result"
    }
   ],
   "source": [
    "sdf.TN[0]"
   ]
  },
  {
   "cell_type": "code",
   "execution_count": 113,
   "id": "basic-romantic",
   "metadata": {},
   "outputs": [],
   "source": [
    "def MakeMatrix(rowNum):\n",
    "    \n",
    "    TN, FP, FN, TP = df['TN'][rowNum], df['FP'][rowNum], df['FN'][rowNum], df['TP'][rowNum]\n",
    "    \n",
    "    title = df.index[rowNum]\n",
    "    \n",
    "    mat = [[0 for x in range(2)] for y in range(2)]\n",
    "    mat[0][0] = TN\n",
    "    mat[0][1] = FP\n",
    "    mat[1][0] = FN\n",
    "    mat[1][1] = TP\n",
    "    #return(mat)\n",
    "    \n",
    "    confMat = sb.heatmap(mat, square=True, annot=True, fmt='d', cbar=False, cmap=\"rocket\",\n",
    "            xticklabels=['Negative','Positive'],\n",
    "            yticklabels=['Negative','Positive'],\n",
    "            annot_kws={\"size\": 20})\n",
    "    \n",
    "    confMat.set_xticklabels(confMat.get_xmajorticklabels(), fontsize = 14)\n",
    "    confMat.set_yticklabels(confMat.get_ymajorticklabels(), fontsize = 14)\n",
    "    \n",
    "    plt.rcParams[\"figure.figsize\"] = (5,5)\n",
    "    sb.set(font_scale=1.3)\n",
    "    \n",
    "    fig = confMat.get_figure() \n",
    "    plt.xlabel('Actual Value', fontsize=16, labelpad=10)\n",
    "    plt.ylabel('Predicted Value', fontsize=16, labelpad=10)\n",
    "    \n",
    "    titleText = \"Confusion Matrix: \"+title\n",
    "    \n",
    "    plt.title(titleText)\n",
    "    \n",
    "    #plt.show()\n",
    "    \n",
    "    targetdest=\"./confusionmatrices/\"\n",
    "    \n",
    "    #plt.savefig(\"{}ConfusionMatrix_{}.png\".format(targetdest,title))"
   ]
  },
  {
   "cell_type": "code",
   "execution_count": 115,
   "id": "blocked-highland",
   "metadata": {},
   "outputs": [
    {
     "data": {
      "image/png": "[encoded data removed]",
      "text/plain": [
       "<Figure size 360x360 with 1 Axes>"
      ]
     },
     "metadata": {},
     "output_type": "display_data"
    }
   ],
   "source": [
    "MakeMatrix(0)"
   ]
  },
  {
   "cell_type": "code",
   "execution_count": 116,
   "id": "norwegian-smile",
   "metadata": {},
   "outputs": [
    {
     "data": {
      "image/png": "[encoded data removed]",
      "text/plain": [
       "<Figure size 360x360 with 1 Axes>"
      ]
     },
     "metadata": {},
     "output_type": "display_data"
    }
   ],
   "source": []
  },
  {
   "cell_type": "code",
   "execution_count": 222,
   "id": "angry-scenario",
   "metadata": {},
   "outputs": [
    {
     "name": "stdout",
     "output_type": "stream",
     "text": [
      "\n",
      "% Set these to make table look nicer\n",
      "\\renewcommand{\\arraystretch}{2}\n",
      "\\renewcommand{\\tabcolsep}{20.25pt}\n",
      "% Begin Table\n",
      "\\begin{table}[ht]\n",
      "\\begin{tabular}{cccc}\n",
      " & \\multicolumn{3}{c}{Predicted Values} \\\\ \\cline{3-4}\n",
      " & \\multicolumn{1}{c|}{} & \\multicolumn{1}{c|}{\\textbf{Negative}} & \\multicolumn{1}{c|}{\\textbf{Positive}} \\\\ \\cline{2-4}\n",
      "\\multicolumn{1}{c|}{\\multirow{2}{2.0cm}{Actual Values}} & \\multicolumn{1}{c|}{\\textbf{Negative}} & \\multicolumn{1}{c|}{True Negative} & \\multicolumn{1}{c|}{False Positive} \\\\ \\cline{2-4}\n",
      "\\multicolumn{1}{c|}{} & \\multicolumn{1}{c|}{\\textbf{Positive}} & \\multicolumn{1}{c|}{False Negative} & \\multicolumn{1}{c|}{True Positive} \\\\ \\cline{2-4}\n",
      "\\end{tabular}\n",
      "\\caption{A Confusion Matrix, showing the comparison between the Actual and Predicted values, and what conclusion they represent. A \\emph{True} result implies that a given model correctly predicted the feature from the testing and training data. A \\emph{False} result implies that the model incorrectly predicted the feature.}\n",
      "\\label{tab:confusionmatrix}\n",
      "\\end{table}\n",
      "% End Table\n",
      "% Set commands back to normal\n",
      "\\renewcommand{\\arraystretch}{1}\n",
      "\\renewcommand{\\tabcolsep}{5.25pt}\n",
      "\n"
     ]
    }
   ],
   "source": [
    "defaultText = r\"\"\"\n",
    "% Set these to make table look nicer\n",
    "\\renewcommand{\\arraystretch}{2}\n",
    "\\renewcommand{\\tabcolsep}{20.25pt}\n",
    "% Begin Table\n",
    "\\begin{table}[ht]\n",
    "\\begin{tabular}{cccc}\n",
    " & \\multicolumn{3}{c}{Predicted Values} \\\\ \\cline{3-4}\n",
    " & \\multicolumn{1}{c|}{} & \\multicolumn{1}{c|}{\\textbf{Negative}} & \\multicolumn{1}{c|}{\\textbf{Positive}} \\\\ \\cline{2-4}\n",
    "\\multicolumn{1}{c|}{\\multirow{2}{2.0cm}{Actual Values}} & \\multicolumn{1}{c|}{\\textbf{Negative}} & \\multicolumn{1}{c|}{True Negative} & \\multicolumn{1}{c|}{False Positive} \\\\ \\cline{2-4}\n",
    "\\multicolumn{1}{c|}{} & \\multicolumn{1}{c|}{\\textbf{Positive}} & \\multicolumn{1}{c|}{False Negative} & \\multicolumn{1}{c|}{True Positive} \\\\ \\cline{2-4}\n",
    "\\end{tabular}\n",
    "\\caption{A Confusion Matrix, showing the comparison between the Actual and Predicted values, and what conclusion they represent. A \\emph{True} result implies that a given model correctly predicted the feature from the testing and training data. A \\emph{False} result implies that the model incorrectly predicted the feature.}\n",
    "\\label{tab:confusionmatrix}\n",
    "\\end{table}\n",
    "% End Table\n",
    "% Set commands back to normal\n",
    "\\renewcommand{\\arraystretch}{1}\n",
    "\\renewcommand{\\tabcolsep}{5.25pt}\n",
    "\"\"\"\n",
    "print(defaultText)"
   ]
  },
  {
   "cell_type": "code",
   "execution_count": 223,
   "id": "alleged-amber",
   "metadata": {},
   "outputs": [
    {
     "name": "stdout",
     "output_type": "stream",
     "text": [
      "\n",
      "% Set these to make table look nicer\n",
      "\\renewcommand{\\arraystretch}{2}\n",
      "\\renewcommand{\\tabcolsep}{20.25pt}\n",
      "% Begin Table\n",
      "\\begin{table}[ht]\n",
      "\\begin{tabular}{cccc}\n",
      " & \\multicolumn{3}{c}{Predicted Values} \\\\ \\cline{3-4}\n",
      " & \\multicolumn{1}{c|}{} & \\multicolumn{1}{c|}{\\textbf{Negative}} & \\multicolumn{1}{c|}{\\textbf{Positive}} \\\\ \\cline{2-4}\n",
      "\\multicolumn{1}{c|}{\\multirow{2}{2.0cm}{Actual Values}} & \\multicolumn{1}{c|}{\\textbf{Negative}} & \\multicolumn{1}{c|}{1745} & \\multicolumn{1}{c|}{1} \\\\ \\cline{2-4}\n",
      "\\multicolumn{1}{c|}{} & \\multicolumn{1}{c|}{\\textbf{Positive}} & \\multicolumn{1}{c|}{543} & \\multicolumn{1}{c|}{0} \\\\ \\cline{2-4}\n",
      "\\end{tabular}\n",
      "\\caption{A Confusion Matrix, showing the comparison between the Actual and Predicted values, and what conclusion they represent. A \\emph{True} result implies that a given model correctly predicted the feature from the testing and training data. A \\emph{False} result implies that the model incorrectly predicted the feature.}\n",
      "\\label{tab:confusionmatrix}\n",
      "\\end{table}\n",
      "% End Table\n",
      "% Set commands back to normal\n",
      "\\renewcommand{\\arraystretch}{1}\n",
      "\\renewcommand{\\tabcolsep}{5.25pt}\n",
      "\n"
     ]
    }
   ],
   "source": [
    "defaultText = re.sub(\"True Negative\",  str(TN), defaultText)\n",
    "defaultText = re.sub(\"True Positive\",  str(TP), defaultText)\n",
    "defaultText = re.sub(\"False Negative\", str(FN), defaultText)\n",
    "defaultText = re.sub(\"False Positive\", str(FP), defaultText)\n",
    "\n",
    "defaultText = defaultText.replace('\\\\', \"\\\\\")\n",
    "\n",
    "print(defaultText)"
   ]
  },
  {
   "cell_type": "code",
   "execution_count": null,
   "id": "distinct-aviation",
   "metadata": {},
   "outputs": [],
   "source": []
  },
  {
   "cell_type": "code",
   "execution_count": 28,
   "id": "demographic-launch",
   "metadata": {},
   "outputs": [
    {
     "name": "stdout",
     "output_type": "stream",
     "text": [
      "LC: 257;   Count = 1091\n"
     ]
    },
    {
     "ename": "KeyboardInterrupt",
     "evalue": "",
     "output_type": "error",
     "traceback": [
      "\u001b[0;31m---------------------------------------------------------------------------\u001b[0m",
      "\u001b[0;31mKeyboardInterrupt\u001b[0m                         Traceback (most recent call last)",
      "\u001b[0;32m<ipython-input-28-6c1ebc7d1c87>\u001b[0m in \u001b[0;36m<module>\u001b[0;34m\u001b[0m\n\u001b[1;32m      4\u001b[0m     \u001b[0mcount\u001b[0m \u001b[0;34m=\u001b[0m \u001b[0;36m0\u001b[0m\u001b[0;34m\u001b[0m\u001b[0;34m\u001b[0m\u001b[0m\n\u001b[1;32m      5\u001b[0m     \u001b[0;32mfor\u001b[0m \u001b[0mnumber\u001b[0m \u001b[0;32min\u001b[0m \u001b[0mLC\u001b[0m\u001b[0;34m:\u001b[0m\u001b[0;34m\u001b[0m\u001b[0;34m\u001b[0m\u001b[0m\n\u001b[0;32m----> 6\u001b[0;31m         \u001b[0;32mif\u001b[0m \u001b[0mnumber\u001b[0m \u001b[0;34m<\u001b[0m \u001b[0;36m0\u001b[0m\u001b[0;34m:\u001b[0m\u001b[0;34m\u001b[0m\u001b[0;34m\u001b[0m\u001b[0m\n\u001b[0m\u001b[1;32m      7\u001b[0m             \u001b[0mcount\u001b[0m \u001b[0;34m+=\u001b[0m \u001b[0;36m1\u001b[0m\u001b[0;34m\u001b[0m\u001b[0;34m\u001b[0m\u001b[0m\n\u001b[1;32m      8\u001b[0m             \u001b[0mnegnums\u001b[0m\u001b[0;34m.\u001b[0m\u001b[0mappend\u001b[0m\u001b[0;34m(\u001b[0m\u001b[0mnumber\u001b[0m\u001b[0;34m)\u001b[0m\u001b[0;34m\u001b[0m\u001b[0;34m\u001b[0m\u001b[0m\n",
      "\u001b[0;31mKeyboardInterrupt\u001b[0m: "
     ]
    }
   ],
   "source": [
    "count = 0\n",
    "for i, LC in enumerate(fluxarr):\n",
    "    negnums=[]\n",
    "    count = 0\n",
    "    for number in LC:\n",
    "        if number < 0:\n",
    "            count += 1\n",
    "            negnums.append(number)\n",
    "    \n",
    "    if count!= 0:\n",
    "        print(\"LC: {};   Count = {}\".format(i,count))"
   ]
  },
  {
   "cell_type": "code",
   "execution_count": 51,
   "id": "distributed-offer",
   "metadata": {},
   "outputs": [
    {
     "name": "stdout",
     "output_type": "stream",
     "text": [
      "MinMaxScaler()\n",
      "8.715629\n",
      "-2.2325954\n",
      "10.948224\n"
     ]
    }
   ],
   "source": [
    "lc=fluxarr[257]\n",
    "lc2 = lc.copy().reshape(-1,1)\n",
    "\n",
    "from sklearn.preprocessing import MinMaxScaler\n",
    "scaler = MinMaxScaler()\n",
    "\n",
    "print(scaler.fit(lc2))\n",
    "smin = scaler.data_min_[0]\n",
    "smax = scaler.data_max_[0]\n",
    "srng = abs(smin) + abs(smax)\n",
    "print(smax)\n",
    "print(smin)\n",
    "print(srng)"
   ]
  },
  {
   "cell_type": "code",
   "execution_count": 55,
   "id": "quick-trace",
   "metadata": {},
   "outputs": [
    {
     "name": "stdout",
     "output_type": "stream",
     "text": [
      "[[2.2325954]\n",
      " [3.9126866]\n",
      " [3.4763856]\n",
      " ...\n",
      " [4.3252363]\n",
      " [3.0964358]\n",
      " [2.2325954]]\n"
     ]
    }
   ],
   "source": [
    "print(lc2[:] + abs(min(lc2)))"
   ]
  },
  {
   "cell_type": "code",
   "execution_count": 16,
   "id": "homeless-longitude",
   "metadata": {},
   "outputs": [
    {
     "name": "stdout",
     "output_type": "stream",
     "text": [
      "21\n",
      "20340\n"
     ]
    }
   ],
   "source": [
    "n = 1000\n",
    "c = 0\n",
    "l = len(fluxarr[0])\n",
    "x = math.ceil(l/n)\n",
    "print(x)\n",
    "print(l)"
   ]
  },
  {
   "cell_type": "code",
   "execution_count": 26,
   "id": "sealed-external",
   "metadata": {
    "tags": []
   },
   "outputs": [
    {
     "name": "stdout",
     "output_type": "stream",
     "text": [
      "[0:1000]\n",
      "[1000:2000]\n",
      "[2000:3000]\n",
      "[3000:4000]\n",
      "[4000:5000]\n",
      "[5000:6000]\n",
      "[6000:7000]\n",
      "[7000:8000]\n",
      "[8000:9000]\n",
      "[9000:10000]\n",
      "[10000:11000]\n",
      "[11000:12000]\n",
      "[12000:13000]\n",
      "[13000:14000]\n",
      "[14000:15000]\n",
      "[15000:16000]\n",
      "[16000:17000]\n",
      "[17000:18000]\n",
      "[18000:19000]\n",
      "[19000:20000]\n",
      "[20000:20340]\n"
     ]
    }
   ],
   "source": [
    "for c in range(x):\n",
    "    LB = n*c\n",
    "    UB = min(l,n*(c+1))\n",
    "    print(\"[{}:{}]\".format(LB,UB))\n",
    "    for j in fluxarr[0][LB:UB]:\n",
    "        #print(j,end='')\n",
    "        if j < 0:\n",
    "            print(\"Negative Number in range {}:{}\".format(LB,UB))\n",
    "            break"
   ]
  },
  {
   "cell_type": "code",
   "execution_count": 71,
   "id": "computational-imperial",
   "metadata": {},
   "outputs": [
    {
     "name": "stdout",
     "output_type": "stream",
     "text": [
      "LC 257 has negatives; minimum = -2.232595443725586\n",
      "LC 624 has negatives; minimum = -0.27065205574035645\n",
      "LC 672 has negatives; minimum = -5.01674222946167\n",
      "LC 971 has negatives; minimum = -1.9026390314102173\n",
      "LC 1060 has negatives; minimum = -0.3882333040237427\n",
      "LC 1203 has negatives; minimum = -1.1220159530639648\n",
      "LC 2268 has negatives; minimum = -1.5712021589279175\n",
      "LC 2333 has negatives; minimum = -1.9353854656219482\n",
      "LC 2569 has negatives; minimum = -0.16064956784248352\n",
      "LC 2881 has negatives; minimum = -0.5976473689079285\n",
      "LC 2933 has negatives; minimum = -0.1874045431613922\n",
      "LC 3706 has negatives; minimum = -13.357848167419434\n",
      "LC 4850 has negatives; minimum = -206.2410888671875\n",
      "LC 4858 has negatives; minimum = -7.840488433837891\n",
      "LC 4906 has negatives; minimum = -0.3316115438938141\n",
      "LC 5023 has negatives; minimum = -6.023961544036865\n",
      "LC 5074 has negatives; minimum = -2.0384597778320312\n",
      "LC 5501 has negatives; minimum = -1.2897428274154663\n",
      "LC 5529 has negatives; minimum = -2.1781749725341797\n",
      "LC 5543 has negatives; minimum = -0.23592285811901093\n",
      "LC 6029 has negatives; minimum = -0.26811131834983826\n",
      "LC 6059 has negatives; minimum = -0.0020532519556581974\n",
      "LC 6097 has negatives; minimum = -0.6382482647895813\n",
      "LC 6160 has negatives; minimum = -0.7436127066612244\n",
      "LC 7109 has negatives; minimum = -1.1600701808929443\n",
      "LC 7498 has negatives; minimum = -1.389259696006775\n",
      "LC 7500 has negatives; minimum = -0.18324032425880432\n",
      "LC 7938 has negatives; minimum = -2.3009116649627686\n",
      "LC 8118 has negatives; minimum = -0.7321643233299255\n",
      "LC 9153 has negatives; minimum = -14.485240936279297\n"
     ]
    }
   ],
   "source": [
    "posfluxarr = fluxarr.copy()\n",
    "for i, LC in enumerate(posfluxarr):\n",
    "    # The below operates on every LC\n",
    "    # Each LC is now a list of 20340 data points\n",
    "    #print(i, end='')\n",
    "    if min(LC) < 0:\n",
    "        MIN = min(LC)\n",
    "        print(\"LC {} has negatives; minimum = {}\".format(i,MIN))\n",
    "        LC[:] = [x + abs(MIN) for x in LC]"
   ]
  },
  {
   "cell_type": "code",
   "execution_count": 75,
   "id": "minus-transcription",
   "metadata": {},
   "outputs": [],
   "source": [
    "np.save(\"positive_None_Or_One_Exoplanet_NORMALISED.npy\",posfluxarr)"
   ]
  },
  {
   "cell_type": "code",
   "execution_count": 65,
   "id": "amber-timeline",
   "metadata": {},
   "outputs": [],
   "source": [
    "data[:] = [x+2 for x in data]"
   ]
  },
  {
   "cell_type": "code",
   "execution_count": 66,
   "id": "north-implementation",
   "metadata": {},
   "outputs": [
    {
     "data": {
      "text/plain": [
       "[3, 4, 5, 6, 7]"
      ]
     },
     "execution_count": 66,
     "metadata": {},
     "output_type": "execute_result"
    }
   ],
   "source": [
    "data"
   ]
  },
  {
   "cell_type": "code",
   "execution_count": null,
   "id": "28350bc4-6f49-4052-80fd-3f312259a83b",
   "metadata": {},
   "outputs": [],
   "source": []
  }
 ],
 "metadata": {
  "kernelspec": {
   "display_name": "Python 3 (ipykernel)",
   "language": "python",
   "name": "python3"
  },
  "language_info": {
   "codemirror_mode": {
    "name": "ipython",
    "version": 3
   },
   "file_extension": ".py",
   "mimetype": "text/x-python",
   "name": "python",
   "nbconvert_exporter": "python",
   "pygments_lexer": "ipython3",
   "version": "3.8.12"
  }
 },
 "nbformat": 4,
 "nbformat_minor": 5
}
