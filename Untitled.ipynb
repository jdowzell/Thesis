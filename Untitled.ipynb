{
 "cells": [
  {
   "cell_type": "code",
   "execution_count": 1,
   "id": "provincial-wound",
   "metadata": {},
   "outputs": [],
   "source": [
    "################################\n",
    "# Scientific imports\n",
    "################################\n",
    "import gc\n",
    "import matplotlib.pyplot as plt\n",
    "import numpy as np\n",
    "from datetime import datetime\n",
    "from astropy.io import fits\n",
    "from astroquery.mast import Observations\n",
    "from astroquery.mast import Catalogs\n",
    "from astropy import units as u\n",
    "from astropy.timeseries import BoxLeastSquares\n",
    "from astropy.timeseries import TimeSeries\n",
    "from astropy.stats import sigma_clipped_stats\n",
    "\n",
    "################################\n",
    "# General imports\n",
    "################################\n",
    "import csv, math, io, os, os.path, sys, random, time, json, statistics\n",
    "import pandas as pd\n",
    "import seaborn as sb\n",
    "from tqdm.notebook import tqdm, trange\n",
    "\n",
    "################################\n",
    "# SciKitLearn Imports\n",
    "################################\n",
    "import sklearn\n",
    "from sklearn import metrics\n",
    "from sklearn.svm import SVC\n",
    "from sklearn.decomposition import PCA\n",
    "from sklearn.pipeline import make_pipeline\n",
    "from sklearn.model_selection import train_test_split\n",
    "from sklearn.model_selection import GridSearchCV\n",
    "from sklearn.metrics import confusion_matrix\n",
    "from sklearn.tree import DecisionTreeClassifier\n",
    "from sklearn.ensemble import BaggingClassifier\n",
    "from sklearn.ensemble import RandomForestClassifier\n",
    "from sklearn.cluster import SpectralClustering\n",
    "from sklearn.naive_bayes import GaussianNB\n",
    "from sklearn.naive_bayes import MultinomialNB\n",
    "from sklearn.metrics import make_scorer\n",
    "from sklearn.metrics import accuracy_score\n",
    "from sklearn.cluster import KMeans\n",
    "\n",
    "from IPython.display import display\n",
    "\n",
    "################################\n",
    "# MatPlotLib Settings\n",
    "################################\n",
    "plt.rcParams[\"figure.figsize\"] = (20,9)\n",
    "sb.set()"
   ]
  },
  {
   "cell_type": "code",
   "execution_count": 4,
   "id": "adapted-border",
   "metadata": {},
   "outputs": [],
   "source": [
    "def ConfusionMatrix(mat,textonly=False):\n",
    "    \n",
    "    print(\"> CM-START\")\n",
    "    \n",
    "    # CHECK IF SQUARE\n",
    "    if (all (len (row) == len (mat) for row in mat)):\n",
    "        TN = mat[0][0]\n",
    "        FP = mat[0][1]\n",
    "        FN = mat[1][0]\n",
    "        TP = mat[1][1]\n",
    "\n",
    "        TPR = TP/(TP+FN)\n",
    "        FPR = FP/(FP+TN)\n",
    "        \n",
    "        outputtext='''\n",
    "        True Positives:  {}\n",
    "        False Positives: {}\n",
    "        True Negatives:  {}\n",
    "        False Negatives: {}\n",
    "        \n",
    "        True Positive Rate:  {}\n",
    "        False Positive Rate: {}\n",
    "        '''.format(TP,FP,TN,FN,TPR,FPR)\n",
    "        \n",
    "        print(\"> CM-OUTPUT\")\n",
    "        \n",
    "        if (textonly==False):\n",
    "            return (outputtext,TPR,FPR)\n",
    "        else:\n",
    "            return(TP,FP,TN,FN)\n"
   ]
  },
  {
   "cell_type": "code",
   "execution_count": 2,
   "id": "endangered-action",
   "metadata": {},
   "outputs": [
    {
     "name": "stdout",
     "output_type": "stream",
     "text": [
      "##########\n",
      "TIME START\n",
      "2021-06-21 03:57:50.382894\n",
      "##########\n",
      "LOADING FILES\n",
      "##########\n",
      "CREATING SHORTER FILES FOR TEST\n",
      "##########\n",
      "DONE\n"
     ]
    }
   ],
   "source": [
    "print(\"##########\\nTIME START\")\n",
    "tStart = datetime.now()\n",
    "print (tStart)\n",
    "\n",
    "print(\"##########\\nLOADING FILES\")\n",
    "\n",
    "# Load the Data files\n",
    "fitsarr = np.load(\"fitslist.npy\")\n",
    "fluxarrFULL = np.load(\"abridgedfluxlist.npy\")\n",
    "#fourierfluxarrFULL = np.load(\"fourierfluxlist.npy\")\n",
    "#planetarrFULL = np.load(\"planetlist.npy\")\n",
    "isplanetarrFULL = [1 if x==True else 0 for x in np.load(\"isplanetlist.npy\")]\n",
    "    \n",
    "print(\"##########\\nCREATING SHORTER FILES FOR TEST\")\n",
    "\n",
    "#fluxarr = [0]*len(fluxarrFULL)\n",
    "\n",
    "#for x in range (len(fluxarrFULL)):\n",
    "#    fluxarr[x] = fluxarrFULL[x][::10].copy()\n",
    "#del fluxarrFULL\n",
    "    \n",
    "# How many nth items do I want to sample\n",
    "everyNthItem = 5\n",
    "    \n",
    "# Let's see if this works\n",
    "_, fluxarr, _, isplanetarr = train_test_split(fluxarrFULL, isplanetarrFULL, random_state=42, test_size=1/everyNthItem)\n",
    "\n",
    "print(\"##########\\nDONE\")"
   ]
  },
  {
   "cell_type": "code",
   "execution_count": 3,
   "id": "atomic-fellow",
   "metadata": {},
   "outputs": [
    {
     "data": {
      "text/plain": [
       "3200"
      ]
     },
     "execution_count": 3,
     "metadata": {},
     "output_type": "execute_result"
    }
   ],
   "source": [
    "len(fluxarr)"
   ]
  },
  {
   "cell_type": "code",
   "execution_count": 3,
   "id": "computational-security",
   "metadata": {
    "collapsed": true,
    "jupyter": {
     "outputs_hidden": true
    },
    "tags": []
   },
   "outputs": [
    {
     "data": {
      "text/plain": [
       "datetime.datetime(2021, 6, 15, 1, 44, 27, 82830)"
      ]
     },
     "execution_count": 3,
     "metadata": {},
     "output_type": "execute_result"
    }
   ],
   "source": [
    "A = datetime.datetime.now()\n",
    "A"
   ]
  },
  {
   "cell_type": "code",
   "execution_count": 4,
   "id": "polyphonic-collaboration",
   "metadata": {
    "collapsed": true,
    "jupyter": {
     "outputs_hidden": true
    },
    "tags": []
   },
   "outputs": [
    {
     "name": "stdout",
     "output_type": "stream",
     "text": [
      "date and time: 06/15/2021, 01:44:38\n"
     ]
    }
   ],
   "source": [
    "date_time = datetime.datetime.now().strftime(\"%m/%d/%Y, %H:%M:%S\")\n",
    "print(\"date and time:\",date_time)"
   ]
  },
  {
   "cell_type": "code",
   "execution_count": null,
   "id": "dense-thermal",
   "metadata": {
    "tags": []
   },
   "outputs": [],
   "source": [
    "data = {}\n",
    "data['stats'] = []\n",
    "data['stats'].append({\n",
    "    'name': 'Scott',\n",
    "    'website': 'stackabuse.com',\n",
    "    'from': 'Nebraska'\n",
    "})\n",
    "data['stats'].append({\n",
    "    'name': 'Larry',\n",
    "    'website': 'google.com',\n",
    "    'from': 'Michigan'\n",
    "})\n",
    "data['stats'].append({\n",
    "    'name': 'Tim',\n",
    "    'website': 'apple.com',\n",
    "    'from': 'Alabama'\n",
    "})"
   ]
  },
  {
   "cell_type": "code",
   "execution_count": 10,
   "id": "statistical-teens",
   "metadata": {},
   "outputs": [],
   "source": [
    "from sklearn.tree import DecisionTreeClassifier\n",
    "from sklearn.ensemble import BaggingClassifier\n",
    "from sklearn.ensemble import RandomForestClassifier\n",
    "from sklearn import metrics\n",
    "from sklearn.metrics import confusion_matrix"
   ]
  },
  {
   "cell_type": "code",
   "execution_count": 11,
   "id": "periodic-convertible",
   "metadata": {
    "tags": []
   },
   "outputs": [
    {
     "name": "stdout",
     "output_type": "stream",
     "text": [
      "{'n_estimators': 2}\n"
     ]
    }
   ],
   "source": [
    "Xtrain, Xtest, ytrain, ytest = train_test_split(fluxarr, isplanetarr,\n",
    "                                                random_state=0)\n",
    "model = RandomForestClassifier(n_estimators=100)\n",
    "\n",
    "param_grid = {'n_estimators': [1, 2, 5, 10, 20, 50, 100]}\n",
    "\n",
    "grid = GridSearchCV(model, param_grid)\n",
    "\n",
    "grid.fit(Xtrain, ytrain)\n",
    "\n",
    "model = grid.best_estimator_\n",
    "ypred = model.predict(Xtest)\n",
    "\n",
    "#ypred = grid.predict(Xtest)\n",
    "\n",
    "print(grid.best_params_)"
   ]
  },
  {
   "cell_type": "code",
   "execution_count": 6,
   "id": "attended-vertical",
   "metadata": {},
   "outputs": [
    {
     "name": "stdout",
     "output_type": "stream",
     "text": [
      "> GPR-FIT\n",
      "> GPR-PREDICT\n",
      "(2, 2034)\n"
     ]
    }
   ],
   "source": [
    "model = KMeans(n_clusters=2, random_state=42)\n",
    "# Sort data into Test and Train\n",
    "Xtrain, Xtest, ytrain, ytest = train_test_split(fluxarr, isplanetarr, random_state=42)\n",
    "    \n",
    "# Do gridsearch for svc params\n",
    "#print(\"> GPR-GRIDSEARCH\")\n",
    "#grid = GridSearchCV(model, param_grid, scoring='accuracy', refit=True)\n",
    "\n",
    "# Fit model\n",
    "print(\"> GPR-FIT\")\n",
    "model.fit(Xtrain, ytrain)\n",
    "\n",
    "# Use svc params and predict\n",
    "print(\"> GPR-PREDICT\")   \n",
    "#model = grid.best_estimator_\n",
    "#yfit = model.predict(Xtest)\n",
    "clusters = model.fit_predict\n",
    "print(model.cluster_centers_.shape)"
   ]
  },
  {
   "cell_type": "code",
   "execution_count": 7,
   "id": "interesting-migration",
   "metadata": {},
   "outputs": [
    {
     "data": {
      "text/plain": [
       "array([[      0.        ,   49255.50685152,   49238.11126131, ...,\n",
       "          49310.12824443,   49295.40487477,   49269.7859024 ],\n",
       "       [      0.        , 2119763.67763158, 2122711.0625    , ...,\n",
       "        2122234.57894737, 2123236.60197368, 2121859.22697368]])"
      ]
     },
     "execution_count": 7,
     "metadata": {},
     "output_type": "execute_result"
    }
   ],
   "source": [
    "model.cluster_centers_"
   ]
  },
  {
   "cell_type": "code",
   "execution_count": null,
   "id": "documentary-syndication",
   "metadata": {},
   "outputs": [],
   "source": [
    "plt.scatter(X[:, 0], X[:, 1], c=y_kmeans, s=50, cmap='viridis')\n",
    "\n",
    "centers = kmeans.cluster_centers_\n",
    "plt.scatter(centers[:, 0], centers[:, 1], c='black', s=200, alpha=0.5);"
   ]
  },
  {
   "cell_type": "code",
   "execution_count": null,
   "id": "painted-brooklyn",
   "metadata": {},
   "outputs": [],
   "source": []
  },
  {
   "cell_type": "code",
   "execution_count": null,
   "id": "ethical-offense",
   "metadata": {},
   "outputs": [],
   "source": []
  },
  {
   "cell_type": "code",
   "execution_count": 5,
   "id": "solar-wrestling",
   "metadata": {},
   "outputs": [
    {
     "name": "stdout",
     "output_type": "stream",
     "text": [
      "> GPR-FIT\n",
      "> GPR-PREDICT\n",
      "(2, 2034)\n",
      "> GPR-CONFUSION\n"
     ]
    },
    {
     "ename": "TypeError",
     "evalue": "Expected sequence or array-like, got <class 'method'>",
     "output_type": "error",
     "traceback": [
      "\u001b[0;31m---------------------------------------------------------------------------\u001b[0m",
      "\u001b[0;31mTypeError\u001b[0m                                 Traceback (most recent call last)",
      "\u001b[0;32m<ipython-input-5-80765c0cd575>\u001b[0m in \u001b[0;36m<module>\u001b[0;34m\u001b[0m\n\u001b[1;32m     20\u001b[0m \u001b[0;31m# Now that model has done, time for confusion matrix shenanigans\u001b[0m\u001b[0;34m\u001b[0m\u001b[0;34m\u001b[0m\u001b[0;34m\u001b[0m\u001b[0m\n\u001b[1;32m     21\u001b[0m \u001b[0mprint\u001b[0m\u001b[0;34m(\u001b[0m\u001b[0;34m\"> GPR-CONFUSION\"\u001b[0m\u001b[0;34m)\u001b[0m\u001b[0;34m\u001b[0m\u001b[0;34m\u001b[0m\u001b[0m\n\u001b[0;32m---> 22\u001b[0;31m \u001b[0mmat\u001b[0m \u001b[0;34m=\u001b[0m \u001b[0mconfusion_matrix\u001b[0m\u001b[0;34m(\u001b[0m\u001b[0mytest\u001b[0m\u001b[0;34m,\u001b[0m \u001b[0mclusters\u001b[0m\u001b[0;34m)\u001b[0m\u001b[0;34m\u001b[0m\u001b[0;34m\u001b[0m\u001b[0m\n\u001b[0m\u001b[1;32m     23\u001b[0m \u001b[0;34m\u001b[0m\u001b[0m\n\u001b[1;32m     24\u001b[0m \u001b[0;32mreturn\u001b[0m \u001b[0;34m(\u001b[0m\u001b[0mmat\u001b[0m\u001b[0;34m)\u001b[0m\u001b[0;34m\u001b[0m\u001b[0;34m\u001b[0m\u001b[0m\n",
      "\u001b[0;32m~/anaconda3/lib/python3.8/site-packages/sklearn/utils/validation.py\u001b[0m in \u001b[0;36minner_f\u001b[0;34m(*args, **kwargs)\u001b[0m\n\u001b[1;32m     61\u001b[0m             \u001b[0mextra_args\u001b[0m \u001b[0;34m=\u001b[0m \u001b[0mlen\u001b[0m\u001b[0;34m(\u001b[0m\u001b[0margs\u001b[0m\u001b[0;34m)\u001b[0m \u001b[0;34m-\u001b[0m \u001b[0mlen\u001b[0m\u001b[0;34m(\u001b[0m\u001b[0mall_args\u001b[0m\u001b[0;34m)\u001b[0m\u001b[0;34m\u001b[0m\u001b[0;34m\u001b[0m\u001b[0m\n\u001b[1;32m     62\u001b[0m             \u001b[0;32mif\u001b[0m \u001b[0mextra_args\u001b[0m \u001b[0;34m<=\u001b[0m \u001b[0;36m0\u001b[0m\u001b[0;34m:\u001b[0m\u001b[0;34m\u001b[0m\u001b[0;34m\u001b[0m\u001b[0m\n\u001b[0;32m---> 63\u001b[0;31m                 \u001b[0;32mreturn\u001b[0m \u001b[0mf\u001b[0m\u001b[0;34m(\u001b[0m\u001b[0;34m*\u001b[0m\u001b[0margs\u001b[0m\u001b[0;34m,\u001b[0m \u001b[0;34m**\u001b[0m\u001b[0mkwargs\u001b[0m\u001b[0;34m)\u001b[0m\u001b[0;34m\u001b[0m\u001b[0;34m\u001b[0m\u001b[0m\n\u001b[0m\u001b[1;32m     64\u001b[0m \u001b[0;34m\u001b[0m\u001b[0m\n\u001b[1;32m     65\u001b[0m             \u001b[0;31m# extra_args > 0\u001b[0m\u001b[0;34m\u001b[0m\u001b[0;34m\u001b[0m\u001b[0;34m\u001b[0m\u001b[0m\n",
      "\u001b[0;32m~/anaconda3/lib/python3.8/site-packages/sklearn/metrics/_classification.py\u001b[0m in \u001b[0;36mconfusion_matrix\u001b[0;34m(y_true, y_pred, labels, sample_weight, normalize)\u001b[0m\n\u001b[1;32m    294\u001b[0m \u001b[0;34m\u001b[0m\u001b[0m\n\u001b[1;32m    295\u001b[0m     \"\"\"\n\u001b[0;32m--> 296\u001b[0;31m     \u001b[0my_type\u001b[0m\u001b[0;34m,\u001b[0m \u001b[0my_true\u001b[0m\u001b[0;34m,\u001b[0m \u001b[0my_pred\u001b[0m \u001b[0;34m=\u001b[0m \u001b[0m_check_targets\u001b[0m\u001b[0;34m(\u001b[0m\u001b[0my_true\u001b[0m\u001b[0;34m,\u001b[0m \u001b[0my_pred\u001b[0m\u001b[0;34m)\u001b[0m\u001b[0;34m\u001b[0m\u001b[0;34m\u001b[0m\u001b[0m\n\u001b[0m\u001b[1;32m    297\u001b[0m     \u001b[0;32mif\u001b[0m \u001b[0my_type\u001b[0m \u001b[0;32mnot\u001b[0m \u001b[0;32min\u001b[0m \u001b[0;34m(\u001b[0m\u001b[0;34m\"binary\"\u001b[0m\u001b[0;34m,\u001b[0m \u001b[0;34m\"multiclass\"\u001b[0m\u001b[0;34m)\u001b[0m\u001b[0;34m:\u001b[0m\u001b[0;34m\u001b[0m\u001b[0;34m\u001b[0m\u001b[0m\n\u001b[1;32m    298\u001b[0m         \u001b[0;32mraise\u001b[0m \u001b[0mValueError\u001b[0m\u001b[0;34m(\u001b[0m\u001b[0;34m\"%s is not supported\"\u001b[0m \u001b[0;34m%\u001b[0m \u001b[0my_type\u001b[0m\u001b[0;34m)\u001b[0m\u001b[0;34m\u001b[0m\u001b[0;34m\u001b[0m\u001b[0m\n",
      "\u001b[0;32m~/anaconda3/lib/python3.8/site-packages/sklearn/metrics/_classification.py\u001b[0m in \u001b[0;36m_check_targets\u001b[0;34m(y_true, y_pred)\u001b[0m\n\u001b[1;32m     81\u001b[0m     \u001b[0my_pred\u001b[0m \u001b[0;34m:\u001b[0m \u001b[0marray\u001b[0m \u001b[0;32mor\u001b[0m \u001b[0mindicator\u001b[0m \u001b[0mmatrix\u001b[0m\u001b[0;34m\u001b[0m\u001b[0;34m\u001b[0m\u001b[0m\n\u001b[1;32m     82\u001b[0m     \"\"\"\n\u001b[0;32m---> 83\u001b[0;31m     \u001b[0mcheck_consistent_length\u001b[0m\u001b[0;34m(\u001b[0m\u001b[0my_true\u001b[0m\u001b[0;34m,\u001b[0m \u001b[0my_pred\u001b[0m\u001b[0;34m)\u001b[0m\u001b[0;34m\u001b[0m\u001b[0;34m\u001b[0m\u001b[0m\n\u001b[0m\u001b[1;32m     84\u001b[0m     \u001b[0mtype_true\u001b[0m \u001b[0;34m=\u001b[0m \u001b[0mtype_of_target\u001b[0m\u001b[0;34m(\u001b[0m\u001b[0my_true\u001b[0m\u001b[0;34m)\u001b[0m\u001b[0;34m\u001b[0m\u001b[0;34m\u001b[0m\u001b[0m\n\u001b[1;32m     85\u001b[0m     \u001b[0mtype_pred\u001b[0m \u001b[0;34m=\u001b[0m \u001b[0mtype_of_target\u001b[0m\u001b[0;34m(\u001b[0m\u001b[0my_pred\u001b[0m\u001b[0;34m)\u001b[0m\u001b[0;34m\u001b[0m\u001b[0;34m\u001b[0m\u001b[0m\n",
      "\u001b[0;32m~/anaconda3/lib/python3.8/site-packages/sklearn/utils/validation.py\u001b[0m in \u001b[0;36mcheck_consistent_length\u001b[0;34m(*arrays)\u001b[0m\n\u001b[1;32m    257\u001b[0m     \"\"\"\n\u001b[1;32m    258\u001b[0m \u001b[0;34m\u001b[0m\u001b[0m\n\u001b[0;32m--> 259\u001b[0;31m     \u001b[0mlengths\u001b[0m \u001b[0;34m=\u001b[0m \u001b[0;34m[\u001b[0m\u001b[0m_num_samples\u001b[0m\u001b[0;34m(\u001b[0m\u001b[0mX\u001b[0m\u001b[0;34m)\u001b[0m \u001b[0;32mfor\u001b[0m \u001b[0mX\u001b[0m \u001b[0;32min\u001b[0m \u001b[0marrays\u001b[0m \u001b[0;32mif\u001b[0m \u001b[0mX\u001b[0m \u001b[0;32mis\u001b[0m \u001b[0;32mnot\u001b[0m \u001b[0;32mNone\u001b[0m\u001b[0;34m]\u001b[0m\u001b[0;34m\u001b[0m\u001b[0;34m\u001b[0m\u001b[0m\n\u001b[0m\u001b[1;32m    260\u001b[0m     \u001b[0muniques\u001b[0m \u001b[0;34m=\u001b[0m \u001b[0mnp\u001b[0m\u001b[0;34m.\u001b[0m\u001b[0munique\u001b[0m\u001b[0;34m(\u001b[0m\u001b[0mlengths\u001b[0m\u001b[0;34m)\u001b[0m\u001b[0;34m\u001b[0m\u001b[0;34m\u001b[0m\u001b[0m\n\u001b[1;32m    261\u001b[0m     \u001b[0;32mif\u001b[0m \u001b[0mlen\u001b[0m\u001b[0;34m(\u001b[0m\u001b[0muniques\u001b[0m\u001b[0;34m)\u001b[0m \u001b[0;34m>\u001b[0m \u001b[0;36m1\u001b[0m\u001b[0;34m:\u001b[0m\u001b[0;34m\u001b[0m\u001b[0;34m\u001b[0m\u001b[0m\n",
      "\u001b[0;32m~/anaconda3/lib/python3.8/site-packages/sklearn/utils/validation.py\u001b[0m in \u001b[0;36m<listcomp>\u001b[0;34m(.0)\u001b[0m\n\u001b[1;32m    257\u001b[0m     \"\"\"\n\u001b[1;32m    258\u001b[0m \u001b[0;34m\u001b[0m\u001b[0m\n\u001b[0;32m--> 259\u001b[0;31m     \u001b[0mlengths\u001b[0m \u001b[0;34m=\u001b[0m \u001b[0;34m[\u001b[0m\u001b[0m_num_samples\u001b[0m\u001b[0;34m(\u001b[0m\u001b[0mX\u001b[0m\u001b[0;34m)\u001b[0m \u001b[0;32mfor\u001b[0m \u001b[0mX\u001b[0m \u001b[0;32min\u001b[0m \u001b[0marrays\u001b[0m \u001b[0;32mif\u001b[0m \u001b[0mX\u001b[0m \u001b[0;32mis\u001b[0m \u001b[0;32mnot\u001b[0m \u001b[0;32mNone\u001b[0m\u001b[0;34m]\u001b[0m\u001b[0;34m\u001b[0m\u001b[0;34m\u001b[0m\u001b[0m\n\u001b[0m\u001b[1;32m    260\u001b[0m     \u001b[0muniques\u001b[0m \u001b[0;34m=\u001b[0m \u001b[0mnp\u001b[0m\u001b[0;34m.\u001b[0m\u001b[0munique\u001b[0m\u001b[0;34m(\u001b[0m\u001b[0mlengths\u001b[0m\u001b[0;34m)\u001b[0m\u001b[0;34m\u001b[0m\u001b[0;34m\u001b[0m\u001b[0m\n\u001b[1;32m    261\u001b[0m     \u001b[0;32mif\u001b[0m \u001b[0mlen\u001b[0m\u001b[0;34m(\u001b[0m\u001b[0muniques\u001b[0m\u001b[0;34m)\u001b[0m \u001b[0;34m>\u001b[0m \u001b[0;36m1\u001b[0m\u001b[0;34m:\u001b[0m\u001b[0;34m\u001b[0m\u001b[0;34m\u001b[0m\u001b[0m\n",
      "\u001b[0;32m~/anaconda3/lib/python3.8/site-packages/sklearn/utils/validation.py\u001b[0m in \u001b[0;36m_num_samples\u001b[0;34m(x)\u001b[0m\n\u001b[1;32m    196\u001b[0m             \u001b[0mx\u001b[0m \u001b[0;34m=\u001b[0m \u001b[0mnp\u001b[0m\u001b[0;34m.\u001b[0m\u001b[0masarray\u001b[0m\u001b[0;34m(\u001b[0m\u001b[0mx\u001b[0m\u001b[0;34m)\u001b[0m\u001b[0;34m\u001b[0m\u001b[0;34m\u001b[0m\u001b[0m\n\u001b[1;32m    197\u001b[0m         \u001b[0;32melse\u001b[0m\u001b[0;34m:\u001b[0m\u001b[0;34m\u001b[0m\u001b[0;34m\u001b[0m\u001b[0m\n\u001b[0;32m--> 198\u001b[0;31m             \u001b[0;32mraise\u001b[0m \u001b[0mTypeError\u001b[0m\u001b[0;34m(\u001b[0m\u001b[0mmessage\u001b[0m\u001b[0;34m)\u001b[0m\u001b[0;34m\u001b[0m\u001b[0;34m\u001b[0m\u001b[0m\n\u001b[0m\u001b[1;32m    199\u001b[0m \u001b[0;34m\u001b[0m\u001b[0m\n\u001b[1;32m    200\u001b[0m     \u001b[0;32mif\u001b[0m \u001b[0mhasattr\u001b[0m\u001b[0;34m(\u001b[0m\u001b[0mx\u001b[0m\u001b[0;34m,\u001b[0m \u001b[0;34m'shape'\u001b[0m\u001b[0;34m)\u001b[0m \u001b[0;32mand\u001b[0m \u001b[0mx\u001b[0m\u001b[0;34m.\u001b[0m\u001b[0mshape\u001b[0m \u001b[0;32mis\u001b[0m \u001b[0;32mnot\u001b[0m \u001b[0;32mNone\u001b[0m\u001b[0;34m:\u001b[0m\u001b[0;34m\u001b[0m\u001b[0;34m\u001b[0m\u001b[0m\n",
      "\u001b[0;31mTypeError\u001b[0m: Expected sequence or array-like, got <class 'method'>"
     ]
    }
   ],
   "source": [
    "# Now that model has done, time for confusion matrix shenanigans\n",
    "print(\"> GPR-CONFUSION\")\n",
    "mat = confusion_matrix(ytest, clusters)\n",
    "\n",
    "return (mat)"
   ]
  },
  {
   "cell_type": "code",
   "execution_count": 12,
   "id": "collected-committee",
   "metadata": {},
   "outputs": [
    {
     "name": "stdout",
     "output_type": "stream",
     "text": [
      "              precision    recall  f1-score   support\n",
      "\n",
      "           0       0.92      0.81      0.86       742\n",
      "           1       0.03      0.09      0.05        58\n",
      "\n",
      "    accuracy                           0.76       800\n",
      "   macro avg       0.48      0.45      0.46       800\n",
      "weighted avg       0.85      0.76      0.80       800\n",
      "\n"
     ]
    },
    {
     "data": {
      "image/png": "[encoded data removed]",
      "text/plain": [
       "<Figure size 432x288 with 1 Axes>"
      ]
     },
     "metadata": {},
     "output_type": "display_data"
    }
   ],
   "source": [
    "print(metrics.classification_report(ypred, ytest))\n",
    "\n",
    "mat = confusion_matrix(ytest, ypred)\n",
    "sb.heatmap(mat.T, square=True, annot=True, fmt='d', cbar=False)\n",
    "plt.xlabel('true label')\n",
    "plt.ylabel('predicted label');"
   ]
  },
  {
   "cell_type": "code",
   "execution_count": 25,
   "id": "trained-music",
   "metadata": {},
   "outputs": [
    {
     "data": {
      "text/plain": [
       "array([[601, 141],\n",
       "       [ 53,   5]])"
      ]
     },
     "execution_count": 25,
     "metadata": {},
     "output_type": "execute_result"
    }
   ],
   "source": [
    "mat.T"
   ]
  },
  {
   "cell_type": "code",
   "execution_count": 17,
   "id": "valued-disney",
   "metadata": {},
   "outputs": [],
   "source": [
    "tStart = 0\n",
    "tFin = 20\n",
    "tDelta = tFin - tStart\n",
    "TN = 3200\n",
    "FP = 700\n",
    "FN = 85\n",
    "TP= 15"
   ]
  },
  {
   "cell_type": "code",
   "execution_count": 19,
   "id": "athletic-sociology",
   "metadata": {
    "tags": []
   },
   "outputs": [
    {
     "data": {
      "text/plain": [
       "{'RandomTree': [{'tstart': 0,\n",
       "   'tdelta': 20,\n",
       "   'tfinish': 20,\n",
       "   'TN': 3200,\n",
       "   'FP': 700,\n",
       "   'FN': 85,\n",
       "   'TP': 15,\n",
       "   'dateran': datetime.datetime(2021, 6, 15, 2, 5, 47, 265721)}]}"
      ]
     },
     "execution_count": 19,
     "metadata": {},
     "output_type": "execute_result"
    }
   ],
   "source": [
    "data = {}\n",
    "data['RandomTree'] = []\n",
    "data['RandomTree'].append({\n",
    "    'tstart': tStart,\n",
    "    'tdelta': tDelta,\n",
    "    'tfinish': tFin,\n",
    "    'TN' : TN,\n",
    "    'FP' : FP,\n",
    "    'FN' : FN,\n",
    "    'TP' : TP,\n",
    "    'dateran': datetime.datetime.now()\n",
    "})\n",
    "data"
   ]
  },
  {
   "cell_type": "code",
   "execution_count": 38,
   "id": "moderate-treasury",
   "metadata": {
    "collapsed": true,
    "jupyter": {
     "outputs_hidden": true
    },
    "tags": []
   },
   "outputs": [
    {
     "data": {
      "text/plain": [
       "[{'tstart': 0,\n",
       "  'tdelta': 20,\n",
       "  'tfinish': 20,\n",
       "  'TN': 3200,\n",
       "  'FP': 700,\n",
       "  'FN': 85,\n",
       "  'TP': 5,\n",
       "  'dateran': datetime.datetime(2021, 6, 15, 1, 2, 56, 224477)}]"
      ]
     },
     "execution_count": 38,
     "metadata": {},
     "output_type": "execute_result"
    }
   ],
   "source": [
    "data['RandomTree']"
   ]
  },
  {
   "cell_type": "code",
   "execution_count": 51,
   "id": "english-wealth",
   "metadata": {
    "collapsed": true,
    "jupyter": {
     "outputs_hidden": true
    },
    "tags": []
   },
   "outputs": [
    {
     "data": {
      "text/plain": [
       "'RandomTree'"
      ]
     },
     "execution_count": 51,
     "metadata": {},
     "output_type": "execute_result"
    }
   ],
   "source": [
    "list(data.keys())[0]"
   ]
  },
  {
   "cell_type": "code",
   "execution_count": 64,
   "id": "defined-heading",
   "metadata": {
    "collapsed": true,
    "jupyter": {
     "outputs_hidden": true
    },
    "tags": []
   },
   "outputs": [
    {
     "data": {
      "text/plain": [
       "{'NewSelection': [{'tstart': 0,\n",
       "   'tdelta': 20,\n",
       "   'tfinish': 20,\n",
       "   'TN': 3200,\n",
       "   'FP': 700,\n",
       "   'FN': 85,\n",
       "   'TP': 5,\n",
       "   'dateran': datetime.datetime(2021, 6, 15, 1, 17, 36, 244668)}]}"
      ]
     },
     "execution_count": 64,
     "metadata": {},
     "output_type": "execute_result"
    }
   ],
   "source": [
    "TEST = True\n",
    "    \n",
    "if TEST == True:\n",
    "    data['NewSelection'] = data.pop('RandomTree')\n",
    "    \n",
    "data"
   ]
  },
  {
   "cell_type": "code",
   "execution_count": 7,
   "id": "occupied-extreme",
   "metadata": {},
   "outputs": [
    {
     "data": {
      "text/plain": [
       "datetime.datetime(2021, 6, 15, 1, 45, 34, 380657)"
      ]
     },
     "execution_count": 7,
     "metadata": {},
     "output_type": "execute_result"
    }
   ],
   "source": [
    "datetime.datetime.now()"
   ]
  },
  {
   "cell_type": "code",
   "execution_count": 8,
   "id": "overhead-scholar",
   "metadata": {},
   "outputs": [
    {
     "data": {
      "text/plain": [
       "datetime.datetime(2021, 6, 15, 1, 45, 35)"
      ]
     },
     "execution_count": 8,
     "metadata": {},
     "output_type": "execute_result"
    }
   ],
   "source": [
    "datetime.datetime.now().replace(microsecond=0)"
   ]
  },
  {
   "cell_type": "code",
   "execution_count": 12,
   "id": "urban-wheel",
   "metadata": {},
   "outputs": [
    {
     "data": {
      "text/plain": [
       "datetime.datetime(2021, 6, 15, 1, 45, 49, 434884)"
      ]
     },
     "execution_count": 12,
     "metadata": {},
     "output_type": "execute_result"
    }
   ],
   "source": [
    "datetime.datetime.today()"
   ]
  },
  {
   "cell_type": "code",
   "execution_count": 11,
   "id": "neural-kuwait",
   "metadata": {},
   "outputs": [
    {
     "data": {
      "text/plain": [
       "datetime.date(2021, 6, 15)"
      ]
     },
     "execution_count": 11,
     "metadata": {},
     "output_type": "execute_result"
    }
   ],
   "source": [
    "T=datetime.date.today()\n",
    "T"
   ]
  },
  {
   "cell_type": "code",
   "execution_count": 20,
   "id": "weekly-difference",
   "metadata": {},
   "outputs": [],
   "source": [
    "qwe = 'RandomTree'"
   ]
  },
  {
   "cell_type": "code",
   "execution_count": 22,
   "id": "saved-living",
   "metadata": {},
   "outputs": [
    {
     "data": {
      "text/plain": [
       "[{'tstart': 0,\n",
       "  'tdelta': 20,\n",
       "  'tfinish': 20,\n",
       "  'TN': 3200,\n",
       "  'FP': 700,\n",
       "  'FN': 85,\n",
       "  'TP': 15,\n",
       "  'dateran': datetime.datetime(2021, 6, 15, 2, 5, 47, 265721)}]"
      ]
     },
     "execution_count": 22,
     "metadata": {},
     "output_type": "execute_result"
    }
   ],
   "source": [
    "data['RandomTree']"
   ]
  },
  {
   "cell_type": "code",
   "execution_count": 23,
   "id": "consecutive-alexandria",
   "metadata": {},
   "outputs": [
    {
     "data": {
      "text/plain": [
       "[{'tstart': 0,\n",
       "  'tdelta': 20,\n",
       "  'tfinish': 20,\n",
       "  'TN': 3200,\n",
       "  'FP': 700,\n",
       "  'FN': 85,\n",
       "  'TP': 15,\n",
       "  'dateran': datetime.datetime(2021, 6, 15, 2, 5, 47, 265721)}]"
      ]
     },
     "execution_count": 23,
     "metadata": {},
     "output_type": "execute_result"
    }
   ],
   "source": [
    "data[qwe]"
   ]
  },
  {
   "cell_type": "code",
   "execution_count": 26,
   "id": "convenient-child",
   "metadata": {},
   "outputs": [
    {
     "data": {
      "text/plain": [
       "'RandomTreeTesting'"
      ]
     },
     "execution_count": 26,
     "metadata": {},
     "output_type": "execute_result"
    }
   ],
   "source": [
    "qweTEST = qwe+\"Testing\"\n",
    "qweTEST"
   ]
  },
  {
   "cell_type": "code",
   "execution_count": 29,
   "id": "grateful-squad",
   "metadata": {},
   "outputs": [
    {
     "data": {
      "text/plain": [
       "32512"
      ]
     },
     "execution_count": 29,
     "metadata": {},
     "output_type": "execute_result"
    }
   ],
   "source": [
    "import os\n",
    "duration = 1  # seconds\n",
    "freq = 440  # Hz\n",
    "os.system('play -nq -t alsa synth {} sine {}'.format(duration, freq))"
   ]
  },
  {
   "cell_type": "code",
   "execution_count": 17,
   "id": "experimental-muslim",
   "metadata": {},
   "outputs": [
    {
     "data": {
      "text/plain": [
       "array([0.  , 0.01, 0.02, 0.03, 0.04, 0.05, 0.06, 0.07, 0.08, 0.09, 0.1 ,\n",
       "       0.11, 0.12, 0.13, 0.14, 0.15, 0.16, 0.17, 0.18, 0.19, 0.2 , 0.21,\n",
       "       0.22, 0.23, 0.24, 0.25, 0.26, 0.27, 0.28, 0.29, 0.3 , 0.31, 0.32,\n",
       "       0.33, 0.34, 0.35, 0.36, 0.37, 0.38, 0.39, 0.4 , 0.41, 0.42, 0.43,\n",
       "       0.44, 0.45, 0.46, 0.47, 0.48, 0.49, 0.5 , 0.51, 0.52, 0.53, 0.54,\n",
       "       0.55, 0.56, 0.57, 0.58, 0.59, 0.6 , 0.61, 0.62, 0.63, 0.64, 0.65,\n",
       "       0.66, 0.67, 0.68, 0.69, 0.7 , 0.71, 0.72, 0.73, 0.74, 0.75, 0.76,\n",
       "       0.77, 0.78, 0.79, 0.8 , 0.81, 0.82, 0.83, 0.84, 0.85, 0.86, 0.87,\n",
       "       0.88, 0.89, 0.9 , 0.91, 0.92, 0.93, 0.94, 0.95, 0.96, 0.97, 0.98,\n",
       "       0.99, 1.  ])"
      ]
     },
     "execution_count": 17,
     "metadata": {},
     "output_type": "execute_result"
    }
   ],
   "source": [
    "X=np.arange(0.00, 1.01, 0.01)\n",
    "X"
   ]
  },
  {
   "cell_type": "code",
   "execution_count": 32,
   "id": "placed-garden",
   "metadata": {
    "tags": []
   },
   "outputs": [],
   "source": [
    "X=list(range(1,100))\n",
    "X[:] = [x / 100 for x in list(range(1,100))]"
   ]
  },
  {
   "cell_type": "code",
   "execution_count": 34,
   "id": "enclosed-clark",
   "metadata": {
    "collapsed": true,
    "jupyter": {
     "outputs_hidden": true
    },
    "tags": []
   },
   "outputs": [
    {
     "data": {
      "text/plain": [
       "[0.01,\n",
       " 0.02,\n",
       " 0.03,\n",
       " 0.04,\n",
       " 0.05,\n",
       " 0.06,\n",
       " 0.07,\n",
       " 0.08,\n",
       " 0.09,\n",
       " 0.1,\n",
       " 0.11,\n",
       " 0.12,\n",
       " 0.13,\n",
       " 0.14,\n",
       " 0.15,\n",
       " 0.16,\n",
       " 0.17,\n",
       " 0.18,\n",
       " 0.19,\n",
       " 0.2,\n",
       " 0.21,\n",
       " 0.22,\n",
       " 0.23,\n",
       " 0.24,\n",
       " 0.25,\n",
       " 0.26,\n",
       " 0.27,\n",
       " 0.28,\n",
       " 0.29,\n",
       " 0.3,\n",
       " 0.31,\n",
       " 0.32,\n",
       " 0.33,\n",
       " 0.34,\n",
       " 0.35,\n",
       " 0.36,\n",
       " 0.37,\n",
       " 0.38,\n",
       " 0.39,\n",
       " 0.4,\n",
       " 0.41,\n",
       " 0.42,\n",
       " 0.43,\n",
       " 0.44,\n",
       " 0.45,\n",
       " 0.46,\n",
       " 0.47,\n",
       " 0.48,\n",
       " 0.49,\n",
       " 0.5,\n",
       " 0.51,\n",
       " 0.52,\n",
       " 0.53,\n",
       " 0.54,\n",
       " 0.55,\n",
       " 0.56,\n",
       " 0.57,\n",
       " 0.58,\n",
       " 0.59,\n",
       " 0.6,\n",
       " 0.61,\n",
       " 0.62,\n",
       " 0.63,\n",
       " 0.64,\n",
       " 0.65,\n",
       " 0.66,\n",
       " 0.67,\n",
       " 0.68,\n",
       " 0.69,\n",
       " 0.7,\n",
       " 0.71,\n",
       " 0.72,\n",
       " 0.73,\n",
       " 0.74,\n",
       " 0.75,\n",
       " 0.76,\n",
       " 0.77,\n",
       " 0.78,\n",
       " 0.79,\n",
       " 0.8,\n",
       " 0.81,\n",
       " 0.82,\n",
       " 0.83,\n",
       " 0.84,\n",
       " 0.85,\n",
       " 0.86,\n",
       " 0.87,\n",
       " 0.88,\n",
       " 0.89,\n",
       " 0.9,\n",
       " 0.91,\n",
       " 0.92,\n",
       " 0.93,\n",
       " 0.94,\n",
       " 0.95,\n",
       " 0.96,\n",
       " 0.97,\n",
       " 0.98,\n",
       " 0.99]"
      ]
     },
     "execution_count": 34,
     "metadata": {},
     "output_type": "execute_result"
    }
   ],
   "source": [
    "X[:] = [x / 100 for x in list(range(1,100))]\n",
    "X"
   ]
  },
  {
   "cell_type": "code",
   "execution_count": 142,
   "id": "streaming-aggregate",
   "metadata": {
    "tags": []
   },
   "outputs": [
    {
     "data": {
      "text/plain": [
       "153"
      ]
     },
     "execution_count": 142,
     "metadata": {},
     "output_type": "execute_result"
    }
   ],
   "source": [
    "del tsList\n",
    "del filenames\n",
    "del combined_data\n",
    "gc.collect()"
   ]
  },
  {
   "cell_type": "code",
   "execution_count": null,
   "id": "returning-architect",
   "metadata": {
    "tags": []
   },
   "outputs": [
    {
     "name": "stderr",
     "output_type": "stream",
     "text": [
      "/home/jdowzell/anaconda3/lib/python3.8/site-packages/astropy/timeseries/io/kepler.py:77: UserWarning: Ignoring 259 rows with NaN times\n",
      "  warnings.warn('Ignoring {} rows with NaN times'.format(np.sum(nans)))\n"
     ]
    }
   ],
   "source": [
    "sectors = 10\n",
    "\n",
    "fitsarr = np.load(\"fitslist.npy\")\n",
    "maxLen = len(fitsarr) // sectors\n",
    "tsList = [0] * maxLen\n",
    "filenames = []\n",
    "\n",
    "for part in range(sectors):\n",
    "    # Everything below will run n times, where n = number of sectors, as described above\n",
    "    \n",
    "    start = part*maxLen\n",
    "    end   = ((part+1)*maxLen)\n",
    "    #print(\"{} - {}\".format(start,end))\n",
    "    \n",
    "    for i in range(maxLen):\n",
    "        # Make start and end boundaries\n",
    "        n = i + (part*maxLen)\n",
    "        #print(\"{},\".format(n),end='')\n",
    "        \n",
    "        # Assign to list\n",
    "        #tsList[i] = [\"{}_HELLO\".format(n)]\n",
    "        tsList[i] = TimeSeries.read(fitsarr[int(n)], format='tess.fits')\n",
    "    nm = \"ts{}.npy\".format(part)\n",
    "    #print(\"{}\".format(nm))\n",
    "    filenames.append(nm)\n",
    "    np.save(nm,tsList)\n",
    "    print(\"{} percent done\".format((part+1)*sectors))\n",
    "\n",
    "filenames"
   ]
  },
  {
   "cell_type": "code",
   "execution_count": null,
   "id": "adjacent-investment",
   "metadata": {},
   "outputs": [],
   "source": []
  },
  {
   "cell_type": "code",
   "execution_count": 144,
   "id": "global-creativity",
   "metadata": {},
   "outputs": [
    {
     "data": {
      "text/plain": [
       "array(['0_HELLO', '1_HELLO', '2_HELLO', ..., '15997_HELLO', '15998_HELLO',\n",
       "       '15999_HELLO'], dtype='<U32')"
      ]
     },
     "execution_count": 144,
     "metadata": {},
     "output_type": "execute_result"
    }
   ],
   "source": [
    "combined_data = np.append([],[np.load(fname) for fname in filenames])\n",
    "combined_data"
   ]
  },
  {
   "cell_type": "code",
   "execution_count": null,
   "id": "fossil-organic",
   "metadata": {},
   "outputs": [],
   "source": []
  },
  {
   "cell_type": "code",
   "execution_count": null,
   "id": "atmospheric-december",
   "metadata": {},
   "outputs": [],
   "source": []
  },
  {
   "cell_type": "code",
   "execution_count": null,
   "id": "annual-character",
   "metadata": {},
   "outputs": [],
   "source": []
  },
  {
   "cell_type": "code",
   "execution_count": null,
   "id": "constant-efficiency",
   "metadata": {},
   "outputs": [],
   "source": []
  },
  {
   "cell_type": "code",
   "execution_count": null,
   "id": "italic-dance",
   "metadata": {},
   "outputs": [],
   "source": []
  },
  {
   "cell_type": "code",
   "execution_count": null,
   "id": "surgical-hunter",
   "metadata": {},
   "outputs": [],
   "source": []
  },
  {
   "cell_type": "code",
   "execution_count": null,
   "id": "arabic-manner",
   "metadata": {},
   "outputs": [],
   "source": []
  },
  {
   "cell_type": "code",
   "execution_count": null,
   "id": "catholic-amount",
   "metadata": {},
   "outputs": [],
   "source": []
  },
  {
   "cell_type": "code",
   "execution_count": null,
   "id": "unable-aquatic",
   "metadata": {},
   "outputs": [],
   "source": []
  },
  {
   "cell_type": "code",
   "execution_count": null,
   "id": "quiet-brother",
   "metadata": {},
   "outputs": [],
   "source": []
  },
  {
   "cell_type": "code",
   "execution_count": 2,
   "id": "median-railway",
   "metadata": {},
   "outputs": [
    {
     "name": "stdout",
     "output_type": "stream",
     "text": [
      "Number of FITS files: 16000\n"
     ]
    }
   ],
   "source": [
    "fitsFile = 10279\n",
    "\n",
    "fitsList = []\n",
    "fits_directories = [x[0] for x in os.walk('.')]\n",
    "\n",
    "for fits_root, fits_dirs, fits_files in os.walk('.'):\n",
    "    for fits_file in fits_files:\n",
    "        fullpath = os.path.join(fits_root, fits_file)\n",
    "        if (os.path.splitext(fullpath.lower())[1]).endswith('.fits'):\n",
    "            fitsList.append(fullpath)\n",
    "print(\"Number of FITS files: {}\".format(len(fitsList)))\n",
    "\n"
   ]
  },
  {
   "cell_type": "code",
   "execution_count": 6,
   "id": "charged-nashville",
   "metadata": {
    "tags": []
   },
   "outputs": [
    {
     "data": {
      "text/plain": [
       "ColDefs(\n",
       "    name = 'TIME'; format = 'D'; unit = 'BJD - 2457000, days'; disp = 'D14.7'\n",
       "    name = 'TIMECORR'; format = 'E'; unit = 'd'; disp = 'E14.7'\n",
       "    name = 'CADENCENO'; format = 'J'; disp = 'I10'\n",
       "    name = 'SAP_FLUX'; format = 'E'; unit = 'e-/s'; disp = 'E14.7'\n",
       "    name = 'SAP_FLUX_ERR'; format = 'E'; unit = 'e-/s'; disp = 'E14.7'\n",
       "    name = 'SAP_BKG'; format = 'E'; unit = 'e-/s'; disp = 'E14.7'\n",
       "    name = 'SAP_BKG_ERR'; format = 'E'; unit = 'e-/s'; disp = 'E14.7'\n",
       "    name = 'PDCSAP_FLUX'; format = 'E'; unit = 'e-/s'; disp = 'E14.7'\n",
       "    name = 'PDCSAP_FLUX_ERR'; format = 'E'; unit = 'e-/s'; disp = 'E14.7'\n",
       "    name = 'QUALITY'; format = 'J'; disp = 'B16.16'\n",
       "    name = 'PSF_CENTR1'; format = 'D'; unit = 'pixel'; disp = 'F10.5'\n",
       "    name = 'PSF_CENTR1_ERR'; format = 'E'; unit = 'pixel'; disp = 'E14.7'\n",
       "    name = 'PSF_CENTR2'; format = 'D'; unit = 'pixel'; disp = 'F10.5'\n",
       "    name = 'PSF_CENTR2_ERR'; format = 'E'; unit = 'pixel'; disp = 'E14.7'\n",
       "    name = 'MOM_CENTR1'; format = 'D'; unit = 'pixel'; disp = 'F10.5'\n",
       "    name = 'MOM_CENTR1_ERR'; format = 'E'; unit = 'pixel'; disp = 'E14.7'\n",
       "    name = 'MOM_CENTR2'; format = 'D'; unit = 'pixel'; disp = 'F10.5'\n",
       "    name = 'MOM_CENTR2_ERR'; format = 'E'; unit = 'pixel'; disp = 'E14.7'\n",
       "    name = 'POS_CORR1'; format = 'E'; unit = 'pixels'; disp = 'E14.7'\n",
       "    name = 'POS_CORR2'; format = 'E'; unit = 'pixels'; disp = 'E14.7'\n",
       ")"
      ]
     },
     "execution_count": 6,
     "metadata": {},
     "output_type": "execute_result"
    }
   ],
   "source": [
    "fits.getdata(fitsList[1]).columns"
   ]
  },
  {
   "cell_type": "code",
   "execution_count": 4,
   "id": "civil-dining",
   "metadata": {},
   "outputs": [
    {
     "name": "stdout",
     "output_type": "stream",
     "text": [
      "[1310.5551099  1310.55649878 1310.55788767 ... 1338.80054718 1338.80193603\n",
      " 1338.80332487] [    0.    56799.19  56768.844 ... 56855.89  56858.984     0.   ]\n"
     ]
    }
   ],
   "source": [
    "with fits.open(fitsList[fitsFile], mode=\"readonly\") as hdulist:\n",
    "    # Extract stellar parameters from the primary header.\n",
    "    #obj       = hdulist[0].header['OBJECT']\n",
    "    #sector    = hdulist[0].header['SECTOR']\n",
    "\n",
    "    # Extract some of the columns of interest for the first TCE signal.  These are stored in the binary FITS table\n",
    "    # in the first extension.  We'll extract the timestamps in TBJD, phase, initial fluxes, and corresponding\n",
    "    # model fluxes.\n",
    "    tess_bjds     = hdulist[1].data['TIME']\n",
    "    #sap_fluxes    = hdulist[1].data['SAP_FLUX']\n",
    "    pdcsap_fluxes = hdulist[1].data['PDCSAP_FLUX']\n",
    "\n",
    "    print (tess_bjds, pdcsap_fluxes)"
   ]
  },
  {
   "cell_type": "code",
   "execution_count": 5,
   "id": "affiliated-cincinnati",
   "metadata": {},
   "outputs": [],
   "source": [
    "fitsarr = np.load(\"fitslist.npy\")"
   ]
  },
  {
   "cell_type": "code",
   "execution_count": 9,
   "id": "constitutional-prophet",
   "metadata": {},
   "outputs": [],
   "source": [
    "def FoldTheFlux(fitsarr,f):\n",
    "    ts = TimeSeries.read(fitsarr[int(f)], format='tess.fits')  \n",
    "    return(ts)\n",
    "\n",
    "def GetTimeseriesInfoOld(ts):\n",
    "    periodogram = BoxLeastSquares.from_timeseries(ts, 'sap_flux')\n",
    "    results = periodogram.autopower(0.2 * u.day)  \n",
    "    best = np.argmax(results.power)  \n",
    "    period = results.period[best]\n",
    "    transit_time = results.transit_time[best]\n",
    "    ts_folded = ts.fold(period=period, epoch_time=transit_time)\n",
    "    foldedflux = list(ts_folded['sap_flux'].value)\n",
    "    \n",
    "    # UN-FOLD THE X AXIS SOMEHOW\n",
    "    unfoldedtime = [0] * len(ts_folded.time.jd)\n",
    "\n",
    "    for i in range(len(ts_folded.time.jd)):\n",
    "        unfoldedtime[i] = [ts_folded.time.jd[i],i]\n",
    "    \n",
    "    G = []\n",
    "    Q = list(ts_folded.time.jd.copy())\n",
    "\n",
    "    for i,e in enumerate(Q):\n",
    "        G.append({'index': i, 'time': e, 'flux': foldedflux[i]})\n",
    "    \n",
    "    newlist = sorted(G, key=lambda k: k['time'])\n",
    "    \n",
    "    FLATFLUX = [d['flux'] for d in newlist]\n",
    "\n",
    "def GetTimeseriesInfo(ts,binsize=0.2):\n",
    "    periodogram = BoxLeastSquares.from_timeseries(ts, 'sap_flux')\n",
    "    results = periodogram.autopower(binsize * u.day)  \n",
    "    best = np.argmax(results.power)  \n",
    "    period = results.period[best]\n",
    "    transit_time = results.transit_time[best]\n",
    "    ts_folded = ts.fold(period=period, epoch_time=transit_time)\n",
    "    foldedflux = list(ts_folded['sap_flux'].value)\n",
    "    \n",
    "    # UN-FOLD THE X AXIS SOMEHOW\n",
    "    unfoldedtime = [0] * len(ts_folded.time.jd)\n",
    "\n",
    "    for i in range(len(ts_folded.time.jd)):\n",
    "        unfoldedtime[i] = [ts_folded.time.jd[i],i]\n",
    "    \n",
    "    G = []\n",
    "    Q = list(ts_folded.time.jd.copy())\n",
    "\n",
    "    for i,e in enumerate(Q):\n",
    "        G.append({'index': i, 'time': e, 'flux': foldedflux[i]})\n",
    "    \n",
    "    newlist = sorted(G, key=lambda k: k['time'])\n",
    "    \n",
    "    FLATFLUX = [d['flux'] for d in newlist]\n",
    "    \n",
    "    # ts = timeseries\n",
    "    # everything else comes from that\n",
    "    \n",
    "    # periodigram          (FROM ts)\n",
    "    # results              (FROM periodigram)\n",
    "    # best                 (FROM results)\n",
    "    # period               (FROM results & best)\n",
    "    # transit_time         (FROM results & best)\n",
    "    # ts_folded            (FROM period & transit_time)\n",
    "    # ts_folded.time.jd    (FROM ts_folded)\n",
    "    # foldedflux           (FROM ts_folded)\n",
    "    \n",
    "    #return (FLATFLUX)\n",
    "    return (results,best,period.value,transit_time.value,ts_folded) "
   ]
  },
  {
   "cell_type": "code",
   "execution_count": 55,
   "id": "democratic-flooring",
   "metadata": {},
   "outputs": [
    {
     "name": "stdout",
     "output_type": "stream",
     "text": [
      "Maxlen = 2\n",
      "### Flattening Fluxes ###\n",
      "From 0 to 1\n"
     ]
    }
   ],
   "source": [
    "sectors = 8000\n",
    "fitsLen = len(fitsarr)\n",
    "maxLen = fitsLen // sectors\n",
    "x=0\n",
    "\n",
    "print(\"Maxlen = {}\".format(maxLen))\n",
    "    \n",
    "print(\"### Flattening Fluxes ###\")\n",
    "    \n",
    "        \n",
    "list_of_flattened_fluxes = []\n",
    "        \n",
    "tS = x * maxLen\n",
    "tE = (x+1) * maxLen\n",
    "print(\"From {} to {}\".format(tS,tE-1))\n",
    "for y in range(tS,tE):\n",
    "    #continue\n",
    "    #print(f\"{y:<6} \",end='')\n",
    "    results,best,period,transit_time,ts_folded = GetTimeseriesInfo(FoldTheFlux(fitsarr,tS))\n",
    "    #print(newfluxstuff[0])\n",
    "    list_of_flattened_fluxes.append([{'RESULTS':results},{'BEST':best},{'PERIOD':period},{'T_TIME':transit_time},{'TS_FOLDED':ts_folded}])"
   ]
  },
  {
   "cell_type": "code",
   "execution_count": 10,
   "id": "spoken-circus",
   "metadata": {},
   "outputs": [],
   "source": [
    "results,best,period,transit_time,ts_folded = GetTimeseriesInfo(FoldTheFlux(fitsarr,10279))"
   ]
  },
  {
   "cell_type": "code",
   "execution_count": 11,
   "id": "super-grave",
   "metadata": {},
   "outputs": [
    {
     "data": {
      "text/plain": [
       "          depth: <Quantity [ 27.5025498 ,  29.2837744 ,  29.48508335, ..., 298.09049503,\n",
       "           300.65354669, 297.49292186] electron / s>\n",
       "      depth_err: <Quantity [0.01411374, 0.01411365, 0.01411366, ..., 0.05935272, 0.05935272,\n",
       "           0.05935272] electron / s>\n",
       "      depth_snr: <Quantity [1948.63622663, 2074.85421594, 2089.11697103, ..., 5022.35626365,\n",
       "           5065.53965516, 5012.28809517]>\n",
       "       duration: <Quantity [0.2, 0.2, 0.2, ..., 0.2, 0.2, 0.2] d>\n",
       " log_likelihood: <Quantity [ 3815232.39814891,  4318568.63669272,  4378582.71182314, ...,\n",
       "           12795543.82455649, 13016527.93948283, 12744293.55245501] electron2 / s2>\n",
       "      objective: 'likelihood'\n",
       "         period: <Quantity [ 0.4       ,  0.40004011,  0.40008022, ..., 14.02550118,\n",
       "           14.07497968, 14.1248085 ] d>\n",
       "          power: <Quantity [ 3815232.39814891,  4318568.63669272,  4378582.71182314, ...,\n",
       "           12795543.82455649, 13016527.93948283, 12744293.55245501] electron2 / s2>\n",
       "   transit_time: <Time object: scale='tdb' format='isot' value=['2018-07-11T03:37:06.917' '2018-07-11T03:08:15.452'\n",
       " '2018-07-11T03:08:11.986' ... '2018-07-14T16:34:42.917'\n",
       " '2018-07-14T15:08:18.917' '2018-07-14T14:10:42.917']>"
      ]
     },
     "execution_count": 11,
     "metadata": {},
     "output_type": "execute_result"
    }
   ],
   "source": [
    "results"
   ]
  },
  {
   "cell_type": "code",
   "execution_count": 12,
   "id": "unknown-oracle",
   "metadata": {},
   "outputs": [
    {
     "data": {
      "text/plain": [
       "'2018-07-15T09:22:42.917'"
      ]
     },
     "execution_count": 12,
     "metadata": {},
     "output_type": "execute_result"
    }
   ],
   "source": [
    "transit_time"
   ]
  },
  {
   "cell_type": "code",
   "execution_count": 13,
   "id": "surrounded-disability",
   "metadata": {
    "collapsed": true,
    "jupyter": {
     "outputs_hidden": true
    },
    "tags": []
   },
   "outputs": [
    {
     "data": {
      "text/html": [
       "<i>TimeSeries length=20081</i>\n",
       "<table id=\"table140471682310832\" class=\"table-striped table-bordered table-condensed\">\n",
       "<thead><tr><th>time</th><th>timecorr</th><th>cadenceno</th><th>sap_flux</th><th>sap_flux_err</th><th>sap_bkg</th><th>sap_bkg_err</th><th>pdcsap_flux</th><th>pdcsap_flux_err</th><th>quality</th><th>psf_centr1</th><th>psf_centr1_err</th><th>psf_centr2</th><th>psf_centr2_err</th><th>mom_centr1</th><th>mom_centr1_err</th><th>mom_centr2</th><th>mom_centr2_err</th><th>pos_corr1</th><th>pos_corr2</th></tr></thead>\n",
       "<thead><tr><th></th><th>d</th><th></th><th>electron / s</th><th>electron / s</th><th>electron / s</th><th>electron / s</th><th>electron / s</th><th>electron / s</th><th></th><th>pix</th><th>pix</th><th>pix</th><th>pix</th><th>pix</th><th>pix</th><th>pix</th><th>pix</th><th>pix</th><th>pix</th></tr></thead>\n",
       "<thead><tr><th>object</th><th>float32</th><th>int32</th><th>float32</th><th>float32</th><th>float32</th><th>float32</th><th>float32</th><th>float32</th><th>int32</th><th>float64</th><th>float32</th><th>float64</th><th>float32</th><th>float64</th><th>float32</th><th>float64</th><th>float32</th><th>float32</th><th>float32</th></tr></thead>\n",
       "<tr><td>0.10066216614597377</td><td>6.8255584e-05</td><td>1091</td><td>1.6844664e+04</td><td>1.3186914e+01</td><td>1.0772275e+03</td><td>2.8160100e+00</td><td>0.0000000e+00</td><td>0.0000000e+00</td><td>1000</td><td>nan</td><td>nan</td><td>nan</td><td>nan</td><td>1751.54052</td><td>5.6989858e-04</td><td>1979.76081</td><td>5.9231638e-04</td><td>nan</td><td>nan</td></tr>\n",
       "<tr><td>0.10205102569818135</td><td>6.8226247e-05</td><td>1092</td><td>1.6897707e+04</td><td>1.3204554e+01</td><td>1.0761538e+03</td><td>2.8157423e+00</td><td>1.9387490e+04</td><td>1.5309307e+01</td><td>0</td><td>nan</td><td>nan</td><td>nan</td><td>nan</td><td>1751.56192</td><td>5.6507636e-04</td><td>1979.75548</td><td>5.9405918e-04</td><td>1.9180011e-02</td><td>-9.1091745e-02</td></tr>\n",
       "<tr><td>0.10343988525766488</td><td>6.8196918e-05</td><td>1093</td><td>1.6934693e+04</td><td>1.3214289e+01</td><td>1.0737881e+03</td><td>2.8131306e+00</td><td>1.9420551e+04</td><td>1.5320595e+01</td><td>10000000000</td><td>nan</td><td>nan</td><td>nan</td><td>nan</td><td>1751.56970</td><td>5.6489510e-04</td><td>1979.77431</td><td>5.9052912e-04</td><td>2.9293995e-02</td><td>-5.2088812e-02</td></tr>\n",
       "<tr><td>0.10482874482442438</td><td>6.8167596e-05</td><td>1094</td><td>1.6669404e+04</td><td>1.3168560e+01</td><td>1.0748848e+03</td><td>2.8241768e+00</td><td>1.9200494e+04</td><td>1.5267576e+01</td><td>1000000</td><td>nan</td><td>nan</td><td>nan</td><td>nan</td><td>1751.54091</td><td>5.7638221e-04</td><td>1979.75245</td><td>5.9798785e-04</td><td>-6.1516222e-03</td><td>-1.6375044e-01</td></tr>\n",
       "<tr><td>0.10621760440573579</td><td>6.8138288e-05</td><td>1095</td><td>1.6997668e+04</td><td>1.3238146e+01</td><td>1.0757679e+03</td><td>2.8212345e+00</td><td>1.9495760e+04</td><td>1.5348255e+01</td><td>0</td><td>nan</td><td>nan</td><td>nan</td><td>nan</td><td>1751.58543</td><td>5.6335458e-04</td><td>1979.75799</td><td>5.9270055e-04</td><td>4.5833740e-02</td><td>-8.4136583e-02</td></tr>\n",
       "<tr><td>0.1076064639870472</td><td>6.8108980e-05</td><td>1096</td><td>1.6858961e+04</td><td>1.3190817e+01</td><td>1.0768262e+03</td><td>2.8164213e+00</td><td>1.9385428e+04</td><td>1.5293382e+01</td><td>0</td><td>nan</td><td>nan</td><td>nan</td><td>nan</td><td>1751.54687</td><td>5.6863180e-04</td><td>1979.75382</td><td>5.9356348e-04</td><td>7.3025743e-03</td><td>-1.0187475e-01</td></tr>\n",
       "<tr><td>0.10899532358313822</td><td>6.8079687e-05</td><td>1097</td><td>1.6902396e+04</td><td>1.3208591e+01</td><td>1.0740785e+03</td><td>2.8244984e+00</td><td>1.9417518e+04</td><td>1.5313989e+01</td><td>10000000000</td><td>nan</td><td>nan</td><td>nan</td><td>nan</td><td>1751.57016</td><td>5.6782679e-04</td><td>1979.77336</td><td>5.9037120e-04</td><td>2.9262558e-02</td><td>-5.9517048e-02</td></tr>\n",
       "<tr><td>0.1103841831862775</td><td>6.8050402e-05</td><td>1098</td><td>1.6995416e+04</td><td>1.3234223e+01</td><td>1.0732003e+03</td><td>2.8123581e+00</td><td>1.9492557e+04</td><td>1.5343706e+01</td><td>0</td><td>nan</td><td>nan</td><td>nan</td><td>nan</td><td>1751.57417</td><td>5.6346960e-04</td><td>1979.76282</td><td>5.9141172e-04</td><td>3.3199698e-02</td><td>-7.5782381e-02</td></tr>\n",
       "<tr><td>0.1117730428039687</td><td>6.8021131e-05</td><td>1099</td><td>1.6898367e+04</td><td>1.3207904e+01</td><td>1.0806475e+03</td><td>2.8296340e+00</td><td>1.9413039e+04</td><td>1.5313192e+01</td><td>0</td><td>nan</td><td>nan</td><td>nan</td><td>nan</td><td>1751.54274</td><td>5.6661718e-04</td><td>1979.76035</td><td>5.9193344e-04</td><td>-1.8700624e-03</td><td>-8.7434836e-02</td></tr>\n",
       "<tr><td>...</td><td>...</td><td>...</td><td>...</td><td>...</td><td>...</td><td>...</td><td>...</td><td>...</td><td>...</td><td>...</td><td>...</td><td>...</td><td>...</td><td>...</td><td>...</td><td>...</td><td>...</td><td>...</td><td>...</td></tr>\n",
       "<tr><td>1.6923279111557532</td><td>-4.0411364e-04</td><td>21421</td><td>1.7031059e+04</td><td>1.3264757e+01</td><td>1.1083193e+03</td><td>2.8436191e+00</td><td>1.9460143e+04</td><td>1.5379107e+01</td><td>10000000000</td><td>nan</td><td>nan</td><td>nan</td><td>nan</td><td>1751.57881</td><td>5.6576036e-04</td><td>1979.83830</td><td>5.7420286e-04</td><td>4.1049350e-02</td><td>3.6342405e-02</td></tr>\n",
       "<tr><td>1.693716771813905</td><td>-4.0414187e-04</td><td>21422</td><td>1.7064209e+04</td><td>1.3273642e+01</td><td>1.1029719e+03</td><td>2.8397696e+00</td><td>1.9483918e+04</td><td>1.5389407e+01</td><td>0</td><td>nan</td><td>nan</td><td>nan</td><td>nan</td><td>1751.57931</td><td>5.6353374e-04</td><td>1979.85087</td><td>5.7166856e-04</td><td>1.2101857e-02</td><td>6.3857377e-02</td></tr>\n",
       "<tr><td>1.6951056324720621</td><td>-4.0417010e-04</td><td>21423</td><td>1.7043443e+04</td><td>1.3266746e+01</td><td>1.1042195e+03</td><td>2.8406134e+00</td><td>1.9475932e+04</td><td>1.5381413e+01</td><td>0</td><td>nan</td><td>nan</td><td>nan</td><td>nan</td><td>1751.57302</td><td>5.6403270e-04</td><td>1979.82045</td><td>5.7816290e-04</td><td>3.4013119e-02</td><td>8.1979949e-03</td></tr>\n",
       "<tr><td>1.6964944931593178</td><td>-4.0419830e-04</td><td>21424</td><td>1.6992680e+04</td><td>1.3254970e+01</td><td>1.1127323e+03</td><td>2.8511708e+00</td><td>1.9450537e+04</td><td>1.5367761e+01</td><td>0</td><td>nan</td><td>nan</td><td>nan</td><td>nan</td><td>1751.59167</td><td>5.6990265e-04</td><td>1979.84356</td><td>5.7421695e-04</td><td>5.6477319e-02</td><td>6.1506178e-02</td></tr>\n",
       "<tr><td>1.6978833538174696</td><td>-4.0422654e-04</td><td>21425</td><td>1.6973697e+04</td><td>1.3257234e+01</td><td>1.1236287e+03</td><td>2.8741617e+00</td><td>1.9423158e+04</td><td>1.5370385e+01</td><td>10000000000</td><td>nan</td><td>nan</td><td>nan</td><td>nan</td><td>1751.54911</td><td>5.7034608e-04</td><td>1979.84431</td><td>5.7678280e-04</td><td>8.7147551e-03</td><td>4.9612150e-02</td></tr>\n",
       "<tr><td>1.6992722145049568</td><td>-4.0425474e-04</td><td>21426</td><td>1.6959111e+04</td><td>1.3240412e+01</td><td>1.1079462e+03</td><td>2.8448279e+00</td><td>1.9398072e+04</td><td>1.5350882e+01</td><td>10000000000</td><td>nan</td><td>nan</td><td>nan</td><td>nan</td><td>1751.58614</td><td>5.6649686e-04</td><td>1979.82964</td><td>5.7974079e-04</td><td>4.7878038e-02</td><td>3.1988457e-02</td></tr>\n",
       "<tr><td>1.7006610751922124</td><td>-4.0428294e-04</td><td>21427</td><td>1.6911996e+04</td><td>1.3224570e+01</td><td>1.1083353e+03</td><td>2.8449209e+00</td><td>1.9356033e+04</td><td>1.5332515e+01</td><td>0</td><td>nan</td><td>nan</td><td>nan</td><td>nan</td><td>1751.54798</td><td>5.7026511e-04</td><td>1979.82651</td><td>5.7870924e-04</td><td>7.0549408e-03</td><td>1.2042141e-02</td></tr>\n",
       "<tr><td>1.7020499358503642</td><td>-4.0431117e-04</td><td>21428</td><td>1.6932098e+04</td><td>1.3234266e+01</td><td>1.1107358e+03</td><td>2.8501124e+00</td><td>1.9375660e+04</td><td>1.5343757e+01</td><td>0</td><td>nan</td><td>nan</td><td>nan</td><td>nan</td><td>1751.55522</td><td>5.6923646e-04</td><td>1979.83946</td><td>5.7896349e-04</td><td>1.1216988e-02</td><td>4.5936193e-02</td></tr>\n",
       "<tr><td>1.7034387965667237</td><td>-4.0433934e-04</td><td>21429</td><td>1.6947172e+04</td><td>1.3237440e+01</td><td>1.1079396e+03</td><td>2.8435853e+00</td><td>1.9366412e+04</td><td>1.5347436e+01</td><td>0</td><td>nan</td><td>nan</td><td>nan</td><td>nan</td><td>1751.57345</td><td>5.6696695e-04</td><td>1979.83852</td><td>5.7680492e-04</td><td>3.4608040e-02</td><td>3.7373632e-02</td></tr>\n",
       "<tr><td>1.7048276572539847</td><td>-4.0436754e-04</td><td>21430</td><td>1.6939311e+04</td><td>1.3239339e+01</td><td>1.1084156e+03</td><td>2.8528218e+00</td><td>0.0000000e+00</td><td>0.0000000e+00</td><td>10000001000</td><td>nan</td><td>nan</td><td>nan</td><td>nan</td><td>1751.59192</td><td>5.6808366e-04</td><td>1979.83804</td><td>5.7835330e-04</td><td>nan</td><td>nan</td></tr>\n",
       "</table>"
      ],
      "text/plain": [
       "<TimeSeries length=20081>\n",
       "        time           timecorr    cadenceno  ...   pos_corr1      pos_corr2   \n",
       "                          d                   ...      pix            pix      \n",
       "       object          float32       int32    ...    float32        float32    \n",
       "------------------- -------------- ---------- ... -------------- --------------\n",
       "0.10066216614597377  6.8255584e-05       1091 ...            nan            nan\n",
       "0.10205102569818135  6.8226247e-05       1092 ...  1.9180011e-02 -9.1091745e-02\n",
       "0.10343988525766488  6.8196918e-05       1093 ...  2.9293995e-02 -5.2088812e-02\n",
       "0.10482874482442438  6.8167596e-05       1094 ... -6.1516222e-03 -1.6375044e-01\n",
       "0.10621760440573579  6.8138288e-05       1095 ...  4.5833740e-02 -8.4136583e-02\n",
       " 0.1076064639870472  6.8108980e-05       1096 ...  7.3025743e-03 -1.0187475e-01\n",
       "0.10899532358313822  6.8079687e-05       1097 ...  2.9262558e-02 -5.9517048e-02\n",
       " 0.1103841831862775  6.8050402e-05       1098 ...  3.3199698e-02 -7.5782381e-02\n",
       " 0.1117730428039687  6.8021131e-05       1099 ... -1.8700624e-03 -8.7434836e-02\n",
       "                ...            ...        ... ...            ...            ...\n",
       " 1.6923279111557532 -4.0411364e-04      21421 ...  4.1049350e-02  3.6342405e-02\n",
       "  1.693716771813905 -4.0414187e-04      21422 ...  1.2101857e-02  6.3857377e-02\n",
       " 1.6951056324720621 -4.0417010e-04      21423 ...  3.4013119e-02  8.1979949e-03\n",
       " 1.6964944931593178 -4.0419830e-04      21424 ...  5.6477319e-02  6.1506178e-02\n",
       " 1.6978833538174696 -4.0422654e-04      21425 ...  8.7147551e-03  4.9612150e-02\n",
       " 1.6992722145049568 -4.0425474e-04      21426 ...  4.7878038e-02  3.1988457e-02\n",
       " 1.7006610751922124 -4.0428294e-04      21427 ...  7.0549408e-03  1.2042141e-02\n",
       " 1.7020499358503642 -4.0431117e-04      21428 ...  1.1216988e-02  4.5936193e-02\n",
       " 1.7034387965667237 -4.0433934e-04      21429 ...  3.4608040e-02  3.7373632e-02\n",
       " 1.7048276572539847 -4.0436754e-04      21430 ...            nan            nan"
      ]
     },
     "execution_count": 13,
     "metadata": {},
     "output_type": "execute_result"
    }
   ],
   "source": [
    "ts_folded"
   ]
  },
  {
   "cell_type": "code",
   "execution_count": 15,
   "id": "boolean-vulnerability",
   "metadata": {},
   "outputs": [
    {
     "data": {
      "text/plain": [
       "0.92854583"
      ]
     },
     "execution_count": 15,
     "metadata": {},
     "output_type": "execute_result"
    }
   ],
   "source": [
    "foldedflux = list(ts_folded['sap_flux_norm'].value)\n",
    "min(foldedflux)"
   ]
  },
  {
   "cell_type": "code",
   "execution_count": 17,
   "id": "approved-simpson",
   "metadata": {},
   "outputs": [],
   "source": [
    "mean, median, stddev = sigma_clipped_stats(ts_folded['sap_flux'])  \n",
    "ts_folded['sap_flux_norm'] = ts_folded['sap_flux'] / median\n",
    "\n",
    "G = []\n",
    "Q = list(ts_folded.time.jd.copy())\n",
    "\n",
    "for i,e in enumerate(Q):\n",
    "    G.append({'index': i, 'time': e, 'flux': foldedflux[i]})\n",
    "    \n",
    "ts_folded['sap_folded_flux'] = [d['flux'] for d in sorted(G, key=lambda k: k['time'])]"
   ]
  },
  {
   "cell_type": "code",
   "execution_count": 18,
   "id": "incorrect-philip",
   "metadata": {},
   "outputs": [
    {
     "data": {
      "text/plain": [
       "[<matplotlib.lines.Line2D at 0x7fc2c00bd880>]"
      ]
     },
     "execution_count": 18,
     "metadata": {},
     "output_type": "execute_result"
    },
    {
     "data": {
      "image/png": "[encoded data removed]",
      "text/plain": [
       "<Figure size 1440x648 with 1 Axes>"
      ]
     },
     "metadata": {},
     "output_type": "display_data"
    }
   ],
   "source": [
    "plt.plot(ts_folded['sap_folded_flux'], 'k.', markersize=0.5)"
   ]
  },
  {
   "cell_type": "code",
   "execution_count": 24,
   "id": "civilian-madison",
   "metadata": {
    "collapsed": true,
    "jupyter": {
     "outputs_hidden": true
    },
    "tags": []
   },
   "outputs": [
    {
     "data": {
      "text/plain": [
       "[[{'RESULTS':           depth: <Quantity [ 160.05707798,  160.42950304,  161.58141358, ..., 5940.36398806,\n",
       "              6155.19893033, 6239.65598014] electron / s>\n",
       "         depth_err: <Quantity [0.01411386, 0.01411393, 0.01411393, ..., 0.05935272, 0.05935272,\n",
       "              0.05798118] electron / s>\n",
       "         depth_snr: <Quantity [ 11340.42008046,  11366.74728444,  11448.36242186, ...,\n",
       "              100085.79535884, 103705.42643058, 107615.19931985]>\n",
       "          duration: <Quantity [0.2, 0.2, 0.2, ..., 0.2, 0.2, 0.2] d>\n",
       "    log_likelihood: <Quantity [1.29410682e+08, 1.30116565e+08, 1.31991791e+08, ...,\n",
       "              5.08146110e+09, 5.45565224e+09, 5.87892932e+09] electron2 / s2>\n",
       "         objective: 'likelihood'\n",
       "            period: <Quantity [ 0.4       ,  0.4000401 ,  0.40008022, ..., 14.00609042,\n",
       "              14.0554298 , 14.10511803] d>\n",
       "             power: <Quantity [1.29410682e+08, 1.30116565e+08, 1.31991791e+08, ...,\n",
       "              5.08146110e+09, 5.45565224e+09, 5.87892932e+09] electron2 / s2>\n",
       "      transit_time: <Time object: scale='tdb' format='isot' value=['2018-07-11T05:09:04.224' '2018-07-11T04:40:16.224'\n",
       "    '2018-07-11T04:40:16.224' ... '2018-07-11T09:57:04.224'\n",
       "    '2018-07-11T07:04:16.224' '2018-07-11T04:11:28.224']>},\n",
       "  {'BEST': 9692},\n",
       "  {'PERIOD': <Quantity 14.10511803 d>},\n",
       "  {'T_TIME': <Time object: scale='tdb' format='isot' value=2018-07-11T04:11:28.224>},\n",
       "  {'TS_FOLDED': <TimeSeries length=20081>\n",
       "           time            timecorr    cadenceno  ...   pos_corr1      pos_corr2   \n",
       "                              d                   ...      pix            pix      \n",
       "          object           float32       int32    ...    float32        float32    \n",
       "   -------------------- -------------- ---------- ... -------------- --------------\n",
       "                  -0.12  3.9201858e-03       1091 ...            nan            nan\n",
       "   -0.11861108689674438  3.9202101e-03       1092 ...  1.3834256e-03 -3.1409403e-03\n",
       "   -0.11722217379348876  3.9202343e-03       1093 ... -1.9602582e-02 -2.9249256e-02\n",
       "   -0.11583326069023314  3.9202585e-03       1094 ... -9.4092637e-03  2.8904360e-02\n",
       "   -0.11444434758697752  3.9202827e-03       1095 ...  1.8958149e-02 -2.8898899e-02\n",
       "   -0.11305543401806062  3.9203074e-03       1096 ... -7.7413172e-03  2.0696767e-02\n",
       "    -0.1116665209145773  3.9203316e-03       1097 ... -1.4955253e-02 -1.7206082e-02\n",
       "   -0.11027760781132168  3.9203558e-03       1098 ...  7.9222734e-04 -2.2792246e-02\n",
       "   -0.10888869470806606  3.9203800e-03       1099 ... -2.0847216e-02  1.6242960e-02\n",
       "                    ...            ...        ... ...            ...            ...\n",
       "   -0.09402274656979527  4.0223901e-03      21421 ...  7.4957512e-02 -1.4972000e-02\n",
       "   -0.09263387723869662  4.0223706e-03      21422 ...  5.5243969e-02 -3.3153027e-02\n",
       "   -0.09124500744194207  4.0223515e-03      21423 ...  9.3703270e-02  2.4341522e-03\n",
       "   -0.08985613764518752  4.0223324e-03      21424 ...  8.3012260e-02 -2.3556644e-02\n",
       "   -0.08846726831409425  4.0223128e-03      21425 ...  4.5204498e-02  5.9591942e-03\n",
       "   -0.08707839851710795  4.0222937e-03      21426 ...  9.1292709e-02 -1.5113297e-02\n",
       "   -0.08568952918601469  4.0222742e-03      21427 ...  6.8653487e-02  2.8034225e-02\n",
       "   -0.08430065938926014  4.0222551e-03      21428 ...  4.8510317e-02  5.2985162e-03\n",
       "   -0.08291179005816149  4.0222355e-03      21429 ...  6.8160154e-02 -1.5824884e-02\n",
       "   -0.08152292026140694  4.0222164e-03      21430 ...            nan            nan}],\n",
       " [{'RESULTS':           depth: <Quantity [ 160.05707798,  160.42950304,  161.58141358, ..., 5940.36398806,\n",
       "              6155.19893033, 6239.65598014] electron / s>\n",
       "         depth_err: <Quantity [0.01411386, 0.01411393, 0.01411393, ..., 0.05935272, 0.05935272,\n",
       "              0.05798118] electron / s>\n",
       "         depth_snr: <Quantity [ 11340.42008046,  11366.74728444,  11448.36242186, ...,\n",
       "              100085.79535884, 103705.42643058, 107615.19931985]>\n",
       "          duration: <Quantity [0.2, 0.2, 0.2, ..., 0.2, 0.2, 0.2] d>\n",
       "    log_likelihood: <Quantity [1.29410682e+08, 1.30116565e+08, 1.31991791e+08, ...,\n",
       "              5.08146110e+09, 5.45565224e+09, 5.87892932e+09] electron2 / s2>\n",
       "         objective: 'likelihood'\n",
       "            period: <Quantity [ 0.4       ,  0.4000401 ,  0.40008022, ..., 14.00609042,\n",
       "              14.0554298 , 14.10511803] d>\n",
       "             power: <Quantity [1.29410682e+08, 1.30116565e+08, 1.31991791e+08, ...,\n",
       "              5.08146110e+09, 5.45565224e+09, 5.87892932e+09] electron2 / s2>\n",
       "      transit_time: <Time object: scale='tdb' format='isot' value=['2018-07-11T05:09:04.224' '2018-07-11T04:40:16.224'\n",
       "    '2018-07-11T04:40:16.224' ... '2018-07-11T09:57:04.224'\n",
       "    '2018-07-11T07:04:16.224' '2018-07-11T04:11:28.224']>},\n",
       "  {'BEST': 9692},\n",
       "  {'PERIOD': <Quantity 14.10511803 d>},\n",
       "  {'T_TIME': <Time object: scale='tdb' format='isot' value=2018-07-11T04:11:28.224>},\n",
       "  {'TS_FOLDED': <TimeSeries length=20081>\n",
       "           time            timecorr    cadenceno  ...   pos_corr1      pos_corr2   \n",
       "                              d                   ...      pix            pix      \n",
       "          object           float32       int32    ...    float32        float32    \n",
       "   -------------------- -------------- ---------- ... -------------- --------------\n",
       "                  -0.12  3.9201858e-03       1091 ...            nan            nan\n",
       "   -0.11861108689674438  3.9202101e-03       1092 ...  1.3834256e-03 -3.1409403e-03\n",
       "   -0.11722217379348876  3.9202343e-03       1093 ... -1.9602582e-02 -2.9249256e-02\n",
       "   -0.11583326069023314  3.9202585e-03       1094 ... -9.4092637e-03  2.8904360e-02\n",
       "   -0.11444434758697752  3.9202827e-03       1095 ...  1.8958149e-02 -2.8898899e-02\n",
       "   -0.11305543401806062  3.9203074e-03       1096 ... -7.7413172e-03  2.0696767e-02\n",
       "    -0.1116665209145773  3.9203316e-03       1097 ... -1.4955253e-02 -1.7206082e-02\n",
       "   -0.11027760781132168  3.9203558e-03       1098 ...  7.9222734e-04 -2.2792246e-02\n",
       "   -0.10888869470806606  3.9203800e-03       1099 ... -2.0847216e-02  1.6242960e-02\n",
       "                    ...            ...        ... ...            ...            ...\n",
       "   -0.09402274656979527  4.0223901e-03      21421 ...  7.4957512e-02 -1.4972000e-02\n",
       "   -0.09263387723869662  4.0223706e-03      21422 ...  5.5243969e-02 -3.3153027e-02\n",
       "   -0.09124500744194207  4.0223515e-03      21423 ...  9.3703270e-02  2.4341522e-03\n",
       "   -0.08985613764518752  4.0223324e-03      21424 ...  8.3012260e-02 -2.3556644e-02\n",
       "   -0.08846726831409425  4.0223128e-03      21425 ...  4.5204498e-02  5.9591942e-03\n",
       "   -0.08707839851710795  4.0222937e-03      21426 ...  9.1292709e-02 -1.5113297e-02\n",
       "   -0.08568952918601469  4.0222742e-03      21427 ...  6.8653487e-02  2.8034225e-02\n",
       "   -0.08430065938926014  4.0222551e-03      21428 ...  4.8510317e-02  5.2985162e-03\n",
       "   -0.08291179005816149  4.0222355e-03      21429 ...  6.8160154e-02 -1.5824884e-02\n",
       "   -0.08152292026140694  4.0222164e-03      21430 ...            nan            nan}]]"
      ]
     },
     "execution_count": 24,
     "metadata": {},
     "output_type": "execute_result"
    }
   ],
   "source": [
    "list_of_flattened_fluxes"
   ]
  },
  {
   "cell_type": "code",
   "execution_count": null,
   "id": "respiratory-aircraft",
   "metadata": {},
   "outputs": [],
   "source": []
  },
  {
   "cell_type": "code",
   "execution_count": null,
   "id": "aggregate-subsection",
   "metadata": {},
   "outputs": [],
   "source": []
  },
  {
   "cell_type": "code",
   "execution_count": 15,
   "id": "warming-marshall",
   "metadata": {},
   "outputs": [
    {
     "name": "stdout",
     "output_type": "stream",
     "text": [
      "##########\n",
      "i=1600; pc=10.0\n",
      "##########\n",
      "i=3200; pc=20.0\n",
      "##########\n",
      "i=4800; pc=30.0\n",
      "##########\n",
      "i=6400; pc=40.0\n",
      "##########\n",
      "i=8000; pc=50.0\n",
      "##########\n",
      "i=9600; pc=60.0\n",
      "##########\n",
      "i=11200; pc=70.0\n",
      "##########\n",
      "i=12800; pc=80.0\n",
      "##########\n",
      "i=14400; pc=90.0\n",
      "##########\n",
      "i=16000; pc=100.0\n"
     ]
    }
   ],
   "source": [
    "X = 16000\n",
    "Y = X/10\n",
    "Z = Y/10\n",
    "for i in range(X):\n",
    "    if (i+1)%Z == 0:\n",
    "        print(\"#\",end='')\n",
    "    if (i+1)%Y == 0:\n",
    "        print(\"\\ni={}; pc={}\".format((i+1),(10*(i+1)/Y)))"
   ]
  },
  {
   "cell_type": "code",
   "execution_count": 97,
   "id": "based-organ",
   "metadata": {},
   "outputs": [
    {
     "data": {
      "text/plain": [
       "[4749, 5535, 6310, 8436, 11664, 13057, 13426]"
      ]
     },
     "execution_count": 97,
     "metadata": {},
     "output_type": "execute_result"
    }
   ],
   "source": []
  },
  {
   "cell_type": "code",
   "execution_count": 2,
   "id": "supported-right",
   "metadata": {},
   "outputs": [],
   "source": [
    "X = np.load(\"foldedflux.npy\")"
   ]
  },
  {
   "cell_type": "code",
   "execution_count": 101,
   "id": "synthetic-interstate",
   "metadata": {},
   "outputs": [
    {
     "data": {
      "text/plain": [
       "array([174571.16, 167946.16, 176031.08, ..., 167877.53, 175708.45,\n",
       "       168265.97], dtype=float32)"
      ]
     },
     "execution_count": 101,
     "metadata": {},
     "output_type": "execute_result"
    }
   ],
   "source": [
    "Y = X[0].copy()\n",
    "Y"
   ]
  },
  {
   "cell_type": "code",
   "execution_count": 21,
   "id": "possible-commitment",
   "metadata": {},
   "outputs": [],
   "source": [
    "nanlist=[]\n",
    "\n",
    "for i,e in enumerate(X):\n",
    "    if np.any(np.isnan(e))==True:\n",
    "        print(i)\n",
    "        nanlist.append(i)\n",
    "#        for NAN in e:\n",
    "#            print(np.nanmean(e))\n",
    "            \n"
   ]
  },
  {
   "cell_type": "code",
   "execution_count": 20,
   "id": "amino-month",
   "metadata": {},
   "outputs": [
    {
     "ename": "IndexError",
     "evalue": "index 0 is out of bounds for axis 0 with size 0",
     "output_type": "error",
     "traceback": [
      "\u001b[0;31m---------------------------------------------------------------------------\u001b[0m",
      "\u001b[0;31mIndexError\u001b[0m                                Traceback (most recent call last)",
      "\u001b[0;32m<ipython-input-20-6ddcbd2313ae>\u001b[0m in \u001b[0;36m<module>\u001b[0;34m\u001b[0m\n\u001b[1;32m      1\u001b[0m \u001b[0;32mfor\u001b[0m \u001b[0mL\u001b[0m \u001b[0;32min\u001b[0m \u001b[0mnanlist\u001b[0m\u001b[0;34m:\u001b[0m\u001b[0;34m\u001b[0m\u001b[0;34m\u001b[0m\u001b[0m\n\u001b[0;32m----> 2\u001b[0;31m     \u001b[0mnanloc\u001b[0m \u001b[0;34m=\u001b[0m \u001b[0mnp\u001b[0m\u001b[0;34m.\u001b[0m\u001b[0mwhere\u001b[0m\u001b[0;34m(\u001b[0m\u001b[0mnp\u001b[0m\u001b[0;34m.\u001b[0m\u001b[0misnan\u001b[0m\u001b[0;34m(\u001b[0m\u001b[0mX\u001b[0m\u001b[0;34m[\u001b[0m\u001b[0mL\u001b[0m\u001b[0;34m]\u001b[0m\u001b[0;34m)\u001b[0m\u001b[0;34m)\u001b[0m\u001b[0;34m[\u001b[0m\u001b[0;36m0\u001b[0m\u001b[0;34m]\u001b[0m\u001b[0;34m[\u001b[0m\u001b[0;36m0\u001b[0m\u001b[0;34m]\u001b[0m\u001b[0;34m\u001b[0m\u001b[0;34m\u001b[0m\u001b[0m\n\u001b[0m\u001b[1;32m      3\u001b[0m     \u001b[0mprint\u001b[0m\u001b[0;34m(\u001b[0m\u001b[0mL\u001b[0m\u001b[0;34m,\u001b[0m\u001b[0;34m\": \"\u001b[0m\u001b[0;34m,\u001b[0m\u001b[0mnanloc\u001b[0m\u001b[0;34m)\u001b[0m\u001b[0;34m\u001b[0m\u001b[0;34m\u001b[0m\u001b[0m\n\u001b[1;32m      4\u001b[0m     \u001b[0mX\u001b[0m\u001b[0;34m[\u001b[0m\u001b[0mL\u001b[0m\u001b[0;34m]\u001b[0m\u001b[0;34m[\u001b[0m\u001b[0mnanloc\u001b[0m\u001b[0;34m]\u001b[0m \u001b[0;34m=\u001b[0m \u001b[0;36m0.5\u001b[0m \u001b[0;34m*\u001b[0m \u001b[0;34m(\u001b[0m\u001b[0mX\u001b[0m\u001b[0;34m[\u001b[0m\u001b[0mL\u001b[0m\u001b[0;34m]\u001b[0m\u001b[0;34m[\u001b[0m\u001b[0mnanloc\u001b[0m\u001b[0;34m-\u001b[0m\u001b[0;36m1\u001b[0m\u001b[0;34m]\u001b[0m \u001b[0;34m+\u001b[0m \u001b[0mX\u001b[0m\u001b[0;34m[\u001b[0m\u001b[0mL\u001b[0m\u001b[0;34m]\u001b[0m\u001b[0;34m[\u001b[0m\u001b[0mnanloc\u001b[0m\u001b[0;34m+\u001b[0m\u001b[0;36m1\u001b[0m\u001b[0;34m]\u001b[0m\u001b[0;34m)\u001b[0m\u001b[0;34m\u001b[0m\u001b[0;34m\u001b[0m\u001b[0m\n\u001b[1;32m      5\u001b[0m     \u001b[0mprint\u001b[0m\u001b[0;34m(\u001b[0m\u001b[0mL\u001b[0m\u001b[0;34m,\u001b[0m\u001b[0;34m\": \"\u001b[0m\u001b[0;34m,\u001b[0m\u001b[0mnanloc\u001b[0m\u001b[0;34m)\u001b[0m\u001b[0;34m\u001b[0m\u001b[0;34m\u001b[0m\u001b[0m\n",
      "\u001b[0;31mIndexError\u001b[0m: index 0 is out of bounds for axis 0 with size 0"
     ]
    }
   ],
   "source": [
    "for L in nanlist:\n",
    "    nanloc = np.where(np.isnan(X[L]))[0][0]\n",
    "    print(L,\": \",nanloc)\n",
    "    X[L][nanloc] = 0.5 * (X[L][nanloc-1] + X[L][nanloc+1])\n",
    "    print(L,\": \",nanloc)"
   ]
  },
  {
   "cell_type": "code",
   "execution_count": 113,
   "id": "palestinian-matthew",
   "metadata": {
    "collapsed": true,
    "jupyter": {
     "outputs_hidden": true
    },
    "tags": []
   },
   "outputs": [
    {
     "name": "stdout",
     "output_type": "stream",
     "text": [
      "0 files searched\n",
      "100 files searched\n",
      "200 files searched\n",
      "300 files searched\n",
      "400 files searched\n",
      "500 files searched\n",
      "600 files searched\n",
      "700 files searched\n",
      "800 files searched\n",
      "900 files searched\n",
      "1000 files searched\n",
      "1100 files searched\n",
      "1200 files searched\n"
     ]
    },
    {
     "ename": "KeyboardInterrupt",
     "evalue": "",
     "output_type": "error",
     "traceback": [
      "\u001b[0;31m---------------------------------------------------------------------------\u001b[0m",
      "\u001b[0;31mKeyboardInterrupt\u001b[0m                         Traceback (most recent call last)",
      "\u001b[0;32m<ipython-input-113-72f9d8f8e4c4>\u001b[0m in \u001b[0;36m<module>\u001b[0;34m\u001b[0m\n\u001b[1;32m      3\u001b[0m         \u001b[0mprint\u001b[0m\u001b[0;34m(\u001b[0m\u001b[0;34m\"{} files searched\"\u001b[0m\u001b[0;34m.\u001b[0m\u001b[0mformat\u001b[0m\u001b[0;34m(\u001b[0m\u001b[0mindex\u001b[0m\u001b[0;34m)\u001b[0m\u001b[0;34m)\u001b[0m\u001b[0;34m\u001b[0m\u001b[0;34m\u001b[0m\u001b[0m\n\u001b[1;32m      4\u001b[0m     \u001b[0;32mfor\u001b[0m \u001b[0melem\u001b[0m \u001b[0;32min\u001b[0m \u001b[0msublist\u001b[0m\u001b[0;34m:\u001b[0m\u001b[0;34m\u001b[0m\u001b[0;34m\u001b[0m\u001b[0m\n\u001b[0;32m----> 5\u001b[0;31m         \u001b[0;32mif\u001b[0m \u001b[0mnp\u001b[0m\u001b[0;34m.\u001b[0m\u001b[0many\u001b[0m\u001b[0;34m(\u001b[0m\u001b[0melem\u001b[0m\u001b[0;34m<\u001b[0m\u001b[0;36m0\u001b[0m\u001b[0;34m)\u001b[0m\u001b[0;34m:\u001b[0m\u001b[0;34m\u001b[0m\u001b[0;34m\u001b[0m\u001b[0m\n\u001b[0m\u001b[1;32m      6\u001b[0m             \u001b[0mprint\u001b[0m\u001b[0;34m(\u001b[0m\u001b[0mindex\u001b[0m\u001b[0;34m,\u001b[0m \u001b[0melem\u001b[0m\u001b[0;34m)\u001b[0m\u001b[0;34m\u001b[0m\u001b[0;34m\u001b[0m\u001b[0m\n\u001b[1;32m      7\u001b[0m             \u001b[0mnext\u001b[0m\u001b[0;34m(\u001b[0m\u001b[0mindex\u001b[0m\u001b[0;34m)\u001b[0m\u001b[0;34m\u001b[0m\u001b[0;34m\u001b[0m\u001b[0m\n",
      "\u001b[0;32m<__array_function__ internals>\u001b[0m in \u001b[0;36many\u001b[0;34m(*args, **kwargs)\u001b[0m\n",
      "\u001b[0;32m~/anaconda3/lib/python3.8/site-packages/numpy/core/fromnumeric.py\u001b[0m in \u001b[0;36many\u001b[0;34m(a, axis, out, keepdims, where)\u001b[0m\n\u001b[1;32m   2344\u001b[0m \u001b[0;34m\u001b[0m\u001b[0m\n\u001b[1;32m   2345\u001b[0m     \"\"\"\n\u001b[0;32m-> 2346\u001b[0;31m     return _wrapreduction(a, np.logical_or, 'any', axis, None, out,\n\u001b[0m\u001b[1;32m   2347\u001b[0m                           keepdims=keepdims, where=where)\n\u001b[1;32m   2348\u001b[0m \u001b[0;34m\u001b[0m\u001b[0m\n",
      "\u001b[0;32m~/anaconda3/lib/python3.8/site-packages/numpy/core/fromnumeric.py\u001b[0m in \u001b[0;36m_wrapreduction\u001b[0;34m(obj, ufunc, method, axis, dtype, out, **kwargs)\u001b[0m\n\u001b[1;32m     83\u001b[0m                 \u001b[0;32mreturn\u001b[0m \u001b[0mreduction\u001b[0m\u001b[0;34m(\u001b[0m\u001b[0maxis\u001b[0m\u001b[0;34m=\u001b[0m\u001b[0maxis\u001b[0m\u001b[0;34m,\u001b[0m \u001b[0mdtype\u001b[0m\u001b[0;34m=\u001b[0m\u001b[0mdtype\u001b[0m\u001b[0;34m,\u001b[0m \u001b[0mout\u001b[0m\u001b[0;34m=\u001b[0m\u001b[0mout\u001b[0m\u001b[0;34m,\u001b[0m \u001b[0;34m**\u001b[0m\u001b[0mpasskwargs\u001b[0m\u001b[0;34m)\u001b[0m\u001b[0;34m\u001b[0m\u001b[0;34m\u001b[0m\u001b[0m\n\u001b[1;32m     84\u001b[0m             \u001b[0;32melse\u001b[0m\u001b[0;34m:\u001b[0m\u001b[0;34m\u001b[0m\u001b[0;34m\u001b[0m\u001b[0m\n\u001b[0;32m---> 85\u001b[0;31m                 \u001b[0;32mreturn\u001b[0m \u001b[0mreduction\u001b[0m\u001b[0;34m(\u001b[0m\u001b[0maxis\u001b[0m\u001b[0;34m=\u001b[0m\u001b[0maxis\u001b[0m\u001b[0;34m,\u001b[0m \u001b[0mout\u001b[0m\u001b[0;34m=\u001b[0m\u001b[0mout\u001b[0m\u001b[0;34m,\u001b[0m \u001b[0;34m**\u001b[0m\u001b[0mpasskwargs\u001b[0m\u001b[0;34m)\u001b[0m\u001b[0;34m\u001b[0m\u001b[0;34m\u001b[0m\u001b[0m\n\u001b[0m\u001b[1;32m     86\u001b[0m \u001b[0;34m\u001b[0m\u001b[0m\n\u001b[1;32m     87\u001b[0m     \u001b[0;32mreturn\u001b[0m \u001b[0mufunc\u001b[0m\u001b[0;34m.\u001b[0m\u001b[0mreduce\u001b[0m\u001b[0;34m(\u001b[0m\u001b[0mobj\u001b[0m\u001b[0;34m,\u001b[0m \u001b[0maxis\u001b[0m\u001b[0;34m,\u001b[0m \u001b[0mdtype\u001b[0m\u001b[0;34m,\u001b[0m \u001b[0mout\u001b[0m\u001b[0;34m,\u001b[0m \u001b[0;34m**\u001b[0m\u001b[0mpasskwargs\u001b[0m\u001b[0;34m)\u001b[0m\u001b[0;34m\u001b[0m\u001b[0;34m\u001b[0m\u001b[0m\n",
      "\u001b[0;32m~/anaconda3/lib/python3.8/site-packages/numpy/core/_methods.py\u001b[0m in \u001b[0;36m_any\u001b[0;34m(a, axis, dtype, out, keepdims, where)\u001b[0m\n\u001b[1;32m     51\u001b[0m     \u001b[0;32mreturn\u001b[0m \u001b[0mumr_prod\u001b[0m\u001b[0;34m(\u001b[0m\u001b[0ma\u001b[0m\u001b[0;34m,\u001b[0m \u001b[0maxis\u001b[0m\u001b[0;34m,\u001b[0m \u001b[0mdtype\u001b[0m\u001b[0;34m,\u001b[0m \u001b[0mout\u001b[0m\u001b[0;34m,\u001b[0m \u001b[0mkeepdims\u001b[0m\u001b[0;34m,\u001b[0m \u001b[0minitial\u001b[0m\u001b[0;34m,\u001b[0m \u001b[0mwhere\u001b[0m\u001b[0;34m)\u001b[0m\u001b[0;34m\u001b[0m\u001b[0;34m\u001b[0m\u001b[0m\n\u001b[1;32m     52\u001b[0m \u001b[0;34m\u001b[0m\u001b[0m\n\u001b[0;32m---> 53\u001b[0;31m \u001b[0;32mdef\u001b[0m \u001b[0m_any\u001b[0m\u001b[0;34m(\u001b[0m\u001b[0ma\u001b[0m\u001b[0;34m,\u001b[0m \u001b[0maxis\u001b[0m\u001b[0;34m=\u001b[0m\u001b[0;32mNone\u001b[0m\u001b[0;34m,\u001b[0m \u001b[0mdtype\u001b[0m\u001b[0;34m=\u001b[0m\u001b[0;32mNone\u001b[0m\u001b[0;34m,\u001b[0m \u001b[0mout\u001b[0m\u001b[0;34m=\u001b[0m\u001b[0;32mNone\u001b[0m\u001b[0;34m,\u001b[0m \u001b[0mkeepdims\u001b[0m\u001b[0;34m=\u001b[0m\u001b[0;32mFalse\u001b[0m\u001b[0;34m,\u001b[0m \u001b[0;34m*\u001b[0m\u001b[0;34m,\u001b[0m \u001b[0mwhere\u001b[0m\u001b[0;34m=\u001b[0m\u001b[0;32mTrue\u001b[0m\u001b[0;34m)\u001b[0m\u001b[0;34m:\u001b[0m\u001b[0;34m\u001b[0m\u001b[0;34m\u001b[0m\u001b[0m\n\u001b[0m\u001b[1;32m     54\u001b[0m     \u001b[0;31m# Parsing keyword arguments is currently fairly slow, so avoid it for now\u001b[0m\u001b[0;34m\u001b[0m\u001b[0;34m\u001b[0m\u001b[0;34m\u001b[0m\u001b[0m\n\u001b[1;32m     55\u001b[0m     \u001b[0;32mif\u001b[0m \u001b[0mwhere\u001b[0m \u001b[0;32mis\u001b[0m \u001b[0;32mTrue\u001b[0m\u001b[0;34m:\u001b[0m\u001b[0;34m\u001b[0m\u001b[0;34m\u001b[0m\u001b[0m\n",
      "\u001b[0;31mKeyboardInterrupt\u001b[0m: "
     ]
    }
   ],
   "source": [
    "for index, sublist in enumerate(X):\n",
    "    if index%100 == 0:\n",
    "        print(\"{} files searched\".format(index))\n",
    "    for elem in sublist:\n",
    "        if np.any(elem<0):\n",
    "            print(index, elem)\n",
    "            next(index)"
   ]
  },
  {
   "cell_type": "code",
   "execution_count": null,
   "id": "fallen-surfing",
   "metadata": {},
   "outputs": [],
   "source": []
  },
  {
   "cell_type": "code",
   "execution_count": null,
   "id": "political-magazine",
   "metadata": {},
   "outputs": [],
   "source": [
    "for i,e in enumerate(X):\n",
    "    # i is index; e is element\n",
    "    Y[i] = [x for x in X[i] if math.isnan(x) == False]"
   ]
  },
  {
   "cell_type": "code",
   "execution_count": 7,
   "id": "supreme-marking",
   "metadata": {},
   "outputs": [
    {
     "data": {
      "text/plain": [
       "[<matplotlib.lines.Line2D at 0x7f31a7643ca0>]"
      ]
     },
     "execution_count": 7,
     "metadata": {},
     "output_type": "execute_result"
    },
    {
     "data": {
      "image/png": "[encoded data removed]",
      "text/plain": [
       "<Figure size 1440x648 with 1 Axes>"
      ]
     },
     "metadata": {},
     "output_type": "display_data"
    }
   ],
   "source": [
    "plt.plot(X[3055], 'k.', markersize=0.5)"
   ]
  },
  {
   "cell_type": "code",
   "execution_count": 132,
   "id": "musical-alaska",
   "metadata": {},
   "outputs": [
    {
     "data": {
      "text/plain": [
       "[97, 98, 99, 100, 101, 102, 103]"
      ]
     },
     "execution_count": 132,
     "metadata": {},
     "output_type": "execute_result"
    }
   ],
   "source": [
    "q = [x + 100 for x in q]\n",
    "q"
   ]
  },
  {
   "cell_type": "code",
   "execution_count": 133,
   "id": "apart-matter",
   "metadata": {},
   "outputs": [],
   "source": [
    "Z = [0] * len(X)"
   ]
  },
  {
   "cell_type": "code",
   "execution_count": 24,
   "id": "ongoing-andrew",
   "metadata": {
    "tags": []
   },
   "outputs": [
    {
     "data": {
      "text/plain": [
       "[]"
      ]
     },
     "execution_count": 24,
     "metadata": {},
     "output_type": "execute_result"
    }
   ],
   "source": [
    "belowzerolist = []\n",
    "\n",
    "for i in range(len(X)):\n",
    "    M = min(X[i])\n",
    "    if M < 0:\n",
    "        belowzerolist.append(i)\n",
    "        print(i,M,statistics.mean(X[i]))\n",
    "    \n",
    "belowzerolist"
   ]
  },
  {
   "cell_type": "code",
   "execution_count": 5,
   "id": "younger-hughes",
   "metadata": {},
   "outputs": [
    {
     "name": "stdout",
     "output_type": "stream",
     "text": [
      "Fixing row 1263\n",
      "Fixing row 2416\n",
      "Fixing row 3055\n",
      "Fixing row 6788\n",
      "Fixing row 8219\n",
      "Fixing row 12322\n",
      "Fixing row 13346\n",
      "Fixing row 13935\n",
      "Fixing row 14569\n"
     ]
    }
   ],
   "source": [
    "for L in belowzerolist:\n",
    "    print(\"Fixing row {}\".format(L))\n",
    "    M = abs(min(X[L]))\n",
    "    X[L] = [n + M for n in X[L]]"
   ]
  },
  {
   "cell_type": "code",
   "execution_count": 25,
   "id": "stone-asset",
   "metadata": {},
   "outputs": [],
   "source": [
    "np.save(\"foldedfluxNONAN.npy\", X)"
   ]
  },
  {
   "cell_type": "code",
   "execution_count": null,
   "id": "remarkable-jacob",
   "metadata": {},
   "outputs": [],
   "source": []
  }
 ],
 "metadata": {
  "kernelspec": {
   "display_name": "Python 3",
   "language": "python",
   "name": "python3"
  },
  "language_info": {
   "codemirror_mode": {
    "name": "ipython",
    "version": 3
   },
   "file_extension": ".py",
   "mimetype": "text/x-python",
   "name": "python",
   "nbconvert_exporter": "python",
   "pygments_lexer": "ipython3",
   "version": "3.8.8"
  }
 },
 "nbformat": 4,
 "nbformat_minor": 5
}
