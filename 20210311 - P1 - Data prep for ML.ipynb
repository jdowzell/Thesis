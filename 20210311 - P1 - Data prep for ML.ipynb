{
 "cells": [
  {
   "cell_type": "code",
   "execution_count": 2,
   "metadata": {},
   "outputs": [],
   "source": [
    "# Scientific imports\n",
    "\n",
    "%matplotlib inline\n",
    "from astropy.io import fits\n",
    "import matplotlib.pyplot as plt\n",
    "import numpy as np\n",
    "from astroquery.mast import Observations\n",
    "from astroquery.mast import Catalogs\n",
    "\n",
    "# General imports\n",
    "\n",
    "import csv, math, os, os.path, sys, random\n",
    "import pandas as pd\n",
    "import seaborn as sb\n",
    "from sklearn import metrics\n",
    "from IPython.display import display\n",
    "\n",
    "plt.rcParams[\"figure.figsize\"] = (20,9)\n",
    "sb.set()"
   ]
  },
  {
   "cell_type": "code",
   "execution_count": 3,
   "metadata": {},
   "outputs": [],
   "source": [
    "# Function for Reading which LC datafiles we have into a list\n",
    "def makingAList(prnt=False):\n",
    "    fl = []\n",
    "    fitsroot = \"SIM_DATA/\"\n",
    "    fits_directories = [x[0] for x in os.walk('./SIM_DATA/.', topdown=True)]\n",
    "\n",
    "    for fitsroot, fits_dirs, fits_files in os.walk(fitsroot):\n",
    "        for fits_file in fits_files:\n",
    "            fullpath = os.path.join(fitsroot, fits_file)\n",
    "            if (os.path.splitext(fullpath.lower())[1]).endswith('.fits'):\n",
    "                fl.append(fullpath)\n",
    "    if prnt==True:\n",
    "        print(\"Number of FITS files: {}\".format(len(fl)))\n",
    "    #print(len(fl))\n",
    "    return fl\n",
    "\n",
    "fitsList = makingAList()\n"
   ]
  },
  {
   "cell_type": "code",
   "execution_count": 4,
   "metadata": {},
   "outputs": [],
   "source": [
    "# Keep track of current LC and it's TIC identifier\n",
    "lastRandom={\n",
    "    \"number\": 0,\n",
    "    \"id\": 0\n",
    "}"
   ]
  },
  {
   "cell_type": "code",
   "execution_count": 5,
   "metadata": {},
   "outputs": [
    {
     "name": "stdout",
     "output_type": "stream",
     "text": [
      "12116\n",
      "38508526\n"
     ]
    }
   ],
   "source": [
    "# Chooses a random number\n",
    "def GetRandomLC(n = None):\n",
    "    global lastRandom\n",
    "    #print(\"1: {}\".format(n))\n",
    "    if not (isinstance(n, int)):\n",
    "        n = random.randint(0,len(fitsList))\n",
    "        lastRandom[\"number\"] = n\n",
    "        lastRandom[\"id\"] = int(fitsList[n].split(\"-\")[2])\n",
    "        #print(\"NOT INT; NEW RANDOM -- {}\".format(n))\n",
    "        return n\n",
    "    elif not(0 <= n < len(fitsList)):\n",
    "        n = random.randint(0,len(fitsList))\n",
    "        lastRandom[\"number\"] = n\n",
    "        lastRandom[\"id\"] = int(fitsList[n].split(\"-\")[2])\n",
    "        #print(\"NOT IN RANGE; NEW RANDOM -- {}\".format(n))\n",
    "        return n\n",
    "    else:\n",
    "        n = random.randint(0,len(fitsList))\n",
    "        lastRandom[\"number\"] = n\n",
    "        lastRandom[\"id\"] = int(fitsList[n].split(\"-\")[2])\n",
    "        #print(\"Random number chosen: {}\".format(n))\n",
    "        return n\n",
    "    \n",
    "a = GetRandomLC()\n",
    "print(lastRandom[\"number\"])\n",
    "print(lastRandom[\"id\"])"
   ]
  },
  {
   "cell_type": "code",
   "execution_count": 6,
   "metadata": {},
   "outputs": [
    {
     "name": "stdout",
     "output_type": "stream",
     "text": [
      "7000\n",
      "469977301\n"
     ]
    }
   ],
   "source": [
    "# Chooses a random number\n",
    "def GetRandomLC(n = None):\n",
    "    global lastRandom\n",
    "    #print(\"1: {}\".format(n))\n",
    "    if isinstance(n, int):\n",
    "        if 0 <= n < len(fitsList):\n",
    "            n = n\n",
    "        else:\n",
    "            n = random.randint(0,len(fitsList))\n",
    "    else:\n",
    "        n = random.randint(0,len(fitsList))\n",
    "    \n",
    "    lastRandom[\"number\"] = n\n",
    "    lastRandom[\"id\"] = str(fitsList[n].split(\"-\")[2].lstrip(\"0\"))\n",
    "    return n\n",
    "    \n",
    "a = GetRandomLC()\n",
    "print(lastRandom[\"number\"])\n",
    "print(lastRandom[\"id\"])"
   ]
  },
  {
   "cell_type": "code",
   "execution_count": 12,
   "metadata": {},
   "outputs": [
    {
     "name": "stderr",
     "output_type": "stream",
     "text": [
      "WARNING: File may have been truncated: actual file length (262144) is smaller than the expected size (2056320) [astropy.io.fits.file]\n"
     ]
    },
    {
     "ename": "TypeError",
     "evalue": "buffer is too small for requested array",
     "output_type": "error",
     "traceback": [
      "\u001b[0;31m---------------------------------------------------------------------------\u001b[0m",
      "\u001b[0;31mTypeError\u001b[0m                                 Traceback (most recent call last)",
      "\u001b[0;32m<ipython-input-12-30ce11db33df>\u001b[0m in \u001b[0;36m<module>\u001b[0;34m\u001b[0m\n\u001b[1;32m     64\u001b[0m     \u001b[0mplt\u001b[0m\u001b[0;34m.\u001b[0m\u001b[0mshow\u001b[0m\u001b[0;34m(\u001b[0m\u001b[0;34m)\u001b[0m\u001b[0;34m\u001b[0m\u001b[0;34m\u001b[0m\u001b[0m\n\u001b[1;32m     65\u001b[0m \u001b[0;34m\u001b[0m\u001b[0m\n\u001b[0;32m---> 66\u001b[0;31m \u001b[0mDrawACurve\u001b[0m\u001b[0;34m(\u001b[0m\u001b[0;34m)\u001b[0m\u001b[0;34m\u001b[0m\u001b[0;34m\u001b[0m\u001b[0m\n\u001b[0m\u001b[1;32m     67\u001b[0m \u001b[0mprint\u001b[0m\u001b[0;34m(\u001b[0m\u001b[0mlastRandom\u001b[0m\u001b[0;34m[\u001b[0m\u001b[0;34m\"number\"\u001b[0m\u001b[0;34m]\u001b[0m\u001b[0;34m)\u001b[0m\u001b[0;34m\u001b[0m\u001b[0;34m\u001b[0m\u001b[0m\n",
      "\u001b[0;32m<ipython-input-12-30ce11db33df>\u001b[0m in \u001b[0;36mDrawACurve\u001b[0;34m()\u001b[0m\n\u001b[1;32m     32\u001b[0m         \u001b[0;31m#fluxes_init = hdulist[1].data['LC_INIT']\u001b[0m\u001b[0;34m\u001b[0m\u001b[0;34m\u001b[0m\u001b[0;34m\u001b[0m\u001b[0m\n\u001b[1;32m     33\u001b[0m         \u001b[0;31m#model_fluxes_init = hdulist[1].data['MODEL_INIT']\u001b[0m\u001b[0;34m\u001b[0m\u001b[0;34m\u001b[0m\u001b[0;34m\u001b[0m\u001b[0m\n\u001b[0;32m---> 34\u001b[0;31m         \u001b[0mtess_bjds\u001b[0m \u001b[0;34m=\u001b[0m \u001b[0mhdulist\u001b[0m\u001b[0;34m[\u001b[0m\u001b[0;36m1\u001b[0m\u001b[0;34m]\u001b[0m\u001b[0;34m.\u001b[0m\u001b[0mdata\u001b[0m\u001b[0;34m[\u001b[0m\u001b[0;34m'TIME'\u001b[0m\u001b[0;34m]\u001b[0m\u001b[0;34m\u001b[0m\u001b[0;34m\u001b[0m\u001b[0m\n\u001b[0m\u001b[1;32m     35\u001b[0m         \u001b[0msap_fluxes\u001b[0m \u001b[0;34m=\u001b[0m \u001b[0mhdulist\u001b[0m\u001b[0;34m[\u001b[0m\u001b[0;36m1\u001b[0m\u001b[0;34m]\u001b[0m\u001b[0;34m.\u001b[0m\u001b[0mdata\u001b[0m\u001b[0;34m[\u001b[0m\u001b[0;34m'SAP_FLUX'\u001b[0m\u001b[0;34m]\u001b[0m\u001b[0;34m\u001b[0m\u001b[0;34m\u001b[0m\u001b[0m\n\u001b[1;32m     36\u001b[0m         \u001b[0mpdcsap_fluxes\u001b[0m \u001b[0;34m=\u001b[0m \u001b[0mhdulist\u001b[0m\u001b[0;34m[\u001b[0m\u001b[0;36m1\u001b[0m\u001b[0;34m]\u001b[0m\u001b[0;34m.\u001b[0m\u001b[0mdata\u001b[0m\u001b[0;34m[\u001b[0m\u001b[0;34m'PDCSAP_FLUX'\u001b[0m\u001b[0;34m]\u001b[0m\u001b[0;34m\u001b[0m\u001b[0;34m\u001b[0m\u001b[0m\n",
      "\u001b[0;32m~/anaconda3/lib/python3.8/site-packages/astropy/utils/decorators.py\u001b[0m in \u001b[0;36m__get__\u001b[0;34m(self, obj, owner)\u001b[0m\n\u001b[1;32m    756\u001b[0m                 \u001b[0;32mreturn\u001b[0m \u001b[0mval\u001b[0m\u001b[0;34m\u001b[0m\u001b[0;34m\u001b[0m\u001b[0m\n\u001b[1;32m    757\u001b[0m             \u001b[0;32melse\u001b[0m\u001b[0;34m:\u001b[0m\u001b[0;34m\u001b[0m\u001b[0;34m\u001b[0m\u001b[0m\n\u001b[0;32m--> 758\u001b[0;31m                 \u001b[0mval\u001b[0m \u001b[0;34m=\u001b[0m \u001b[0mself\u001b[0m\u001b[0;34m.\u001b[0m\u001b[0mfget\u001b[0m\u001b[0;34m(\u001b[0m\u001b[0mobj\u001b[0m\u001b[0;34m)\u001b[0m\u001b[0;34m\u001b[0m\u001b[0;34m\u001b[0m\u001b[0m\n\u001b[0m\u001b[1;32m    759\u001b[0m                 \u001b[0mobj\u001b[0m\u001b[0;34m.\u001b[0m\u001b[0m__dict__\u001b[0m\u001b[0;34m[\u001b[0m\u001b[0mself\u001b[0m\u001b[0;34m.\u001b[0m\u001b[0m_key\u001b[0m\u001b[0;34m]\u001b[0m \u001b[0;34m=\u001b[0m \u001b[0mval\u001b[0m\u001b[0;34m\u001b[0m\u001b[0;34m\u001b[0m\u001b[0m\n\u001b[1;32m    760\u001b[0m                 \u001b[0;32mreturn\u001b[0m \u001b[0mval\u001b[0m\u001b[0;34m\u001b[0m\u001b[0;34m\u001b[0m\u001b[0m\n",
      "\u001b[0;32m~/anaconda3/lib/python3.8/site-packages/astropy/io/fits/hdu/table.py\u001b[0m in \u001b[0;36mdata\u001b[0;34m(self)\u001b[0m\n\u001b[1;32m    397\u001b[0m     \u001b[0;34m@\u001b[0m\u001b[0mlazyproperty\u001b[0m\u001b[0;34m\u001b[0m\u001b[0;34m\u001b[0m\u001b[0m\n\u001b[1;32m    398\u001b[0m     \u001b[0;32mdef\u001b[0m \u001b[0mdata\u001b[0m\u001b[0;34m(\u001b[0m\u001b[0mself\u001b[0m\u001b[0;34m)\u001b[0m\u001b[0;34m:\u001b[0m\u001b[0;34m\u001b[0m\u001b[0;34m\u001b[0m\u001b[0m\n\u001b[0;32m--> 399\u001b[0;31m         \u001b[0mdata\u001b[0m \u001b[0;34m=\u001b[0m \u001b[0mself\u001b[0m\u001b[0;34m.\u001b[0m\u001b[0m_get_tbdata\u001b[0m\u001b[0;34m(\u001b[0m\u001b[0;34m)\u001b[0m\u001b[0;34m\u001b[0m\u001b[0;34m\u001b[0m\u001b[0m\n\u001b[0m\u001b[1;32m    400\u001b[0m         \u001b[0mdata\u001b[0m\u001b[0;34m.\u001b[0m\u001b[0m_coldefs\u001b[0m \u001b[0;34m=\u001b[0m \u001b[0mself\u001b[0m\u001b[0;34m.\u001b[0m\u001b[0mcolumns\u001b[0m\u001b[0;34m\u001b[0m\u001b[0;34m\u001b[0m\u001b[0m\n\u001b[1;32m    401\u001b[0m         \u001b[0mdata\u001b[0m\u001b[0;34m.\u001b[0m\u001b[0m_character_as_bytes\u001b[0m \u001b[0;34m=\u001b[0m \u001b[0mself\u001b[0m\u001b[0;34m.\u001b[0m\u001b[0m_character_as_bytes\u001b[0m\u001b[0;34m\u001b[0m\u001b[0;34m\u001b[0m\u001b[0m\n",
      "\u001b[0;32m~/anaconda3/lib/python3.8/site-packages/astropy/io/fits/hdu/table.py\u001b[0m in \u001b[0;36m_get_tbdata\u001b[0;34m(self)\u001b[0m\n\u001b[1;32m    169\u001b[0m                                                type=np.rec.recarray)\n\u001b[1;32m    170\u001b[0m         \u001b[0;32melse\u001b[0m\u001b[0;34m:\u001b[0m\u001b[0;34m\u001b[0m\u001b[0;34m\u001b[0m\u001b[0m\n\u001b[0;32m--> 171\u001b[0;31m             raw_data = self._get_raw_data(self._nrows, columns.dtype,\n\u001b[0m\u001b[1;32m    172\u001b[0m                                           self._data_offset)\n\u001b[1;32m    173\u001b[0m             \u001b[0;32mif\u001b[0m \u001b[0mraw_data\u001b[0m \u001b[0;32mis\u001b[0m \u001b[0;32mNone\u001b[0m\u001b[0;34m:\u001b[0m\u001b[0;34m\u001b[0m\u001b[0;34m\u001b[0m\u001b[0m\n",
      "\u001b[0;32m~/anaconda3/lib/python3.8/site-packages/astropy/io/fits/hdu/base.py\u001b[0m in \u001b[0;36m_get_raw_data\u001b[0;34m(self, shape, code, offset)\u001b[0m\n\u001b[1;32m    518\u001b[0m                               offset=offset)\n\u001b[1;32m    519\u001b[0m         \u001b[0;32melif\u001b[0m \u001b[0mself\u001b[0m\u001b[0;34m.\u001b[0m\u001b[0m_file\u001b[0m\u001b[0;34m:\u001b[0m\u001b[0;34m\u001b[0m\u001b[0;34m\u001b[0m\u001b[0m\n\u001b[0;32m--> 520\u001b[0;31m             \u001b[0;32mreturn\u001b[0m \u001b[0mself\u001b[0m\u001b[0;34m.\u001b[0m\u001b[0m_file\u001b[0m\u001b[0;34m.\u001b[0m\u001b[0mreadarray\u001b[0m\u001b[0;34m(\u001b[0m\u001b[0moffset\u001b[0m\u001b[0;34m=\u001b[0m\u001b[0moffset\u001b[0m\u001b[0;34m,\u001b[0m \u001b[0mdtype\u001b[0m\u001b[0;34m=\u001b[0m\u001b[0mcode\u001b[0m\u001b[0;34m,\u001b[0m \u001b[0mshape\u001b[0m\u001b[0;34m=\u001b[0m\u001b[0mshape\u001b[0m\u001b[0;34m)\u001b[0m\u001b[0;34m\u001b[0m\u001b[0;34m\u001b[0m\u001b[0m\n\u001b[0m\u001b[1;32m    521\u001b[0m         \u001b[0;32melse\u001b[0m\u001b[0;34m:\u001b[0m\u001b[0;34m\u001b[0m\u001b[0;34m\u001b[0m\u001b[0m\n\u001b[1;32m    522\u001b[0m             \u001b[0;32mreturn\u001b[0m \u001b[0;32mNone\u001b[0m\u001b[0;34m\u001b[0m\u001b[0;34m\u001b[0m\u001b[0m\n",
      "\u001b[0;32m~/anaconda3/lib/python3.8/site-packages/astropy/io/fits/file.py\u001b[0m in \u001b[0;36mreadarray\u001b[0;34m(self, size, offset, dtype, shape)\u001b[0m\n\u001b[1;32m    328\u001b[0m                             \u001b[0;32mraise\u001b[0m\u001b[0;34m\u001b[0m\u001b[0;34m\u001b[0m\u001b[0m\n\u001b[1;32m    329\u001b[0m \u001b[0;34m\u001b[0m\u001b[0m\n\u001b[0;32m--> 330\u001b[0;31m                 return np.ndarray(shape=shape, dtype=dtype, offset=offset,\n\u001b[0m\u001b[1;32m    331\u001b[0m                                   buffer=self._mmap)\n\u001b[1;32m    332\u001b[0m             \u001b[0;32melse\u001b[0m\u001b[0;34m:\u001b[0m\u001b[0;34m\u001b[0m\u001b[0;34m\u001b[0m\u001b[0m\n",
      "\u001b[0;31mTypeError\u001b[0m: buffer is too small for requested array"
     ]
    }
   ],
   "source": [
    "# Plots a random Light Curve. If a number is specificed, it will plot THAT Light Curve.\n",
    "def DrawACurve():\n",
    "    rndFile = GetRandomLC()\n",
    "    fitsFile = fitsList[rndFile]\n",
    "    \n",
    "    # The following line of code gives us the header values\n",
    "    fitsHeaders = fits.getheader(fitsFile)\n",
    "\n",
    "    with fits.open(fitsFile, mode=\"readonly\") as hdulist:\n",
    "\n",
    "        # Extract stellar parameters from the primary header.  We'll get the effective temperature, surface gravity,\n",
    "        # and TESS magnitude.\n",
    "        star_teff = hdulist[0].header['TEFF']\n",
    "        star_logg = hdulist[0].header['LOGG']\n",
    "        star_tmag = hdulist[0].header['TESSMAG']\n",
    "        obj = hdulist[0].header['OBJECT']\n",
    "        sector = hdulist[0].header['SECTOR']\n",
    "\n",
    "        # Extract some of the fit parameters for the first TCE.  These are stored in the FITS header of the first\n",
    "        # extension.\n",
    "        #period = hdulist[1].header['TPERIOD']\n",
    "        #duration = hdulist[1].header['TDUR']\n",
    "        duration = (hdulist[1].header['LIVETIME'])\n",
    "        #epoch = hdulist[1].header['TEPOCH']\n",
    "        #depth = hdulist[1].header['TDEPTH']\n",
    "\n",
    "        # Extract some of the columns of interest for the first TCE signal.  These are stored in the binary FITS table\n",
    "        # in the first extension.  We'll extract the timestamps in TBJD, phase, initial fluxes, and corresponding\n",
    "        # model fluxes.\n",
    "        #times = hdulist[1].data['TIME']\n",
    "        #phases = hdulist[1].data['PHASE']\n",
    "        #fluxes_init = hdulist[1].data['LC_INIT']\n",
    "        #model_fluxes_init = hdulist[1].data['MODEL_INIT']\n",
    "        tess_bjds = hdulist[1].data['TIME']\n",
    "        sap_fluxes = hdulist[1].data['SAP_FLUX']\n",
    "        pdcsap_fluxes = hdulist[1].data['PDCSAP_FLUX']\n",
    "\n",
    "    # Define the epoch of primary transit in TBJD.  Our timestamps are also already in TBJD.\n",
    "    #t0 = 1327.520678\n",
    "\n",
    "    # Start figure and axis.\n",
    "    fig, ax = plt.subplots()\n",
    "\n",
    "    # Plot the timeseries in black circles.\n",
    "    ## Using the [1:-1] identifier to cut off the leading and trailing zeroes\n",
    "\n",
    "    ax.plot(tess_bjds[1:-1], pdcsap_fluxes[1:-1], 'k.', markersize=1)\n",
    "\n",
    "    # Center the x-axis on where we expect a transit to be (time = T0), and set\n",
    "    # the x-axis range within +/- 1 day of T0.\n",
    "    ########ax.set_xlim(t0 - 1.0, t0 + 1.0)\n",
    "\n",
    "    # Overplot a red vertical line that should be where the transit occurs.\n",
    "    ########ax.axvline(x=t0, color=\"red\")\n",
    "\n",
    "    # Let's label the axes and define a title for the figure.\n",
    "    fig.suptitle(\"File № {} - {} - Sector {}\".format(rndFile, str(obj), str(sector))) # + str(obj) + \" - Sector \" + str(sector))\n",
    "    ax.set_ylabel(\"PDCSAP Flux (e-/s)\")\n",
    "    ax.set_xlabel(\"Time (TBJD)\")\n",
    "\n",
    "    # Adjust the left margin so the y-axis label shows up.\n",
    "    plt.subplots_adjust(left=0.15)\n",
    "    #plt.figure(figsize=(2,8))\n",
    "    plt.show()\n",
    "\n",
    "DrawACurve(1380)\n",
    "print(lastRandom[\"number\"])"
   ]
  },
  {
   "cell_type": "code",
   "execution_count": 6,
   "metadata": {},
   "outputs": [
    {
     "name": "stdout",
     "output_type": "stream",
     "text": [
      "6696\n"
     ]
    }
   ],
   "source": [
    "def LoadListGeneral(f):\n",
    "    lst=[]\n",
    "    try:\n",
    "        # Assuming everything CAN go well, do this\n",
    "        with open('./SIM_DATA/unpacked/{}'.format(f)) as df:\n",
    "            csvdf = csv.reader(df)\n",
    "            for lineholder in csvdf:\n",
    "                line = lineholder[0]                # I don't know why but this makes it work better\n",
    "                if line[0]!=\"#\":                    # Ignore commented lines (lines w/ FIRST STRING ELEMENT is a # character)\n",
    "                    lst.append(line.split()[0])       # Add line to list\n",
    "                # endif\n",
    "            # endfor\n",
    "        # endwith\n",
    "    except FileNotFoundError:\n",
    "        print(\"FNF\")\n",
    "        return\n",
    "    # end try\n",
    "    return lst\n",
    "\n",
    "j=LoadListGeneral(\"tsop301_planet_data.txt\")\n",
    "print(len(j))"
   ]
  },
  {
   "cell_type": "code",
   "execution_count": 7,
   "metadata": {},
   "outputs": [],
   "source": [
    "def LoadList(itemtype=\"all\"):\n",
    "    \n",
    "    pl=\"tsop301_planet_data.txt\"\n",
    "    sl=\"tsop301_star_data.txt\"\n",
    "    ebl=\"tsop301_eb_data.txt\"\n",
    "    bebl=\"tsop301_backeb_data.txt\"\n",
    "    \n",
    "    foundflag=False\n",
    "    \n",
    "    # itemtype = (S)tar, (P)lanet, (E)clipsing (B)inary, or (B)ack (E)clipsing (B)inary\n",
    "    if itemtype.lower() in [\"s\", \"star\", \"all\"]:\n",
    "        foundflag = True\n",
    "        global starlist\n",
    "        starlist = LoadListGeneral(sl)\n",
    "        print(\"Loading star list: {}\".format(sl))\n",
    "    if itemtype.lower() in [\"p\", \"planet\", \"all\"]:\n",
    "        foundflag = True\n",
    "        global planetlist\n",
    "        planetlist = LoadListGeneral(pl)\n",
    "        print (\"loading planet list: {}\".format(pl))\n",
    "    if itemtype.lower() in [\"eb\", \"eclipsing binary\", \"eclipsingbinary\", \"all\"]:\n",
    "        foundflag = True\n",
    "        global eblist\n",
    "        eblist = LoadListGeneral(ebl)\n",
    "        print (\"loading eb list: {}\".format(ebl))\n",
    "    if itemtype.lower() in [\"beb\", \"back eclipsing binary\", \"backeclipsingbinary\", \"all\"]:\n",
    "        foundflag = True\n",
    "        global beblist\n",
    "        beblist = LoadListGeneral(bebl)\n",
    "        print (\"loading beb list: {}\".format(bebl))\n",
    "        \n",
    "    if foundflag:\n",
    "        global alllists\n",
    "        alllists = {\"s\": starlist, \"p\": planetlist, \"eb\": eblist, \"beb\": beblist}\n",
    "        return\n",
    "    else:\n",
    "        # If an invalid selection has been entered\n",
    "        print(\"You must enter either:\\n\"\n",
    "               \"* \\\"S\\\" (or \\\"Star\\\")\\n\"\n",
    "               \"* \\\"P\\\" (or \\\"Planet\\\")\\n\"\n",
    "               \"* \\\"EB\\\" (or \\\"Eclipsing Binary\\\")\\n\"\n",
    "               \"* \\\"BEB\\\" (or \\\"Back Eclipsing Binary\\\")\")\n"
   ]
  },
  {
   "cell_type": "code",
   "execution_count": 44,
   "metadata": {},
   "outputs": [
    {
     "name": "stdout",
     "output_type": "stream",
     "text": [
      "Loading star list: tsop301_star_data.txt\n",
      "loading planet list: tsop301_planet_data.txt\n",
      "loading eb list: tsop301_eb_data.txt\n",
      "loading beb list: tsop301_backeb_data.txt\n",
      "10489\n",
      "410346833\n"
     ]
    }
   ],
   "source": [
    "starlist=[]\n",
    "planetlist=[]\n",
    "eblist=[]\n",
    "beblist=[]\n",
    "alllists = {}\n",
    "LoadList()\n",
    "\n",
    "#GetRandomLC()\n",
    "print(lastRandom[\"number\"])\n",
    "print(lastRandom[\"id\"])"
   ]
  },
  {
   "cell_type": "markdown",
   "metadata": {},
   "source": [
    "Now that we have populated every list, we can proceed to store each LC as a 1 x (many many number) array/dataframe/list/etc, and then search for the unique identifier in the lists. If it finds it, apply label (star/planet/eb/beb) so we can use that for TRAINING DATA and then once trained we can then run it on some data with UNKNOWN data (ie, vectors that DON'T have the extra label) and predict them.  \n",
    "Can then see if true by searching that list for the number, and if yes then WIN else ERROR"
   ]
  },
  {
   "cell_type": "raw",
   "metadata": {},
   "source": [
    "# Function to check whether the ID of the randomly selected LC is present in starlist, planetlist, eblist, or beblist\n",
    "\n",
    "def IsThisA(itemtype,n):\n",
    "    \n",
    "    # itemtype = (S)tar, (P)lanet, (E)clipsing (B)inary, or (B)ack (E)clipsing (B)inary\n",
    "    if itemtype.lower() in [\"s\", \"star\"]:\n",
    "        return IsThisAStar(n)\n",
    "    elif itemtype.lower() in [\"p\", \"planet\"]:\n",
    "        return IsThisAPlanet(n)\n",
    "    elif itemtype.lower() in [\"eb\", \"eclipsing binary\", \"eclipsingbinary\"]:\n",
    "        return IsThisAEB(n)\n",
    "    elif itemtype.lower() in [\"beb\", \"back eclipsing binary\", \"backeclipsingbinary\"]:\n",
    "        return IsThisABEB(n)\n",
    "    else:\n",
    "        # If an invalid selection has been entered\n",
    "        print(\"You must enter either:\\n\"\n",
    "               \"* \\\"S\\\" (or \\\"Star\\\")\\n\"\n",
    "               \"* \\\"P\\\" (or \\\"Planet\\\")\\n\"\n",
    "               \"* \\\"EB\\\" (or \\\"Eclipsing Binary\\\")\\n\"\n",
    "               \"* \\\"BEB\\\" (or \\\"Back Eclipsing Binary\\\")\")"
   ]
  },
  {
   "cell_type": "code",
   "execution_count": 87,
   "metadata": {},
   "outputs": [],
   "source": [
    "# Easier to recall wrapper functions, for quality of life option\n",
    "\n",
    "def IsThisAStar(n):\n",
    "    return n in alllists[\"s\"]\n",
    "    \n",
    "def IsThisAPlanet(n):\n",
    "    return n in alllists[\"p\"]\n",
    "\n",
    "def IsThisAEB(n):\n",
    "    return n in alllists[\"eb\"]\n",
    "\n",
    "def IsThisABEB(n):\n",
    "    return n in alllists[\"beb\"]\n",
    "\n",
    "# Function to tell you what an item is\n",
    "def WhatIsMyLC(n):\n",
    "    lbl = []\n",
    "    lbl.append(\"Star\") if IsThisAStar(n) else lbl\n",
    "    lbl.append(\"Planet\") if IsThisAPlanet(n) else lbl\n",
    "    lbl.append(\"EB\") if IsThisAEB(n) else lbl\n",
    "    lbl.append(\"BRB\") if IsThisABEB(n) else lbl\n",
    "    \n",
    "    return \"UNKNOWN\" if lbl==[] else lbl"
   ]
  },
  {
   "cell_type": "code",
   "execution_count": 100,
   "metadata": {},
   "outputs": [
    {
     "data": {
      "text/plain": [
       "True"
      ]
     },
     "execution_count": 100,
     "metadata": {},
     "output_type": "execute_result"
    }
   ],
   "source": [
    "IsThisAStar(lastRandom[\"id\"])"
   ]
  },
  {
   "cell_type": "code",
   "execution_count": 104,
   "metadata": {},
   "outputs": [
    {
     "name": "stdout",
     "output_type": "stream",
     "text": [
      "142052826\n",
      "['Star', 'Planet']\n",
      "True\n",
      "True\n",
      "False\n",
      "False\n"
     ]
    }
   ],
   "source": [
    "x = lastRandom[\"id\"]\n",
    "print(x)\n",
    "print(WhatIsMyLC(x))\n",
    "\n",
    "print(x in starlist)\n",
    "print(x in planetlist)\n",
    "print(x in eblist)\n",
    "print(x in beblist)"
   ]
  },
  {
   "cell_type": "code",
   "execution_count": 105,
   "metadata": {},
   "outputs": [
    {
     "data": {
      "text/plain": [
       "{'number': 7958, 'id': '142052826'}"
      ]
     },
     "execution_count": 105,
     "metadata": {},
     "output_type": "execute_result"
    }
   ],
   "source": [
    "lastRandom"
   ]
  },
  {
   "cell_type": "code",
   "execution_count": null,
   "metadata": {},
   "outputs": [],
   "source": []
  }
 ],
 "metadata": {
  "kernelspec": {
   "display_name": "Python 3",
   "language": "python",
   "name": "python3"
  },
  "language_info": {
   "codemirror_mode": {
    "name": "ipython",
    "version": 3
   },
   "file_extension": ".py",
   "mimetype": "text/x-python",
   "name": "python",
   "nbconvert_exporter": "python",
   "pygments_lexer": "ipython3",
   "version": "3.8.8"
  }
 },
 "nbformat": 4,
 "nbformat_minor": 4
}
