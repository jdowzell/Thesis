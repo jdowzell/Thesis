{
 "cells": [
  {
   "cell_type": "code",
   "execution_count": 17,
   "metadata": {
    "collapsed": false
   },
   "outputs": [
    {
     "name": "stdout",
     "output_type": "stream",
     "text": [
      "Python Version used: 3.5.1\n"
     ]
    }
   ],
   "source": [
    "# Making sure I know which major/minor/subminor version of Python I'm using\n",
    "from platform import python_version\n",
    "print(\"Python Version used: \"+python_version())"
   ]
  },
  {
   "cell_type": "code",
   "execution_count": 18,
   "metadata": {
    "collapsed": false
   },
   "outputs": [
    {
     "name": "stdout",
     "output_type": "stream",
     "text": [
      "NumPy Version number is: 1.14.2\n",
      "Pandas Version number is: 0.18.0\n",
      "MatPlotLib Version number is: 1.5.1\n"
     ]
    }
   ],
   "source": [
    "# Checking to see if I have all the right libraries set up in Python!\n",
    "import numpy as np\n",
    "print(\"NumPy Version number is: \"+np.__version__)\n",
    "\n",
    "import pandas as pd\n",
    "print(\"Pandas Version number is: \"+pd.__version__)\n",
    "\n",
    "import matplotlib as mpl\n",
    "print(\"MatPlotLib Version number is: \"+mpl.__version__)"
   ]
  },
  {
   "cell_type": "code",
   "execution_count": 19,
   "metadata": {
    "collapsed": false
   },
   "outputs": [
    {
     "name": "stdout",
     "output_type": "stream",
     "text": [
      "SKLearn Version number is: 0.17.1\n"
     ]
    }
   ],
   "source": [
    "# Does SKLearn work?\n",
    "import sklearn as skl\n",
    "\n",
    "print(\"SKLearn Version number is: \"+skl.__version__)"
   ]
  },
  {
   "cell_type": "code",
   "execution_count": null,
   "metadata": {
    "collapsed": true
   },
   "outputs": [],
   "source": []
  },
  {
   "cell_type": "code",
   "execution_count": null,
   "metadata": {
    "collapsed": true
   },
   "outputs": [],
   "source": []
  }
 ],
 "metadata": {
  "kernelspec": {
   "display_name": "Python 3",
   "language": "python",
   "name": "python3"
  },
  "language_info": {
   "codemirror_mode": {
    "name": "ipython",
    "version": 3
   },
   "file_extension": ".py",
   "mimetype": "text/x-python",
   "name": "python",
   "nbconvert_exporter": "python",
   "pygments_lexer": "ipython3",
   "version": "3.5.1"
  }
 },
 "nbformat": 4,
 "nbformat_minor": 0
}
