{
 "cells": [
  {
   "cell_type": "code",
   "execution_count": 2,
   "id": "broad-conference",
   "metadata": {},
   "outputs": [],
   "source": [
    "#!/usr/bin/env python3\n",
    "\n",
    "################################\n",
    "# Scientific imports\n",
    "################################\n",
    "import matplotlib.pyplot as plt\n",
    "import numpy as np\n",
    "\n",
    "from astroquery.mast import Observations\n",
    "from astroquery.mast import Catalogs\n",
    "\n",
    "from astropy.table import Table\n",
    "from astropy.table import QTable\n",
    "from astropy.io import fits\n",
    "from astropy import units as u\n",
    "from astropy.timeseries import BoxLeastSquares\n",
    "from astropy.timeseries import TimeSeries\n",
    "from astropy.stats import sigma_clipped_stats\n",
    "from astropy.timeseries import aggregate_downsample\n",
    "\n",
    "################################\n",
    "# General imports\n",
    "################################\n",
    "import csv, math, io, os, os.path, sys, random, time, json, gc\n",
    "from datetime import datetime\n",
    "import pandas as pd\n",
    "import seaborn as sb\n",
    "from collections import Counter\n",
    "\n",
    "################################\n",
    "# Suppress Warnings\n",
    "################################\n",
    "import warnings\n",
    "warnings.simplefilter(action='ignore', category=UserWarning)\n",
    "warnings.simplefilter(action=\"ignore\", category=RuntimeWarning)\n",
    "\n",
    "################################\n",
    "# Initialisers\n",
    "################################\n",
    "plt.rcParams[\"figure.figsize\"] = (10,6)\n",
    "sb.set()\n",
    "\n",
    "# Load the Data files\n",
    "fitsarr = np.load(\"fitslist.npy\")\n",
    "global C\n",
    "C = 0"
   ]
  },
  {
   "cell_type": "code",
   "execution_count": 3,
   "id": "cheap-organ",
   "metadata": {},
   "outputs": [],
   "source": [
    "################################\n",
    "# Functions\n",
    "################################\n",
    "\n",
    "def LoadList():\n",
    "    \n",
    "    planet_list =\"tsop301_planet_data.txt\"\n",
    "    star_list   =\"tsop301_star_data.txt\"\n",
    "    eb_list     =\"tsop301_eb_data.txt\"\n",
    "    beb_list    =\"tsop301_backeb_data.txt\"\n",
    "    \n",
    "    starlist = LoadListGeneral(star_list)\n",
    "    planetlist = LoadListGeneral(planet_list)\n",
    "    eblist = LoadListGeneral(eb_list)\n",
    "    beblist = LoadListGeneral(beb_list)\n",
    "    \n",
    "    alllists = {\"s\": starlist, \"p\": planetlist, \"eb\": eblist, \"beb\": beblist}\n",
    "    \n",
    "    return alllists\n",
    "\n",
    "def LoadListGeneral(f):\n",
    "    \n",
    "    lst=[]\n",
    "    try:\n",
    "        # Assuming everything CAN go well, do this\n",
    "        with open('./SIM_DATA/unpacked/{}'.format(f)) as df:\n",
    "            csvdf = csv.reader(df)\n",
    "            for lineholder in csvdf:\n",
    "                line = lineholder[0]                # 'lineholder' is a list, 1 element long, containing only a single string\n",
    "                if line[0]!=\"#\":                    # Ignore commented lines (lines w/ FIRST STRING ELEMENT is a # character)\n",
    "                    lst.append(line.split()[0])     # Add line to list\n",
    "                # endif\n",
    "            # endfor\n",
    "        # endwith\n",
    "    except FileNotFoundError:\n",
    "        print(\"FNF\")\n",
    "        return\n",
    "    # end try\n",
    "    \n",
    "    return lst\n",
    "\n",
    "\n",
    "# Python3 implementation to find elements\n",
    "# that appeared only once\n",
    "# Function to find the elements that\n",
    "# appeared only once in the array\n",
    "def OccurredOnce(in_arr, out_arr, count=1):\n",
    "    \n",
    "    n = len(in_arr)\n",
    "    #counting frequency of every element using Counter\n",
    "    mp=Counter(in_arr)\n",
    "    # Traverse the map and print all\n",
    "    # the elements with occurrence 1\n",
    "    for it in mp:\n",
    "        if mp[it] == count:\n",
    "            out_arr.append(int(it))\n",
    "            #print(it, end = \" \")\n",
    "    return\n",
    "\n",
    "\n",
    "def MakeTimeSeries(L, f, binSize=0.2, timedBinSize=0.001):\n",
    "    \n",
    "    global C\n",
    "    C = C+1\n",
    "    print(\"Processing File {} of {}...\".format(C,L))\n",
    "    \n",
    "    ts = TimeSeries.read(fitsarr[int(f)], format='tess.fits')\n",
    "    periodogram = BoxLeastSquares.from_timeseries(ts, 'sap_flux')\n",
    "    results = periodogram.autopower(binSize * u.day)  \n",
    "    best = np.argmax(results.power)  \n",
    "    period = results.period[best]\n",
    "    transit_time = results.transit_time[best]\n",
    "    ts_folded = ts.fold(period=period, epoch_time=transit_time)\n",
    "    mean, median, stddev = sigma_clipped_stats(ts_folded['sap_flux'])\n",
    "    ts_folded['sap_flux_norm'] = ts_folded['sap_flux'] / median\n",
    "    ts_binned = aggregate_downsample(ts_folded, time_bin_size=timedBinSize * u.day)\n",
    "    \n",
    "    return(ts_binned['sap_flux_norm'].value)\n",
    "\n",
    "def GetTICListOfOnlyZeroOrOneExoplanets(fname):\n",
    "    \n",
    "    master_list = LoadList()\n",
    "    starList, planetList, ebList, bebList = master_list['s'], master_list['p'], master_list['eb'], master_list['beb']\n",
    "    starList   = [int(x) for x in starList]\n",
    "    planetList = [int(x) for x in planetList]\n",
    "    ebList     = [int(x) for x in ebList]\n",
    "    bebList    = [int(x) for x in bebList]\n",
    "    \n",
    "    TICList=list(np.load(\"TICList.npy\"))\n",
    "    print(\"TICList is {} entries long\".format(len(TICList)))\n",
    "    \n",
    "    #####################\n",
    "    \n",
    "    one_planet_lcs = []\n",
    "    lst_a = one_planet_lcs\n",
    "    \n",
    "    OccurredOnce(planetList, one_planet_lcs)\n",
    "    \n",
    "    #####################\n",
    "    \n",
    "    fLen = len(fluxarr)\n",
    "#    print(\"The file '{}' contains a list of {} LCs!\".format(fname,fLen))\n",
    "    \n",
    "    zero_or_one_exoplanets = list(set(starList + one_planet_lcs))\n",
    "    zero_or_one_exoplanets.sort()\n",
    "    \n",
    "    flist = [TICList.index(zero_or_one_exoplanets[x]) for x in range(len(zero_or_one_exoplanets))]\n",
    "    print(\"FList has {} entries\".format(len(flist)))\n",
    "    \n",
    "    # 'flist' now contains a list of file indices of the FITS files that contain Zero or One exoplanet.\n",
    "    \n",
    "    np.save(fname,flist)"
   ]
  },
  {
   "cell_type": "code",
   "execution_count": 4,
   "id": "stone-singapore",
   "metadata": {
    "tags": []
   },
   "outputs": [],
   "source": [
    "################################\n",
    "# main\n",
    "################################\n",
    "\n",
    "def main():\n",
    "    \n",
    "    # Making sure we have only one cmd line parameter and it is the fluxlist that we want\n",
    "    try:\n",
    "        #print(sys.argv)\n",
    "        fname = sys.argv[1]\n",
    "        fluxarr = np.load(fname)\n",
    "    except FileNotFoundError:\n",
    "        print(\"This File Does Not Exist\")\n",
    "        #break\n",
    "    except IndexError:\n",
    "        print(\"Please add exactly one numpy file to the command line!\")\n",
    "        #break\n",
    "    except:\n",
    "        print(\"General Error\")\n",
    "        #break\n",
    "    print(\"Done!\")\n",
    "    \n",
    "    #####################\n",
    "    \n",
    "    npFileName = \"ZeroOrOneExoplanetTICids.npy\"\n",
    "    try:\n",
    "        ZeroOrOneTICList = np.load(npFileName)\n",
    "    except FileNotFoundError:\n",
    "        print(\"This File Does Not Exist; Making it now!\")\n",
    "        GetTICListOfOnlyZeroOrOneExoplanets(npFileName)\n",
    "    print(\"File '{}' loaded\".format(npFileName))\n",
    "    \n",
    "    #####################\n",
    "\n",
    "    #foldedFluxes = np.empty(ZeroOrOneTICList)\n",
    "    #for i in range(len(foldedFluxes))\n",
    "    \n",
    "    \n",
    "    C = 0\n",
    "    L = len(ZeroOrOneTICList)\n",
    "    \n",
    "    \n",
    "    # TESTING PURPOSES\n",
    "    ZeroOrOneTICList = ZeroOrOneTICList[:3]\n",
    "    \n",
    "    \n",
    "    foldedFluxes = np.array([MakeTimeSeries(L,x) for x in ZeroOrOneTICList])\n",
    "    #print(\"Length of foldedFlux[0] is {}\".format(len(foldedFluxes[0])))\n",
    "    #print(\"fFlux[0]:\\n{}\".format(foldedFluxes[0]))\n",
    "    #np.save(\"ZeroOrOneFoldedFluxes.npy\",foldedFluxes)\n",
    "    #print(\"YAY\")\n",
    "    return foldedFluxes"
   ]
  },
  {
   "cell_type": "code",
   "execution_count": 5,
   "id": "matched-brand",
   "metadata": {
    "tags": []
   },
   "outputs": [],
   "source": [
    "foldedFluxes = np.load(\"ZeroOrOneFoldedFluxes.npy\") #, allow_pickle=True)\n",
    "#np.save(\"ZeroOrOneFoldedFluxesPREFOLD.npy\",foldedFluxes)"
   ]
  },
  {
   "cell_type": "code",
   "execution_count": 5,
   "id": "adult-guyana",
   "metadata": {
    "collapsed": true,
    "jupyter": {
     "outputs_hidden": true
    },
    "tags": []
   },
   "outputs": [
    {
     "data": {
      "text/plain": [
       "array([[0.99261886, 0.99601656, 0.9981048 , ..., 1.0008711 , 1.0002829 ,\n",
       "        0.9980786 ],\n",
       "       [0.99275607, 0.9947057 , 0.99220985, ..., 0.99424696, 0.9969075 ,\n",
       "        0.99439085],\n",
       "       [0.99182147, 0.99367297, 0.9923835 , ..., 0.9948798 , 0.9958051 ,\n",
       "        0.99556094],\n",
       "       ...,\n",
       "       [0.9890697 , 0.9769344 , 0.97957677, ..., 1.0160047 , 0.97483426,\n",
       "        1.0031875 ],\n",
       "       [1.0644528 , 1.065649  , 1.0678988 , ..., 0.9803245 , 0.9800736 ,\n",
       "        0.9799673 ],\n",
       "       [1.0329845 , 0.98421675, 0.82539517, ..., 0.97136945, 0.9921893 ,\n",
       "        1.0005776 ]], dtype=float32)"
      ]
     },
     "execution_count": 5,
     "metadata": {},
     "output_type": "execute_result"
    }
   ],
   "source": [
    "foldedFluxes"
   ]
  },
  {
   "cell_type": "code",
   "execution_count": 6,
   "id": "pending-philadelphia",
   "metadata": {
    "tags": []
   },
   "outputs": [
    {
     "name": "stdout",
     "output_type": "stream",
     "text": [
      "NaN detected at entry 308 and datapoint [[3908]]\n",
      "NaN detected at entry 972 and datapoint [[3908]]\n",
      "NaN detected at entry 2444 and datapoint [[3908]]\n",
      "NaN detected at entry 7250 and datapoint [[3908]]\n"
     ]
    }
   ],
   "source": [
    "nanlist=[]\n",
    "for i in range(len(foldedFluxes)):\n",
    "    if np.isnan(np.sum(foldedFluxes[i])):\n",
    "        #print(np.argwhere(np.isnan(foldedFluxes[i])))\n",
    "        print(\"NaN detected at entry {} and datapoint {}\".format(i,np.argwhere(np.isnan(foldedFluxes[i]))))\n",
    "        nanlist.append(i)\n",
    "    #array_sum = np.sum(foldedFluxes[9152])\n",
    "    #print(np.isnan(array_sum))"
   ]
  },
  {
   "cell_type": "code",
   "execution_count": 7,
   "id": "described-retention",
   "metadata": {
    "tags": []
   },
   "outputs": [
    {
     "data": {
      "text/plain": [
       "[308, 972, 2444, 7250]"
      ]
     },
     "execution_count": 7,
     "metadata": {},
     "output_type": "execute_result"
    }
   ],
   "source": [
    "nanlist"
   ]
  },
  {
   "cell_type": "code",
   "execution_count": 8,
   "id": "meaningful-somalia",
   "metadata": {
    "tags": []
   },
   "outputs": [
    {
     "data": {
      "text/plain": [
       "array([1.0067822, 1.0001757, 1.005702 , 1.0013194, 1.0071235, 1.0034333,\n",
       "       1.0043252, 1.0036362,       nan, 1.0021263], dtype=float32)"
      ]
     },
     "execution_count": 8,
     "metadata": {},
     "output_type": "execute_result"
    }
   ],
   "source": [
    "foldedFluxes[nanlist[0]][3900:3910]"
   ]
  },
  {
   "cell_type": "code",
   "execution_count": 9,
   "id": "touched-territory",
   "metadata": {
    "tags": []
   },
   "outputs": [
    {
     "name": "stdout",
     "output_type": "stream",
     "text": [
      "1.0028813\n",
      "1.0007634\n",
      "1.0002681\n",
      "1.0017579\n"
     ]
    }
   ],
   "source": [
    "nanNum = 3908\n",
    "for i in nanlist:\n",
    "    dif = np.nanmean(foldedFluxes[i][nanNum-1:nanNum+2])\n",
    "    foldedFluxes[i][nanNum] = dif\n",
    "    \n",
    "    print(dif)"
   ]
  },
  {
   "cell_type": "code",
   "execution_count": 10,
   "id": "featured-curve",
   "metadata": {
    "tags": []
   },
   "outputs": [
    {
     "ename": "FileNotFoundError",
     "evalue": "[Errno 2] No such file or directory: 'ZeroOrOneFoldedFluxes_TEST.npy'",
     "output_type": "error",
     "traceback": [
      "\u001b[0;31m---------------------------------------------------------------------------\u001b[0m",
      "\u001b[0;31mFileNotFoundError\u001b[0m                         Traceback (most recent call last)",
      "\u001b[0;32m/tmp/ipykernel_115329/2614892265.py\u001b[0m in \u001b[0;36m<module>\u001b[0;34m\u001b[0m\n\u001b[0;32m----> 1\u001b[0;31m \u001b[0mTEST\u001b[0m \u001b[0;34m=\u001b[0m \u001b[0mnp\u001b[0m\u001b[0;34m.\u001b[0m\u001b[0mload\u001b[0m\u001b[0;34m(\u001b[0m\u001b[0;34m\"ZeroOrOneFoldedFluxes_TEST.npy\"\u001b[0m\u001b[0;34m,\u001b[0m\u001b[0mallow_pickle\u001b[0m\u001b[0;34m=\u001b[0m\u001b[0;32mTrue\u001b[0m\u001b[0;34m)\u001b[0m\u001b[0;34m\u001b[0m\u001b[0;34m\u001b[0m\u001b[0m\n\u001b[0m",
      "\u001b[0;32m~/anaconda3/lib/python3.8/site-packages/numpy/lib/npyio.py\u001b[0m in \u001b[0;36mload\u001b[0;34m(file, mmap_mode, allow_pickle, fix_imports, encoding)\u001b[0m\n\u001b[1;32m    415\u001b[0m             \u001b[0mown_fid\u001b[0m \u001b[0;34m=\u001b[0m \u001b[0;32mFalse\u001b[0m\u001b[0;34m\u001b[0m\u001b[0;34m\u001b[0m\u001b[0m\n\u001b[1;32m    416\u001b[0m         \u001b[0;32melse\u001b[0m\u001b[0;34m:\u001b[0m\u001b[0;34m\u001b[0m\u001b[0;34m\u001b[0m\u001b[0m\n\u001b[0;32m--> 417\u001b[0;31m             \u001b[0mfid\u001b[0m \u001b[0;34m=\u001b[0m \u001b[0mstack\u001b[0m\u001b[0;34m.\u001b[0m\u001b[0menter_context\u001b[0m\u001b[0;34m(\u001b[0m\u001b[0mopen\u001b[0m\u001b[0;34m(\u001b[0m\u001b[0mos_fspath\u001b[0m\u001b[0;34m(\u001b[0m\u001b[0mfile\u001b[0m\u001b[0;34m)\u001b[0m\u001b[0;34m,\u001b[0m \u001b[0;34m\"rb\"\u001b[0m\u001b[0;34m)\u001b[0m\u001b[0;34m)\u001b[0m\u001b[0;34m\u001b[0m\u001b[0;34m\u001b[0m\u001b[0m\n\u001b[0m\u001b[1;32m    418\u001b[0m             \u001b[0mown_fid\u001b[0m \u001b[0;34m=\u001b[0m \u001b[0;32mTrue\u001b[0m\u001b[0;34m\u001b[0m\u001b[0;34m\u001b[0m\u001b[0m\n\u001b[1;32m    419\u001b[0m \u001b[0;34m\u001b[0m\u001b[0m\n",
      "\u001b[0;31mFileNotFoundError\u001b[0m: [Errno 2] No such file or directory: 'ZeroOrOneFoldedFluxes_TEST.npy'"
     ]
    }
   ],
   "source": [
    "TEST = np.load(\"ZeroOrOneFoldedFluxes_TEST.npy\",allow_pickle=True)"
   ]
  },
  {
   "cell_type": "code",
   "execution_count": 25,
   "id": "allied-mandate",
   "metadata": {},
   "outputs": [
    {
     "ename": "NameError",
     "evalue": "name 'TEST' is not defined",
     "output_type": "error",
     "traceback": [
      "\u001b[0;31m---------------------------------------------------------------------------\u001b[0m",
      "\u001b[0;31mNameError\u001b[0m                                 Traceback (most recent call last)",
      "\u001b[0;32m/tmp/ipykernel_115329/3659916465.py\u001b[0m in \u001b[0;36m<module>\u001b[0;34m\u001b[0m\n\u001b[1;32m      1\u001b[0m \u001b[0mcolList\u001b[0m \u001b[0;34m=\u001b[0m \u001b[0;34m[\u001b[0m\u001b[0;34m'time'\u001b[0m\u001b[0;34m,\u001b[0m\u001b[0;34m'timecorr'\u001b[0m\u001b[0;34m,\u001b[0m\u001b[0;34m'cadenceno'\u001b[0m\u001b[0;34m,\u001b[0m\u001b[0;34m'sap_flux'\u001b[0m\u001b[0;34m,\u001b[0m\u001b[0;34m'sap_flux_err'\u001b[0m\u001b[0;34m,\u001b[0m\u001b[0;34m'sap_bkg'\u001b[0m\u001b[0;34m,\u001b[0m\u001b[0;34m'sap_bkg_err'\u001b[0m\u001b[0;34m,\u001b[0m\u001b[0;34m'pdcsap_flux'\u001b[0m\u001b[0;34m,\u001b[0m\u001b[0;34m'pdcsap_flux_err'\u001b[0m\u001b[0;34m,\u001b[0m\u001b[0;34m'quality'\u001b[0m\u001b[0;34m,\u001b[0m\u001b[0;34m'psf_centr1'\u001b[0m\u001b[0;34m,\u001b[0m\u001b[0;34m'psf_centr1_err'\u001b[0m\u001b[0;34m,\u001b[0m\u001b[0;34m'psf_centr2'\u001b[0m\u001b[0;34m,\u001b[0m\u001b[0;34m'psf_centr2_err'\u001b[0m\u001b[0;34m,\u001b[0m\u001b[0;34m'mom_centr1'\u001b[0m\u001b[0;34m,\u001b[0m\u001b[0;34m'mom_centr1_err'\u001b[0m\u001b[0;34m,\u001b[0m\u001b[0;34m'mom_centr2'\u001b[0m\u001b[0;34m,\u001b[0m\u001b[0;34m'mom_centr2_err'\u001b[0m\u001b[0;34m,\u001b[0m\u001b[0;34m'pos_corr1'\u001b[0m\u001b[0;34m,\u001b[0m\u001b[0;34m'pos_corr2'\u001b[0m\u001b[0;34m,\u001b[0m\u001b[0;34m'sap_flux_norm'\u001b[0m\u001b[0;34m]\u001b[0m\u001b[0;34m\u001b[0m\u001b[0;34m\u001b[0m\u001b[0m\n\u001b[0;32m----> 2\u001b[0;31m \u001b[0mTEST\u001b[0m\u001b[0;34m\u001b[0m\u001b[0;34m\u001b[0m\u001b[0m\n\u001b[0m",
      "\u001b[0;31mNameError\u001b[0m: name 'TEST' is not defined"
     ]
    }
   ],
   "source": [
    "colList = ['time','timecorr','cadenceno','sap_flux','sap_flux_err','sap_bkg','sap_bkg_err','pdcsap_flux','pdcsap_flux_err','quality','psf_centr1','psf_centr1_err','psf_centr2','psf_centr2_err','mom_centr1','mom_centr1_err','mom_centr2','mom_centr2_err','pos_corr1','pos_corr2','sap_flux_norm']\n",
    "TEST"
   ]
  },
  {
   "cell_type": "code",
   "execution_count": 26,
   "id": "naval-essence",
   "metadata": {},
   "outputs": [
    {
     "ename": "NameError",
     "evalue": "name 'arrO' is not defined",
     "output_type": "error",
     "traceback": [
      "\u001b[0;31m---------------------------------------------------------------------------\u001b[0m",
      "\u001b[0;31mNameError\u001b[0m                                 Traceback (most recent call last)",
      "\u001b[0;32m/tmp/ipykernel_115329/1546827424.py\u001b[0m in \u001b[0;36m<module>\u001b[0;34m\u001b[0m\n\u001b[0;32m----> 1\u001b[0;31m \u001b[0mdf\u001b[0m \u001b[0;34m=\u001b[0m \u001b[0mpd\u001b[0m\u001b[0;34m.\u001b[0m\u001b[0mDataFrame\u001b[0m\u001b[0;34m(\u001b[0m\u001b[0marrO\u001b[0m\u001b[0;34m,\u001b[0m \u001b[0mcolumns\u001b[0m\u001b[0;34m=\u001b[0m\u001b[0mcolList\u001b[0m\u001b[0;34m,\u001b[0m \u001b[0mindex\u001b[0m\u001b[0;34m=\u001b[0m\u001b[0;34m[\u001b[0m\u001b[0;34m'time'\u001b[0m\u001b[0;34m]\u001b[0m\u001b[0;34m)\u001b[0m\u001b[0;34m\u001b[0m\u001b[0;34m\u001b[0m\u001b[0m\n\u001b[0m",
      "\u001b[0;31mNameError\u001b[0m: name 'arrO' is not defined"
     ]
    }
   ],
   "source": [
    "df = pd.DataFrame(arrO, columns=colList, index=['time'])"
   ]
  },
  {
   "cell_type": "code",
   "execution_count": 24,
   "id": "olympic-transmission",
   "metadata": {},
   "outputs": [],
   "source": [
    "a = np.array([1, 4, 5], dtype=np.int32)\n",
    "b = [2.0, 5.0, 8.5]\n",
    "c = ['x', 'y', 'z']\n",
    "d = [10, 20, 30] * u.m / u.s"
   ]
  },
  {
   "cell_type": "code",
   "execution_count": 27,
   "id": "prescription-reduction",
   "metadata": {},
   "outputs": [],
   "source": [
    "t = QTable([a, b, c, d],\n",
    "           names=('a', 'b', 'c', 'd'),\n",
    "           meta={'name': 'first table'})"
   ]
  },
  {
   "cell_type": "code",
   "execution_count": 28,
   "id": "limiting-interval",
   "metadata": {},
   "outputs": [
    {
     "data": {
      "text/html": [
       "<i>QTable length=3</i>\n",
       "<table id=\"table140399284015312\" class=\"table-striped table-bordered table-condensed\">\n",
       "<thead><tr><th>a</th><th>b</th><th>c</th><th>d</th></tr></thead>\n",
       "<thead><tr><th></th><th></th><th></th><th>m / s</th></tr></thead>\n",
       "<thead><tr><th>int32</th><th>float64</th><th>str1</th><th>float64</th></tr></thead>\n",
       "<tr><td>1</td><td>2.0</td><td>x</td><td>10.0</td></tr>\n",
       "<tr><td>4</td><td>5.0</td><td>y</td><td>20.0</td></tr>\n",
       "<tr><td>5</td><td>8.5</td><td>z</td><td>30.0</td></tr>\n",
       "</table>"
      ],
      "text/plain": [
       "<QTable length=3>\n",
       "  a      b     c      d   \n",
       "                    m / s \n",
       "int32 float64 str1 float64\n",
       "----- ------- ---- -------\n",
       "    1     2.0    x    10.0\n",
       "    4     5.0    y    20.0\n",
       "    5     8.5    z    30.0"
      ]
     },
     "execution_count": 28,
     "metadata": {},
     "output_type": "execute_result"
    }
   ],
   "source": [
    "t"
   ]
  },
  {
   "cell_type": "code",
   "execution_count": 63,
   "id": "statistical-pride",
   "metadata": {},
   "outputs": [],
   "source": [
    "df = pd.DataFrame({'name': ['Raphael', 'Donatello'],\n",
    "                   'mask': ['red', 'purple'],\n",
    "                   'weapon': ['sai', 'bo staff']})"
   ]
  },
  {
   "cell_type": "code",
   "execution_count": 70,
   "id": "tracked-organization",
   "metadata": {},
   "outputs": [],
   "source": [
    "df.to_csv(path_or_buf=\"TST_CSV.csv\", index=False, index_label='name')"
   ]
  },
  {
   "cell_type": "code",
   "execution_count": 71,
   "id": "featured-munich",
   "metadata": {},
   "outputs": [],
   "source": [
    "QQQ = pd.read_csv(\"TST_CSV.csv\")"
   ]
  },
  {
   "cell_type": "code",
   "execution_count": 72,
   "id": "fancy-syndrome",
   "metadata": {},
   "outputs": [
    {
     "data": {
      "text/html": [
       "<div>\n",
       "<style scoped>\n",
       "    .dataframe tbody tr th:only-of-type {\n",
       "        vertical-align: middle;\n",
       "    }\n",
       "\n",
       "    .dataframe tbody tr th {\n",
       "        vertical-align: top;\n",
       "    }\n",
       "\n",
       "    .dataframe thead th {\n",
       "        text-align: right;\n",
       "    }\n",
       "</style>\n",
       "<table border=\"1\" class=\"dataframe\">\n",
       "  <thead>\n",
       "    <tr style=\"text-align: right;\">\n",
       "      <th></th>\n",
       "      <th>name</th>\n",
       "      <th>mask</th>\n",
       "      <th>weapon</th>\n",
       "    </tr>\n",
       "  </thead>\n",
       "  <tbody>\n",
       "    <tr>\n",
       "      <th>0</th>\n",
       "      <td>Raphael</td>\n",
       "      <td>red</td>\n",
       "      <td>sai</td>\n",
       "    </tr>\n",
       "    <tr>\n",
       "      <th>1</th>\n",
       "      <td>Donatello</td>\n",
       "      <td>purple</td>\n",
       "      <td>bo staff</td>\n",
       "    </tr>\n",
       "  </tbody>\n",
       "</table>\n",
       "</div>"
      ],
      "text/plain": [
       "        name    mask    weapon\n",
       "0    Raphael     red       sai\n",
       "1  Donatello  purple  bo staff"
      ]
     },
     "execution_count": 72,
     "metadata": {},
     "output_type": "execute_result"
    }
   ],
   "source": [
    "QQQ"
   ]
  },
  {
   "cell_type": "code",
   "execution_count": 38,
   "id": "legislative-benefit",
   "metadata": {},
   "outputs": [],
   "source": [
    "t2 = Table.from_pandas(QQQ)"
   ]
  },
  {
   "cell_type": "code",
   "execution_count": 39,
   "id": "derived-playback",
   "metadata": {},
   "outputs": [
    {
     "data": {
      "text/html": [
       "<i>Table length=2</i>\n",
       "<table id=\"table140399277314880\" class=\"table-striped table-bordered table-condensed\">\n",
       "<thead><tr><th>name</th><th>mask</th><th>weapon</th></tr></thead>\n",
       "<thead><tr><th>str9</th><th>str6</th><th>str8</th></tr></thead>\n",
       "<tr><td>Raphael</td><td>red</td><td>sai</td></tr>\n",
       "<tr><td>Donatello</td><td>purple</td><td>bo staff</td></tr>\n",
       "</table>"
      ],
      "text/plain": [
       "<Table length=2>\n",
       "   name    mask   weapon \n",
       "   str9    str6    str8  \n",
       "--------- ------ --------\n",
       "  Raphael    red      sai\n",
       "Donatello purple bo staff"
      ]
     },
     "execution_count": 39,
     "metadata": {},
     "output_type": "execute_result"
    }
   ],
   "source": [
    "t2"
   ]
  },
  {
   "cell_type": "code",
   "execution_count": null,
   "id": "baking-petersburg",
   "metadata": {},
   "outputs": [],
   "source": []
  },
  {
   "cell_type": "code",
   "execution_count": null,
   "id": "brilliant-electricity",
   "metadata": {},
   "outputs": [],
   "source": []
  },
  {
   "cell_type": "code",
   "execution_count": null,
   "id": "sealed-elite",
   "metadata": {},
   "outputs": [],
   "source": []
  },
  {
   "cell_type": "code",
   "execution_count": null,
   "id": "enclosed-lloyd",
   "metadata": {},
   "outputs": [],
   "source": []
  },
  {
   "cell_type": "code",
   "execution_count": 13,
   "id": "committed-abuse",
   "metadata": {},
   "outputs": [],
   "source": [
    "def MakeFolded(L, f, binSize=0.2, timedBinSize=0.03):\n",
    "    \n",
    "    global C\n",
    "    C = C+1\n",
    "    print(\"Processing File {} of {}...\".format(C,L))\n",
    "    \n",
    "    ts = TimeSeries.read(fitsarr[int(f)], format='tess.fits')\n",
    "    periodogram = BoxLeastSquares.from_timeseries(ts, 'sap_flux')\n",
    "    results = periodogram.autopower(binSize * u.day)  \n",
    "    best = np.argmax(results.power)  \n",
    "    period = results.period[best]\n",
    "    transit_time = results.transit_time[best]\n",
    "    ts_folded = ts.fold(period=period, epoch_time=transit_time)\n",
    "    # Delete unnecessary vars\n",
    "    del ts, periodogram, period, results, best, transit_time\n",
    "    \n",
    "    #return(ts_folded['sap_flux_norm'].value)\n",
    "    return(ts_folded)\n",
    "\n",
    "def MakeTimeSeries(L, f, binSize=0.2, timedBinSize=0.03):\n",
    "    \n",
    "    ts_folded = MakeFolded(L, f, binSize=0.2, timedBinSize=0.03)\n",
    "    \n",
    "    mean, median, stddev = sigma_clipped_stats(ts_folded['sap_flux'])\n",
    "    ts_folded['sap_flux_norm'] = ts_folded['sap_flux'] / median\n",
    "    ts_binned = aggregate_downsample(ts_folded, time_bin_size=timedBinSize * u.day)\n",
    "    \n",
    "    # Delete unnecessary vars\n",
    "    del mean, median, stddev, ts_folded\n",
    "    \n",
    "    #return(ts_folded['sap_flux_norm'].value)\n",
    "    return(ts_binned)"
   ]
  },
  {
   "cell_type": "code",
   "execution_count": 12,
   "id": "existing-legislation",
   "metadata": {},
   "outputs": [],
   "source": [
    "Z = np.load(\"ZeroOrOneExoplanetTICids.npy\")"
   ]
  },
  {
   "cell_type": "code",
   "execution_count": 14,
   "id": "frozen-seminar",
   "metadata": {},
   "outputs": [],
   "source": [
    "chunkSize = 10\n",
    "Zchunks = [Z[x:x+chunkSize] for x in range(0, len(Z), chunkSize)]\n",
    "#Zchunks"
   ]
  },
  {
   "cell_type": "code",
   "execution_count": 15,
   "id": "billion-affect",
   "metadata": {},
   "outputs": [
    {
     "name": "stdout",
     "output_type": "stream",
     "text": [
      "Processing File 1 of 9154...\n",
      "Processing File 2 of 9154...\n",
      "Processing File 3 of 9154...\n",
      "Processing File 4 of 9154...\n",
      "Processing File 5 of 9154...\n",
      "Processing File 6 of 9154...\n",
      "Processing File 7 of 9154...\n",
      "Processing File 8 of 9154...\n",
      "Processing File 9 of 9154...\n",
      "Processing File 10 of 9154...\n",
      "### Converting to Dataframe! ###\n"
     ]
    }
   ],
   "source": [
    "L = [MakeFolded(len(Z),X) for X in Zchunks[0]]\n",
    "print(\"### Converting to Dataframe! ###\")"
   ]
  },
  {
   "cell_type": "code",
   "execution_count": 16,
   "id": "marine-consultancy",
   "metadata": {},
   "outputs": [
    {
     "data": {
      "text/plain": [
       "[<matplotlib.lines.Line2D at 0x7f3e5c8fb8b0>]"
      ]
     },
     "execution_count": 16,
     "metadata": {},
     "output_type": "execute_result"
    },
    {
     "data": {
      "image/png": "[encoded data removed]",
      "text/plain": [
       "<Figure size 576x288 with 1 Axes>"
      ]
     },
     "metadata": {},
     "output_type": "display_data"
    }
   ],
   "source": [
    "plt.plot(L[0]['sap_flux'])"
   ]
  },
  {
   "cell_type": "code",
   "execution_count": 17,
   "id": "circular-thailand",
   "metadata": {},
   "outputs": [
    {
     "data": {
      "text/html": [
       "<div><i>TimeSeries length=20081</i>\n",
       "<table id=\"table139906561181584\" class=\"table-striped table-bordered table-condensed\">\n",
       "<thead><tr><th>time</th><th>timecorr</th><th>cadenceno</th><th>sap_flux</th><th>sap_flux_err</th><th>sap_bkg</th><th>sap_bkg_err</th><th>pdcsap_flux</th><th>pdcsap_flux_err</th><th>quality</th><th>psf_centr1</th><th>psf_centr1_err</th><th>psf_centr2</th><th>psf_centr2_err</th><th>mom_centr1</th><th>mom_centr1_err</th><th>mom_centr2</th><th>mom_centr2_err</th><th>pos_corr1</th><th>pos_corr2</th></tr></thead>\n",
       "<thead><tr><th></th><th>d</th><th></th><th>electron / s</th><th>electron / s</th><th>electron / s</th><th>electron / s</th><th>electron / s</th><th>electron / s</th><th></th><th>pix</th><th>pix</th><th>pix</th><th>pix</th><th>pix</th><th>pix</th><th>pix</th><th>pix</th><th>pix</th><th>pix</th></tr></thead>\n",
       "<thead><tr><th>object</th><th>float32</th><th>int32</th><th>float32</th><th>float32</th><th>float32</th><th>float32</th><th>float32</th><th>float32</th><th>int32</th><th>float64</th><th>float32</th><th>float64</th><th>float32</th><th>float64</th><th>float32</th><th>float64</th><th>float32</th><th>float32</th><th>float32</th></tr></thead>\n",
       "<tr><td>0.04517404901672206</td><td>5.2809059e-03</td><td>1091</td><td>1.1001307e+05</td><td>3.2275578e+01</td><td>4.0405876e+03</td><td>4.8348794e+00</td><td>0.0000000e+00</td><td>0.0000000e+00</td><td>1000</td><td>nan</td><td>nan</td><td>nan</td><td>nan</td><td>1029.88398</td><td>2.1809449e-04</td><td>1008.83361</td><td>2.2562544e-04</td><td>nan</td><td>nan</td></tr>\n",
       "<tr><td>0.046562916485171524</td><td>5.2808844e-03</td><td>1092</td><td>1.1038964e+05</td><td>3.2322845e+01</td><td>4.0298765e+03</td><td>4.8227181e+00</td><td>1.1679643e+05</td><td>3.6730911e+01</td><td>10000000000</td><td>nan</td><td>nan</td><td>nan</td><td>nan</td><td>1029.91966</td><td>2.1312594e-04</td><td>1008.83197</td><td>2.2573731e-04</td><td>8.4771983e-02</td><td>-5.6619313e-02</td></tr>\n",
       "<tr><td>0.047951783953620986</td><td>5.2808630e-03</td><td>1093</td><td>1.1062109e+05</td><td>3.2359745e+01</td><td>4.0317603e+03</td><td>4.8324327e+00</td><td>1.1720580e+05</td><td>3.6772842e+01</td><td>0</td><td>nan</td><td>nan</td><td>nan</td><td>nan</td><td>1029.90206</td><td>2.1424357e-04</td><td>1008.80879</td><td>2.2678117e-04</td><td>6.2888488e-02</td><td>-8.5854538e-02</td></tr>\n",
       "<tr><td>0.04934065142207045</td><td>5.2808416e-03</td><td>1094</td><td>1.0993336e+05</td><td>3.2270397e+01</td><td>4.0742517e+03</td><td>4.8466444e+00</td><td>1.1668638e+05</td><td>3.6671310e+01</td><td>0</td><td>nan</td><td>nan</td><td>nan</td><td>nan</td><td>1029.89821</td><td>2.1688615e-04</td><td>1008.84236</td><td>2.2707430e-04</td><td>6.1745681e-02</td><td>-4.4943392e-02</td></tr>\n",
       "<tr><td>0.05072951889051991</td><td>5.2808202e-03</td><td>1095</td><td>1.1022224e+05</td><td>3.2299232e+01</td><td>4.0130669e+03</td><td>4.8152390e+00</td><td>1.1694662e+05</td><td>3.6704082e+01</td><td>0</td><td>nan</td><td>nan</td><td>nan</td><td>nan</td><td>1029.94696</td><td>2.1266939e-04</td><td>1008.82306</td><td>2.2593014e-04</td><td>1.1984909e-01</td><td>-6.5892421e-02</td></tr>\n",
       "<tr><td>0.05211838635896937</td><td>5.2807988e-03</td><td>1096</td><td>1.1022213e+05</td><td>3.2303185e+01</td><td>4.0410913e+03</td><td>4.8295302e+00</td><td>1.1681645e+05</td><td>3.6708569e+01</td><td>10000000000</td><td>nan</td><td>nan</td><td>nan</td><td>nan</td><td>1029.90242</td><td>2.1566286e-04</td><td>1008.84036</td><td>2.2583459e-04</td><td>6.9559462e-02</td><td>-4.7780402e-02</td></tr>\n",
       "<tr><td>...</td><td>...</td><td>...</td><td>...</td><td>...</td><td>...</td><td>...</td><td>...</td><td>...</td><td>...</td><td>...</td><td>...</td><td>...</td><td>...</td><td>...</td><td>...</td><td>...</td><td>...</td><td>...</td><td>...</td></tr>\n",
       "<tr><td>-2.8709631074961983</td><td>4.3881186e-03</td><td>21424</td><td>1.1027464e+05</td><td>3.2259743e+01</td><td>3.8435598e+03</td><td>4.7210698e+00</td><td>1.1701558e+05</td><td>3.6659203e+01</td><td>0</td><td>nan</td><td>nan</td><td>nan</td><td>nan</td><td>1029.90590</td><td>2.1593980e-04</td><td>1008.92402</td><td>2.2460571e-04</td><td>6.7923486e-02</td><td>5.2096080e-02</td></tr>\n",
       "<tr><td>-2.869574292647473</td><td>4.3880446e-03</td><td>21425</td><td>1.1060450e+05</td><td>3.2313179e+01</td><td>3.8717290e+03</td><td>4.7417135e+00</td><td>1.1686878e+05</td><td>3.6719925e+01</td><td>0</td><td>nan</td><td>nan</td><td>nan</td><td>nan</td><td>1029.84895</td><td>2.1600690e-04</td><td>1008.93689</td><td>2.2494256e-04</td><td>-7.1740951e-03</td><td>6.0784180e-02</td></tr>\n",
       "<tr><td>-2.86818547733286</td><td>4.3879710e-03</td><td>21426</td><td>1.1058127e+05</td><td>3.2296600e+01</td><td>3.8335962e+03</td><td>4.7191434e+00</td><td>1.1671928e+05</td><td>3.6701084e+01</td><td>0</td><td>nan</td><td>nan</td><td>nan</td><td>nan</td><td>1029.91406</td><td>2.1101044e-04</td><td>1008.94014</td><td>2.2438234e-04</td><td>7.5947016e-02</td><td>7.0437834e-02</td></tr>\n",
       "<tr><td>-2.8667966624841372</td><td>4.3878970e-03</td><td>21427</td><td>1.1027186e+05</td><td>3.2260452e+01</td><td>3.8522581e+03</td><td>4.7304873e+00</td><td>1.1651334e+05</td><td>3.6660007e+01</td><td>0</td><td>nan</td><td>nan</td><td>nan</td><td>nan</td><td>1029.87137</td><td>2.1540451e-04</td><td>1008.95470</td><td>2.2401822e-04</td><td>2.4664152e-02</td><td>8.8763542e-02</td></tr>\n",
       "<tr><td>-2.865407847635412</td><td>4.3878229e-03</td><td>21428</td><td>1.1092768e+05</td><td>3.2349358e+01</td><td>3.8362000e+03</td><td>4.7236381e+00</td><td>1.1685882e+05</td><td>3.6761040e+01</td><td>10000000000</td><td>nan</td><td>nan</td><td>nan</td><td>nan</td><td>1029.85515</td><td>2.1359806e-04</td><td>1008.93718</td><td>2.2441072e-04</td><td>-2.0010868e-04</td><td>6.2248971e-02</td></tr>\n",
       "<tr><td>-2.8640190327866892</td><td>4.3877489e-03</td><td>21429</td><td>1.1086248e+05</td><td>3.2339245e+01</td><td>3.8395220e+03</td><td>4.7228317e+00</td><td>1.1674295e+05</td><td>3.6749546e+01</td><td>0</td><td>nan</td><td>nan</td><td>nan</td><td>nan</td><td>1029.88372</td><td>2.1225237e-04</td><td>1008.93385</td><td>2.2355109e-04</td><td>3.6460496e-02</td><td>6.1412703e-02</td></tr>\n",
       "<tr><td>-2.862630217937964</td><td>4.3876749e-03</td><td>21430</td><td>1.1061818e+05</td><td>3.2316528e+01</td><td>3.8945972e+03</td><td>4.7502851e+00</td><td>0.0000000e+00</td><td>0.0000000e+00</td><td>1000</td><td>nan</td><td>nan</td><td>nan</td><td>nan</td><td>1029.90842</td><td>2.1256215e-04</td><td>1008.93086</td><td>2.2429542e-04</td><td>nan</td><td>nan</td></tr>\n",
       "</table></div>"
      ],
      "text/plain": [
       "<TimeSeries length=20081>\n",
       "        time            timecorr    cadenceno     sap_flux     sap_flux_err  ... mom_centr2 mom_centr2_err   pos_corr1      pos_corr2   \n",
       "                           d                    electron / s   electron / s  ...    pix          pix            pix            pix      \n",
       "       object           float32       int32       float32        float32     ...  float64      float32        float32        float32    \n",
       "-------------------- -------------- ---------- -------------- -------------- ... ---------- -------------- -------------- --------------\n",
       " 0.04517404901672206  5.2809059e-03       1091  1.1001307e+05  3.2275578e+01 ... 1008.83361  2.2562544e-04            nan            nan\n",
       "0.046562916485171524  5.2808844e-03       1092  1.1038964e+05  3.2322845e+01 ... 1008.83197  2.2573731e-04  8.4771983e-02 -5.6619313e-02\n",
       "0.047951783953620986  5.2808630e-03       1093  1.1062109e+05  3.2359745e+01 ... 1008.80879  2.2678117e-04  6.2888488e-02 -8.5854538e-02\n",
       " 0.04934065142207045  5.2808416e-03       1094  1.0993336e+05  3.2270397e+01 ... 1008.84236  2.2707430e-04  6.1745681e-02 -4.4943392e-02\n",
       " 0.05072951889051991  5.2808202e-03       1095  1.1022224e+05  3.2299232e+01 ... 1008.82306  2.2593014e-04  1.1984909e-01 -6.5892421e-02\n",
       " 0.05211838635896937  5.2807988e-03       1096  1.1022213e+05  3.2303185e+01 ... 1008.84036  2.2583459e-04  6.9559462e-02 -4.7780402e-02\n",
       "                 ...            ...        ...            ...            ... ...        ...            ...            ...            ...\n",
       " -2.8709631074961983  4.3881186e-03      21424  1.1027464e+05  3.2259743e+01 ... 1008.92402  2.2460571e-04  6.7923486e-02  5.2096080e-02\n",
       "  -2.869574292647473  4.3880446e-03      21425  1.1060450e+05  3.2313179e+01 ... 1008.93689  2.2494256e-04 -7.1740951e-03  6.0784180e-02\n",
       "   -2.86818547733286  4.3879710e-03      21426  1.1058127e+05  3.2296600e+01 ... 1008.94014  2.2438234e-04  7.5947016e-02  7.0437834e-02\n",
       " -2.8667966624841372  4.3878970e-03      21427  1.1027186e+05  3.2260452e+01 ... 1008.95470  2.2401822e-04  2.4664152e-02  8.8763542e-02\n",
       "  -2.865407847635412  4.3878229e-03      21428  1.1092768e+05  3.2349358e+01 ... 1008.93718  2.2441072e-04 -2.0010868e-04  6.2248971e-02\n",
       " -2.8640190327866892  4.3877489e-03      21429  1.1086248e+05  3.2339245e+01 ... 1008.93385  2.2355109e-04  3.6460496e-02  6.1412703e-02\n",
       "  -2.862630217937964  4.3876749e-03      21430  1.1061818e+05  3.2316528e+01 ... 1008.93086  2.2429542e-04            nan            nan"
      ]
     },
     "execution_count": 17,
     "metadata": {},
     "output_type": "execute_result"
    }
   ],
   "source": [
    "L[0]"
   ]
  },
  {
   "cell_type": "code",
   "execution_count": 18,
   "id": "suburban-edwards",
   "metadata": {},
   "outputs": [
    {
     "name": "stdout",
     "output_type": "stream",
     "text": [
      "\n",
      "### Converting Done! ###\n"
     ]
    }
   ],
   "source": [
    "#LDF = [X.to_pandas().drop(dropcols, axis=1) for X in L]\n",
    "LDF = [X.to_pandas() for X in L]\n",
    "print(\"\\n### Converting Done! ###\")\n",
    "#del L"
   ]
  },
  {
   "cell_type": "code",
   "execution_count": 307,
   "id": "optical-communications",
   "metadata": {
    "tags": []
   },
   "outputs": [],
   "source": [
    "# 1) Make List                   foldedFluxes = [MakeTimeSeries(lenTIC,x) for x in ZeroOrOneTICList]\n",
    "# 2) Turn List to DataFrame      LDF = [X.to_pandas().drop(dropcols, axis=1) for X in L]\n",
    "# 3) Save DataFrame to file      LDF.to_csv(path_or_buf=\"TST_CSV.csv\", index=False)"
   ]
  },
  {
   "cell_type": "code",
   "execution_count": 19,
   "id": "magnetic-silence",
   "metadata": {
    "tags": []
   },
   "outputs": [
    {
     "data": {
      "text/html": [
       "<div>\n",
       "<style scoped>\n",
       "    .dataframe tbody tr th:only-of-type {\n",
       "        vertical-align: middle;\n",
       "    }\n",
       "\n",
       "    .dataframe tbody tr th {\n",
       "        vertical-align: top;\n",
       "    }\n",
       "\n",
       "    .dataframe thead th {\n",
       "        text-align: right;\n",
       "    }\n",
       "</style>\n",
       "<table border=\"1\" class=\"dataframe\">\n",
       "  <thead>\n",
       "    <tr style=\"text-align: right;\">\n",
       "      <th></th>\n",
       "      <th>timecorr</th>\n",
       "      <th>cadenceno</th>\n",
       "      <th>sap_flux</th>\n",
       "      <th>sap_flux_err</th>\n",
       "      <th>sap_bkg</th>\n",
       "      <th>sap_bkg_err</th>\n",
       "      <th>pdcsap_flux</th>\n",
       "      <th>pdcsap_flux_err</th>\n",
       "      <th>quality</th>\n",
       "      <th>psf_centr1</th>\n",
       "      <th>psf_centr1_err</th>\n",
       "      <th>psf_centr2</th>\n",
       "      <th>psf_centr2_err</th>\n",
       "      <th>mom_centr1</th>\n",
       "      <th>mom_centr1_err</th>\n",
       "      <th>mom_centr2</th>\n",
       "      <th>mom_centr2_err</th>\n",
       "      <th>pos_corr1</th>\n",
       "      <th>pos_corr2</th>\n",
       "    </tr>\n",
       "    <tr>\n",
       "      <th>time</th>\n",
       "      <th></th>\n",
       "      <th></th>\n",
       "      <th></th>\n",
       "      <th></th>\n",
       "      <th></th>\n",
       "      <th></th>\n",
       "      <th></th>\n",
       "      <th></th>\n",
       "      <th></th>\n",
       "      <th></th>\n",
       "      <th></th>\n",
       "      <th></th>\n",
       "      <th></th>\n",
       "      <th></th>\n",
       "      <th></th>\n",
       "      <th></th>\n",
       "      <th></th>\n",
       "      <th></th>\n",
       "      <th></th>\n",
       "    </tr>\n",
       "  </thead>\n",
       "  <tbody>\n",
       "    <tr>\n",
       "      <th>0 days 01:05:03.037835044</th>\n",
       "      <td>0.005281</td>\n",
       "      <td>1091</td>\n",
       "      <td>110013.070312</td>\n",
       "      <td>32.275578</td>\n",
       "      <td>4040.587646</td>\n",
       "      <td>4.834879</td>\n",
       "      <td>0.000000</td>\n",
       "      <td>0.000000</td>\n",
       "      <td>8</td>\n",
       "      <td>NaN</td>\n",
       "      <td>NaN</td>\n",
       "      <td>NaN</td>\n",
       "      <td>NaN</td>\n",
       "      <td>1029.883983</td>\n",
       "      <td>0.000218</td>\n",
       "      <td>1008.833614</td>\n",
       "      <td>0.000226</td>\n",
       "      <td>NaN</td>\n",
       "      <td>NaN</td>\n",
       "    </tr>\n",
       "    <tr>\n",
       "      <th>0 days 01:07:03.035984318</th>\n",
       "      <td>0.005281</td>\n",
       "      <td>1092</td>\n",
       "      <td>110389.640625</td>\n",
       "      <td>32.322845</td>\n",
       "      <td>4029.876465</td>\n",
       "      <td>4.822718</td>\n",
       "      <td>116796.429688</td>\n",
       "      <td>36.730911</td>\n",
       "      <td>1024</td>\n",
       "      <td>NaN</td>\n",
       "      <td>NaN</td>\n",
       "      <td>NaN</td>\n",
       "      <td>NaN</td>\n",
       "      <td>1029.919661</td>\n",
       "      <td>0.000213</td>\n",
       "      <td>1008.831970</td>\n",
       "      <td>0.000226</td>\n",
       "      <td>0.084772</td>\n",
       "      <td>-0.056619</td>\n",
       "    </tr>\n",
       "    <tr>\n",
       "      <th>0 days 01:09:03.034133592</th>\n",
       "      <td>0.005281</td>\n",
       "      <td>1093</td>\n",
       "      <td>110621.085938</td>\n",
       "      <td>32.359745</td>\n",
       "      <td>4031.760254</td>\n",
       "      <td>4.832433</td>\n",
       "      <td>117205.796875</td>\n",
       "      <td>36.772842</td>\n",
       "      <td>0</td>\n",
       "      <td>NaN</td>\n",
       "      <td>NaN</td>\n",
       "      <td>NaN</td>\n",
       "      <td>NaN</td>\n",
       "      <td>1029.902061</td>\n",
       "      <td>0.000214</td>\n",
       "      <td>1008.808789</td>\n",
       "      <td>0.000227</td>\n",
       "      <td>0.062888</td>\n",
       "      <td>-0.085855</td>\n",
       "    </tr>\n",
       "    <tr>\n",
       "      <th>0 days 01:11:03.032282866</th>\n",
       "      <td>0.005281</td>\n",
       "      <td>1094</td>\n",
       "      <td>109933.359375</td>\n",
       "      <td>32.270397</td>\n",
       "      <td>4074.251709</td>\n",
       "      <td>4.846644</td>\n",
       "      <td>116686.375000</td>\n",
       "      <td>36.671310</td>\n",
       "      <td>0</td>\n",
       "      <td>NaN</td>\n",
       "      <td>NaN</td>\n",
       "      <td>NaN</td>\n",
       "      <td>NaN</td>\n",
       "      <td>1029.898211</td>\n",
       "      <td>0.000217</td>\n",
       "      <td>1008.842360</td>\n",
       "      <td>0.000227</td>\n",
       "      <td>0.061746</td>\n",
       "      <td>-0.044943</td>\n",
       "    </tr>\n",
       "    <tr>\n",
       "      <th>0 days 01:13:03.030432140</th>\n",
       "      <td>0.005281</td>\n",
       "      <td>1095</td>\n",
       "      <td>110222.242188</td>\n",
       "      <td>32.299232</td>\n",
       "      <td>4013.066895</td>\n",
       "      <td>4.815239</td>\n",
       "      <td>116946.625000</td>\n",
       "      <td>36.704082</td>\n",
       "      <td>0</td>\n",
       "      <td>NaN</td>\n",
       "      <td>NaN</td>\n",
       "      <td>NaN</td>\n",
       "      <td>NaN</td>\n",
       "      <td>1029.946960</td>\n",
       "      <td>0.000213</td>\n",
       "      <td>1008.823060</td>\n",
       "      <td>0.000226</td>\n",
       "      <td>0.119849</td>\n",
       "      <td>-0.065892</td>\n",
       "    </tr>\n",
       "    <tr>\n",
       "      <th>...</th>\n",
       "      <td>...</td>\n",
       "      <td>...</td>\n",
       "      <td>...</td>\n",
       "      <td>...</td>\n",
       "      <td>...</td>\n",
       "      <td>...</td>\n",
       "      <td>...</td>\n",
       "      <td>...</td>\n",
       "      <td>...</td>\n",
       "      <td>...</td>\n",
       "      <td>...</td>\n",
       "      <td>...</td>\n",
       "      <td>...</td>\n",
       "      <td>...</td>\n",
       "      <td>...</td>\n",
       "      <td>...</td>\n",
       "      <td>...</td>\n",
       "      <td>...</td>\n",
       "      <td>...</td>\n",
       "    </tr>\n",
       "    <tr>\n",
       "      <th>-3 days +03:09:48.774758441</th>\n",
       "      <td>0.004388</td>\n",
       "      <td>21426</td>\n",
       "      <td>110581.265625</td>\n",
       "      <td>32.296600</td>\n",
       "      <td>3833.596191</td>\n",
       "      <td>4.719143</td>\n",
       "      <td>116719.281250</td>\n",
       "      <td>36.701084</td>\n",
       "      <td>0</td>\n",
       "      <td>NaN</td>\n",
       "      <td>NaN</td>\n",
       "      <td>NaN</td>\n",
       "      <td>NaN</td>\n",
       "      <td>1029.914059</td>\n",
       "      <td>0.000211</td>\n",
       "      <td>1008.940135</td>\n",
       "      <td>0.000224</td>\n",
       "      <td>0.075947</td>\n",
       "      <td>0.070438</td>\n",
       "    </tr>\n",
       "    <tr>\n",
       "      <th>-3 days +03:11:48.768361371</th>\n",
       "      <td>0.004388</td>\n",
       "      <td>21427</td>\n",
       "      <td>110271.859375</td>\n",
       "      <td>32.260452</td>\n",
       "      <td>3852.258057</td>\n",
       "      <td>4.730487</td>\n",
       "      <td>116513.335938</td>\n",
       "      <td>36.660007</td>\n",
       "      <td>0</td>\n",
       "      <td>NaN</td>\n",
       "      <td>NaN</td>\n",
       "      <td>NaN</td>\n",
       "      <td>NaN</td>\n",
       "      <td>1029.871366</td>\n",
       "      <td>0.000215</td>\n",
       "      <td>1008.954695</td>\n",
       "      <td>0.000224</td>\n",
       "      <td>0.024664</td>\n",
       "      <td>0.088764</td>\n",
       "    </tr>\n",
       "    <tr>\n",
       "      <th>-3 days +03:13:48.761964301</th>\n",
       "      <td>0.004388</td>\n",
       "      <td>21428</td>\n",
       "      <td>110927.679688</td>\n",
       "      <td>32.349358</td>\n",
       "      <td>3836.199951</td>\n",
       "      <td>4.723638</td>\n",
       "      <td>116858.820312</td>\n",
       "      <td>36.761040</td>\n",
       "      <td>1024</td>\n",
       "      <td>NaN</td>\n",
       "      <td>NaN</td>\n",
       "      <td>NaN</td>\n",
       "      <td>NaN</td>\n",
       "      <td>1029.855148</td>\n",
       "      <td>0.000214</td>\n",
       "      <td>1008.937179</td>\n",
       "      <td>0.000224</td>\n",
       "      <td>-0.000200</td>\n",
       "      <td>0.062249</td>\n",
       "    </tr>\n",
       "    <tr>\n",
       "      <th>-3 days +03:15:48.755567231</th>\n",
       "      <td>0.004388</td>\n",
       "      <td>21429</td>\n",
       "      <td>110862.484375</td>\n",
       "      <td>32.339245</td>\n",
       "      <td>3839.521973</td>\n",
       "      <td>4.722832</td>\n",
       "      <td>116742.945312</td>\n",
       "      <td>36.749546</td>\n",
       "      <td>0</td>\n",
       "      <td>NaN</td>\n",
       "      <td>NaN</td>\n",
       "      <td>NaN</td>\n",
       "      <td>NaN</td>\n",
       "      <td>1029.883719</td>\n",
       "      <td>0.000212</td>\n",
       "      <td>1008.933848</td>\n",
       "      <td>0.000224</td>\n",
       "      <td>0.036460</td>\n",
       "      <td>0.061413</td>\n",
       "    </tr>\n",
       "    <tr>\n",
       "      <th>-3 days +03:17:48.749170160</th>\n",
       "      <td>0.004388</td>\n",
       "      <td>21430</td>\n",
       "      <td>110618.179688</td>\n",
       "      <td>32.316528</td>\n",
       "      <td>3894.597168</td>\n",
       "      <td>4.750285</td>\n",
       "      <td>0.000000</td>\n",
       "      <td>0.000000</td>\n",
       "      <td>8</td>\n",
       "      <td>NaN</td>\n",
       "      <td>NaN</td>\n",
       "      <td>NaN</td>\n",
       "      <td>NaN</td>\n",
       "      <td>1029.908422</td>\n",
       "      <td>0.000213</td>\n",
       "      <td>1008.930858</td>\n",
       "      <td>0.000224</td>\n",
       "      <td>NaN</td>\n",
       "      <td>NaN</td>\n",
       "    </tr>\n",
       "  </tbody>\n",
       "</table>\n",
       "<p>20081 rows × 19 columns</p>\n",
       "</div>"
      ],
      "text/plain": [
       "                             timecorr  cadenceno       sap_flux  sap_flux_err  \\\n",
       "time                                                                            \n",
       "0 days 01:05:03.037835044    0.005281       1091  110013.070312     32.275578   \n",
       "0 days 01:07:03.035984318    0.005281       1092  110389.640625     32.322845   \n",
       "0 days 01:09:03.034133592    0.005281       1093  110621.085938     32.359745   \n",
       "0 days 01:11:03.032282866    0.005281       1094  109933.359375     32.270397   \n",
       "0 days 01:13:03.030432140    0.005281       1095  110222.242188     32.299232   \n",
       "...                               ...        ...            ...           ...   \n",
       "-3 days +03:09:48.774758441  0.004388      21426  110581.265625     32.296600   \n",
       "-3 days +03:11:48.768361371  0.004388      21427  110271.859375     32.260452   \n",
       "-3 days +03:13:48.761964301  0.004388      21428  110927.679688     32.349358   \n",
       "-3 days +03:15:48.755567231  0.004388      21429  110862.484375     32.339245   \n",
       "-3 days +03:17:48.749170160  0.004388      21430  110618.179688     32.316528   \n",
       "\n",
       "                                 sap_bkg  sap_bkg_err    pdcsap_flux  \\\n",
       "time                                                                   \n",
       "0 days 01:05:03.037835044    4040.587646     4.834879       0.000000   \n",
       "0 days 01:07:03.035984318    4029.876465     4.822718  116796.429688   \n",
       "0 days 01:09:03.034133592    4031.760254     4.832433  117205.796875   \n",
       "0 days 01:11:03.032282866    4074.251709     4.846644  116686.375000   \n",
       "0 days 01:13:03.030432140    4013.066895     4.815239  116946.625000   \n",
       "...                                  ...          ...            ...   \n",
       "-3 days +03:09:48.774758441  3833.596191     4.719143  116719.281250   \n",
       "-3 days +03:11:48.768361371  3852.258057     4.730487  116513.335938   \n",
       "-3 days +03:13:48.761964301  3836.199951     4.723638  116858.820312   \n",
       "-3 days +03:15:48.755567231  3839.521973     4.722832  116742.945312   \n",
       "-3 days +03:17:48.749170160  3894.597168     4.750285       0.000000   \n",
       "\n",
       "                             pdcsap_flux_err  quality  psf_centr1  \\\n",
       "time                                                                \n",
       "0 days 01:05:03.037835044           0.000000        8         NaN   \n",
       "0 days 01:07:03.035984318          36.730911     1024         NaN   \n",
       "0 days 01:09:03.034133592          36.772842        0         NaN   \n",
       "0 days 01:11:03.032282866          36.671310        0         NaN   \n",
       "0 days 01:13:03.030432140          36.704082        0         NaN   \n",
       "...                                      ...      ...         ...   \n",
       "-3 days +03:09:48.774758441        36.701084        0         NaN   \n",
       "-3 days +03:11:48.768361371        36.660007        0         NaN   \n",
       "-3 days +03:13:48.761964301        36.761040     1024         NaN   \n",
       "-3 days +03:15:48.755567231        36.749546        0         NaN   \n",
       "-3 days +03:17:48.749170160         0.000000        8         NaN   \n",
       "\n",
       "                             psf_centr1_err  psf_centr2  psf_centr2_err  \\\n",
       "time                                                                      \n",
       "0 days 01:05:03.037835044               NaN         NaN             NaN   \n",
       "0 days 01:07:03.035984318               NaN         NaN             NaN   \n",
       "0 days 01:09:03.034133592               NaN         NaN             NaN   \n",
       "0 days 01:11:03.032282866               NaN         NaN             NaN   \n",
       "0 days 01:13:03.030432140               NaN         NaN             NaN   \n",
       "...                                     ...         ...             ...   \n",
       "-3 days +03:09:48.774758441             NaN         NaN             NaN   \n",
       "-3 days +03:11:48.768361371             NaN         NaN             NaN   \n",
       "-3 days +03:13:48.761964301             NaN         NaN             NaN   \n",
       "-3 days +03:15:48.755567231             NaN         NaN             NaN   \n",
       "-3 days +03:17:48.749170160             NaN         NaN             NaN   \n",
       "\n",
       "                              mom_centr1  mom_centr1_err   mom_centr2  \\\n",
       "time                                                                    \n",
       "0 days 01:05:03.037835044    1029.883983        0.000218  1008.833614   \n",
       "0 days 01:07:03.035984318    1029.919661        0.000213  1008.831970   \n",
       "0 days 01:09:03.034133592    1029.902061        0.000214  1008.808789   \n",
       "0 days 01:11:03.032282866    1029.898211        0.000217  1008.842360   \n",
       "0 days 01:13:03.030432140    1029.946960        0.000213  1008.823060   \n",
       "...                                  ...             ...          ...   \n",
       "-3 days +03:09:48.774758441  1029.914059        0.000211  1008.940135   \n",
       "-3 days +03:11:48.768361371  1029.871366        0.000215  1008.954695   \n",
       "-3 days +03:13:48.761964301  1029.855148        0.000214  1008.937179   \n",
       "-3 days +03:15:48.755567231  1029.883719        0.000212  1008.933848   \n",
       "-3 days +03:17:48.749170160  1029.908422        0.000213  1008.930858   \n",
       "\n",
       "                             mom_centr2_err  pos_corr1  pos_corr2  \n",
       "time                                                               \n",
       "0 days 01:05:03.037835044          0.000226        NaN        NaN  \n",
       "0 days 01:07:03.035984318          0.000226   0.084772  -0.056619  \n",
       "0 days 01:09:03.034133592          0.000227   0.062888  -0.085855  \n",
       "0 days 01:11:03.032282866          0.000227   0.061746  -0.044943  \n",
       "0 days 01:13:03.030432140          0.000226   0.119849  -0.065892  \n",
       "...                                     ...        ...        ...  \n",
       "-3 days +03:09:48.774758441        0.000224   0.075947   0.070438  \n",
       "-3 days +03:11:48.768361371        0.000224   0.024664   0.088764  \n",
       "-3 days +03:13:48.761964301        0.000224  -0.000200   0.062249  \n",
       "-3 days +03:15:48.755567231        0.000224   0.036460   0.061413  \n",
       "-3 days +03:17:48.749170160        0.000224        NaN        NaN  \n",
       "\n",
       "[20081 rows x 19 columns]"
      ]
     },
     "execution_count": 19,
     "metadata": {},
     "output_type": "execute_result"
    }
   ],
   "source": [
    "DF = pd.DataFrame(LDF[0])\n",
    "DF"
   ]
  },
  {
   "cell_type": "code",
   "execution_count": 23,
   "id": "seasonal-tractor",
   "metadata": {},
   "outputs": [],
   "source": [
    "dropcols = ['timecorr', 'cadenceno', 'sap_bkg', 'sap_bkg_err', 'quality',\n",
    "       'psf_centr1', 'psf_centr1_err', 'psf_centr2', 'psf_centr2_err',\n",
    "       'mom_centr1', 'mom_centr1_err', 'mom_centr2', 'mom_centr2_err',\n",
    "       'pos_corr1', 'pos_corr2']\n",
    "goodCols = ['time', 'sap_flux', 'sap_flux_err', 'pdcsap_flux', 'pdcsap_flux_err', 'sap_flux_norm']"
   ]
  },
  {
   "cell_type": "code",
   "execution_count": 24,
   "id": "synthetic-rehabilitation",
   "metadata": {},
   "outputs": [
    {
     "data": {
      "text/html": [
       "<div>\n",
       "<style scoped>\n",
       "    .dataframe tbody tr th:only-of-type {\n",
       "        vertical-align: middle;\n",
       "    }\n",
       "\n",
       "    .dataframe tbody tr th {\n",
       "        vertical-align: top;\n",
       "    }\n",
       "\n",
       "    .dataframe thead th {\n",
       "        text-align: right;\n",
       "    }\n",
       "</style>\n",
       "<table border=\"1\" class=\"dataframe\">\n",
       "  <thead>\n",
       "    <tr style=\"text-align: right;\">\n",
       "      <th></th>\n",
       "      <th>timecorr</th>\n",
       "      <th>cadenceno</th>\n",
       "      <th>sap_flux</th>\n",
       "      <th>sap_flux_err</th>\n",
       "      <th>sap_bkg</th>\n",
       "      <th>sap_bkg_err</th>\n",
       "      <th>pdcsap_flux</th>\n",
       "      <th>pdcsap_flux_err</th>\n",
       "      <th>quality</th>\n",
       "      <th>psf_centr1</th>\n",
       "      <th>psf_centr1_err</th>\n",
       "      <th>psf_centr2</th>\n",
       "      <th>psf_centr2_err</th>\n",
       "      <th>mom_centr1</th>\n",
       "      <th>mom_centr1_err</th>\n",
       "      <th>mom_centr2</th>\n",
       "      <th>mom_centr2_err</th>\n",
       "      <th>pos_corr1</th>\n",
       "      <th>pos_corr2</th>\n",
       "    </tr>\n",
       "    <tr>\n",
       "      <th>time</th>\n",
       "      <th></th>\n",
       "      <th></th>\n",
       "      <th></th>\n",
       "      <th></th>\n",
       "      <th></th>\n",
       "      <th></th>\n",
       "      <th></th>\n",
       "      <th></th>\n",
       "      <th></th>\n",
       "      <th></th>\n",
       "      <th></th>\n",
       "      <th></th>\n",
       "      <th></th>\n",
       "      <th></th>\n",
       "      <th></th>\n",
       "      <th></th>\n",
       "      <th></th>\n",
       "      <th></th>\n",
       "      <th></th>\n",
       "    </tr>\n",
       "  </thead>\n",
       "  <tbody>\n",
       "    <tr>\n",
       "      <th>0 days 01:05:03.037835044</th>\n",
       "      <td>0.005281</td>\n",
       "      <td>1091</td>\n",
       "      <td>110013.070312</td>\n",
       "      <td>32.275578</td>\n",
       "      <td>4040.587646</td>\n",
       "      <td>4.834879</td>\n",
       "      <td>0.000000</td>\n",
       "      <td>0.000000</td>\n",
       "      <td>8</td>\n",
       "      <td>NaN</td>\n",
       "      <td>NaN</td>\n",
       "      <td>NaN</td>\n",
       "      <td>NaN</td>\n",
       "      <td>1029.883983</td>\n",
       "      <td>0.000218</td>\n",
       "      <td>1008.833614</td>\n",
       "      <td>0.000226</td>\n",
       "      <td>NaN</td>\n",
       "      <td>NaN</td>\n",
       "    </tr>\n",
       "    <tr>\n",
       "      <th>0 days 01:07:03.035984318</th>\n",
       "      <td>0.005281</td>\n",
       "      <td>1092</td>\n",
       "      <td>110389.640625</td>\n",
       "      <td>32.322845</td>\n",
       "      <td>4029.876465</td>\n",
       "      <td>4.822718</td>\n",
       "      <td>116796.429688</td>\n",
       "      <td>36.730911</td>\n",
       "      <td>1024</td>\n",
       "      <td>NaN</td>\n",
       "      <td>NaN</td>\n",
       "      <td>NaN</td>\n",
       "      <td>NaN</td>\n",
       "      <td>1029.919661</td>\n",
       "      <td>0.000213</td>\n",
       "      <td>1008.831970</td>\n",
       "      <td>0.000226</td>\n",
       "      <td>0.084772</td>\n",
       "      <td>-0.056619</td>\n",
       "    </tr>\n",
       "    <tr>\n",
       "      <th>0 days 01:09:03.034133592</th>\n",
       "      <td>0.005281</td>\n",
       "      <td>1093</td>\n",
       "      <td>110621.085938</td>\n",
       "      <td>32.359745</td>\n",
       "      <td>4031.760254</td>\n",
       "      <td>4.832433</td>\n",
       "      <td>117205.796875</td>\n",
       "      <td>36.772842</td>\n",
       "      <td>0</td>\n",
       "      <td>NaN</td>\n",
       "      <td>NaN</td>\n",
       "      <td>NaN</td>\n",
       "      <td>NaN</td>\n",
       "      <td>1029.902061</td>\n",
       "      <td>0.000214</td>\n",
       "      <td>1008.808789</td>\n",
       "      <td>0.000227</td>\n",
       "      <td>0.062888</td>\n",
       "      <td>-0.085855</td>\n",
       "    </tr>\n",
       "    <tr>\n",
       "      <th>0 days 01:11:03.032282866</th>\n",
       "      <td>0.005281</td>\n",
       "      <td>1094</td>\n",
       "      <td>109933.359375</td>\n",
       "      <td>32.270397</td>\n",
       "      <td>4074.251709</td>\n",
       "      <td>4.846644</td>\n",
       "      <td>116686.375000</td>\n",
       "      <td>36.671310</td>\n",
       "      <td>0</td>\n",
       "      <td>NaN</td>\n",
       "      <td>NaN</td>\n",
       "      <td>NaN</td>\n",
       "      <td>NaN</td>\n",
       "      <td>1029.898211</td>\n",
       "      <td>0.000217</td>\n",
       "      <td>1008.842360</td>\n",
       "      <td>0.000227</td>\n",
       "      <td>0.061746</td>\n",
       "      <td>-0.044943</td>\n",
       "    </tr>\n",
       "    <tr>\n",
       "      <th>0 days 01:13:03.030432140</th>\n",
       "      <td>0.005281</td>\n",
       "      <td>1095</td>\n",
       "      <td>110222.242188</td>\n",
       "      <td>32.299232</td>\n",
       "      <td>4013.066895</td>\n",
       "      <td>4.815239</td>\n",
       "      <td>116946.625000</td>\n",
       "      <td>36.704082</td>\n",
       "      <td>0</td>\n",
       "      <td>NaN</td>\n",
       "      <td>NaN</td>\n",
       "      <td>NaN</td>\n",
       "      <td>NaN</td>\n",
       "      <td>1029.946960</td>\n",
       "      <td>0.000213</td>\n",
       "      <td>1008.823060</td>\n",
       "      <td>0.000226</td>\n",
       "      <td>0.119849</td>\n",
       "      <td>-0.065892</td>\n",
       "    </tr>\n",
       "    <tr>\n",
       "      <th>...</th>\n",
       "      <td>...</td>\n",
       "      <td>...</td>\n",
       "      <td>...</td>\n",
       "      <td>...</td>\n",
       "      <td>...</td>\n",
       "      <td>...</td>\n",
       "      <td>...</td>\n",
       "      <td>...</td>\n",
       "      <td>...</td>\n",
       "      <td>...</td>\n",
       "      <td>...</td>\n",
       "      <td>...</td>\n",
       "      <td>...</td>\n",
       "      <td>...</td>\n",
       "      <td>...</td>\n",
       "      <td>...</td>\n",
       "      <td>...</td>\n",
       "      <td>...</td>\n",
       "      <td>...</td>\n",
       "    </tr>\n",
       "    <tr>\n",
       "      <th>-3 days +03:09:48.774758441</th>\n",
       "      <td>0.004388</td>\n",
       "      <td>21426</td>\n",
       "      <td>110581.265625</td>\n",
       "      <td>32.296600</td>\n",
       "      <td>3833.596191</td>\n",
       "      <td>4.719143</td>\n",
       "      <td>116719.281250</td>\n",
       "      <td>36.701084</td>\n",
       "      <td>0</td>\n",
       "      <td>NaN</td>\n",
       "      <td>NaN</td>\n",
       "      <td>NaN</td>\n",
       "      <td>NaN</td>\n",
       "      <td>1029.914059</td>\n",
       "      <td>0.000211</td>\n",
       "      <td>1008.940135</td>\n",
       "      <td>0.000224</td>\n",
       "      <td>0.075947</td>\n",
       "      <td>0.070438</td>\n",
       "    </tr>\n",
       "    <tr>\n",
       "      <th>-3 days +03:11:48.768361371</th>\n",
       "      <td>0.004388</td>\n",
       "      <td>21427</td>\n",
       "      <td>110271.859375</td>\n",
       "      <td>32.260452</td>\n",
       "      <td>3852.258057</td>\n",
       "      <td>4.730487</td>\n",
       "      <td>116513.335938</td>\n",
       "      <td>36.660007</td>\n",
       "      <td>0</td>\n",
       "      <td>NaN</td>\n",
       "      <td>NaN</td>\n",
       "      <td>NaN</td>\n",
       "      <td>NaN</td>\n",
       "      <td>1029.871366</td>\n",
       "      <td>0.000215</td>\n",
       "      <td>1008.954695</td>\n",
       "      <td>0.000224</td>\n",
       "      <td>0.024664</td>\n",
       "      <td>0.088764</td>\n",
       "    </tr>\n",
       "    <tr>\n",
       "      <th>-3 days +03:13:48.761964301</th>\n",
       "      <td>0.004388</td>\n",
       "      <td>21428</td>\n",
       "      <td>110927.679688</td>\n",
       "      <td>32.349358</td>\n",
       "      <td>3836.199951</td>\n",
       "      <td>4.723638</td>\n",
       "      <td>116858.820312</td>\n",
       "      <td>36.761040</td>\n",
       "      <td>1024</td>\n",
       "      <td>NaN</td>\n",
       "      <td>NaN</td>\n",
       "      <td>NaN</td>\n",
       "      <td>NaN</td>\n",
       "      <td>1029.855148</td>\n",
       "      <td>0.000214</td>\n",
       "      <td>1008.937179</td>\n",
       "      <td>0.000224</td>\n",
       "      <td>-0.000200</td>\n",
       "      <td>0.062249</td>\n",
       "    </tr>\n",
       "    <tr>\n",
       "      <th>-3 days +03:15:48.755567231</th>\n",
       "      <td>0.004388</td>\n",
       "      <td>21429</td>\n",
       "      <td>110862.484375</td>\n",
       "      <td>32.339245</td>\n",
       "      <td>3839.521973</td>\n",
       "      <td>4.722832</td>\n",
       "      <td>116742.945312</td>\n",
       "      <td>36.749546</td>\n",
       "      <td>0</td>\n",
       "      <td>NaN</td>\n",
       "      <td>NaN</td>\n",
       "      <td>NaN</td>\n",
       "      <td>NaN</td>\n",
       "      <td>1029.883719</td>\n",
       "      <td>0.000212</td>\n",
       "      <td>1008.933848</td>\n",
       "      <td>0.000224</td>\n",
       "      <td>0.036460</td>\n",
       "      <td>0.061413</td>\n",
       "    </tr>\n",
       "    <tr>\n",
       "      <th>-3 days +03:17:48.749170160</th>\n",
       "      <td>0.004388</td>\n",
       "      <td>21430</td>\n",
       "      <td>110618.179688</td>\n",
       "      <td>32.316528</td>\n",
       "      <td>3894.597168</td>\n",
       "      <td>4.750285</td>\n",
       "      <td>0.000000</td>\n",
       "      <td>0.000000</td>\n",
       "      <td>8</td>\n",
       "      <td>NaN</td>\n",
       "      <td>NaN</td>\n",
       "      <td>NaN</td>\n",
       "      <td>NaN</td>\n",
       "      <td>1029.908422</td>\n",
       "      <td>0.000213</td>\n",
       "      <td>1008.930858</td>\n",
       "      <td>0.000224</td>\n",
       "      <td>NaN</td>\n",
       "      <td>NaN</td>\n",
       "    </tr>\n",
       "  </tbody>\n",
       "</table>\n",
       "<p>20081 rows × 19 columns</p>\n",
       "</div>"
      ],
      "text/plain": [
       "                             timecorr  cadenceno       sap_flux  sap_flux_err  \\\n",
       "time                                                                            \n",
       "0 days 01:05:03.037835044    0.005281       1091  110013.070312     32.275578   \n",
       "0 days 01:07:03.035984318    0.005281       1092  110389.640625     32.322845   \n",
       "0 days 01:09:03.034133592    0.005281       1093  110621.085938     32.359745   \n",
       "0 days 01:11:03.032282866    0.005281       1094  109933.359375     32.270397   \n",
       "0 days 01:13:03.030432140    0.005281       1095  110222.242188     32.299232   \n",
       "...                               ...        ...            ...           ...   \n",
       "-3 days +03:09:48.774758441  0.004388      21426  110581.265625     32.296600   \n",
       "-3 days +03:11:48.768361371  0.004388      21427  110271.859375     32.260452   \n",
       "-3 days +03:13:48.761964301  0.004388      21428  110927.679688     32.349358   \n",
       "-3 days +03:15:48.755567231  0.004388      21429  110862.484375     32.339245   \n",
       "-3 days +03:17:48.749170160  0.004388      21430  110618.179688     32.316528   \n",
       "\n",
       "                                 sap_bkg  sap_bkg_err    pdcsap_flux  \\\n",
       "time                                                                   \n",
       "0 days 01:05:03.037835044    4040.587646     4.834879       0.000000   \n",
       "0 days 01:07:03.035984318    4029.876465     4.822718  116796.429688   \n",
       "0 days 01:09:03.034133592    4031.760254     4.832433  117205.796875   \n",
       "0 days 01:11:03.032282866    4074.251709     4.846644  116686.375000   \n",
       "0 days 01:13:03.030432140    4013.066895     4.815239  116946.625000   \n",
       "...                                  ...          ...            ...   \n",
       "-3 days +03:09:48.774758441  3833.596191     4.719143  116719.281250   \n",
       "-3 days +03:11:48.768361371  3852.258057     4.730487  116513.335938   \n",
       "-3 days +03:13:48.761964301  3836.199951     4.723638  116858.820312   \n",
       "-3 days +03:15:48.755567231  3839.521973     4.722832  116742.945312   \n",
       "-3 days +03:17:48.749170160  3894.597168     4.750285       0.000000   \n",
       "\n",
       "                             pdcsap_flux_err  quality  psf_centr1  \\\n",
       "time                                                                \n",
       "0 days 01:05:03.037835044           0.000000        8         NaN   \n",
       "0 days 01:07:03.035984318          36.730911     1024         NaN   \n",
       "0 days 01:09:03.034133592          36.772842        0         NaN   \n",
       "0 days 01:11:03.032282866          36.671310        0         NaN   \n",
       "0 days 01:13:03.030432140          36.704082        0         NaN   \n",
       "...                                      ...      ...         ...   \n",
       "-3 days +03:09:48.774758441        36.701084        0         NaN   \n",
       "-3 days +03:11:48.768361371        36.660007        0         NaN   \n",
       "-3 days +03:13:48.761964301        36.761040     1024         NaN   \n",
       "-3 days +03:15:48.755567231        36.749546        0         NaN   \n",
       "-3 days +03:17:48.749170160         0.000000        8         NaN   \n",
       "\n",
       "                             psf_centr1_err  psf_centr2  psf_centr2_err  \\\n",
       "time                                                                      \n",
       "0 days 01:05:03.037835044               NaN         NaN             NaN   \n",
       "0 days 01:07:03.035984318               NaN         NaN             NaN   \n",
       "0 days 01:09:03.034133592               NaN         NaN             NaN   \n",
       "0 days 01:11:03.032282866               NaN         NaN             NaN   \n",
       "0 days 01:13:03.030432140               NaN         NaN             NaN   \n",
       "...                                     ...         ...             ...   \n",
       "-3 days +03:09:48.774758441             NaN         NaN             NaN   \n",
       "-3 days +03:11:48.768361371             NaN         NaN             NaN   \n",
       "-3 days +03:13:48.761964301             NaN         NaN             NaN   \n",
       "-3 days +03:15:48.755567231             NaN         NaN             NaN   \n",
       "-3 days +03:17:48.749170160             NaN         NaN             NaN   \n",
       "\n",
       "                              mom_centr1  mom_centr1_err   mom_centr2  \\\n",
       "time                                                                    \n",
       "0 days 01:05:03.037835044    1029.883983        0.000218  1008.833614   \n",
       "0 days 01:07:03.035984318    1029.919661        0.000213  1008.831970   \n",
       "0 days 01:09:03.034133592    1029.902061        0.000214  1008.808789   \n",
       "0 days 01:11:03.032282866    1029.898211        0.000217  1008.842360   \n",
       "0 days 01:13:03.030432140    1029.946960        0.000213  1008.823060   \n",
       "...                                  ...             ...          ...   \n",
       "-3 days +03:09:48.774758441  1029.914059        0.000211  1008.940135   \n",
       "-3 days +03:11:48.768361371  1029.871366        0.000215  1008.954695   \n",
       "-3 days +03:13:48.761964301  1029.855148        0.000214  1008.937179   \n",
       "-3 days +03:15:48.755567231  1029.883719        0.000212  1008.933848   \n",
       "-3 days +03:17:48.749170160  1029.908422        0.000213  1008.930858   \n",
       "\n",
       "                             mom_centr2_err  pos_corr1  pos_corr2  \n",
       "time                                                               \n",
       "0 days 01:05:03.037835044          0.000226        NaN        NaN  \n",
       "0 days 01:07:03.035984318          0.000226   0.084772  -0.056619  \n",
       "0 days 01:09:03.034133592          0.000227   0.062888  -0.085855  \n",
       "0 days 01:11:03.032282866          0.000227   0.061746  -0.044943  \n",
       "0 days 01:13:03.030432140          0.000226   0.119849  -0.065892  \n",
       "...                                     ...        ...        ...  \n",
       "-3 days +03:09:48.774758441        0.000224   0.075947   0.070438  \n",
       "-3 days +03:11:48.768361371        0.000224   0.024664   0.088764  \n",
       "-3 days +03:13:48.761964301        0.000224  -0.000200   0.062249  \n",
       "-3 days +03:15:48.755567231        0.000224   0.036460   0.061413  \n",
       "-3 days +03:17:48.749170160        0.000224        NaN        NaN  \n",
       "\n",
       "[20081 rows x 19 columns]"
      ]
     },
     "execution_count": 24,
     "metadata": {},
     "output_type": "execute_result"
    }
   ],
   "source": [
    "#LDF = [X.to_pandas().drop(dropcols, axis=1).reset_index() for X in L]\n",
    "\n",
    "LDF[0]"
   ]
  },
  {
   "cell_type": "code",
   "execution_count": 498,
   "id": "statistical-festival",
   "metadata": {},
   "outputs": [],
   "source": [
    "np.save(\"TST_CSV.npy\",LDF)"
   ]
  },
  {
   "cell_type": "code",
   "execution_count": 500,
   "id": "hawaiian-appearance",
   "metadata": {
    "tags": []
   },
   "outputs": [],
   "source": [
    "#QWERTY = pd.read_csQWERTY = pd.read_csv('TESTIN.csv')v('TESTIN.csv')\n",
    "ASDFGH = [np.vstack((goodCols, X)) for X in np.load(\"TST_CSV.npy\", allow_pickle=True)]"
   ]
  },
  {
   "cell_type": "code",
   "execution_count": 502,
   "id": "interstate-capture",
   "metadata": {
    "tags": []
   },
   "outputs": [
    {
     "data": {
      "text/plain": [
       "array([['time', 'sap_flux', 'sap_flux_err', 'pdcsap_flux',\n",
       "        'pdcsap_flux_err', 'sap_flux_norm'],\n",
       "       [Timedelta('0 days 01:05:03.037835044'), 110013.0703125,\n",
       "        32.275577545166016, 0.0, 0.0, 0.9926188588142395],\n",
       "       [Timedelta('0 days 01:07:03.035984318'), 110389.640625,\n",
       "        32.322845458984375, 116796.4296875, 36.73091125488281,\n",
       "        0.9960165619850159],\n",
       "       ...,\n",
       "       [Timedelta('-3 days +03:13:48.761964301'), 110927.6796875,\n",
       "        32.34935760498047, 116858.8203125, 36.76103973388672,\n",
       "        1.0008710622787476],\n",
       "       [Timedelta('-3 days +03:15:48.755567231'), 110862.484375,\n",
       "        32.3392448425293, 116742.9453125, 36.74954605102539,\n",
       "        1.000282883644104],\n",
       "       [Timedelta('-3 days +03:17:48.749170160'), 110618.1796875,\n",
       "        32.3165283203125, 0.0, 0.0, 0.9980785846710205]], dtype=object)"
      ]
     },
     "execution_count": 502,
     "metadata": {},
     "output_type": "execute_result"
    }
   ],
   "source": [
    "#ASDFGH = [np.vstack((goodCols, X)) for X in ASDFGH]\n",
    "ASDFGH[0]"
   ]
  },
  {
   "cell_type": "code",
   "execution_count": 415,
   "id": "precise-result",
   "metadata": {},
   "outputs": [
    {
     "data": {
      "text/plain": [
       "array([['sap_flux', 'sap_flux_err', 'pdcsap_flux', 'pdcsap_flux_err',\n",
       "        'sap_flux_norm'],\n",
       "       ['110013.07', '32.275578', '0.0', '0.0', '0.99261886'],\n",
       "       ['110389.64', '32.322845', '116796.43', '36.73091', '0.99601656'],\n",
       "       ...,\n",
       "       ['110927.68', '32.349358', '116858.82', '36.76104', '1.0008711'],\n",
       "       ['110862.484', '32.339245', '116742.945', '36.749546',\n",
       "        '1.0002829'],\n",
       "       ['110618.18', '32.31653', '0.0', '0.0', '0.9980786']], dtype='<U32')"
      ]
     },
     "execution_count": 415,
     "metadata": {},
     "output_type": "execute_result"
    }
   ],
   "source": [
    "Q = np.vstack((goodCols, ASDFGH[0]))\n",
    "Q"
   ]
  },
  {
   "cell_type": "code",
   "execution_count": null,
   "id": "ordered-accordance",
   "metadata": {},
   "outputs": [],
   "source": []
  },
  {
   "cell_type": "code",
   "execution_count": null,
   "id": "effective-norfolk",
   "metadata": {},
   "outputs": [],
   "source": []
  },
  {
   "cell_type": "code",
   "execution_count": null,
   "id": "mighty-minute",
   "metadata": {},
   "outputs": [],
   "source": []
  },
  {
   "cell_type": "code",
   "execution_count": null,
   "id": "hidden-european",
   "metadata": {},
   "outputs": [],
   "source": []
  },
  {
   "cell_type": "code",
   "execution_count": null,
   "id": "defined-thumb",
   "metadata": {},
   "outputs": [],
   "source": []
  },
  {
   "cell_type": "code",
   "execution_count": 214,
   "id": "noble-prophet",
   "metadata": {},
   "outputs": [],
   "source": [
    "ts_binned = aggregate_downsample(L[0], time_bin_size=0.03 * u.day)"
   ]
  },
  {
   "cell_type": "code",
   "execution_count": 171,
   "id": "fresh-thanksgiving",
   "metadata": {},
   "outputs": [
    {
     "data": {
      "text/plain": [
       "[<matplotlib.lines.Line2D at 0x7fb5c3526040>]"
      ]
     },
     "execution_count": 171,
     "metadata": {},
     "output_type": "execute_result"
    },
    {
     "data": {
      "image/png": "[encoded data removed]",
      "text/plain": [
       "<Figure size 1152x360 with 1 Axes>"
      ]
     },
     "metadata": {},
     "output_type": "display_data"
    }
   ],
   "source": [
    "plt.plot(foldedFluxes[3908], 'r.', markersize=0.5)"
   ]
  },
  {
   "cell_type": "code",
   "execution_count": 127,
   "id": "fewer-structure",
   "metadata": {},
   "outputs": [
    {
     "name": "stdout",
     "output_type": "stream",
     "text": [
      "0\n"
     ]
    }
   ],
   "source": [
    "maxnan = 0\n",
    "for i in foldedFluxes:\n",
    "    k = len(np.argwhere(np.isnan(i)))\n",
    "    if k > maxnan:\n",
    "        maxnan = k\n",
    "print(k)"
   ]
  },
  {
   "cell_type": "code",
   "execution_count": null,
   "id": "endless-export",
   "metadata": {},
   "outputs": [],
   "source": []
  },
  {
   "cell_type": "code",
   "execution_count": null,
   "id": "alone-cream",
   "metadata": {},
   "outputs": [],
   "source": []
  },
  {
   "cell_type": "code",
   "execution_count": null,
   "id": "portuguese-correspondence",
   "metadata": {},
   "outputs": [],
   "source": []
  },
  {
   "cell_type": "code",
   "execution_count": null,
   "id": "entire-arena",
   "metadata": {},
   "outputs": [],
   "source": []
  },
  {
   "cell_type": "code",
   "execution_count": null,
   "id": "color-spare",
   "metadata": {},
   "outputs": [],
   "source": []
  },
  {
   "cell_type": "code",
   "execution_count": 5,
   "id": "legislative-trash",
   "metadata": {},
   "outputs": [],
   "source": [
    "GNB=[[8,1738],\n",
    "    [2,541]]\n",
    "\n",
    "KNN=[[1745,1],\n",
    "    [543,0]]\n",
    "\n",
    "RDT=[[1723,23],\n",
    "    [509,34]]\n",
    "\n",
    "SVM=[[82,1664],\n",
    "    [14,529]]\n",
    "\n",
    "YES = [[0,1746],\n",
    "       [0,543]]\n",
    "\n",
    "NOO = [[1746,0],\n",
    "       [543,0]] "
   ]
  },
  {
   "cell_type": "markdown",
   "id": "brilliant-young",
   "metadata": {},
   "source": [
    "SVM:\n",
    "82, 1664\n",
    "14, 529\n",
    "\n",
    "GNB:\n",
    "8, 1738\n",
    "2, 541\n",
    "\n",
    "KNN:\n",
    "1745, 1\n",
    "543, 0\n",
    "\n",
    "RDT:\n",
    "1723, 23\n",
    "509, 34"
   ]
  },
  {
   "cell_type": "code",
   "execution_count": 6,
   "id": "coated-functionality",
   "metadata": {},
   "outputs": [],
   "source": [
    "def Metrics(a):\n",
    "    # Assuimng 'a' is a 2x2 matrix\n",
    "    TN, FP, FN, TP = a[0][0], a[0][1], a[1][0], a[1][1]\n",
    "    \n",
    "    Acc = (TP+TN)/(TP+TN+FP+FN)\n",
    "    Pre = (TP)/(TP+FP) if (TP+FP) != 0 else 0\n",
    "    Rec = (TP)/(TP+FN) if (TP+FN) != 0 else 0\n",
    "    \n",
    "    return ({'Accuracy': Acc, 'Precision': Pre, 'Recall': Rec})\n",
    "\n",
    "GNB_metrics = Metrics(GNB)\n",
    "KNN_metrics = Metrics(KNN)\n",
    "RDT_metrics = Metrics(RDT)\n",
    "SVM_metrics = Metrics(SVM)\n",
    "YES_metrics = Metrics(YES)\n",
    "NOO_metrics = Metrics(NOO)\n",
    "MNK_metrics = {'Accuracy': 0.5111402359108781, 'Precision': 0.2528837622005324, 'Recall': 0.5071174377224199}"
   ]
  },
  {
   "cell_type": "code",
   "execution_count": 7,
   "id": "threatened-hygiene",
   "metadata": {},
   "outputs": [
    {
     "data": {
      "text/plain": [
       "{'Accuracy': 0.762778505897772, 'Precision': 0, 'Recall': 0.0}"
      ]
     },
     "execution_count": 7,
     "metadata": {},
     "output_type": "execute_result"
    }
   ],
   "source": [
    "NOO_metrics"
   ]
  },
  {
   "cell_type": "code",
   "execution_count": 8,
   "id": "convinced-turning",
   "metadata": {},
   "outputs": [],
   "source": [
    "accs = [GNB_metrics['Accuracy'], KNN_metrics['Accuracy'], RDT_metrics['Accuracy'], SVM_metrics['Accuracy'], YES_metrics['Accuracy'], NOO_metrics['Accuracy']]\n",
    "pres = [GNB_metrics['Precision'], KNN_metrics['Precision'], RDT_metrics['Precision'], SVM_metrics['Precision'], YES_metrics['Precision'], NOO_metrics['Precision']]\n",
    "recs = [GNB_metrics['Recall'], KNN_metrics['Recall'], RDT_metrics['Recall'], SVM_metrics['Recall'], YES_metrics['Recall'], NOO_metrics['Recall']]"
   ]
  },
  {
   "cell_type": "code",
   "execution_count": 9,
   "id": "false-married",
   "metadata": {},
   "outputs": [],
   "source": [
    "accs_pct = ['{:,.1%}'.format(x) for x in accs]\n",
    "pres_pct = ['{:,.1%}'.format(x) for x in pres]\n",
    "recs_pct = ['{:,.1%}'.format(x) for x in recs]"
   ]
  },
  {
   "cell_type": "code",
   "execution_count": 10,
   "id": "difficult-malta",
   "metadata": {},
   "outputs": [
    {
     "data": {
      "text/plain": [
       "[Text(0, 0.0, '0%'),\n",
       " Text(0, 0.1, '10%'),\n",
       " Text(0, 0.2, '20%'),\n",
       " Text(0, 0.30000000000000004, '30%'),\n",
       " Text(0, 0.4, '40%'),\n",
       " Text(0, 0.5, '50%'),\n",
       " Text(0, 0.6000000000000001, '60%'),\n",
       " Text(0, 0.7000000000000001, '70%'),\n",
       " Text(0, 0.8, '80%'),\n",
       " Text(0, 0.9, '90%')]"
      ]
     },
     "execution_count": 10,
     "metadata": {},
     "output_type": "execute_result"
    },
    {
     "data": {
      "image/png": "[encoded data removed]",
      "text/plain": [
       "<Figure size 720x432 with 1 Axes>"
      ]
     },
     "metadata": {},
     "output_type": "display_data"
    }
   ],
   "source": [
    "x = np.arange(6)\n",
    "plt.bar(x,accs,color=['b', 'b', 'b', 'b', 'g', 'r'])\n",
    "plt.xticks(x,[\"GNB\",\"KNN\",\"RDT\",\"SVM\",\"YES\",\"NOO\"])\n",
    "plt.title(\"Accuracy Bar Graph of Four Machine Learning Algorithms\", fontsize=16)\n",
    "plt.tight_layout()\n",
    "plt.gca().set_yticklabels(['{:.0f}%'.format(x*100) for x in plt.gca().get_yticks()])\n",
    "#plt.savefig('img/accuracy-norm-bar.png')"
   ]
  },
  {
   "cell_type": "code",
   "execution_count": 11,
   "id": "social-recycling",
   "metadata": {},
   "outputs": [
    {
     "data": {
      "image/png": "[encoded data removed]",
      "text/plain": [
       "<Figure size 720x432 with 1 Axes>"
      ]
     },
     "metadata": {},
     "output_type": "display_data"
    }
   ],
   "source": [
    "x = np.arange(6)\n",
    "plt.bar(x,pres,color=['b', 'b', 'b', 'b', 'g', 'r'])\n",
    "plt.xticks(x,[\"GNB\",\"KNN\",\"RDT\",\"SVM\",\"YES\",\"NOO\"])\n",
    "plt.title(\"Precision Bar Graph of Four Machine Learning Algorithms\", fontsize=16)\n",
    "plt.tight_layout()\n",
    "plt.gca().set_yticklabels(['{:.0f}%'.format(x*100) for x in plt.gca().get_yticks()])\n",
    "plt.savefig('img/precision-norm-bar.png')"
   ]
  },
  {
   "cell_type": "code",
   "execution_count": 12,
   "id": "resident-registration",
   "metadata": {},
   "outputs": [
    {
     "data": {
      "image/png": "[encoded data removed]",
      "text/plain": [
       "<Figure size 720x432 with 1 Axes>"
      ]
     },
     "metadata": {},
     "output_type": "display_data"
    }
   ],
   "source": [
    "x = np.arange(6)\n",
    "plt.bar(x,recs,color=['b', 'b', 'b', 'b', 'g', 'r'])\n",
    "plt.xticks(x,[\"GNB\",\"KNN\",\"RDT\",\"SVM\",\"YES\",\"NOO\"])\n",
    "plt.title(\"Recall Bar Graph of Four Machine Learning Algorithms\", fontsize=16)\n",
    "plt.tight_layout()\n",
    "plt.gca().set_yticklabels(['{:.0f}%'.format(x*100) for x in plt.gca().get_yticks()])\n",
    "plt.savefig('img/recall-norm-bar.png')"
   ]
  },
  {
   "cell_type": "code",
   "execution_count": null,
   "id": "double-karma",
   "metadata": {},
   "outputs": [],
   "source": []
  },
  {
   "cell_type": "code",
   "execution_count": 13,
   "id": "a2aaf342-1fc0-40ce-bbdb-ca25f9bc3217",
   "metadata": {},
   "outputs": [
    {
     "data": {
      "text/plain": [
       "[[0.2398427260812582, 0.23738481790258886, 0.996316758747698],\n",
       " [0.762341633901267, 0.0, 0.0],\n",
       " [0.7675840978593272, 0.5964912280701754, 0.06261510128913444],\n",
       " [0.2669287898645697, 0.24122207022343822, 0.9742173112338858],\n",
       " [0.23722149410222804, 0.23722149410222804, 1.0],\n",
       " [0.762778505897772, 0, 0.0]]"
      ]
     },
     "execution_count": 13,
     "metadata": {},
     "output_type": "execute_result"
    }
   ],
   "source": [
    "mainList = [[0]*3]*len(accs)\n",
    "\n",
    "for i in range(len(accs)):\n",
    "    mainList[i] = [accs[i], pres[i], recs[i]]\n",
    "\n",
    "mainList"
   ]
  },
  {
   "cell_type": "code",
   "execution_count": 14,
   "id": "bd9871e0-71a7-426d-a291-79dc831cf8ec",
   "metadata": {},
   "outputs": [],
   "source": [
    "mainList += [list(MNK_metrics.values())]"
   ]
  },
  {
   "cell_type": "code",
   "execution_count": 15,
   "id": "234f49d6-1fc6-4e12-bd33-d3c91b6d7d68",
   "metadata": {},
   "outputs": [
    {
     "data": {
      "text/plain": [
       "[[0.2398427260812582, 0.23738481790258886, 0.996316758747698],\n",
       " [0.762341633901267, 0.0, 0.0],\n",
       " [0.7675840978593272, 0.5964912280701754, 0.06261510128913444],\n",
       " [0.2669287898645697, 0.24122207022343822, 0.9742173112338858],\n",
       " [0.23722149410222804, 0.23722149410222804, 1.0],\n",
       " [0.762778505897772, 0, 0.0],\n",
       " [0.5111402359108781, 0.2528837622005324, 0.5071174377224199]]"
      ]
     },
     "execution_count": 15,
     "metadata": {},
     "output_type": "execute_result"
    }
   ],
   "source": [
    "mainList"
   ]
  },
  {
   "cell_type": "code",
   "execution_count": 19,
   "id": "6f7a8db7-599c-49e6-aec0-a0feb7e046e3",
   "metadata": {},
   "outputs": [
    {
     "data": {
      "image/png": "[encoded data removed]",
      "text/plain": [
       "<Figure size 1008x1008 with 1 Axes>"
      ]
     },
     "metadata": {},
     "output_type": "display_data"
    }
   ],
   "source": [
    "plt.rcParams[\"figure.figsize\"] = (14,14)\n",
    "\n",
    "columnList = ['Accuracy', 'Precision', 'Recall']\n",
    "algoList = ['Gaussian\\nNaive\\nBayes', 'K-Nearest\\nNeighbour', 'Random\\nDecision\\nTree', 'Support\\nVector\\nMachine', 'Always\\nPredicts\\nPositive', 'Always\\nPredicts\\nNegative', 'Random']\n",
    "df = pd.DataFrame(mainList, columns=columnList, index=algoList)\n",
    "\n",
    "fig = df.plot.barh(rot=0, ylim=[0,1], fontsize=14, width = 0.8, linewidth=0)\n",
    "plt.gcf().suptitle(\"Reliability Metrics for SKLearn ML Algorithms\",fontsize=22)\n",
    "fig.legend(loc=0, prop={'size': 18})\n",
    "plt.tight_layout()\n",
    "fig.figure.savefig(\"./img/SKLearn_Metrics.png\")\n",
    "\n",
    "plt.rcParams[\"figure.figsize\"] = (10,6)"
   ]
  },
  {
   "cell_type": "code",
   "execution_count": null,
   "id": "d8b671e6-3ebe-4934-be0b-3c3afea22bf8",
   "metadata": {},
   "outputs": [],
   "source": []
  }
 ],
 "metadata": {
  "kernelspec": {
   "display_name": "Python 3 (ipykernel)",
   "language": "python",
   "name": "python3"
  },
  "language_info": {
   "codemirror_mode": {
    "name": "ipython",
    "version": 3
   },
   "file_extension": ".py",
   "mimetype": "text/x-python",
   "name": "python",
   "nbconvert_exporter": "python",
   "pygments_lexer": "ipython3",
   "version": "3.8.12"
  }
 },
 "nbformat": 4,
 "nbformat_minor": 5
}
