{
 "cells": [
  {
   "cell_type": "code",
   "execution_count": 1,
   "id": "round-country",
   "metadata": {},
   "outputs": [],
   "source": [
    "################################\n",
    "# Scientific imports\n",
    "################################\n",
    "import gc\n",
    "import matplotlib.pyplot as plt\n",
    "import numpy as np\n",
    "import fnmatch\n",
    "\n",
    "################################\n",
    "# General imports\n",
    "################################\n",
    "import csv, math, io, os, os.path, sys, random, time, json\n",
    "import pandas as pd\n",
    "import seaborn as sb\n",
    "from tqdm.notebook import tqdm, trange\n",
    "\n",
    "################################\n",
    "# SciKitLearn Imports\n",
    "################################\n",
    "import sklearn\n",
    "from sklearn import metrics\n",
    "from sklearn.metrics import confusion_matrix\n",
    "from sklearn.metrics import make_scorer\n",
    "from sklearn.metrics import accuracy_score\n",
    "\n",
    "from IPython.display import display\n",
    "\n",
    "################################\n",
    "# MatPlotLib Settings\n",
    "################################\n",
    "plt.rcParams[\"figure.figsize\"] = (5,5)\n",
    "sb.set()"
   ]
  },
  {
   "cell_type": "code",
   "execution_count": 31,
   "id": "biological-tamil",
   "metadata": {},
   "outputs": [],
   "source": [
    "################################\n",
    "# Functions\n",
    "################################\n",
    "def MakeMatrix(TN, FP, FN, TP):\n",
    "    Matrix = [[0 for x in range(2)] for y in range(2)]\n",
    "    Matrix[0][0] = TN\n",
    "    Matrix[0][1] = FP\n",
    "    Matrix[1][0] = FN\n",
    "    Matrix[1][1] = TP\n",
    "    return(Matrix)\n",
    "\n",
    "def PlotConfusionMatrix(mat, title):\n",
    "    \n",
    "    confMat = sb.heatmap(mat, square=True, annot=True, fmt='d', cbar=False, cmap=\"rocket\",\n",
    "            xticklabels=['Negative','Positive'],\n",
    "            yticklabels=['Negative','Positive'],\n",
    "            annot_kws={\"size\": 20})\n",
    "    \n",
    "    confMat.set_xticklabels(confMat.get_xmajorticklabels(), fontsize = 14)\n",
    "    confMat.set_yticklabels(confMat.get_ymajorticklabels(), fontsize = 14)\n",
    "    \n",
    "    plt.rcParams[\"figure.figsize\"] = (5,5)\n",
    "    sb.set(font_scale=1.3)\n",
    "    \n",
    "    fig = confMat.get_figure() \n",
    "    plt.xlabel('Actual Value', fontsize=16, labelpad=10)\n",
    "    plt.ylabel('Predicted Value', fontsize=16, labelpad=10)\n",
    "    \n",
    "    titleText = \"Confusion Matrix: \"+title\n",
    "    \n",
    "    plt.title(titleText)\n",
    "    \n",
    "    #plt.show()\n",
    "    \n",
    "    targetdest=\"./confusionmatrices/\"\n",
    "    #plt.savefig(targetdest+\"PCA_SVM_Matrix.png\")\n",
    "    plt.savefig(\"{}ConfusionMatrix_{}.png\".format(targetdest,title))"
   ]
  },
  {
   "cell_type": "code",
   "execution_count": 9,
   "id": "f5f1d949-b33a-4ebb-8c77-d07e153bd73a",
   "metadata": {},
   "outputs": [
    {
     "data": {
      "text/plain": [
       "['sklearn-KNN.json',\n",
       " 'sklearn-NB-gauss.json',\n",
       " 'sklearn-RNDTREE.json',\n",
       " 'sklearn-SVM.json']"
      ]
     },
     "execution_count": 9,
     "metadata": {},
     "output_type": "execute_result"
    }
   ],
   "source": [
    "jsonlist = []\n",
    "files = os.listdir('./NEW_RESULTS/')\n",
    "for file in files:\n",
    "    if file.endswith(\".json\"):\n",
    "        jsonlist.append(file)\n",
    "jsonlist"
   ]
  },
  {
   "cell_type": "code",
   "execution_count": 29,
   "id": "urban-latex",
   "metadata": {
    "tags": []
   },
   "outputs": [],
   "source": [
    "keylist = []\n",
    "\n",
    "for jsonfile in jsonlist: \n",
    "    with open(\"./NEW_RESULTS/\"+jsonfile, \"r\") as f:\n",
    "        data = json.load(f)[jsonfile.split(\".json\")[0]]\n",
    "        acc = data[0]['Accuracy']\n",
    "        pre = data[0]['Precision']\n",
    "        rec = data[0]['Recall']\n",
    "        \n",
    "        keylist.append({jsonfile: \n",
    "                                {\n",
    "                                    'acc': acc,\n",
    "                                    'pre': pre,\n",
    "                                    'rec': rec\n",
    "                                }})"
   ]
  },
  {
   "cell_type": "code",
   "execution_count": 36,
   "id": "59c4b335-07fe-44cf-9e4f-f70fc188c1e4",
   "metadata": {},
   "outputs": [
    {
     "data": {
      "text/plain": [
       "([{'sklearn-KNN.json': {'acc': 0.7321428571428571,\n",
       "    'pre': 0.27845884413309985,\n",
       "    'rec': 0.554006968641115}},\n",
       "  {'sklearn-NB-gauss.json': {'acc': 0.21577380952380953,\n",
       "    'pre': 0.14989177489177488,\n",
       "    'rec': 0.9651567944250871}},\n",
       "  {'sklearn-RNDTREE.json': {'acc': 0.8844246031746031,\n",
       "    'pre': 0.875,\n",
       "    'rec': 0.21951219512195122}},\n",
       "  {'sklearn-SVM.json': {'acc': 0.8576388888888888, 'pre': 0.0, 'rec': 0.0}}],\n",
       " {'sklearn-KNN.json': {'acc': 0.7321428571428571,\n",
       "   'pre': 0.27845884413309985,\n",
       "   'rec': 0.554006968641115}})"
      ]
     },
     "execution_count": 36,
     "metadata": {},
     "output_type": "execute_result"
    }
   ],
   "source": [
    "keylist, keylist[0]"
   ]
  },
  {
   "cell_type": "code",
   "execution_count": 164,
   "id": "e7113c97-53b4-4b15-9c48-18897e7bfc88",
   "metadata": {},
   "outputs": [
    {
     "data": {
      "text/plain": [
       "[{'acc': 0.7321428571428571,\n",
       "  'pre': 0.27845884413309985,\n",
       "  'rec': 0.554006968641115},\n",
       " {'acc': 0.21577380952380953,\n",
       "  'pre': 0.14989177489177488,\n",
       "  'rec': 0.9651567944250871},\n",
       " {'acc': 0.8844246031746031, 'pre': 0.875, 'rec': 0.21951219512195122},\n",
       " {'acc': 0.8576388888888888, 'pre': 0.0, 'rec': 0.0}]"
      ]
     },
     "execution_count": 164,
     "metadata": {},
     "output_type": "execute_result"
    }
   ],
   "source": [
    "vallist=[]\n",
    "for i in range(len(keylist)):\n",
    "    q = keylist[i].values()\n",
    "    #print(q)\n",
    "    for j in q:\n",
    "        #print(j)\n",
    "        vallist.append(j)\n",
    "vallist"
   ]
  },
  {
   "cell_type": "code",
   "execution_count": 138,
   "id": "579dc272-6f7a-46f0-8541-4ae990500dd8",
   "metadata": {},
   "outputs": [
    {
     "data": {
      "text/plain": [
       "dict_keys(['acc', 'pre', 'rec'])"
      ]
     },
     "execution_count": 138,
     "metadata": {},
     "output_type": "execute_result"
    }
   ],
   "source": [
    "[[keys.keys() for keys in jsonfile.values()] for jsonfile in keylist][0][0]"
   ]
  },
  {
   "cell_type": "code",
   "execution_count": 150,
   "id": "4e8e3e0c-82d1-4393-a4d6-39f326c67755",
   "metadata": {},
   "outputs": [
    {
     "name": "stdout",
     "output_type": "stream",
     "text": [
      "0.503968253968254\n",
      "0.1466798810703667\n",
      "0.5156794425087108\n"
     ]
    }
   ],
   "source": [
    "algolist=['K-Nearest\\nNeighbour', 'Gaussian\\nNaive\\nBayes', 'Random\\nDecision\\nTree', 'Support\\nVector\\nMachine', 'Always\\nPredicts\\nPositive', 'Always\\nPredicts\\nNegative', 'Random']\n",
    "\n",
    "masterX = np.load(\"True_NOO_fluxes.npy\")\n",
    "masterY = np.load(\"True_NOO_isplanetlist.npy\")\n",
    "\n",
    "from sklearn.model_selection import train_test_split\n",
    "from sklearn.metrics import accuracy_score\n",
    "from sklearn.metrics import precision_score\n",
    "from sklearn.metrics import recall_score\n",
    "\n",
    "X_train, X_test, y_train, y_test = train_test_split(masterX, masterY, random_state=42)\n",
    "\n",
    "y_pred = np.array([round(random.uniform(0, 1)) for x in y_test])\n",
    "yes_y_pred = np.array([1 for x in y_pred])\n",
    "no_y_pred = np.array([0 for x in y_pred])\n",
    "    \n",
    "rnd_acc = accuracy_score(y_test, y_pred)\n",
    "rnd_pre = precision_score(y_test, y_pred)\n",
    "rnd_rec = recall_score(y_test, y_pred)\n",
    "\n",
    "print(f\"{rnd_acc}\\n{rnd_pre}\\n{rnd_rec}\")"
   ]
  },
  {
   "cell_type": "code",
   "execution_count": 170,
   "id": "a80d3f4e-d119-4c38-ada3-f7118d7e9312",
   "metadata": {},
   "outputs": [
    {
     "name": "stderr",
     "output_type": "stream",
     "text": [
      "/home/jdowzell/anaconda3/lib/python3.8/site-packages/sklearn/metrics/_classification.py:1308: UndefinedMetricWarning: Precision is ill-defined and being set to 0.0 due to no predicted samples. Use `zero_division` parameter to control this behavior.\n",
      "  _warn_prf(average, modifier, msg_start, len(result))\n"
     ]
    },
    {
     "data": {
      "text/plain": [
       "({'acc': 0.1423611111111111, 'pre': 0.1423611111111111, 'rec': 1.0},\n",
       " {'acc': 0.8576388888888888, 'pre': 0.0, 'rec': 0.0},\n",
       " {'acc': 0.5044642857142857,\n",
       "  'pre': 0.1482213438735178,\n",
       "  'rec': 0.5226480836236934})"
      ]
     },
     "execution_count": 170,
     "metadata": {},
     "output_type": "execute_result"
    }
   ],
   "source": [
    "pred_yes = {'acc': accuracy_score(y_test, yes_y_pred), 'pre': precision_score(y_test, yes_y_pred), 'rec': recall_score(y_test, yes_y_pred)}\n",
    "pred_no =  {'acc': accuracy_score(y_test, no_y_pred), 'pre': precision_score(y_test, no_y_pred), 'rec': recall_score(y_test, no_y_pred)}\n",
    "pred_rnd = {'acc': 0.5044642857142857, 'pre': 0.1482213438735178, 'rec': 0.5226480836236934}\n",
    "\n",
    "pred_yes, pred_no, pred_rnd"
   ]
  },
  {
   "cell_type": "code",
   "execution_count": 171,
   "id": "09f06cad-783b-4605-ad2a-d1b1e650c300",
   "metadata": {},
   "outputs": [],
   "source": [
    "full_vallist = vallist.extend([pred_yes, pred_no, pred_rnd])"
   ]
  },
  {
   "cell_type": "code",
   "execution_count": 172,
   "id": "a9ca4cfa-282a-4d5a-944b-984c379ce089",
   "metadata": {},
   "outputs": [
    {
     "data": {
      "text/plain": [
       "[{'acc': 0.7321428571428571,\n",
       "  'pre': 0.27845884413309985,\n",
       "  'rec': 0.554006968641115},\n",
       " {'acc': 0.21577380952380953,\n",
       "  'pre': 0.14989177489177488,\n",
       "  'rec': 0.9651567944250871},\n",
       " {'acc': 0.8844246031746031, 'pre': 0.875, 'rec': 0.21951219512195122},\n",
       " {'acc': 0.8576388888888888, 'pre': 0.0, 'rec': 0.0},\n",
       " {'acc': 0.1423611111111111, 'pre': 0.1423611111111111, 'rec': 1.0},\n",
       " {'acc': 0.8576388888888888, 'pre': 0.0, 'rec': 0.0},\n",
       " {'acc': 0.5044642857142857,\n",
       "  'pre': 0.1482213438735178,\n",
       "  'rec': 0.5226480836236934}]"
      ]
     },
     "execution_count": 172,
     "metadata": {},
     "output_type": "execute_result"
    }
   ],
   "source": [
    "vallist"
   ]
  },
  {
   "cell_type": "code",
   "execution_count": 175,
   "id": "82ec7c7a-f574-4cb4-9e73-940308342619",
   "metadata": {},
   "outputs": [
    {
     "data": {
      "text/plain": [
       "['sklearn-KNN.json',\n",
       " 'sklearn-NB-gauss.json',\n",
       " 'sklearn-RNDTREE.json',\n",
       " 'sklearn-SVM.json',\n",
       " 'Always Yes',\n",
       " 'Always No',\n",
       " 'Random']"
      ]
     },
     "execution_count": 175,
     "metadata": {},
     "output_type": "execute_result"
    }
   ],
   "source": [
    "jsonlist\n",
    "full_jsonlist = jsonlist.extend(['Always Yes', 'Always No', 'Random'])\n",
    "jsonlist"
   ]
  },
  {
   "cell_type": "code",
   "execution_count": 181,
   "id": "69c3f0ee-295f-4696-b773-7bcd46242362",
   "metadata": {},
   "outputs": [],
   "source": [
    "algoList = ['K-Nearest\\nNeighbour', 'Gaussian\\nNaive\\nBayes', 'Random\\nDecision\\nTree', 'Support\\nVector\\nMachine', 'Always\\nPredicts\\nPositive', 'Always\\nPredicts\\nNegative', 'Random']"
   ]
  },
  {
   "cell_type": "code",
   "execution_count": 201,
   "id": "competitive-barrier",
   "metadata": {},
   "outputs": [
    {
     "data": {
      "text/html": [
       "<div>\n",
       "<style scoped>\n",
       "    .dataframe tbody tr th:only-of-type {\n",
       "        vertical-align: middle;\n",
       "    }\n",
       "\n",
       "    .dataframe tbody tr th {\n",
       "        vertical-align: top;\n",
       "    }\n",
       "\n",
       "    .dataframe thead th {\n",
       "        text-align: right;\n",
       "    }\n",
       "</style>\n",
       "<table border=\"1\" class=\"dataframe\">\n",
       "  <thead>\n",
       "    <tr style=\"text-align: right;\">\n",
       "      <th></th>\n",
       "      <th>Accuracy</th>\n",
       "      <th>Precision</th>\n",
       "      <th>Recall</th>\n",
       "    </tr>\n",
       "  </thead>\n",
       "  <tbody>\n",
       "    <tr>\n",
       "      <th>K-Nearest\\nNeighbour</th>\n",
       "      <td>0.732143</td>\n",
       "      <td>0.278459</td>\n",
       "      <td>0.554007</td>\n",
       "    </tr>\n",
       "    <tr>\n",
       "      <th>Gaussian\\nNaive\\nBayes</th>\n",
       "      <td>0.215774</td>\n",
       "      <td>0.149892</td>\n",
       "      <td>0.965157</td>\n",
       "    </tr>\n",
       "    <tr>\n",
       "      <th>Random\\nDecision\\nTree</th>\n",
       "      <td>0.884425</td>\n",
       "      <td>0.875000</td>\n",
       "      <td>0.219512</td>\n",
       "    </tr>\n",
       "    <tr>\n",
       "      <th>Support\\nVector\\nMachine</th>\n",
       "      <td>0.857639</td>\n",
       "      <td>0.000000</td>\n",
       "      <td>0.000000</td>\n",
       "    </tr>\n",
       "    <tr>\n",
       "      <th>Always\\nPredicts\\nPositive</th>\n",
       "      <td>0.142361</td>\n",
       "      <td>0.142361</td>\n",
       "      <td>1.000000</td>\n",
       "    </tr>\n",
       "    <tr>\n",
       "      <th>Always\\nPredicts\\nNegative</th>\n",
       "      <td>0.857639</td>\n",
       "      <td>0.000000</td>\n",
       "      <td>0.000000</td>\n",
       "    </tr>\n",
       "    <tr>\n",
       "      <th>Random</th>\n",
       "      <td>0.504464</td>\n",
       "      <td>0.148221</td>\n",
       "      <td>0.522648</td>\n",
       "    </tr>\n",
       "  </tbody>\n",
       "</table>\n",
       "</div>"
      ],
      "text/plain": [
       "                            Accuracy  Precision    Recall\n",
       "K-Nearest\\nNeighbour        0.732143   0.278459  0.554007\n",
       "Gaussian\\nNaive\\nBayes      0.215774   0.149892  0.965157\n",
       "Random\\nDecision\\nTree      0.884425   0.875000  0.219512\n",
       "Support\\nVector\\nMachine    0.857639   0.000000  0.000000\n",
       "Always\\nPredicts\\nPositive  0.142361   0.142361  1.000000\n",
       "Always\\nPredicts\\nNegative  0.857639   0.000000  0.000000\n",
       "Random                      0.504464   0.148221  0.522648"
      ]
     },
     "execution_count": 201,
     "metadata": {},
     "output_type": "execute_result"
    }
   ],
   "source": [
    "df = pd.DataFrame(vallist, index=algolist, columns=[[keys.keys() for keys in jsonfile.values()] for jsonfile in keylist][0][0])\n",
    "df = df.rename(columns={\"acc\": \"Accuracy\", \"pre\": \"Precision\", \"rec\": \"Recall\"})\n",
    "df"
   ]
  },
  {
   "cell_type": "code",
   "execution_count": 202,
   "id": "9edea3f2-b3a0-4820-a248-a7058855614d",
   "metadata": {},
   "outputs": [
    {
     "data": {
      "image/png": "[encoded data removed]",
      "text/plain": [
       "<Figure size 1008x720 with 1 Axes>"
      ]
     },
     "metadata": {},
     "output_type": "display_data"
    }
   ],
   "source": [
    "plt.rcParams[\"figure.figsize\"] = (14,10)\n",
    "\n",
    "#df.reset_index(inplace=True)\n",
    "fig = df.plot.barh(rot=0, ylim=[0,1], fontsize=14, width = 0.8, linewidth=0)\n",
    "plt.gcf().suptitle(\"Reliability Metrics for SKLearn ML Algorithms\",fontsize=22)\n",
    "plt.gca().invert_yaxis()\n",
    "fig.legend(loc=0, prop={'size': 18})\n",
    "plt.tight_layout()\n",
    "fig.figure.savefig(\"./img/SKLearn_Metrics_BETTER.png\")\n",
    "\n",
    "plt.rcParams[\"figure.figsize\"] = (10,6)"
   ]
  },
  {
   "cell_type": "code",
   "execution_count": 2,
   "id": "e388eb81-aafa-49a8-bcf7-197c5bd2ebe7",
   "metadata": {},
   "outputs": [],
   "source": [
    "import numpy as np\n",
    "\n",
    "masterX = np.load(\"True_NOO_fluxes.npy\")\n"
   ]
  },
  {
   "cell_type": "code",
   "execution_count": 3,
   "id": "f26d7584-3206-4aaf-b521-86b8144c8909",
   "metadata": {},
   "outputs": [
    {
     "data": {
      "text/plain": [
       "[<matplotlib.lines.Line2D at 0x7fbc0c554070>]"
      ]
     },
     "execution_count": 3,
     "metadata": {},
     "output_type": "execute_result"
    },
    {
     "data": {
      "image/png": "[encoded data removed]",
      "text/plain": [
       "<Figure size 432x288 with 1 Axes>"
      ]
     },
     "metadata": {
      "needs_background": "light"
     },
     "output_type": "display_data"
    }
   ],
   "source": [
    "import matplotlib.pyplot as plt\n",
    "\n",
    "plt.plot(masterX[0])"
   ]
  },
  {
   "cell_type": "code",
   "execution_count": 6,
   "id": "b149edce-3891-45eb-ae54-b3a8b0451f29",
   "metadata": {},
   "outputs": [],
   "source": [
    "from sklearn.preprocessing import FunctionTransformer\n",
    "from sktime.datatypes._panel._convert import from_2d_array_to_nested, from_nested_to_2d_array, is_nested_dataframe\n",
    "\n",
    "def MakeNested(masterX):\n",
    "\n",
    "    X_nested = from_2d_array_to_nested(np.array(masterX))\n",
    "    \n",
    "    return X_nested\n",
    "\n",
    "mnst = FunctionTransformer(MakeNested)"
   ]
  },
  {
   "cell_type": "code",
   "execution_count": 10,
   "id": "3c080164-2d4e-4bf2-81e1-11a1f3e05479",
   "metadata": {},
   "outputs": [],
   "source": [
    "X_arr = mnst.transform(masterX)"
   ]
  },
  {
   "cell_type": "code",
   "execution_count": 25,
   "id": "2856a24f-5ba0-4830-809f-065d2894a2db",
   "metadata": {},
   "outputs": [],
   "source": [
    "testX = from_nested_to_2d_array(X_arr, True)"
   ]
  },
  {
   "cell_type": "code",
   "execution_count": 26,
   "id": "4b17f85a-f6be-4ec9-8e1e-6e216b3552f8",
   "metadata": {},
   "outputs": [
    {
     "data": {
      "text/plain": [
       "(array([27859.346, 27856.885, 27849.662, ..., 27851.479, 27877.145,\n",
       "        27894.836], dtype=float32),\n",
       " array([27859.346, 27856.885, 27849.662, ..., 27851.479, 27877.145,\n",
       "        27894.836], dtype=float32))"
      ]
     },
     "execution_count": 26,
     "metadata": {},
     "output_type": "execute_result"
    }
   ],
   "source": [
    "masterX[0], testX[0]"
   ]
  },
  {
   "cell_type": "code",
   "execution_count": 27,
   "id": "38158b17-418b-4a4c-8306-9d499250459e",
   "metadata": {},
   "outputs": [],
   "source": [
    "Y_arr = np.load(\"True_NOO_isplanetlist.npy\")"
   ]
  },
  {
   "cell_type": "code",
   "execution_count": 28,
   "id": "cab2621e-e64b-4af7-aef5-459ac6f78979",
   "metadata": {},
   "outputs": [],
   "source": [
    "from sklearn.model_selection import train_test_split\n",
    "X_train, X_test, y_train, y_test = train_test_split(X_arr, Y_arr, random_state=42)"
   ]
  },
  {
   "cell_type": "code",
   "execution_count": 29,
   "id": "dc817580-068b-4526-a4ca-c924185ecd7d",
   "metadata": {},
   "outputs": [
    {
     "data": {
      "text/html": [
       "<div>\n",
       "<style scoped>\n",
       "    .dataframe tbody tr th:only-of-type {\n",
       "        vertical-align: middle;\n",
       "    }\n",
       "\n",
       "    .dataframe tbody tr th {\n",
       "        vertical-align: top;\n",
       "    }\n",
       "\n",
       "    .dataframe thead th {\n",
       "        text-align: right;\n",
       "    }\n",
       "</style>\n",
       "<table border=\"1\" class=\"dataframe\">\n",
       "  <thead>\n",
       "    <tr style=\"text-align: right;\">\n",
       "      <th></th>\n",
       "      <th>0</th>\n",
       "    </tr>\n",
       "  </thead>\n",
       "  <tbody>\n",
       "    <tr>\n",
       "      <th>2842</th>\n",
       "      <td>0        29198.369141\n",
       "1        29205.552734\n",
       "2 ...</td>\n",
       "    </tr>\n",
       "    <tr>\n",
       "      <th>1049</th>\n",
       "      <td>0        8752.197266\n",
       "1        8787.105469\n",
       "2   ...</td>\n",
       "    </tr>\n",
       "    <tr>\n",
       "      <th>626</th>\n",
       "      <td>0        156541.890625\n",
       "1        156601.859375\n",
       "...</td>\n",
       "    </tr>\n",
       "    <tr>\n",
       "      <th>1775</th>\n",
       "      <td>0        625859.3750\n",
       "1        625644.1875\n",
       "2   ...</td>\n",
       "    </tr>\n",
       "    <tr>\n",
       "      <th>7655</th>\n",
       "      <td>0        36737.398438\n",
       "1        36748.078125\n",
       "2 ...</td>\n",
       "    </tr>\n",
       "    <tr>\n",
       "      <th>...</th>\n",
       "      <td>...</td>\n",
       "    </tr>\n",
       "    <tr>\n",
       "      <th>5226</th>\n",
       "      <td>0        28149.208984\n",
       "1        28182.179688\n",
       "2 ...</td>\n",
       "    </tr>\n",
       "    <tr>\n",
       "      <th>5390</th>\n",
       "      <td>0        5939.955078\n",
       "1        6014.410156\n",
       "2   ...</td>\n",
       "    </tr>\n",
       "    <tr>\n",
       "      <th>860</th>\n",
       "      <td>0        4552.067383\n",
       "1        4531.709961\n",
       "2   ...</td>\n",
       "    </tr>\n",
       "    <tr>\n",
       "      <th>7603</th>\n",
       "      <td>0        3293741.50\n",
       "1        3294355.00\n",
       "2     ...</td>\n",
       "    </tr>\n",
       "    <tr>\n",
       "      <th>7270</th>\n",
       "      <td>0        11927.437500\n",
       "1        11928.344727\n",
       "2 ...</td>\n",
       "    </tr>\n",
       "  </tbody>\n",
       "</table>\n",
       "<p>6047 rows × 1 columns</p>\n",
       "</div>"
      ],
      "text/plain": [
       "                                                      0\n",
       "2842  0        29198.369141\n",
       "1        29205.552734\n",
       "2 ...\n",
       "1049  0        8752.197266\n",
       "1        8787.105469\n",
       "2   ...\n",
       "626   0        156541.890625\n",
       "1        156601.859375\n",
       "...\n",
       "1775  0        625859.3750\n",
       "1        625644.1875\n",
       "2   ...\n",
       "7655  0        36737.398438\n",
       "1        36748.078125\n",
       "2 ...\n",
       "...                                                 ...\n",
       "5226  0        28149.208984\n",
       "1        28182.179688\n",
       "2 ...\n",
       "5390  0        5939.955078\n",
       "1        6014.410156\n",
       "2   ...\n",
       "860   0        4552.067383\n",
       "1        4531.709961\n",
       "2   ...\n",
       "7603  0        3293741.50\n",
       "1        3294355.00\n",
       "2     ...\n",
       "7270  0        11927.437500\n",
       "1        11928.344727\n",
       "2 ...\n",
       "\n",
       "[6047 rows x 1 columns]"
      ]
     },
     "execution_count": 29,
     "metadata": {},
     "output_type": "execute_result"
    }
   ],
   "source": [
    "X_train"
   ]
  },
  {
   "cell_type": "code",
   "execution_count": null,
   "id": "c8ae2503-d0c6-4dca-98ca-acbf12973c26",
   "metadata": {},
   "outputs": [],
   "source": []
  }
 ],
 "metadata": {
  "kernelspec": {
   "display_name": "Python 3 (ipykernel)",
   "language": "python",
   "name": "python3"
  },
  "language_info": {
   "codemirror_mode": {
    "name": "ipython",
    "version": 3
   },
   "file_extension": ".py",
   "mimetype": "text/x-python",
   "name": "python",
   "nbconvert_exporter": "python",
   "pygments_lexer": "ipython3",
   "version": "3.8.12"
  }
 },
 "nbformat": 4,
 "nbformat_minor": 5
}
