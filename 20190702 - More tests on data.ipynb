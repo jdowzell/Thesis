{
 "cells": [
  {
   "cell_type": "markdown",
   "metadata": {
    "deletable": true,
    "editable": true
   },
   "source": [
    "## Import the Necessary Stuff"
   ]
  },
  {
   "cell_type": "code",
   "execution_count": 95,
   "metadata": {
    "collapsed": false,
    "deletable": true,
    "editable": true,
    "jupyter": {
     "outputs_hidden": false
    }
   },
   "outputs": [],
   "source": [
    "import csv\n",
    "import math\n",
    "import os, os.path\n",
    "import io\n",
    "import sys\n",
    "import pandas as pd\n",
    "import seaborn as sb\n",
    "import matplotlib.pyplot as plt\n",
    "import numpy as np\n",
    "from sklearn import metrics\n",
    "from IPython.display import display\n",
    "\n",
    "%matplotlib inline"
   ]
  },
  {
   "cell_type": "markdown",
   "metadata": {
    "deletable": true,
    "editable": true
   },
   "source": [
    "### Streamline the reading of the CSV file (Thanks Dr. Munroe!)"
   ]
  },
  {
   "cell_type": "code",
   "execution_count": 3,
   "metadata": {
    "collapsed": false,
    "deletable": true,
    "editable": true,
    "jupyter": {
     "outputs_hidden": false
    }
   },
   "outputs": [
    {
     "name": "stdout",
     "output_type": "stream",
     "text": [
      "kepid KepID\n",
      "kepoi_name KOI Name\n",
      "koi_period Orbital Period [days]\n",
      "koi_period_err1 Orbital Period Upper Unc. [days]\n",
      "koi_prad Planetary Radius [Earth radii]\n",
      "koi_prad_err1 Planetary Radius Upper Unc. [Earth radii]\n",
      "koi_teq Equilibrium Temperature [K]\n",
      "koi_insol Insolation Flux [Earth flux]\n",
      "koi_insol_err1 Insolation Flux Upper Unc. [Earth flux]\n",
      "koi_steff Stellar Effective Temperature [K]\n",
      "koi_steff_err1 Stellar Effective Temperature Upper Unc. [K]\n",
      "koi_slogg Stellar Surface Gravity [log10(cm/s**2)]\n",
      "koi_slogg_err1 Stellar Surface Gravity Upper Unc. [log10(cm/s**2)]\n",
      "koi_srad Stellar Radius [Solar radii]\n",
      "koi_srad_err1 Stellar Radius Upper Unc. [Solar radii]\n"
     ]
    }
   ],
   "source": [
    "csv_filename = \"./Data/exoplanetarchive/candidates-20190613-TIDIED.csv\"\n",
    "longnames = {}\n",
    "with open(csv_filename, 'r') as f:\n",
    "    lines = f.readlines()\n",
    "    for line in lines[8:23]:\n",
    "        varname, longname = line.strip().split(':')\n",
    "        varname = varname[9:].strip()\n",
    "        longname = longname.replace(',', '').strip()\n",
    "        print(varname, longname)\n",
    "        longnames[varname] = longname"
   ]
  },
  {
   "cell_type": "code",
   "execution_count": 5,
   "metadata": {
    "collapsed": false,
    "deletable": true,
    "editable": true,
    "jupyter": {
     "outputs_hidden": false
    }
   },
   "outputs": [
    {
     "data": {
      "text/html": [
       "<div>\n",
       "<table border=\"1\" class=\"dataframe\">\n",
       "  <thead>\n",
       "    <tr style=\"text-align: right;\">\n",
       "      <th></th>\n",
       "      <th>kepid</th>\n",
       "      <th>kepoi_name</th>\n",
       "      <th>koi_period</th>\n",
       "      <th>koi_period_err1</th>\n",
       "      <th>koi_prad</th>\n",
       "      <th>koi_prad_err1</th>\n",
       "      <th>koi_teq</th>\n",
       "      <th>koi_insol</th>\n",
       "      <th>koi_insol_err1</th>\n",
       "      <th>koi_steff</th>\n",
       "      <th>koi_steff_err1</th>\n",
       "      <th>koi_slogg</th>\n",
       "      <th>koi_slogg_err1</th>\n",
       "      <th>koi_srad</th>\n",
       "      <th>koi_srad_err1</th>\n",
       "    </tr>\n",
       "  </thead>\n",
       "  <tbody>\n",
       "    <tr>\n",
       "      <th>0</th>\n",
       "      <td>1025986</td>\n",
       "      <td>K07621.01</td>\n",
       "      <td>275.073650</td>\n",
       "      <td>0.039280</td>\n",
       "      <td>1.86</td>\n",
       "      <td>0.33</td>\n",
       "      <td>303.0</td>\n",
       "      <td>2.00</td>\n",
       "      <td>0.92</td>\n",
       "      <td>5604.0</td>\n",
       "      <td>84.0</td>\n",
       "      <td>4.226</td>\n",
       "      <td>0.208</td>\n",
       "      <td>1.187</td>\n",
       "      <td>0.207</td>\n",
       "    </tr>\n",
       "    <tr>\n",
       "      <th>1</th>\n",
       "      <td>1026957</td>\n",
       "      <td>K00958.01</td>\n",
       "      <td>21.761298</td>\n",
       "      <td>0.000017</td>\n",
       "      <td>2.53</td>\n",
       "      <td>0.16</td>\n",
       "      <td>486.0</td>\n",
       "      <td>13.18</td>\n",
       "      <td>3.00</td>\n",
       "      <td>4859.0</td>\n",
       "      <td>97.0</td>\n",
       "      <td>4.612</td>\n",
       "      <td>0.015</td>\n",
       "      <td>0.720</td>\n",
       "      <td>0.047</td>\n",
       "    </tr>\n",
       "    <tr>\n",
       "      <th>2</th>\n",
       "      <td>1161345</td>\n",
       "      <td>K00984.01</td>\n",
       "      <td>4.287467</td>\n",
       "      <td>0.000015</td>\n",
       "      <td>2.29</td>\n",
       "      <td>0.22</td>\n",
       "      <td>942.0</td>\n",
       "      <td>186.31</td>\n",
       "      <td>56.73</td>\n",
       "      <td>5296.0</td>\n",
       "      <td>105.0</td>\n",
       "      <td>4.576</td>\n",
       "      <td>0.015</td>\n",
       "      <td>0.815</td>\n",
       "      <td>0.080</td>\n",
       "    </tr>\n",
       "    <tr>\n",
       "      <th>3</th>\n",
       "      <td>1164301</td>\n",
       "      <td>K04921.01</td>\n",
       "      <td>95.688682</td>\n",
       "      <td>0.003599</td>\n",
       "      <td>28.41</td>\n",
       "      <td>1.13</td>\n",
       "      <td>1046.0</td>\n",
       "      <td>283.07</td>\n",
       "      <td>37.83</td>\n",
       "      <td>5040.0</td>\n",
       "      <td>60.0</td>\n",
       "      <td>2.681</td>\n",
       "      <td>0.029</td>\n",
       "      <td>13.056</td>\n",
       "      <td>0.520</td>\n",
       "    </tr>\n",
       "    <tr>\n",
       "      <th>4</th>\n",
       "      <td>1293379</td>\n",
       "      <td>K06253.01</td>\n",
       "      <td>27.556452</td>\n",
       "      <td>0.002928</td>\n",
       "      <td>1.40</td>\n",
       "      <td>0.54</td>\n",
       "      <td>531.0</td>\n",
       "      <td>18.86</td>\n",
       "      <td>22.40</td>\n",
       "      <td>5509.0</td>\n",
       "      <td>184.0</td>\n",
       "      <td>4.565</td>\n",
       "      <td>0.024</td>\n",
       "      <td>0.836</td>\n",
       "      <td>0.322</td>\n",
       "    </tr>\n",
       "  </tbody>\n",
       "</table>\n",
       "</div>"
      ],
      "text/plain": [
       "     kepid kepoi_name  koi_period  koi_period_err1  koi_prad  koi_prad_err1  \\\n",
       "0  1025986  K07621.01  275.073650         0.039280      1.86           0.33   \n",
       "1  1026957  K00958.01   21.761298         0.000017      2.53           0.16   \n",
       "2  1161345  K00984.01    4.287467         0.000015      2.29           0.22   \n",
       "3  1164301  K04921.01   95.688682         0.003599     28.41           1.13   \n",
       "4  1293379  K06253.01   27.556452         0.002928      1.40           0.54   \n",
       "\n",
       "   koi_teq  koi_insol  koi_insol_err1  koi_steff  koi_steff_err1  koi_slogg  \\\n",
       "0    303.0       2.00            0.92     5604.0            84.0      4.226   \n",
       "1    486.0      13.18            3.00     4859.0            97.0      4.612   \n",
       "2    942.0     186.31           56.73     5296.0           105.0      4.576   \n",
       "3   1046.0     283.07           37.83     5040.0            60.0      2.681   \n",
       "4    531.0      18.86           22.40     5509.0           184.0      4.565   \n",
       "\n",
       "   koi_slogg_err1  koi_srad  koi_srad_err1  \n",
       "0           0.208     1.187          0.207  \n",
       "1           0.015     0.720          0.047  \n",
       "2           0.015     0.815          0.080  \n",
       "3           0.029    13.056          0.520  \n",
       "4           0.024     0.836          0.322  "
      ]
     },
     "execution_count": 5,
     "metadata": {},
     "output_type": "execute_result"
    }
   ],
   "source": [
    "dataset = pd.read_csv(csv_filename, header = 24)\n",
    "dataset.head()"
   ]
  },
  {
   "cell_type": "markdown",
   "metadata": {
    "deletable": true,
    "editable": true
   },
   "source": [
    "### Making the NEW dataset"
   ]
  },
  {
   "cell_type": "code",
   "execution_count": 7,
   "metadata": {
    "collapsed": false,
    "deletable": true,
    "editable": true,
    "jupyter": {
     "outputs_hidden": false
    }
   },
   "outputs": [
    {
     "data": {
      "text/html": [
       "<div>\n",
       "<table border=\"1\" class=\"dataframe\">\n",
       "  <thead>\n",
       "    <tr style=\"text-align: right;\">\n",
       "      <th></th>\n",
       "      <th>kepoi_name</th>\n",
       "      <th>koi_prad</th>\n",
       "      <th>koi_teq</th>\n",
       "      <th>koi_insol</th>\n",
       "      <th>koi_srad</th>\n",
       "    </tr>\n",
       "  </thead>\n",
       "  <tbody>\n",
       "    <tr>\n",
       "      <th>0</th>\n",
       "      <td>K07621.01</td>\n",
       "      <td>1.86</td>\n",
       "      <td>303.0</td>\n",
       "      <td>2.00</td>\n",
       "      <td>1.187</td>\n",
       "    </tr>\n",
       "    <tr>\n",
       "      <th>1</th>\n",
       "      <td>K00958.01</td>\n",
       "      <td>2.53</td>\n",
       "      <td>486.0</td>\n",
       "      <td>13.18</td>\n",
       "      <td>0.720</td>\n",
       "    </tr>\n",
       "    <tr>\n",
       "      <th>2</th>\n",
       "      <td>K00984.01</td>\n",
       "      <td>2.29</td>\n",
       "      <td>942.0</td>\n",
       "      <td>186.31</td>\n",
       "      <td>0.815</td>\n",
       "    </tr>\n",
       "    <tr>\n",
       "      <th>3</th>\n",
       "      <td>K04921.01</td>\n",
       "      <td>28.41</td>\n",
       "      <td>1046.0</td>\n",
       "      <td>283.07</td>\n",
       "      <td>13.056</td>\n",
       "    </tr>\n",
       "    <tr>\n",
       "      <th>4</th>\n",
       "      <td>K06253.01</td>\n",
       "      <td>1.40</td>\n",
       "      <td>531.0</td>\n",
       "      <td>18.86</td>\n",
       "      <td>0.836</td>\n",
       "    </tr>\n",
       "  </tbody>\n",
       "</table>\n",
       "</div>"
      ],
      "text/plain": [
       "  kepoi_name  koi_prad  koi_teq  koi_insol  koi_srad\n",
       "0  K07621.01      1.86    303.0       2.00     1.187\n",
       "1  K00958.01      2.53    486.0      13.18     0.720\n",
       "2  K00984.01      2.29    942.0     186.31     0.815\n",
       "3  K04921.01     28.41   1046.0     283.07    13.056\n",
       "4  K06253.01      1.40    531.0      18.86     0.836"
      ]
     },
     "execution_count": 7,
     "metadata": {},
     "output_type": "execute_result"
    }
   ],
   "source": [
    "goldilocks_dataset = dataset.drop(['kepid',\n",
    "                                   'koi_period',\n",
    "                                   'koi_period_err1',\n",
    "                                   'koi_prad_err1',\n",
    "                                   #'koi_insol',\n",
    "                                   'koi_insol_err1', \n",
    "                                   'koi_steff',\n",
    "                                   'koi_steff_err1',\n",
    "                                   'koi_slogg',\n",
    "                                   'koi_slogg_err1',\n",
    "                                   #'koi_srad',\n",
    "                                   'koi_srad_err1'],\n",
    "                                  axis=1).copy()\n",
    "goldilocks_dataset.head()"
   ]
  },
  {
   "cell_type": "markdown",
   "metadata": {
    "deletable": true,
    "editable": true
   },
   "source": [
    "#### Let's define the Goldilocks temperature function"
   ]
  },
  {
   "cell_type": "code",
   "execution_count": 44,
   "metadata": {
    "collapsed": true,
    "deletable": true,
    "editable": true,
    "jupyter": {
     "outputs_hidden": true
    }
   },
   "outputs": [],
   "source": [
    "140.82.114.3def goldilocks_temp(t):\n",
    "    if t < 273:\n",
    "        return -1;\n",
    "    elif t > 373:\n",
    "        return 1;\n",
    "    else:\n",
    "        return 0"
   ]
  },
  {
   "cell_type": "markdown",
   "metadata": {
    "deletable": true,
    "editable": true
   },
   "source": [
    "#### Time to make sure that I understand the Pythonic way of making new columns, using the MAP function"
   ]
  },
  {
   "cell_type": "code",
   "execution_count": 84,
   "metadata": {
    "collapsed": false,
    "deletable": true,
    "editable": true,
    "jupyter": {
     "outputs_hidden": false
    }
   },
   "outputs": [],
   "source": [
    "goldilocks_dataset[\"gold_temp\"] = list(map(goldilocks_temp, goldilocks_dataset[\"koi_teq\"]))"
   ]
  },
  {
   "cell_type": "code",
   "execution_count": 154,
   "metadata": {
    "collapsed": false,
    "deletable": true,
    "editable": true,
    "jupyter": {
     "outputs_hidden": false
    }
   },
   "outputs": [
    {
     "data": {
      "text/html": [
       "<div>\n",
       "<table border=\"1\" class=\"dataframe\">\n",
       "  <thead>\n",
       "    <tr style=\"text-align: right;\">\n",
       "      <th></th>\n",
       "      <th>kepoi_name</th>\n",
       "      <th>koi_prad</th>\n",
       "      <th>koi_teq</th>\n",
       "      <th>koi_insol</th>\n",
       "      <th>koi_srad</th>\n",
       "      <th>gold_temp</th>\n",
       "    </tr>\n",
       "  </thead>\n",
       "  <tbody>\n",
       "    <tr>\n",
       "      <th>0</th>\n",
       "      <td>K07621.01</td>\n",
       "      <td>1.86</td>\n",
       "      <td>303.0</td>\n",
       "      <td>2.00</td>\n",
       "      <td>1.187</td>\n",
       "      <td>0</td>\n",
       "    </tr>\n",
       "    <tr>\n",
       "      <th>1</th>\n",
       "      <td>K00958.01</td>\n",
       "      <td>2.53</td>\n",
       "      <td>486.0</td>\n",
       "      <td>13.18</td>\n",
       "      <td>0.720</td>\n",
       "      <td>1</td>\n",
       "    </tr>\n",
       "    <tr>\n",
       "      <th>2</th>\n",
       "      <td>K00984.01</td>\n",
       "      <td>2.29</td>\n",
       "      <td>942.0</td>\n",
       "      <td>186.31</td>\n",
       "      <td>0.815</td>\n",
       "      <td>1</td>\n",
       "    </tr>\n",
       "    <tr>\n",
       "      <th>3</th>\n",
       "      <td>K04921.01</td>\n",
       "      <td>28.41</td>\n",
       "      <td>1046.0</td>\n",
       "      <td>283.07</td>\n",
       "      <td>13.056</td>\n",
       "      <td>1</td>\n",
       "    </tr>\n",
       "    <tr>\n",
       "      <th>4</th>\n",
       "      <td>K06253.01</td>\n",
       "      <td>1.40</td>\n",
       "      <td>531.0</td>\n",
       "      <td>18.86</td>\n",
       "      <td>0.836</td>\n",
       "      <td>1</td>\n",
       "    </tr>\n",
       "  </tbody>\n",
       "</table>\n",
       "</div>"
      ],
      "text/plain": [
       "  kepoi_name  koi_prad  koi_teq  koi_insol  koi_srad  gold_temp\n",
       "0  K07621.01      1.86    303.0       2.00     1.187          0\n",
       "1  K00958.01      2.53    486.0      13.18     0.720          1\n",
       "2  K00984.01      2.29    942.0     186.31     0.815          1\n",
       "3  K04921.01     28.41   1046.0     283.07    13.056          1\n",
       "4  K06253.01      1.40    531.0      18.86     0.836          1"
      ]
     },
     "execution_count": 154,
     "metadata": {},
     "output_type": "execute_result"
    }
   ],
   "source": [
    "goldilocks_dataset = goldilocks_dataset.dropna()\n",
    "goldilocks_dataset.head()"
   ]
  },
  {
   "cell_type": "code",
   "execution_count": 155,
   "metadata": {
    "collapsed": true,
    "deletable": true,
    "editable": true,
    "jupyter": {
     "outputs_hidden": true
    }
   },
   "outputs": [],
   "source": [
    "goldX = goldilocks_dataset.drop([\"kepoi_name\",\"koi_teq\",\"gold_temp\"], axis=1)\n",
    "goldY = goldilocks_dataset['gold_temp']"
   ]
  },
  {
   "cell_type": "code",
   "execution_count": 156,
   "metadata": {
    "collapsed": false,
    "deletable": true,
    "editable": true,
    "jupyter": {
     "outputs_hidden": false
    }
   },
   "outputs": [
    {
     "data": {
      "text/html": [
       "<div>\n",
       "<table border=\"1\" class=\"dataframe\">\n",
       "  <thead>\n",
       "    <tr style=\"text-align: right;\">\n",
       "      <th></th>\n",
       "      <th>koi_prad</th>\n",
       "      <th>koi_insol</th>\n",
       "      <th>koi_srad</th>\n",
       "    </tr>\n",
       "  </thead>\n",
       "  <tbody>\n",
       "    <tr>\n",
       "      <th>0</th>\n",
       "      <td>1.86</td>\n",
       "      <td>2.00</td>\n",
       "      <td>1.187</td>\n",
       "    </tr>\n",
       "    <tr>\n",
       "      <th>1</th>\n",
       "      <td>2.53</td>\n",
       "      <td>13.18</td>\n",
       "      <td>0.720</td>\n",
       "    </tr>\n",
       "    <tr>\n",
       "      <th>2</th>\n",
       "      <td>2.29</td>\n",
       "      <td>186.31</td>\n",
       "      <td>0.815</td>\n",
       "    </tr>\n",
       "    <tr>\n",
       "      <th>3</th>\n",
       "      <td>28.41</td>\n",
       "      <td>283.07</td>\n",
       "      <td>13.056</td>\n",
       "    </tr>\n",
       "    <tr>\n",
       "      <th>4</th>\n",
       "      <td>1.40</td>\n",
       "      <td>18.86</td>\n",
       "      <td>0.836</td>\n",
       "    </tr>\n",
       "  </tbody>\n",
       "</table>\n",
       "</div>"
      ],
      "text/plain": [
       "   koi_prad  koi_insol  koi_srad\n",
       "0      1.86       2.00     1.187\n",
       "1      2.53      13.18     0.720\n",
       "2      2.29     186.31     0.815\n",
       "3     28.41     283.07    13.056\n",
       "4      1.40      18.86     0.836"
      ]
     },
     "metadata": {},
     "output_type": "display_data"
    },
    {
     "data": {
      "text/html": [
       "<div>\n",
       "<table border=\"1\" class=\"dataframe\">\n",
       "  <thead>\n",
       "    <tr style=\"text-align: right;\">\n",
       "      <th></th>\n",
       "      <th>koi_prad</th>\n",
       "      <th>koi_insol</th>\n",
       "      <th>koi_srad</th>\n",
       "    </tr>\n",
       "  </thead>\n",
       "  <tbody>\n",
       "    <tr>\n",
       "      <th>2313</th>\n",
       "      <td>3.32</td>\n",
       "      <td>2.72</td>\n",
       "      <td>1.170</td>\n",
       "    </tr>\n",
       "    <tr>\n",
       "      <th>2314</th>\n",
       "      <td>0.89</td>\n",
       "      <td>29.06</td>\n",
       "      <td>1.076</td>\n",
       "    </tr>\n",
       "    <tr>\n",
       "      <th>2315</th>\n",
       "      <td>1.76</td>\n",
       "      <td>91.32</td>\n",
       "      <td>1.554</td>\n",
       "    </tr>\n",
       "    <tr>\n",
       "      <th>2316</th>\n",
       "      <td>1.62</td>\n",
       "      <td>5.85</td>\n",
       "      <td>0.790</td>\n",
       "    </tr>\n",
       "    <tr>\n",
       "      <th>2317</th>\n",
       "      <td>2.17</td>\n",
       "      <td>1.63</td>\n",
       "      <td>0.736</td>\n",
       "    </tr>\n",
       "  </tbody>\n",
       "</table>\n",
       "</div>"
      ],
      "text/plain": [
       "      koi_prad  koi_insol  koi_srad\n",
       "2313      3.32       2.72     1.170\n",
       "2314      0.89      29.06     1.076\n",
       "2315      1.76      91.32     1.554\n",
       "2316      1.62       5.85     0.790\n",
       "2317      2.17       1.63     0.736"
      ]
     },
     "metadata": {},
     "output_type": "display_data"
    }
   ],
   "source": [
    "display(goldX.head())\n",
    "display(goldX.tail())"
   ]
  },
  {
   "cell_type": "code",
   "execution_count": 145,
   "metadata": {
    "collapsed": false,
    "deletable": true,
    "editable": true,
    "jupyter": {
     "outputs_hidden": false
    }
   },
   "outputs": [
    {
     "data": {
      "text/plain": [
       "0    0\n",
       "1    1\n",
       "2    1\n",
       "3    1\n",
       "4    1\n",
       "Name: gold_temp, dtype: int64"
      ]
     },
     "execution_count": 145,
     "metadata": {},
     "output_type": "execute_result"
    }
   ],
   "source": [
    "goldY.head()"
   ]
  },
  {
   "cell_type": "code",
   "execution_count": 148,
   "metadata": {
    "collapsed": false,
    "deletable": true,
    "editable": true,
    "jupyter": {
     "outputs_hidden": false
    }
   },
   "outputs": [],
   "source": [
    "testCols = goldX.columns.copy()"
   ]
  },
  {
   "cell_type": "code",
   "execution_count": 113,
   "metadata": {
    "collapsed": false,
    "deletable": true,
    "editable": true,
    "jupyter": {
     "outputs_hidden": false
    }
   },
   "outputs": [
    {
     "data": {
      "text/plain": [
       "['Planetary Radius [Earth radii]',\n",
       " 'Insolation Flux [Earth flux]',\n",
       " 'Stellar Radius [Solar radii]']"
      ]
     },
     "execution_count": 113,
     "metadata": {},
     "output_type": "execute_result"
    }
   ],
   "source": [
    "newCols = [longnames[x] for x in testCols]\n",
    "newCols"
   ]
  },
  {
   "cell_type": "markdown",
   "metadata": {
    "deletable": true,
    "editable": true
   },
   "source": [
    "Can I do the above two cells in one step?\n",
    "\n",
    "(NOTE: Before running the code below, re-run the 8th cell!!!)"
   ]
  },
  {
   "cell_type": "code",
   "execution_count": 158,
   "metadata": {
    "collapsed": false,
    "deletable": true,
    "editable": true,
    "jupyter": {
     "outputs_hidden": false
    }
   },
   "outputs": [
    {
     "data": {
      "text/html": [
       "<div>\n",
       "<table border=\"1\" class=\"dataframe\">\n",
       "  <thead>\n",
       "    <tr style=\"text-align: right;\">\n",
       "      <th></th>\n",
       "      <th>Planetary Radius [Earth radii]</th>\n",
       "      <th>Insolation Flux [Earth flux]</th>\n",
       "      <th>Stellar Radius [Solar radii]</th>\n",
       "    </tr>\n",
       "  </thead>\n",
       "  <tbody>\n",
       "    <tr>\n",
       "      <th>0</th>\n",
       "      <td>1.86</td>\n",
       "      <td>2.00</td>\n",
       "      <td>1.187</td>\n",
       "    </tr>\n",
       "    <tr>\n",
       "      <th>1</th>\n",
       "      <td>2.53</td>\n",
       "      <td>13.18</td>\n",
       "      <td>0.720</td>\n",
       "    </tr>\n",
       "    <tr>\n",
       "      <th>2</th>\n",
       "      <td>2.29</td>\n",
       "      <td>186.31</td>\n",
       "      <td>0.815</td>\n",
       "    </tr>\n",
       "    <tr>\n",
       "      <th>3</th>\n",
       "      <td>28.41</td>\n",
       "      <td>283.07</td>\n",
       "      <td>13.056</td>\n",
       "    </tr>\n",
       "    <tr>\n",
       "      <th>4</th>\n",
       "      <td>1.40</td>\n",
       "      <td>18.86</td>\n",
       "      <td>0.836</td>\n",
       "    </tr>\n",
       "  </tbody>\n",
       "</table>\n",
       "</div>"
      ],
      "text/plain": [
       "   Planetary Radius [Earth radii]  Insolation Flux [Earth flux]  \\\n",
       "0                            1.86                          2.00   \n",
       "1                            2.53                         13.18   \n",
       "2                            2.29                        186.31   \n",
       "3                           28.41                        283.07   \n",
       "4                            1.40                         18.86   \n",
       "\n",
       "   Stellar Radius [Solar radii]  \n",
       "0                         1.187  \n",
       "1                         0.720  \n",
       "2                         0.815  \n",
       "3                        13.056  \n",
       "4                         0.836  "
      ]
     },
     "execution_count": 158,
     "metadata": {},
     "output_type": "execute_result"
    }
   ],
   "source": [
    "goldX.columns = [longnames[x] for x in goldX.columns]\n",
    "goldX.head()"
   ]
  },
  {
   "cell_type": "markdown",
   "metadata": {
    "deletable": true,
    "editable": true
   },
   "source": [
    "HUZZAH!"
   ]
  },
  {
   "cell_type": "markdown",
   "metadata": {
    "deletable": true,
    "editable": true
   },
   "source": [
    "#### Let's split the data into the TEST and TRAIN data"
   ]
  },
  {
   "cell_type": "code",
   "execution_count": 103,
   "metadata": {
    "collapsed": true,
    "deletable": true,
    "editable": true,
    "jupyter": {
     "outputs_hidden": true
    }
   },
   "outputs": [],
   "source": [
    "from sklearn.model_selection import train_test_split\n",
    "Xtrain, Xtest, ytrain, ytest = train_test_split(goldX, goldY, random_state=1)"
   ]
  },
  {
   "cell_type": "markdown",
   "metadata": {
    "deletable": true,
    "editable": true
   },
   "source": [
    "#### Let's do a GAUSSIAN Naive-Bayes test"
   ]
  },
  {
   "cell_type": "code",
   "execution_count": 106,
   "metadata": {
    "collapsed": false,
    "deletable": true,
    "editable": true,
    "jupyter": {
     "outputs_hidden": false
    }
   },
   "outputs": [],
   "source": [
    "from sklearn.naive_bayes import GaussianNB # 1. choose model class\n",
    "model = GaussianNB()                       # 2. instantiate model\n",
    "model.fit(Xtrain, ytrain)                  # 3. fit model to data\n",
    "y_model = model.predict(Xtest)             # 4. predict on new data"
   ]
  },
  {
   "cell_type": "code",
   "execution_count": 107,
   "metadata": {
    "collapsed": false,
    "deletable": true,
    "editable": true,
    "jupyter": {
     "outputs_hidden": false
    }
   },
   "outputs": [
    {
     "data": {
      "text/plain": [
       "0.9585492227979274"
      ]
     },
     "execution_count": 107,
     "metadata": {},
     "output_type": "execute_result"
    }
   ],
   "source": [
    "from sklearn.metrics import accuracy_score\n",
    "accuracy_score(ytest, y_model)\n",
    "\n",
    "# THIS GIVES ME THE ACCURACY SCORE OF THE ALGORITHM"
   ]
  }
 ],
 "metadata": {
  "kernelspec": {
   "display_name": "Python 3 (ipykernel)",
   "language": "python",
   "name": "python3"
  },
  "language_info": {
   "codemirror_mode": {
    "name": "ipython",
    "version": 3
   },
   "file_extension": ".py",
   "mimetype": "text/x-python",
   "name": "python",
   "nbconvert_exporter": "python",
   "pygments_lexer": "ipython3",
   "version": "3.8.12"
  }
 },
 "nbformat": 4,
 "nbformat_minor": 4
}
