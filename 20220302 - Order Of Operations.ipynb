{
 "cells": [
  {
   "cell_type": "markdown",
   "id": "cc6adfe6-b7cf-4d89-8ba5-7c20f2fea5b6",
   "metadata": {},
   "source": [
    "# Order Of Operations"
   ]
  },
  {
   "cell_type": "markdown",
   "id": "0a308eef-4b51-4bc3-801c-cdcba5692f6b",
   "metadata": {},
   "source": [
    "This is where I want to solidify, as best and as accurately as I possibly can, the overall order of operations for the code I intend to run on the GigaServer given to me by James.  \n",
    "Covering all major steps, and ideally any sub-steps (ie, steps within steps)"
   ]
  },
  {
   "cell_type": "markdown",
   "id": "7226f44c-c425-48aa-9284-101e69508da9",
   "metadata": {},
   "source": [
    "This will be done by having each cell be a step. We'll start with a singlw \\\"\\#\\\" command and work down in depth there."
   ]
  },
  {
   "cell_type": "markdown",
   "id": "3e9445be-d839-45e9-b406-6ce9946ffaff",
   "metadata": {},
   "source": [
    "Exanmples of sizes of depth measures:"
   ]
  },
  {
   "cell_type": "markdown",
   "id": "e54d0cb1-2070-4608-89c8-909cb879c980",
   "metadata": {},
   "source": [
    "# One \\#"
   ]
  },
  {
   "cell_type": "markdown",
   "id": "8c165d75-7641-4ae4-8cc3-592d25ba36d0",
   "metadata": {},
   "source": [
    "## Two \\#"
   ]
  },
  {
   "cell_type": "markdown",
   "id": "07c11e77-4486-4d6b-a29f-d1ec70b891dd",
   "metadata": {},
   "source": [
    "### Three \\#"
   ]
  },
  {
   "cell_type": "markdown",
   "id": "8f4cd851-31e2-4174-948f-71b97c367c67",
   "metadata": {},
   "source": [
    "#### Four \\#"
   ]
  },
  {
   "cell_type": "markdown",
   "id": "5f608537-2b81-436b-9f38-a6e7966c151e",
   "metadata": {},
   "source": [
    "##### Five \\#"
   ]
  },
  {
   "cell_type": "markdown",
   "id": "40668258-932d-4aec-b502-698d378861f0",
   "metadata": {},
   "source": [
    "###### Six \\#"
   ]
  },
  {
   "cell_type": "markdown",
   "id": "ca968875-48bc-4ade-9961-ced01f714f64",
   "metadata": {},
   "source": [
    "###### Max Depth: 6"
   ]
  },
  {
   "cell_type": "markdown",
   "id": "ef0bd521-1a6b-4daf-8fa2-74b20d0cd986",
   "metadata": {},
   "source": [
    "So, on to the steps!"
   ]
  },
  {
   "cell_type": "markdown",
   "id": "72924813-6c01-4ab2-bd39-034e8db9f9bc",
   "metadata": {
    "tags": []
   },
   "source": [
    "# Load Data"
   ]
  },
  {
   "cell_type": "markdown",
   "id": "ec57d395-5037-440e-96ea-d2215bc63583",
   "metadata": {},
   "source": [
    "x = None_Or_One_Exoplanet.npy  \n",
    "y = None_Or_One_isplanetlist.npy  \n",
    " \\\n",
    "Make sure x is of type Array and not just a List!"
   ]
  },
  {
   "cell_type": "markdown",
   "id": "8229daf0-d8df-4871-b3ec-344a0a632325",
   "metadata": {
    "tags": []
   },
   "source": [
    "# Start Of Pipeline"
   ]
  },
  {
   "cell_type": "markdown",
   "id": "ae9bc757-f013-4319-8f29-8ea3049d5e27",
   "metadata": {},
   "source": [
    "Load in: Master Array  \n",
    "Every Step herein is assumed to have a <code>for LC in MasterList</code> section  where applicable  \n",
    "  \\\n",
    "Since when a step is done, there is never any reason to reverse it, we can over-write the array at all (?) times as changes are _not_ transient  \n",
    "Therefore, each function is assumed to be akin to <code>y = ExampleFunction(y)</code>, as in, it acts _upon_ the array (returns altered array back into the same variable)"
   ]
  },
  {
   "cell_type": "markdown",
   "id": "eedf8c80-6113-46eb-9ca2-68938d8e46b6",
   "metadata": {
    "jp-MarkdownHeadingCollapsed": true,
    "tags": []
   },
   "source": [
    "## Fix NaN in Dataset"
   ]
  },
  {
   "cell_type": "markdown",
   "id": "4a8bcdc8-b9ee-4606-8d65-d33b30c8c59f",
   "metadata": {},
   "source": [
    "Replace all empty dataset points with the median value"
   ]
  },
  {
   "cell_type": "markdown",
   "id": "5b436c8a-0377-4e50-958a-210225d73f72",
   "metadata": {
    "jp-MarkdownHeadingCollapsed": true,
    "tags": []
   },
   "source": [
    "## Normalise Data"
   ]
  },
  {
   "cell_type": "markdown",
   "id": "e0ac872a-5d2f-4cbd-81db-2d430c71c827",
   "metadata": {},
   "source": [
    "This is currently done as step 1 of Filtering, but does it make more sense to have it as its own step as it's so large?"
   ]
  },
  {
   "cell_type": "markdown",
   "id": "9d2de72b-3437-4127-9871-7e4867d430a5",
   "metadata": {
    "jp-MarkdownHeadingCollapsed": true,
    "tags": []
   },
   "source": [
    "## Filter Data"
   ]
  },
  {
   "cell_type": "markdown",
   "id": "bf8222d2-7ef6-45d1-b026-a5b0c9966e82",
   "metadata": {},
   "source": [
    "Apply a Butterworth Filter"
   ]
  },
  {
   "cell_type": "markdown",
   "id": "76c9ab2d-f02d-4184-943f-414a6d5c9a33",
   "metadata": {
    "jp-MarkdownHeadingCollapsed": true,
    "tags": []
   },
   "source": [
    "## Sub-Sample Data (evern nth)"
   ]
  },
  {
   "cell_type": "markdown",
   "id": "226b72d4-e3b4-4b9c-9803-3ab7fb87a76b",
   "metadata": {},
   "source": [
    "Every 40th dataset should work based on previous experiments, but should absolutely check this!  \n",
    "I HAVE DONE -- see <code>20220302 - Max FTT Value.ipynb</code> -- every 40th is perfectly fine!"
   ]
  },
  {
   "cell_type": "markdown",
   "id": "0f953140-f7f3-4820-8012-08dec369ac6f",
   "metadata": {},
   "source": [
    "Basically set everything to the median - needs to be done AFTER normalising (I think?)"
   ]
  },
  {
   "cell_type": "markdown",
   "id": "5f576aa5-6bd9-4648-a655-f2b1cf44009d",
   "metadata": {
    "jp-MarkdownHeadingCollapsed": true,
    "tags": []
   },
   "source": [
    "## Make Nested Dataset"
   ]
  },
  {
   "cell_type": "markdown",
   "id": "fee7c0df-3280-4a4e-ba9f-8461f95ee9c0",
   "metadata": {},
   "source": [
    "Simple / single line of code to do this so this is good and simple to do"
   ]
  },
  {
   "cell_type": "markdown",
   "id": "57bb9846-9ca7-4fba-9d65-f37391821661",
   "metadata": {
    "jp-MarkdownHeadingCollapsed": true,
    "tags": []
   },
   "source": [
    "## Train-Test-Split"
   ]
  },
  {
   "cell_type": "markdown",
   "id": "0c347d5c-bd74-4700-b9b2-8bd55defa3f0",
   "metadata": {},
   "source": [
    "Perform the TTS; once again, single line of code"
   ]
  },
  {
   "cell_type": "markdown",
   "id": "f52eb852-b141-4441-b20d-5af2a939f972",
   "metadata": {},
   "source": [
    "# End of Pipeline"
   ]
  },
  {
   "cell_type": "markdown",
   "id": "6d9c33c7-3ebe-4374-b2c9-d6192016729a",
   "metadata": {
    "jp-MarkdownHeadingCollapsed": true,
    "tags": []
   },
   "source": [
    "# Start ML Algorithm"
   ]
  },
  {
   "cell_type": "markdown",
   "id": "47c1587b-9800-4e81-998b-78c0dcd24ed5",
   "metadata": {
    "tags": []
   },
   "source": [
    "## Create Model"
   ]
  },
  {
   "cell_type": "markdown",
   "id": "f1bb75c8-f9c8-46be-b650-b205e43c3aa4",
   "metadata": {},
   "source": [
    "### Choose the ML Algorithm"
   ]
  },
  {
   "cell_type": "markdown",
   "id": "c7ee730c-20c0-494a-bdc7-8960701f7d2c",
   "metadata": {},
   "source": [
    "### Use the Pipeline"
   ]
  },
  {
   "cell_type": "markdown",
   "id": "6e06cdc1-9eed-4c27-b6b7-5c621ce424d5",
   "metadata": {},
   "source": [
    "## GridSearchCV"
   ]
  },
  {
   "cell_type": "markdown",
   "id": "523aac9c-fa5e-453d-988c-e29727d229d6",
   "metadata": {},
   "source": [
    "## Fit"
   ]
  },
  {
   "cell_type": "markdown",
   "id": "217bc912-0b3e-4bc9-9818-b29607a34520",
   "metadata": {},
   "source": [
    "## Predict"
   ]
  },
  {
   "cell_type": "markdown",
   "id": "38619034-ce3c-4859-9ed5-50fed4cd7369",
   "metadata": {},
   "source": [
    "## Cross-Validate"
   ]
  },
  {
   "cell_type": "markdown",
   "id": "5db7f472-8a94-4c20-8b17-38ad445be8f1",
   "metadata": {},
   "source": [
    "# End ML Algorithm"
   ]
  },
  {
   "cell_type": "markdown",
   "id": "b9ad605c-23fa-4c6a-ba4d-386b884a945e",
   "metadata": {},
   "source": [
    "# Output"
   ]
  },
  {
   "cell_type": "markdown",
   "id": "e0617bca-bc3e-4670-8d7e-3d0819825af3",
   "metadata": {},
   "source": [
    "# Save Information"
   ]
  },
  {
   "cell_type": "code",
   "execution_count": null,
   "id": "4b2a5f08-f6bd-40fd-972d-9cf222b32473",
   "metadata": {},
   "outputs": [],
   "source": []
  }
 ],
 "metadata": {
  "kernelspec": {
   "display_name": "Python 3 (ipykernel)",
   "language": "python",
   "name": "python3"
  },
  "language_info": {
   "codemirror_mode": {
    "name": "ipython",
    "version": 3
   },
   "file_extension": ".py",
   "mimetype": "text/x-python",
   "name": "python",
   "nbconvert_exporter": "python",
   "pygments_lexer": "ipython3",
   "version": "3.8.12"
  }
 },
 "nbformat": 4,
 "nbformat_minor": 5
}
