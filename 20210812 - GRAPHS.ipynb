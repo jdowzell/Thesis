{
 "cells": [
  {
   "cell_type": "code",
   "execution_count": 33,
   "id": "05fb8459-07c7-4a0b-8fba-b75aef16c0e3",
   "metadata": {},
   "outputs": [],
   "source": [
    "################################\n",
    "# Scientific imports\n",
    "################################\n",
    "import gc\n",
    "import matplotlib.pyplot as plt\n",
    "%matplotlib inline\n",
    "import numpy as np\n",
    "import fnmatch\n",
    "\n",
    "from astropy.io import fits\n",
    "from astropy import units as u\n",
    "from astropy.timeseries import BoxLeastSquares\n",
    "from astropy.timeseries import TimeSeries\n",
    "from astroquery.mast import Observations\n",
    "from astroquery.mast import Catalogs\n",
    "\n",
    "################################\n",
    "# General imports\n",
    "################################\n",
    "import csv, math, io, os, os.path, sys, random, time, json\n",
    "import pandas as pd\n",
    "import seaborn as sb\n",
    "from tqdm.notebook import tqdm, trange\n",
    "\n",
    "################################\n",
    "# SciKitLearn Imports\n",
    "################################\n",
    "import sklearn\n",
    "from sklearn import metrics\n",
    "from sklearn.metrics import confusion_matrix\n",
    "from sklearn.metrics import make_scorer\n",
    "\n",
    "from sklearn.model_selection import train_test_split\n",
    "from sklearn.metrics import accuracy_score\n",
    "from sklearn.metrics import precision_score\n",
    "from sklearn.metrics import recall_score\n",
    "\n",
    "from IPython.display import display\n",
    "\n",
    "################################\n",
    "# MatPlotLib Settings\n",
    "################################\n",
    "plt.rcParams[\"figure.figsize\"] = (5,5)\n",
    "sb.set()\n",
    "\n",
    "################################\n",
    "# Initialisers\n",
    "################################\n",
    "\n",
    "fitsarr = np.load(\"fitslist.npy\")\n",
    "fluxarr = np.load(\"fluxlist.npy\")\n",
    "isplanetarr = np.load(\"isplanetlist.npy\")"
   ]
  },
  {
   "cell_type": "code",
   "execution_count": 35,
   "id": "8d73ddd2-1947-4ff5-95f5-0bfc6eca74e4",
   "metadata": {},
   "outputs": [],
   "source": [
    "################################\n",
    "# FUNCTIONS\n",
    "################################\n",
    "\n",
    "def DrawLC(fitsFile=-1):\n",
    "    \n",
    "    # rndFile is random, unless specified\n",
    "    fitsFile = random.randint(0,len(fitsarr)) if fitsFile==-1 else fitsFile\n",
    "    \n",
    "    # Get LC data from the requisite fits file\n",
    "    #fitsFile = fitsarr[rndFile]\n",
    "\n",
    "    # The following line of code gives us the header values\n",
    "    fitsHeaders = fits.getheader(fitsFile)\n",
    "\n",
    "    with fits.open(fitsFile, mode=\"readonly\") as hdulist:\n",
    "\n",
    "        # Extract stellar parameters from the primary header.  We'll get the effective temperature, surface gravity,\n",
    "        # and TESS magnitude.\n",
    "        star_teff = hdulist[0].header['TEFF']\n",
    "        star_logg = hdulist[0].header['LOGG']\n",
    "        star_tmag = hdulist[0].header['TESSMAG']\n",
    "        obj       = hdulist[0].header['OBJECT']\n",
    "        sector    = hdulist[0].header['SECTOR']\n",
    "\n",
    "\n",
    "        # Extract some of the columns of interest for the first TCE signal.  These are stored in the binary FITS table\n",
    "        # in the first extension.  We'll extract the timestamps in TBJD, phase, initial fluxes, and corresponding\n",
    "        # model fluxes.\n",
    "        tess_bjds     = hdulist[1].data['TIME']\n",
    "        sap_fluxes    = hdulist[1].data['SAP_FLUX']\n",
    "        pdcsap_fluxes = hdulist[1].data['PDCSAP_FLUX']\n",
    "\n",
    "    # X- and Y- labels\n",
    "    ylab = \"PDCSAP Flux (e-/s)\"\n",
    "    xlab = \"Time (TBJD)\"\n",
    "\n",
    "    #ax.plot(tess_bjds[1:-1], pdcsap_fluxes[1:-1], 'k.', markersize=1)\n",
    "    return (tess_bjds[1:-1], pdcsap_fluxes[1:-1], str(rndFile), str(obj), str(sector), ylab, xlab)\n"
   ]
  },
  {
   "cell_type": "markdown",
   "id": "5f2b0e48-0aff-4ce0-b461-c1b7aec577c8",
   "metadata": {},
   "source": [
    "The below was for recreating the SVM graphs in Jake VanDerPlas' book - shouldn't do this!"
   ]
  },
  {
   "cell_type": "code",
   "execution_count": null,
   "id": "operating-occasions",
   "metadata": {
    "jupyter": {
     "source_hidden": true
    },
    "tags": []
   },
   "outputs": [],
   "source": [
    "#RND = int(random.random()*9999)\n",
    "RND = 8925\n",
    "print(RND)\n",
    "\n",
    "from sklearn.datasets import make_blobs\n",
    "X, y = make_blobs(n_samples=150, centers=2,\n",
    "                  random_state=RND, cluster_std=0.45)\n",
    "plt.scatter(X[:, 0], X[:, 1], c=y, s=20, cmap='PuOr');\n",
    "\n",
    "#plt.ylim(-1,8)\n",
    "#plt.xlim(-10,-2)\n",
    "\n",
    "plt.tight_layout()\n",
    "plt.savefig('img/svm-ex.png')"
   ]
  },
  {
   "cell_type": "code",
   "execution_count": null,
   "id": "accepted-yellow",
   "metadata": {
    "jupyter": {
     "source_hidden": true
    },
    "tags": []
   },
   "outputs": [],
   "source": [
    "xfit = np.linspace(-10, 0)\n",
    "plt.scatter(X[:, 0], X[:, 1], c=y, s=20, cmap='PuOr');\n",
    "#plt.plot([0.6], [2.1], 'x', color='red', markeredgewidth=2, markersize=10)\n",
    "\n",
    "for m, b in [(1.5, 11.8), (1, 8.7), (0, 3)]:\n",
    "    yfit = m * xfit + b\n",
    "    plt.plot(xfit, yfit, '-k')\n",
    "\n",
    "plt.ylim(-1,8)\n",
    "plt.xlim(-10,-2)\n",
    "\n",
    "plt.tight_layout()\n",
    "#plt.savefig('img/svm-2.png')"
   ]
  },
  {
   "cell_type": "code",
   "execution_count": null,
   "id": "ready-assistant",
   "metadata": {
    "jupyter": {
     "source_hidden": true
    },
    "tags": []
   },
   "outputs": [],
   "source": [
    "plt.scatter(X[:, 0], X[:, 1], c=y, s=20, cmap='PuOr');\n",
    "#plt.plot([0.6], [2.1], 'x', color='red', markeredgewidth=2, markersize=10)\n",
    "\n",
    "for m, b, d in [(1.5, 11.8, 0.4), (1, 8.7, 0.65), (-0.1, 1.9, 0.35)]:\n",
    "    yfit = m * xfit + b\n",
    "    plt.plot(xfit, yfit, '-k')\n",
    "    plt.fill_between(xfit, yfit - d, yfit + d, edgecolor='none', color='#AAAAAA', alpha=0.4)\n",
    "\n",
    "plt.ylim(-1,8)\n",
    "plt.xlim(-10,-2)\n",
    "\n",
    "plt.tight_layout()\n",
    "plt.savefig('imgs/svm-3.png')"
   ]
  },
  {
   "cell_type": "code",
   "execution_count": null,
   "id": "infrared-group",
   "metadata": {
    "jupyter": {
     "source_hidden": true
    },
    "tags": []
   },
   "outputs": [],
   "source": [
    "from sklearn.svm import SVC # \"Support vector classifier\"\n",
    "model = SVC(kernel='linear', C=1E10)\n",
    "model.fit(X, y)"
   ]
  },
  {
   "cell_type": "code",
   "execution_count": null,
   "id": "dutch-astrology",
   "metadata": {
    "jupyter": {
     "source_hidden": true
    },
    "tags": []
   },
   "outputs": [],
   "source": [
    "def plot_svc_decision_function(model, ax=None):\n",
    "    \"\"\"Plot the decision function for a 2D SVC\"\"\"\n",
    "    if ax is None:\n",
    "        ax = plt.gca()\n",
    "    xlim = ax.get_xlim()\n",
    "    ylim = ax.get_ylim()\n",
    "    \n",
    "    # create grid to evaluate model\n",
    "    x = np.linspace(xlim[0], xlim[1], 30)\n",
    "    y = np.linspace(ylim[0], ylim[1], 30)\n",
    "    Y, X = np.meshgrid(y, x)\n",
    "    xy = np.vstack([X.ravel(), Y.ravel()]).T\n",
    "    P = model.decision_function(xy).reshape(X.shape)\n",
    "    \n",
    "    # plot decision boundary and margins\n",
    "    ax.contour(X, Y, P, colors='k',\n",
    "               levels=[-1, 0, 1], alpha=0.5,\n",
    "               linestyles=['--', '-', '--'])\n",
    "    \n",
    "    # plot support vectors\n",
    "    ax.scatter(model.support_vectors_[:, 0], model.support_vectors_[:, 1], s=1, linewidth=20, facecolors='black');\n",
    "    ax.set_xlim(xlim)\n",
    "    ax.set_ylim(ylim)"
   ]
  },
  {
   "cell_type": "code",
   "execution_count": null,
   "id": "minus-chester",
   "metadata": {
    "jupyter": {
     "source_hidden": true
    },
    "tags": []
   },
   "outputs": [],
   "source": [
    "plt.scatter(X[:, 0], X[:, 1], c=y, s=20, cmap='PuOr')\n",
    "plt.ylim(-1,8)\n",
    "plt.xlim(-10,-2)\n",
    "#plt.ylim(1,2)\n",
    "#plt.xlim(-7,-6.5)\n",
    "plt.tight_layout()\n",
    "\n",
    "plot_svc_decision_function(model);\n",
    "\n",
    "plt.savefig('imgs/svm-4.png')"
   ]
  },
  {
   "cell_type": "code",
   "execution_count": null,
   "id": "french-pepper",
   "metadata": {
    "jupyter": {
     "source_hidden": true
    },
    "tags": []
   },
   "outputs": [],
   "source": [
    "# y = 3x-6\n",
    "\n",
    "rng = np.random.RandomState(14)\n",
    "npts = 40\n",
    "\n",
    "x = 15 * rng.rand(npts)\n",
    "y = 3 * x - 6 + (2*rng.randn(npts))\n",
    "plt.xlim(0,16)\n",
    "plt.ylim(-15,45)\n",
    "plt.tight_layout()\n",
    "plt.scatter(x, y, s=20, c=\"black\");\n",
    "\n",
    "plt.savefig('imgs/linreg-1.png')"
   ]
  },
  {
   "cell_type": "markdown",
   "id": "czech-joseph",
   "metadata": {},
   "source": [
    "Finding out what the Newsgroups are in the Naive-Bayes example in Python handbook (and how large they are)"
   ]
  },
  {
   "cell_type": "code",
   "execution_count": null,
   "id": "varied-project",
   "metadata": {
    "jupyter": {
     "source_hidden": true
    },
    "tags": []
   },
   "outputs": [],
   "source": [
    "from sklearn.datasets import fetch_20newsgroups"
   ]
  },
  {
   "cell_type": "code",
   "execution_count": null,
   "id": "sealed-thanks",
   "metadata": {
    "jupyter": {
     "source_hidden": true
    },
    "tags": []
   },
   "outputs": [],
   "source": [
    "data = fetch_20newsgroups()\n",
    "data.target_names"
   ]
  },
  {
   "cell_type": "code",
   "execution_count": null,
   "id": "attended-interview",
   "metadata": {
    "jupyter": {
     "source_hidden": true
    },
    "tags": []
   },
   "outputs": [],
   "source": [
    "print(len(data.filenames))\n",
    "data.filenames"
   ]
  },
  {
   "cell_type": "code",
   "execution_count": null,
   "id": "conventional-front",
   "metadata": {
    "jupyter": {
     "source_hidden": true
    },
    "tags": []
   },
   "outputs": [],
   "source": [
    "categories = ['talk.religion.misc', 'soc.religion.christian',\n",
    "              'sci.space', 'comp.graphics']\n",
    "train = fetch_20newsgroups(subset='train', categories=categories)\n",
    "test = fetch_20newsgroups(subset='test', categories=categories)"
   ]
  },
  {
   "cell_type": "code",
   "execution_count": null,
   "id": "molecular-vinyl",
   "metadata": {
    "jupyter": {
     "source_hidden": true
    },
    "tags": []
   },
   "outputs": [],
   "source": [
    "print(train.data[0])"
   ]
  },
  {
   "cell_type": "code",
   "execution_count": null,
   "id": "overall-techno",
   "metadata": {
    "jupyter": {
     "source_hidden": true
    },
    "tags": []
   },
   "outputs": [],
   "source": [
    "from sklearn.feature_extraction.text import TfidfVectorizer\n",
    "from sklearn.naive_bayes import MultinomialNB\n",
    "from sklearn.pipeline import make_pipeline\n",
    "\n",
    "model = make_pipeline(TfidfVectorizer(), MultinomialNB())"
   ]
  },
  {
   "cell_type": "code",
   "execution_count": null,
   "id": "banned-concert",
   "metadata": {
    "jupyter": {
     "source_hidden": true
    },
    "tags": []
   },
   "outputs": [],
   "source": [
    "model"
   ]
  },
  {
   "cell_type": "code",
   "execution_count": null,
   "id": "altered-barrel",
   "metadata": {
    "jupyter": {
     "source_hidden": true
    },
    "tags": []
   },
   "outputs": [],
   "source": [
    "model.fit(train.data, train.target)\n",
    "labels = model.predict(test.data)"
   ]
  },
  {
   "cell_type": "code",
   "execution_count": null,
   "id": "compliant-april",
   "metadata": {
    "jupyter": {
     "source_hidden": true
    },
    "tags": []
   },
   "outputs": [],
   "source": [
    "from sklearn.metrics import confusion_matrix\n",
    "mat = confusion_matrix(test.target, labels)\n",
    "sb.heatmap(mat.T, square=True, annot=True, fmt='d', cbar=False, cmap=\"RdYlGn\",\n",
    "            xticklabels=train.target_names, yticklabels=train.target_names)\n",
    "plt.xlabel('true label')\n",
    "plt.ylabel('predicted label');"
   ]
  },
  {
   "cell_type": "code",
   "execution_count": null,
   "id": "significant-compilation",
   "metadata": {
    "jupyter": {
     "source_hidden": true
    },
    "tags": []
   },
   "outputs": [],
   "source": [
    "def predict_category(s, train=train, model=model):\n",
    "    pred = model.predict([s])\n",
    "    return train.target_names[pred[0]]"
   ]
  },
  {
   "cell_type": "code",
   "execution_count": null,
   "id": "numerous-joint",
   "metadata": {
    "jupyter": {
     "source_hidden": true
    },
    "tags": []
   },
   "outputs": [],
   "source": [
    "phrase=\"i want my laptop fixed\"\n",
    "\n",
    "predict_category(phrase)"
   ]
  },
  {
   "cell_type": "code",
   "execution_count": null,
   "id": "subsequent-ebony",
   "metadata": {
    "jupyter": {
     "source_hidden": true
    },
    "tags": []
   },
   "outputs": [],
   "source": [
    "plt.rcParams[\"figure.figsize\"] = (10,5)\n",
    "plt.bar([0,1,2,3,4,5,6],[0.6,0.23,0.65,0.78,0.11,0.05,0.99],tick_label=['SVM','SVM_FFT','RT','RT_FFT','NB','BN_FFT','ETC'])\n",
    "plt.title(\"Bar graph of the Accuracy Values of the several Machine Learning methods\", fontsize=18)\n",
    "plt.savefig('img/examplemetrics.png')"
   ]
  }
 ],
 "metadata": {
  "kernelspec": {
   "display_name": "Python 3 (ipykernel)",
   "language": "python",
   "name": "python3"
  },
  "language_info": {
   "codemirror_mode": {
    "name": "ipython",
    "version": 3
   },
   "file_extension": ".py",
   "mimetype": "text/x-python",
   "name": "python",
   "nbconvert_exporter": "python",
   "pygments_lexer": "ipython3",
   "version": "3.8.12"
  }
 },
 "nbformat": 4,
 "nbformat_minor": 5
}
