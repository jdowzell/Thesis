{
 "cells": [
  {
   "cell_type": "code",
   "execution_count": 1,
   "id": "round-country",
   "metadata": {},
   "outputs": [],
   "source": [
    "################################\n",
    "# Scientific imports\n",
    "################################\n",
    "import gc\n",
    "import matplotlib.pyplot as plt\n",
    "import numpy as np\n",
    "import fnmatch\n",
    "\n",
    "################################\n",
    "# General imports\n",
    "################################\n",
    "import csv, math, io, os, os.path, sys, random, time, json\n",
    "import pandas as pd\n",
    "import seaborn as sb\n",
    "from tqdm.notebook import tqdm, trange\n",
    "\n",
    "################################\n",
    "# SciKitLearn Imports\n",
    "################################\n",
    "import sklearn\n",
    "from sklearn import metrics\n",
    "from sklearn.metrics import confusion_matrix\n",
    "from sklearn.metrics import make_scorer\n",
    "from sklearn.metrics import accuracy_score\n",
    "\n",
    "from IPython.display import display\n",
    "\n",
    "################################\n",
    "# MatPlotLib Settings\n",
    "################################\n",
    "plt.rcParams[\"figure.figsize\"] = (5,5)\n",
    "sb.set()"
   ]
  },
  {
   "cell_type": "code",
   "execution_count": 2,
   "id": "biological-tamil",
   "metadata": {},
   "outputs": [],
   "source": [
    "def MakeMatrix(TN, FP, FN, TP):\n",
    "    Matrix = [[0 for x in range(2)] for y in range(2)]\n",
    "    Matrix[0][0] = TN\n",
    "    Matrix[0][1] = FP\n",
    "    Matrix[1][0] = FN\n",
    "    Matrix[1][1] = TP\n",
    "    return(Matrix)\n",
    "\n",
    "def PlotConfusionMatrix(mat, title):\n",
    "    \n",
    "    confMat = sb.heatmap(mat, square=True, annot=True, fmt='d', cbar=False, cmap=\"rocket\",\n",
    "            xticklabels=['Negative','Positive'],\n",
    "            yticklabels=['Negative','Positive'],\n",
    "            annot_kws={\"size\": 20})\n",
    "    \n",
    "    confMat.set_xticklabels(confMat.get_xmajorticklabels(), fontsize = 14)\n",
    "    confMat.set_yticklabels(confMat.get_ymajorticklabels(), fontsize = 14)\n",
    "    \n",
    "    plt.rcParams[\"figure.figsize\"] = (5,5)\n",
    "    sb.set(font_scale=1.3)\n",
    "    \n",
    "    fig = confMat.get_figure() \n",
    "    plt.xlabel('Actual Value', fontsize=16, labelpad=10)\n",
    "    plt.ylabel('Predicted Value', fontsize=16, labelpad=10)\n",
    "    \n",
    "    titleText = \"Confusion Matrix: \"+title\n",
    "    \n",
    "    plt.title(titleText)\n",
    "    \n",
    "    #plt.show()\n",
    "    \n",
    "    targetdest=\"./confusionmatrices/\"\n",
    "    #plt.savefig(targetdest+\"PCA_SVM_Matrix.png\")\n",
    "    plt.savefig(\"{}ConfusionMatrix_{}.png\".format(targetdest,title))"
   ]
  },
  {
   "cell_type": "code",
   "execution_count": 3,
   "id": "selective-circulation",
   "metadata": {
    "tags": []
   },
   "outputs": [
    {
     "name": "stdout",
     "output_type": "stream",
     "text": [
      "Number of JSON files: 14\n",
      "0: ./sktime_results/sktime_Arsenal_fitted.json\n",
      "1: ./sktime_results/sktime_CanonicalIntervalForest_fitted.json\n",
      "2: ./sktime_results/sktime_ContractableBOSS_fitted.json\n",
      "3: ./sktime_results/sktime_DrCIF_fitted.json\n",
      "4: ./sktime_results/sktime_IndividualBOSS_fitted.json\n",
      "5: ./sktime_results/sktime_IndividualTDE_fitted.json\n",
      "6: ./sktime_results/sktime_MUSE_fitted.json\n",
      "7: ./sktime_results/sktime_MatrixProfileClassifier_fitted.json\n",
      "8: ./sktime_results/sktime_RandomIntervalSpectralForest_fitted.json\n",
      "9: ./sktime_results/sktime_ShapeDTW_fitted.json\n",
      "10: ./sktime_results/sktime_SignatureClassifier_fitted.json\n",
      "11: ./sktime_results/sktime_SupervisedTimeSeriesForest_fitted.json\n",
      "12: ./sktime_results/sktime_TSFreshClassifier_fitted.json\n",
      "13: ./sktime_results/sktime_WEASEL_fitted.json\n"
     ]
    }
   ],
   "source": [
    "# Reading which LC datafiles we have into a list\n",
    "\n",
    "jsonList = []\n",
    "\n",
    "for root, dirs, files in os.walk(\"./sktime_results/\"):\n",
    "    for file in files:\n",
    "            \n",
    "        # Get rid of alpha stuff\n",
    "        if file.endswith(\".json\"):\n",
    "            jsonList.append(os.path.join(root, file))\n",
    "            #print(os.path.join(root, file))\n",
    "jsonList.sort()\n",
    "print(\"Number of JSON files: {}\".format(len(jsonList)))\n",
    "for num, i in enumerate(jsonList):\n",
    "    print (\"{}: {}\".format(num, i))\n",
    "    "
   ]
  },
  {
   "cell_type": "code",
   "execution_count": 4,
   "id": "disabled-subcommittee",
   "metadata": {},
   "outputs": [],
   "source": [
    "jsondata = [0] * len(jsonList)\n",
    "for e,i in enumerate(jsonList):\n",
    "    with open(i) as f:\n",
    "        jsondata[e] = json.load(f)\n",
    "#jsondata"
   ]
  },
  {
   "cell_type": "code",
   "execution_count": 12,
   "id": "every-holiday",
   "metadata": {},
   "outputs": [
    {
     "data": {
      "text/plain": [
       "['Arsenal',\n",
       " 'CanonicalIntervalForest',\n",
       " 'ContractableBOSS',\n",
       " 'DrCIF',\n",
       " 'IndividualBOSS',\n",
       " 'IndividualTDE',\n",
       " 'MUSE',\n",
       " 'MatrixProfileClassifier',\n",
       " 'RandomIntervalSpectralForest',\n",
       " 'ShapeDTW',\n",
       " 'SignatureClassifier',\n",
       " 'SupervisedTimeSeriesForest',\n",
       " 'TSFreshClassifier',\n",
       " 'WEASEL']"
      ]
     },
     "execution_count": 12,
     "metadata": {},
     "output_type": "execute_result"
    }
   ],
   "source": [
    "algolist = []\n",
    "algodata = []\n",
    "for algorithm in jsondata:\n",
    "    for keys in algorithm:\n",
    "        algolist.append(keys.split(\"_fitted\")[0])\n",
    "        #print(keys.split(\"_fitted\")[0])\n",
    "#algolist = list(set(algolist))\n",
    "#algolist.sort()\n",
    "algolist"
   ]
  },
  {
   "cell_type": "code",
   "execution_count": 13,
   "id": "urban-latex",
   "metadata": {
    "tags": []
   },
   "outputs": [
    {
     "data": {
      "text/plain": [
       "[[{'Accuracy': 0.7684578418523372,\n",
       "   'Precision': 0.6956521739130435,\n",
       "   'Recall': 0.058394160583941604}],\n",
       " [{'Accuracy': 0.8038444735692443,\n",
       "   'Precision': 0.9090909090909091,\n",
       "   'Recall': 0.20072992700729927}],\n",
       " [{'Accuracy': 0.7706422018348624,\n",
       "   'Precision': 0.6825396825396826,\n",
       "   'Recall': 0.07846715328467153}],\n",
       " [{'Accuracy': 0.8047182175622543,\n",
       "   'Precision': 0.9173553719008265,\n",
       "   'Recall': 0.20255474452554745}],\n",
       " [{'Accuracy': 0.6845784185233726,\n",
       "   'Precision': 0.34843205574912894,\n",
       "   'Recall': 0.36496350364963503}],\n",
       " [{'Accuracy': 0.6845784185233726,\n",
       "   'Precision': 0.35737704918032787,\n",
       "   'Recall': 0.3978102189781022}],\n",
       " [{'Accuracy': 0.7885539536915683,\n",
       "   'Precision': 0.7857142857142857,\n",
       "   'Recall': 0.16058394160583941}],\n",
       " [{'Accuracy': 0.6697247706422018,\n",
       "   'Precision': 0.3015267175572519,\n",
       "   'Recall': 0.28832116788321166}],\n",
       " [{'Accuracy': 0.8007863695937091,\n",
       "   'Precision': 0.8538461538461538,\n",
       "   'Recall': 0.20255474452554745}],\n",
       " [{'Accuracy': 0.5307994757536042,\n",
       "   'Precision': 0.28264462809917357,\n",
       "   'Recall': 0.6240875912408759}],\n",
       " [{'Accuracy': 0.7741371778069026,\n",
       "   'Precision': 0.6962025316455697,\n",
       "   'Recall': 0.10036496350364964}],\n",
       " [{'Accuracy': 0.7933595456531236,\n",
       "   'Precision': 0.7819548872180451,\n",
       "   'Recall': 0.1897810218978102}],\n",
       " [{'Accuracy': 0.8038444735692443,\n",
       "   'Precision': 0.8837209302325582,\n",
       "   'Recall': 0.20802919708029197}],\n",
       " [{'Accuracy': 0.7086063783311489,\n",
       "   'Precision': 0.37473684210526315,\n",
       "   'Recall': 0.3248175182481752}]]"
      ]
     },
     "execution_count": 13,
     "metadata": {},
     "output_type": "execute_result"
    }
   ],
   "source": [
    "keylist = []\n",
    "\n",
    "for algorithm in jsondata:\n",
    "    for keys in algorithm:\n",
    "        #print(keys, \"\\n\",algorithm[keys],\"\\n\\n\")\n",
    "        keylist.append(algorithm[keys])\n",
    "        \n",
    "keylist"
   ]
  },
  {
   "cell_type": "code",
   "execution_count": 14,
   "id": "egyptian-element",
   "metadata": {},
   "outputs": [
    {
     "data": {
      "text/plain": [
       "['Accuracy', 'Precision', 'Recall']"
      ]
     },
     "execution_count": 14,
     "metadata": {},
     "output_type": "execute_result"
    }
   ],
   "source": [
    "columnList = list(keylist[0][0].keys())\n",
    "columnList"
   ]
  },
  {
   "cell_type": "code",
   "execution_count": 15,
   "id": "serious-welsh",
   "metadata": {},
   "outputs": [],
   "source": [
    "jsondatalist = []\n",
    "for i, x in enumerate(keylist):\n",
    "    jsondatalist.append(list(list(x)[0].values()))\n",
    "    \n",
    "#print(jsondatalist[0])\n",
    "    \n",
    "# Convert TP,TF, etc into ints, not strings\n",
    "for row in jsondatalist:\n",
    "    for i in range(3, len(row)-1):\n",
    "        #print(row[i])\n",
    "        try:\n",
    "            row[i] = int(row[i])\n",
    "        except ValueError:\n",
    "            continue\n",
    "            print(\"Row is a time not an int\")"
   ]
  },
  {
   "cell_type": "code",
   "execution_count": 18,
   "id": "competitive-barrier",
   "metadata": {},
   "outputs": [
    {
     "data": {
      "text/html": [
       "<div>\n",
       "<style scoped>\n",
       "    .dataframe tbody tr th:only-of-type {\n",
       "        vertical-align: middle;\n",
       "    }\n",
       "\n",
       "    .dataframe tbody tr th {\n",
       "        vertical-align: top;\n",
       "    }\n",
       "\n",
       "    .dataframe thead th {\n",
       "        text-align: right;\n",
       "    }\n",
       "</style>\n",
       "<table border=\"1\" class=\"dataframe\">\n",
       "  <thead>\n",
       "    <tr style=\"text-align: right;\">\n",
       "      <th></th>\n",
       "      <th>Accuracy</th>\n",
       "      <th>Precision</th>\n",
       "      <th>Recall</th>\n",
       "    </tr>\n",
       "  </thead>\n",
       "  <tbody>\n",
       "    <tr>\n",
       "      <th>Arsenal</th>\n",
       "      <td>0.768458</td>\n",
       "      <td>0.695652</td>\n",
       "      <td>0.058394</td>\n",
       "    </tr>\n",
       "    <tr>\n",
       "      <th>CanonicalIntervalForest</th>\n",
       "      <td>0.803844</td>\n",
       "      <td>0.909091</td>\n",
       "      <td>0.200730</td>\n",
       "    </tr>\n",
       "    <tr>\n",
       "      <th>ContractableBOSS</th>\n",
       "      <td>0.770642</td>\n",
       "      <td>0.682540</td>\n",
       "      <td>0.078467</td>\n",
       "    </tr>\n",
       "    <tr>\n",
       "      <th>DrCIF</th>\n",
       "      <td>0.804718</td>\n",
       "      <td>0.917355</td>\n",
       "      <td>0.202555</td>\n",
       "    </tr>\n",
       "    <tr>\n",
       "      <th>IndividualBOSS</th>\n",
       "      <td>0.684578</td>\n",
       "      <td>0.348432</td>\n",
       "      <td>0.364964</td>\n",
       "    </tr>\n",
       "    <tr>\n",
       "      <th>IndividualTDE</th>\n",
       "      <td>0.684578</td>\n",
       "      <td>0.357377</td>\n",
       "      <td>0.397810</td>\n",
       "    </tr>\n",
       "    <tr>\n",
       "      <th>MUSE</th>\n",
       "      <td>0.788554</td>\n",
       "      <td>0.785714</td>\n",
       "      <td>0.160584</td>\n",
       "    </tr>\n",
       "    <tr>\n",
       "      <th>MatrixProfileClassifier</th>\n",
       "      <td>0.669725</td>\n",
       "      <td>0.301527</td>\n",
       "      <td>0.288321</td>\n",
       "    </tr>\n",
       "    <tr>\n",
       "      <th>RandomIntervalSpectralForest</th>\n",
       "      <td>0.800786</td>\n",
       "      <td>0.853846</td>\n",
       "      <td>0.202555</td>\n",
       "    </tr>\n",
       "    <tr>\n",
       "      <th>ShapeDTW</th>\n",
       "      <td>0.530799</td>\n",
       "      <td>0.282645</td>\n",
       "      <td>0.624088</td>\n",
       "    </tr>\n",
       "    <tr>\n",
       "      <th>SignatureClassifier</th>\n",
       "      <td>0.774137</td>\n",
       "      <td>0.696203</td>\n",
       "      <td>0.100365</td>\n",
       "    </tr>\n",
       "    <tr>\n",
       "      <th>SupervisedTimeSeriesForest</th>\n",
       "      <td>0.793360</td>\n",
       "      <td>0.781955</td>\n",
       "      <td>0.189781</td>\n",
       "    </tr>\n",
       "    <tr>\n",
       "      <th>TSFreshClassifier</th>\n",
       "      <td>0.803844</td>\n",
       "      <td>0.883721</td>\n",
       "      <td>0.208029</td>\n",
       "    </tr>\n",
       "    <tr>\n",
       "      <th>WEASEL</th>\n",
       "      <td>0.708606</td>\n",
       "      <td>0.374737</td>\n",
       "      <td>0.324818</td>\n",
       "    </tr>\n",
       "  </tbody>\n",
       "</table>\n",
       "</div>"
      ],
      "text/plain": [
       "                              Accuracy  Precision    Recall\n",
       "Arsenal                       0.768458   0.695652  0.058394\n",
       "CanonicalIntervalForest       0.803844   0.909091  0.200730\n",
       "ContractableBOSS              0.770642   0.682540  0.078467\n",
       "DrCIF                         0.804718   0.917355  0.202555\n",
       "IndividualBOSS                0.684578   0.348432  0.364964\n",
       "IndividualTDE                 0.684578   0.357377  0.397810\n",
       "MUSE                          0.788554   0.785714  0.160584\n",
       "MatrixProfileClassifier       0.669725   0.301527  0.288321\n",
       "RandomIntervalSpectralForest  0.800786   0.853846  0.202555\n",
       "ShapeDTW                      0.530799   0.282645  0.624088\n",
       "SignatureClassifier           0.774137   0.696203  0.100365\n",
       "SupervisedTimeSeriesForest    0.793360   0.781955  0.189781\n",
       "TSFreshClassifier             0.803844   0.883721  0.208029\n",
       "WEASEL                        0.708606   0.374737  0.324818"
      ]
     },
     "execution_count": 18,
     "metadata": {},
     "output_type": "execute_result"
    }
   ],
   "source": [
    "df = pd.DataFrame(jsondatalist, columns=columnList, index=algolist)\n",
    "df"
   ]
  },
  {
   "cell_type": "code",
   "execution_count": 17,
   "id": "dependent-oliver",
   "metadata": {},
   "outputs": [
    {
     "ename": "AttributeError",
     "evalue": "'DataFrame' object has no attribute 'TP'",
     "output_type": "error",
     "traceback": [
      "\u001b[0;31m---------------------------------------------------------------------------\u001b[0m",
      "\u001b[0;31mAttributeError\u001b[0m                            Traceback (most recent call last)",
      "\u001b[0;32m/tmp/ipykernel_11514/2556483442.py\u001b[0m in \u001b[0;36m<module>\u001b[0;34m\u001b[0m\n\u001b[1;32m      1\u001b[0m \u001b[0;31m# Make New Columns for Metrics\u001b[0m\u001b[0;34m\u001b[0m\u001b[0;34m\u001b[0m\u001b[0;34m\u001b[0m\u001b[0m\n\u001b[1;32m      2\u001b[0m \u001b[0;34m\u001b[0m\u001b[0m\n\u001b[0;32m----> 3\u001b[0;31m \u001b[0mdf\u001b[0m\u001b[0;34m[\u001b[0m\u001b[0;34m'sum'\u001b[0m\u001b[0;34m]\u001b[0m \u001b[0;34m=\u001b[0m \u001b[0mdf\u001b[0m\u001b[0;34m.\u001b[0m\u001b[0mTP\u001b[0m \u001b[0;34m+\u001b[0m \u001b[0mdf\u001b[0m\u001b[0;34m.\u001b[0m\u001b[0mTN\u001b[0m \u001b[0;34m+\u001b[0m \u001b[0mdf\u001b[0m\u001b[0;34m.\u001b[0m\u001b[0mFP\u001b[0m \u001b[0;34m+\u001b[0m \u001b[0mdf\u001b[0m\u001b[0;34m.\u001b[0m\u001b[0mFN\u001b[0m\u001b[0;34m\u001b[0m\u001b[0;34m\u001b[0m\u001b[0m\n\u001b[0m\u001b[1;32m      4\u001b[0m \u001b[0;34m\u001b[0m\u001b[0m\n\u001b[1;32m      5\u001b[0m \u001b[0mdf\u001b[0m\u001b[0;34m[\u001b[0m\u001b[0;34m'accuracy'\u001b[0m\u001b[0;34m]\u001b[0m \u001b[0;34m=\u001b[0m \u001b[0;34m(\u001b[0m\u001b[0mdf\u001b[0m\u001b[0;34m.\u001b[0m\u001b[0mTP\u001b[0m \u001b[0;34m+\u001b[0m \u001b[0mdf\u001b[0m\u001b[0;34m.\u001b[0m\u001b[0mTN\u001b[0m\u001b[0;34m)\u001b[0m \u001b[0;34m/\u001b[0m \u001b[0mdf\u001b[0m\u001b[0;34m[\u001b[0m\u001b[0;34m'sum'\u001b[0m\u001b[0;34m]\u001b[0m\u001b[0;34m\u001b[0m\u001b[0;34m\u001b[0m\u001b[0m\n",
      "\u001b[0;32m~/anaconda3/lib/python3.8/site-packages/pandas/core/generic.py\u001b[0m in \u001b[0;36m__getattr__\u001b[0;34m(self, name)\u001b[0m\n\u001b[1;32m   5485\u001b[0m         ):\n\u001b[1;32m   5486\u001b[0m             \u001b[0;32mreturn\u001b[0m \u001b[0mself\u001b[0m\u001b[0;34m[\u001b[0m\u001b[0mname\u001b[0m\u001b[0;34m]\u001b[0m\u001b[0;34m\u001b[0m\u001b[0;34m\u001b[0m\u001b[0m\n\u001b[0;32m-> 5487\u001b[0;31m         \u001b[0;32mreturn\u001b[0m \u001b[0mobject\u001b[0m\u001b[0;34m.\u001b[0m\u001b[0m__getattribute__\u001b[0m\u001b[0;34m(\u001b[0m\u001b[0mself\u001b[0m\u001b[0;34m,\u001b[0m \u001b[0mname\u001b[0m\u001b[0;34m)\u001b[0m\u001b[0;34m\u001b[0m\u001b[0;34m\u001b[0m\u001b[0m\n\u001b[0m\u001b[1;32m   5488\u001b[0m \u001b[0;34m\u001b[0m\u001b[0m\n\u001b[1;32m   5489\u001b[0m     \u001b[0;32mdef\u001b[0m \u001b[0m__setattr__\u001b[0m\u001b[0;34m(\u001b[0m\u001b[0mself\u001b[0m\u001b[0;34m,\u001b[0m \u001b[0mname\u001b[0m\u001b[0;34m:\u001b[0m \u001b[0mstr\u001b[0m\u001b[0;34m,\u001b[0m \u001b[0mvalue\u001b[0m\u001b[0;34m)\u001b[0m \u001b[0;34m->\u001b[0m \u001b[0;32mNone\u001b[0m\u001b[0;34m:\u001b[0m\u001b[0;34m\u001b[0m\u001b[0;34m\u001b[0m\u001b[0m\n",
      "\u001b[0;31mAttributeError\u001b[0m: 'DataFrame' object has no attribute 'TP'"
     ]
    }
   ],
   "source": [
    "# Make New Columns for Metrics\n",
    "\n",
    "df['sum'] = df.TP + df.TN + df.FP + df.FN\n",
    "\n",
    "df['accuracy'] = (df.TP + df.TN) / df['sum']\n",
    "df['precision'] = df.TP / (df.TP+df.FP)\n",
    "df['recall'] = df.TP / (df.TP+df.FN)\n",
    "\n",
    "# DROP COLUMNS\n",
    "\n",
    "df = df.drop(columns=['tstart', 'tfinish', 'tdelta', 'dateran'])\n",
    "\n",
    "df"
   ]
  },
  {
   "cell_type": "code",
   "execution_count": 19,
   "id": "boolean-level",
   "metadata": {},
   "outputs": [],
   "source": [
    "# Set up a DF for each ML Algo\n",
    "uniquealgolist = [ x for x in algolist if \"_\" not in x ]\n",
    "#uniquealgolist\n",
    "dfTable = []\n",
    "for X in uniquealgolist:\n",
    "    dfTable.append(df[df.index.str.startswith(X)])"
   ]
  },
  {
   "cell_type": "code",
   "execution_count": 20,
   "id": "sophisticated-colleague",
   "metadata": {},
   "outputs": [
    {
     "data": {
      "text/html": [
       "<div>\n",
       "<style scoped>\n",
       "    .dataframe tbody tr th:only-of-type {\n",
       "        vertical-align: middle;\n",
       "    }\n",
       "\n",
       "    .dataframe tbody tr th {\n",
       "        vertical-align: top;\n",
       "    }\n",
       "\n",
       "    .dataframe thead th {\n",
       "        text-align: right;\n",
       "    }\n",
       "</style>\n",
       "<table border=\"1\" class=\"dataframe\">\n",
       "  <thead>\n",
       "    <tr style=\"text-align: right;\">\n",
       "      <th></th>\n",
       "      <th>Accuracy</th>\n",
       "      <th>Precision</th>\n",
       "      <th>Recall</th>\n",
       "    </tr>\n",
       "  </thead>\n",
       "  <tbody>\n",
       "    <tr>\n",
       "      <th>ContractableBOSS</th>\n",
       "      <td>0.770642</td>\n",
       "      <td>0.68254</td>\n",
       "      <td>0.078467</td>\n",
       "    </tr>\n",
       "  </tbody>\n",
       "</table>\n",
       "</div>"
      ],
      "text/plain": [
       "                  Accuracy  Precision    Recall\n",
       "ContractableBOSS  0.770642    0.68254  0.078467"
      ]
     },
     "execution_count": 20,
     "metadata": {},
     "output_type": "execute_result"
    }
   ],
   "source": [
    "dfTable[2]"
   ]
  },
  {
   "cell_type": "code",
   "execution_count": 21,
   "id": "regulated-castle",
   "metadata": {},
   "outputs": [
    {
     "data": {
      "text/plain": [
       "Accuracy     0.770642\n",
       "Precision    0.682540\n",
       "Recall       0.078467\n",
       "Name: ContractableBOSS, dtype: float64"
      ]
     },
     "execution_count": 21,
     "metadata": {},
     "output_type": "execute_result"
    }
   ],
   "source": [
    "dfTable[2].iloc[0][0:4]"
   ]
  },
  {
   "cell_type": "code",
   "execution_count": 14,
   "id": "quick-belize",
   "metadata": {},
   "outputs": [],
   "source": [
    "TN, FP, FN, TP = dfTable[2]['TN'][0], dfTable[2]['FP'][0], dfTable[2]['FN'][0], dfTable[2]['TP'][0]"
   ]
  },
  {
   "cell_type": "code",
   "execution_count": 15,
   "id": "relevant-collectible",
   "metadata": {},
   "outputs": [
    {
     "data": {
      "text/plain": [
       "[[3257, 0], [743, 0]]"
      ]
     },
     "execution_count": 15,
     "metadata": {},
     "output_type": "execute_result"
    }
   ],
   "source": [
    "mat = MakeMatrix(TN, FP, FN, TP)\n",
    "mat"
   ]
  },
  {
   "cell_type": "code",
   "execution_count": 22,
   "id": "analyzed-oklahoma",
   "metadata": {},
   "outputs": [],
   "source": [
    "def GetJSONList():\n",
    "    jsonList = []\n",
    "\n",
    "    for root, dirs, files in os.walk(\"./confusionmatrices/\"):\n",
    "        for file in files:\n",
    "\n",
    "            # Get rid of alpha stuff\n",
    "            if file.endswith(\".json\"):\n",
    "                jsonList.append(os.path.join(root, file))\n",
    "                #print(os.path.join(root, file))\n",
    "    jsonList.sort()\n",
    "#    print(\"Number of JSON files: {}\".format(len(jsonList)))\n",
    "#    for num, i in enumerate(jsonList):\n",
    "#        print (\"{}: {}\".format(num, i))\n",
    "    return(jsonList)"
   ]
  },
  {
   "cell_type": "code",
   "execution_count": 23,
   "id": "unable-scout",
   "metadata": {},
   "outputs": [],
   "source": [
    "def MakeConfMatrix(jsonfile):\n",
    "    #Load the data\n",
    "    with open(jsonfile) as f:\n",
    "        jf = json.load(f)\n",
    "    \n",
    "    # Get the values\n",
    "    newkeylist = []\n",
    "\n",
    "    for algorithm in jf:\n",
    "        algoName = algorithm\n",
    "        \n",
    "        for keys in jf[algorithm][0]:\n",
    "            #print(keys, \"\\n\",TESTJSON[algorithm][0][keys],\"\\n\\n\")\n",
    "            newkeylist.append(jf[algorithm][0][keys])\n",
    "    \n",
    "    [TN, FP, FN, TP] = newkeylist[3:7]\n",
    "    \n",
    "    mat = MakeMatrix(int(TN), int(FP), int(FN), int(TP))\n",
    "    PlotConfusionMatrix(mat, algoName)"
   ]
  },
  {
   "cell_type": "code",
   "execution_count": 24,
   "id": "asian-think",
   "metadata": {},
   "outputs": [
    {
     "ename": "ValueError",
     "evalue": "not enough values to unpack (expected 4, got 0)",
     "output_type": "error",
     "traceback": [
      "\u001b[0;31m---------------------------------------------------------------------------\u001b[0m",
      "\u001b[0;31mValueError\u001b[0m                                Traceback (most recent call last)",
      "\u001b[0;32m/tmp/ipykernel_11514/2350671801.py\u001b[0m in \u001b[0;36m<module>\u001b[0;34m\u001b[0m\n\u001b[0;32m----> 1\u001b[0;31m \u001b[0mMakeConfMatrix\u001b[0m\u001b[0;34m(\u001b[0m\u001b[0mjsonList\u001b[0m\u001b[0;34m[\u001b[0m\u001b[0;36m8\u001b[0m\u001b[0;34m]\u001b[0m\u001b[0;34m)\u001b[0m\u001b[0;34m\u001b[0m\u001b[0;34m\u001b[0m\u001b[0m\n\u001b[0m",
      "\u001b[0;32m/tmp/ipykernel_11514/273366853.py\u001b[0m in \u001b[0;36mMakeConfMatrix\u001b[0;34m(jsonfile)\u001b[0m\n\u001b[1;32m     14\u001b[0m             \u001b[0mnewkeylist\u001b[0m\u001b[0;34m.\u001b[0m\u001b[0mappend\u001b[0m\u001b[0;34m(\u001b[0m\u001b[0mjf\u001b[0m\u001b[0;34m[\u001b[0m\u001b[0malgorithm\u001b[0m\u001b[0;34m]\u001b[0m\u001b[0;34m[\u001b[0m\u001b[0;36m0\u001b[0m\u001b[0;34m]\u001b[0m\u001b[0;34m[\u001b[0m\u001b[0mkeys\u001b[0m\u001b[0;34m]\u001b[0m\u001b[0;34m)\u001b[0m\u001b[0;34m\u001b[0m\u001b[0;34m\u001b[0m\u001b[0m\n\u001b[1;32m     15\u001b[0m \u001b[0;34m\u001b[0m\u001b[0m\n\u001b[0;32m---> 16\u001b[0;31m     \u001b[0;34m[\u001b[0m\u001b[0mTN\u001b[0m\u001b[0;34m,\u001b[0m \u001b[0mFP\u001b[0m\u001b[0;34m,\u001b[0m \u001b[0mFN\u001b[0m\u001b[0;34m,\u001b[0m \u001b[0mTP\u001b[0m\u001b[0;34m]\u001b[0m \u001b[0;34m=\u001b[0m \u001b[0mnewkeylist\u001b[0m\u001b[0;34m[\u001b[0m\u001b[0;36m3\u001b[0m\u001b[0;34m:\u001b[0m\u001b[0;36m7\u001b[0m\u001b[0;34m]\u001b[0m\u001b[0;34m\u001b[0m\u001b[0;34m\u001b[0m\u001b[0m\n\u001b[0m\u001b[1;32m     17\u001b[0m \u001b[0;34m\u001b[0m\u001b[0m\n\u001b[1;32m     18\u001b[0m     \u001b[0mmat\u001b[0m \u001b[0;34m=\u001b[0m \u001b[0mMakeMatrix\u001b[0m\u001b[0;34m(\u001b[0m\u001b[0mint\u001b[0m\u001b[0;34m(\u001b[0m\u001b[0mTN\u001b[0m\u001b[0;34m)\u001b[0m\u001b[0;34m,\u001b[0m \u001b[0mint\u001b[0m\u001b[0;34m(\u001b[0m\u001b[0mFP\u001b[0m\u001b[0;34m)\u001b[0m\u001b[0;34m,\u001b[0m \u001b[0mint\u001b[0m\u001b[0;34m(\u001b[0m\u001b[0mFN\u001b[0m\u001b[0;34m)\u001b[0m\u001b[0;34m,\u001b[0m \u001b[0mint\u001b[0m\u001b[0;34m(\u001b[0m\u001b[0mTP\u001b[0m\u001b[0;34m)\u001b[0m\u001b[0;34m)\u001b[0m\u001b[0;34m\u001b[0m\u001b[0;34m\u001b[0m\u001b[0m\n",
      "\u001b[0;31mValueError\u001b[0m: not enough values to unpack (expected 4, got 0)"
     ]
    }
   ],
   "source": [
    "MakeConfMatrix(jsonList[8])"
   ]
  },
  {
   "cell_type": "code",
   "execution_count": 59,
   "id": "intimate-protocol",
   "metadata": {},
   "outputs": [
    {
     "data": {
      "image/png": "[encoded data removed]",
      "text/plain": [
       "<Figure size 360x360 with 1 Axes>"
      ]
     },
     "metadata": {},
     "output_type": "display_data"
    }
   ],
   "source": [
    "MakeConfMatrix(\"./confusionmatrices/SVM_FOLDED.json\")"
   ]
  },
  {
   "cell_type": "code",
   "execution_count": 60,
   "id": "brief-designer",
   "metadata": {},
   "outputs": [
    {
     "data": {
      "image/png": "[encoded data removed]",
      "text/plain": [
       "<Figure size 360x360 with 1 Axes>"
      ]
     },
     "metadata": {},
     "output_type": "display_data"
    }
   ],
   "source": [
    "for i in range(len(jsonList)):\n",
    "    MakeConfMatrix(jsonList[i])\n",
    "    plt.clf()\n",
    "    plt.cla()\n",
    "    #time.sleep(2)"
   ]
  },
  {
   "cell_type": "code",
   "execution_count": null,
   "id": "blank-saudi",
   "metadata": {},
   "outputs": [],
   "source": []
  }
 ],
 "metadata": {
  "kernelspec": {
   "display_name": "Python 3 (ipykernel)",
   "language": "python",
   "name": "python3"
  },
  "language_info": {
   "codemirror_mode": {
    "name": "ipython",
    "version": 3
   },
   "file_extension": ".py",
   "mimetype": "text/x-python",
   "name": "python",
   "nbconvert_exporter": "python",
   "pygments_lexer": "ipython3",
   "version": "3.8.8"
  }
 },
 "nbformat": 4,
 "nbformat_minor": 5
}
