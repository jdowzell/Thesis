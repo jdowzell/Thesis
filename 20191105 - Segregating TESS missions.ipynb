{
 "cells": [
  {
   "cell_type": "code",
   "execution_count": 1,
   "metadata": {
    "collapsed": true,
    "deletable": true,
    "editable": true
   },
   "outputs": [],
   "source": [
    "# Scientific imports\n",
    "\n",
    "%matplotlib inline\n",
    "from astropy.io import fits\n",
    "import matplotlib.pyplot as plt\n",
    "import numpy as np\n",
    "from astroquery.mast import Observations\n",
    "from astroquery.mast import Catalogs\n",
    "\n",
    "# General imports\n",
    "\n",
    "import csv, math, os, os.path, sys\n",
    "import pandas as pd\n",
    "import seaborn as sb\n",
    "from sklearn import metrics\n",
    "from IPython.display import display\n",
    "sb.set()"
   ]
  },
  {
   "cell_type": "code",
   "execution_count": 2,
   "metadata": {
    "collapsed": true,
    "deletable": true,
    "editable": true
   },
   "outputs": [],
   "source": [
    "# %load data-header-check.py\n",
    "def dataAndHeaderCheck(f, log=False):\n",
    "    \"\"\"\n",
    "    A function to make sure that all headers required for plotting a Light Curve\n",
    "    are present, and alert the user if any are missing (and which ones).\n",
    "    \n",
    "    Input parameter (f) should be a path to a FITS file (local, cloud, etc)\n",
    "    Input parameter (log) displays the printouts IFF set to True\n",
    "    \"\"\"\n",
    "    \n",
    "    # Flags\n",
    "    allStellar = True\n",
    "    allFitPara = True\n",
    "    allFitData = True\n",
    "    \n",
    "    # List of needed headers\n",
    "    stellar_params = ['TEFF', 'LOGG', 'TESSMAG']\n",
    "    \n",
    "    fit_params = ['TPERIOD', 'TDUR', 'TEPOCH', 'TDEPTH']\n",
    "    \n",
    "    fit_data = ['TIME', 'PHASE', 'LC_INIT', 'MODEL_INIT']\n",
    "    \n",
    "    # FITS Headers\n",
    "    fh0 = fits.getheader(f, ext=0)\n",
    "    fh1 = fits.getheader(f, ext=1)\n",
    "    \n",
    "    # FITS Columns\n",
    "    fc = fits.getdata(f).columns\n",
    "    \n",
    "    # Loop through all headers and see if they are present using a Try/Except block\n",
    "    if(log):\n",
    "        print(\"Testing to see if all relevant information is present...\")\n",
    "    \n",
    "    # First, the Stellar Parameters block\n",
    "    for i in range (len(stellar_params)):\n",
    "        try:\n",
    "            fh0[stellar_params[i]]\n",
    "        except:\n",
    "            if(log):\n",
    "                print(\"\\tHeader {} not present!\".format(stellar_params[i]))\n",
    "            allStellar = False\n",
    "    if(allStellar & log):\n",
    "        print(\"\\tAll Stellar Parameters present\")\n",
    "    \n",
    "    # Next, the Fit Parameters block\n",
    "    for i in range (len(fit_params)):\n",
    "        try:\n",
    "            fh1[fit_params[i]]\n",
    "        except:\n",
    "            if(log):\n",
    "                print(\"\\tFit Parameter {} not present!\".format(fit_params[i]))\n",
    "            allFitPara = False\n",
    "    if(allFitPara & log):\n",
    "        print(\"\\tAll Fit Parameters present\")\n",
    "            \n",
    "    # Lastly, the Fit Data block\n",
    "    for i in range (len(fit_data)):\n",
    "        try:\n",
    "            fc[fit_data[i]]\n",
    "        except:\n",
    "            if(log):\n",
    "                print(\"\\tFit Data {} not present!\".format(fit_data[i]))\n",
    "            allFitData = False\n",
    "    if(allFitData & log):\n",
    "        print(\"\\tAll Fit Data present\")\n",
    "        \n",
    "    #allgood = (allStellar & allFitPara & allFitData)\n",
    "    return (allStellar & allFitPara & allFitData)\n"
   ]
  },
  {
   "cell_type": "code",
   "execution_count": 3,
   "metadata": {
    "collapsed": false,
    "deletable": true,
    "editable": true
   },
   "outputs": [
    {
     "name": "stdout",
     "output_type": "stream",
     "text": [
      "Number of FITS files: 28\n"
     ]
    }
   ],
   "source": [
    "fitsList = []\n",
    "fits_directories = [x[0] for x in os.walk('.')]\n",
    "\n",
    "for fits_root, fits_dirs, fits_files in os.walk('.'):\n",
    "    for fits_file in fits_files:\n",
    "        fullpath = os.path.join(fits_root, fits_file)\n",
    "        if (os.path.splitext(fullpath.lower())[1]).endswith('.fits'):\n",
    "            fitsList.append(fullpath)\n",
    "print(\"Number of FITS files: {}\".format(len(fitsList)))"
   ]
  },
  {
   "cell_type": "code",
   "execution_count": 18,
   "metadata": {
    "collapsed": false,
    "deletable": true,
    "editable": true
   },
   "outputs": [
    {
     "data": {
      "text/plain": [
       "SIMPLE  =                    T / conforms to FITS standards                     \n",
       "BITPIX  =                    8 / array data type                                \n",
       "NAXIS   =                    0 / number of array dimensions                     \n",
       "EXTEND  =                    T / file contains extensions                       \n",
       "NEXTEND =                    2 / number of standard extensions                  \n",
       "EXTNAME = 'PRIMARY '           / name of extension                              \n",
       "EXTVER  =                    1 / extension version number (not format version)  \n",
       "ORIGIN  = 'NASA/Ames'          / institution responsible for creating this file \n",
       "DATE    = '2015-08-26'         / file creation date.                            \n",
       "CREATOR = '793561 FluxExporter2PipelineModule' / pipeline job and program used t\n",
       "PROCVER = 'svn+ssh://murzim/repo/soc/tags/release/9.3.21 r60196' / SW version   \n",
       "FILEVER = '6.1     '           / file format version                            \n",
       "TIMVERSN= 'OGIP/93-003'        / OGIP memo number for file format               \n",
       "TELESCOP= 'Kepler  '           / telescope                                      \n",
       "INSTRUME= 'Kepler Photometer'  / detector type                                  \n",
       "OBJECT  = 'KIC 10666592'       / string version of target id                    \n",
       "KEPLERID=             10666592 / unique Kepler target identifier                \n",
       "CHANNEL =                   58 / CCD channel                                    \n",
       "SKYGROUP=                   18 / roll-independent location of channel           \n",
       "MODULE  =                   17 / CCD module                                     \n",
       "OUTPUT  =                    2 / CCD output                                     \n",
       "QUARTER =                    0 / Observing quarter                              \n",
       "SEASON  =                    3 / mission season during which data was collected \n",
       "DATA_REL=                   25 / data release version number                    \n",
       "OBSMODE = 'long cadence'       / observing mode                                 \n",
       "MISSION = 'Kepler  '           / Mission name                                   \n",
       "TTABLEID=                   14 / target table id                                \n",
       "RADESYS = 'ICRS    '           / reference frame of celestial coordinates       \n",
       "RA_OBJ  =           292.247280 / [deg] right ascension                          \n",
       "DEC_OBJ =            47.969519 / [deg] declination                              \n",
       "EQUINOX =               2000.0 / equinox of celestial coordinate system         \n",
       "PMRA    =               0.0000 / [arcsec/yr] RA proper motion                   \n",
       "PMDEC   =               0.0000 / [arcsec/yr] Dec proper motion                  \n",
       "PMTOTAL =               0.0000 / [arcsec/yr] total proper motion                \n",
       "PARALLAX=                      / [arcsec] parallax                              \n",
       "GLON    =            80.032934 / [deg] galactic longitude                       \n",
       "GLAT    =            13.975311 / [deg] galactic latitude                        \n",
       "GMAG    =               10.935 / [mag] SDSS g band magnitude                    \n",
       "RMAG    =               10.490 / [mag] SDSS r band magnitude                    \n",
       "IMAG    =                      / [mag] SDSS i band magnitude                    \n",
       "ZMAG    =                      / [mag] SDSS z band magnitude                    \n",
       "D51MAG  =                      / [mag] D51 magnitude,                           \n",
       "JMAG    =                9.555 / [mag] J band magnitude from 2MASS              \n",
       "HMAG    =                9.344 / [mag] H band magnitude from 2MASS              \n",
       "KMAG    =                9.334 / [mag] K band magnitude from 2MASS              \n",
       "KEPMAG  =                9.710 / [mag] Kepler magnitude (Kp)                    \n",
       "GRCOLOR =                0.445 / [mag] (g-r) color, SDSS bands                  \n",
       "JKCOLOR =                0.221 / [mag] (J-K) color, 2MASS bands                 \n",
       "GKCOLOR =                1.601 / [mag] (g-K) color, SDSS g - 2MASS K            \n",
       "TEFF    =                 6350 / [K] Effective temperature                      \n",
       "LOGG    =                4.021 / [cm/s2] log10 surface gravity                  \n",
       "FEH     =                0.260 / [log10([Fe/H])]  metallicity                   \n",
       "EBMINUSV=                      / [mag] E(B-V) reddening                         \n",
       "AV      =                      / [mag] A_v extinction                           \n",
       "RADIUS  =                1.991 / [solar radii] stellar radius                   \n",
       "TMINDEX =           1099902638 / unique 2MASS catalog ID                        \n",
       "SCPID   =                      / unique SCP processing ID                       \n",
       "CHECKSUM= 'ZrAoZo6oZoAoZo3o'   / HDU checksum updated 2015-08-26T17:47:18Z      "
      ]
     },
     "execution_count": 18,
     "metadata": {},
     "output_type": "execute_result"
    }
   ],
   "source": [
    "fits.getheader(fitsList[0], ext=0)"
   ]
  },
  {
   "cell_type": "code",
   "execution_count": 5,
   "metadata": {
    "collapsed": false,
    "deletable": true,
    "editable": true
   },
   "outputs": [
    {
     "data": {
      "text/plain": [
       "'TESS'"
      ]
     },
     "execution_count": 5,
     "metadata": {},
     "output_type": "execute_result"
    }
   ],
   "source": [
    "fits.getheader(fitsList[1])['TELESCOP']"
   ]
  },
  {
   "cell_type": "markdown",
   "metadata": {
    "deletable": true,
    "editable": true
   },
   "source": [
    "This gives us the Telescope used for this particular mission. Let's loop through the whole list and see if it also gives us this for every entry (ie, it is a standard header)"
   ]
  },
  {
   "cell_type": "code",
   "execution_count": 6,
   "metadata": {
    "collapsed": false,
    "deletable": true,
    "editable": true
   },
   "outputs": [
    {
     "name": "stdout",
     "output_type": "stream",
     "text": [
      "Kepler\n",
      "TESS\n",
      "IUE\n",
      "TESS\n",
      "TESS\n",
      "TESS\n",
      "TESS\n",
      "TESS\n",
      "TESS\n",
      "TESS\n",
      "TESS\n",
      "TESS\n",
      "TESS\n",
      "TESS\n",
      "TESS\n",
      "TESS\n",
      "TESS\n",
      "TESS\n",
      "TESS\n",
      "TESS\n",
      "TESS\n",
      "TESS\n",
      "TESS\n",
      "TESS\n",
      "TESS\n",
      "TESS\n",
      "TESS\n",
      "TESS\n"
     ]
    }
   ],
   "source": [
    "for i in range(len(fitsList)):\n",
    "    print(fits.getheader(fitsList[i])['TELESCOP'])"
   ]
  },
  {
   "cell_type": "markdown",
   "metadata": {
    "deletable": true,
    "editable": true
   },
   "source": [
    "I discovered the `.endswith()` python string method, and this will be useful to me!"
   ]
  },
  {
   "cell_type": "code",
   "execution_count": 7,
   "metadata": {
    "collapsed": false,
    "deletable": true,
    "editable": true
   },
   "outputs": [
    {
     "data": {
      "text/plain": [
       "ColDefs(\n",
       "    name = 'TIME'; format = 'D'; unit = 'BJD - 2457000, days'; disp = 'D14.7'\n",
       "    name = 'TIMECORR'; format = 'E'; unit = 'd'; disp = 'E14.7'\n",
       "    name = 'CADENCENO'; format = 'J'; disp = 'I10'\n",
       "    name = 'RAW_CNTS'; format = '143J'; unit = 'count'; null = -1; disp = 'I8'; dim = '(11,13)'\n",
       "    name = 'FLUX'; format = '143E'; unit = 'e-/s'; disp = 'E14.7'; dim = '(11,13)'\n",
       "    name = 'FLUX_ERR'; format = '143E'; unit = 'e-/s'; disp = 'E14.7'; dim = '(11,13)'\n",
       "    name = 'FLUX_BKG'; format = '143E'; unit = 'e-/s'; disp = 'E14.7'; dim = '(11,13)'\n",
       "    name = 'FLUX_BKG_ERR'; format = '143E'; unit = 'e-/s'; disp = 'E14.7'; dim = '(11,13)'\n",
       "    name = 'QUALITY'; format = 'J'; disp = 'B16.16'\n",
       "    name = 'POS_CORR1'; format = 'E'; unit = 'pixel'; disp = 'E14.7'\n",
       "    name = 'POS_CORR2'; format = 'E'; unit = 'pixel'; disp = 'E14.7'\n",
       ")"
      ]
     },
     "execution_count": 7,
     "metadata": {},
     "output_type": "execute_result"
    }
   ],
   "source": [
    "fits.getdata(fitsList[4], ext=0).columns"
   ]
  },
  {
   "cell_type": "code",
   "execution_count": 14,
   "metadata": {
    "collapsed": false,
    "deletable": true,
    "editable": true
   },
   "outputs": [
    {
     "data": {
      "image/png": "[encoded data removed]",
      "text/plain": [
       "<Figure size 2000x800 with 1 Axes>"
      ]
     },
     "metadata": {},
     "output_type": "display_data"
    }
   ],
   "source": [
    "with fits.open(fitsList[1], mode=\"readonly\") as hdulist:\n",
    "    \n",
    "    # Extract stellar parameters from the primary header.  We'll get the effective temperature, surface gravity,\n",
    "    # and TESS magnitude.\n",
    "    star_teff = hdulist[0].header['TEFF']\n",
    "    star_logg = hdulist[0].header['LOGG']\n",
    "    star_tmag = hdulist[0].header['TESSMAG']\n",
    "    \n",
    "    # Extract some of the fit parameters for the first TCE.  These are stored in the FITS header of the first\n",
    "    # extension.\n",
    "    #####period = hdulist[1].header['TPERIOD']\n",
    "    #####duration = hdulist[1].header['TDUR']\n",
    "    #####epoch = hdulist[1].header['TEPOCH']\n",
    "    #####depth = hdulist[1].header['TDEPTH']\n",
    "    \n",
    "    # Extract some of the columns of interest for the first TCE signal.  These are stored in the binary FITS table\n",
    "    # in the first extension.  We'll extract the timestamps in TBJD, phase, initial fluxes, and corresponding\n",
    "    # model fluxes.\n",
    "    #####times = hdulist[1].data['TIME']\n",
    "    phases = hdulist[1].data['PHASE']\n",
    "    fluxes_init = hdulist[1].data['LC_INIT']\n",
    "    #####model_fluxes_init = hdulist[1].data['MODEL_INIT']\n",
    "    \n",
    "# First sort the phase and flux arrays by phase so we can draw the connecting lines between points.\n",
    "#####sort_indexes = np.argsort(phases)\n",
    "\n",
    "# Start figure and axis.\n",
    "fig, ax = plt.subplots(figsize=(20,8))\n",
    "\n",
    "# Plot the detrended fluxes as black circles.  We will plot them in sorted order.\n",
    "ax.plot(phases, fluxes_init, 'ko',\n",
    "       markersize=2)\n",
    "\n",
    "# Plot the model fluxes as a red line.  We will plot them in sorted order so the line connects between points cleanly.\n",
    "#####ax.plot(phases[sort_indexes], model_fluxes_init[sort_indexes], '-r')\n",
    "\n",
    "# Let's label the axes and define a title for the figure.\n",
    "fig.suptitle('TIC 100100827 - Folded Lightcurve And Transit Model.')\n",
    "ax.set_ylabel(\"Flux (relative)\")\n",
    "ax.set_xlabel(\"Orbital Phase\")\n",
    "\n",
    "# Let's add some text in the top-right containing some of the fit parameters.\n",
    "#plt.text(0.2, 0.012, \"Period = {0:10.6f} days\".format(period))\n",
    "#plt.text(0.2, 0.010, \"Duration = {0:10.6f} hours\".format(duration))\n",
    "#plt.text(0.2, 0.008, \"Depth = {0:10.6f} ppm\".format(depth))\n",
    "#plt.text(0.45, 0.012, \"Star Teff = {0:10.6f} K\".format(star_teff))\n",
    "#plt.text(0.45, 0.010, \"Star log(g) = {0:10.6f}\".format(star_logg))\n",
    "\n",
    "plt.show()"
   ]
  },
  {
   "cell_type": "code",
   "execution_count": 9,
   "metadata": {
    "collapsed": false
   },
   "outputs": [],
   "source": [
    "#%reset"
   ]
  },
  {
   "cell_type": "markdown",
   "metadata": {
    "collapsed": true,
    "deletable": true,
    "editable": true
   },
   "source": [
    "Okay, so the following things are _non-essential_:\n",
    "- Period (we can calculate that algorithmically)\n",
    "- Duration (this can also be calculated)\n",
    "- Epoch (this is only ever given as a variable and not used to plot the LC)\n",
    "- Depth (can be calculated)\n",
    "- Times (never used)\n",
    "- Model Fluxes (this is used to place a model LC, and that's what we're trying to do via ML)"
   ]
  },
  {
   "cell_type": "code",
   "execution_count": null,
   "metadata": {
    "collapsed": true
   },
   "outputs": [],
   "source": []
  }
 ],
 "metadata": {
  "kernelspec": {
   "display_name": "Python 3",
   "language": "python",
   "name": "python3"
  },
  "language_info": {
   "codemirror_mode": {
    "name": "ipython",
    "version": 3
   },
   "file_extension": ".py",
   "mimetype": "text/x-python",
   "name": "python",
   "nbconvert_exporter": "python",
   "pygments_lexer": "ipython3",
   "version": "3.5.6"
  }
 },
 "nbformat": 4,
 "nbformat_minor": 0
}
