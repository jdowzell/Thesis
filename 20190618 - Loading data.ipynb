{
 "cells": [
  {
   "cell_type": "code",
   "execution_count": 37,
   "metadata": {
    "collapsed": true
   },
   "outputs": [],
   "source": [
    "import csv\n",
    "import math\n",
    "import os, os.path\n",
    "import io\n",
    "import sys\n",
    "import pandas as pd\n",
    "import seaborn as sb\n",
    "import matplotlib.pyplot as plt\n",
    "import numpy as np\n",
    "from sklearn.linear_model import LinearRegression"
   ]
  },
  {
   "cell_type": "code",
   "execution_count": 2,
   "metadata": {
    "collapsed": true
   },
   "outputs": [],
   "source": [
    "# Sample Decision Tree Classifier\n",
    "from sklearn import datasets\n",
    "from sklearn import metrics\n",
    "from sklearn.tree import DecisionTreeClassifier"
   ]
  },
  {
   "cell_type": "code",
   "execution_count": 3,
   "metadata": {
    "collapsed": true
   },
   "outputs": [],
   "source": [
    "model = DecisionTreeClassifier()"
   ]
  },
  {
   "cell_type": "code",
   "execution_count": 4,
   "metadata": {
    "collapsed": true
   },
   "outputs": [],
   "source": [
    "dataset = pd.read_csv(\"../Data/exoplanetarchive/candidates-20190613-TIDIED.csv\", header = 24)"
   ]
  },
  {
   "cell_type": "code",
   "execution_count": 5,
   "metadata": {
    "collapsed": false
   },
   "outputs": [
    {
     "data": {
      "text/plain": [
       "['kepid',\n",
       " 'kepoi_name',\n",
       " 'koi_period',\n",
       " 'koi_period_err1',\n",
       " 'koi_prad',\n",
       " 'koi_prad_err1',\n",
       " 'koi_teq',\n",
       " 'koi_insol',\n",
       " 'koi_insol_err1',\n",
       " 'koi_steff',\n",
       " 'koi_steff_err1',\n",
       " 'koi_slogg',\n",
       " 'koi_slogg_err1',\n",
       " 'koi_srad',\n",
       " 'koi_srad_err1']"
      ]
     },
     "execution_count": 5,
     "metadata": {},
     "output_type": "execute_result"
    }
   ],
   "source": [
    "original_headers = list(dataset.columns.values)\n",
    "original_headers"
   ]
  },
  {
   "cell_type": "code",
   "execution_count": 10,
   "metadata": {
    "collapsed": false
   },
   "outputs": [
    {
     "data": {
      "text/html": [
       "<div>\n",
       "<table border=\"1\" class=\"dataframe\">\n",
       "  <thead>\n",
       "    <tr style=\"text-align: right;\">\n",
       "      <th></th>\n",
       "      <th>kepid</th>\n",
       "      <th>kepoi_name</th>\n",
       "      <th>koi_period</th>\n",
       "      <th>koi_period_err1</th>\n",
       "      <th>koi_prad</th>\n",
       "      <th>koi_prad_err1</th>\n",
       "      <th>koi_teq</th>\n",
       "      <th>koi_insol</th>\n",
       "      <th>koi_insol_err1</th>\n",
       "      <th>koi_steff</th>\n",
       "      <th>koi_steff_err1</th>\n",
       "      <th>koi_slogg</th>\n",
       "      <th>koi_slogg_err1</th>\n",
       "      <th>koi_srad</th>\n",
       "      <th>koi_srad_err1</th>\n",
       "    </tr>\n",
       "  </thead>\n",
       "  <tbody>\n",
       "    <tr>\n",
       "      <th>0</th>\n",
       "      <td>1025986</td>\n",
       "      <td>K07621.01</td>\n",
       "      <td>275.073650</td>\n",
       "      <td>0.039280</td>\n",
       "      <td>1.86</td>\n",
       "      <td>0.33</td>\n",
       "      <td>303.0</td>\n",
       "      <td>2.00</td>\n",
       "      <td>0.92</td>\n",
       "      <td>5604.0</td>\n",
       "      <td>84.0</td>\n",
       "      <td>4.226</td>\n",
       "      <td>0.208</td>\n",
       "      <td>1.187</td>\n",
       "      <td>0.207</td>\n",
       "    </tr>\n",
       "    <tr>\n",
       "      <th>1</th>\n",
       "      <td>1026957</td>\n",
       "      <td>K00958.01</td>\n",
       "      <td>21.761298</td>\n",
       "      <td>0.000017</td>\n",
       "      <td>2.53</td>\n",
       "      <td>0.16</td>\n",
       "      <td>486.0</td>\n",
       "      <td>13.18</td>\n",
       "      <td>3.00</td>\n",
       "      <td>4859.0</td>\n",
       "      <td>97.0</td>\n",
       "      <td>4.612</td>\n",
       "      <td>0.015</td>\n",
       "      <td>0.720</td>\n",
       "      <td>0.047</td>\n",
       "    </tr>\n",
       "    <tr>\n",
       "      <th>2</th>\n",
       "      <td>1161345</td>\n",
       "      <td>K00984.01</td>\n",
       "      <td>4.287467</td>\n",
       "      <td>0.000015</td>\n",
       "      <td>2.29</td>\n",
       "      <td>0.22</td>\n",
       "      <td>942.0</td>\n",
       "      <td>186.31</td>\n",
       "      <td>56.73</td>\n",
       "      <td>5296.0</td>\n",
       "      <td>105.0</td>\n",
       "      <td>4.576</td>\n",
       "      <td>0.015</td>\n",
       "      <td>0.815</td>\n",
       "      <td>0.080</td>\n",
       "    </tr>\n",
       "    <tr>\n",
       "      <th>3</th>\n",
       "      <td>1164301</td>\n",
       "      <td>K04921.01</td>\n",
       "      <td>95.688682</td>\n",
       "      <td>0.003599</td>\n",
       "      <td>28.41</td>\n",
       "      <td>1.13</td>\n",
       "      <td>1046.0</td>\n",
       "      <td>283.07</td>\n",
       "      <td>37.83</td>\n",
       "      <td>5040.0</td>\n",
       "      <td>60.0</td>\n",
       "      <td>2.681</td>\n",
       "      <td>0.029</td>\n",
       "      <td>13.056</td>\n",
       "      <td>0.520</td>\n",
       "    </tr>\n",
       "    <tr>\n",
       "      <th>4</th>\n",
       "      <td>1293379</td>\n",
       "      <td>K06253.01</td>\n",
       "      <td>27.556452</td>\n",
       "      <td>0.002928</td>\n",
       "      <td>1.40</td>\n",
       "      <td>0.54</td>\n",
       "      <td>531.0</td>\n",
       "      <td>18.86</td>\n",
       "      <td>22.40</td>\n",
       "      <td>5509.0</td>\n",
       "      <td>184.0</td>\n",
       "      <td>4.565</td>\n",
       "      <td>0.024</td>\n",
       "      <td>0.836</td>\n",
       "      <td>0.322</td>\n",
       "    </tr>\n",
       "  </tbody>\n",
       "</table>\n",
       "</div>"
      ],
      "text/plain": [
       "     kepid kepoi_name  koi_period  koi_period_err1  koi_prad  koi_prad_err1  \\\n",
       "0  1025986  K07621.01  275.073650         0.039280      1.86           0.33   \n",
       "1  1026957  K00958.01   21.761298         0.000017      2.53           0.16   \n",
       "2  1161345  K00984.01    4.287467         0.000015      2.29           0.22   \n",
       "3  1164301  K04921.01   95.688682         0.003599     28.41           1.13   \n",
       "4  1293379  K06253.01   27.556452         0.002928      1.40           0.54   \n",
       "\n",
       "   koi_teq  koi_insol  koi_insol_err1  koi_steff  koi_steff_err1  koi_slogg  \\\n",
       "0    303.0       2.00            0.92     5604.0            84.0      4.226   \n",
       "1    486.0      13.18            3.00     4859.0            97.0      4.612   \n",
       "2    942.0     186.31           56.73     5296.0           105.0      4.576   \n",
       "3   1046.0     283.07           37.83     5040.0            60.0      2.681   \n",
       "4    531.0      18.86           22.40     5509.0           184.0      4.565   \n",
       "\n",
       "   koi_slogg_err1  koi_srad  koi_srad_err1  \n",
       "0           0.208     1.187          0.207  \n",
       "1           0.015     0.720          0.047  \n",
       "2           0.015     0.815          0.080  \n",
       "3           0.029    13.056          0.520  \n",
       "4           0.024     0.836          0.322  "
      ]
     },
     "execution_count": 10,
     "metadata": {},
     "output_type": "execute_result"
    }
   ],
   "source": [
    "#model.fit(dataset.data, dataset.target)\n",
    "dataset.head()"
   ]
  },
  {
   "cell_type": "code",
   "execution_count": 90,
   "metadata": {
    "collapsed": false
   },
   "outputs": [],
   "source": [
    "goldilocks_dataset = dataset.drop(['kepid',\n",
    "                                   'koi_period',\n",
    "                                   'koi_period_err1',\n",
    "                                   'koi_prad_err1',\n",
    "                                   #'koi_insol',\n",
    "                                   'koi_insol_err1', \n",
    "                                   'koi_steff',\n",
    "                                   'koi_steff_err1',\n",
    "                                   'koi_slogg',\n",
    "                                   'koi_slogg_err1',\n",
    "                                   #'koi_srad',\n",
    "                                   'koi_srad_err1'],\n",
    "                                  axis=1)"
   ]
  },
  {
   "cell_type": "code",
   "execution_count": 41,
   "metadata": {
    "collapsed": false
   },
   "outputs": [
    {
     "data": {
      "text/html": [
       "<div>\n",
       "<table border=\"1\" class=\"dataframe\">\n",
       "  <thead>\n",
       "    <tr style=\"text-align: right;\">\n",
       "      <th></th>\n",
       "      <th>kepoi_name</th>\n",
       "      <th>koi_prad</th>\n",
       "      <th>koi_teq</th>\n",
       "      <th>koi_insol</th>\n",
       "      <th>koi_srad</th>\n",
       "    </tr>\n",
       "  </thead>\n",
       "  <tbody>\n",
       "    <tr>\n",
       "      <th>0</th>\n",
       "      <td>K07621.01</td>\n",
       "      <td>1.86</td>\n",
       "      <td>303.0</td>\n",
       "      <td>2.00</td>\n",
       "      <td>1.187</td>\n",
       "    </tr>\n",
       "    <tr>\n",
       "      <th>1</th>\n",
       "      <td>K00958.01</td>\n",
       "      <td>2.53</td>\n",
       "      <td>486.0</td>\n",
       "      <td>13.18</td>\n",
       "      <td>0.720</td>\n",
       "    </tr>\n",
       "    <tr>\n",
       "      <th>2</th>\n",
       "      <td>K00984.01</td>\n",
       "      <td>2.29</td>\n",
       "      <td>942.0</td>\n",
       "      <td>186.31</td>\n",
       "      <td>0.815</td>\n",
       "    </tr>\n",
       "    <tr>\n",
       "      <th>3</th>\n",
       "      <td>K04921.01</td>\n",
       "      <td>28.41</td>\n",
       "      <td>1046.0</td>\n",
       "      <td>283.07</td>\n",
       "      <td>13.056</td>\n",
       "    </tr>\n",
       "    <tr>\n",
       "      <th>4</th>\n",
       "      <td>K06253.01</td>\n",
       "      <td>1.40</td>\n",
       "      <td>531.0</td>\n",
       "      <td>18.86</td>\n",
       "      <td>0.836</td>\n",
       "    </tr>\n",
       "  </tbody>\n",
       "</table>\n",
       "</div>"
      ],
      "text/plain": [
       "  kepoi_name  koi_prad  koi_teq  koi_insol  koi_srad\n",
       "0  K07621.01      1.86    303.0       2.00     1.187\n",
       "1  K00958.01      2.53    486.0      13.18     0.720\n",
       "2  K00984.01      2.29    942.0     186.31     0.815\n",
       "3  K04921.01     28.41   1046.0     283.07    13.056\n",
       "4  K06253.01      1.40    531.0      18.86     0.836"
      ]
     },
     "execution_count": 41,
     "metadata": {},
     "output_type": "execute_result"
    }
   ],
   "source": [
    "goldilocks_dataset.head()"
   ]
  },
  {
   "cell_type": "code",
   "execution_count": 54,
   "metadata": {
    "collapsed": false
   },
   "outputs": [
    {
     "data": {
      "text/html": [
       "<div>\n",
       "<table border=\"1\" class=\"dataframe\">\n",
       "  <thead>\n",
       "    <tr style=\"text-align: right;\">\n",
       "      <th></th>\n",
       "      <th>koi_prad</th>\n",
       "      <th>koi_teq</th>\n",
       "      <th>koi_insol</th>\n",
       "      <th>koi_srad</th>\n",
       "    </tr>\n",
       "  </thead>\n",
       "  <tbody>\n",
       "    <tr>\n",
       "      <th>count</th>\n",
       "      <td>2315.000000</td>\n",
       "      <td>2315.000000</td>\n",
       "      <td>2318.000000</td>\n",
       "      <td>2315.000000</td>\n",
       "    </tr>\n",
       "    <tr>\n",
       "      <th>mean</th>\n",
       "      <td>79.802700</td>\n",
       "      <td>811.860043</td>\n",
       "      <td>1079.972364</td>\n",
       "      <td>1.516442</td>\n",
       "    </tr>\n",
       "    <tr>\n",
       "      <th>std</th>\n",
       "      <td>2374.640647</td>\n",
       "      <td>541.847829</td>\n",
       "      <td>11596.625032</td>\n",
       "      <td>4.951602</td>\n",
       "    </tr>\n",
       "    <tr>\n",
       "      <th>min</th>\n",
       "      <td>0.220000</td>\n",
       "      <td>25.000000</td>\n",
       "      <td>0.000000</td>\n",
       "      <td>0.109000</td>\n",
       "    </tr>\n",
       "    <tr>\n",
       "      <th>25%</th>\n",
       "      <td>1.200000</td>\n",
       "      <td>440.500000</td>\n",
       "      <td>8.950000</td>\n",
       "      <td>0.820500</td>\n",
       "    </tr>\n",
       "    <tr>\n",
       "      <th>50%</th>\n",
       "      <td>1.820000</td>\n",
       "      <td>713.000000</td>\n",
       "      <td>60.970000</td>\n",
       "      <td>0.988000</td>\n",
       "    </tr>\n",
       "    <tr>\n",
       "      <th>75%</th>\n",
       "      <td>2.970000</td>\n",
       "      <td>1031.500000</td>\n",
       "      <td>267.715000</td>\n",
       "      <td>1.286000</td>\n",
       "    </tr>\n",
       "    <tr>\n",
       "      <th>max</th>\n",
       "      <td>109061.000000</td>\n",
       "      <td>6285.000000</td>\n",
       "      <td>369989.680000</td>\n",
       "      <td>152.969000</td>\n",
       "    </tr>\n",
       "  </tbody>\n",
       "</table>\n",
       "</div>"
      ],
      "text/plain": [
       "            koi_prad      koi_teq      koi_insol     koi_srad\n",
       "count    2315.000000  2315.000000    2318.000000  2315.000000\n",
       "mean       79.802700   811.860043    1079.972364     1.516442\n",
       "std      2374.640647   541.847829   11596.625032     4.951602\n",
       "min         0.220000    25.000000       0.000000     0.109000\n",
       "25%         1.200000   440.500000       8.950000     0.820500\n",
       "50%         1.820000   713.000000      60.970000     0.988000\n",
       "75%         2.970000  1031.500000     267.715000     1.286000\n",
       "max    109061.000000  6285.000000  369989.680000   152.969000"
      ]
     },
     "execution_count": 54,
     "metadata": {},
     "output_type": "execute_result"
    }
   ],
   "source": [
    "goldilocks_dataset.describe()"
   ]
  },
  {
   "cell_type": "code",
   "execution_count": 53,
   "metadata": {
    "collapsed": false
   },
   "outputs": [
    {
     "data": {
      "text/html": [
       "<div>\n",
       "<table border=\"1\" class=\"dataframe\">\n",
       "  <thead>\n",
       "    <tr style=\"text-align: right;\">\n",
       "      <th></th>\n",
       "      <th>koi_prad</th>\n",
       "      <th>koi_teq</th>\n",
       "      <th>koi_insol</th>\n",
       "      <th>koi_srad</th>\n",
       "    </tr>\n",
       "  </thead>\n",
       "  <tbody>\n",
       "    <tr>\n",
       "      <th>count</th>\n",
       "      <td>2315.000000</td>\n",
       "      <td>2315.000000</td>\n",
       "      <td>2315.000000</td>\n",
       "      <td>2315.000000</td>\n",
       "    </tr>\n",
       "    <tr>\n",
       "      <th>mean</th>\n",
       "      <td>79.802700</td>\n",
       "      <td>811.860043</td>\n",
       "      <td>1080.991123</td>\n",
       "      <td>1.516442</td>\n",
       "    </tr>\n",
       "    <tr>\n",
       "      <th>std</th>\n",
       "      <td>2374.640647</td>\n",
       "      <td>541.847829</td>\n",
       "      <td>11604.099369</td>\n",
       "      <td>4.951602</td>\n",
       "    </tr>\n",
       "    <tr>\n",
       "      <th>min</th>\n",
       "      <td>0.220000</td>\n",
       "      <td>25.000000</td>\n",
       "      <td>0.000000</td>\n",
       "      <td>0.109000</td>\n",
       "    </tr>\n",
       "    <tr>\n",
       "      <th>25%</th>\n",
       "      <td>1.200000</td>\n",
       "      <td>440.500000</td>\n",
       "      <td>8.910000</td>\n",
       "      <td>0.820500</td>\n",
       "    </tr>\n",
       "    <tr>\n",
       "      <th>50%</th>\n",
       "      <td>1.820000</td>\n",
       "      <td>713.000000</td>\n",
       "      <td>60.930000</td>\n",
       "      <td>0.988000</td>\n",
       "    </tr>\n",
       "    <tr>\n",
       "      <th>75%</th>\n",
       "      <td>2.970000</td>\n",
       "      <td>1031.500000</td>\n",
       "      <td>267.160000</td>\n",
       "      <td>1.286000</td>\n",
       "    </tr>\n",
       "    <tr>\n",
       "      <th>max</th>\n",
       "      <td>109061.000000</td>\n",
       "      <td>6285.000000</td>\n",
       "      <td>369989.680000</td>\n",
       "      <td>152.969000</td>\n",
       "    </tr>\n",
       "  </tbody>\n",
       "</table>\n",
       "</div>"
      ],
      "text/plain": [
       "            koi_prad      koi_teq      koi_insol     koi_srad\n",
       "count    2315.000000  2315.000000    2315.000000  2315.000000\n",
       "mean       79.802700   811.860043    1080.991123     1.516442\n",
       "std      2374.640647   541.847829   11604.099369     4.951602\n",
       "min         0.220000    25.000000       0.000000     0.109000\n",
       "25%         1.200000   440.500000       8.910000     0.820500\n",
       "50%         1.820000   713.000000      60.930000     0.988000\n",
       "75%         2.970000  1031.500000     267.160000     1.286000\n",
       "max    109061.000000  6285.000000  369989.680000   152.969000"
      ]
     },
     "execution_count": 53,
     "metadata": {},
     "output_type": "execute_result"
    }
   ],
   "source": [
    "goldilocks_dataset.dropna().describe()"
   ]
  },
  {
   "cell_type": "code",
   "execution_count": 132,
   "metadata": {
    "collapsed": false
   },
   "outputs": [],
   "source": [
    "new_data = goldilocks_dataset.dropna()\n",
    "X_gold = new_data.dropna().drop(\"kepoi_name\", axis=1)\n",
    "Y_gold = new_data['kepoi_name']"
   ]
  },
  {
   "cell_type": "code",
   "execution_count": 135,
   "metadata": {
    "collapsed": false
   },
   "outputs": [
    {
     "data": {
      "text/plain": [
       "(2315, 4)"
      ]
     },
     "execution_count": 135,
     "metadata": {},
     "output_type": "execute_result"
    }
   ],
   "source": [
    "X_gold.shape"
   ]
  },
  {
   "cell_type": "code",
   "execution_count": 136,
   "metadata": {
    "collapsed": false
   },
   "outputs": [
    {
     "data": {
      "text/plain": [
       "(2315,)"
      ]
     },
     "execution_count": 136,
     "metadata": {},
     "output_type": "execute_result"
    }
   ],
   "source": [
    "Y_gold.shape"
   ]
  },
  {
   "cell_type": "code",
   "execution_count": 137,
   "metadata": {
    "collapsed": false
   },
   "outputs": [
    {
     "data": {
      "text/html": [
       "<div>\n",
       "<table border=\"1\" class=\"dataframe\">\n",
       "  <thead>\n",
       "    <tr style=\"text-align: right;\">\n",
       "      <th></th>\n",
       "      <th>kepoi_name</th>\n",
       "      <th>koi_prad</th>\n",
       "      <th>koi_teq</th>\n",
       "      <th>koi_insol</th>\n",
       "      <th>koi_srad</th>\n",
       "    </tr>\n",
       "  </thead>\n",
       "  <tbody>\n",
       "    <tr>\n",
       "      <th>0</th>\n",
       "      <td>K07621.01</td>\n",
       "      <td>1.86</td>\n",
       "      <td>303.0</td>\n",
       "      <td>2.00</td>\n",
       "      <td>1.187</td>\n",
       "    </tr>\n",
       "    <tr>\n",
       "      <th>1</th>\n",
       "      <td>K00958.01</td>\n",
       "      <td>2.53</td>\n",
       "      <td>486.0</td>\n",
       "      <td>13.18</td>\n",
       "      <td>0.720</td>\n",
       "    </tr>\n",
       "    <tr>\n",
       "      <th>2</th>\n",
       "      <td>K00984.01</td>\n",
       "      <td>2.29</td>\n",
       "      <td>942.0</td>\n",
       "      <td>186.31</td>\n",
       "      <td>0.815</td>\n",
       "    </tr>\n",
       "    <tr>\n",
       "      <th>3</th>\n",
       "      <td>K04921.01</td>\n",
       "      <td>28.41</td>\n",
       "      <td>1046.0</td>\n",
       "      <td>283.07</td>\n",
       "      <td>13.056</td>\n",
       "    </tr>\n",
       "    <tr>\n",
       "      <th>4</th>\n",
       "      <td>K06253.01</td>\n",
       "      <td>1.40</td>\n",
       "      <td>531.0</td>\n",
       "      <td>18.86</td>\n",
       "      <td>0.836</td>\n",
       "    </tr>\n",
       "  </tbody>\n",
       "</table>\n",
       "</div>"
      ],
      "text/plain": [
       "  kepoi_name  koi_prad  koi_teq  koi_insol  koi_srad\n",
       "0  K07621.01      1.86    303.0       2.00     1.187\n",
       "1  K00958.01      2.53    486.0      13.18     0.720\n",
       "2  K00984.01      2.29    942.0     186.31     0.815\n",
       "3  K04921.01     28.41   1046.0     283.07    13.056\n",
       "4  K06253.01      1.40    531.0      18.86     0.836"
      ]
     },
     "execution_count": 137,
     "metadata": {},
     "output_type": "execute_result"
    }
   ],
   "source": [
    "new_data.head()"
   ]
  },
  {
   "cell_type": "code",
   "execution_count": 87,
   "metadata": {
    "collapsed": true
   },
   "outputs": [],
   "source": [
    "def goldilocks_temp(t):\n",
    "    if t < 273:\n",
    "        return \"Too cold\";\n",
    "    elif t > 373:\n",
    "        return \"Too hot\";\n",
    "    else:\n",
    "        return \"Just right\""
   ]
  },
  {
   "cell_type": "code",
   "execution_count": 128,
   "metadata": {
    "collapsed": false
   },
   "outputs": [
    {
     "data": {
      "text/html": [
       "<div>\n",
       "<table border=\"1\" class=\"dataframe\">\n",
       "  <thead>\n",
       "    <tr style=\"text-align: right;\">\n",
       "      <th></th>\n",
       "      <th>kepoi_name</th>\n",
       "      <th>koi_teq</th>\n",
       "      <th>koi_insol</th>\n",
       "    </tr>\n",
       "  </thead>\n",
       "  <tbody>\n",
       "    <tr>\n",
       "      <th>2313</th>\n",
       "      <td>K04303.01</td>\n",
       "      <td>327.0</td>\n",
       "      <td>2.72</td>\n",
       "    </tr>\n",
       "    <tr>\n",
       "      <th>2314</th>\n",
       "      <td>K05979.01</td>\n",
       "      <td>592.0</td>\n",
       "      <td>29.06</td>\n",
       "    </tr>\n",
       "    <tr>\n",
       "      <th>2315</th>\n",
       "      <td>K04245.01</td>\n",
       "      <td>788.0</td>\n",
       "      <td>91.32</td>\n",
       "    </tr>\n",
       "    <tr>\n",
       "      <th>2316</th>\n",
       "      <td>K00298.02</td>\n",
       "      <td>397.0</td>\n",
       "      <td>5.85</td>\n",
       "    </tr>\n",
       "    <tr>\n",
       "      <th>2317</th>\n",
       "      <td>K02184.02</td>\n",
       "      <td>288.0</td>\n",
       "      <td>1.63</td>\n",
       "    </tr>\n",
       "  </tbody>\n",
       "</table>\n",
       "</div>"
      ],
      "text/plain": [
       "     kepoi_name  koi_teq  koi_insol\n",
       "2313  K04303.01    327.0       2.72\n",
       "2314  K05979.01    592.0      29.06\n",
       "2315  K04245.01    788.0      91.32\n",
       "2316  K00298.02    397.0       5.85\n",
       "2317  K02184.02    288.0       1.63"
      ]
     },
     "execution_count": 128,
     "metadata": {},
     "output_type": "execute_result"
    }
   ],
   "source": [
    "tmp = new_data.drop([\"koi_prad\",\"koi_srad\"],axis=1)\n",
    "tmp.tail()"
   ]
  },
  {
   "cell_type": "code",
   "execution_count": 129,
   "metadata": {
    "collapsed": false
   },
   "outputs": [
    {
     "data": {
      "text/html": [
       "<div>\n",
       "<table border=\"1\" class=\"dataframe\">\n",
       "  <thead>\n",
       "    <tr style=\"text-align: right;\">\n",
       "      <th></th>\n",
       "      <th>kepoi_name</th>\n",
       "      <th>koi_prad</th>\n",
       "      <th>koi_teq</th>\n",
       "      <th>koi_insol</th>\n",
       "      <th>koi_srad</th>\n",
       "    </tr>\n",
       "  </thead>\n",
       "  <tbody>\n",
       "    <tr>\n",
       "      <th>0</th>\n",
       "      <td>K07621.01</td>\n",
       "      <td>1.86</td>\n",
       "      <td>303.0</td>\n",
       "      <td>2.00</td>\n",
       "      <td>1.187</td>\n",
       "    </tr>\n",
       "    <tr>\n",
       "      <th>1</th>\n",
       "      <td>K00958.01</td>\n",
       "      <td>2.53</td>\n",
       "      <td>486.0</td>\n",
       "      <td>13.18</td>\n",
       "      <td>0.720</td>\n",
       "    </tr>\n",
       "    <tr>\n",
       "      <th>2</th>\n",
       "      <td>K00984.01</td>\n",
       "      <td>2.29</td>\n",
       "      <td>942.0</td>\n",
       "      <td>186.31</td>\n",
       "      <td>0.815</td>\n",
       "    </tr>\n",
       "    <tr>\n",
       "      <th>3</th>\n",
       "      <td>K04921.01</td>\n",
       "      <td>28.41</td>\n",
       "      <td>1046.0</td>\n",
       "      <td>283.07</td>\n",
       "      <td>13.056</td>\n",
       "    </tr>\n",
       "    <tr>\n",
       "      <th>4</th>\n",
       "      <td>K06253.01</td>\n",
       "      <td>1.40</td>\n",
       "      <td>531.0</td>\n",
       "      <td>18.86</td>\n",
       "      <td>0.836</td>\n",
       "    </tr>\n",
       "  </tbody>\n",
       "</table>\n",
       "</div>"
      ],
      "text/plain": [
       "  kepoi_name  koi_prad  koi_teq  koi_insol  koi_srad\n",
       "0  K07621.01      1.86    303.0       2.00     1.187\n",
       "1  K00958.01      2.53    486.0      13.18     0.720\n",
       "2  K00984.01      2.29    942.0     186.31     0.815\n",
       "3  K04921.01     28.41   1046.0     283.07    13.056\n",
       "4  K06253.01      1.40    531.0      18.86     0.836"
      ]
     },
     "execution_count": 129,
     "metadata": {},
     "output_type": "execute_result"
    }
   ],
   "source": [
    "new_data.head()"
   ]
  },
  {
   "cell_type": "code",
   "execution_count": 139,
   "metadata": {
    "collapsed": true
   },
   "outputs": [],
   "source": [
    "new_data.insert(3,\"gold_temp\",[(goldilocks_temp(t)) for t in tmp[\"koi_teq\"]],True)"
   ]
  },
  {
   "cell_type": "code",
   "execution_count": 140,
   "metadata": {
    "collapsed": false
   },
   "outputs": [
    {
     "data": {
      "text/html": [
       "<div>\n",
       "<table border=\"1\" class=\"dataframe\">\n",
       "  <thead>\n",
       "    <tr style=\"text-align: right;\">\n",
       "      <th></th>\n",
       "      <th>kepoi_name</th>\n",
       "      <th>koi_prad</th>\n",
       "      <th>koi_teq</th>\n",
       "      <th>gold_temp</th>\n",
       "      <th>koi_insol</th>\n",
       "      <th>koi_srad</th>\n",
       "      <th>PCA1</th>\n",
       "      <th>PCA2</th>\n",
       "    </tr>\n",
       "  </thead>\n",
       "  <tbody>\n",
       "    <tr>\n",
       "      <th>0</th>\n",
       "      <td>K07621.01</td>\n",
       "      <td>1.86</td>\n",
       "      <td>303.0</td>\n",
       "      <td>Just right</td>\n",
       "      <td>2.00</td>\n",
       "      <td>1.187</td>\n",
       "      <td>-1091.147980</td>\n",
       "      <td>-78.384070</td>\n",
       "    </tr>\n",
       "    <tr>\n",
       "      <th>1</th>\n",
       "      <td>K00958.01</td>\n",
       "      <td>2.53</td>\n",
       "      <td>486.0</td>\n",
       "      <td>Too hot</td>\n",
       "      <td>13.18</td>\n",
       "      <td>0.720</td>\n",
       "      <td>-1075.473488</td>\n",
       "      <td>-77.673375</td>\n",
       "    </tr>\n",
       "    <tr>\n",
       "      <th>2</th>\n",
       "      <td>K00984.01</td>\n",
       "      <td>2.29</td>\n",
       "      <td>942.0</td>\n",
       "      <td>Too hot</td>\n",
       "      <td>186.31</td>\n",
       "      <td>0.815</td>\n",
       "      <td>-891.187338</td>\n",
       "      <td>-77.766368</td>\n",
       "    </tr>\n",
       "    <tr>\n",
       "      <th>3</th>\n",
       "      <td>K04921.01</td>\n",
       "      <td>28.41</td>\n",
       "      <td>1046.0</td>\n",
       "      <td>Too hot</td>\n",
       "      <td>283.07</td>\n",
       "      <td>13.056</td>\n",
       "      <td>-791.908060</td>\n",
       "      <td>-51.593715</td>\n",
       "    </tr>\n",
       "    <tr>\n",
       "      <th>4</th>\n",
       "      <td>K06253.01</td>\n",
       "      <td>1.40</td>\n",
       "      <td>531.0</td>\n",
       "      <td>Too hot</td>\n",
       "      <td>18.86</td>\n",
       "      <td>0.836</td>\n",
       "      <td>-1068.688750</td>\n",
       "      <td>-78.792427</td>\n",
       "    </tr>\n",
       "  </tbody>\n",
       "</table>\n",
       "</div>"
      ],
      "text/plain": [
       "  kepoi_name  koi_prad  koi_teq   gold_temp  koi_insol  koi_srad         PCA1  \\\n",
       "0  K07621.01      1.86    303.0  Just right       2.00     1.187 -1091.147980   \n",
       "1  K00958.01      2.53    486.0     Too hot      13.18     0.720 -1075.473488   \n",
       "2  K00984.01      2.29    942.0     Too hot     186.31     0.815  -891.187338   \n",
       "3  K04921.01     28.41   1046.0     Too hot     283.07    13.056  -791.908060   \n",
       "4  K06253.01      1.40    531.0     Too hot      18.86     0.836 -1068.688750   \n",
       "\n",
       "        PCA2  \n",
       "0 -78.384070  \n",
       "1 -77.673375  \n",
       "2 -77.766368  \n",
       "3 -51.593715  \n",
       "4 -78.792427  "
      ]
     },
     "execution_count": 140,
     "metadata": {},
     "output_type": "execute_result"
    }
   ],
   "source": [
    "new_data.head()"
   ]
  },
  {
   "cell_type": "code",
   "execution_count": 141,
   "metadata": {
    "collapsed": false
   },
   "outputs": [
    {
     "name": "stderr",
     "output_type": "stream",
     "text": [
      "/home/jdowzell/anaconda3/lib/python3.5/site-packages/ipykernel/__main__.py:9: SettingWithCopyWarning: \n",
      "A value is trying to be set on a copy of a slice from a DataFrame.\n",
      "Try using .loc[row_indexer,col_indexer] = value instead\n",
      "\n",
      "See the caveats in the documentation: http://pandas.pydata.org/pandas-docs/stable/indexing.html#indexing-view-versus-copy\n",
      "/home/jdowzell/anaconda3/lib/python3.5/site-packages/ipykernel/__main__.py:10: SettingWithCopyWarning: \n",
      "A value is trying to be set on a copy of a slice from a DataFrame.\n",
      "Try using .loc[row_indexer,col_indexer] = value instead\n",
      "\n",
      "See the caveats in the documentation: http://pandas.pydata.org/pandas-docs/stable/indexing.html#indexing-view-versus-copy\n"
     ]
    },
    {
     "data": {
      "image/png": "[encoded data removed]",
      "text/plain": [
       "<matplotlib.figure.Figure at 0x7f836b15e2b0>"
      ]
     },
     "metadata": {},
     "output_type": "display_data"
    }
   ],
   "source": [
    "%matplotlib inline\n",
    "sb.set()\n",
    "#sb.pairplot(goldilocks_dataset, hue='kepoi_name', height=2.5, diag_kind='hist')\n",
    "from sklearn.decomposition import PCA  # 1. Choose the model class\n",
    "model = PCA(n_components=2)            # 2. Instantiate the model with hyperparameters\n",
    "model.fit(X_gold)                      # 3. Fit to data. Notice y is not specified!\n",
    "X_2D = model.transform(X_gold)         # 4. Transform the data to two dimensions\n",
    "\n",
    "new_data['PCA1'] = X_2D[:, 0]\n",
    "new_data['PCA2'] = X_2D[:, 1]\n",
    "sb.lmplot(\"PCA1\", \"PCA2\", hue='gold_temp', data=new_data, fit_reg=False);"
   ]
  },
  {
   "cell_type": "code",
   "execution_count": 142,
   "metadata": {
    "collapsed": false
   },
   "outputs": [
    {
     "data": {
      "text/plain": [
       "array([[-1091.14797976,   -78.38407008],\n",
       "       [-1075.4734885 ,   -77.67337475],\n",
       "       [ -891.18733766,   -77.76636783],\n",
       "       ...,\n",
       "       [ -989.93372199,   -78.35737253],\n",
       "       [-1084.988583  ,   -78.60377435],\n",
       "       [-1091.88668275,   -78.07728265]])"
      ]
     },
     "execution_count": 142,
     "metadata": {},
     "output_type": "execute_result"
    }
   ],
   "source": [
    "X_2D"
   ]
  },
  {
   "cell_type": "code",
   "execution_count": null,
   "metadata": {
    "collapsed": true
   },
   "outputs": [],
   "source": []
  },
  {
   "cell_type": "code",
   "execution_count": null,
   "metadata": {
    "collapsed": true
   },
   "outputs": [],
   "source": []
  }
 ],
 "metadata": {
  "kernelspec": {
   "display_name": "Python 3",
   "language": "python",
   "name": "python3"
  },
  "language_info": {
   "codemirror_mode": {
    "name": "ipython",
    "version": 3
   },
   "file_extension": ".py",
   "mimetype": "text/x-python",
   "name": "python",
   "nbconvert_exporter": "python",
   "pygments_lexer": "ipython3",
   "version": "3.5.6"
  }
 },
 "nbformat": 4,
 "nbformat_minor": 0
}
