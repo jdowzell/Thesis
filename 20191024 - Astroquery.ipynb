{
 "cells": [
  {
   "cell_type": "code",
   "execution_count": 1,
   "metadata": {
    "deletable": true,
    "editable": true
   },
   "outputs": [],
   "source": [
    "%matplotlib inline\n",
    "from astropy.io import fits\n",
    "import matplotlib.pyplot as plt\n",
    "import numpy as np"
   ]
  },
  {
   "cell_type": "code",
   "execution_count": 2,
   "metadata": {
    "deletable": true,
    "editable": true
   },
   "outputs": [],
   "source": [
    "# Let's import Astroquery\n",
    "from astroquery.mast import Observations"
   ]
  },
  {
   "cell_type": "code",
   "execution_count": 3,
   "metadata": {
    "collapsed": false,
    "deletable": true,
    "editable": true,
    "jupyter": {
     "outputs_hidden": false
    }
   },
   "outputs": [
    {
     "name": "stderr",
     "output_type": "stream",
     "text": [
      "WARNING: InputWarning: Coordinate string is being interpreted as an ICRS coordinate provided in degrees. [astroquery.utils.commons]\n"
     ]
    },
    {
     "name": "stdout",
     "output_type": "stream",
     "text": [
      "intentType obs_collection provenance_name ...    obsid       objID    distance\n",
      "---------- -------------- --------------- ... ----------- ----------- --------\n",
      "   science          SWIFT              -- ... 15000731855 15000288230      0.0\n",
      "   science          SWIFT              -- ... 15000731856 15000722047      0.0\n",
      "   science          SWIFT              -- ... 15000790494 15000436293      0.0\n",
      "   science          SWIFT              -- ... 15000731857 15000288232      0.0\n",
      "   science          SWIFT              -- ... 15000791686 15000501726      0.0\n",
      "   science          SWIFT              -- ... 15000791687 15000501728      0.0\n",
      "   science          SWIFT              -- ... 15000729841 15000278604      0.0\n",
      "   science          SWIFT              -- ... 15000754475 15000373400      0.0\n",
      "   science          SWIFT              -- ... 15000779204 15000455063      0.0\n",
      "   science          SWIFT              -- ... 15000779205 15000455065      0.0\n"
     ]
    }
   ],
   "source": [
    "# From https://astroquery.readthedocs.io/en/latest/mast/mast.html let's acquire some data!\n",
    "obs_table = Observations.query_region(\"322.49324 12.16683\") # confirm what these numbers mean\n",
    "print(obs_table[:10])"
   ]
  },
  {
   "cell_type": "code",
   "execution_count": 4,
   "metadata": {
    "collapsed": false,
    "jupyter": {
     "outputs_hidden": false
    }
   },
   "outputs": [
    {
     "data": {
      "text/plain": [
       "1997"
      ]
     },
     "execution_count": 4,
     "metadata": {},
     "output_type": "execute_result"
    }
   ],
   "source": [
    "len(obs_table)"
   ]
  },
  {
   "cell_type": "markdown",
   "metadata": {
    "deletable": true,
    "editable": true
   },
   "source": [
    "Let's try something with more optional parameters"
   ]
  },
  {
   "cell_type": "code",
   "execution_count": 5,
   "metadata": {
    "collapsed": false,
    "deletable": true,
    "editable": true,
    "jupyter": {
     "outputs_hidden": false
    }
   },
   "outputs": [
    {
     "name": "stdout",
     "output_type": "stream",
     "text": [
      "dataproduct_type calib_level obs_collection ... intentType   obsid      objID   \n",
      "---------------- ----------- -------------- ... ---------- ---------- ----------\n",
      "           image           1            HST ...    science 2003520267 2023816094\n",
      "           image           1            HST ...    science 2003520266 2023816134\n",
      "           image           1            HST ...    science 2003520268 2025756935\n"
     ]
    }
   ],
   "source": [
    "obs_table = Observations.query_criteria(dataproduct_type=[\"image\"],\n",
    "                                        proposal_pi=\"Osten*\",        # Osten* folks did this!\n",
    "                                        s_dec=[43.5,45.5])\n",
    "print(obs_table)"
   ]
  },
  {
   "cell_type": "markdown",
   "metadata": {
    "deletable": true,
    "editable": true
   },
   "source": [
    "Now these values are different from what is given in the above link, perhaps this is because the data is newer or perhaps the guide is out-dated (was written using an older version of Astroquery than I am currently using)"
   ]
  },
  {
   "cell_type": "code",
   "execution_count": null,
   "metadata": {
    "deletable": true,
    "editable": true
   },
   "outputs": [],
   "source": []
  }
 ],
 "metadata": {
  "kernelspec": {
   "display_name": "Python 3",
   "language": "python",
   "name": "python3"
  },
  "language_info": {
   "codemirror_mode": {
    "name": "ipython",
    "version": 3
   },
   "file_extension": ".py",
   "mimetype": "text/x-python",
   "name": "python",
   "nbconvert_exporter": "python",
   "pygments_lexer": "ipython3",
   "version": "3.8.5"
  }
 },
 "nbformat": 4,
 "nbformat_minor": 4
}
