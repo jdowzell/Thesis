{
 "cells": [
  {
   "cell_type": "code",
   "execution_count": 1,
   "metadata": {
    "collapsed": true,
    "jupyter": {
     "outputs_hidden": true
    }
   },
   "outputs": [],
   "source": [
    "# Scientific imports\n",
    "\n",
    "%matplotlib inline\n",
    "from astropy.io import fits\n",
    "import matplotlib.pyplot as plt\n",
    "import numpy as np\n",
    "from astroquery.mast import Observations\n",
    "from astroquery.mast import Catalogs\n",
    "\n",
    "# General imports\n",
    "\n",
    "import csv, math, os, os.path, sys\n",
    "import pandas as pd\n",
    "import seaborn as sb\n",
    "from sklearn import metrics\n",
    "from IPython.display import display\n",
    "\n",
    "sb.set()"
   ]
  },
  {
   "cell_type": "code",
   "execution_count": 2,
   "metadata": {
    "collapsed": true,
    "jupyter": {
     "outputs_hidden": true
    }
   },
   "outputs": [],
   "source": [
    "So we need to check to see if there is _any_ variable including the name \"epoch\" and \"phase\" etc in the headers (be them TEPOCH, KEPOCH, etc)# %load header_check.py\n",
    "def areAllHeadersPresent(heads):\n",
    "    \"\"\"\n",
    "    A function to make sure that all headers required for plotting a Light Curve\n",
    "    are present, and alert the user if any are missing (and which ones).\n",
    "    \n",
    "    Input parameter (heads) should be of the form: heads=fits.getheader(\"file.fits\")\n",
    "    \"\"\"\n",
    "    \n",
    "    # Generic Flag\n",
    "    allgood = True\n",
    "    \n",
    "    # List of needed headers\n",
    "    neededHeaders = ['TEFF', 'LOGG', 'TESSMAG',\n",
    "                     'TPERIOD', 'TDUR', 'TEPOCH', 'TDEPTH',\n",
    "                     'TIME', 'PHASE', 'LC_INIT', 'MODEL_INIT']\n",
    "    \n",
    "    # Loop through all headers and see if they are present using a Try/Except block\n",
    "    for i in range (len(neededHeaders)):\n",
    "        try:\n",
    "            heads[neededHeaders[i]]\n",
    "        except:\n",
    "            print(\"Header {} not present!\".format(neededHeaders[i]))\n",
    "            allgood = False\n",
    "        #else:\n",
    "        #    print(\"{}: {}\".format(neededHeaders[i], heads[neededHeaders[i]]))\n",
    "    return allgood\n"
   ]
  },
  {
   "cell_type": "code",
   "execution_count": 3,
   "metadata": {},
   "outputs": [
    {
     "name": "stdout",
     "output_type": "stream",
     "text": [
      "Number of FITS files: 28\n"
     ]
    }
   ],
   "source": [
    "# Reading which LC datafiles we have into a list\n",
    "\n",
    "fitsList = []\n",
    "fits_directories = [x[0] for x in os.walk('.')]\n",
    "\n",
    "for fits_root, fits_dirs, fits_files in os.walk('.'):\n",
    "    for fits_file in fits_files:\n",
    "        fullpath = os.path.join(fits_root, fits_file)\n",
    "        if (os.path.splitext(fullpath.lower())[1]).endswith('.fits'):\n",
    "            fitsList.append(fullpath)\n",
    "print(\"Number of FITS files: {}\".format(len(fitsList)))"
   ]
  },
  {
   "cell_type": "markdown",
   "metadata": {},
   "source": [
    "This says 28 files, where in my last notebook it said 27. The reason for this was because I decided to manually download the FITS file used in [This Notebook](./20191012%20-%20Light%20Curve%20Tutorial%201.ipynb) and run my checking program on it, as I *know* that it has the correct parameters"
   ]
  },
  {
   "cell_type": "code",
   "execution_count": 4,
   "metadata": {},
   "outputs": [],
   "source": [
    "# This is the one we downloaded\n",
    "# fits.getheader(fitsList[1])"
   ]
  },
  {
   "cell_type": "code",
   "execution_count": 5,
   "metadata": {},
   "outputs": [
    {
     "name": "stdout",
     "output_type": "stream",
     "text": [
      "Header TPERIOD not present!\n",
      "Header TDUR not present!\n",
      "Header TEPOCH not present!\n",
      "Header TDEPTH not present!\n",
      "Header TIME not present!\n",
      "Header PHASE not present!\n",
      "Header LC_INIT not present!\n",
      "Header MODEL_INIT not present!\n"
     ]
    },
    {
     "data": {
      "text/plain": [
       "False"
      ]
     },
     "execution_count": 5,
     "metadata": {},
     "output_type": "execute_result"
    }
   ],
   "source": [
    "areAllHeadersPresent(fits.getheader(fitsList[1]))"
   ]
  },
  {
   "cell_type": "markdown",
   "metadata": {},
   "source": [
    "So, obviously, this is wrong, and as such my checking function is incorrect! Time to work out why, and how to fix it."
   ]
  },
  {
   "cell_type": "code",
   "execution_count": 6,
   "metadata": {},
   "outputs": [
    {
     "data": {
      "text/plain": [
       "ColDefs(\n",
       "    name = 'TIME'; format = 'D'; unit = 'BJD - 2457000, days'; disp = 'D14.7'\n",
       "    name = 'TIMECORR'; format = 'E'; unit = 'd'; disp = 'E14.7'\n",
       "    name = 'CADENCENO'; format = 'J'; disp = 'I10'\n",
       "    name = 'PHASE'; format = 'E'; unit = 'days'; disp = 'E14.7'\n",
       "    name = 'LC_INIT'; format = 'E'; unit = 'dimensionless'; disp = 'E14.7'\n",
       "    name = 'LC_INIT_ERR'; format = 'E'; unit = 'dimensionless'; disp = 'E14.7'\n",
       "    name = 'LC_WHITE'; format = 'E'; unit = 'dimensionless'; disp = 'E14.7'\n",
       "    name = 'LC_DETREND'; format = 'E'; unit = 'dimensionless'; disp = 'E14.7'\n",
       "    name = 'MODEL_INIT'; format = 'E'; unit = 'dimensionless'; disp = 'E14.7'\n",
       "    name = 'MODEL_WHITE'; format = 'E'; unit = 'dimensionless'; disp = 'E14.7'\n",
       ")"
      ]
     },
     "execution_count": 6,
     "metadata": {},
     "output_type": "execute_result"
    }
   ],
   "source": [
    "fits.getdata(fitsList[1]).columns"
   ]
  },
  {
   "cell_type": "markdown",
   "metadata": {},
   "source": [
    "So we can see that `fits.getheader(<file.fits>)` and `fits.getdata(<file.fits>).columns` give different header information, and both need to be checked to confirm the presence of these required(?) headers"
   ]
  },
  {
   "cell_type": "code",
   "execution_count": 7,
   "metadata": {},
   "outputs": [
    {
     "data": {
      "text/plain": [
       "SIMPLE  =                    T / conforms to FITS standards                     \n",
       "BITPIX  =                    8 / array data type                                \n",
       "NAXIS   =                    0 / number of array dimensions                     \n",
       "EXTEND  =                    T / file contains extensions                       \n",
       "NEXTEND =                    4 / number of standard extensions                  \n",
       "EXTNAME = 'PRIMARY '           / name of extension                              \n",
       "EXTVER  =                    1 / extension version number (not format version)  \n",
       "SIMDATA =                    F / file is based on simulated data                \n",
       "ORIGIN  = 'NASA/Ames'          / institution responsible for creating this file \n",
       "DATE    = '2018-10-06'         / file creation date.                            \n",
       "TSTART  =    1354.105280000743 / observation start time in TJD                  \n",
       "TSTOP   =    1381.518180460247 / observation stop time in TJD                   \n",
       "DATE-OBS= '2018-08-23T14:30:27.008Z' / TSTART as UTC calendar date              \n",
       "DATE-END= '2018-09-20T00:25:01.608Z' / TSTOP as UTC calendar date               \n",
       "CREATOR = '4764 DvTimeSeriesExporter' / pipeline job and program used to produce\n",
       "PROCVER = '813f8ecb93'         / SW version                                     \n",
       "FILEVER = '1.0     '           / file format version                            \n",
       "TIMVERSN= 'OGIP/93-003'        / OGIP memo number for file format               \n",
       "TELESCOP= 'TESS    '           / telescope                                      \n",
       "INSTRUME= 'TESS Photometer'    / detector type                                  \n",
       "DATA_REL=                    2 / data release version number                    \n",
       "OBJECT  = 'TIC 100100827'      / string version of target id                    \n",
       "TICID   =            100100827 / unique tess target identifier                  \n",
       "SECTOR  =                    2 / Observing sector                               \n",
       "PXTABLE =                  129 / pixel table id                                 \n",
       "RESFILE = 'tess2018234235059-s0002-s0002-0000000100100827-00109_dvt.fits.gz' / c\n",
       "DVVERSN = 'spoc-3.3.37-20181001' / DV Subversion revision number                \n",
       "NUMTCES =                    2 / number of TCEs found                           \n",
       "SECTORS = '001     '           / bit-vector string of 17 0/1 chars              \n",
       "RADESYS = 'ICRS    '           / reference frame of celestial coordinates       \n",
       "RA_OBJ  =  24.3543140000000000 / [deg] right ascension                          \n",
       "DEC_OBJ = -45.6778960000000000 / [deg] declination                              \n",
       "EQUINOX =               2000.0 / equinox of celestial coordinate system         \n",
       "PMRA    =          25.46350000 / [mas/yr] RA proper motion                      \n",
       "PMDEC   =          20.39090000 / [mas/yr] Dec proper motion                     \n",
       "PMTOTAL =          32.62175095 / [mas/yr] total proper motion                   \n",
       "TESSMAG =           8.83300018 / [mag] TESS magnitude                           \n",
       "TEFF    =        6400.00000000 / [K] Effective temperature                      \n",
       "LOGG    =           4.36582994 / [cm/s2] log10 surface gravity                  \n",
       "MH      =           0.10000000 / [log10([M/H])] metallicity                     \n",
       "RADIUS  =           1.23000002 / [solar radii] stellar radius                   \n",
       "TICVER  =                    7 / TICVER                                         \n",
       "CHECKSUM= 'jhCgle9ZjeAdje9Z'   / HDU checksum updated 2018-10-06T18:26:20Z      "
      ]
     },
     "execution_count": 7,
     "metadata": {},
     "output_type": "execute_result"
    }
   ],
   "source": [
    "X = fitsList[1]\n",
    "fits.getdata(X).columns\n",
    "fits.getheader(X)"
   ]
  },
  {
   "cell_type": "code",
   "execution_count": 8,
   "metadata": {},
   "outputs": [
    {
     "name": "stdout",
     "output_type": "stream",
     "text": [
      "[<astropy.io.fits.hdu.image.PrimaryHDU object at 0x7fce21653668>, <astropy.io.fits.hdu.table.BinTableHDU object at 0x7fce2164e5c0>, <astropy.io.fits.hdu.table.BinTableHDU object at 0x7fce21649cc0>, <astropy.io.fits.hdu.table.BinTableHDU object at 0x7fce216752b0>]\n"
     ]
    }
   ],
   "source": [
    "with fits.open(fitsList[1], mode=\"readonly\") as hdulist:\n",
    "    \n",
    "    print(hdulist)\n",
    "    \n",
    "    # Extract stellar parameters from the primary header.  We'll get the effective temperature, surface gravity,\n",
    "    # and TESS magnitude.\n",
    "    star_teff = hdulist[0].header['TEFF']\n",
    "    star_logg = hdulist[0].header['LOGG']\n",
    "    star_tmag = hdulist[0].header['TESSMAG']\n",
    "    \n",
    "    # Extract some of the fit parameters for the first TCE.  These are stored in the FITS header of the first\n",
    "    # extension.\n",
    "    period = hdulist[1].header['TPERIOD']\n",
    "    duration = hdulist[1].header['TDUR']\n",
    "    epoch = hdulist[1].header['TEPOCH']\n",
    "    depth = hdulist[1].header['TDEPTH']\n",
    "    \n",
    "    # Extract some of the columns of interest for the first TCE signal.  These are stored in the binary FITS table\n",
    "    # in the first extension.  We'll extract the timestamps in TBJD, phase, initial fluxes, and corresponding\n",
    "    # model fluxes.\n",
    "    times = hdulist[1].data['TIME']\n",
    "    phases = hdulist[1].data['PHASE']\n",
    "    fluxes_init = hdulist[1].data['LC_INIT']\n",
    "    model_fluxes_init = hdulist[1].data['MODEL_INIT']"
   ]
  },
  {
   "cell_type": "markdown",
   "metadata": {},
   "source": [
    "- `fits.getheader(f, ext=0)` gives us our Stellar Parameters (so, in the above code, `hdulist[0].header['XXXX']`)\n",
    "- `fits.getheader(f, ext=1)` gives us our Fit Paramters (so, in the above code, `hdulist[1].header['XXXX']`)\n",
    "- `fits.getdata(f).columns` gives us our Fit Values (so, in the above code, `hdulist[1].data['XXXX']`)"
   ]
  },
  {
   "cell_type": "code",
   "execution_count": 11,
   "metadata": {
    "collapsed": true,
    "jupyter": {
     "outputs_hidden": true
    }
   },
   "outputs": [],
   "source": [
    "So we need to check to see if there is _any_ variable including the name \"epoch\" and \"phase\" etc in the headers (be them TEPOCH, KEPOCH, etc)# %load data-header-check.py\n",
    "def dataAndHeaderCheck(f, log=False):\n",
    "    \"\"\"\n",
    "    A function to make sure that all headers required for plotting a Light Curve\n",
    "    are present, and alert the user if any are missing (and which ones).\n",
    "    \n",
    "    Input parameter (f) should be a path to a FITS file (local, cloud, etc)\n",
    "    Input parameter (log) displays the printouts IFF set to True\n",
    "    \"\"\"\n",
    "    \n",
    "    # Flags\n",
    "    allStellar = True\n",
    "    allFitPara = True\n",
    "    allFitData = True\n",
    "    \n",
    "    # List of needed headers\n",
    "    stellar_params = ['TEFF', 'LOGG', 'TESSMAG']\n",
    "    \n",
    "    fit_params = ['TPERIOD', 'TDUR', 'TEPOCH', 'TDEPTH']\n",
    "    \n",
    "    fit_data = ['TIME', 'PHASE', 'LC_INIT', 'MODEL_INIT']\n",
    "    \n",
    "    # FITS Headers\n",
    "    fh0 = fits.getheader(f, ext=0)\n",
    "    fh1 = fits.getheader(f, ext=1)\n",
    "    \n",
    "    # FITS Columns\n",
    "    fc = fits.getdata(f).columns\n",
    "    \n",
    "    # Loop through all headers and see if they are present using a Try/Except block\n",
    "    if(log):\n",
    "        print(\"Testing to see if all relevant information is present...\")\n",
    "    \n",
    "    # First, the Stellar Parameters block\n",
    "    for i in range (len(stellar_params)):\n",
    "        try:\n",
    "            fh0[stellar_params[i]]\n",
    "        except:\n",
    "            if(log):\n",
    "                print(\"\\tHeader {} not present!\".format(stellar_params[i]))\n",
    "            allStellar = False\n",
    "    if(allStellar & log):\n",
    "        print(\"\\tAll Stellar Parameters present\")\n",
    "    \n",
    "    # Next, the Fit Parameters block\n",
    "    for i in range (len(fit_params)):\n",
    "        try:\n",
    "            fh1[fit_params[i]]\n",
    "        except:\n",
    "            if(log):\n",
    "                print(\"\\tFit Parameter {} not present!\".format(fit_params[i]))\n",
    "            allFitPara = False\n",
    "    if(allFitPara & log):\n",
    "        print(\"\\tAll Fit Parameters present\")\n",
    "            \n",
    "    # Lastly, the Fit Data block\n",
    "    for i in range (len(fit_data)):\n",
    "        try:\n",
    "            fc[fit_data[i]]\n",
    "        except:\n",
    "            if(log):\n",
    "                print(\"\\tFit Data {} not present!\".format(fit_data[i]))\n",
    "            allFitData = False\n",
    "    if(allFitData & log):\n",
    "        print(\"\\tAll Fit Data present\")\n",
    "        \n",
    "    #allgood = (allStellar & allFitPara & allFitData)\n",
    "    return (allStellar & allFitPara & allFitData)\n"
   ]
  },
  {
   "cell_type": "code",
   "execution_count": 12,
   "metadata": {},
   "outputs": [
    {
     "data": {
      "text/plain": [
       "True"
      ]
     },
     "execution_count": 12,
     "metadata": {},
     "output_type": "execute_result"
    }
   ],
   "source": [
    "dataAndHeaderCheck(X)"
   ]
  },
  {
   "cell_type": "markdown",
   "metadata": {},
   "source": [
    "Ah-ha! Now we have a function that works! Let's see if any of the other files have missing info!\n",
    "\n",
    "(I suspect some will, for reasons mentioned before, such as \"**T**EPOCH\" being for a TESS mission)"
   ]
  },
  {
   "cell_type": "code",
   "execution_count": 13,
   "metadata": {},
   "outputs": [
    {
     "name": "stdout",
     "output_type": "stream",
     "text": [
      "Testing to see if all relevant information is present...\n",
      "\tHeader TESSMAG not present!\n",
      "\tFit Parameter TPERIOD not present!\n",
      "\tFit Parameter TDUR not present!\n",
      "\tFit Parameter TEPOCH not present!\n",
      "\tFit Parameter TDEPTH not present!\n",
      "\tFit Data PHASE not present!\n",
      "\tFit Data LC_INIT not present!\n",
      "\tFit Data MODEL_INIT not present!\n",
      "0:   False\n",
      "Testing to see if all relevant information is present...\n",
      "\tAll Stellar Parameters present\n",
      "\tAll Fit Parameters present\n",
      "\tAll Fit Data present\n",
      "1:   True\n",
      "Testing to see if all relevant information is present...\n",
      "\tHeader TEFF not present!\n",
      "\tHeader LOGG not present!\n",
      "\tHeader TESSMAG not present!\n",
      "\tFit Parameter TPERIOD not present!\n",
      "\tFit Parameter TDUR not present!\n",
      "\tFit Parameter TEPOCH not present!\n",
      "\tFit Parameter TDEPTH not present!\n",
      "\tFit Data TIME not present!\n",
      "\tFit Data PHASE not present!\n",
      "\tFit Data LC_INIT not present!\n",
      "\tFit Data MODEL_INIT not present!\n",
      "2:   False\n",
      "Testing to see if all relevant information is present...\n",
      "\tAll Stellar Parameters present\n",
      "\tFit Parameter TPERIOD not present!\n",
      "\tFit Parameter TDUR not present!\n",
      "\tFit Parameter TEPOCH not present!\n",
      "\tFit Parameter TDEPTH not present!\n",
      "\tFit Data PHASE not present!\n",
      "\tFit Data LC_INIT not present!\n",
      "\tFit Data MODEL_INIT not present!\n",
      "3:   False\n",
      "Testing to see if all relevant information is present...\n",
      "\tAll Stellar Parameters present\n",
      "\tFit Parameter TPERIOD not present!\n",
      "\tFit Parameter TDUR not present!\n",
      "\tFit Parameter TEPOCH not present!\n",
      "\tFit Parameter TDEPTH not present!\n",
      "\tFit Data PHASE not present!\n",
      "\tFit Data LC_INIT not present!\n",
      "\tFit Data MODEL_INIT not present!\n",
      "4:   False\n",
      "Testing to see if all relevant information is present...\n",
      "\tAll Stellar Parameters present\n",
      "\tFit Parameter TPERIOD not present!\n",
      "\tFit Parameter TDUR not present!\n",
      "\tFit Parameter TEPOCH not present!\n",
      "\tFit Parameter TDEPTH not present!\n",
      "\tFit Data PHASE not present!\n",
      "\tFit Data LC_INIT not present!\n",
      "\tFit Data MODEL_INIT not present!\n",
      "5:   False\n",
      "Testing to see if all relevant information is present...\n",
      "\tAll Stellar Parameters present\n",
      "\tFit Parameter TPERIOD not present!\n",
      "\tFit Parameter TDUR not present!\n",
      "\tFit Parameter TEPOCH not present!\n",
      "\tFit Parameter TDEPTH not present!\n",
      "\tFit Data PHASE not present!\n",
      "\tFit Data LC_INIT not present!\n",
      "\tFit Data MODEL_INIT not present!\n",
      "6:   False\n",
      "Testing to see if all relevant information is present...\n",
      "\tAll Stellar Parameters present\n",
      "\tAll Fit Parameters present\n",
      "\tAll Fit Data present\n",
      "7:   True\n",
      "Testing to see if all relevant information is present...\n",
      "\tAll Stellar Parameters present\n",
      "\tFit Parameter TPERIOD not present!\n",
      "\tFit Parameter TDUR not present!\n",
      "\tFit Parameter TEPOCH not present!\n",
      "\tFit Parameter TDEPTH not present!\n",
      "\tFit Data PHASE not present!\n",
      "\tFit Data LC_INIT not present!\n",
      "\tFit Data MODEL_INIT not present!\n",
      "8:   False\n",
      "Testing to see if all relevant information is present...\n",
      "\tAll Stellar Parameters present\n",
      "\tFit Parameter TPERIOD not present!\n",
      "\tFit Parameter TDUR not present!\n",
      "\tFit Parameter TEPOCH not present!\n",
      "\tFit Parameter TDEPTH not present!\n",
      "\tFit Data PHASE not present!\n",
      "\tFit Data LC_INIT not present!\n",
      "\tFit Data MODEL_INIT not present!\n",
      "9:   False\n",
      "Testing to see if all relevant information is present...\n",
      "\tAll Stellar Parameters present\n",
      "\tFit Parameter TPERIOD not present!\n",
      "\tFit Parameter TDUR not present!\n",
      "\tFit Parameter TEPOCH not present!\n",
      "\tFit Parameter TDEPTH not present!\n",
      "\tFit Data PHASE not present!\n",
      "\tFit Data LC_INIT not present!\n",
      "\tFit Data MODEL_INIT not present!\n",
      "10:   False\n",
      "Testing to see if all relevant information is present...\n",
      "\tAll Stellar Parameters present\n",
      "\tFit Parameter TPERIOD not present!\n",
      "\tFit Parameter TDUR not present!\n",
      "\tFit Parameter TEPOCH not present!\n",
      "\tFit Parameter TDEPTH not present!\n",
      "\tFit Data PHASE not present!\n",
      "\tFit Data LC_INIT not present!\n",
      "\tFit Data MODEL_INIT not present!\n",
      "11:   False\n",
      "Testing to see if all relevant information is present...\n",
      "\tAll Stellar Parameters present\n",
      "\tFit Parameter TPERIOD not present!\n",
      "\tFit Parameter TDUR not present!\n",
      "\tFit Parameter TEPOCH not present!\n",
      "\tFit Parameter TDEPTH not present!\n",
      "\tFit Data PHASE not present!\n",
      "\tFit Data LC_INIT not present!\n",
      "\tFit Data MODEL_INIT not present!\n",
      "12:   False\n",
      "Testing to see if all relevant information is present...\n",
      "\tAll Stellar Parameters present\n",
      "\tFit Parameter TPERIOD not present!\n",
      "\tFit Parameter TDUR not present!\n",
      "\tFit Parameter TEPOCH not present!\n",
      "\tFit Parameter TDEPTH not present!\n",
      "\tFit Data PHASE not present!\n",
      "\tFit Data LC_INIT not present!\n",
      "\tFit Data MODEL_INIT not present!\n",
      "13:   False\n",
      "Testing to see if all relevant information is present...\n",
      "\tAll Stellar Parameters present\n",
      "\tFit Parameter TPERIOD not present!\n",
      "\tFit Parameter TDUR not present!\n",
      "\tFit Parameter TEPOCH not present!\n",
      "\tFit Parameter TDEPTH not present!\n",
      "\tFit Data PHASE not present!\n",
      "\tFit Data LC_INIT not present!\n",
      "\tFit Data MODEL_INIT not present!\n",
      "14:   False\n",
      "Testing to see if all relevant information is present...\n",
      "\tAll Stellar Parameters present\n",
      "\tFit Parameter TPERIOD not present!\n",
      "\tFit Parameter TDUR not present!\n",
      "\tFit Parameter TEPOCH not present!\n",
      "\tFit Parameter TDEPTH not present!\n",
      "\tFit Data PHASE not present!\n",
      "\tFit Data LC_INIT not present!\n",
      "\tFit Data MODEL_INIT not present!\n",
      "15:   False\n",
      "Testing to see if all relevant information is present...\n",
      "\tAll Stellar Parameters present\n",
      "\tFit Parameter TPERIOD not present!\n",
      "\tFit Parameter TDUR not present!\n",
      "\tFit Parameter TEPOCH not present!\n",
      "\tFit Parameter TDEPTH not present!\n",
      "\tFit Data PHASE not present!\n",
      "\tFit Data LC_INIT not present!\n",
      "\tFit Data MODEL_INIT not present!\n",
      "16:   False\n",
      "Testing to see if all relevant information is present...\n",
      "\tAll Stellar Parameters present\n",
      "\tAll Fit Parameters present\n",
      "\tAll Fit Data present\n",
      "17:   True\n",
      "Testing to see if all relevant information is present...\n",
      "\tAll Stellar Parameters present\n",
      "\tFit Parameter TPERIOD not present!\n",
      "\tFit Parameter TDUR not present!\n",
      "\tFit Parameter TEPOCH not present!\n",
      "\tFit Parameter TDEPTH not present!\n",
      "\tFit Data PHASE not present!\n",
      "\tFit Data LC_INIT not present!\n",
      "\tFit Data MODEL_INIT not present!\n",
      "18:   False\n",
      "Testing to see if all relevant information is present...\n",
      "\tAll Stellar Parameters present\n",
      "\tFit Parameter TPERIOD not present!\n",
      "\tFit Parameter TDUR not present!\n",
      "\tFit Parameter TEPOCH not present!\n",
      "\tFit Parameter TDEPTH not present!\n",
      "\tFit Data PHASE not present!\n",
      "\tFit Data LC_INIT not present!\n",
      "\tFit Data MODEL_INIT not present!\n",
      "19:   False\n",
      "Testing to see if all relevant information is present...\n",
      "\tAll Stellar Parameters present\n",
      "\tFit Parameter TPERIOD not present!\n",
      "\tFit Parameter TDUR not present!\n",
      "\tFit Parameter TEPOCH not present!\n",
      "\tFit Parameter TDEPTH not present!\n",
      "\tFit Data PHASE not present!\n",
      "\tFit Data LC_INIT not present!\n",
      "\tFit Data MODEL_INIT not present!\n",
      "20:   False\n",
      "Testing to see if all relevant information is present...\n",
      "\tAll Stellar Parameters present\n",
      "\tFit Parameter TPERIOD not present!\n",
      "\tFit Parameter TDUR not present!\n",
      "\tFit Parameter TEPOCH not present!\n",
      "\tFit Parameter TDEPTH not present!\n",
      "\tFit Data PHASE not present!\n",
      "\tFit Data LC_INIT not present!\n",
      "\tFit Data MODEL_INIT not present!\n",
      "21:   False\n",
      "Testing to see if all relevant information is present...\n",
      "\tAll Stellar Parameters present\n",
      "\tFit Parameter TPERIOD not present!\n",
      "\tFit Parameter TDUR not present!\n",
      "\tFit Parameter TEPOCH not present!\n",
      "\tFit Parameter TDEPTH not present!\n",
      "\tFit Data PHASE not present!\n",
      "\tFit Data LC_INIT not present!\n",
      "\tFit Data MODEL_INIT not present!\n",
      "22:   False\n",
      "Testing to see if all relevant information is present...\n",
      "\tAll Stellar Parameters present\n",
      "\tFit Parameter TPERIOD not present!\n",
      "\tFit Parameter TDUR not present!\n",
      "\tFit Parameter TEPOCH not present!\n",
      "\tFit Parameter TDEPTH not present!\n",
      "\tFit Data PHASE not present!\n",
      "\tFit Data LC_INIT not present!\n",
      "\tFit Data MODEL_INIT not present!\n",
      "23:   False\n",
      "Testing to see if all relevant information is present...\n",
      "\tAll Stellar Parameters present\n",
      "\tAll Fit Parameters present\n",
      "\tAll Fit Data present\n",
      "24:   True\n",
      "Testing to see if all relevant information is present...\n",
      "\tAll Stellar Parameters present\n",
      "\tFit Parameter TPERIOD not present!\n",
      "\tFit Parameter TDUR not present!\n",
      "\tFit Parameter TEPOCH not present!\n",
      "\tFit Parameter TDEPTH not present!\n",
      "\tFit Data PHASE not present!\n",
      "\tFit Data LC_INIT not present!\n",
      "\tFit Data MODEL_INIT not present!\n",
      "25:   False\n",
      "Testing to see if all relevant information is present...\n",
      "\tAll Stellar Parameters present\n",
      "\tFit Parameter TPERIOD not present!\n",
      "\tFit Parameter TDUR not present!\n",
      "\tFit Parameter TEPOCH not present!\n",
      "\tFit Parameter TDEPTH not present!\n",
      "\tFit Data PHASE not present!\n",
      "\tFit Data LC_INIT not present!\n",
      "\tFit Data MODEL_INIT not present!\n",
      "26:   False\n",
      "Testing to see if all relevant information is present...\n",
      "\tAll Stellar Parameters present\n",
      "\tFit Parameter TPERIOD not present!\n",
      "\tFit Parameter TDUR not present!\n",
      "\tFit Parameter TEPOCH not present!\n",
      "\tFit Parameter TDEPTH not present!\n",
      "\tFit Data PHASE not present!\n",
      "\tFit Data LC_INIT not present!\n",
      "\tFit Data MODEL_INIT not present!\n",
      "27:   False\n"
     ]
    }
   ],
   "source": [
    "for i in range(len(fitsList)):\n",
    "    #tmp = fits.getheader(fitsList[i])\n",
    "    print(\"{}:   {}\".format(i, dataAndHeaderCheck(fitsList[i], True)))"
   ]
  },
  {
   "cell_type": "markdown",
   "metadata": {},
   "source": [
    "What I want to do now is to change the above function to make sure that it can identify ANY parameter that ends in \"EPOCH\" or \"PERIOD\" or \"DUR\", etc, to make sure I find all parameters regardless of what mission found them (Kepler = KEPOCH, KPERIOD, etc)"
   ]
  },
  {
   "cell_type": "markdown",
   "metadata": {},
   "source": [
    "_Alternatively_, I could _only_ look for missions performed by the TESS for now, and expand later on. That sounds like a good idea to me, otherwise I might end up stuck on this one step for ages."
   ]
  },
  {
   "cell_type": "code",
   "execution_count": null,
   "metadata": {
    "collapsed": true,
    "jupyter": {
     "outputs_hidden": true
    }
   },
   "outputs": [],
   "source": []
  }
 ],
 "metadata": {
  "kernelspec": {
   "display_name": "Python 3",
   "language": "python",
   "name": "python3"
  },
  "language_info": {
   "codemirror_mode": {
    "name": "ipython",
    "version": 3
   },
   "file_extension": ".py",
   "mimetype": "text/x-python",
   "name": "python",
   "nbconvert_exporter": "python",
   "pygments_lexer": "ipython3",
   "version": "3.8.8"
  }
 },
 "nbformat": 4,
 "nbformat_minor": 4
}
